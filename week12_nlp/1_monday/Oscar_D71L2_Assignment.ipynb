{
  "nbformat": 4,
  "nbformat_minor": 0,
  "metadata": {
    "kernelspec": {
      "display_name": "Python 3",
      "language": "python",
      "name": "python3"
    },
    "language_info": {
      "codemirror_mode": {
        "name": "ipython",
        "version": 3
      },
      "file_extension": ".py",
      "mimetype": "text/x-python",
      "name": "python",
      "nbconvert_exporter": "python",
      "pygments_lexer": "ipython3",
      "version": "3.7.2"
    },
    "colab": {
      "name": "Oscar_D71L2_Assignment.ipynb",
      "provenance": []
    }
  },
  "cells": [
    {
      "cell_type": "markdown",
      "metadata": {
        "id": "IihPCGvd34PH"
      },
      "source": [
        "# Text Acquisition & Ingestion Assignment"
      ]
    },
    {
      "cell_type": "code",
      "metadata": {
        "colab": {
          "base_uri": "https://localhost:8080/"
        },
        "id": "289CwgovChhX",
        "outputId": "ceb366ab-8bc3-4a19-a5e7-cfde11a65e68"
      },
      "source": [
        "from google.colab import drive\n",
        "drive.mount('/content/drive')"
      ],
      "execution_count": 1,
      "outputs": [
        {
          "output_type": "stream",
          "text": [
            "Drive already mounted at /content/drive; to attempt to forcibly remount, call drive.mount(\"/content/drive\", force_remount=True).\n"
          ],
          "name": "stdout"
        }
      ]
    },
    {
      "cell_type": "code",
      "metadata": {
        "colab": {
          "base_uri": "https://localhost:8080/"
        },
        "id": "PpDfBLFAs_XF",
        "outputId": "956d274f-2de7-401d-a87b-dbf1d7e27acb"
      },
      "source": [
        "!pip install feedparser"
      ],
      "execution_count": 2,
      "outputs": [
        {
          "output_type": "stream",
          "text": [
            "Requirement already satisfied: feedparser in /usr/local/lib/python3.6/dist-packages (6.0.2)\n",
            "Requirement already satisfied: sgmllib3k in /usr/local/lib/python3.6/dist-packages (from feedparser) (1.0.0)\n"
          ],
          "name": "stdout"
        }
      ]
    },
    {
      "cell_type": "code",
      "metadata": {
        "id": "DhLA_w7p34PM"
      },
      "source": [
        "import json\n",
        "import requests\n",
        "import feedparser\n",
        "from bs4 import BeautifulSoup"
      ],
      "execution_count": 3,
      "outputs": []
    },
    {
      "cell_type": "markdown",
      "metadata": {
        "id": "lZ3ytdXA34PR"
      },
      "source": [
        "### Iterate through the list of article URLs below, scraping the text from each one and saving it to a text file. "
      ]
    },
    {
      "cell_type": "code",
      "metadata": {
        "id": "mDbZqPpT34PU"
      },
      "source": [
        "articles = ['http://lite.cnn.io/en/article/h_eac18760a7a7f9a1bf33616f1c4a336d',\n",
        "            'http://lite.cnn.io/en/article/h_de3f82f17d289680dd2b47c6413ebe7c',\n",
        "            'http://lite.cnn.io/en/article/h_72f4dc9d6f35458a89af014b62e625ad',\n",
        "            'http://lite.cnn.io/en/article/h_aa21fe6bf176071cb49e09d422c3adf0',\n",
        "            'http://lite.cnn.io/en/article/h_8ad34a532921c9076cdc9d7390d2f1bc',\n",
        "            'http://lite.cnn.io/en/article/h_84422c79110d9989177cfaf1c5f45fe7',\n",
        "            'http://lite.cnn.io/en/article/h_d010d9580abac3a44c6181ec6fb63d58',\n",
        "            'http://lite.cnn.io/en/article/h_fb11f4e9d7c5323e75b337d9e9e5e368',\n",
        "            'http://lite.cnn.io/en/article/h_7b27f0b131067f8ece6238ac559670ab',\n",
        "            'http://lite.cnn.io/en/article/h_8cae7f735fa9573d470f802063ceffe2',\n",
        "            'http://lite.cnn.io/en/article/h_72c3668280e82576fcc2602b0fa70c14',\n",
        "            'http://lite.cnn.io/en/article/h_d20658fb0e20212051cda0e0a7248c8a',\n",
        "            'http://lite.cnn.io/en/article/h_56611c43d7928120d2ae21666ccc7417',\n",
        "            'http://lite.cnn.io/en/article/h_bda0394e3c5ee7054ee65c022bca7695']"
      ],
      "execution_count": 4,
      "outputs": []
    },
    {
      "cell_type": "code",
      "metadata": {
        "id": "Mt603efG8w-u"
      },
      "source": [
        ""
      ],
      "execution_count": 4,
      "outputs": []
    },
    {
      "cell_type": "code",
      "metadata": {
        "colab": {
          "base_uri": "https://localhost:8080/"
        },
        "id": "hSLusiED0voG",
        "outputId": "44319017-8a85-416d-effd-acd9bb1cc0b5"
      },
      "source": [
        "posts = []\n",
        "\n",
        "for article in articles:\n",
        "  response = requests.get(article)\n",
        "  content = response.text\n",
        "  soup = BeautifulSoup(content)\n",
        "  posts.append(soup.find('div', {'class': 'afe4286c'}).get_text())\n",
        "\n",
        "print(posts)\n",
        "\n"
      ],
      "execution_count": 5,
      "outputs": [
        {
          "output_type": "stream",
          "text": [
            "['Pink taking a break to focus on familyUpdated 10:18 AM ET, Thu November 14, 2019(CNN) - Pink has been working pretty hard and it sounds like she will be taking a step back in 2020.Speaking with \"Entertainment Tonight\" on the Country Music Association Awards red carpet, the singer was joined by her husband, Carey Hart, and their kids Willow, 8, and Jameson, 2.Pink was there to perform her song \"Love Me Anyway\" with country star Chris Stapleton, and she  talked about how hectic things have been. \"We did two and a half years of [music] and Willow\\'s back in school now, Jameson\\'s going to start pre-school soon,\" Pink said. \"It\\'s kind of the year of the family.\"The star also praised her husband, with whom she will celebrate 14 years of marriage in January.\"Carey has a lot going on as well,\" she said of Hart, who went from being a professional motocross competitor to racing off-road trucks. \"He\\'s super supportive, he follows me around the world and now it\\'s his turn.\"According to Billboard, Pink\\'s Beautiful Trauma Tour ranks as the 10th highest-grossing tour of all time, earning more than $397 million. ', 'Deval Patrick tells allies he\\'s running for presidentUpdated 11:06 PM ET, Wed November 13, 2019(CNN) - Former Massachusetts Gov. Deval Patrick told friends and allies in phone calls on Wednesday that he has made a decision to run for president, two people familiar with the matter say.Plans for the timing of his formal announcement were still in flux Wednesday, with attention on impeachment, but a source familiar with the plans tells CNN that Patrick will officially file for the New Hampshire primary on Thursday in Concord after he appears on \"CBS This Morning.\"The odds could be incredibly steep for a late entrant like Patrick, who is not well known nationally and does not have personal wealth to finance a campaign. Patrick has missed the deadline to appear on the primary ballot in Alabama and Arkansas. The deadline to file in New Hampshire is Friday.Patrick could seize upon potential advantages in early-voting states: He is from Massachusetts, which is next door to New Hampshire, home of the first-in-the-nation primary. And being one of the country\\'s first African American governors could be politically beneficial in South Carolina, where a majority of Democratic primary voters are black.CNN reported on Monday that Patrick was seriously weighing whether he could make a credible last-minute entry into the Democratic Party\\'s crowded primary contest after previously ruling out a bid late last year.The conversations began before former New York City Mayor Michael Bloomberg stepped forward last week to tease a possible run. Patrick told friends he regrets not moving forward with a 2020 campaign earlier this year and was trying to determine if it would still be possible.His considerations were first reported Monday by The New York Times. Last year, Patrick had built a small but formidable team of advisers in Boston as he planned a 2020 bid and had the backing of some top aides from President Barack Obama\\'s 2008 and 2012 campaigns. But he publicly ruled out a presidential bid nearly a year ago, citing the \"cruelty of our elections process.\"He wrote in a December Facebook post: \"After a lot of conversation, reflection and prayer, I\\'ve decided that a 2020 campaign for president is not for me. I\\'ve been overwhelmed by advice and encouragement from people from all over the country, known and unknown.\"\"But knowing that the cruelty of our elections process would ultimately splash back on people whom Diane and I love, but who hadn\\'t signed up for the journey, was more than I could ask,\" he wrote.Patrick told WBUR at the time that his wife, Diane, had recently been diagnosed with uterine cancer and had surgery right before Thanksgiving last year. He cited it as something that caused him to carefully consider whether he wanted to put his family though months of grueling campaigning.Patrick entered the private sector in 2015 and took a job at Bain Capital, the Boston-based private investment firm that became a liability to the 2012 presidential run of Republican Mitt Romney, another former Massachusetts governor and now a US senator from Utah. Patrick\\'s work at the firm, which was co-founded by Romney, could be a liability if he seeks the Democratic nomination, as he would be entering a race where frontrunner Democrats have cast wealthy and powerful interests as the enemy of progressive policies.Patrick last year defended his work at Bain Capital, telling CNN: \"I\\'ve never taken a job where I\\'ve left my conscience at the door, and I haven\\'t started now.\"Patrick had upped his political involvement ahead of the 2018 midterms -- endorsing candidates in South Carolina, Texas, New Jersey and a handful of other states -- leading many to believe he was going to jump into the race.', 'Fox\\'s prime time stars are telling Trump that the impeachment hearings are a \\'disaster\\' for DemocratsUpdated 2:04 AM ET, Fri November 15, 2019New York  (CNN Business) - A version of this article first appeared in the \"Reliable Sources\" newsletter. You can sign up for free right here.I wanted to know what President Trump was hearing about day one of the televised impeachment hearings. So I decided to mute all my other TVs and just watch Fox News on Wednesday night.I heard White House press secretary Stephanie Grisham say that \"today was a joke.\" I heard Donald Trump Jr. say \"it\\'s insanity.\" I heard Jeff Sessions ask, \"Where\\'s the beef?\"Here\\'s how I would sum up everything I heard from Fox\\'s prime time hosts: Wednesday\\'s hearing was a bust. It was all just hearsay. It was a \"disaster\" for the Democrats and a \"great day\" for the Republicans. Impeachment is \"stupid.\" Impeachment is \"fake.\" There\\'s nothing impeachable here. There\\'s no reason to hold hearings. This inquiry needs to stop right now.The message was one-sided and overwhelming. Every host and practically every guest said the Republican tribe is winning and the Democrat tribe is losing. I\\'m sure the president loved watching every minute of it. That\\'s one of the reasons why this right-wing rhetoric matters so much -- because it is reassuring and emboldening Trump. I decided to write it all down because of something that CNN\\'s Oliver Darcy wrote earlier in the day. \"Don\\'t expect viewers, listeners, and readers of right-wing media to walk away from Wednesday\\'s impeachment hearings with a different opinion of President Trump\\'s behavior,\" Darcy said. \"In fact, it\\'s possible they might be more convinced than ever that Trump did nothing wrong. Why? Because right-wing media has largely -- and unsurprisingly -- focused on the moments in the hearing favorable to its preferred narrative.\"He was right. Here\\'s what Fox News viewers heard on Wednesday night... Tucker: \"MEDIA MELTDOWN\"On the OTHER cable news channels, 8 p.m. host Tucker Carlson said, \"it was like Christmas and New Year\\'s and the Super Bowl all put together.\" Carlson seemed reluctant to cover Wednesday\\'s news, calling the hearings \"stupid\" and the importance of the impeachment inquiry \"questionable.\"Grisham called it a \"joke\" while others made jokes — Christian Whiton said witnesses Bill Taylor and George Kent, both veteran public servants with impressive resumes, \"looked like people who sat by themselves at recess.\"It didn\\'t end there. The witnesses were insulted all evening long. And Grisham said foreign service officials who are resisting Trump\\'s policies should resign.Later in the hour, Carlson mocked news outlets for taking this once-in-a-generation impeachment inquiry seriously. \"The media went completely bonkers today,\" he said, while the on-screen graphic alleged a \"MEDIA MELTDOWN.\" He agreed with his guest Larry O\\'Connor, who said America doesn\\'t have a free press because the press is made up of \"political activists.\"Both speakers, by the way, are political activists, and the press IS free.A few minutes later, Trish Regan on the Fox Business Network ran a similar media-bashing segment. At one point her banner just said \"RPT: LIBERAL MEDIA ANTI-TRUMP BIAS,\" which is just a string of triggering words selected to keep Regan\\'s viewers angry and attentive.But I digress. Back to Fox News. Carlson wrapped his hour by calling the city where he lives, Washington, D.C., \"a city in the grip of insanity.\" Then he handed off to Sean Hannity... Hannity: Shut this down!Hannity dubbed day one \"THE WORST SHOW ON EARTH.\" He said the Democrats are \"a national disgrace.\" He said they are guilty of \"an abuse of their power.\" (This is a classic case of \"I know you are but what am I,\" flipping the charge against Trump back on his accusers.)The Democrats are \"corrupt idiots\" who look \"dumb, bad, stupid, and shallow\" after Wednesday\\'s \"sham hearing,\" he said. House Intelligence Committee chair Adam Schiff? A \"congenital liar.\" Wednesday\\'s witnesses? Just \"self-important, uncompelling\" bureaucrats. The hearing was so bad, Hannity said, that \"I\\'m not so sure\" that all the House Democrats will vote for impeachment. \"It was that bad a day for them.\"But even though the day was \"a disaster for Democrats,\" and \"the Republicans had a great day all the way around,\" Hannity said \"this circus, this sham, this charade\" should be \"shut down immediately\" for \"the sake of the country.\" As for Hannity\\'s guests, well, Mark Levin called Schiff \"an incompetent left-wing boob\" and likened the witnesses to \"two homeless guys.\" Donald Trump Jr. said \"everything was hearsay\" from \"career government bureaucrats.\" Steve Scalise said \"a lot\" of Democrats are worried about impeachment backfiring. Which brings me to the 10 p.m. hour... Ed Henry shares hearsay Laura Ingraham, like her prime time colleagues, criticized Democrats for promoting \"hearsay\" from witnesses who have never spoken directly with the president.Ingraham also welcomed Fox\\'s chief national correspondent Ed Henry, who said he had been working the phones on Capitol Hill. Henry said he spoke to \"three senior Republicans\" who told him that THEY were talking to Democrats who were \"absolutely deflated\" by Wednesday\\'s hearing.So... in other words... hearsay. Second-hand information.Then, as if to back up the \"deflated\" claim, Henry quoted what a Dem aide told the Washington Post: \"The onus is on us to wow some people this week.\" But that quote came out before Wednesday\\'s hearing, so it did not prove his point. Ingraham\\'s angleThese banners summed up Fox\\'s 10 p.m. hour: \"DEMOCRATS\\' STAR WITNESSES BURN OUT\" and \"DEMS\\' IMPEACHMENT COLLAPSE.\"Ingraham asserted that impeachment is a \"cataclysmic mistake\" for the other party -- after just one day of televised testimony. One of her guests, Republican congressman Chris Stewart, said \"it was really just a huge dud\" and \"there just wasn\\'t any surprises or any bombshells,\" even though there was, in fact, a big surprise: Taylor\\'s disclosure about a July 26 phone call with Gordon Sondland.Later in the day, Trump claimed \"I\\'ve never heard\" of that call. Pretty soon we\\'ll know whether or not that was a lie. But that new disclosure barely came up during Fox\\'s prime time shows.Another GOP lawmaker, Mark Meadows, told Ingraham that Wednesday was \"a swing and a miss for the Democrats.\" And he accused the witnesses of having a \"Ukraine first,\" not \"America first,\" sentiment.At one point in the hour, when Fox\\'s banner said the \"IMPEACHMENT STUNT WILL HAUNT 2020 DEMS,\" I looked up at MSNBC and saw a banner that said \"REPUBLICANS SCRAMBLE TO DEFEND TRUMP AS NEW EVIDENCE TIES TRUMP MORE DIRECTLY TO UKRAINE PUSH.\"Maybe Republican lawmakers are \"scrambling\" to defend Trump, but right-wing TV and radio hosts aren\\'t scrambling at all. They\\'re sounding very confident. Now, maybe that\\'s just part of the performance, part of the act -- But Fox\\'s stars on Wednesday night were much more effective than some of the GOP questioners at the hearing. They\\'re not talking about the evidence of extortion -- they\\'re talking about bitter Dems and brave Republicans and ensuring the audience that the process will hurt the Dems in 2020... Notes and quotes -- Try to square Fox\\'s prime time talking points with \"Fox News Sunday\" moderator Chris Wallace\\'s midday assessment: \"I think that William Taylor was a very impressive witness and was very damaging to the president...\" (The Hill) -- This Lou Dobbs segment is sparking outrage on social media: \"The husband-and-wife Trump defense team of Joe diGenova and Victoria Toensing\" pushed \"an outlandish conspiracy theory about Ukraine, baselessly alleging that left-wing billionaire George Soros \\'controls a large part of the foreign service part of the State Department and the activities of FBI agents overseas...\\'\" (Mediaite) -- \"The Republican playbook here is a time-honored one: delay, deny, obfuscate, and, if that fails, beg Americans to turn off the TV,\" Susan Glasser writes... (New Yorker) -- Via Frank Pallotta, here\\'s how the late-night shows covered day one. Birthday boy Jimmy Kimmel said he \"got exactly what I wanted this year\" thanks to the hearings... (CNN) Darcy\\'s bottom line...Oliver Darcy writes: All day long, pro-Trump websites hyped clips of GOP stars like Jim Jordan and Devin Nunes \"eviscerating\" or \"destroying\" their opponents. THOSE were the moments that generated focus -- not the instances when Taylor or Kent shed new light on the Ukraine scandal. And after the hearings wrapped, Trump\\'s defenders in media dismissed the hearings as \"boring\" and a bust for the Democrats. If you were watching the hearing through the lens of the right-wing media, you probably didn\\'t see a case against the president being built. You probably walked away thinking the Democrats\\' case collapsed...', 'Marine deserter wanted for murder spotted in Roanoke, Virginia, prompting a school shutdownUpdated 10:27 PM ET, Thu November 14, 2019(CNN) - The manhunt for a Marine deserter wanted for murder led Roanoke, Virginia, police to shut down all schools in the city on Thursday. Authorities received a call about 4 a.m. regarding a sighting of Michael Alexander Brown, 22, who is suspected of killing his mother\\'s boyfriend last week in the town of Hardy, about 9 miles east of Roanoke.The caller told investigators that a man in a black jacket was tapping on a window at Brown\\'s grandmother\\'s house, Roanoke police Chief Tim Jones said. Officers responded and were \"able to confirm to the best of our ability that it was Mr. Brown,\" he said.While the search continued into the evening, officials said classes will resume Friday.He switched vehicles, police sayThough Franklin County authorities said earlier this week that Brown was driving a 2008 Lincoln Town Car, Jones said Brown was believed to be driving an RV in Roanoke.The RV, located nearby, was secured by a tactical team, he said. Brown was believed to be on foot, perhaps looking for another vehicle, Jones said.In addition to asking Roanoke students, faculty and staff not to report to school Thursday, police also wanted anyone who lives within a half mile of Patrick Henry High School on Grandin Road to shelter in place and keep their doors locked. That shelter request was later lifted.\"We continue to urge residents to remain vigilant and report any suspicious activity. Remember to lock your vehicles and your homes,\" police said in a Thursday evening statement. \"The search for Brown continues tonight.\"For residents who must travel, Jones asked that they be vigilant, travel in pairs and avoid the area around the high school as Brown may be looking for \"other opportunities to go mobile again,\" Jones said.Did family bring him to Roanoke?Brown deserted his post at Camp Lejeune in North Carolina last month, police said. Around noon Saturday, the Franklin County Sheriff\\'s Office responded to a shooting call in Hardy, where they found Rodney Brown, 54, dead in his home, authorities said. Rodney Brown\\'s girlfriend -- who is Michael Brown\\'s mother -- called police after finding Rodney\\'s body in the house, said Capt. Phillip Young with the sheriff\\'s office.Michael Brown is charged with second-degree murder and using a firearm in the commission of a felony. The motive in the killing is unclear. He is considered dangerous and may be armed with a \"shoulder-held, high-capacity weapon,\" Jones said. He has family ties in the Roanoke area, the chief said, but Brown is believed to be operating on his own, with no accomplices. The Franklin County Sheriff\\'s Office warned the public Monday that Brown was armed with a high-powered firearm and possibly other weapons. He is known to frequent national parks and forests, and he may be living in the woods, the sheriff\\'s office said this week. \"We are receiving intelligence that he was in transit yesterday and was seen in several areas outside the Roanoke Valley,\" Jones said. \"I think family is what brought him here. We hope family can appeal to him.\"Police: Be on the lookout, but be carefulAnyone who sees him should use caution and call police. Brown is about 6 feet tall and 154 pounds and has brown hair and blue eyes, police said. Jones described Brown as a \"military-trained veteran (who) knows how to navigate avenues of approach and escape, and to maneuver his way around various types of terrain.\"\"He is navigationally savvy,\" the chief said. \"He\\'s not afraid to change his location. He\\'s not afraid to change his look.\"The US Marshals Service is offering a $10,000 reward for information leading to Brown\\'s apprehension, Jones said. State authorities, the FBI and the Bureau of Alcohol, Tobacco Firearms and Explosives are also assisting in the search. Asked whether he had a message for Brown, Jones said, \"I\\'d like him to know that he needs to contact us so that we can make arrangements and he can turn himself in.\"We can do this the easy way. ... He may at this point and time feel like he has run out of alternatives, but he does have alternatives.\"', 'Trump Organization explores selling DC hotelUpdated 8:46 PM ET, Fri October 25, 2019(CNN) - The Trump Organization is considering selling its three-year-old hotel in downtown Washington, DC, that\\'s been a focus of ongoing complaints that Donald Trump is profiting off his role as President.Eric Trump, the President\\'s son and executive vice president of The Trump Organization, said the company has hired real estate firm JLL to assist the possible sale of the Trump International Hotel.\"Since we opened our doors, we have received tremendous interest in this hotel and as real estate developers, we are always willing to explore our options,\" Eric Trump said in a statement.  No asking price was floated, but it is likely to be expensive. The hotel is in the Old Post Office building, a federally owned property on Pennsylvania Avenue between the White House and Capitol building, and has been a source of controversy since Trump took office in 2017.The President has reported earning $80 million in revenue from the hotel while in office, according to his personal financial reports.Several lawsuits have been filed accusing Trump of violating the Constitution\\'s emolument clause. Although Trump resigned from his companies before taking office, he transferred his assets into a trust. This arrangement allows him to benefit financially from those businesses, including the DC hotel.\"People are objecting to us making so much money on the hotel and therefore we may be willing to sell,\" Eric Trump said. His statement did not list profit figures.A federal court recently revived a lawsuit from the District of Columbia and Maryland, who say the Trump property has harmed Washington hotels and other businesses the states partially own. The House Transportation Committee this week issued a subpoena for documents on the lease from General Services Administration.\"The American people have a right to know whether the President of the United States, who is serving as both the landlord and tenant of the Old Post Office Building, is violating the Emoluments Clauses of the US Constitution to enrich himself,\" said Committee Chairman Peter DeFazio, D-Oregon.After news broke that the hotel might be for sale soon, DeFazio responded in a statement: \"Removing the Trump Organization from the lease of a taxpayer-owned building is a good place to start to ensure President Trump isn\\'t making a profit as both landlord and tenant of the Old Post Office Building, but ... I\\'m skeptical that this latest development isn\\'t an attempt to make a massive profit that directly benefits the Trump family so I will be following this marketing attempt closely.\"The GSA did not immediately respond to a request for comment.The Wall Street Journal first reported the possible sale. Earlier this year, the inspector general of the General Services Administration said the agency \"ignored the Constitution\" when deciding to maintain the lease of the building to the hotel after he was elected to the White House.The Trump Organization won the contract in 2012 and the hotel opened in 2016.', 'Alicia Keys will return as host of the Grammy Awards in 2020Updated 9:48 PM ET, Thu November 14, 2019(CNN) - Alicia Keys is hosting the Grammy Awards again next year.Her 2020 return for the 62nd Annual Grammys puts her in rare company after she became the first female to host the awards in 14 years. Before that, the last woman was Queen Latifah in 2005.\"At first, I did think last year was a one-time thing, but when the opportunity came back around, there was no question about returning as host,\" Keys told Billboard in a statement. \"Last year was such a powerful experience for me. Not only did I feel the love in the room, but I felt it from around the world and it confirmed the healing and unifying power of music.\"The show will take take place on January 26 at the Staples Center in Los Angeles.This year, Keys said her status as a regular award receiver helped with her hosting duties.\"I know what it feels like to be on that stage, and I\\'m going to bring that vibe and energy,\" the entertainer said.On Wednesday, Keys had some fun with the announcement, posting a video of herself as the current Alicia Keys discussing hosting with Alicia Keys from February 2019.\"The people wanna know: How ya gonna top this Alicia, c\\'mon!,\" last year\\'s version of Keys says in the video. ', 'Unlike Trump Ukraine scandal, no one died at WatergateUpdated 1:10 PM ET, Thu November 14, 2019Editor\\'s Note: Paul Callan is a CNN legal analyst, a former New York homicide prosecutor and of counsel to the New York law firm of Edelman & Edelman PC, focusing on wrongful conviction and civil rights cases. Follow him on Twitter @paulcallan. The opinions expressed in this commentary are his own. View more opinion on CNN.(CNN) - Prosecutors in serious criminal cases like to start strong and finish strong to bring home a guilty verdict. They have to grab the attention of the jury before defense attorneys sully the water.  Former federal prosecutor and Harvard Law grad, House Intelligence Committee Chair Adam Schiff, successfully executed the first part of this strategy, making a compelling case against President Donald Trump in a carefully crafted and smoothly delivered opening statement. He successfully brushed aside an assortment of \"points of order\" and other parliamentary procedure stalling tactics which were employed by the minority Republicans to disrupt the flow of the proceedings. He also hinted at a surprise. The real case against President Trump may rest on \"abuse of power\" as charged in prior impeachment cases. This relates to the President\\'s defiance of congressional subpoenas and his willful refusal to cooperate with lawful congressional investigations. Such actions may violate the Constitution\\'s requirement of checks and balances between the three branches of government. After all, the founding fathers had just fought the Revolutionary War to curb tyranny and none of them wanted a tyrannical president. The abuse charge provides a good backup impeachment theory if the Ukraine allegations fail to resonate in the Republican-majority Senate. Republicans should fear that a tyrannical Trump may someday be followed by an equally tyrannical Democrat. Or maybe they enjoy being slapped around by the executive branch of government. Mr. Schiff also followed another rule employed by respected trial attorneys. They never \"overpromise.\" Schiff accomplished this task, delivering a non-inflammatory but carefully constructed explanation of how the President allegedly abused his power by using $400 million of American military aid to Ukraine as his own personal weapon in an attempt to destroy his political opponent, Joe Biden.Schiff then proceeded to swear in two witnesses who would testify together. They were US chargé d\\'affaires in Ukraine, Ambassador Bill Taylor, and Deputy Assistant Secretary of State for European and Eurasian Affairs George Kent. Throughout the hearing, Kent remained relatively silent while Taylor, a gray-haired, distinguished diplomat right out of central casting did the heavy lifting.Taylor explained in somber but sometimes colorful detail the bizarre backdoor channel to Ukraine designed by Trump and his minister -- without any portfolio whatsoever -- Rudy Giuliani. The purpose of this back channel was to use Giuliani and a pair of Trump appointees rather than the so-called \"Deep State\" professional diplomats who Mr. Trump distrusts, to convey an ominous warning to Ukrainian President Volodymyr Zelensky. The message in substance: \"No Biden investigation, no $400 million in military aid.\" The announcement would be made in an interview on Trump\\'s most vilified network, CNN.  Taylor\\'s testimony revealed that in visits to Ukraine\\'s Donbass front he was told that at least one or two Ukrainians were dying every day in a hot war with Russia for control of the Ukrainian coal production region. American aid was desperately needed, and delay meant death to Ukraine\\'s soldiers. The conclusion any reasonable person would draw from such testimony is that the President\\'s threats and the actual withholding of aid was aiding and abetting Russia. It was also causing the death of brave Ukrainians, American allies defending their homeland. All of this so Trump can beat Biden in the next presidential election. In some respects, it actually sounds far worse than Richard Nixon throwing a few dollars to the Watergate burglars and then elaborately covering it up. No one died as a result of Nixon\\'s theoretically impeachable offenses.In contrast, testimony on Day 1 of the House impeachment hearing suggested that American professional diplomats feared that Trump\\'s delay in the disbursement of Ukraine\\'s $400 million in military aid could telegraph a lack of American commitment, creating the real potential to cost the lives of Ukrainian soldiers by encouraging Russian aggression.Unfortunately for the Democrats, their case against the President began to fade as Republicans successfully muddied the water throughout the afternoon. They posed questions suggesting that any presidential effort to steer the Ukrainian criminal investigations were legitimate efforts to expose what they claimed was Ukrainian sabotage of the 2016 American presidential election, citing a theory that has been debunked. (Even a former Trump official has acknowledged it had no merit.) The Steele Dossier raised its ugly head, as did the prosecution of Paul Manafort. The Republican questions were designed to remind Americans of the perfectly legal and abundantly funded Mueller/Russia investigation which haunted the first half of the Trump presidency. And why was Hunter Biden reportedly being paid $50,000 a month by Ukraine\\'s largest energy company, Burisma, when he didn\\'t even reside in Ukraine or have an extensive background in the energy business?  And why was his father constantly traveling to Ukraine and demanding the firing of a prosecutor investigating Burisma and maybe Hunter? Congressional questions require no supporting evidence, and none was provided. In fact, no evidence has surfaced of wrongdoing by Joe or Hunter Biden in this matter. The Republican point:  If it was proper to spend millions of dollars to investigate Russian efforts to influence the American election, how can it be an impeachable offense to compel Ukrainian cooperation in an investigation of the very same subject. And if the investigations link to Biden corruption, all the better.Those carefully prepared and distinguished \"central casting\" diplomats Taylor and Kent started to look flustered and confused since they knew nothing about the unrelated topics that Republicans like Jim Jordan threw angrily into the conspiracy questions pot.Any real American courtroom would overrule his wandering conspiracy-themed questions as not relevant to the direct testimony of the witnesses or even within their knowledge. Courts also prohibit witness speculation. But this is Congress on television and not a court of law, and as congressional cross examination goes, Jordan did a great job in establishing that virtually all the evidence produced by Taylor and Kent was classic hearsay. Like Trump, he would be entertaining on\"The Apprentice,\"  though as potential competition to Trump, he would soon be fired.There was one new testimonial nugget revealed at the first hearing. Taylor revealed that Tim Morrison, then a National Security Council official, allegedly learned of a conversation between the US Ambassador to the European Union Gordon Sondland and the President, in which Trump insisted that Zelensky publicly announce that he was beginning investigations of \"Biden and 2016 election interference.\"  This snippet is hearsay, and though Jordan and his Republican colleagues were happy to remind Schiff earlier in the day that the \"Federal Rules of Evidence\" do not apply to congressional hearings, this time they wanted the hearsay thrown out. Having no rules of evidence in place permitted Republicans to pontificate conspiracy theories in confusing speeches posing as questions. Such repeated conduct would lead to a contempt citation in any American courtroom. But the Republicans favor strict enforcement of the hearsay rule only when it helps their case. This enables them to say the information about a direct connection to Trump is \"inadmissible\" hearsay.  Congressman Jordan should have a look at Federal Rule of Evidence 802. He will discover that the actual hearsay rule doesn\\'t apply to congressional hearings. The Sondland snippet is admissible as is most of the other testimony linking the President to the \"quid pro quo,\" which we will be hearing a lot more about as the hearings proceed. Or maybe it will all come down to multiple counts of abuse of power, but there is still a long and winding road to travel as the hearings continue.', 'Two teens are dead after a 16-year-old gunman shot 5 classmates and himself in 16 seconds, cops sayUpdated 7:06 AM ET, Fri November 15, 2019Los Angeles  (CNN) - A teen whose birthday was Thursday went to his Southern California high school, pulled a pistol from his backpack and shot five classmates and himself in 16 seconds, authorities said.Two victims -- a 16-year-old girl and a 14-year-old boy -- died at a hospital. Three students were wounded and taken by ambulance from Saugus High School in Santa Clarita, officials said.Los Angeles County Sheriff Alex Villanueva said the 16-year-old suspected gunman is in critical condition. He used the last bullet from a .45-caliber pistol on himself, authorities said.The sheriff told \"Anderson Cooper 360˚\" the student fired one time, then apparently had a problem with the gun before firing again.The suspect\\'s name is Nathaniel Berhow, two law enforcement sources told CNN.Authorities said they are looking into biographical information on the suspected shooter\\'s social media account that was taken down after the mass shooting.\"With a heavy heart, we\\'re going to move on with the investigation and figure out what went wrong,\" the sheriff said. \"I hate to have Saugus be added to the names of Columbine, Parkland, Sandy Hook, but it\\'s a reality that affects us all throughout the nation -- something that we\\'re going to have to figure out.\"The shooting began before classes started, officials said, sending some students streaming out of the building as others hid. One student was hurt in the chaos and needed medical attention.Video obtained at the scene clearly shows the suspect shooting his classmates and then himself, Capt. Kent Wegener of the Los Angeles County Sheriff\\'s Department told reporters.Authorities are working to obtain any other video from campus and cell phone video from students. Emergency workers took several people out of the school on gurneys, and large groups of people walked out single-file with armed escorts, aerial footage from CNN affiliates shows. The two students who were killed died at the hospital.Officials shepherded students to nearby Central Park, where parents were told to meet them.The shooting happened about 20 minutes before the start of school, according to Hannah de Caussin, whose daughter attends Saugus. Some students fled, and others hidSome students fled the building immediately, and others took cover inside rooms, another student told CNN affiliate KTLA.\"It was one and then four quick ones, so bang, and then bang, bang, bang, bang,\" the girl said after leaving the building.Students are trained to take cover in classrooms, but she and some others ran out because they thought the shooter was near where they would have hidden, she said.\"We ran through the fence, luckily it was open, and we got as far away from campus as we could,\" she said.\"We were texting all our friends and making sure they were safe. They said they were hiding and they were scared. It scared us because they\\'re our friends and we didn\\'t want anything bad to happen to them.\"Another student, Brooklyn Moreno, told CNN affiliate KCBS that she was waiting for a bell to ring to signal her first class when she heard the first shot.\"Everyone thought it was a balloon, and it got really quiet. And then two more shots, and then everyone just ran out of the school,\" said Brooklyn, who added that she ran across a street to someone\\'s house until someone came to pick her up.Grandfather: Students ran down my street screamingLarry Everhart, a grandfather of a Saugus High student, told KCBS that he was leaving his house to get coffee when he saw students running down his street screaming.\"They were saying, \\'Can I come in your house?\\' It was about 20 of them. I wanted to make sure they were safe, so I got them in there,\" he said.School officials are sending students to Central Park, where parents should meet them, the district said. Everhart\\'s neighbor, a police officer, eventually told him he could go to the park, where he found his granddaughter safe. \"My granddaughter threw her arms around me and was hugging me, and I was just so happy she was still alive,\" he said.White House sends condolencesVice President Mike Pence gave his condolences to families of the victims. Speaking to a group at NASA in Northern California, Pence called it \"another heartbreaking day for students and parents.\" Pence pledged that the President Donald Trump will work to end gun violence.\"This administration will remain resolved to bring the scourge of mass shootings to an end, and we will not rest until we end this evil in our time and make our schools and our communities safe again,\" he added. Pence said the President has directed federal law enforcement agencies to support local investigators.Rumors of online threats are being investigatedInvestigators will check rumors that the suspect may have posted threats on social media, county Undersheriff Tim Murakami said on Twitter.\"If you ever learn of posted threats please notify us ASAP,\" Murakami wrote.All schools in Santa Clarita\\'s William S. Hart school district were temporarily locked down as a precaution, but the restrictions were later lifted, the district said.Saugus High School, about 30 miles northwest of Los Angeles, has about 2,400 students, according to the district.CORRECTION: A reference to an Instagram account that police tied to the alleged gunman has been removed from this article after Facebook and Instagram reported the account did not belong to the suspect. ', 'Disney+ warns viewers that old movies may have \\'outdated cultural depictions\\'Updated 3:11 PM ET, Thu November 14, 2019(CNN) - Viewers who signed up to stream Disney+ were greeted with disclaimers about racist and offensive content in some older movies.\"Dumbo,\" for example, had this statement at the bottom of the movie\\'s description: \"This program is presented as originally created. It may contain outdated cultural depictions.\"The original \"Dumbo\" notoriously featured a character named Jim Crow, leader of a group of black crows, that was voiced by a Caucasian actor using a stereotypical African-American accent. Director Tim Burton chose to not include the original crow scene in his live-action remake of \"Dumbo.\" He also omitted the scene in which black characters put up circus tents while singing \"Song of the Roustabouts.\" Disney is not the first studio to add a disclaimer on old titles that feature racial prejudices or other troubling content. For example, Warner Bros. used this on an old \"Tom and Jerry\" release:\"The cartoons you are about to see are products of their time. They may depict some of the ethnic and racial prejudices that were commonplace in American society. These depictions were wrong then and are wrong today. While these cartoons do not represent today\\'s society, they are being presented as they were originally created, because to do otherwise would be that same as claiming these prejudices never existed.\" WarnerMedia is the parent company of Warner Bros. and CNN.', 'Student protesters fortify campus occupations as Hong Kong braces for more violenceUpdated 8:17 AM ET, Thu November 14, 2019Hong Kong  (CNN) - The threat of violence hung over Hong Kong Thursday evening as thousands of student protesters prepared to face off with riot police, amid a continued occupation of several of the city\\'s most prestigious universities. The level of unrest and destruction in the almost six-month-long protest movement has reached new and unnerving heights in recent days, with several people critically injured and Chinese state media warning radical protesters, \"You are on the edge of doom.\"Sporadic clashes broke out Thursday morning, as police fired tear gas at protesters near the Hong Kong Polytechnic University in Kowloon. While on Hong Kong Island, roads surrounding the University of Hong Kong were blocked by protesters, resulting in traffic delays. Universities have emerged as a new focal point of the protest movement, with numerous campuses across the city becoming home to heavily fortified temporary protest camps. At the Chinese University of Hong Kong (CUHK) in the New Territories, several thousand protesters have effectively barricaded themselves inside the grounds, blocking all entrances for the third straight day. The CUHK campus was on Tuesday the scene of some of the most intense fighting in the city since demonstrations began in June, with hundreds of riot police firing more than 1,567 canisters of tear gas during a chaotic and ultimately aborted clearance operation. Throughout Wednesday and Thursday, protesters and those helping them continued to pour into the sprawling grounds by road and by foot, bringing supplies, including protective gear, food and water. A highly organized operation was launched inside the campus, sorting and distributing the supplies, building and reinforcing barricades, and stockpiling weapons, including petrol bombs, bows and arrows, javelins, and pieces of wood hammered with nails.So far police have appeared reticent to return to the university despite a Hong Kong court rejecting an application by students to block police from entering the campus without a warrant. Many overseas students studying at the university have been asked to leave by their home colleges and CUHK administrators announced the early cancellation of classes, stopping the fall semester around two weeks early. On Wednesday, police said they had evacuated several students from mainland China via police boat, because the roads were blocked by protesters.The effects of the campus unrest could be felt across the city Thursday, with continued travel disruptions and protesters, including large numbers of office workers on their lunch break, taking over the busy streets in Central district for a fourth straight day. Office workers also came out in support of the student protesters in Tai Koo, in the east of the city. Two of the three tunnels connecting Hong Kong Island with the Kowloon peninsula, including the busiest Cross-Harbour Tunnel, were closed to traffic Thursday morning and the MTR continued to suspend service at several stations.All schools have suspended classes for the rest of the week -- the first such instance since protests began.  Critical injuriesThe protests this week have taken a dark turn, with more people critically injured than at any point in the long-running movement. Hong Kong\\'s Hospital Authority said 67 people were treated in hospitals in total on Wednesday with injuries related to the protests.On Wednesday, a 70-year-old man was hospitalized and remains in critical condition after being hit on the head by a brick thrown by a protester, police said.The injured man was on a lunch break from his job as a cleaner when he voluntarily began clearing bricks from the road with other members of the public, according to police. Video of the alleged incident shows protesters and government supporters hurling bricks at one another before a man falls to the ground. A 15-year-old boy was struck in the head by what is believed to be a tear gas canister and is also in critical condition, according to Hong Kong\\'s Hospital Authority. Earlier in the week, a protester was shot by police and a man was set on fire following a dispute with protesters Monday.\\'You are on the edge of doom\\'The major escalation in political unrest this week has once again raised questions over what will happen next. Looming over those conversations is the specter of a possible Chinese intervention. On Thursday, China\\'s top state-run television channel issued an online editorial telling protesters their actions are \"undisguised terrorism.\"\"We have had enough talking, persuasion and warnings. To stop the unrest has to be implemented and advanced more resolutely now. The country will never accept the situation to be out of control, justice to be covered or Hong Kong to be sunk,\" the editorial from CCTV read. It echoed an editorial in the state-run tabloid Global Times suggesting the People\\'s Armed Police and the People\\'s Liberation Army were ready to back up Hong Kong\\'s government \"when necessary.\"\"We also warn the radical protesters: You are on the edge of doom. Those who are coerced to be \\'valiant\\' should walk away as soon as possible when you still can make the call,\" the editorial said.However, it is not clear if Beijing has a red line, and what it would take for protesters to cross it before provoking a Chinese military response.Analysts say it is still a question that Beijing is actively considering.\"It\\'s smart not to state a clear red line because you are going to have to act on it to keep your credibility once that line has been breached. And there is every likelihood that protesters would actively seek to breach that line,\" Adam Ni, a China researcher at Macquarie University in Sydney told CNN last month. The Chinese government has hinted that it might be looking at new ways of resolving the crisis in Hong Kong, both short-term and long-term. After a meeting of a top Chinese Communist Party body in October, senior Chinese official Shen Chunyao said that Beijing would work to improve the legal system and strengthen \"law enforcement\" in Hong Kong, and neighboring Macao.He added it was time to introduce new lessons in \"patriotism\" across Hong Kong, a move which has been discussed by the Chinese government for a long time.On Tuesday, the Chinese government unveiled a new range of patriotic education measures for the country, which according to state-run Xinhua would \"focus on young Chinese.\"\"Patriotism should be embedded in the whole process of school education,\" the article said.Buried in point 20 of the new patriotic education outline is a call to \"guide\" the citizens of Hong Kong and Macao to \"enhance their national identity and consciously safeguard national unity.\"', 'Meet Narwhal, the rescue puppy with a tail growing out of his foreheadUpdated 11:44 AM ET, Mon November 25, 2019(CNN) - There\\'s a 10-week-old puppy in Missouri with a tail growing out of his forehead.Yes, his forehead. No, it doesn\\'t wag. And, appropriately, his name is Narwhal.Well, his full name is \"Narwhal the Little Magical Furry Unicorn,\" according to dog rescue nonprofit organization Mac\\'s Mission, which took him in after he was discovered last Saturday. He was found in the freezing cold, with what appears to be the beginnings of frostbite on one paw.Unlike an actual narwhal whale, which has a protruding canine tooth that resembles a tusk, the tail on Narwhal\\'s forehead is short and stubby, sprouting right between his eyes -- and flops from side to side when he plays. He has a normal tail, too, this one is just extra.Workers at Mac\\'s Mission, which specializes in special needs dogs who had been abused or born with defects, say he\\'s recovering quickly, with the frostbite healing. \"He seems completely healthy other than some usual puppy worms he got meds for,\" said the organization in a Facebook post.Vets took X-ray scans which showed the tail isn\\'t connected to anything. It has no real use, as far as they can tell, but it also doesn\\'t cause him any pain and there\\'s no medical reason to remove it -- so the forehead tail is here to stay. \"The unicorn face tail does not bother Narwhal and he never slows down just like any normal puppy,\" said the Facebook post.He was found with another dog, which rescue workers speculate may be his father. This older dog, who has been named Poppa Smurf, is a Daschund Terrier mix -- so they assume Narwhal may have some Daschund in him as well.It\\'s not clear what happened to the two of them before they were discovered, but a spokesperson from Mac\\'s Mission told CNN Narwhal is from rural Missouri in the Midwest, and loves to play -- and now, he has thousands of fans online, after his special tail catapulted him to internet fame.The rush of online attention has been \"crazy,\" the spokesperson, adding that the staff \"feel like we\\'re in a dream.\"He\\'s not yet ready for adoption, Mac\\'s Mission said online -- but that hasn\\'t stopped Narwhal\\'s fans from wanting to take him home. The organization has already received over 50 adoption applications for him, a spokesperson told CNN.Narwhal will likely be listed for adoption once he\\'s older and has gone through more medical procedures like vaccinations. The staff say they also want to monitor his unicorn horn a little while longer to make sure it doesn\\'t grow or become a problem.\"Everyone is super interested in him,\" the spokesperson said — but \"we are hopeful they are seeing the other available dogs as well!\"', 'Democrats\\' 2020 uncertainty has heavyweights thinking about a runUpdated 12:48 AM ET, Wed November 13, 2019(CNN) - Three Democratic heavyweights this week have dangled the possibility of a 2020 White House run, a reflection of the extraordinarily unsettled nature of the Democratic field only a few months before voting begins.On the eve of the first public impeachment hearings, former New York Mayor Michael Bloomberg made a run to Arkansas on Tuesday to secure his spot on that state\\'s Democratic primary ballot, should he decide to run. Former Massachusetts Gov. Deval Patrick weighed a late entry to the race while facing down Friday\\'s filing deadline in the key state of New Hampshire. And Hillary Clinton coyly suggested, once again, that she could leap from the sidelines.Clearly enjoying the opportunity to taunt Trump at this vulnerable moment in his presidency -- and undoubtedly unnerving some current 2020 Democrats -- Clinton told BBC Radio that she was not running for president in 2020, but she left the door ajar.\"Never say never, and I will certainly tell you I\\'m under enormous pressure from many, many, many people to think about it,\" Clinton told BBC radio in the midst of a publicity tour for her new book with her daughter, Chelsea. \"But as of this moment, sitting here in this studio talking to you, that is absolutely not in my plans.\" In Clinton\\'s case, teasing another White House bid was most likely a lighthearted way of drawing publicity for her new book. Last month, when Trump tweeted that \"Crooked Hillary Clinton\" should run again to \"steal it away from Uber Left Elizabeth Warren,\" the 2016 Democratic nominee playfully tweeted back: \"Don\\'t tempt me. Do your job.\" (CNN reported in October that Clinton\\'s admirers have tried to coax her off the sidelines, but she has repeatedly ruled out a run). Still, the fact that Patrick and Bloomberg could soon join the field underscores how fractured Democrats are three months before the opening contest in Iowa.The party still has not settled its long-running debate about whether to swing hard to the left by nominating a candidate like Warren, a senator from Massachusetts, or Sen. Bernie Sanders of Vermont -- both of whom have excited a younger generation of activists -- or embrace a more moderate candidate who could theoretically appeal to Republicans and independents disenchanted by Trump, as well as blue-collar voters who the party lost to Trump in 2016.The latest polls in early-primary states demonstrate that lack of consensus among Democrats about who would be strongest against Trump, which has prompted much of the hand-wringing in recent months.A new Monmouth University poll of likely caucusgoers out Tuesday showed South Bend, Indiana, Mayor Pete Buttigieg surging to the top of the field with 22%, followed by Biden with 19%, Warren with 18% and Sanders at 13%. All four were within the margin of error -- meaning that none of them could claim front-runner status in the Hawkeye State. (Bloomberg registered at 1%). Biden held a slender lead in New Hampshire in a new Quinnipiac University poll this week with the support of 20% of likely voters in the state. Warren followed at 16%, Buttigieg at 15% and Sanders at 14%. The glimmer of hope for Patrick and Bloomberg at this late stage is rooted in Democrats\\' uncertainty about Biden, who was perceived as a far stronger front-runner before he entered the race earlier this year. But both men are untested among the broader electorate.The filing deadlines to get on key state ballots this week appear to have forced the hand of Bloomberg and Patrick, who could face a major disadvantage if they miss the chance to compete in all 50 states, particularly if the race devolves into a prolonged delegate fight.Last week Bloomberg\\'s team filed the paperwork needed to get on the primary ballot in Alabama. (Patrick missed the deadlines in Alabama and appears to have missed Arkansas\\').Bloomberg\\'s adviser Howard Wolfson told CNN in a statement last week that Bloomberg plans to skip the first four primary contests. \"If we run, we are confident we can win in states voting on Super Tuesday and beyond, where we will start on an even footing,\" Wolfson said.On Tuesday in Arkansas, Bloomberg told a gaggle of reporters he was \"still exploring what we\\'re going to do\" and deflected questions about Biden\\'s strength as a candidate, calling him \"a very nice guy.\" \"I\\'ve known him for a long time, and if you want to know about Joe Biden, you\\'ve got to talk to Joe Biden. He\\'s running his campaign, I\\'m running mine and one thing doesn\\'t necessarily have anything to do with another,\" Bloomberg told reporters.\"All I\\'ve got to do is -- if I run -- explain to people what I think is wrong with this country, and how I would fix it. And then the public can make a decision,\" the former New York mayor said.\"I\\'ve been more and more upset with what\\'s going on here,\" he said. \"We don\\'t talk to each other. We don\\'t work together. There\\'s a lack of honesty and civility. That is not good for our country, and I\\'ve got two daughters and two grandkids that I care about. And I\\'d like to do something about it, whether it\\'s running for president or something else.\"', 'Most important takeaways from the first day of public impeachment hearingsUpdated 5:48 PM ET, Wed November 13, 2019(CNN) - The House Intelligence Committee opened historic impeachment hearings Wednesday to investigate whether President Donald Trump (and his allies) abused his office in an attempt to strong-arm Ukraine into opening an inquiry into his political rival, former Vice President Joe Biden.I monitored the highly anticipated -- and hugely high-stakes -- hearing as it happened. Below, my thoughts on the biggest moments of the day.Adam Schiff appeals to history -- and the futureIntelligence Committee Chairman Adam Schiff\\'s opening statement had a very clear message: These hearings aren\\'t about just Trump. They\\'re about how the presidency functions (and should function) within our democracy -- and about the checks and balances between the legislative and executive branches built into the Constitution.\"Our answer to these questions will affect not only the future of this presidency, but the future of the presidency itself, and what kind of conduct or misconduct the American people may come to expect from their commander-in-chief,\" said Schiff at one point.At another, citing the Trump\\'s administration\\'s refusal to allow its senior officials to testify before Congress, Schiff said such a move \"is not what the Founders intended,\" adding: \"The prospects for further corruption and abuse of power, in this administration or another, will be exponentially increased.\"In closing, Schiff asked, \"Is that what Americans should now expect from their President? If this is not impeachable conduct, what is? Does the oath of office itself -- requiring that our laws be faithfully executed, that our President defend a Constitution that balances the powers of its branches, setting ambition against ambition so that we become no monarchy -- still have meaning?\"The goal of Schiff\\'s repeated invocations of history -- he mentioned the Founders twice and the Constitution three times -- was to cast these hearings less as a partisan effort directed at Trump and more as a necessary defense of the democratic principles on which the country was founded.This isn\\'t about Trump or even a particular political party, Schiff was saying. This is about how we want our government to work -- and not work.It seems unlikely that Schiff\\'s appeal to history will sway many people on the committee. Even before he began speaking, Republicans had put signs behind the dais criticizing the proceedings.Devin Nunes turns it up to 11If Schiff tried to ground the hearings in history, California Rep. Devin Nunes, the highest-ranking Republican on the Intelligence Committee, sought to go the gonzo route. He called the hearings a \"pitiful finale\" to Democratic attempts to overturn the results of the 2016 election. He described the closed-door testimony offered by Ukraine witnesses a \"cult-like atmosphere.\" He suggested that the whistleblower \"was known to have a bias against President Trump.\"He derided the \"impeachment sham.\"He called the proceedings a \"Star Chamber.\"He dismissed the investigation as a \"low-rent Ukrainian sequel\" to the Mueller investigation.Nowhere that I could tell did Nunes actually, you know, address the July 25 transcript between Trump and Ukrainian President Volodymyr Zelensky. Or the facts presented by the witnesses called by House investigators.Bill Taylor\\'s opening statement is a wowTaylor, the top US official in Ukraine, delivered a tour-de-force opening statement -- packed with details about the formation of an \"irregular\" channel (led by personal lawyer Rudy Giuliani) with Ukraine that often ran directly counter to his own regular channel and longstanding US policy in the region.  Taylor also laid out an excruciatingly specific timeline of his interactions with, among others, National Security Adviser John Bolton, US Ambassador to the European Union Gordon Sondland and top Ukrainian officials. In that timeline, he repeatedly made clear that there was a not-very-quiet understanding that military aid from the US to Ukraine was being withheld unless and until the country announced an investigation into Burisma Holdings, a Ukrainian natural gas company where Hunter Biden, the former vice president\\'s son, sat on the board.Most stunningly, Taylor recounted an episode that he was told about only after his September 22 closed-door testimony involving Sondland. According to Taylor, Sondland met with a top aide to Zelensky on July 26 -- one day after the fateful call between Trump and Zelensky. Sondland then called Trump and informed him of the nature of the meeting and an aide to Taylor heard Trump ask of \"the investigations.\" Following that call, the Taylor aide asked Sondland what Trump\\'s thoughts were on Ukraine. Sondland replied that Trump cares more about the Biden investigation than anything else.Which, wow.The geopolitical impact of Trump\\'s approach to UkraineWhile the focus of Wednesday\\'s hearing -- from members of Congress at least -- is what Trump (and his allies) did in regard to Ukraine and the Bidens, both Taylor and George Kent, a State Department official, repeatedly expressed their concerns about the impact of withholding military aid to the country. Taylor noted that he had traveled to the Donbass region in eastern Ukraine and had seen, directly, the impact of the nearly $400 million in withheld American military aid for the country in its ongoing fight against Russian incursions. Kent, similarly, sought to emphasize how critical Ukraine -- and America\\'s support for Ukraine -- was in the ongoing efforts to limit Russia\\'s advancement in the region. (Russia annexed Crimea, a Ukrainian territory, in 2014.)The genuine concern expressed by Taylor and Kent is a startling reminder that the pressure campaign organized by the White House had, to these longtime diplomats\\' minds, real-world implications not just for Ukraine but for the United States\\' interests in the region -- and specifically in its dealings with Russia.In short: This wasn\\'t just about Trump getting what he wanted on the Bidens from Ukraine. This had real reverberations in American geopolitics.Taylor says none of this was normalOne of Republicans\\' biggest talking points going into these impeachment hearings was that nothing Trump did in his call with Zelensky was outside the normal operating procedures of a President negotiating with a foreign leader. \"We do that all that time with foreign policy,\" acting White House chief of staff Mick Mulvaney said last month, adding, \"Get over it.\"Taylor was clear on Wednesday that he did not agree with the Republican view on this. \"It\\'s one thing to try to leverage a meeting in the White House,\" said Taylor. \"It\\'s another thing -- I thought -- to try to leverage security assistance. ... It\\'s much more alarming.\"Partisans will take the side that affirms their view. But remember that Taylor is a longtime diplomat serving under both Democratic and Republican presidents. And that Mulvaney is, well, not.Nunes pushed a debunked Ukraine conspiracy theoryOpening his questions to Kent and Taylor in the early afternoon, Nunes detailed a widely debunked conspiracy theory that, somehow, the Ukrainians were involved in working to aid Democratic nominee Hillary Clinton\\'s 2016 campaign and that the country might have possession of the hacked Democratic National Committee\\'s server. (The President brought up this same conspiracy theory during his July 25 call with Zelensky.)To be clear: There is no evidence that Ukraine played any role in the 2016 US presidential election. Kent said as much during his testimony -- under oath -- earlier on Wednesday. Former National Security Council Russia expert Fiona Hill said the same during her closed-door testimony to House investigators. And former White House homeland security adviser Tom Bossert summed it up to ABC\\'s George Stephanopoulos this way in late September:\"It is completely debunked ... I am deeply frustrated with what [Giuliani] and the legal team is doing and repeating that debunked theory to the president. It sticks in his mind when he hears it over and over again, and for clarity here, George, let me just again repeat that it has no validity.\"So, no, Devin Nunes.Republicans\\' main talking point: YawnThere\\'s a very clear effort by prominent Republicans to paint this impeachment hearing as a big nothingburger.\"This sham hearing is not only boring, it is a colossal waste of taxpayer time & money,\" tweeted White House press secretary Stephanie Grisham.\"This is horribly boring... #Snoozefest,\" tweeted Eric Trump. And North Carolina Rep. Mark Meadows, a close White House ally, told CNN\\'s Lauren Fox: \"I don\\'t know about you but it\\'s hard for me to stay awake and listen to all of this.\"The similarity in language is, well, not an accident. It\\'s obvious that Republicans believe their best way to get through all of this is to say that it\\'s all boring and a bunch of details that only nerds care about. Will it work? For the base, yes. For the rest of the country? I doubt it.Jim Jordan showcases his patented interviewing styleHouse Republicans so value Ohio Rep. Jim Jordan -- and his ability to score points in congressional hearings -- that they added him to the Intelligence Committee just days before Wednesday\\'s hearing.And Jordan did his thing. He spoke fast. He interrupted. He snarked. (\"You\\'re their star witness?\" Jordan sarcastically asked Taylor. \"I\\'ve seen church prayer chains that are easier to understand than this.\")The goal of all of this -- as it always is with Jordan -- is to make witnesses look unsure and unsteady. (When you talk really fast and then push the witness to immediately respond in a single-word answer, it tends to have that effect.) Did it work with Taylor? There were a few \"ums and \"ahs\" from the ambassador, but he stuck to his story.Republicans say Ukraine never did what Trump asked, so...One of the main thrusts of the GOP argument against the testimony of Taylor and Kent is that, for all of their concerns about what Trump asked of Zelensky, the nearly $400 million in military aid was released in September -- even without Ukraine making any public statement about its plans to investigate the Bidens.Jordan hit on the nothing-actually-happened line. As did Texas Rep. John Ratcliffe. As did New York Rep. Elise Stefanik.But context matters. Right around the time that the aid was released fully -- September 11 -- Congress had begun to ask questions (on a bipartisan basis) about why the aid was being withheld. And there was already talk about a whistleblower complaint, which had been formally filed on August 11, alleging wrongdoing by Trump on that call with Zelensky among other things.That timing suggests that the argument being made by Jordan and other Republicans isn\\'t as conclusive as they want it to seem.', 'How I became an all-American Muslim girlUpdated 9:43 AM ET, Thu November 14, 2019Editor\\'s Note: Nadine Jolie Courtney is the author of the novel \"All-American Muslim Girl.\" Her writing has appeared in Angeleno, O: The Oprah Magazine, Architectural Digest, Town & Country and elsewhere. The views expressed here are hers. Read more opinion on CNN. (CNN) - On January 27th, 2017, after President Donald Trump issued an executive order banning entry to the US by citizens of seven Muslim-majority countries (and indefinitely halting refugees from Syria), thousands of protesters stormed John F. Kennedy airport in New York City, and other airports around the country, proclaiming their solidarity with Muslims. Countless more, I among them, watched on television as the events unfolded.It was a watershed moment for American Muslims like me, who had grown up believing that people would judge us for our religion. The sky was blue, water was wet, and other Americans looked down on Islam. These were facts we internalized. It\\'s why for most of my life, I\\'ve lived as a white-passing, mixed-raced Muslim: green eyes, blonde hair, fair skin. Despite my father\\'s Middle Eastern and Asian ancestry, I look a lot like my white, Catholic-born mother: the basic girl-next-door.But for me, the day Trump instituted the travel ban and Americans from all walks of life fought back against it was doubly profound: it\\'s the day I stopped hiding. It\\'s the day I re-opened the word document on my computer and started writing the personal story I\\'d been too afraid to explore for 10 years. It\\'s the day I officially began writing my novel \"All-American Muslim Girl\" -- about Islamophobia, white privilege, identity and erasure. Because of my appearance, the Islamophobia I\\'ve experienced over the years is very different from that of my Muslim cousins, aunts and friends. People don\\'t stare at me at the grocery store or make comments about my appearance or lack of hijab while I\\'m working out. I don\\'t get told in parking lots to \"go back where I came from.\" I\\'ve never had somebody yell \"Allahu akbar!\" at me in the hallway at school. All of these things have happened to people I love. Unlike them, I almost never feel in danger because of my religion.  Instead, I\\'m subject to microaggressions: people\\'s jaws dropping when they find out I\\'m Muslim. Incredulous comments like, \"You? But you look so American!\" -- as if Muslims can\\'t be Americans, too. People staring at me quizzically, asking of my heritage, \"So, like...what are you?\" And, of course, the endless questions about whether I pray, whether I drink, whether I eat bacon, whether I support various international policies -- as if they\\'re trying to figure out whether they can trust me.It\\'s not just the comments. When I was in elementary school, in the thick of years spent keeping my family\\'s religion silent — a privilege obviously afforded to us by virtue of pale skin, stemming from my father\\'s Circassian heritage -- my best friend\\'s family didn\\'t know we were Muslims. Soon after my friend\\'s mother found out, my friend sheepishly told me I was no longer able to come over to her house. But why? I hadn\\'t done anything wrong: had never been impolite, had never broken anything or raised my voice. My friend shrugged, unable to provide an answer. Her mom just didn\\'t feel comfortable having me over any longer.Years of hiding has produced a tension between the two sides of myself: the side who \"came out\" after the Muslim ban and started enthusiastically, publicly claiming my \"Muslimness\"...and the side that had built a life where people were completely unaware of my religion, my heritage, and family, and the fact that, yes, I do actually pray every day. Yes, in Arabic.When those people -- the ones who I work with, who I regularly but casually chat with in the world — find out about the title of my book, I typically dread the reaction. It\\'s always the same:\"But...you\\'re not Muslim, right?\"Before writing the book, my father\\'s words would always ring in my ears: \"People will treat you differently if they know you\\'re Muslim...\"But I wanted people to know I was a Muslim. I\\'m proud of my heritage, and I feel honored to practice such a beautiful -- if wildly misunderstood -- religion. My novel debunks myths about Islam by gently educating people — through the eyes of a young white-passing 16-year-old who is exploring her family\\'s religion herself for the first time -- but it was important to me not to \"justify\" the religion for Western eyes. Ironically, after I started publicly identifying as Muslim, I was especially nervous about the reaction of the Muslim community. After all, I don\\'t wear a hijab, I\\'ve enjoyed many a bottle of Cabernet in my time, I rarely attend mosque and my mother-in-law is even an Episcopalian nun. (That\\'s a different story for another time.) Forget my appearance: my lifestyle disqualified me from being seen as a good Muslim. But then I realized I was falling into my own trap: the idea that Muslims are a monolith, and the idea that it\\'s okay for anybody to believe that because you\\'re a Muslim, you can only be one way.  There is no such thing as One Muslim. We are the world\\'s second-largest religion, and that includes Muslims of every nationality, skin color, ethnicity, lifestyle and background -- yes, even basic American girls.The worry that you\\'re not \"good enough\" is a pervasive one, and as I\\'ve formed bonds with Muslim sisters outside of my family, I\\'ve realized I\\'m not the only one who struggles with feeling caught between two worlds or who desperately wants to be accepted for who she is. Luckily, the support from the Muslim community for my book -- and for me -- has been heartening and wonderfully overwhelming.So, yes, I\\'m an all-American Muslim Girl. I know the lyrics to every Pearl Jam song, and I pray multiple times a day. I choose not to wear hijab, and I choose to eat as much of my Amto\\'s koosa as I can fit into my stomach when I\\'m home visiting family. Like my Muslim sisters, I am complex, and I am empowered and I adore my religion.I am enough, exactly as I am. ']\n"
          ],
          "name": "stdout"
        }
      ]
    },
    {
      "cell_type": "code",
      "metadata": {
        "colab": {
          "base_uri": "https://localhost:8080/"
        },
        "id": "54OfVSckxHvv",
        "outputId": "dcd3f0c1-85de-4225-beb2-2b231edcd742"
      },
      "source": [
        "len(posts)"
      ],
      "execution_count": 6,
      "outputs": [
        {
          "output_type": "execute_result",
          "data": {
            "text/plain": [
              "14"
            ]
          },
          "metadata": {
            "tags": []
          },
          "execution_count": 6
        }
      ]
    },
    {
      "cell_type": "code",
      "metadata": {
        "id": "WtE_ROGfCLFz"
      },
      "source": [
        "PATH = '/content/drive/MyDrive/python_for_data_scientists/DSI07/D71L2_TEXT_FILE'\n",
        "\n",
        "for i, post in enumerate(posts):\n",
        "\n",
        "  with open(PATH + '_' + f'article_{i}.txt', 'wb') as f:\n",
        "    f.write(post.encode())\n",
        "  "
      ],
      "execution_count": 7,
      "outputs": []
    },
    {
      "cell_type": "code",
      "metadata": {
        "id": "v76-dF8sD7eu"
      },
      "source": [
        ""
      ],
      "execution_count": 7,
      "outputs": []
    },
    {
      "cell_type": "markdown",
      "metadata": {
        "id": "BgGlAM2X34Pc"
      },
      "source": [
        "### Ingest the text files generated via web scraping into a corpus and print the corpus statistics."
      ]
    },
    {
      "cell_type": "code",
      "metadata": {
        "id": "mmybAnNB34Pf"
      },
      "source": [
        "from nltk.corpus.reader.plaintext import PlaintextCorpusReader\n",
        "\n",
        "DOC_PATTERN = r'.*\\.txt'\n",
        "corpus = PlaintextCorpusReader('/content/drive/MyDrive/python_for_data_scientists/DSI07/D71L2_TEXT_FILE', DOC_PATTERN)"
      ],
      "execution_count": 8,
      "outputs": []
    },
    {
      "cell_type": "code",
      "metadata": {
        "colab": {
          "base_uri": "https://localhost:8080/"
        },
        "id": "mcG7rhVGJsdg",
        "outputId": "74e06f20-078a-44b3-ca35-799f49da4b2a"
      },
      "source": [
        "import nltk\n",
        "nltk.download('punkt')\n",
        "\n",
        "def corpus_stats(corpus):\n",
        "    print(\n",
        "        f\"Corpus Statistics\\n\\n\"\n",
        "        f\"Number of documents: {len(corpus.fileids())}\\n\\n\"\n",
        "        f\"Number of paragraphs: {len(corpus.paras())}\\n\\n\"\n",
        "        f\"Number of sentences: {len(corpus.sents())}\\n\\n\"\n",
        "        f\"Number of words: {len(corpus.words())}\\n\\n\"\n",
        "        f\"Vocabulary: {len(set(w.lower() for w in corpus.words()))}\\n\\n\"\n",
        "        f\"Avg chars per word: {round(len(corpus.raw())/len(corpus.words()))}\\n\\n\"\n",
        "        f\"Avg words per sentence: {round(len(corpus.words())/len(corpus.sents()))}\\n\\n\"\n",
        "    )\n",
        "corpus_stats(corpus)"
      ],
      "execution_count": 13,
      "outputs": [
        {
          "output_type": "stream",
          "text": [
            "[nltk_data] Downloading package punkt to /root/nltk_data...\n",
            "[nltk_data]   Package punkt is already up-to-date!\n",
            "Corpus Statistics\n",
            "\n",
            "Number of documents: 14\n",
            "\n",
            "Number of paragraphs: 14\n",
            "\n",
            "Number of sentences: 427\n",
            "\n",
            "Number of words: 13824\n",
            "\n",
            "Vocabulary: 2955\n",
            "\n",
            "Avg chars per word: 5\n",
            "\n",
            "Avg words per sentence: 32\n",
            "\n",
            "\n"
          ],
          "name": "stdout"
        }
      ]
    },
    {
      "cell_type": "markdown",
      "metadata": {
        "id": "sGP_4yfR34Pi"
      },
      "source": [
        "### Parse the O'Reilly Radar RSS feed below, extract the text from each post, and save it to a text file.\n",
        "\n",
        "The content of each post contains HTML tags. Strip those out using the same approach you used for web scraping so that only text is saved to the files."
      ]
    },
    {
      "cell_type": "code",
      "metadata": {
        "id": "CDbqkFCF34Pl"
      },
      "source": [
        "feed = 'http://feeds.feedburner.com/oreilly/radar/atom'"
      ],
      "execution_count": 14,
      "outputs": []
    },
    {
      "cell_type": "code",
      "metadata": {
        "id": "l-a9JgWH34Po"
      },
      "source": [
        "parsed = feedparser.parse(feed)"
      ],
      "execution_count": 15,
      "outputs": []
    },
    {
      "cell_type": "code",
      "metadata": {
        "colab": {
          "base_uri": "https://localhost:8080/"
        },
        "id": "DeEGy_lPqpK-",
        "outputId": "ff550595-b15e-438a-c2ac-50d9891b7c8c"
      },
      "source": [
        "len(parsed.entries)"
      ],
      "execution_count": 16,
      "outputs": [
        {
          "output_type": "execute_result",
          "data": {
            "text/plain": [
              "60"
            ]
          },
          "metadata": {
            "tags": []
          },
          "execution_count": 16
        }
      ]
    },
    {
      "cell_type": "code",
      "metadata": {
        "id": "lly-9Le7rns3"
      },
      "source": [
        "posts = parsed.entries"
      ],
      "execution_count": 17,
      "outputs": []
    },
    {
      "cell_type": "code",
      "metadata": {
        "colab": {
          "base_uri": "https://localhost:8080/"
        },
        "id": "XH1Z5BUArrX7",
        "outputId": "91056b48-4856-4bf9-aea5-65e0883ff9b9"
      },
      "source": [
        "posts[0]"
      ],
      "execution_count": 18,
      "outputs": [
        {
          "output_type": "execute_result",
          "data": {
            "text/plain": [
              "{'author': '',\n",
              " 'authors': [{}],\n",
              " 'comments': 'https://www.oreilly.com/radar/oreillys-top-20-live-online-training-courses-of-2020/#respond',\n",
              " 'content': [{'base': 'http://feeds.feedburner.com/oreilly/radar/atom',\n",
              "   'language': None,\n",
              "   'type': 'text/html',\n",
              "   'value': '<p>2020 has been a year of great challenges for so many, but it’s not all negative. Around the world, organizations and their workforces have risen to the occasion, recognizing the importance of expanding their knowledge, taking on new tasks, and bettering themselves both personally and professionally. With the uptick in virtual conferencing, remote work, and, for some, reentering the job market, new technology adoption was accelerated, driving the workforce to build new skills. While 2020 was the year of the global COVID-19 pandemic, it will also be commemorated as the year online learning prevailed. As vaccine development persists and life gets back to normal, with it will come a more future-proof workforce ready to share their new knowledge with the world.&nbsp;</p>\\n\\n\\n\\n<p>Since the onset of the pandemic, online courses and programs have seen dramatic spikes in consumption and enrollment, and O’Reilly has been no different. A big contributor to O’Reilly’s continued success during these unprecedented times has been its live virtual training courses. This year, more than 900,000 users have registered for live events through O’Reilly online learning—a 96% increase from last year. This functionality also allowed O’Reilly to introduce its <a href=\"https://www.oreilly.com/pub/pr/3299\">Superstream Series</a>, a new lineup of virtual conferences featuring expert speakers delivering talks and training sessions on the most important topics and emerging trends in technology.&nbsp;</p>\\n\\n\\n\\n<p>So what are the trends driving this uptick in learning? Companies are increasingly interested in understanding how to successfully adjust to remote work and effectively manage time. And individual O’Reilly members are looking to build and expand on their technical skills in everything from software architecture and microservices to AI and programming languages. But which topics are the brightest minds in technology most focused on? We’ve compiled the top 20 live online training courses of 2020 to shed some light on what those in the know want to know.</p>\\n\\n\\n\\n<p><strong>Top 20 live online training courses of 2020</strong></p>\\n\\n\\n\\n<ol><li>Software Architecture Superstream Series: Software Architecture Fundamentals</li><li>Microservice Fundamentals</li><li>Kubernetes in Three Weeks</li><li>O&#8217;Reilly Infrastructure &amp; Ops Superstream: SRE Edition</li><li>Fundamentals of Learning: Learn Faster and Better Using Neuroscience</li><li>Strata Data &amp; AI Superstream Series: Deep Learning</li><li>Microservices Architecture and Design</li><li>Machine Learning from Scratch</li><li>Leadership Communication Skills for Managers</li><li>Design Patterns Boot Camp</li><li>Strata Data and AI Superstream</li><li>Getting Started with Python 3</li><li>Python Data Science Full Throttle with Paul Deitel: Introductory Artificial Intelligence (AI), Big Data, and Cloud Case Studies</li><li>Getting Started with Amazon Web Services (AWS)</li><li>Architectural Katas</li><li>Introduction to Critical Thinking</li><li>Python Full Throttle with Paul Deitel</li><li>Microservice Collaboration</li><li>OSCON Open Source Software Superstream Series: Live Coding—Go, Rust, and Python</li><li>SOLID Principles of Object-Oriented and Agile Design</li></ol>\\n\\n\\n\\n<p>For a more in-depth analysis of the hot technology topics of 2020, based on data from O’Reilly online learning, stay tuned for our upcoming report, <em>Wrapping Up 2020 (and What to Expect for 2021): Trends on O’Reilly online learning</em>. </p>\\n<img alt=\"\" height=\"1\" src=\"http://feeds.feedburner.com/~r/oreilly/radar/atom/~4/FiKCgaU6NNo\" width=\"1\" />'}],\n",
              " 'feedburner_origlink': 'https://www.oreilly.com/radar/oreillys-top-20-live-online-training-courses-of-2020/',\n",
              " 'guidislink': False,\n",
              " 'id': 'https://www.oreilly.com/radar/?p=13546',\n",
              " 'link': 'http://feedproxy.google.com/~r/oreilly/radar/atom/~3/FiKCgaU6NNo/',\n",
              " 'links': [{'href': 'http://feedproxy.google.com/~r/oreilly/radar/atom/~3/FiKCgaU6NNo/',\n",
              "   'rel': 'alternate',\n",
              "   'type': 'text/html'}],\n",
              " 'published': 'Wed, 09 Dec 2020 14:36:14 +0000',\n",
              " 'published_parsed': time.struct_time(tm_year=2020, tm_mon=12, tm_mday=9, tm_hour=14, tm_min=36, tm_sec=14, tm_wday=2, tm_yday=344, tm_isdst=0),\n",
              " 'slash_comments': '0',\n",
              " 'summary': '2020 has been a year of great challenges for so many, but it’s not all negative. Around the world, organizations and their workforces have risen to the occasion, recognizing the importance of expanding their knowledge, taking on new tasks, and bettering themselves both personally and professionally. With the uptick in virtual conferencing, remote work, and, [&#8230;]',\n",
              " 'summary_detail': {'base': 'http://feeds.feedburner.com/oreilly/radar/atom',\n",
              "  'language': None,\n",
              "  'type': 'text/html',\n",
              "  'value': '2020 has been a year of great challenges for so many, but it’s not all negative. Around the world, organizations and their workforces have risen to the occasion, recognizing the importance of expanding their knowledge, taking on new tasks, and bettering themselves both personally and professionally. With the uptick in virtual conferencing, remote work, and, [&#8230;]'},\n",
              " 'tags': [{'label': None, 'scheme': None, 'term': \"O'Reilly Insights\"},\n",
              "  {'label': None, 'scheme': None, 'term': \"O'Reilly Learning\"}],\n",
              " 'title': 'O’Reilly’s top 20 live online training courses of 2020',\n",
              " 'title_detail': {'base': 'http://feeds.feedburner.com/oreilly/radar/atom',\n",
              "  'language': None,\n",
              "  'type': 'text/plain',\n",
              "  'value': 'O’Reilly’s top 20 live online training courses of 2020'},\n",
              " 'wfw_commentrss': 'https://www.oreilly.com/radar/oreillys-top-20-live-online-training-courses-of-2020/feed/'}"
            ]
          },
          "metadata": {
            "tags": []
          },
          "execution_count": 18
        }
      ]
    },
    {
      "cell_type": "markdown",
      "metadata": {
        "id": "SqK4w9sa34Pr"
      },
      "source": [
        "### Ingest the text files generated via RSS parsing into a corpus and print the corpus statistics."
      ]
    },
    {
      "cell_type": "code",
      "metadata": {
        "id": "cd4x36-934Ps"
      },
      "source": [
        "PATH = '/content/drive/MyDrive/python_for_data_scientists/DSI07/D71L2_TEXT_FILE'"
      ],
      "execution_count": 19,
      "outputs": []
    },
    {
      "cell_type": "code",
      "metadata": {
        "id": "QMsGMCCWr3Gi"
      },
      "source": [
        "for i, post in enumerate(posts):\n",
        "  text = post.summary\n",
        "\n",
        "  with open(PATH + f'post_{i}.txt', 'wb') as f:\n",
        "    f.write(text.encode())"
      ],
      "execution_count": 20,
      "outputs": []
    },
    {
      "cell_type": "code",
      "metadata": {
        "id": "bBsVTN1dr3ce"
      },
      "source": [
        "DOC_PATTERN = r'.*\\.txt'\n",
        "corpus = PlaintextCorpusReader('/content/drive/MyDrive/python_for_data_scientists/DSI07/D71L2_TEXT_FILE_2', DOC_PATTERN)"
      ],
      "execution_count": 21,
      "outputs": []
    },
    {
      "cell_type": "code",
      "metadata": {
        "colab": {
          "base_uri": "https://localhost:8080/"
        },
        "id": "qK5Nj2hqr3fV",
        "outputId": "3fb3a42e-338f-421b-fa54-bab6742f2b8e"
      },
      "source": [
        "corpus_stats(corpus)"
      ],
      "execution_count": 22,
      "outputs": [
        {
          "output_type": "stream",
          "text": [
            "Corpus Statistics\n",
            "\n",
            "Number of documents: 60\n",
            "\n",
            "Number of paragraphs: 60\n",
            "\n",
            "Number of sentences: 197\n",
            "\n",
            "Number of words: 4515\n",
            "\n",
            "Vocabulary: 1467\n",
            "\n",
            "Avg chars per word: 5\n",
            "\n",
            "Avg words per sentence: 23\n",
            "\n",
            "\n"
          ],
          "name": "stdout"
        }
      ]
    },
    {
      "cell_type": "markdown",
      "metadata": {
        "id": "9BDwjO8t34Pw"
      },
      "source": [
        "### Make an API call to the Hacker News API to retrieve their Ask, Show, and Job category items. \n",
        "\n",
        "- URL: https://hacker-news.firebaseio.com/v0/askstories.json"
      ]
    },
    {
      "cell_type": "code",
      "metadata": {
        "colab": {
          "base_uri": "https://localhost:8080/"
        },
        "id": "b_IKWFoftQN5",
        "outputId": "df11e5fc-962d-4088-fb6e-10d0f9dab2f3"
      },
      "source": [
        "categories = ['ask', 'show', 'job']\n",
        "ids = []\n",
        "for category in categories:\n",
        "  url = f'https://hacker-news.firebaseio.com/v0/{category}stories.json'\n",
        "  response = requests.get(url)\n",
        "  print(response)\n",
        "  print(f'Added {len(response.json())} from {category}stories')\n",
        "  ids.extend(response.json())"
      ],
      "execution_count": 25,
      "outputs": [
        {
          "output_type": "stream",
          "text": [
            "<Response [200]>\n",
            "Added 92 from askstories\n",
            "<Response [200]>\n",
            "Added 39 from showstories\n",
            "<Response [200]>\n",
            "Added 60 from jobstories\n"
          ],
          "name": "stdout"
        }
      ]
    },
    {
      "cell_type": "markdown",
      "metadata": {
        "id": "yEasqCkr34P0"
      },
      "source": [
        "### Once you have retrieved the item IDs from the URL above, retrieve each item by adding the item ID to the URL below, extract the item's text property, and save the text from each item to disk as its own document.\n",
        "\n",
        "- URL: https://hacker-news.firebaseio.com/v0/item/ITEM_ID_HERE.json\n",
        "\n",
        "The content of some items may contain HTML tags. Strip those out using the same approach you used for web scraping so that only text is saved to the files."
      ]
    },
    {
      "cell_type": "code",
      "metadata": {
        "id": "6Vp7yfWB34P1",
        "colab": {
          "base_uri": "https://localhost:8080/",
          "height": 35
        },
        "outputId": "79a71df6-50f1-428b-fd77-2a009f6cd49d"
      },
      "source": [
        "url = f'https://hacker-news.firebaseio.com/v0/item/{ids[0]}.json'\n",
        "response = requests.get(url)\n",
        "soup = BeautifulSoup(response.json()['text'])\n",
        "soup.text"
      ],
      "execution_count": 26,
      "outputs": [
        {
          "output_type": "execute_result",
          "data": {
            "application/vnd.google.colaboratory.intrinsic+json": {
              "type": "string"
            },
            "text/plain": [
              "'I love asking new colleagues this question, figured I would open it here as well.What are you surprised isn’t being worked on more?'"
            ]
          },
          "metadata": {
            "tags": []
          },
          "execution_count": 26
        }
      ]
    },
    {
      "cell_type": "code",
      "metadata": {
        "id": "H9UiRrBO0sky"
      },
      "source": [
        "path = '/content/drive/MyDrive/python_for_data_scientists/DSI07/D71L2_API_Calls'\n",
        "\n",
        "for i, id_ in enumerate(ids):\n",
        "    url = f'https://hacker-news.firebaseio.com/v0/item/{id_}.json'\n",
        "    response = requests.get(url)\n",
        "    if 'text' in response.json().keys():\n",
        "        soup = BeautifulSoup(response.json()['text'])\n",
        "        text = soup.text\n",
        "        with open(path + f'article_{i}.txt', 'wb') as f:\n",
        "            f.write(text.encode())"
      ],
      "execution_count": 27,
      "outputs": []
    },
    {
      "cell_type": "markdown",
      "metadata": {
        "id": "hw9-v8sK34P5"
      },
      "source": [
        "### Ingest the text files generated via API into a corpus and print the corpus statistics."
      ]
    },
    {
      "cell_type": "code",
      "metadata": {
        "id": "dcsiPdkx34P7",
        "colab": {
          "base_uri": "https://localhost:8080/"
        },
        "outputId": "6242eb19-97fe-4850-a83e-f60e1bea03cd"
      },
      "source": [
        "doc_pattern = r'.*\\.txt'\n",
        "corpus = PlaintextCorpusReader(path, doc_pattern)\n",
        "\n",
        "corpus_stats(corpus)"
      ],
      "execution_count": 28,
      "outputs": [
        {
          "output_type": "stream",
          "text": [
            "Corpus Statistics\n",
            "\n",
            "Number of documents: 82\n",
            "\n",
            "Number of paragraphs: 82\n",
            "\n",
            "Number of sentences: 303\n",
            "\n",
            "Number of words: 8834\n",
            "\n",
            "Vocabulary: 2217\n",
            "\n",
            "Avg chars per word: 5\n",
            "\n",
            "Avg words per sentence: 29\n",
            "\n",
            "\n"
          ],
          "name": "stdout"
        }
      ]
    },
    {
      "cell_type": "code",
      "metadata": {
        "id": "ve3fW10n3mG_"
      },
      "source": [
        ""
      ],
      "execution_count": null,
      "outputs": []
    }
  ]
}