{
  "nbformat": 4,
  "nbformat_minor": 0,
  "metadata": {
    "kernelspec": {
      "display_name": "Python 3",
      "language": "python",
      "name": "python3"
    },
    "language_info": {
      "codemirror_mode": {
        "name": "ipython",
        "version": 3
      },
      "file_extension": ".py",
      "mimetype": "text/x-python",
      "name": "python",
      "nbconvert_exporter": "python",
      "pygments_lexer": "ipython3",
      "version": "3.7.2"
    },
    "colab": {
      "name": "Angel_D71_L2.ipynb",
      "provenance": []
    }
  },
  "cells": [
    {
      "cell_type": "markdown",
      "metadata": {
        "id": "IihPCGvd34PH"
      },
      "source": [
        "# Text Acquisition & Ingestion Assignment"
      ]
    },
    {
      "cell_type": "code",
      "metadata": {
        "id": "DhLA_w7p34PM"
      },
      "source": [
        "import json\n",
        "import requests\n",
        "import feedparser\n",
        "from bs4 import BeautifulSoup"
      ],
      "execution_count": 3,
      "outputs": []
    },
    {
      "cell_type": "markdown",
      "metadata": {
        "id": "lZ3ytdXA34PR"
      },
      "source": [
        "### Iterate through the list of article URLs below, scraping the text from each one and saving it to a text file. "
      ]
    },
    {
      "cell_type": "code",
      "metadata": {
        "id": "mDbZqPpT34PU"
      },
      "source": [
        "articles = ['http://lite.cnn.io/en/article/h_eac18760a7a7f9a1bf33616f1c4a336d',\n",
        "            'http://lite.cnn.io/en/article/h_de3f82f17d289680dd2b47c6413ebe7c',\n",
        "            'http://lite.cnn.io/en/article/h_72f4dc9d6f35458a89af014b62e625ad',\n",
        "            'http://lite.cnn.io/en/article/h_aa21fe6bf176071cb49e09d422c3adf0',\n",
        "            'http://lite.cnn.io/en/article/h_8ad34a532921c9076cdc9d7390d2f1bc',\n",
        "            'http://lite.cnn.io/en/article/h_84422c79110d9989177cfaf1c5f45fe7',\n",
        "            'http://lite.cnn.io/en/article/h_d010d9580abac3a44c6181ec6fb63d58',\n",
        "            'http://lite.cnn.io/en/article/h_fb11f4e9d7c5323e75b337d9e9e5e368',\n",
        "            'http://lite.cnn.io/en/article/h_7b27f0b131067f8ece6238ac559670ab',\n",
        "            'http://lite.cnn.io/en/article/h_8cae7f735fa9573d470f802063ceffe2',\n",
        "            'http://lite.cnn.io/en/article/h_72c3668280e82576fcc2602b0fa70c14',\n",
        "            'http://lite.cnn.io/en/article/h_d20658fb0e20212051cda0e0a7248c8a',\n",
        "            'http://lite.cnn.io/en/article/h_56611c43d7928120d2ae21666ccc7417',\n",
        "            'http://lite.cnn.io/en/article/h_bda0394e3c5ee7054ee65c022bca7695']"
      ],
      "execution_count": 4,
      "outputs": []
    },
    {
      "cell_type": "code",
      "metadata": {
        "id": "nynIRghJG3Yv"
      },
      "source": [
        "PATH = '/content/drive/MyDrive/News_Articles/'\r\n",
        "for i, article in enumerate(articles):\r\n",
        "    response = requests.get(article)\r\n",
        "    soup = BeautifulSoup(response.text).find('div', {'class': 'afe4286c'}).text\r\n",
        "    with open(PATH + f'article_{i}.txt', 'wb') as f:\r\n",
        "      f.write(soup.encode())"
      ],
      "execution_count": 97,
      "outputs": []
    },
    {
      "cell_type": "markdown",
      "metadata": {
        "id": "BgGlAM2X34Pc"
      },
      "source": [
        "### Ingest the text files generated via web scraping into a corpus and print the corpus statistics."
      ]
    },
    {
      "cell_type": "code",
      "metadata": {
        "id": "mmybAnNB34Pf",
        "colab": {
          "base_uri": "https://localhost:8080/"
        },
        "outputId": "f655f86e-e962-4f92-d5cf-89babbd7f3d4"
      },
      "source": [
        "from nltk.corpus.reader.plaintext import PlaintextCorpusReader\r\n",
        "import nltk\r\n",
        "nltk.download('punkt')\r\n",
        "\r\n",
        "DOC_PATTERN = r'.*\\.txt'\r\n",
        "corpus = PlaintextCorpusReader(PATH, DOC_PATTERN)\r\n",
        "corpus.fileids()"
      ],
      "execution_count": 98,
      "outputs": [
        {
          "output_type": "stream",
          "text": [
            "[nltk_data] Downloading package punkt to /root/nltk_data...\n",
            "[nltk_data]   Package punkt is already up-to-date!\n"
          ],
          "name": "stdout"
        },
        {
          "output_type": "execute_result",
          "data": {
            "text/plain": [
              "['article_0.txt',\n",
              " 'article_1.txt',\n",
              " 'article_10.txt',\n",
              " 'article_11.txt',\n",
              " 'article_12.txt',\n",
              " 'article_13.txt',\n",
              " 'article_2.txt',\n",
              " 'article_3.txt',\n",
              " 'article_4.txt',\n",
              " 'article_5.txt',\n",
              " 'article_6.txt',\n",
              " 'article_7.txt',\n",
              " 'article_8.txt',\n",
              " 'article_9.txt']"
            ]
          },
          "metadata": {
            "tags": []
          },
          "execution_count": 98
        }
      ]
    },
    {
      "cell_type": "code",
      "metadata": {
        "id": "rQat0vT8PiKm"
      },
      "source": [
        "def corpus_stats(corpus):\r\n",
        "    print(\r\n",
        "        f\"Corpus Statistics\\n\\n\"\r\n",
        "        f\"Number of documents: {len(corpus.fileids())}\\n\\n\"\r\n",
        "        f\"Number of paragraphs: {len(corpus.paras())}\\n\\n\"\r\n",
        "        f\"Number of sentences: {len(corpus.sents())}\\n\\n\"\r\n",
        "        f\"Number of words: {len(corpus.words())}\\n\\n\"\r\n",
        "        f\"Vocabulary: {len(set(w.lower() for w in corpus.words()))}\\n\\n\"\r\n",
        "        f\"Avg chars per word: {round(len(corpus.raw())/len(corpus.words()))}\\n\\n\"\r\n",
        "        f\"Avg words per sentence: {round(len(corpus.words())/len(corpus.sents()))}\\n\\n\"\r\n",
        "    )"
      ],
      "execution_count": 99,
      "outputs": []
    },
    {
      "cell_type": "code",
      "metadata": {
        "colab": {
          "base_uri": "https://localhost:8080/"
        },
        "id": "HSJKyM3VPxat",
        "outputId": "f952a603-18cd-4d9c-a30b-a94688afe183"
      },
      "source": [
        "corpus_stats(corpus)"
      ],
      "execution_count": 100,
      "outputs": [
        {
          "output_type": "stream",
          "text": [
            "Corpus Statistics\n",
            "\n",
            "Number of documents: 14\n",
            "\n",
            "Number of paragraphs: 14\n",
            "\n",
            "Number of sentences: 427\n",
            "\n",
            "Number of words: 13824\n",
            "\n",
            "Vocabulary: 2955\n",
            "\n",
            "Avg chars per word: 5\n",
            "\n",
            "Avg words per sentence: 32\n",
            "\n",
            "\n"
          ],
          "name": "stdout"
        }
      ]
    },
    {
      "cell_type": "markdown",
      "metadata": {
        "id": "sGP_4yfR34Pi"
      },
      "source": [
        "### Parse the O'Reilly Radar RSS feed below, extract the text from each post, and save it to a text file.\n",
        "\n",
        "The content of each post contains HTML tags. Strip those out using the same approach you used for web scraping so that only text is saved to the files."
      ]
    },
    {
      "cell_type": "code",
      "metadata": {
        "id": "CDbqkFCF34Pl"
      },
      "source": [
        "feed = 'http://feeds.feedburner.com/oreilly/radar/atom'"
      ],
      "execution_count": 102,
      "outputs": []
    },
    {
      "cell_type": "code",
      "metadata": {
        "id": "l-a9JgWH34Po"
      },
      "source": [
        "parsed = feedparser.parse(feed)"
      ],
      "execution_count": 103,
      "outputs": []
    },
    {
      "cell_type": "code",
      "metadata": {
        "colab": {
          "base_uri": "https://localhost:8080/",
          "height": 157
        },
        "id": "JkfyAVKZScnc",
        "outputId": "84f90087-8dd9-4faa-bb79-f972e82ca3e6"
      },
      "source": [
        "#parsed\r\n",
        "display(parsed.entries[0].summary)\r\n",
        "display(parsed.entries[1].summary)"
      ],
      "execution_count": 108,
      "outputs": [
        {
          "output_type": "display_data",
          "data": {
            "application/vnd.google.colaboratory.intrinsic+json": {
              "type": "string"
            },
            "text/plain": [
              "'2020 has been a year of great challenges for so many, but it’s not all negative. Around the world, organizations and their workforces have risen to the occasion, recognizing the importance of expanding their knowledge, taking on new tasks, and bettering themselves both personally and professionally. With the uptick in virtual conferencing, remote work, and, [&#8230;]'"
            ]
          },
          "metadata": {
            "tags": []
          }
        },
        {
          "output_type": "display_data",
          "data": {
            "application/vnd.google.colaboratory.intrinsic+json": {
              "type": "string"
            },
            "text/plain": [
              "'It has long seemed to me that functional programming is, essentially, programming viewed as mathematics. Many ideas in functional programming came from Alonzo Church&#8217;s Lambda Calculus, which significantly predates anything that looks remotely like a modern computer. Though the actual history of computing runs differently: in the early days of computing, Von Neumann’s ideas were [&#8230;]'"
            ]
          },
          "metadata": {
            "tags": []
          }
        }
      ]
    },
    {
      "cell_type": "markdown",
      "metadata": {
        "id": "SqK4w9sa34Pr"
      },
      "source": [
        "### Ingest the text files generated via RSS parsing into a corpus and print the corpus statistics."
      ]
    },
    {
      "cell_type": "code",
      "metadata": {
        "id": "cd4x36-934Ps"
      },
      "source": [
        "path = '/content/drive/MyDrive/RSS_Articles/'\r\n",
        "\r\n",
        "for i, entry in enumerate(parsed.entries):\r\n",
        "    text = entry.summary\r\n",
        "    with open(path + f'article_{i}.txt', 'wb') as f:\r\n",
        "        f.write(text.encode())"
      ],
      "execution_count": 109,
      "outputs": []
    },
    {
      "cell_type": "code",
      "metadata": {
        "colab": {
          "base_uri": "https://localhost:8080/"
        },
        "id": "3LtDfwzgTveC",
        "outputId": "aea0cff2-a7c0-40fc-913d-7dd23b08e285"
      },
      "source": [
        "doc_pattern = r'.*\\.txt'\r\n",
        "corpus = PlaintextCorpusReader(path, doc_pattern)\r\n",
        "\r\n",
        "corpus_stats(corpus)"
      ],
      "execution_count": 110,
      "outputs": [
        {
          "output_type": "stream",
          "text": [
            "Corpus Statistics\n",
            "\n",
            "Number of documents: 60\n",
            "\n",
            "Number of paragraphs: 60\n",
            "\n",
            "Number of sentences: 197\n",
            "\n",
            "Number of words: 4515\n",
            "\n",
            "Vocabulary: 1467\n",
            "\n",
            "Avg chars per word: 5\n",
            "\n",
            "Avg words per sentence: 23\n",
            "\n",
            "\n"
          ],
          "name": "stdout"
        }
      ]
    },
    {
      "cell_type": "markdown",
      "metadata": {
        "id": "9BDwjO8t34Pw"
      },
      "source": [
        "### Make an API call to the Hacker News API to retrieve their Ask, Show, and Job category items. \n",
        "\n",
        "- URL: https://hacker-news.firebaseio.com/v0/askstories.json"
      ]
    },
    {
      "cell_type": "code",
      "metadata": {
        "id": "W7vyWOSN34Px",
        "colab": {
          "base_uri": "https://localhost:8080/"
        },
        "outputId": "1852a968-633c-4632-b626-bcdda9581942"
      },
      "source": [
        "item_ids = []\r\n",
        "for categories in ['ask', 'show', 'job']:\r\n",
        "    url = f'https://hacker-news.firebaseio.com/v0/{categories}stories.json'\r\n",
        "    response = requests.get(url)\r\n",
        "    print(response)\r\n",
        "    print(f'Added {len(response.json())} from {categories}stories')\r\n",
        "    item_ids.extend(response.json())"
      ],
      "execution_count": 119,
      "outputs": [
        {
          "output_type": "stream",
          "text": [
            "<Response [200]>\n",
            "Added 89 from askstories\n",
            "<Response [200]>\n",
            "Added 39 from showstories\n",
            "<Response [200]>\n",
            "Added 60 from jobstories\n"
          ],
          "name": "stdout"
        }
      ]
    },
    {
      "cell_type": "code",
      "metadata": {
        "colab": {
          "base_uri": "https://localhost:8080/"
        },
        "id": "_YJCoI3_WPfK",
        "outputId": "8b247799-72d6-4d71-8973-a9ed5d95c479"
      },
      "source": [
        "print(item_ids)"
      ],
      "execution_count": 122,
      "outputs": [
        {
          "output_type": "stream",
          "text": [
            "[25559571, 25562022, 25560185, 25561398, 25553818, 25558927, 25559274, 25559174, 25562723, 25560180, 25553772, 25540583, 25538586, 25537230, 25556199, 25555746, 25556563, 25559143, 25546445, 25557720, 25541269, 25541616, 25557852, 25548802, 25558741, 25553613, 25547050, 25541964, 25554464, 25542676, 25552885, 25557927, 25545469, 25557631, 25544753, 25551133, 25538405, 25546557, 25545136, 25542679, 25550111, 25540343, 25551290, 25541939, 25542290, 25538258, 25538128, 25541828, 25540059, 25544961, 25550627, 25543287, 25543087, 25542812, 25555295, 25539594, 25539230, 25537569, 25542189, 25549841, 25548696, 25545525, 25549864, 25536672, 25539190, 25537279, 25550782, 25542445, 25563260, 25563215, 25563092, 25563077, 25562565, 25562378, 25562255, 25561875, 25561836, 25561826, 25561526, 25561152, 25560857, 25560695, 25560220, 25560127, 25559864, 25559508, 25559220, 25559169, 25559163, 25558485, 25558891, 25560570, 25562198, 25561064, 25555633, 25560368, 25553458, 25559551, 25549342, 25550280, 25558519, 25553043, 25544397, 25554541, 25545153, 25552805, 25557325, 25542456, 25537377, 25546647, 25551532, 25555138, 25544309, 25550003, 25536271, 25550192, 25546224, 25543854, 25542226, 25563284, 25562739, 25560775, 25560232, 25559301, 25559275, 25559116, 25558613, 25558420, 25563186, 25559280, 25555723, 25550451, 25549396, 25544720, 25542932, 25539003, 25537548, 25535976, 25531365, 25529179, 25526793, 25525584, 25522169, 25519578, 25516682, 25511187, 25508410, 25505431, 25499475, 25485683, 25476886, 25464553, 25460351, 25457436, 25454786, 25451006, 25448582, 25444908, 25441582, 25439860, 25432138, 25429470, 25405976, 25399846, 25375714, 25372749, 25364894, 25360758, 25356068, 25347966, 25344154, 25340313, 25331344, 25299767, 25278421, 25275586, 25267018, 25246326, 25235867, 25221670, 25208316, 25206622, 25200314, 25197653, 25196042, 25181055, 25170831, 25162323]\n"
          ],
          "name": "stdout"
        }
      ]
    },
    {
      "cell_type": "code",
      "metadata": {
        "colab": {
          "base_uri": "https://localhost:8080/"
        },
        "id": "0OxXiAsMVAZV",
        "outputId": "4320048d-483b-4d75-a400-7921c2fc2eba"
      },
      "source": [
        "len(item_ids)"
      ],
      "execution_count": 120,
      "outputs": [
        {
          "output_type": "execute_result",
          "data": {
            "text/plain": [
              "188"
            ]
          },
          "metadata": {
            "tags": []
          },
          "execution_count": 120
        }
      ]
    },
    {
      "cell_type": "markdown",
      "metadata": {
        "id": "yEasqCkr34P0"
      },
      "source": [
        "### Once you have retrieved the item IDs from the URL above, retrieve each item by adding the item ID to the URL below, extract the item's text property, and save the text from each item to disk as its own document.\n",
        "\n",
        "- URL: https://hacker-news.firebaseio.com/v0/item/ITEM_ID_HERE.json\n",
        "\n",
        "The content of some items may contain HTML tags. Strip those out using the same approach you used for web scraping so that only text is saved to the files."
      ]
    },
    {
      "cell_type": "code",
      "metadata": {
        "id": "Ql0Dtlmlb9Ct"
      },
      "source": [
        "path = '/content/drive/MyDrive/API_Articles/'\r\n",
        "\r\n",
        "for i in item_ids:\r\n",
        "    url = f'https://hacker-news.firebaseio.com/v0/item/{i}.json'\r\n",
        "    response = requests.get(url)\r\n",
        "    if 'text' in response.json().keys():\r\n",
        "        soup = BeautifulSoup(response.json()['text'])\r\n",
        "        text = soup.text\r\n",
        "        with open(path + f'article_{i}.txt', 'wb') as f:\r\n",
        "            f.write(text.encode())"
      ],
      "execution_count": 125,
      "outputs": []
    },
    {
      "cell_type": "markdown",
      "metadata": {
        "id": "hw9-v8sK34P5"
      },
      "source": [
        "### Ingest the text files generated via API into a corpus and print the corpus statistics."
      ]
    },
    {
      "cell_type": "code",
      "metadata": {
        "colab": {
          "base_uri": "https://localhost:8080/"
        },
        "id": "7wjIOYQLgZJ8",
        "outputId": "79dc81b2-f73e-4d61-bd0f-c38c907b4c49"
      },
      "source": [
        "doc_pattern = r'.*\\.txt'\r\n",
        "corpus = PlaintextCorpusReader(path, doc_pattern)\r\n",
        "\r\n",
        "corpus_stats(corpus)"
      ],
      "execution_count": 126,
      "outputs": [
        {
          "output_type": "stream",
          "text": [
            "Corpus Statistics\n",
            "\n",
            "Number of documents: 78\n",
            "\n",
            "Number of paragraphs: 78\n",
            "\n",
            "Number of sentences: 275\n",
            "\n",
            "Number of words: 7958\n",
            "\n",
            "Vocabulary: 2072\n",
            "\n",
            "Avg chars per word: 5\n",
            "\n",
            "Avg words per sentence: 29\n",
            "\n",
            "\n"
          ],
          "name": "stdout"
        }
      ]
    },
    {
      "cell_type": "code",
      "metadata": {
        "id": "dcsiPdkx34P7"
      },
      "source": [
        ""
      ],
      "execution_count": null,
      "outputs": []
    }
  ]
}