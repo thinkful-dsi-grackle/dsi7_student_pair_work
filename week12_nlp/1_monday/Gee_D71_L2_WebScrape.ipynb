{
  "nbformat": 4,
  "nbformat_minor": 0,
  "metadata": {
    "kernelspec": {
      "display_name": "Python 3",
      "language": "python",
      "name": "python3"
    },
    "language_info": {
      "codemirror_mode": {
        "name": "ipython",
        "version": 3
      },
      "file_extension": ".py",
      "mimetype": "text/x-python",
      "name": "python",
      "nbconvert_exporter": "python",
      "pygments_lexer": "ipython3",
      "version": "3.7.2"
    },
    "colab": {
      "name": "Gee_D71_L2_WebScrape.ipynb",
      "provenance": []
    }
  },
  "cells": [
    {
      "cell_type": "markdown",
      "metadata": {
        "id": "IihPCGvd34PH"
      },
      "source": [
        "# Text Acquisition & Ingestion Assignment"
      ]
    },
    {
      "cell_type": "code",
      "metadata": {
        "colab": {
          "base_uri": "https://localhost:8080/"
        },
        "id": "I7bgSKgAuJVM",
        "outputId": "cae0b839-3933-49de-e048-607d6481b388"
      },
      "source": [
        "!pip install feedparser"
      ],
      "execution_count": 2,
      "outputs": [
        {
          "output_type": "stream",
          "text": [
            "Collecting feedparser\n",
            "\u001b[?25l  Downloading https://files.pythonhosted.org/packages/1c/21/faf1bac028662cc8adb2b5ef7a6f3999a765baa2835331df365289b0ca56/feedparser-6.0.2-py3-none-any.whl (80kB)\n",
            "\r\u001b[K     |████                            | 10kB 17.7MB/s eta 0:00:01\r\u001b[K     |████████                        | 20kB 22.1MB/s eta 0:00:01\r\u001b[K     |████████████▏                   | 30kB 10.0MB/s eta 0:00:01\r\u001b[K     |████████████████▏               | 40kB 8.1MB/s eta 0:00:01\r\u001b[K     |████████████████████▎           | 51kB 4.1MB/s eta 0:00:01\r\u001b[K     |████████████████████████▎       | 61kB 4.2MB/s eta 0:00:01\r\u001b[K     |████████████████████████████▍   | 71kB 4.8MB/s eta 0:00:01\r\u001b[K     |████████████████████████████████| 81kB 3.6MB/s \n",
            "\u001b[?25hCollecting sgmllib3k\n",
            "  Downloading https://files.pythonhosted.org/packages/9e/bd/3704a8c3e0942d711c1299ebf7b9091930adae6675d7c8f476a7ce48653c/sgmllib3k-1.0.0.tar.gz\n",
            "Building wheels for collected packages: sgmllib3k\n",
            "  Building wheel for sgmllib3k (setup.py) ... \u001b[?25l\u001b[?25hdone\n",
            "  Created wheel for sgmllib3k: filename=sgmllib3k-1.0.0-cp36-none-any.whl size=6066 sha256=f642822111848d2b4885146a97f9b4056194157b7c533cadced9ed76884dd748\n",
            "  Stored in directory: /root/.cache/pip/wheels/f1/80/5a/444ba08a550cdd241bd9baf8bae44be750efe370adb944506a\n",
            "Successfully built sgmllib3k\n",
            "Installing collected packages: sgmllib3k, feedparser\n",
            "Successfully installed feedparser-6.0.2 sgmllib3k-1.0.0\n"
          ],
          "name": "stdout"
        }
      ]
    },
    {
      "cell_type": "code",
      "metadata": {
        "id": "DhLA_w7p34PM"
      },
      "source": [
        "import json\n",
        "import requests\n",
        "import feedparser\n",
        "from bs4 import BeautifulSoup"
      ],
      "execution_count": 3,
      "outputs": []
    },
    {
      "cell_type": "markdown",
      "metadata": {
        "id": "lZ3ytdXA34PR"
      },
      "source": [
        "### Iterate through the list of article URLs below, scraping the text from each one and saving it to a text file. "
      ]
    },
    {
      "cell_type": "code",
      "metadata": {
        "id": "mDbZqPpT34PU"
      },
      "source": [
        "articles = ['http://lite.cnn.io/en/article/h_eac18760a7a7f9a1bf33616f1c4a336d',\n",
        "            'http://lite.cnn.io/en/article/h_de3f82f17d289680dd2b47c6413ebe7c',\n",
        "            'http://lite.cnn.io/en/article/h_72f4dc9d6f35458a89af014b62e625ad',\n",
        "            'http://lite.cnn.io/en/article/h_aa21fe6bf176071cb49e09d422c3adf0',\n",
        "            'http://lite.cnn.io/en/article/h_8ad34a532921c9076cdc9d7390d2f1bc',\n",
        "            'http://lite.cnn.io/en/article/h_84422c79110d9989177cfaf1c5f45fe7',\n",
        "            'http://lite.cnn.io/en/article/h_d010d9580abac3a44c6181ec6fb63d58',\n",
        "            'http://lite.cnn.io/en/article/h_fb11f4e9d7c5323e75b337d9e9e5e368',\n",
        "            'http://lite.cnn.io/en/article/h_7b27f0b131067f8ece6238ac559670ab',\n",
        "            'http://lite.cnn.io/en/article/h_8cae7f735fa9573d470f802063ceffe2',\n",
        "            'http://lite.cnn.io/en/article/h_72c3668280e82576fcc2602b0fa70c14',\n",
        "            'http://lite.cnn.io/en/article/h_d20658fb0e20212051cda0e0a7248c8a',\n",
        "            'http://lite.cnn.io/en/article/h_56611c43d7928120d2ae21666ccc7417',\n",
        "            'http://lite.cnn.io/en/article/h_bda0394e3c5ee7054ee65c022bca7695']"
      ],
      "execution_count": 52,
      "outputs": []
    },
    {
      "cell_type": "code",
      "metadata": {
        "colab": {
          "base_uri": "https://localhost:8080/"
        },
        "id": "KNKEqPq4I6bR",
        "outputId": "b2a453c9-9e6c-45b3-aa64-cf4cce96c316"
      },
      "source": [
        "len(articles)"
      ],
      "execution_count": 109,
      "outputs": [
        {
          "output_type": "execute_result",
          "data": {
            "text/plain": [
              "14"
            ]
          },
          "metadata": {
            "tags": []
          },
          "execution_count": 109
        }
      ]
    },
    {
      "cell_type": "code",
      "metadata": {
        "id": "ptEpLo0o_PEp"
      },
      "source": [
        "PATH = '/content/WebScrapePractice/'\r\n",
        "\r\n",
        "for i, article in enumerate(articles):\r\n",
        "\r\n",
        "  url = article\r\n",
        "  res = requests.get(url)\r\n",
        "  con = res.text\r\n",
        "  TAGS = ['h2','p']\r\n",
        "  soupy = BeautifulSoup(con, 'lxml')\r\n",
        "  text_list = [tag.get_text() for tag in soupy.find_all(TAGS)]\r\n",
        "  text = ' '.join(text_list)\r\n",
        "  \r\n",
        "  #print(text)\r\n",
        "  with open(PATH + f'article_{i}.txt', 'wb') as f:\r\n",
        "    f.write(text.encode())"
      ],
      "execution_count": 95,
      "outputs": []
    },
    {
      "cell_type": "markdown",
      "metadata": {
        "id": "BgGlAM2X34Pc"
      },
      "source": [
        "### Ingest the text files generated via web scraping into a corpus and print the corpus statistics."
      ]
    },
    {
      "cell_type": "code",
      "metadata": {
        "id": "cd2hj2rZmy-4"
      },
      "source": [
        "def corpus_stats(corpus):\r\n",
        "  print('Corpus Statistics')\r\n",
        "  print('Number of documents:    ' + str(len(corpus.fileids())))\r\n",
        "  print('Number of paragraphs:   ' + str(len(corpus.paras())))\r\n",
        "  print('Number of sentences:    ' + str(len(corpus.sents())))\r\n",
        "  print('Number of words:        ' + str(len(corpus.words())))\r\n",
        "  print('Vocabulary:             ' + str(len(set(w.lower() for w in corpus.words()))))\r\n",
        "  print('Avg char per word:      ' + str(round(len(corpus.raw())/len(corpus.words()),1)))\r\n",
        "  print('Avg words per sentence: ' + str(round(len(corpus.words())/len(corpus.sents()),1)))"
      ],
      "execution_count": 145,
      "outputs": []
    },
    {
      "cell_type": "code",
      "metadata": {
        "colab": {
          "base_uri": "https://localhost:8080/"
        },
        "id": "unYYxR7L0WnU",
        "outputId": "59a23d6d-9aa0-4309-846a-32b5edce3681"
      },
      "source": [
        "from nltk.corpus.reader.plaintext import PlaintextCorpusReader\r\n",
        "import nltk\r\n",
        "nltk.download('punkt')"
      ],
      "execution_count": 128,
      "outputs": [
        {
          "output_type": "stream",
          "text": [
            "[nltk_data] Downloading package punkt to /root/nltk_data...\n",
            "[nltk_data]   Unzipping tokenizers/punkt.zip.\n"
          ],
          "name": "stdout"
        },
        {
          "output_type": "execute_result",
          "data": {
            "text/plain": [
              "True"
            ]
          },
          "metadata": {
            "tags": []
          },
          "execution_count": 128
        }
      ]
    },
    {
      "cell_type": "code",
      "metadata": {
        "id": "mmybAnNB34Pf"
      },
      "source": [
        "DOC_PATTERN = r'.*\\.txt'\r\n",
        "corpus = PlaintextCorpusReader('/content/WebScrapePractice', DOC_PATTERN)"
      ],
      "execution_count": 113,
      "outputs": []
    },
    {
      "cell_type": "code",
      "metadata": {
        "colab": {
          "base_uri": "https://localhost:8080/"
        },
        "id": "RPDXixLdHWA2",
        "outputId": "e14a1ad0-a7bd-48e1-d2fe-9710c3162f65"
      },
      "source": [
        "corpus_stats(corpus)"
      ],
      "execution_count": 146,
      "outputs": [
        {
          "output_type": "stream",
          "text": [
            "Corpus Statistics\n",
            "Number of documents:    14\n",
            "Number of paragraphs:   14\n",
            "Number of sentences:    590\n",
            "Number of words:        14159\n",
            "Vocabulary:             2914\n",
            "Avg char per word:      5.0\n",
            "Avg words per sentence: 24.0\n"
          ],
          "name": "stdout"
        }
      ]
    },
    {
      "cell_type": "markdown",
      "metadata": {
        "id": "sGP_4yfR34Pi"
      },
      "source": [
        "### Parse the O'Reilly Radar RSS feed below, extract the text from each post, and save it to a text file.\n",
        "\n",
        "The content of each post contains HTML tags. Strip those out using the same approach you used for web scraping so that only text is saved to the files."
      ]
    },
    {
      "cell_type": "code",
      "metadata": {
        "id": "CDbqkFCF34Pl"
      },
      "source": [
        "feed = 'http://feeds.feedburner.com/oreilly/radar/atom'"
      ],
      "execution_count": 118,
      "outputs": []
    },
    {
      "cell_type": "code",
      "metadata": {
        "id": "l-a9JgWH34Po"
      },
      "source": [
        "parsed = feedparser.parse(feed)\r\n",
        "posts = parsed.entries"
      ],
      "execution_count": 119,
      "outputs": []
    },
    {
      "cell_type": "code",
      "metadata": {
        "colab": {
          "base_uri": "https://localhost:8080/"
        },
        "id": "oEclkdfWl5xy",
        "outputId": "6a7c5d53-4062-4139-93fb-649f9a9362a1"
      },
      "source": [
        "len(posts)"
      ],
      "execution_count": 120,
      "outputs": [
        {
          "output_type": "execute_result",
          "data": {
            "text/plain": [
              "60"
            ]
          },
          "metadata": {
            "tags": []
          },
          "execution_count": 120
        }
      ]
    },
    {
      "cell_type": "code",
      "metadata": {
        "colab": {
          "base_uri": "https://localhost:8080/",
          "height": 52
        },
        "id": "f3W_houTlupT",
        "outputId": "f7149dfe-50da-4f6c-b5ac-251ffcdc83b5"
      },
      "source": [
        "posts[0]['summary']"
      ],
      "execution_count": 122,
      "outputs": [
        {
          "output_type": "execute_result",
          "data": {
            "application/vnd.google.colaboratory.intrinsic+json": {
              "type": "string"
            },
            "text/plain": [
              "'2020 has been a year of great challenges for so many, but it’s not all negative. Around the world, organizations and their workforces have risen to the occasion, recognizing the importance of expanding their knowledge, taking on new tasks, and bettering themselves both personally and professionally. With the uptick in virtual conferencing, remote work, and, [&#8230;]'"
            ]
          },
          "metadata": {
            "tags": []
          },
          "execution_count": 122
        }
      ]
    },
    {
      "cell_type": "code",
      "metadata": {
        "id": "7MDbAo7TmF75"
      },
      "source": [
        "PATH = '/content/rss_info/'\r\n",
        "\r\n",
        "for i, post in enumerate(posts):\r\n",
        "  text = post.summary\r\n",
        "\r\n",
        "  with open(PATH + f'post_{i}.txt', 'wb') as f:\r\n",
        "    f.write(text.encode())"
      ],
      "execution_count": 124,
      "outputs": []
    },
    {
      "cell_type": "markdown",
      "metadata": {
        "id": "SqK4w9sa34Pr"
      },
      "source": [
        "### Ingest the text files generated via RSS parsing into a corpus and print the corpus statistics."
      ]
    },
    {
      "cell_type": "code",
      "metadata": {
        "id": "cd4x36-934Ps"
      },
      "source": [
        "DOC_PATTERNrss = r'.*\\.txt'\r\n",
        "corpusrss = PlaintextCorpusReader('/content/rss_info', DOC_PATTERNrss)"
      ],
      "execution_count": 125,
      "outputs": []
    },
    {
      "cell_type": "code",
      "metadata": {
        "colab": {
          "base_uri": "https://localhost:8080/"
        },
        "id": "QnjQknfsneFP",
        "outputId": "bc28a6f0-a038-499a-ded4-d243af99a41a"
      },
      "source": [
        "corpus_stats(corpusrss)"
      ],
      "execution_count": 147,
      "outputs": [
        {
          "output_type": "stream",
          "text": [
            "Corpus Statistics\n",
            "Number of documents:    60\n",
            "Number of paragraphs:   60\n",
            "Number of sentences:    197\n",
            "Number of words:        4515\n",
            "Vocabulary:             1467\n",
            "Avg char per word:      4.9\n",
            "Avg words per sentence: 22.9\n"
          ],
          "name": "stdout"
        }
      ]
    },
    {
      "cell_type": "markdown",
      "metadata": {
        "id": "9BDwjO8t34Pw"
      },
      "source": [
        "### Make an API call to the Hacker News API to retrieve their Ask, Show, and Job category items. \n",
        "\n",
        "- URL: https://hacker-news.firebaseio.com/v0/askstories.json"
      ]
    },
    {
      "cell_type": "code",
      "metadata": {
        "id": "P2X8tc9ZsvPR"
      },
      "source": [
        "URLask = 'https://hacker-news.firebaseio.com/v0/askstories.json'\r\n",
        "URLshow = 'https://hacker-news.firebaseio.com/v0/showstories.json'\r\n",
        "URLjob = 'https://hacker-news.firebaseio.com/v0/jobstories.json'"
      ],
      "execution_count": 206,
      "outputs": []
    },
    {
      "cell_type": "code",
      "metadata": {
        "id": "W7vyWOSN34Px"
      },
      "source": [
        "response_ask = requests.get(URLask).json()\r\n",
        "response_show = requests.get(URLshow).json()\r\n",
        "response_job = requests.get(URLjob).json()"
      ],
      "execution_count": 210,
      "outputs": []
    },
    {
      "cell_type": "code",
      "metadata": {
        "colab": {
          "base_uri": "https://localhost:8080/"
        },
        "id": "TB46tDfDs7oB",
        "outputId": "9ebda7e8-555d-42d9-94fa-a083b657b480"
      },
      "source": [
        "print(len(response_ask))\r\n",
        "print(len(response_show))\r\n",
        "print(len(response_job))"
      ],
      "execution_count": 211,
      "outputs": [
        {
          "output_type": "stream",
          "text": [
            "92\n",
            "39\n",
            "60\n"
          ],
          "name": "stdout"
        }
      ]
    },
    {
      "cell_type": "code",
      "metadata": {
        "id": "0Bsa6hYT3RiQ"
      },
      "source": [
        "ids = []\r\n",
        "ids.extend(response_ask)\r\n",
        "ids.extend(response_show)\r\n",
        "ids.extend(response_job)"
      ],
      "execution_count": 215,
      "outputs": []
    },
    {
      "cell_type": "code",
      "metadata": {
        "colab": {
          "base_uri": "https://localhost:8080/"
        },
        "id": "C1rHBo9e3oaN",
        "outputId": "2e0b30f6-642e-41d0-d4f5-659c47e46983"
      },
      "source": [
        "len(ids)"
      ],
      "execution_count": 216,
      "outputs": [
        {
          "output_type": "execute_result",
          "data": {
            "text/plain": [
              "191"
            ]
          },
          "metadata": {
            "tags": []
          },
          "execution_count": 216
        }
      ]
    },
    {
      "cell_type": "markdown",
      "metadata": {
        "id": "yEasqCkr34P0"
      },
      "source": [
        "### Once you have retrieved the item IDs from the URL above, retrieve each item by adding the item ID to the URL below, extract the item's text property, and save the text from each item to disk as its own document.\n",
        "\n",
        "- URL: https://hacker-news.firebaseio.com/v0/item/ITEM_ID_HERE.json\n",
        "\n",
        "The content of some items may contain HTML tags. Strip those out using the same approach you used for web scraping so that only text is saved to the files."
      ]
    },
    {
      "cell_type": "code",
      "metadata": {
        "colab": {
          "base_uri": "https://localhost:8080/",
          "height": 35
        },
        "id": "g6XEEUoWtgL3",
        "outputId": "c039f482-3859-4dca-987d-bcd55b0c8f17"
      },
      "source": [
        "URL_ = 'https://hacker-news.firebaseio.com/v0/item/'+str(ids[0])+'.json'\r\n",
        "response1 = requests.get(URL_)\r\n",
        "results1 = json.loads(response1.content)\r\n",
        "results1['text']"
      ],
      "execution_count": 219,
      "outputs": [
        {
          "output_type": "execute_result",
          "data": {
            "application/vnd.google.colaboratory.intrinsic+json": {
              "type": "string"
            },
            "text/plain": [
              "'I love asking new colleagues this question, figured I would open it here as well.<p>What are you surprised isn’t being worked on more?'"
            ]
          },
          "metadata": {
            "tags": []
          },
          "execution_count": 219
        }
      ]
    },
    {
      "cell_type": "code",
      "metadata": {
        "id": "NC5eWjXst0G-"
      },
      "source": [
        "PATH = '/content/api_test/'\r\n",
        "for i in ids:\r\n",
        "  URL_Loop = 'https://hacker-news.firebaseio.com/v0/item/'+ str(i) + '.json'\r\n",
        "  responselp = requests.get(URL_Loop).json()\r\n",
        "  if 'text' in responselp:\r\n",
        "    soup = BeautifulSoup(responselp['text'])\r\n",
        "    text = soup.text\r\n",
        "    with open(PATH + f'api_article_{i}.txt', 'wb') as f:\r\n",
        "      f.write(text.encode())\r\n",
        "  "
      ],
      "execution_count": 217,
      "outputs": []
    },
    {
      "cell_type": "markdown",
      "metadata": {
        "id": "hw9-v8sK34P5"
      },
      "source": [
        "### Ingest the text files generated via API into a corpus and print the corpus statistics."
      ]
    },
    {
      "cell_type": "code",
      "metadata": {
        "id": "dcsiPdkx34P7",
        "colab": {
          "base_uri": "https://localhost:8080/"
        },
        "outputId": "6f9ac544-a838-4ef1-e5c9-fad8192e31d4"
      },
      "source": [
        "DOC_PATTERNapi = r'.*\\.txt'\r\n",
        "corpusapi = PlaintextCorpusReader('/content/api_test', DOC_PATTERNapi)\r\n",
        "corpus_stats(corpusapi)"
      ],
      "execution_count": 218,
      "outputs": [
        {
          "output_type": "stream",
          "text": [
            "Corpus Statistics\n",
            "Number of documents:    82\n",
            "Number of paragraphs:   82\n",
            "Number of sentences:    303\n",
            "Number of words:        8834\n",
            "Vocabulary:             2217\n",
            "Avg char per word:      4.7\n",
            "Avg words per sentence: 29.2\n"
          ],
          "name": "stdout"
        }
      ]
    },
    {
      "cell_type": "markdown",
      "metadata": {
        "id": "-nNSdTM55jkZ"
      },
      "source": [
        "# Notes"
      ]
    },
    {
      "cell_type": "code",
      "metadata": {
        "id": "dDpncBMqt8wm"
      },
      "source": [
        "# Notes"
      ],
      "execution_count": null,
      "outputs": []
    },
    {
      "cell_type": "code",
      "metadata": {
        "id": "YOL8isJNt8sk"
      },
      "source": [
        ""
      ],
      "execution_count": null,
      "outputs": []
    },
    {
      "cell_type": "code",
      "metadata": {
        "id": "chGwYwdlt8oM"
      },
      "source": [
        ""
      ],
      "execution_count": null,
      "outputs": []
    },
    {
      "cell_type": "code",
      "metadata": {
        "id": "bAFUr64Zt8j1"
      },
      "source": [
        "url = 'https://quotes.toscrape.com/'\r\n",
        "response = requests.get(url)\r\n",
        "content = response.text"
      ],
      "execution_count": 5,
      "outputs": []
    },
    {
      "cell_type": "code",
      "metadata": {
        "id": "FhJD26_i9l--"
      },
      "source": [
        "content"
      ],
      "execution_count": null,
      "outputs": []
    },
    {
      "cell_type": "code",
      "metadata": {
        "id": "ehULWVuPuw3j"
      },
      "source": [
        "soup = BeautifulSoup(content)"
      ],
      "execution_count": 7,
      "outputs": []
    },
    {
      "cell_type": "code",
      "metadata": {
        "id": "MhRZ2rnvvDAK"
      },
      "source": [
        "print(soup.prettify())"
      ],
      "execution_count": null,
      "outputs": []
    },
    {
      "cell_type": "code",
      "metadata": {
        "colab": {
          "base_uri": "https://localhost:8080/",
          "height": 35
        },
        "id": "H9OT0gG4vHgA",
        "outputId": "8cbbbe75-5209-476a-cb0a-bf87958a6932"
      },
      "source": [
        "## Print with tags\r\n",
        "#soup.find('span', class_='text')\r\n",
        "#soup.find('span', {'class': 'text'})\r\n",
        "\r\n",
        "\r\n",
        "\r\n",
        "## Print no tags just text\r\n",
        "#soup.find('span', {'itemprop': 'text'}).text\r\n",
        "soup.find('span', {'itemprop': 'text'}).get_text()"
      ],
      "execution_count": 16,
      "outputs": [
        {
          "output_type": "execute_result",
          "data": {
            "application/vnd.google.colaboratory.intrinsic+json": {
              "type": "string"
            },
            "text/plain": [
              "'“The world as we have created it is a process of our thinking. It cannot be changed without changing our thinking.”'"
            ]
          },
          "metadata": {
            "tags": []
          },
          "execution_count": 16
        }
      ]
    },
    {
      "cell_type": "code",
      "metadata": {
        "id": "Mi0hsVJiwDW_"
      },
      "source": [
        "quotes = soup.find_all('span', {'class': 'text'})"
      ],
      "execution_count": 18,
      "outputs": []
    },
    {
      "cell_type": "code",
      "metadata": {
        "id": "GfBuoPxSwRoF"
      },
      "source": [
        "for quote in quotes:\r\n",
        "  print(quote.get_text())\r\n",
        "  print('------')"
      ],
      "execution_count": null,
      "outputs": []
    },
    {
      "cell_type": "code",
      "metadata": {
        "id": "QZB7FPSTwz1d"
      },
      "source": [
        "my_quotes = [quote.text for quote in quotes]"
      ],
      "execution_count": 23,
      "outputs": []
    },
    {
      "cell_type": "code",
      "metadata": {
        "id": "lNFVcDAKw8BM"
      },
      "source": [
        "my_quotes"
      ],
      "execution_count": null,
      "outputs": []
    },
    {
      "cell_type": "code",
      "metadata": {
        "id": "SidcgEPfw-kN"
      },
      "source": [
        "url1 = 'https://books.toscrape.com/'\r\n",
        "response1 = requests.get(url1)\r\n",
        "content1 = response1.text\r\n",
        "soup1 = BeautifulSoup(content1, 'html.parser') # 'lxml'\r\n",
        "print(soup1.prettify())"
      ],
      "execution_count": null,
      "outputs": []
    },
    {
      "cell_type": "code",
      "metadata": {
        "id": "dLMAVLv_xly6"
      },
      "source": [
        "article = soup1.find('article', {'class' : 'product_pod'})"
      ],
      "execution_count": 30,
      "outputs": []
    },
    {
      "cell_type": "code",
      "metadata": {
        "id": "9Fm4j0f8ysZw"
      },
      "source": [
        "article"
      ],
      "execution_count": null,
      "outputs": []
    },
    {
      "cell_type": "code",
      "metadata": {
        "colab": {
          "base_uri": "https://localhost:8080/",
          "height": 35
        },
        "id": "zShaQq7qyH3a",
        "outputId": "dde79bb6-0265-497d-f502-c0a37b3bb2c8"
      },
      "source": [
        "article.find('p', {'class': 'price_color'}).text"
      ],
      "execution_count": 32,
      "outputs": [
        {
          "output_type": "execute_result",
          "data": {
            "application/vnd.google.colaboratory.intrinsic+json": {
              "type": "string"
            },
            "text/plain": [
              "'Â£51.77'"
            ]
          },
          "metadata": {
            "tags": []
          },
          "execution_count": 32
        }
      ]
    },
    {
      "cell_type": "code",
      "metadata": {
        "colab": {
          "base_uri": "https://localhost:8080/",
          "height": 35
        },
        "id": "FS77KyuryU9Y",
        "outputId": "de14bfc4-42be-4045-f060-49eeacc1807d"
      },
      "source": [
        "article.find('h3').text #title"
      ],
      "execution_count": 33,
      "outputs": [
        {
          "output_type": "execute_result",
          "data": {
            "application/vnd.google.colaboratory.intrinsic+json": {
              "type": "string"
            },
            "text/plain": [
              "'A Light in the ...'"
            ]
          },
          "metadata": {
            "tags": []
          },
          "execution_count": 33
        }
      ]
    },
    {
      "cell_type": "code",
      "metadata": {
        "id": "o3DW7e4JyrsB"
      },
      "source": [
        ""
      ],
      "execution_count": null,
      "outputs": []
    },
    {
      "cell_type": "code",
      "metadata": {
        "id": "mYwLrUBQzKwF"
      },
      "source": [
        ""
      ],
      "execution_count": null,
      "outputs": []
    },
    {
      "cell_type": "code",
      "metadata": {
        "id": "WI45RkWbzKsG"
      },
      "source": [
        "feed = 'http://feeds.feedburner.com/oreilly/radar/atom'\r\n",
        "parsed = feedparser.parse(feed)\r\n",
        "posts = parsed.entries"
      ],
      "execution_count": 35,
      "outputs": []
    },
    {
      "cell_type": "code",
      "metadata": {
        "colab": {
          "base_uri": "https://localhost:8080/"
        },
        "id": "IXCBjRHFzhk9",
        "outputId": "ab4f8d1f-a63b-4448-ab28-8a0f6de9d00f"
      },
      "source": [
        "\r\n",
        "len(parsed.entries)"
      ],
      "execution_count": 38,
      "outputs": [
        {
          "output_type": "execute_result",
          "data": {
            "text/plain": [
              "60"
            ]
          },
          "metadata": {
            "tags": []
          },
          "execution_count": 38
        }
      ]
    },
    {
      "cell_type": "code",
      "metadata": {
        "id": "b1IKV8Z9zwLO"
      },
      "source": [
        "# Looking at first post\r\n",
        "#posts[0].summary\r\n",
        "posts[0]['summary']"
      ],
      "execution_count": null,
      "outputs": []
    },
    {
      "cell_type": "code",
      "metadata": {
        "id": "J6JBrfZ-zKnn"
      },
      "source": [
        "for post in posts:\r\n",
        "  print(post.summary)\r\n",
        "  print('----')"
      ],
      "execution_count": null,
      "outputs": []
    },
    {
      "cell_type": "markdown",
      "metadata": {
        "id": "e6Qw-GxW1Lmd"
      },
      "source": [
        "## Saving into a corpus"
      ]
    },
    {
      "cell_type": "code",
      "metadata": {
        "id": "wyZcP0p_0cDL"
      },
      "source": [
        "PATH = '/content/rss_posts/'\r\n",
        "\r\n",
        "for i, post in enumerate(posts):\r\n",
        "  text = post.summary\r\n",
        "\r\n",
        "  with open(PATH + f'article_{i}.txt', 'wb') as f:\r\n",
        "    f.write(text.encode())"
      ],
      "execution_count": 45,
      "outputs": []
    },
    {
      "cell_type": "markdown",
      "metadata": {
        "id": "HJ7yCQs5150_"
      },
      "source": [
        "## Reading previously saved corpus"
      ]
    },
    {
      "cell_type": "code",
      "metadata": {
        "id": "n8Lml6Is1eu5"
      },
      "source": [
        "DOC_PATTERN = r'.*\\.txt'\r\n",
        "news_corpus = PlaintextCorpusReader('/content/rss_posts', DOC_PATTERN)"
      ],
      "execution_count": 48,
      "outputs": []
    },
    {
      "cell_type": "code",
      "metadata": {
        "id": "mzS_K0G41r0J"
      },
      "source": [
        "news_corpus.fileids()"
      ],
      "execution_count": null,
      "outputs": []
    },
    {
      "cell_type": "code",
      "metadata": {
        "colab": {
          "base_uri": "https://localhost:8080/",
          "height": 52
        },
        "id": "BwK1zFui1xrR",
        "outputId": "1765060f-018e-4ca7-f154-59c632b68c02"
      },
      "source": [
        "news_corpus.raw(news_corpus.fileids()[0])"
      ],
      "execution_count": 51,
      "outputs": [
        {
          "output_type": "execute_result",
          "data": {
            "application/vnd.google.colaboratory.intrinsic+json": {
              "type": "string"
            },
            "text/plain": [
              "'2020 has been a year of great challenges for so many, but it’s not all negative. Around the world, organizations and their workforces have risen to the occasion, recognizing the importance of expanding their knowledge, taking on new tasks, and bettering themselves both personally and professionally. With the uptick in virtual conferencing, remote work, and, [&#8230;]'"
            ]
          },
          "metadata": {
            "tags": []
          },
          "execution_count": 51
        }
      ]
    },
    {
      "cell_type": "code",
      "metadata": {
        "id": "yUBUK2BG1-4y"
      },
      "source": [
        ""
      ],
      "execution_count": null,
      "outputs": []
    },
    {
      "cell_type": "code",
      "metadata": {
        "id": "yO1dL9661-x_"
      },
      "source": [
        ""
      ],
      "execution_count": null,
      "outputs": []
    }
  ]
}