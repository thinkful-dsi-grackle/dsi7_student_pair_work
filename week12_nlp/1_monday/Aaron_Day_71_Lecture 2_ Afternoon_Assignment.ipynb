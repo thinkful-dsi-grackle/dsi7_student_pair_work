{
 "cells": [
  {
   "cell_type": "markdown",
   "metadata": {
    "id": "IihPCGvd34PH"
   },
   "source": [
    "# Text Acquisition & Ingestion Assignment"
   ]
  },
  {
   "cell_type": "code",
   "execution_count": 1,
   "metadata": {
    "id": "DhLA_w7p34PM"
   },
   "outputs": [],
   "source": [
    "import json\n",
    "import requests\n",
    "import feedparser\n",
    "from bs4 import BeautifulSoup"
   ]
  },
  {
   "cell_type": "markdown",
   "metadata": {
    "id": "lZ3ytdXA34PR"
   },
   "source": [
    "### Iterate through the list of article URLs below, scraping the text from each one and saving it to a text file. "
   ]
  },
  {
   "cell_type": "code",
   "execution_count": 2,
   "metadata": {
    "id": "mDbZqPpT34PU"
   },
   "outputs": [],
   "source": [
    "articles = ['http://lite.cnn.io/en/article/h_eac18760a7a7f9a1bf33616f1c4a336d',\n",
    "            'http://lite.cnn.io/en/article/h_de3f82f17d289680dd2b47c6413ebe7c',\n",
    "            'http://lite.cnn.io/en/article/h_72f4dc9d6f35458a89af014b62e625ad',\n",
    "            'http://lite.cnn.io/en/article/h_aa21fe6bf176071cb49e09d422c3adf0',\n",
    "            'http://lite.cnn.io/en/article/h_8ad34a532921c9076cdc9d7390d2f1bc',\n",
    "            'http://lite.cnn.io/en/article/h_84422c79110d9989177cfaf1c5f45fe7',\n",
    "            'http://lite.cnn.io/en/article/h_d010d9580abac3a44c6181ec6fb63d58',\n",
    "            'http://lite.cnn.io/en/article/h_fb11f4e9d7c5323e75b337d9e9e5e368',\n",
    "            'http://lite.cnn.io/en/article/h_7b27f0b131067f8ece6238ac559670ab',\n",
    "            'http://lite.cnn.io/en/article/h_8cae7f735fa9573d470f802063ceffe2',\n",
    "            'http://lite.cnn.io/en/article/h_72c3668280e82576fcc2602b0fa70c14',\n",
    "            'http://lite.cnn.io/en/article/h_d20658fb0e20212051cda0e0a7248c8a',\n",
    "            'http://lite.cnn.io/en/article/h_56611c43d7928120d2ae21666ccc7417',\n",
    "            'http://lite.cnn.io/en/article/h_bda0394e3c5ee7054ee65c022bca7695']"
   ]
  },
  {
   "cell_type": "code",
   "execution_count": 16,
   "metadata": {
    "id": "AfDWUtDr34PX"
   },
   "outputs": [],
   "source": [
    "path = 'cnn_articles/'\n",
    "\n",
    "for i, url in enumerate(articles):\n",
    "    response = requests.get(url)\n",
    "    soup = BeautifulSoup(response.text)\n",
    "    text = soup.find('div', {'class':'afe4286c'}).text\n",
    "    with open(path + f'article_{i}.txt', 'wb') as f:\n",
    "        f.write(text.encode())"
   ]
  },
  {
   "cell_type": "markdown",
   "metadata": {
    "id": "BgGlAM2X34Pc"
   },
   "source": [
    "### Ingest the text files generated via web scraping into a corpus and print the corpus statistics."
   ]
  },
  {
   "cell_type": "code",
   "execution_count": 30,
   "metadata": {
    "id": "mmybAnNB34Pf"
   },
   "outputs": [
    {
     "name": "stderr",
     "output_type": "stream",
     "text": [
      "[nltk_data] Downloading package punkt to /Users/abilenky/nltk_data...\n",
      "[nltk_data]   Package punkt is already up-to-date!\n"
     ]
    },
    {
     "data": {
      "text/plain": [
       "['article_0.txt',\n",
       " 'article_1.txt',\n",
       " 'article_10.txt',\n",
       " 'article_11.txt',\n",
       " 'article_12.txt',\n",
       " 'article_13.txt',\n",
       " 'article_2.txt',\n",
       " 'article_3.txt',\n",
       " 'article_4.txt',\n",
       " 'article_5.txt',\n",
       " 'article_6.txt',\n",
       " 'article_7.txt',\n",
       " 'article_8.txt',\n",
       " 'article_9.txt']"
      ]
     },
     "execution_count": 30,
     "metadata": {},
     "output_type": "execute_result"
    }
   ],
   "source": [
    "from nltk.corpus.reader.plaintext import PlaintextCorpusReader\n",
    "\n",
    "import nltk\n",
    "nltk.download('punkt')\n",
    "\n",
    "doc_pattern = r'.*\\.txt'\n",
    "corpus = PlaintextCorpusReader(path, doc_pattern)\n",
    "corpus.fileids()"
   ]
  },
  {
   "cell_type": "code",
   "execution_count": 35,
   "metadata": {},
   "outputs": [
    {
     "name": "stdout",
     "output_type": "stream",
     "text": [
      "Corpus Statistics\n",
      "\n",
      "Number of documents: 14\n",
      "\n",
      "Number of paragraphs: 14\n",
      "\n",
      "Number of sentences: 427\n",
      "\n",
      "Number of words: 13824\n",
      "\n",
      "Vocabulary: 2955\n",
      "\n",
      "Avg chars per word: 5\n",
      "\n",
      "Avg words per sentence: 32\n",
      "\n",
      "\n"
     ]
    }
   ],
   "source": [
    "def corpus_stats(corpus):\n",
    "    print(\n",
    "        f\"Corpus Statistics\\n\\n\"\n",
    "        f\"Number of documents: {len(corpus.fileids())}\\n\\n\"\n",
    "        f\"Number of paragraphs: {len(corpus.paras())}\\n\\n\"\n",
    "        f\"Number of sentences: {len(corpus.sents())}\\n\\n\"\n",
    "        f\"Number of words: {len(corpus.words())}\\n\\n\"\n",
    "        f\"Vocabulary: {len(set(w.lower() for w in corpus.words()))}\\n\\n\"\n",
    "        f\"Avg chars per word: {round(len(corpus.raw())/len(corpus.words()))}\\n\\n\"\n",
    "        f\"Avg words per sentence: {round(len(corpus.words())/len(corpus.sents()))}\\n\\n\"\n",
    "    )\n",
    "    \n",
    "corpus_stats(corpus)"
   ]
  },
  {
   "cell_type": "markdown",
   "metadata": {
    "id": "sGP_4yfR34Pi"
   },
   "source": [
    "### Parse the O'Reilly Radar RSS feed below, extract the text from each post, and save it to a text file.\n",
    "\n",
    "The content of each post contains HTML tags. Strip those out using the same approach you used for web scraping so that only text is saved to the files."
   ]
  },
  {
   "cell_type": "code",
   "execution_count": 36,
   "metadata": {
    "id": "CDbqkFCF34Pl"
   },
   "outputs": [],
   "source": [
    "feed = 'http://feeds.feedburner.com/oreilly/radar/atom'"
   ]
  },
  {
   "cell_type": "code",
   "execution_count": 42,
   "metadata": {
    "id": "l-a9JgWH34Po"
   },
   "outputs": [],
   "source": [
    "parsed = feedparser.parse(feed)"
   ]
  },
  {
   "cell_type": "code",
   "execution_count": 50,
   "metadata": {},
   "outputs": [
    {
     "data": {
      "text/plain": [
       "'2020 has been a year of great challenges for so many, but it’s not all negative. Around the world, organizations and their workforces have risen to the occasion, recognizing the importance of expanding their knowledge, taking on new tasks, and bettering themselves both personally and professionally. With the uptick in virtual conferencing, remote work, and, [&#8230;]'"
      ]
     },
     "execution_count": 50,
     "metadata": {},
     "output_type": "execute_result"
    }
   ],
   "source": [
    "parsed.entries[0].summary"
   ]
  },
  {
   "cell_type": "markdown",
   "metadata": {
    "id": "SqK4w9sa34Pr"
   },
   "source": [
    "### Ingest the text files generated via RSS parsing into a corpus and print the corpus statistics."
   ]
  },
  {
   "cell_type": "code",
   "execution_count": 51,
   "metadata": {
    "id": "cd4x36-934Ps"
   },
   "outputs": [],
   "source": [
    "path = 'rss_articles/'\n",
    "\n",
    "for i, entry in enumerate(parsed.entries):\n",
    "    text = entry.summary\n",
    "    with open(path + f'article_{i}.txt', 'wb') as f:\n",
    "        f.write(text.encode())"
   ]
  },
  {
   "cell_type": "code",
   "execution_count": 52,
   "metadata": {},
   "outputs": [
    {
     "name": "stdout",
     "output_type": "stream",
     "text": [
      "Corpus Statistics\n",
      "\n",
      "Number of documents: 60\n",
      "\n",
      "Number of paragraphs: 60\n",
      "\n",
      "Number of sentences: 197\n",
      "\n",
      "Number of words: 4515\n",
      "\n",
      "Vocabulary: 1467\n",
      "\n",
      "Avg chars per word: 5\n",
      "\n",
      "Avg words per sentence: 23\n",
      "\n",
      "\n"
     ]
    }
   ],
   "source": [
    "doc_pattern = r'.*\\.txt'\n",
    "corpus = PlaintextCorpusReader(path, doc_pattern)\n",
    "\n",
    "corpus_stats(corpus)"
   ]
  },
  {
   "cell_type": "markdown",
   "metadata": {
    "id": "9BDwjO8t34Pw"
   },
   "source": [
    "### Make an API call to the Hacker News API to retrieve their Ask, Show, and Job category items. \n",
    "\n",
    "- URL: https://hacker-news.firebaseio.com/v0/askstories.json"
   ]
  },
  {
   "cell_type": "code",
   "execution_count": 66,
   "metadata": {
    "id": "W7vyWOSN34Px"
   },
   "outputs": [
    {
     "name": "stdout",
     "output_type": "stream",
     "text": [
      "<Response [200]>\n",
      "Added 98 from askstories\n",
      "<Response [200]>\n",
      "Added 42 from showstories\n",
      "<Response [200]>\n",
      "Added 60 from jobstories\n"
     ]
    }
   ],
   "source": [
    "ids = []\n",
    "for cat in ['ask', 'show', 'job']:\n",
    "    url = f'https://hacker-news.firebaseio.com/v0/{cat}stories.json'\n",
    "    response = requests.get(url)\n",
    "    print(response)\n",
    "    print(f'Added {len(response.json())} from {cat}stories')\n",
    "    ids.extend(response.json())"
   ]
  },
  {
   "cell_type": "code",
   "execution_count": 67,
   "metadata": {},
   "outputs": [
    {
     "data": {
      "text/plain": [
       "200"
      ]
     },
     "execution_count": 67,
     "metadata": {},
     "output_type": "execute_result"
    }
   ],
   "source": [
    "len(ids)"
   ]
  },
  {
   "cell_type": "markdown",
   "metadata": {
    "id": "yEasqCkr34P0"
   },
   "source": [
    "### Once you have retrieved the item IDs from the URL above, retrieve each item by adding the item ID to the URL below, extract the item's text property, and save the text from each item to disk as its own document.\n",
    "\n",
    "- URL: https://hacker-news.firebaseio.com/v0/item/ITEM_ID_HERE.json\n",
    "\n",
    "The content of some items may contain HTML tags. Strip those out using the same approach you used for web scraping so that only text is saved to the files."
   ]
  },
  {
   "cell_type": "code",
   "execution_count": 89,
   "metadata": {},
   "outputs": [
    {
     "data": {
      "text/plain": [
       "\"What manual skills can one learn that pay well, and can be self-taught?'pay well' means earning (independently or in a  job) more than or equal to 60% of the average salary of a Software Engineer, in a given municipality.\""
      ]
     },
     "execution_count": 89,
     "metadata": {},
     "output_type": "execute_result"
    }
   ],
   "source": [
    "url = f'https://hacker-news.firebaseio.com/v0/item/{ids[0]}.json'\n",
    "response = requests.get(url)\n",
    "soup = BeautifulSoup(response.json()['text'])\n",
    "soup.text"
   ]
  },
  {
   "cell_type": "code",
   "execution_count": 91,
   "metadata": {},
   "outputs": [],
   "source": [
    "path = 'api_articles/'\n",
    "\n",
    "for i, id_ in enumerate(ids):\n",
    "    url = f'https://hacker-news.firebaseio.com/v0/item/{id_}.json'\n",
    "    response = requests.get(url)\n",
    "    if 'text' in response.json().keys():\n",
    "        soup = BeautifulSoup(response.json()['text'])\n",
    "        text = soup.text\n",
    "        with open(path + f'article_{i}.txt', 'wb') as f:\n",
    "            f.write(text.encode())"
   ]
  },
  {
   "cell_type": "markdown",
   "metadata": {
    "id": "hw9-v8sK34P5"
   },
   "source": [
    "### Ingest the text files generated via API into a corpus and print the corpus statistics."
   ]
  },
  {
   "cell_type": "code",
   "execution_count": 92,
   "metadata": {
    "id": "dcsiPdkx34P7"
   },
   "outputs": [
    {
     "name": "stdout",
     "output_type": "stream",
     "text": [
      "Corpus Statistics\n",
      "\n",
      "Number of documents: 84\n",
      "\n",
      "Number of paragraphs: 84\n",
      "\n",
      "Number of sentences: 273\n",
      "\n",
      "Number of words: 7851\n",
      "\n",
      "Vocabulary: 2019\n",
      "\n",
      "Avg chars per word: 5\n",
      "\n",
      "Avg words per sentence: 29\n",
      "\n",
      "\n"
     ]
    }
   ],
   "source": [
    "doc_pattern = r'.*\\.txt'\n",
    "corpus = PlaintextCorpusReader(path, doc_pattern)\n",
    "\n",
    "corpus_stats(corpus)"
   ]
  },
  {
   "cell_type": "code",
   "execution_count": null,
   "metadata": {},
   "outputs": [],
   "source": []
  }
 ],
 "metadata": {
  "colab": {
   "name": "Day 71, Lecture 2: Afternoon Assignment.ipynb",
   "provenance": []
  },
  "kernelspec": {
   "display_name": "Python 3",
   "language": "python",
   "name": "python3"
  },
  "language_info": {
   "codemirror_mode": {
    "name": "ipython",
    "version": 3
   },
   "file_extension": ".py",
   "mimetype": "text/x-python",
   "name": "python",
   "nbconvert_exporter": "python",
   "pygments_lexer": "ipython3",
   "version": "3.8.6"
  },
  "toc": {
   "base_numbering": 1,
   "nav_menu": {},
   "number_sections": false,
   "sideBar": true,
   "skip_h1_title": true,
   "title_cell": "Table of Contents",
   "title_sidebar": "Contents",
   "toc_cell": false,
   "toc_position": {},
   "toc_section_display": true,
   "toc_window_display": true
  }
 },
 "nbformat": 4,
 "nbformat_minor": 1
}
