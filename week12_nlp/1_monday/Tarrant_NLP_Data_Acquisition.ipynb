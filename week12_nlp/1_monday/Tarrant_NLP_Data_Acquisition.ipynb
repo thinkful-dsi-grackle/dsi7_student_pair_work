{
  "nbformat": 4,
  "nbformat_minor": 0,
  "metadata": {
    "kernelspec": {
      "display_name": "Python 3",
      "language": "python",
      "name": "python3"
    },
    "language_info": {
      "codemirror_mode": {
        "name": "ipython",
        "version": 3
      },
      "file_extension": ".py",
      "mimetype": "text/x-python",
      "name": "python",
      "nbconvert_exporter": "python",
      "pygments_lexer": "ipython3",
      "version": "3.7.2"
    },
    "colab": {
      "name": "Tarrant_NLP_Data_Acquisition.ipynb",
      "provenance": [],
      "collapsed_sections": []
    }
  },
  "cells": [
    {
      "cell_type": "code",
      "metadata": {
        "colab": {
          "base_uri": "https://localhost:8080/"
        },
        "id": "bhRiuE2WwNha",
        "outputId": "56a9565b-ce6f-4d45-80c7-3fd96ca85f83"
      },
      "source": [
        "!pip install feedparser"
      ],
      "execution_count": 72,
      "outputs": [
        {
          "output_type": "stream",
          "text": [
            "Requirement already satisfied: feedparser in /usr/local/lib/python3.6/dist-packages (6.0.2)\n",
            "Requirement already satisfied: sgmllib3k in /usr/local/lib/python3.6/dist-packages (from feedparser) (1.0.0)\n"
          ],
          "name": "stdout"
        }
      ]
    },
    {
      "cell_type": "markdown",
      "metadata": {
        "id": "IihPCGvd34PH"
      },
      "source": [
        "# Text Acquisition & Ingestion Assignment"
      ]
    },
    {
      "cell_type": "markdown",
      "metadata": {
        "id": "J1JLMFwr7AEn"
      },
      "source": [
        "# New Section"
      ]
    },
    {
      "cell_type": "code",
      "metadata": {
        "id": "DhLA_w7p34PM"
      },
      "source": [
        "import json\n",
        "import requests\n",
        "import feedparser\n",
        "from bs4 import BeautifulSoup"
      ],
      "execution_count": 73,
      "outputs": []
    },
    {
      "cell_type": "markdown",
      "metadata": {
        "id": "lZ3ytdXA34PR"
      },
      "source": [
        "### Iterate through the list of article URLs below, scraping the text from each one and saving it to a text file. "
      ]
    },
    {
      "cell_type": "code",
      "metadata": {
        "id": "mDbZqPpT34PU"
      },
      "source": [
        "articles = ['http://lite.cnn.io/en/article/h_eac18760a7a7f9a1bf33616f1c4a336d',\n",
        "            'http://lite.cnn.io/en/article/h_de3f82f17d289680dd2b47c6413ebe7c',\n",
        "            'http://lite.cnn.io/en/article/h_72f4dc9d6f35458a89af014b62e625ad',\n",
        "            'http://lite.cnn.io/en/article/h_aa21fe6bf176071cb49e09d422c3adf0',\n",
        "            'http://lite.cnn.io/en/article/h_8ad34a532921c9076cdc9d7390d2f1bc',\n",
        "            'http://lite.cnn.io/en/article/h_84422c79110d9989177cfaf1c5f45fe7',\n",
        "            'http://lite.cnn.io/en/article/h_d010d9580abac3a44c6181ec6fb63d58',\n",
        "            'http://lite.cnn.io/en/article/h_fb11f4e9d7c5323e75b337d9e9e5e368',\n",
        "            'http://lite.cnn.io/en/article/h_7b27f0b131067f8ece6238ac559670ab',\n",
        "            'http://lite.cnn.io/en/article/h_8cae7f735fa9573d470f802063ceffe2',\n",
        "            'http://lite.cnn.io/en/article/h_72c3668280e82576fcc2602b0fa70c14',\n",
        "            'http://lite.cnn.io/en/article/h_d20658fb0e20212051cda0e0a7248c8a',\n",
        "            'http://lite.cnn.io/en/article/h_56611c43d7928120d2ae21666ccc7417',\n",
        "            'http://lite.cnn.io/en/article/h_bda0394e3c5ee7054ee65c022bca7695']"
      ],
      "execution_count": 74,
      "outputs": []
    },
    {
      "cell_type": "code",
      "metadata": {
        "id": "AfDWUtDr34PX"
      },
      "source": [
        "PATH = '/content/news_articles/'\n",
        "\n",
        "for i, article in enumerate(articles):\n",
        "  response = requests.get(article)\n",
        "  content = response.text\n",
        "  soup = BeautifulSoup(content)\n",
        "  article_text = soup.find('div', {'class': 'afe4286c'}).get_text()\n",
        "\n",
        "  with open(PATH + f'_post_{i}.txt', 'wb') as f:\n",
        "    f.write(article_text.encode())"
      ],
      "execution_count": 75,
      "outputs": []
    },
    {
      "cell_type": "markdown",
      "metadata": {
        "id": "BgGlAM2X34Pc"
      },
      "source": [
        "### Ingest the text files generated via web scraping into a corpus and print the corpus statistics."
      ]
    },
    {
      "cell_type": "code",
      "metadata": {
        "id": "mmybAnNB34Pf",
        "colab": {
          "base_uri": "https://localhost:8080/"
        },
        "outputId": "97b65907-672f-4764-92ce-95346f61b06e"
      },
      "source": [
        "from nltk.corpus.reader.plaintext import PlaintextCorpusReader\n",
        "import nltk\n",
        "nltk.download('punkt')\n",
        "\n",
        "DOC_PATTERN = r'.*\\.txt'\n",
        "corpus = PlaintextCorpusReader(PATH, DOC_PATTERN)"
      ],
      "execution_count": 98,
      "outputs": [
        {
          "output_type": "stream",
          "text": [
            "[nltk_data] Downloading package punkt to /root/nltk_data...\n",
            "[nltk_data]   Package punkt is already up-to-date!\n"
          ],
          "name": "stdout"
        }
      ]
    },
    {
      "cell_type": "code",
      "metadata": {
        "id": "wdpaBcuB8Cl_"
      },
      "source": [
        "def corpus_stats(corpus):\n",
        "  print(\"Corpus Statistics\")\n",
        "  print(\"Number of Documents: \", str(len(corpus.fileids())))\n",
        "  print(\"Number of paragraphs: \", str(len(corpus.paras())))\n",
        "  print(\"Number of sentences: \", str(len(corpus.sents())))\n",
        "  print(\"Number of words: \", str(len(corpus.words())))\n",
        "  print(\"Vocabulary: \", str(len(set(w.lower for w in corpus.words()))))\n",
        "  print(\"Avg chars per word: \", str(round(len(corpus.raw())/len(corpus.words()),1)))\n",
        "  print(\"Avg words per sentence: \", str(round(len(corpus.words())/len(corpus.sents()),1)))"
      ],
      "execution_count": 99,
      "outputs": []
    },
    {
      "cell_type": "code",
      "metadata": {
        "colab": {
          "base_uri": "https://localhost:8080/"
        },
        "id": "_WrqywcZ9QRg",
        "outputId": "70e924b6-2e0c-4d64-edc2-6be526b8a51d"
      },
      "source": [
        "corpus_stats(corpus)"
      ],
      "execution_count": 100,
      "outputs": [
        {
          "output_type": "stream",
          "text": [
            "Corpus Statistics\n",
            "Number of Documents:  14\n",
            "Number of paragraphs:  14\n",
            "Number of sentences:  427\n",
            "Number of words:  13824\n",
            "Vocabulary:  11481\n",
            "Avg chars per word:  5.0\n",
            "Avg words per sentence:  32.4\n"
          ],
          "name": "stdout"
        }
      ]
    },
    {
      "cell_type": "markdown",
      "metadata": {
        "id": "sGP_4yfR34Pi"
      },
      "source": [
        "### Parse the O'Reilly Radar RSS feed below, extract the text from each post, and save it to a text file.\n",
        "\n",
        "The content of each post contains HTML tags. Strip those out using the same approach you used for web scraping so that only text is saved to the files."
      ]
    },
    {
      "cell_type": "code",
      "metadata": {
        "id": "CDbqkFCF34Pl"
      },
      "source": [
        "feed = 'http://feeds.feedburner.com/oreilly/radar/atom'"
      ],
      "execution_count": 101,
      "outputs": []
    },
    {
      "cell_type": "code",
      "metadata": {
        "id": "l-a9JgWH34Po"
      },
      "source": [
        "parsed = feedparser.parse(feed)"
      ],
      "execution_count": 102,
      "outputs": []
    },
    {
      "cell_type": "code",
      "metadata": {
        "id": "tXF4bKvdACR9"
      },
      "source": [
        "posts = parsed.entries"
      ],
      "execution_count": 103,
      "outputs": []
    },
    {
      "cell_type": "code",
      "metadata": {
        "colab": {
          "base_uri": "https://localhost:8080/",
          "height": 86
        },
        "id": "T1yJaOYjAEgk",
        "outputId": "e1a779f4-d858-4964-a0b7-ecd120752ace"
      },
      "source": [
        "posts[0][\"summary\"]"
      ],
      "execution_count": 104,
      "outputs": [
        {
          "output_type": "execute_result",
          "data": {
            "application/vnd.google.colaboratory.intrinsic+json": {
              "type": "string"
            },
            "text/plain": [
              "'2020 has been a year of great challenges for so many, but it’s not all negative. Around the world, organizations and their workforces have risen to the occasion, recognizing the importance of expanding their knowledge, taking on new tasks, and bettering themselves both personally and professionally. With the uptick in virtual conferencing, remote work, and, [&#8230;]'"
            ]
          },
          "metadata": {
            "tags": []
          },
          "execution_count": 104
        }
      ]
    },
    {
      "cell_type": "markdown",
      "metadata": {
        "id": "SqK4w9sa34Pr"
      },
      "source": [
        "### Ingest the text files generated via RSS parsing into a corpus and print the corpus statistics."
      ]
    },
    {
      "cell_type": "code",
      "metadata": {
        "id": "cd4x36-934Ps"
      },
      "source": [
        "PATH = '/content/rss/'\n",
        "\n",
        "for i, post in enumerate(posts):\n",
        "  text = post.summary\n",
        "\n",
        "  with open(PATH + f'_post_{i}.txt', 'wb') as f:\n",
        "    f.write(text.encode())"
      ],
      "execution_count": 105,
      "outputs": []
    },
    {
      "cell_type": "code",
      "metadata": {
        "colab": {
          "base_uri": "https://localhost:8080/"
        },
        "id": "WCHroLTeAe4x",
        "outputId": "597fd419-3214-4454-a92a-020253fe640c"
      },
      "source": [
        "DOC_PATTERN = r'.*\\.txt'\n",
        "corpus = PlaintextCorpusReader(PATH, DOC_PATTERN)\n",
        "\n",
        "corpus_stats(corpus)"
      ],
      "execution_count": 106,
      "outputs": [
        {
          "output_type": "stream",
          "text": [
            "Corpus Statistics\n",
            "Number of Documents:  60\n",
            "Number of paragraphs:  60\n",
            "Number of sentences:  197\n",
            "Number of words:  4515\n",
            "Vocabulary:  3751\n",
            "Avg chars per word:  4.9\n",
            "Avg words per sentence:  22.9\n"
          ],
          "name": "stdout"
        }
      ]
    },
    {
      "cell_type": "markdown",
      "metadata": {
        "id": "9BDwjO8t34Pw"
      },
      "source": [
        "### Make an API call to the Hacker News API to retrieve their Ask, Show, and Job category items. \n",
        "\n",
        "- URL: https://hacker-news.firebaseio.com/v0/askstories.json"
      ]
    },
    {
      "cell_type": "code",
      "metadata": {
        "id": "W7vyWOSN34Px",
        "colab": {
          "base_uri": "https://localhost:8080/"
        },
        "outputId": "6ab82658-0ef2-4180-a5a9-246e51842ce4"
      },
      "source": [
        "url = 'https://hacker-news.firebaseio.com/v0/askstories.json'\n",
        "\n",
        "response = requests.get(url).json()\n",
        "response"
      ],
      "execution_count": 122,
      "outputs": [
        {
          "output_type": "execute_result",
          "data": {
            "text/plain": [
              "[25562022,\n",
              " 25561398,\n",
              " 25560185,\n",
              " 25553818,\n",
              " 25558927,\n",
              " 25559755,\n",
              " 25554464,\n",
              " 25562723,\n",
              " 25559274,\n",
              " 25559174,\n",
              " 25560180,\n",
              " 25553772,\n",
              " 25540583,\n",
              " 25538586,\n",
              " 25556199,\n",
              " 25537230,\n",
              " 25555746,\n",
              " 25556563,\n",
              " 25559143,\n",
              " 25546445,\n",
              " 25557720,\n",
              " 25525457,\n",
              " 25541269,\n",
              " 25541616,\n",
              " 25557852,\n",
              " 25558741,\n",
              " 25525426,\n",
              " 25548802,\n",
              " 25530700,\n",
              " 25553613,\n",
              " 25533487,\n",
              " 25547050,\n",
              " 25541964,\n",
              " 25557927,\n",
              " 25552885,\n",
              " 25542676,\n",
              " 25557631,\n",
              " 25545469,\n",
              " 25551133,\n",
              " 25544753,\n",
              " 25538405,\n",
              " 25531729,\n",
              " 25546557,\n",
              " 25550111,\n",
              " 25545136,\n",
              " 25542679,\n",
              " 25551290,\n",
              " 25540343,\n",
              " 25541939,\n",
              " 25559571,\n",
              " 25542290,\n",
              " 25533051,\n",
              " 25538258,\n",
              " 25538128,\n",
              " 25541828,\n",
              " 25528481,\n",
              " 25535752,\n",
              " 25540059,\n",
              " 25544961,\n",
              " 25550627,\n",
              " 25528596,\n",
              " 25543287,\n",
              " 25526708,\n",
              " 25543087,\n",
              " 25542812,\n",
              " 25555295,\n",
              " 25530559,\n",
              " 25535332,\n",
              " 25528837,\n",
              " 25533472,\n",
              " 25525590,\n",
              " 25539594,\n",
              " 25539230,\n",
              " 25537569,\n",
              " 25535792,\n",
              " 25533505,\n",
              " 25534981,\n",
              " 25526280,\n",
              " 25533682,\n",
              " 25542189,\n",
              " 25549841,\n",
              " 25548696,\n",
              " 25527401,\n",
              " 25526579,\n",
              " 25545525,\n",
              " 25549864,\n",
              " 25525446,\n",
              " 25536672,\n",
              " 25539190,\n",
              " 25533770,\n",
              " 25527006,\n",
              " 25526511,\n",
              " 25537279,\n",
              " 25534307,\n",
              " 25550782,\n",
              " 25542445,\n",
              " 25534168,\n",
              " 25553809]"
            ]
          },
          "metadata": {
            "tags": []
          },
          "execution_count": 122
        }
      ]
    },
    {
      "cell_type": "markdown",
      "metadata": {
        "id": "yEasqCkr34P0"
      },
      "source": [
        "### Once you have retrieved the item IDs from the URL above, retrieve each item by adding the item ID to the URL below, extract the item's text property, and save the text from each item to disk as its own document.\n",
        "\n",
        "- URL: https://hacker-news.firebaseio.com/v0/item/ITEM_ID_HERE.json\n",
        "\n",
        "The content of some items may contain HTML tags. Strip those out using the same approach you used for web scraping so that only text is saved to the files."
      ]
    },
    {
      "cell_type": "code",
      "metadata": {
        "id": "6Vp7yfWB34P1"
      },
      "source": [
        "PATH = '/content/api/'\n",
        "\n",
        "for id in response:\n",
        "  url = f'https://hacker-news.firebaseio.com/v0/item/{id}.json'\n",
        "  content = requests.get(url).json()\n",
        "  if 'text' in content:\n",
        "    soup = BeautifulSoup(content['text']).get_text()\n",
        "\n",
        "    with open(PATH + f'post_{id}.txt', 'wb') as f:\n",
        "      f.write(article_text.encode())\n"
      ],
      "execution_count": 132,
      "outputs": []
    },
    {
      "cell_type": "markdown",
      "metadata": {
        "id": "hw9-v8sK34P5"
      },
      "source": [
        "### Ingest the text files generated via API into a corpus and print the corpus statistics."
      ]
    },
    {
      "cell_type": "code",
      "metadata": {
        "id": "dcsiPdkx34P7",
        "colab": {
          "base_uri": "https://localhost:8080/"
        },
        "outputId": "4d8d128d-a1d6-40a1-b716-91e4175c3e77"
      },
      "source": [
        "DOC_PATTERN = r'.*\\.txt'\n",
        "corpus = PlaintextCorpusReader(PATH, DOC_PATTERN)\n",
        "\n",
        "corpus_stats(corpus)"
      ],
      "execution_count": 133,
      "outputs": [
        {
          "output_type": "stream",
          "text": [
            "Corpus Statistics\n",
            "Number of Documents:  76\n",
            "Number of paragraphs:  76\n",
            "Number of sentences:  3572\n",
            "Number of words:  102676\n",
            "Vocabulary:  77767\n",
            "Avg chars per word:  4.5\n",
            "Avg words per sentence:  28.7\n"
          ],
          "name": "stdout"
        }
      ]
    }
  ]
}