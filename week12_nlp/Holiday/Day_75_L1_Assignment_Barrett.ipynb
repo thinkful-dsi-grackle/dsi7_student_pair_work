{
  "nbformat": 4,
  "nbformat_minor": 0,
  "metadata": {
    "kernelspec": {
      "display_name": "Python 3",
      "language": "python",
      "name": "python3"
    },
    "language_info": {
      "codemirror_mode": {
        "name": "ipython",
        "version": 3
      },
      "file_extension": ".py",
      "mimetype": "text/x-python",
      "name": "python",
      "nbconvert_exporter": "python",
      "pygments_lexer": "ipython3",
      "version": "3.7.2"
    },
    "colab": {
      "name": "Day_75_L1_Assignment_Barrett.ipynb",
      "provenance": [],
      "collapsed_sections": []
    }
  },
  "cells": [
    {
      "cell_type": "markdown",
      "metadata": {
        "id": "2qtIy1rhPrpb"
      },
      "source": [
        "# Natural Language Processing: Chatbots Assignment"
      ]
    },
    {
      "cell_type": "code",
      "metadata": {
        "id": "O-18zFBdPrpd",
        "colab": {
          "base_uri": "https://localhost:8080/"
        },
        "outputId": "3fee4df7-1e42-4f1f-8079-930f2ca73380"
      },
      "source": [
        "!pip install chatterbot --quiet\n",
        "!pip install chatterbot_corpus --quiet\n",
        "\n",
        "import re\n",
        "import requests\n",
        "from bs4 import BeautifulSoup\n",
        "from chatterbot import ChatBot\n",
        "from chatterbot.trainers import ListTrainer"
      ],
      "execution_count": 1,
      "outputs": [
        {
          "output_type": "stream",
          "text": [
            "\u001b[K     |████████████████████████████████| 71kB 3.4MB/s \n",
            "\u001b[K     |████████████████████████████████| 122kB 4.3MB/s \n",
            "\u001b[?25h"
          ],
          "name": "stdout"
        }
      ]
    },
    {
      "cell_type": "markdown",
      "metadata": {
        "id": "J43HRfFdPrpg"
      },
      "source": [
        "### Scrape the HTML from the URL below which contains questions and answers about databases."
      ]
    },
    {
      "cell_type": "code",
      "metadata": {
        "id": "OkxH23z3Prph"
      },
      "source": [
        "url = 'https://www.wisdomjobs.com/e-university/database-interview-questions.html'"
      ],
      "execution_count": 39,
      "outputs": []
    },
    {
      "cell_type": "code",
      "metadata": {
        "id": "6PoEi6S6Prpj"
      },
      "source": [
        "response = requests.get(url)\n",
        "content = response.text\n",
        "soup = BeautifulSoup(content)\n",
        "print(soup.prettify())"
      ],
      "execution_count": null,
      "outputs": []
    },
    {
      "cell_type": "markdown",
      "metadata": {
        "id": "xR9bp45DPrpk"
      },
      "source": [
        "### Clean the acquired HTML, extracting just the text."
      ]
    },
    {
      "cell_type": "code",
      "metadata": {
        "colab": {
          "base_uri": "https://localhost:8080/"
        },
        "id": "twpqW8qXPJ4U",
        "outputId": "41129e9d-ae33-4dd9-fe63-e4b4d4263021"
      },
      "source": [
        "interview_question_list = [line.text for line in soup.find_all('li', class_='quesans mb-20')]\n",
        "interview_question_list[:10]"
      ],
      "execution_count": 165,
      "outputs": [
        {
          "output_type": "execute_result",
          "data": {
            "text/plain": [
              "['\\nQuestion 1. Explain What Is Sqlite Transactions?\\nAnswer :The transaction is referred as a unit of work that is performed against a database. It is the propagation of one or more changes to the database. Properties of transactions are determined by ACID.\\n\\nAtomicity: It ensures that all work unit are successfully completed.\\nConsistency: It ensures that the database changes states upon a successfully committed transaction.\\nIsolation: It enables transactions to operate independently of and transparent to each other.\\nDurability: It ensures that the result or effect of a committed transaction persists in case of a system failure.\\n\\n',\n",
              " '\\nQuestion 2. What Does Sql Stand For, And What Is It Used For?\\nAnswer :SQL stands for structured query language, used with relational databases. It is used to query, update, and retrieve the contents of databases.\\n',\n",
              " '\\nQuestion 3. List Out The Areas Where Sql Lite Works Well?\\nAnswer :SQL lite works well with :\\n\\nEmbedded devices and the internet of things.\\nApplication file format.\\nData Analysis.\\nWebsites.\\nCache for enterprise data.\\nServer side database.\\nFile archives.\\nInternal or temporary databases.\\nReplacement for ad hoc disk files.\\nExperimental SQL language extensions.\\nStand-in for an enterprise database during demos or testing.\\n\\n',\n",
              " '\\nQuestion 4. What Are Attributes?\\nAnswer :An attribute is a column in a table.\\n',\n",
              " '\\nQuestion 5. Differentiate Between A Having Clause And A Where Clause.\\nAnswer :HAVING CLAUSE :\\n\\nHAVING CLAUSE is used only with the SELECT statement.\\nIt is generally used in a GROUP BY clause in a query.\\nIf GROUP BY is not used, HAVING works like a WHERE clause.\\n\\nWHERE Clause :\\n\\nIt is applied to each row before they become a part of the GROUP BY function in a query.\\n\\n',\n",
              " '\\nQuestion 6. What Is Data Mining And How Can It Be Used?\\nAnswer :Data mining refers to any procedure for collecting, analyzing, and summarizing the contents of a database. It can be used to judge the success of a business, marketing campaigns, and to forecast future trends.\\n',\n",
              " '\\nQuestion 7. Mention What Are The Sql Lite Storage Classes?\\nAnswer :SQL lite storage classes include :\\n\\nNull: The value is a NULL value.\\nInteger: The value is a signed integer (1,2,3, etc.).\\nReal: The value is a floating point value, stored as an 8 byte IEEE floating point number.\\nText: The value is a text string, stored using the database encoding ( UTF-8, UTF-16BE).\\nBLOB (Binary Large Object): The value is a blob of data, exactly stored as it was input.\\n\\n',\n",
              " '\\nQuestion 8. What Is Database Normalization And Why Is It Done?\\nAnswer :This is the process of organizing data in a database efficiently, and it is done to make sure that connections and dependencies between data make sense, and to get rid of redundant data.\\n',\n",
              " '\\nQuestion 9. What Do Constraints Do? What Are The Types Of Constraints?\\nAnswer :Constraints are used to prevent the database from losing internal and external integrity. The types are: check, not null, unique, primary key, and foreign key.\\n',\n",
              " '\\nQuestion 10. What Are Fact Tables?\\nAnswer :Tables which track the progress of a certain process or activity, the primary tables of databases.\\n']"
            ]
          },
          "metadata": {
            "tags": []
          },
          "execution_count": 165
        }
      ]
    },
    {
      "cell_type": "markdown",
      "metadata": {
        "id": "yuxEDAXIPrpn"
      },
      "source": [
        "### Organize the text into a list of questions and answers.\n",
        "\n",
        "The best way to do this is to use a regular expression to split the text wherever a question or an answer appears (they are labeled)."
      ]
    },
    {
      "cell_type": "code",
      "metadata": {
        "id": "jLwHG365WuX2"
      },
      "source": [
        "question_list = [re.sub(' Question [0-9]+. ', '', q.replace('\\n', ' ').replace('  ', ' ').replace(' :', ':')).strip().split(' Answer:') for q in interview_question_list]"
      ],
      "execution_count": 181,
      "outputs": []
    },
    {
      "cell_type": "code",
      "metadata": {
        "colab": {
          "base_uri": "https://localhost:8080/"
        },
        "id": "i1Ia9gvhXg22",
        "outputId": "8892f174-66b6-41b1-967a-76552041f8cb"
      },
      "source": [
        "question_list[:10]"
      ],
      "execution_count": 182,
      "outputs": [
        {
          "output_type": "execute_result",
          "data": {
            "text/plain": [
              "[['Explain What Is Sqlite Transactions?',\n",
              "  'The transaction is referred as a unit of work that is performed against a database. It is the propagation of one or more changes to the database. Properties of transactions are determined by ACID. Atomicity: It ensures that all work unit are successfully completed. Consistency: It ensures that the database changes states upon a successfully committed transaction. Isolation: It enables transactions to operate independently of and transparent to each other. Durability: It ensures that the result or effect of a committed transaction persists in case of a system failure.'],\n",
              " ['What Does Sql Stand For, And What Is It Used For?',\n",
              "  'SQL stands for structured query language, used with relational databases. It is used to query, update, and retrieve the contents of databases.'],\n",
              " ['List Out The Areas Where Sql Lite Works Well?',\n",
              "  'SQL lite works well with: Embedded devices and the internet of things. Application file format. Data Analysis. Websites. Cache for enterprise data. Server side database. File archives. Internal or temporary databases. Replacement for ad hoc disk files. Experimental SQL language extensions. Stand-in for an enterprise database during demos or testing.'],\n",
              " ['What Are Attributes?', 'An attribute is a column in a table.'],\n",
              " ['Differentiate Between A Having Clause And A Where Clause.',\n",
              "  'HAVING CLAUSE: HAVING CLAUSE is used only with the SELECT statement. It is generally used in a GROUP BY clause in a query. If GROUP BY is not used, HAVING works like a WHERE clause. WHERE Clause: It is applied to each row before they become a part of the GROUP BY function in a query.'],\n",
              " ['What Is Data Mining And How Can It Be Used?',\n",
              "  'Data mining refers to any procedure for collecting, analyzing, and summarizing the contents of a database. It can be used to judge the success of a business, marketing campaigns, and to forecast future trends.'],\n",
              " ['Mention What Are The Sql Lite Storage Classes?',\n",
              "  'SQL lite storage classes include: Null: The value is a NULL value. Integer: The value is a signed integer (1,2,3, etc.). Real: The value is a floating point value, stored as an 8 byte IEEE floating point number. Text: The value is a text string, stored using the database encoding ( UTF-8, UTF-16BE). BLOB (Binary Large Object): The value is a blob of data, exactly stored as it was input.'],\n",
              " ['What Is Database Normalization And Why Is It Done?',\n",
              "  'This is the process of organizing data in a database efficiently, and it is done to make sure that connections and dependencies between data make sense, and to get rid of redundant data.'],\n",
              " ['What Do Constraints Do? What Are The Types Of Constraints?',\n",
              "  'Constraints are used to prevent the database from losing internal and external integrity. The types are: check, not null, unique, primary key, and foreign key.'],\n",
              " ['What Are Fact Tables?',\n",
              "  'Tables which track the progress of a certain process or activity, the primary tables of databases.']]"
            ]
          },
          "metadata": {
            "tags": []
          },
          "execution_count": 182
        }
      ]
    },
    {
      "cell_type": "markdown",
      "metadata": {
        "id": "1UHdgjt1Prpp"
      },
      "source": [
        "### Train a Chatterbot chatbot on the list of questions and answers."
      ]
    },
    {
      "cell_type": "code",
      "metadata": {
        "id": "q9ELJw67Prpp"
      },
      "source": [
        "chatbot = ChatBot('HR_Tammy')\n",
        "chatbot.storage.drop()\n",
        "\n",
        "trainer = ListTrainer(chatbot, show_training_progress=False)\n",
        "for question in question_list:\n",
        "  trainer.train(question)"
      ],
      "execution_count": 199,
      "outputs": []
    },
    {
      "cell_type": "markdown",
      "metadata": {
        "id": "IFwtqnM5Prpr"
      },
      "source": [
        "### Write the user interface logic that allows a user to ask the chatbot questions about databases and have the chatbot return an answer. \n",
        "\n",
        "Include logic that checks to see if the answer returned is going to be a question and if so, return the next element in the list after that question."
      ]
    },
    {
      "cell_type": "code",
      "metadata": {
        "colab": {
          "base_uri": "https://localhost:8080/"
        },
        "id": "uLJTIk_ocw1x",
        "outputId": "25568e97-06c2-44db-f936-e105f1d75375"
      },
      "source": [
        "response = chatbot.get_response('What does SQL stand for?')\n",
        "print(response)"
      ],
      "execution_count": 201,
      "outputs": [
        {
          "output_type": "stream",
          "text": [
            "Physical level: The lowest level of abstraction describes how data are stored. Logical level: The next higher level of abstraction, describes what data are stored in database and what relationship among those data. View level: The highest level of abstraction describes only part of entire database.\n"
          ],
          "name": "stdout"
        }
      ]
    },
    {
      "cell_type": "code",
      "metadata": {
        "id": "DuujcjQjPrps",
        "colab": {
          "base_uri": "https://localhost:8080/"
        },
        "outputId": "82375f57-18d7-4e07-924e-55a3e76bf2c9"
      },
      "source": [
        "print('Hi, I am Tammy. I am a bot that can answer SQL questions.\\n')\n",
        "print('Please type EXIT if you would like to end this conversation and cry to your mommy.')\n",
        "\n",
        "while True:\n",
        "  user = input('User: ')\n",
        "\n",
        "  if user.lower() != 'exit':\n",
        "    print('Tammy: ', chatbot.get_response(user))\n",
        "  else:\n",
        "    print('Tammy: Bye!')\n",
        "    break"
      ],
      "execution_count": 202,
      "outputs": [
        {
          "output_type": "stream",
          "text": [
            "Hi, I am Tammy. I am a bot that can answer SQL questions.\n",
            "\n",
            "Please type EXIT if you would like to end this conversation and cry to your mommy.\n",
            "User: sql lite\n",
            "Tammy:  SQL lite works well with: Embedded devices and the internet of things. Application file format. Data Analysis. Websites. Cache for enterprise data. Server side database. File archives. Internal or temporary databases. Replacement for ad hoc disk files. Experimental SQL language extensions. Stand-in for an enterprise database during demos or testing.\n",
            "User: Transactions \n",
            "Tammy:  The transaction is referred as a unit of work that is performed against a database. It is the propagation of one or more changes to the database. Properties of transactions are determined by ACID. Atomicity: It ensures that all work unit are successfully completed. Consistency: It ensures that the database changes states upon a successfully committed transaction. Isolation: It enables transactions to operate independently of and transparent to each other. Durability: It ensures that the result or effect of a committed transaction persists in case of a system failure.\n",
            "User: where clause\n",
            "Tammy:  What Do You Mean By Index Hunting?\n",
            "User: having clause\n",
            "Tammy:  HAVING CLAUSE: HAVING CLAUSE is used only with the SELECT statement. It is generally used in a GROUP BY clause in a query. If GROUP BY is not used, HAVING works like a WHERE clause. WHERE Clause: It is applied to each row before they become a part of the GROUP BY function in a query.\n",
            "User: exit\n",
            "Tammy: Bye!\n"
          ],
          "name": "stdout"
        }
      ]
    },
    {
      "cell_type": "code",
      "metadata": {
        "id": "J9uA2zdJADt-"
      },
      "source": [
        ""
      ],
      "execution_count": 189,
      "outputs": []
    },
    {
      "cell_type": "code",
      "metadata": {
        "id": "OadZ7XlaADrj"
      },
      "source": [
        ""
      ],
      "execution_count": null,
      "outputs": []
    },
    {
      "cell_type": "markdown",
      "metadata": {
        "id": "egmWKu1rAEER"
      },
      "source": [
        "#Lecture Notes"
      ]
    },
    {
      "cell_type": "code",
      "metadata": {
        "colab": {
          "base_uri": "https://localhost:8080/"
        },
        "id": "Csh9Q7-3AFp1",
        "outputId": "ac07794d-ebd2-482f-c229-76277546101d"
      },
      "source": [
        "chatbot = ChatBot('Charlie')\n",
        "\n",
        "trainer = ListTrainer(chatbot)\n",
        "\n",
        "trainer.train([\"Hello\", \n",
        "               'Hi, can I help you?',\n",
        "               \"Sure, I'd like to book a flight to Iceland\",\n",
        "               \"Your flight has been booked.\"])"
      ],
      "execution_count": 28,
      "outputs": [
        {
          "output_type": "stream",
          "text": [
            "List Trainer: [####################] 100%\n"
          ],
          "name": "stdout"
        }
      ]
    },
    {
      "cell_type": "code",
      "metadata": {
        "colab": {
          "base_uri": "https://localhost:8080/"
        },
        "id": "jz7P-EkLAFnI",
        "outputId": "31579303-fc4a-48a1-fb65-b016cf7fd197"
      },
      "source": [
        "response = chatbot.get_response('I would like to book a flight')\n",
        "print(response)"
      ],
      "execution_count": 24,
      "outputs": [
        {
          "output_type": "stream",
          "text": [
            "Your flight has been booked.\n"
          ],
          "name": "stdout"
        }
      ]
    },
    {
      "cell_type": "code",
      "metadata": {
        "colab": {
          "base_uri": "https://localhost:8080/"
        },
        "id": "HjwbTbtCAE_p",
        "outputId": "c7171365-e2f9-4b8d-8c38-6cdc19355588"
      },
      "source": [
        "response = chatbot.get_response('Hello')\n",
        "print(response)"
      ],
      "execution_count": 25,
      "outputs": [
        {
          "output_type": "stream",
          "text": [
            "Hi, can I help you?\n"
          ],
          "name": "stdout"
        }
      ]
    },
    {
      "cell_type": "code",
      "metadata": {
        "colab": {
          "base_uri": "https://localhost:8080/"
        },
        "id": "5NRegS3rGHiK",
        "outputId": "41e10ba2-eede-4d75-964d-04b5eb24ff47"
      },
      "source": [
        "response = chatbot.get_response('Can I book a flight to LA?')\n",
        "print(response)"
      ],
      "execution_count": 26,
      "outputs": [
        {
          "output_type": "stream",
          "text": [
            "Your flight has been booked.\n"
          ],
          "name": "stdout"
        }
      ]
    },
    {
      "cell_type": "code",
      "metadata": {
        "id": "dMsr4bbcGMJc"
      },
      "source": [
        "chatbot.storage.drop()"
      ],
      "execution_count": 22,
      "outputs": []
    },
    {
      "cell_type": "code",
      "metadata": {
        "colab": {
          "base_uri": "https://localhost:8080/"
        },
        "id": "mbXzVBudGiWi",
        "outputId": "064e075c-d6cd-4ef7-e52a-a776b9095f28"
      },
      "source": [
        "print('Hi, I am Charlie. I am a bot.\\n')\n",
        "print('Please type EXIT if you would like to end this conversation.')\n",
        "\n",
        "while True:\n",
        "  user = input('User: ')\n",
        "\n",
        "  if user.lower() != 'exit':\n",
        "    print('Charlie: ', chatbot.get_response(user))\n",
        "  else:\n",
        "    print('Charlies: Bye!')\n",
        "    break"
      ],
      "execution_count": 31,
      "outputs": [
        {
          "output_type": "stream",
          "text": [
            "Hi, I am Charlie. I am a bot.\n",
            "\n",
            "Please type EXIT if you would like to end this conversation.\n",
            "User: Hello\n",
            "Charlie:  Hi, can I help you?\n",
            "User: Can I book a flight?\n",
            "Charlie:  Your flight has been booked.\n",
            "User: Thanks!\n",
            "Charlie:  Your flight has been booked.\n",
            "User: exit\n",
            "Charlies: Bye!\n"
          ],
          "name": "stdout"
        }
      ]
    },
    {
      "cell_type": "code",
      "metadata": {
        "id": "6rHvBr3kHA2G"
      },
      "source": [
        "# Rasa https://rasa.com/docs/rasa/playground\n",
        "# https://www.youtube.com/watch?v=-F6h43DRpcU\n",
        "# https://www.youtube.com/watch?v=D5VN56jQMWM"
      ],
      "execution_count": 31,
      "outputs": []
    }
  ]
}