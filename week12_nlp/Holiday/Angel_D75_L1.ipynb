{
  "nbformat": 4,
  "nbformat_minor": 0,
  "metadata": {
    "kernelspec": {
      "display_name": "Python 3",
      "language": "python",
      "name": "python3"
    },
    "language_info": {
      "codemirror_mode": {
        "name": "ipython",
        "version": 3
      },
      "file_extension": ".py",
      "mimetype": "text/x-python",
      "name": "python",
      "nbconvert_exporter": "python",
      "pygments_lexer": "ipython3",
      "version": "3.7.2"
    },
    "colab": {
      "name": "Angel_D75_L1.ipynb",
      "provenance": [],
      "collapsed_sections": []
    }
  },
  "cells": [
    {
      "cell_type": "markdown",
      "metadata": {
        "id": "2qtIy1rhPrpb"
      },
      "source": [
        "# Natural Language Processing: Chatbots Assignment"
      ]
    },
    {
      "cell_type": "code",
      "metadata": {
        "id": "O-18zFBdPrpd"
      },
      "source": [
        "!pip install chatterbot --quiet\n",
        "!pip install chatterbot_corpus --quiet\n",
        "\n",
        "import re\n",
        "import requests\n",
        "from bs4 import BeautifulSoup\n",
        "from chatterbot import ChatBot\n",
        "from chatterbot.trainers import ListTrainer"
      ],
      "execution_count": null,
      "outputs": []
    },
    {
      "cell_type": "markdown",
      "metadata": {
        "id": "J43HRfFdPrpg"
      },
      "source": [
        "### Scrape the HTML from the URL below which contains questions and answers about databases."
      ]
    },
    {
      "cell_type": "code",
      "metadata": {
        "id": "OkxH23z3Prph"
      },
      "source": [
        "url = 'https://www.wisdomjobs.com/e-university/database-interview-questions.html'"
      ],
      "execution_count": 2,
      "outputs": []
    },
    {
      "cell_type": "code",
      "metadata": {
        "id": "6PoEi6S6Prpj"
      },
      "source": [
        "response = requests.get(url)\r\n",
        "soup = BeautifulSoup(response.text)"
      ],
      "execution_count": 4,
      "outputs": []
    },
    {
      "cell_type": "markdown",
      "metadata": {
        "id": "xR9bp45DPrpk"
      },
      "source": [
        "### Clean the acquired HTML, extracting just the text."
      ]
    },
    {
      "cell_type": "code",
      "metadata": {
        "id": "2WDwwPBZPrpl",
        "colab": {
          "base_uri": "https://localhost:8080/"
        },
        "outputId": "7baf5665-5717-4cee-dbc4-dda694c0641d"
      },
      "source": [
        "exchange = [question.text for question in soup.find_all('li', attrs={'class':'quesans'})]\r\n",
        "exchange"
      ],
      "execution_count": 10,
      "outputs": [
        {
          "output_type": "execute_result",
          "data": {
            "text/plain": [
              "['\\nQuestion 1. Explain What Is Sqlite Transactions?\\nAnswer :The transaction is referred as a unit of work that is performed against a database. It is the propagation of one or more changes to the database. Properties of transactions are determined by ACID.\\n\\nAtomicity: It ensures that all work unit are successfully completed.\\nConsistency: It ensures that the database changes states upon a successfully committed transaction.\\nIsolation: It enables transactions to operate independently of and transparent to each other.\\nDurability: It ensures that the result or effect of a committed transaction persists in case of a system failure.\\n\\n',\n",
              " '\\nQuestion 2. What Does Sql Stand For, And What Is It Used For?\\nAnswer :SQL stands for structured query language, used with relational databases. It is used to query, update, and retrieve the contents of databases.\\n',\n",
              " '\\nQuestion 3. List Out The Areas Where Sql Lite Works Well?\\nAnswer :SQL lite works well with :\\n\\nEmbedded devices and the internet of things.\\nApplication file format.\\nData Analysis.\\nWebsites.\\nCache for enterprise data.\\nServer side database.\\nFile archives.\\nInternal or temporary databases.\\nReplacement for ad hoc disk files.\\nExperimental SQL language extensions.\\nStand-in for an enterprise database during demos or testing.\\n\\n',\n",
              " '\\nQuestion 4. What Are Attributes?\\nAnswer :An attribute is a column in a table.\\n',\n",
              " '\\nQuestion 5. Differentiate Between A Having Clause And A Where Clause.\\nAnswer :HAVING CLAUSE :\\n\\nHAVING CLAUSE is used only with the SELECT statement.\\nIt is generally used in a GROUP BY clause in a query.\\nIf GROUP BY is not used, HAVING works like a WHERE clause.\\n\\nWHERE Clause :\\n\\nIt is applied to each row before they become a part of the GROUP BY function in a query.\\n\\n',\n",
              " '\\nQuestion 6. What Is Data Mining And How Can It Be Used?\\nAnswer :Data mining refers to any procedure for collecting, analyzing, and summarizing the contents of a database. It can be used to judge the success of a business, marketing campaigns, and to forecast future trends.\\n',\n",
              " '\\nQuestion 7. Mention What Are The Sql Lite Storage Classes?\\nAnswer :SQL lite storage classes include :\\n\\nNull: The value is a NULL value.\\nInteger: The value is a signed integer (1,2,3, etc.).\\nReal: The value is a floating point value, stored as an 8 byte IEEE floating point number.\\nText: The value is a text string, stored using the database encoding ( UTF-8, UTF-16BE).\\nBLOB (Binary Large Object): The value is a blob of data, exactly stored as it was input.\\n\\n',\n",
              " '\\nQuestion 8. What Is Database Normalization And Why Is It Done?\\nAnswer :This is the process of organizing data in a database efficiently, and it is done to make sure that connections and dependencies between data make sense, and to get rid of redundant data.\\n',\n",
              " '\\nQuestion 9. What Do Constraints Do? What Are The Types Of Constraints?\\nAnswer :Constraints are used to prevent the database from losing internal and external integrity. The types are: check, not null, unique, primary key, and foreign key.\\n',\n",
              " '\\nQuestion 10. What Are Fact Tables?\\nAnswer :Tables which track the progress of a certain process or activity, the primary tables of databases.\\n',\n",
              " '\\nQuestion 11. Describe The Three Levels Of Data Abstraction?\\nAnswer :\\nPhysical level: The lowest level of abstraction describes how data are stored.\\nLogical level: The next higher level of abstraction, describes what data are stored in database and what relationship among those data.\\nView level: The highest level of abstraction describes only part of entire database.\\n\\n',\n",
              " '\\nQuestion 12. Explain What Is The Use Of Sqlite Group By Clause?\\nAnswer :The SQLITE group by clause is used in collaboration with the SELECT statement to arrange identical data into groups.\\n',\n",
              " '\\nQuestion 13. When Is The Update_statistics Command Used?\\nAnswer :\\nWhen the processing of large data is done, this command is used.\\nWhenever large number of deletions, modification or copy takes place into the tables, the indexes need to be updated to take care of these changes.\\xa0UPDATE_STATISTICS performs this job.\\n\\n',\n",
              " '\\nQuestion 14. Explain How Boolean Values In Sql Lite Are Stored?\\nAnswer :Boolean values in SQL lite are stored as integers 0 (false) and 1 (true). SQL Lite does not have a separate Boolean storage class.\\n',\n",
              " '\\nQuestion 15. Explain What Is Sql Lite?\\nAnswer :SQL LITE is a mostly ACID compliant relational database management system contained in a relatively small C programming library.\\n',\n",
              " '\\nQuestion 16. Give A Comment On Transaction?\\nAnswer :\\nUsing transactions we can group all SQL commands into a single unit.\\nThe transaction begins with some task and finishes only when all tasks within it are over.\\nThe transaction gets over successfully only when all commands in it are successfully over. Even if one command fails, the whole transaction fails.\\nThe BEGIN TRANSACTION, ROLLBACK TRANSACTION, and COMMIT TRANSACTION statements are used to work with transactions.\\nA group of tasks starts with the begin statement.\\nIn case of any problem, the rollback command is executed to abort the transaction.\\nIf all the tasks run successfully, all commands are executed through commit statement.\\n\\n',\n",
              " '\\nQuestion 17. List Out The Standard Sql Lite Commands?\\nAnswer :The standard SQL Lite commands interact with relational databases are similar to SQL. They are\\n\\nSELECT\\nCREATE\\nINSERT\\nUPDATE\\nDROP\\nDELETE\\n\\nBased on their operational nature these commands can be classified.\\n',\n",
              " '\\nQuestion 18. Define The \"integrity Rules\"?\\nAnswer :There are two Integrity rules.Entity Integrity: States that \"Primary key cannot have NULL value\".\\nReferential Integrity: States that \"Foreign Key can be either a NULL value or should be Primary Key value of other relation.\\n',\n",
              " '\\nQuestion 19. What Is Database?\\nAnswer :A database is a logically coherent collection of data with some inherent meaning, representing some aspect of real world and which is designed, built and populated with data for a specific purpose.\\n',\n",
              " '\\nQuestion 20. Segregate Database Technology’s Development?\\nAnswer :The development of database technology is divided into:\\n\\nStructure or data model\\nNavigational model\\nSQL/ relational model\\n\\n',\n",
              " '\\nQuestion 21. What Are The Features Of Database Language?\\nAnswer :A database language may also incorporate features like:\\n\\nDBMS-specific Configuration and management of storage engine.\\xa0\\nComputations to modification of query results by computations, like summing, counting, averaging, grouping, sorting and cross-referencing Constraint enforcement Application Programming Interface.\\n\\n',\n",
              " '\\nQuestion 22. What Do Database Languages Do?\\nAnswer :As special-purpose languages, they have:\\n\\nData definition language\\nData manipulation language\\nQuery language\\n\\n',\n",
              " '\\nQuestion 23. Define Database Model?\\nAnswer :A data model determining fundamentally how data can be stored, manipulated and organised and the structure of the database logically is called database model.\\n',\n",
              " '\\nQuestion 24. Enlist The Various Relationships Of Database?\\nAnswer :The various relationships of database are:\\n\\nOne-to-one: Single table having drawn relationship with another table having similar kind of columns.\\nOne-to-many: Two tables having primary and foreign key relation.\\nMany-to-many: Junction table having many tables related to many tables.\\n\\n',\n",
              " '\\nQuestion 25. Define Normalization?\\nAnswer :Organized data void of inconsistent dependency and redundancy within a database is called normalization.\\n',\n",
              " '\\nQuestion 26. Enlist The Advantages Of Normalizing Database?\\nAnswer :Advantages of normalizing database are:\\n\\nNo duplicate entries\\nSaves storage space\\nBoasts the query performances.\\n\\n',\n",
              " '\\nQuestion 27. Define De Normalization?\\nAnswer :Boosting up database performance, adding of redundant data which in turn helps rid of complex data is called denormalization.\\n',\n",
              " '\\nQuestion 28. Define Ddl And Dml?\\nAnswer :Managing properties and attributes of database is called Data Definition Language(DDL).Manipulating data in a database such as inserting, updating, deleting is defined as Data Manipulation Language. (DML)\\n',\n",
              " '\\nQuestion 29. Enlist Some Commands Of Ddl?\\nAnswer :CREATE: \\xa0Create is used in the CREATE TABLE statement. Syntax is:\\xa0\\xa0 \\xa0 CREATE TABLE [column name] ( [column definitions] ) [ table parameters]ALTER: \\xa0It helps in modification of an existing object of database. Syntax is:\\xa0ALTER objecttype objectname parameters.DROP:\\xa0It destroys an existing database, index, table or view. Syntax is:\\xa0DROP objecttype objectname.\\n',\n",
              " '\\nQuestion 30. Define Union All Operator And Union?\\nAnswer :Full recordings of two tables is Union All operator.A distinct recording of two tables is Union.\\n',\n",
              " '\\nQuestion 31. Define Cursor?\\nAnswer :A database object which helps in manipulating data row by row representing a result set is called cursor.\\n',\n",
              " '\\nQuestion 32. Enlist The Cursor Types?\\nAnswer :They are:Dynamic: it reflects changes while scrolling.Static: doesn’t reflect changes while scrolling and works on recording of snapshot.Keyset: data modification without reflection of new data is seen.\\n',\n",
              " '\\nQuestion 33. Define Sub-query?\\nAnswer :A query contained by a query is called Sub-query.\\n',\n",
              " '\\nQuestion 34. Why Is Group-clause Used?\\nAnswer :Group-clause uses aggregate values to be derived by collecting similar data.\\n',\n",
              " '\\nQuestion 35. Compare Non-clustered And Clustered Index?\\nAnswer :Both having B-tree structure, non-clustered index has data pointers enabling one table many non-clustered indexes while clustered index is distinct for every table.\\n',\n",
              " '\\nQuestion 36. Define Aggregate Functions?\\nAnswer :Functions which operate against a collection of values and returning single value is called aggregate functions.\\n',\n",
              " '\\nQuestion 37. Define Scalar Functions?\\nAnswer :Scalar function is depended on the argument given and returns sole value.\\n',\n",
              " '\\nQuestion 38. What Restrictions Can You Apply When You Are Creating Views?\\nAnswer :Restrictions that are applied are:\\n\\nOnly the current database can have views.\\nYou are not liable to change any computed value in any particular view.\\nIntegrity constants decide the functionality of INSERT and DELETE.\\nFull-text index definitions cannot be applied.\\nTemporary views cannot be created.\\nTemporary tables cannot contain views.\\nNo association with DEFAULT definitions.\\nTriggers such as INSTEAD OF is associated with views.\\n\\n',\n",
              " '\\nQuestion 39. Define “correlated Sub Queries”?\\nAnswer :A ‘correlated subquery’ is a sort of sub query but correlated subquery is reliant on another query for a value that is returned. In case of execution, the sub query is executed first and then the correlated query.\\n',\n",
              " '\\nQuestion 40. Define Data Warehousing?\\nAnswer :Storage and access of data from the central location in order to take some strategic decision is called Data Warehousing. Enterprise management is used for managing the information whose framework is known as Data Warehousing.\\n',\n",
              " '\\nQuestion 41. Define Join And Enlist Its Types?\\nAnswer :Joins help in explaining the relation between different tables. They also enable you to select data with relation to data in another table.\\nThe various types are:INNER JOINs: Blank rows are left in the middle while more than equal to two tables are joined.OUTER JOINs: Divided into Left Outer Join and Right Outer Join. Blank rows are left at the specified side by joining tables in other side.Other joins are CROSS JOINs, NATURAL JOINs, EQUI JOIN and NON-EQUI JOIN.\\n',\n",
              " '\\nQuestion 42. What Do You Mean By Index Hunting?\\nAnswer :Indexes help in improving the speed as well as the query performance of database. The procedure of boosting the collection of indexes is named as Index hunting.\\n',\n",
              " '\\nQuestion 43. How Does Index Hunting Help In Improving Query Performance?\\nAnswer :Index hunting helps in improving the speed as well as the query performance of database. The followed measures are achieved to do that:\\n\\nThe query optimizer is used to coordinate the study of queries with the workload and the best use of queries suggested based on this.\\nIndex, query distribution along with their performance is observed to check the effect.\\nTuning databases to a small collection of problem queries is also recommended.\\n\\n',\n",
              " '\\nQuestion 44. Enlist The Disadvantages Of Query?\\nAnswer :The disadvantages of query are:\\n\\nNo indexes\\nStored procedures are excessively compiled.\\nTriggers and procedures are without SET NOCOUNT ON.\\nComplicated joins making up inadequately written query.\\nCursors and temporary tables showcase a bad presentation.\\n\\n',\n",
              " '\\nQuestion 45. Enlist Ways To Efficiently Code Transactions?\\nAnswer :Ways to efficiently code transactions:\\n\\nUser input should not be allowed while transactions.\\nWhile browsing, transactions must not be opened of data.\\nTransactions must be kept as small as possible.\\nLower transaction segregation levels.\\nLeast information of data must be accessed while transacting.\\n\\n',\n",
              " '\\nQuestion 46. What Is Executive Plan?\\nAnswer :Executive plan can be defined as:\\n\\nSQL Server caches collected procedure or the plan of query execution and used thereafter by subsequent calls.\\nAn important feature in relation to performance enhancement.\\nData execution plan can be viewed textually or graphically.\\n\\n',\n",
              " '\\nQuestion 47. Define B-trees?\\nAnswer :A data structure in the form of tree which stores sorted data and searches, insertions, sequential access and deletions are allowed in logarithmic time.\\n',\n",
              " '\\nQuestion 48. Differentiate Table Scan From Index Scan?\\nAnswer :Iterating over all the table rows is called Table Scan while iterating over all the index items is defined as Index Scan.\\n',\n",
              " '\\nQuestion 49. What Do You Mean By Fill Factor Concept With Respect To Indexes?\\nAnswer :Fill Factor can be defined as being that value which defines the percentage of left space on every leaf-level page that is to be packed with data. 100 is the default value of Fill Factor.\\n',\n",
              " '\\nQuestion 50. Define Fragmentation?\\nAnswer :Fragmentation can be defined as a database feature of server that promotes control on data which is stored at table level by the user.\\n',\n",
              " '\\nQuestion 51. What Do You Mean By Query Evaluation Engine?\\nAnswer :Query Evaluation Engine executes the low-level instructions that are generated by the compiler.\\n',\n",
              " '\\nQuestion 52. Define Ddl Interpreter?\\nAnswer :DDL statements are interpreted and recorded in tables called metadata.\\n',\n",
              " '\\nQuestion 53. Define Database System?\\nAnswer :DBMS along with database is called Database system.\\n',\n",
              " '\\nQuestion 54. Explain The Importance Of Partitioning?\\nAnswer :Splitting of one table which is large into smaller database entities logically is called database partitioning. Its benefits are:\\n\\nTo improve query performance in situations dramatically when mostly rows which are heavily accessed are in one partition.\\nAccessing large parts of a single partition.\\nSlower and cheaper storage media can be used for data which is seldom used.\\n\\n',\n",
              " '\\nQuestion 55. What Is Database Partitioning?\\nAnswer :Division of logical database into independent complete units for improving its management, availability and performance is called Database partitioning.\\n',\n",
              " '\\nQuestion 56. Define Atomicity And Aggregation?\\nAnswer :Atomicity: It’s an all or none concept which enables the user to be assured of incomplete transactions to be taken care of. The actions involving incomplete transactions are left undone in DBMS.Aggregation: The collected entities and their relationship are aggregated in this model. It is mainly used in expressing relationships within relationships.\\n',\n",
              " '\\nQuestion 57. Enlist The Various Transaction Phases?\\nAnswer :The various transaction phases are:\\n\\nAnalysis Phase.\\nRedo Phase.\\nUndo Phase.\\n\\n',\n",
              " '\\nQuestion 58. Define Object-oriented Model?\\nAnswer :Compilations of objects make up this model in which values are stored within instance variables which is inside the object. The object itself comprises bodies of object for its operation which are called methods. Objects containing same kind of variables and methods are called classes.\\n',\n",
              " '\\nQuestion 59. Define Entity?\\nAnswer :It can be defined as being a ‘thing’ with an independent existence in the real world.\\n',\n",
              " '\\nQuestion 60. Define Entity Set ?\\nAnswer :Compilation of all entries of any particular type of entry in the database is called Entity Set.\\n']"
            ]
          },
          "metadata": {
            "tags": []
          },
          "execution_count": 10
        }
      ]
    },
    {
      "cell_type": "markdown",
      "metadata": {
        "id": "yuxEDAXIPrpn"
      },
      "source": [
        "### Organize the text into a list of questions and answers.\n",
        "\n",
        "The best way to do this is to use a regular expression to split the text wherever a question or an answer appears (they are labeled)."
      ]
    },
    {
      "cell_type": "code",
      "metadata": {
        "id": "t7bBDIVPPrpn",
        "colab": {
          "base_uri": "https://localhost:8080/"
        },
        "outputId": "57dbc379-bbee-42d2-bcb9-eb12506bceb0"
      },
      "source": [
        "question_list = [\r\n",
        "                 re.sub(' Question [0-9]+. ', '', \r\n",
        "                        q.replace('\\n', ' ').replace('  ', ' ').replace(' :', ':')).strip().split(' Answer:') for q in interview_question_list]\r\n",
        "question_list"
      ],
      "execution_count": 11,
      "outputs": [
        {
          "output_type": "execute_result",
          "data": {
            "text/plain": [
              "[['Explain What Is Sqlite Transactions?',\n",
              "  'The transaction is referred as a unit of work that is performed against a database. It is the propagation of one or more changes to the database. Properties of transactions are determined by ACID. Atomicity: It ensures that all work unit are successfully completed. Consistency: It ensures that the database changes states upon a successfully committed transaction. Isolation: It enables transactions to operate independently of and transparent to each other. Durability: It ensures that the result or effect of a committed transaction persists in case of a system failure.'],\n",
              " ['What Does Sql Stand For, And What Is It Used For?',\n",
              "  'SQL stands for structured query language, used with relational databases. It is used to query, update, and retrieve the contents of databases.'],\n",
              " ['List Out The Areas Where Sql Lite Works Well?',\n",
              "  'SQL lite works well with: Embedded devices and the internet of things. Application file format. Data Analysis. Websites. Cache for enterprise data. Server side database. File archives. Internal or temporary databases. Replacement for ad hoc disk files. Experimental SQL language extensions. Stand-in for an enterprise database during demos or testing.'],\n",
              " ['What Are Attributes?', 'An attribute is a column in a table.'],\n",
              " ['Differentiate Between A Having Clause And A Where Clause.',\n",
              "  'HAVING CLAUSE: HAVING CLAUSE is used only with the SELECT statement. It is generally used in a GROUP BY clause in a query. If GROUP BY is not used, HAVING works like a WHERE clause. WHERE Clause: It is applied to each row before they become a part of the GROUP BY function in a query.'],\n",
              " ['What Is Data Mining And How Can It Be Used?',\n",
              "  'Data mining refers to any procedure for collecting, analyzing, and summarizing the contents of a database. It can be used to judge the success of a business, marketing campaigns, and to forecast future trends.'],\n",
              " ['Mention What Are The Sql Lite Storage Classes?',\n",
              "  'SQL lite storage classes include: Null: The value is a NULL value. Integer: The value is a signed integer (1,2,3, etc.). Real: The value is a floating point value, stored as an 8 byte IEEE floating point number. Text: The value is a text string, stored using the database encoding ( UTF-8, UTF-16BE). BLOB (Binary Large Object): The value is a blob of data, exactly stored as it was input.'],\n",
              " ['What Is Database Normalization And Why Is It Done?',\n",
              "  'This is the process of organizing data in a database efficiently, and it is done to make sure that connections and dependencies between data make sense, and to get rid of redundant data.'],\n",
              " ['What Do Constraints Do? What Are The Types Of Constraints?',\n",
              "  'Constraints are used to prevent the database from losing internal and external integrity. The types are: check, not null, unique, primary key, and foreign key.'],\n",
              " ['What Are Fact Tables?',\n",
              "  'Tables which track the progress of a certain process or activity, the primary tables of databases.'],\n",
              " ['Describe The Three Levels Of Data Abstraction?',\n",
              "  ' Physical level: The lowest level of abstraction describes how data are stored. Logical level: The next higher level of abstraction, describes what data are stored in database and what relationship among those data. View level: The highest level of abstraction describes only part of entire database.'],\n",
              " ['Explain What Is The Use Of Sqlite Group By Clause?',\n",
              "  'The SQLITE group by clause is used in collaboration with the SELECT statement to arrange identical data into groups.'],\n",
              " ['When Is The Update_statistics Command Used?',\n",
              "  ' When the processing of large data is done, this command is used. Whenever large number of deletions, modification or copy takes place into the tables, the indexes need to be updated to take care of these changes.\\xa0UPDATE_STATISTICS performs this job.'],\n",
              " ['Explain How Boolean Values In Sql Lite Are Stored?',\n",
              "  'Boolean values in SQL lite are stored as integers 0 (false) and 1 (true). SQL Lite does not have a separate Boolean storage class.'],\n",
              " ['Explain What Is Sql Lite?',\n",
              "  'SQL LITE is a mostly ACID compliant relational database management system contained in a relatively small C programming library.'],\n",
              " ['Give A Comment On Transaction?',\n",
              "  ' Using transactions we can group all SQL commands into a single unit. The transaction begins with some task and finishes only when all tasks within it are over. The transaction gets over successfully only when all commands in it are successfully over. Even if one command fails, the whole transaction fails. The BEGIN TRANSACTION, ROLLBACK TRANSACTION, and COMMIT TRANSACTION statements are used to work with transactions. A group of tasks starts with the begin statement. In case of any problem, the rollback command is executed to abort the transaction. If all the tasks run successfully, all commands are executed through commit statement.'],\n",
              " ['List Out The Standard Sql Lite Commands?',\n",
              "  'The standard SQL Lite commands interact with relational databases are similar to SQL. They are SELECT CREATE INSERT UPDATE DROP DELETE Based on their operational nature these commands can be classified.'],\n",
              " ['Define The \"integrity Rules\"?',\n",
              "  'There are two Integrity rules.Entity Integrity: States that \"Primary key cannot have NULL value\". Referential Integrity: States that \"Foreign Key can be either a NULL value or should be Primary Key value of other relation.'],\n",
              " ['What Is Database?',\n",
              "  'A database is a logically coherent collection of data with some inherent meaning, representing some aspect of real world and which is designed, built and populated with data for a specific purpose.'],\n",
              " ['Segregate Database Technology’s Development?',\n",
              "  'The development of database technology is divided into: Structure or data model Navigational model SQL/ relational model'],\n",
              " ['What Are The Features Of Database Language?',\n",
              "  'A database language may also incorporate features like: DBMS-specific Configuration and management of storage engine.\\xa0 Computations to modification of query results by computations, like summing, counting, averaging, grouping, sorting and cross-referencing Constraint enforcement Application Programming Interface.'],\n",
              " ['What Do Database Languages Do?',\n",
              "  'As special-purpose languages, they have: Data definition language Data manipulation language Query language'],\n",
              " ['Define Database Model?',\n",
              "  'A data model determining fundamentally how data can be stored, manipulated and organised and the structure of the database logically is called database model.'],\n",
              " ['Enlist The Various Relationships Of Database?',\n",
              "  'The various relationships of database are: One-to-one: Single table having drawn relationship with another table having similar kind of columns. One-to-many: Two tables having primary and foreign key relation. Many-to-many: Junction table having many tables related to many tables.'],\n",
              " ['Define Normalization?',\n",
              "  'Organized data void of inconsistent dependency and redundancy within a database is called normalization.'],\n",
              " ['Enlist The Advantages Of Normalizing Database?',\n",
              "  'Advantages of normalizing database are: No duplicate entries Saves storage space Boasts the query performances.'],\n",
              " ['Define De Normalization?',\n",
              "  'Boosting up database performance, adding of redundant data which in turn helps rid of complex data is called denormalization.'],\n",
              " ['Define Ddl And Dml?',\n",
              "  'Managing properties and attributes of database is called Data Definition Language(DDL).Manipulating data in a database such as inserting, updating, deleting is defined as Data Manipulation Language. (DML)'],\n",
              " ['Enlist Some Commands Of Ddl?',\n",
              "  'CREATE: \\xa0Create is used in the CREATE TABLE statement. Syntax is:\\xa0\\xa0 \\xa0 CREATE TABLE [column name] ( [column definitions] ) [ table parameters]ALTER: \\xa0It helps in modification of an existing object of database. Syntax is:\\xa0ALTER objecttype objectname parameters.DROP:\\xa0It destroys an existing database, index, table or view. Syntax is:\\xa0DROP objecttype objectname.'],\n",
              " ['Define Union All Operator And Union?',\n",
              "  'Full recordings of two tables is Union All operator.A distinct recording of two tables is Union.'],\n",
              " ['Define Cursor?',\n",
              "  'A database object which helps in manipulating data row by row representing a result set is called cursor.'],\n",
              " ['Enlist The Cursor Types?',\n",
              "  'They are:Dynamic: it reflects changes while scrolling.Static: doesn’t reflect changes while scrolling and works on recording of snapshot.Keyset: data modification without reflection of new data is seen.'],\n",
              " ['Define Sub-query?', 'A query contained by a query is called Sub-query.'],\n",
              " ['Why Is Group-clause Used?',\n",
              "  'Group-clause uses aggregate values to be derived by collecting similar data.'],\n",
              " ['Compare Non-clustered And Clustered Index?',\n",
              "  'Both having B-tree structure, non-clustered index has data pointers enabling one table many non-clustered indexes while clustered index is distinct for every table.'],\n",
              " ['Define Aggregate Functions?',\n",
              "  'Functions which operate against a collection of values and returning single value is called aggregate functions.'],\n",
              " ['Define Scalar Functions?',\n",
              "  'Scalar function is depended on the argument given and returns sole value.'],\n",
              " ['What Restrictions Can You Apply When You Are Creating Views?',\n",
              "  'Restrictions that are applied are: Only the current database can have views. You are not liable to change any computed value in any particular view. Integrity constants decide the functionality of INSERT and DELETE. Full-text index definitions cannot be applied. Temporary views cannot be created. Temporary tables cannot contain views. No association with DEFAULT definitions. Triggers such as INSTEAD OF is associated with views.'],\n",
              " ['Define “correlated Sub Queries”?',\n",
              "  'A ‘correlated subquery’ is a sort of sub query but correlated subquery is reliant on another query for a value that is returned. In case of execution, the sub query is executed first and then the correlated query.'],\n",
              " ['Define Data Warehousing?',\n",
              "  'Storage and access of data from the central location in order to take some strategic decision is called Data Warehousing. Enterprise management is used for managing the information whose framework is known as Data Warehousing.'],\n",
              " ['Define Join And Enlist Its Types?',\n",
              "  'Joins help in explaining the relation between different tables. They also enable you to select data with relation to data in another table. The various types are:INNER JOINs: Blank rows are left in the middle while more than equal to two tables are joined.OUTER JOINs: Divided into Left Outer Join and Right Outer Join. Blank rows are left at the specified side by joining tables in other side.Other joins are CROSS JOINs, NATURAL JOINs, EQUI JOIN and NON-EQUI JOIN.'],\n",
              " ['What Do You Mean By Index Hunting?',\n",
              "  'Indexes help in improving the speed as well as the query performance of database. The procedure of boosting the collection of indexes is named as Index hunting.'],\n",
              " ['How Does Index Hunting Help In Improving Query Performance?',\n",
              "  'Index hunting helps in improving the speed as well as the query performance of database. The followed measures are achieved to do that: The query optimizer is used to coordinate the study of queries with the workload and the best use of queries suggested based on this. Index, query distribution along with their performance is observed to check the effect. Tuning databases to a small collection of problem queries is also recommended.'],\n",
              " ['Enlist The Disadvantages Of Query?',\n",
              "  'The disadvantages of query are: No indexes Stored procedures are excessively compiled. Triggers and procedures are without SET NOCOUNT ON. Complicated joins making up inadequately written query. Cursors and temporary tables showcase a bad presentation.'],\n",
              " ['Enlist Ways To Efficiently Code Transactions?',\n",
              "  'Ways to efficiently code transactions: User input should not be allowed while transactions. While browsing, transactions must not be opened of data. Transactions must be kept as small as possible. Lower transaction segregation levels. Least information of data must be accessed while transacting.'],\n",
              " ['What Is Executive Plan?',\n",
              "  'Executive plan can be defined as: SQL Server caches collected procedure or the plan of query execution and used thereafter by subsequent calls. An important feature in relation to performance enhancement. Data execution plan can be viewed textually or graphically.'],\n",
              " ['Define B-trees?',\n",
              "  'A data structure in the form of tree which stores sorted data and searches, insertions, sequential access and deletions are allowed in logarithmic time.'],\n",
              " ['Differentiate Table Scan From Index Scan?',\n",
              "  'Iterating over all the table rows is called Table Scan while iterating over all the index items is defined as Index Scan.'],\n",
              " ['What Do You Mean By Fill Factor Concept With Respect To Indexes?',\n",
              "  'Fill Factor can be defined as being that value which defines the percentage of left space on every leaf-level page that is to be packed with data. 100 is the default value of Fill Factor.'],\n",
              " ['Define Fragmentation?',\n",
              "  'Fragmentation can be defined as a database feature of server that promotes control on data which is stored at table level by the user.'],\n",
              " ['What Do You Mean By Query Evaluation Engine?',\n",
              "  'Query Evaluation Engine executes the low-level instructions that are generated by the compiler.'],\n",
              " ['Define Ddl Interpreter?',\n",
              "  'DDL statements are interpreted and recorded in tables called metadata.'],\n",
              " ['Define Database System?',\n",
              "  'DBMS along with database is called Database system.'],\n",
              " ['Explain The Importance Of Partitioning?',\n",
              "  'Splitting of one table which is large into smaller database entities logically is called database partitioning. Its benefits are: To improve query performance in situations dramatically when mostly rows which are heavily accessed are in one partition. Accessing large parts of a single partition. Slower and cheaper storage media can be used for data which is seldom used.'],\n",
              " ['What Is Database Partitioning?',\n",
              "  'Division of logical database into independent complete units for improving its management, availability and performance is called Database partitioning.'],\n",
              " ['Define Atomicity And Aggregation?',\n",
              "  'Atomicity: It’s an all or none concept which enables the user to be assured of incomplete transactions to be taken care of. The actions involving incomplete transactions are left undone in DBMS.Aggregation: The collected entities and their relationship are aggregated in this model. It is mainly used in expressing relationships within relationships.'],\n",
              " ['Enlist The Various Transaction Phases?',\n",
              "  'The various transaction phases are: Analysis Phase. Redo Phase. Undo Phase.'],\n",
              " ['Define Object-oriented Model?',\n",
              "  'Compilations of objects make up this model in which values are stored within instance variables which is inside the object. The object itself comprises bodies of object for its operation which are called methods. Objects containing same kind of variables and methods are called classes.'],\n",
              " ['Define Entity?',\n",
              "  'It can be defined as being a ‘thing’ with an independent existence in the real world.'],\n",
              " ['Define Entity Set ?',\n",
              "  'Compilation of all entries of any particular type of entry in the database is called Entity Set.']]"
            ]
          },
          "metadata": {
            "tags": []
          },
          "execution_count": 11
        }
      ]
    },
    {
      "cell_type": "markdown",
      "metadata": {
        "id": "1UHdgjt1Prpp"
      },
      "source": [
        "### Train a Chatterbot chatbot on the list of questions and answers."
      ]
    },
    {
      "cell_type": "code",
      "metadata": {
        "id": "q9ELJw67Prpp"
      },
      "source": [
        "chatbot = ChatBot('SQL Expert')\r\n",
        "chatbot.storage.drop()\r\n",
        "\r\n",
        "trainer = ListTrainer(chatbot, show_training_progress=False)\r\n",
        "for question in question_list:\r\n",
        "  trainer.train(question)"
      ],
      "execution_count": 13,
      "outputs": []
    },
    {
      "cell_type": "markdown",
      "metadata": {
        "id": "IFwtqnM5Prpr"
      },
      "source": [
        "### Write the user interface logic that allows a user to ask the chatbot questions about databases and have the chatbot return an answer. \n",
        "\n",
        "Include logic that checks to see if the answer returned is going to be a question and if so, return the next element in the list after that question."
      ]
    },
    {
      "cell_type": "code",
      "metadata": {
        "id": "DuujcjQjPrps",
        "colab": {
          "base_uri": "https://localhost:8080/"
        },
        "outputId": "b607d787-f425-4a94-9c8e-1aa0d657a581"
      },
      "source": [
        "print('Hi, I am the SQL Expert. I am a bot trained on SQL interview questions.\\n')\r\n",
        "print('By the way, if you want to end the conversation at any time, just type EXIT.')\r\n",
        "\r\n",
        "while True:\r\n",
        "  user_input = input(\"User: \")\r\n",
        "  if user_input.lower() == 'exit':\r\n",
        "    print(\"Bye! It was a pleasure speaking with you.) \")\r\n",
        "    user_input = ''\r\n",
        "    break\r\n",
        "  else:\r\n",
        "    print(chatbot.get_response(user_input))"
      ],
      "execution_count": 18,
      "outputs": [
        {
          "output_type": "stream",
          "text": [
            "Hi, I am the SQL Expert. I am a bot trained on SQL interview questions.\n",
            "\n",
            "By the way, if you want to end the conversation at any time, just type EXIT.\n",
            "User: Define Entity Set ?\n",
            "Compilation of all entries of any particular type of entry in the database is called Entity Set.\n",
            "User: Define Entity?\n",
            "It can be defined as being a ‘thing’ with an independent existence in the real world.\n",
            "User: Define Object-oriented Model?\n",
            "Compilations of objects make up this model in which values are stored within instance variables which is inside the object. The object itself comprises bodies of object for its operation which are called methods. Objects containing same kind of variables and methods are called classes.\n",
            "User: exit\n",
            "Bye! It was a pleasure speaking with you.) \n"
          ],
          "name": "stdout"
        }
      ]
    },
    {
      "cell_type": "code",
      "metadata": {
        "id": "HFtVQn7A07dW"
      },
      "source": [
        ""
      ],
      "execution_count": null,
      "outputs": []
    }
  ]
}