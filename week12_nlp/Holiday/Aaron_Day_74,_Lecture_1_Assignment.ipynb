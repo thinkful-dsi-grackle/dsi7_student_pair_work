{
 "cells": [
  {
   "cell_type": "markdown",
   "metadata": {
    "id": "F4I54bZzMImI"
   },
   "source": [
    "# Machine Learning: Text Classification Assignment"
   ]
  },
  {
   "cell_type": "code",
   "execution_count": 1,
   "metadata": {
    "id": "NBhHdzKtMImK"
   },
   "outputs": [],
   "source": [
    "from nltk import word_tokenize\n",
    "from nltk.corpus import stopwords\n",
    "from sklearn.pipeline import Pipeline\n",
    "from nltk.stem.snowball import SnowballStemmer\n",
    "from nltk.stem.wordnet import WordNetLemmatizer\n",
    "from sklearn.metrics import classification_report\n",
    "from sklearn.model_selection import cross_val_score\n",
    "from sklearn.ensemble import RandomForestClassifier\n",
    "from sklearn.feature_extraction.text import CountVectorizer\n",
    "from sklearn.feature_extraction.text import TfidfTransformer\n",
    "from sklearn.model_selection import train_test_split as tts\n",
    "from nltk.corpus.reader.plaintext import CategorizedPlaintextCorpusReader"
   ]
  },
  {
   "cell_type": "markdown",
   "metadata": {
    "id": "d2tVDJJaMImN"
   },
   "source": [
    "### Use the CategorizedPlaintextCorpusReader to import the AP_News corpus."
   ]
  },
  {
   "cell_type": "code",
   "execution_count": 2,
   "metadata": {
    "id": "REtoZb_iMImO"
   },
   "outputs": [
    {
     "data": {
      "text/plain": [
       "['health/http-apnews-com-03bc406312384416843138b2b23dec14.txt',\n",
       " 'health/http-apnews-com-063eecb9a73e43b5a47f24d5d072de89.txt',\n",
       " 'health/http-apnews-com-07145c801cc64b9c9fde6150af0e79db.txt',\n",
       " 'health/http-apnews-com-08e5c195bf04471e9c4a127abe831d91.txt',\n",
       " 'health/http-apnews-com-0dc745e5b66a47328b0be32f3cc9b1a2.txt',\n",
       " 'health/http-apnews-com-145566f8c16a4d26ac36a317bbd3a02d.txt',\n",
       " 'health/http-apnews-com-17d84e14096b4647828bf07cea2f6656.txt',\n",
       " 'health/http-apnews-com-1a65f77ea55c4576ab9a981ae7c65ec5.txt',\n",
       " 'health/http-apnews-com-1e96d18f8caa454e99d3f489865f8ff7.txt',\n",
       " 'health/http-apnews-com-262de117d42947649c1a1caa6f4f70e7.txt',\n",
       " 'health/http-apnews-com-3556845f3ab74186a26ec6d10739f9ca.txt',\n",
       " 'health/http-apnews-com-386cc4805cfc49098181d525c113b65b.txt',\n",
       " 'health/http-apnews-com-3bde9035af4044d082859ab587cfba0b.txt',\n",
       " 'health/http-apnews-com-48e4b58e0a2e401cb52c5b600255657b.txt',\n",
       " 'health/http-apnews-com-49877aba863e4f5199d0a22d68966bcc.txt',\n",
       " 'health/http-apnews-com-5276e79e3d8f4ee2af233ee79ab69b36.txt',\n",
       " 'health/http-apnews-com-57a36643491340e78596f8ddd572c1b8.txt',\n",
       " 'health/http-apnews-com-65e155ea2d2d40c0b0e928c25197d4bf.txt',\n",
       " 'health/http-apnews-com-69e0d51a77d648eeac2b0cfef23670c0.txt',\n",
       " 'health/http-apnews-com-6bc0da4d438f4454a69abd1ca2372c27.txt',\n",
       " 'health/http-apnews-com-6da0dc3389334ef38177567e12b3170a.txt',\n",
       " 'health/http-apnews-com-7d8b0e32efd0480fbd12acf27729f6a5.txt',\n",
       " 'health/http-apnews-com-85bd5d41b60f43afa1bb042157a3b4f5.txt',\n",
       " 'health/http-apnews-com-86854da03e8145379a61a89cfc4728e0.txt',\n",
       " 'health/http-apnews-com-8802d022fb8c4c6c8c9825375e3e8ca3.txt',\n",
       " 'health/http-apnews-com-8adcafa33fb743a0ae4aa53b42cd8607.txt',\n",
       " 'health/http-apnews-com-8fe4f4ccabc3461a9586cd171b699a0d.txt',\n",
       " 'health/http-apnews-com-94cfda004010498aa5e86dbfcb27737e.txt',\n",
       " 'health/http-apnews-com-97cb892051044d1d89acde0cc260f3dd.txt',\n",
       " 'health/http-apnews-com-9e413107f7d04342abeffe689f0748ae.txt',\n",
       " 'health/http-apnews-com-a3eee0aa79154b76a3f68d76918ea8b9.txt',\n",
       " 'health/http-apnews-com-ac4bfc8a256843cd87ce08ec8e43e624.txt',\n",
       " 'health/http-apnews-com-ad5de43abf93452780dbca76be935b80.txt',\n",
       " 'health/http-apnews-com-b0cbbb745a9a2dd7883539d238bab8b4.txt',\n",
       " 'health/http-apnews-com-b1728f3c859345b4adce7a3aa274a276.txt',\n",
       " 'health/http-apnews-com-bb510242893c4e37800f0020285fab84.txt',\n",
       " 'health/http-apnews-com-business-wire-3460ae7ed16a40f48717304529135cea.txt',\n",
       " 'health/http-apnews-com-business-wire-9cc6adeb00b745968406481ffdc98f0f.txt',\n",
       " 'health/http-apnews-com-business-wire-9e1f3e116eab4180a45b51ddb91e0b56.txt',\n",
       " 'health/http-apnews-com-c1fd24417902440fb176cc59a3060044.txt',\n",
       " 'health/http-apnews-com-c6979f38fd2943288ef436bedf808135.txt',\n",
       " 'health/http-apnews-com-d0e3fd5f84a04b54a7ca4f335f2b36b4.txt',\n",
       " 'health/http-apnews-com-d16f9c7859964ecebcb13308b4b5ac59.txt',\n",
       " 'health/http-apnews-com-d319d566c1a94228b16e3f0cfb29ee5b.txt',\n",
       " 'health/http-apnews-com-d64be73398c443089b0421e8f29da419.txt',\n",
       " 'health/http-apnews-com-d828171a6c194e4b8a473c85165c7d83.txt',\n",
       " 'health/http-apnews-com-dfb83eff04f14207892ef177a09d50c8.txt',\n",
       " 'health/http-apnews-com-e3007c4c1b2e4772a9bb1a26ade5d9c8.txt',\n",
       " 'health/http-apnews-com-e7859cfd44f145f18463568a5891e6b6.txt',\n",
       " 'health/http-apnews-com-ea2364cc5d474179954d7ac8ee014e98.txt',\n",
       " 'health/http-apnews-com-f5e9285af5f64e56981e416349057c04.txt',\n",
       " 'health/http-apnews-com-globe-newswire-392ea2b5b6882588bb2cc783523c0f8e.txt',\n",
       " 'health/http-apnews-com-pr-newswire-1542c6ae7659308acecf9b28040c7158.txt',\n",
       " 'politics/http-apnews-com-025dc5573fdb4952a4ebdcc3212fa560.txt',\n",
       " 'politics/http-apnews-com-08e5c195bf04471e9c4a127abe831d91.txt',\n",
       " 'politics/http-apnews-com-0b55116cc42c4a80b3a34b5080e98e40.txt',\n",
       " 'politics/http-apnews-com-0b647a3a0a504e1eb3658fb38256bf27.txt',\n",
       " 'politics/http-apnews-com-0cccc16fffb04ce780cf48316bda515a.txt',\n",
       " 'politics/http-apnews-com-0f9858ee5d3540e3aa1faabf54bd38b0.txt',\n",
       " 'politics/http-apnews-com-1dab33b802e143aab3031ce27e3848ea.txt',\n",
       " 'politics/http-apnews-com-208f9fc545a140e988159378a443befb.txt',\n",
       " 'politics/http-apnews-com-2148f2182aa64d8c8102967d653b0ba0.txt',\n",
       " 'politics/http-apnews-com-262de117d42947649c1a1caa6f4f70e7.txt',\n",
       " 'politics/http-apnews-com-294eaa6119f546d98c57a5759566e1c3.txt',\n",
       " 'politics/http-apnews-com-2f287d1e45a04306a7ef4a00d10bf4e4.txt',\n",
       " 'politics/http-apnews-com-307c51d12cee4dedb7c793ce79de95b7.txt',\n",
       " 'politics/http-apnews-com-389aab75b0b8419eaa95fafae207a4a9.txt',\n",
       " 'politics/http-apnews-com-3a7b3d36188343f2b8108a01b40bfeb2.txt',\n",
       " 'politics/http-apnews-com-465dc909d10c46f0a3739088924767e5.txt',\n",
       " 'politics/http-apnews-com-47fc3e167cd64488b16890c8973bb208.txt',\n",
       " 'politics/http-apnews-com-4e96e765b00440dd837f732e2934dd19.txt',\n",
       " 'politics/http-apnews-com-50d19e7d161f445e8ca8f6ae56b0f9d7.txt',\n",
       " 'politics/http-apnews-com-520c1b25efbd49598631e390656e40ff.txt',\n",
       " 'politics/http-apnews-com-5378465b54754da0ab1183bbd8953634.txt',\n",
       " 'politics/http-apnews-com-583b5e7ecfc84b61b470b5e8e3c4bcab.txt',\n",
       " 'politics/http-apnews-com-59ece692dd804865bac9df546549ab70.txt',\n",
       " 'politics/http-apnews-com-5f6402792fdf41499f49bac18a9e1a37.txt',\n",
       " 'politics/http-apnews-com-6324a8f7f34e42788aa9c93f3f0e8fc3.txt',\n",
       " 'politics/http-apnews-com-63471e1527b346ad836b8f09a38f3d22.txt',\n",
       " 'politics/http-apnews-com-6e85ab0a7ae64fa9bf5a37c182054cdf.txt',\n",
       " 'politics/http-apnews-com-7902f59c504d427ca89a9bd3484a207d.txt',\n",
       " 'politics/http-apnews-com-7cc4acc7110148de9f821c75f5f266f9.txt',\n",
       " 'politics/http-apnews-com-7dcdc206545f4341ba22afdc54e643ca.txt',\n",
       " 'politics/http-apnews-com-891cbc3964f24f5fb0bb9f7dcfd60f00.txt',\n",
       " 'politics/http-apnews-com-8bbb0cbe763a407db4a9b5d563dc56ca.txt',\n",
       " 'politics/http-apnews-com-8d45962962ad4aa490446a3dafea7eef.txt',\n",
       " 'politics/http-apnews-com-a0df2fa633064978a082a8ad0193c131.txt',\n",
       " 'politics/http-apnews-com-a1ef16a612bd4130a18479c01bd72586.txt',\n",
       " 'politics/http-apnews-com-b8626bd065a6451b9bba2866600321d2.txt',\n",
       " 'politics/http-apnews-com-business-wire-77877009483f44ecb524e52a8668cbeb.txt',\n",
       " 'politics/http-apnews-com-business-wire-78ca838e1a564c578e1122f0cac5c775.txt',\n",
       " 'politics/http-apnews-com-business-wire-b5df8f25f5054615ae1f3227030631c0.txt',\n",
       " 'politics/http-apnews-com-business-wire-ba0924fb6b6f4b63af543ed760edab22.txt',\n",
       " 'politics/http-apnews-com-business-wire-cc02a62e74844471931e1eab5aefa9ae.txt',\n",
       " 'politics/http-apnews-com-c12efe65363d4715b1c35ec4f4f19b3e.txt',\n",
       " 'politics/http-apnews-com-c793142f034540b9aa16cca6bedeeb1a.txt',\n",
       " 'politics/http-apnews-com-cbea3b2d01554933bf220aa06e78819c.txt',\n",
       " 'politics/http-apnews-com-cc22e243519e40b49882a52939abfc0a.txt',\n",
       " 'politics/http-apnews-com-d0c4b05e54a447059dd6be686a02fa5a.txt',\n",
       " 'politics/http-apnews-com-d2c2ea5bcee64a08a52dc06bb4da4337.txt',\n",
       " 'politics/http-apnews-com-d5c5b6f02c214daf8525f2b9b544fdf7.txt',\n",
       " 'politics/http-apnews-com-dfb83eff04f14207892ef177a09d50c8.txt',\n",
       " 'politics/http-apnews-com-e5a1e70314eb44219448eeb850c65f1e.txt',\n",
       " 'politics/http-apnews-com-effb7b53dac54c12ba852ef8e5633691.txt',\n",
       " 'politics/http-apnews-com-f836decb6f2444fcb897df27279aa345.txt',\n",
       " 'politics/http-apnews-com-f8d792206b364099af2fbd4cc1b3637f.txt',\n",
       " 'politics/http-apnews-com-f9f15670579b428d9b4dcdd80275b17f.txt',\n",
       " 'politics/http-apnews-com-fa25ecd5399b45529ece8f77ff71cfcd.txt',\n",
       " 'politics/http-apnews-com-facec3c65a5c49beb677e87336ba6b25.txt',\n",
       " 'politics/http-apnews-com-faeb0397465948cea256367867c7efb1.txt',\n",
       " 'politics/http-apnews-com-fc6191e0695044618483e706a5da8fee.txt',\n",
       " 'sports/http-apnews-com-006d1f6d77bb49a9986e0289a7f0f6f7.txt',\n",
       " 'sports/http-apnews-com-0a62069e9dab4703ac14e3f4782354a7.txt',\n",
       " 'sports/http-apnews-com-0d9fef1a37404068a918c4cdc9db20c6.txt',\n",
       " 'sports/http-apnews-com-0febc6c8bb604bf9abcbc4870889b54a.txt',\n",
       " 'sports/http-apnews-com-23d88bdfbb624bf48f4d8dda07dd8e27.txt',\n",
       " 'sports/http-apnews-com-2c45a19de43f469f9addc8bf8f686341.txt',\n",
       " 'sports/http-apnews-com-3798b83947364bb28186b5d88088920b.txt',\n",
       " 'sports/http-apnews-com-381cefa0900f477d85ef4ac7fee1e915.txt',\n",
       " 'sports/http-apnews-com-3c74176174514c8886ec470b5aee2323.txt',\n",
       " 'sports/http-apnews-com-407e4b3832e840558da0f0b965c5f5f1.txt',\n",
       " 'sports/http-apnews-com-42ba2537ac33428f8ff00bfa9ff1c7e3.txt',\n",
       " 'sports/http-apnews-com-4d69bd0932b64b2aa8189afeaa7718af.txt',\n",
       " 'sports/http-apnews-com-54654147e5f24f9f8414797ecce11211.txt',\n",
       " 'sports/http-apnews-com-5635131d47aa499da5f80ee232a2d6c6.txt',\n",
       " 'sports/http-apnews-com-5680b38f81024e838afbf02e9cc3fbac.txt',\n",
       " 'sports/http-apnews-com-5b39116d67e044dfade52d96ee371203.txt',\n",
       " 'sports/http-apnews-com-6c3235c0196748e597d9dbc72c51a63e.txt',\n",
       " 'sports/http-apnews-com-73cf6870748649e3b98f6ab3dc5ec054.txt',\n",
       " 'sports/http-apnews-com-75a2189f7c64483d982226a8d669279a.txt',\n",
       " 'sports/http-apnews-com-7fd076d6d2bf4eb4a83d9e0ab0b19201.txt',\n",
       " 'sports/http-apnews-com-81f0b200fb8c432b92e3b2976d979c98.txt',\n",
       " 'sports/http-apnews-com-84986f358f8b4dfcaf2b4142be3d7441.txt',\n",
       " 'sports/http-apnews-com-87bf3f4e6ea34133931b290479c0d279.txt',\n",
       " 'sports/http-apnews-com-8b21fb9c92fe4477be0848a2edfa1221.txt',\n",
       " 'sports/http-apnews-com-903ff740db204b889f55d586eeae682b.txt',\n",
       " 'sports/http-apnews-com-957e6b3558d34e68bdbd917ae6e13999.txt',\n",
       " 'sports/http-apnews-com-9e4b972b9f5d49f9b8ba542e31f7eac8.txt',\n",
       " 'sports/http-apnews-com-9f0e273efc3d4107b5b141d71b62de54.txt',\n",
       " 'sports/http-apnews-com-a03d5f827c2443168de733d23a115736.txt',\n",
       " 'sports/http-apnews-com-a0fcc4831f954b9aa2e23780a5d9c77e.txt',\n",
       " 'sports/http-apnews-com-a4f8500f23ec4e5e80c4495538eab5d0.txt',\n",
       " 'sports/http-apnews-com-a6ce28b7d98246fd8071f34d71002fe0.txt',\n",
       " 'sports/http-apnews-com-a97b2a862b0947a7ac58007762a156ab.txt',\n",
       " 'sports/http-apnews-com-b488f0481471492e88e08b6ed8bf0b5c.txt',\n",
       " 'sports/http-apnews-com-b50886f0449f4e829c2bb251a3f6adca.txt',\n",
       " 'sports/http-apnews-com-b5884c9aef104e8a87d05529ef4ab696.txt',\n",
       " 'sports/http-apnews-com-b92b321002444f73a4e199824d6c063b.txt',\n",
       " 'sports/http-apnews-com-bff7bf353ac74785bed3d3a912459c20.txt',\n",
       " 'sports/http-apnews-com-business-wire-e54d0a1c32aa4400aaa6faf76212e048.txt',\n",
       " 'sports/http-apnews-com-c518d59a1a614cdc869a1057deab04b2.txt',\n",
       " 'sports/http-apnews-com-c98f82138d334d408b54847cec78461e.txt',\n",
       " 'sports/http-apnews-com-d2695bcf8b9c4e81b50554f4815d77a0.txt',\n",
       " 'sports/http-apnews-com-d6c4d0edad90410090c741276a333dae.txt',\n",
       " 'sports/http-apnews-com-d728ac6f6e07494583f67bf3a3918711.txt',\n",
       " 'sports/http-apnews-com-d784a8c9cf07489c9dfaddb218fdb758.txt',\n",
       " 'sports/http-apnews-com-d8d691e2eef240a1b40db36fff946257.txt',\n",
       " 'sports/http-apnews-com-daa0529657ca4b0b86496fc3e93bf26e.txt',\n",
       " 'sports/http-apnews-com-db3ddfafc4a94f2aa7aad9ab75f7422a.txt',\n",
       " 'sports/http-apnews-com-e6cfeee39e754402b97286cf48b9eec2.txt',\n",
       " 'sports/http-apnews-com-wired-release-075c06362ac1fa835ebd202109ea7bf6.txt',\n",
       " 'sports/http-apnews-com-wired-release-1207e5d8c0d05cd23ae780a7be250d79.txt',\n",
       " 'sports/http-apnews-com-wired-release-3472dd3169a9c062ad5a36800a8a1e60.txt',\n",
       " 'sports/http-apnews-com-wired-release-c64a0dad19cbb31f0d1e4b4d756c28a2.txt',\n",
       " 'tech/http-apnews-com-06bf47b8f3094a32868671f52bcf0552.txt',\n",
       " 'tech/http-apnews-com-0fb6ab896fa242c3a47b6bee5bec5009.txt',\n",
       " 'tech/http-apnews-com-155afc259a1747bcab8a25bae5d25245.txt',\n",
       " 'tech/http-apnews-com-18de2f478923410380f9c2cf687f6c53.txt',\n",
       " 'tech/http-apnews-com-1932edb27999428a83352e63f2dae7ae.txt',\n",
       " 'tech/http-apnews-com-1f46a21c16784ac0aa8af8be2b00c11c.txt',\n",
       " 'tech/http-apnews-com-2663afa8c01f4d5b9f49358369079a9a.txt',\n",
       " 'tech/http-apnews-com-26ed304f77b1421c8633adc8f3f34081.txt',\n",
       " 'tech/http-apnews-com-292707142b7e40a3849f30e3d422ade9.txt',\n",
       " 'tech/http-apnews-com-332fefb4ea7b4f81bb8b043cad58ca33.txt',\n",
       " 'tech/http-apnews-com-37812aba4d1645bca8039ad3b96bf8c5.txt',\n",
       " 'tech/http-apnews-com-3b924e77014d4dff9a24143f59775063.txt',\n",
       " 'tech/http-apnews-com-49877aba863e4f5199d0a22d68966bcc.txt',\n",
       " 'tech/http-apnews-com-4a7a950e1e7a41f4b6321149ea1d8f7b.txt',\n",
       " 'tech/http-apnews-com-5266bd0d7bb543e0a7519d560a8db76d.txt',\n",
       " 'tech/http-apnews-com-561189f25e874db3a00b6fb8932d16de.txt',\n",
       " 'tech/http-apnews-com-57a4bd0719a1481ab234a01be45c42cc.txt',\n",
       " 'tech/http-apnews-com-619eceed38544486b1cdba2322ec72e2.txt',\n",
       " 'tech/http-apnews-com-6b57e86d91034b8c80a3c634a23bcfd8.txt',\n",
       " 'tech/http-apnews-com-6d007bd571024031a327cec509242037.txt',\n",
       " 'tech/http-apnews-com-7380c7d8a66443618223c5e86132cfae.txt',\n",
       " 'tech/http-apnews-com-7514bc1dbac942fc978e8df1abaaf2c2.txt',\n",
       " 'tech/http-apnews-com-7d837b2c47bce39bdd09101dd45c18e0.txt',\n",
       " 'tech/http-apnews-com-81662b63813f4850b1259871e488b5a6.txt',\n",
       " 'tech/http-apnews-com-93cf60f4b1e74c1484407e17ba9c6346.txt',\n",
       " 'tech/http-apnews-com-a1ef16a612bd4130a18479c01bd72586.txt',\n",
       " 'tech/http-apnews-com-a73e77a2df5b497d8f2ef45bfb222dca.txt',\n",
       " 'tech/http-apnews-com-a89ef0288c834d0e9b38e6e0a9446c1c.txt',\n",
       " 'tech/http-apnews-com-a8cbcc8a69d54361a6486b81fdc4d93d.txt',\n",
       " 'tech/http-apnews-com-ac4bfc8a256843cd87ce08ec8e43e624.txt',\n",
       " 'tech/http-apnews-com-adbef9e66f3d4911b7486f84a090d292.txt',\n",
       " 'tech/http-apnews-com-b1728f3c859345b4adce7a3aa274a276.txt',\n",
       " 'tech/http-apnews-com-b47a4df9a82c4c8c95910acd30f5e47e.txt',\n",
       " 'tech/http-apnews-com-b5fc2eed8a80400794065d9ae4b23b12.txt',\n",
       " 'tech/http-apnews-com-b8d5854d4bea4b0ba803facf7803621c.txt',\n",
       " 'tech/http-apnews-com-bf0e61feef4f4c69af35092a7a12650c.txt',\n",
       " 'tech/http-apnews-com-business-wire-bb0d312d379d47c8a3435ca508146b58.txt',\n",
       " 'tech/http-apnews-com-cdbb52994f994722a5e7389ac9a93276.txt',\n",
       " 'tech/http-apnews-com-cff1a53e4c8942b1916d94f9ded1a015.txt',\n",
       " 'tech/http-apnews-com-d4e56f3122684f1ab0926ae54a844242.txt',\n",
       " 'tech/http-apnews-com-d4f259f73df3449ab7db57fa04ede0de.txt',\n",
       " 'tech/http-apnews-com-dc71f78e5fe840018865fa68569bf1a7.txt',\n",
       " 'tech/http-apnews-com-dfb83eff04f14207892ef177a09d50c8.txt',\n",
       " 'tech/http-apnews-com-e2e92f39ca814dd59e2607d34e97231b.txt',\n",
       " 'tech/http-apnews-com-ea20a72354f342abb938da4109dfc723.txt',\n",
       " 'tech/http-apnews-com-f56aedfde481467283dedb18a1c401fa.txt',\n",
       " 'tech/http-apnews-com-f5cf25604897449cb447e5c9049b1f34.txt',\n",
       " 'tech/http-apnews-com-fae03aed06024fe9a1d9495628c2c07a.txt',\n",
       " 'tech/http-apnews-com-ff5ea851b6fd4eb29536687af38d3b9e.txt',\n",
       " 'tech/http-apnews-com-globe-newswire-10cc1f090eb668466ee51abfca24c65d.txt',\n",
       " 'tech/http-apnews-com-globe-newswire-5cd655a848e894abe2a79b8b37421df6.txt',\n",
       " 'tech/http-apnews-com-pr-newswire-fa234a39178b36d0f095430cc7d17839.txt',\n",
       " 'tech/http-apnews-com-wired-release-0621d8d6eeefe7ef5c7115f95ff579e7.txt']"
      ]
     },
     "execution_count": 2,
     "metadata": {},
     "output_type": "execute_result"
    }
   ],
   "source": [
    "path = 'AP_News/'\n",
    "DOC_PATTERN = r'.*\\.txt'\n",
    "CAT_PATTERN = r'([\\w_\\s]+)/.*'\n",
    "corpus = CategorizedPlaintextCorpusReader(path, DOC_PATTERN, cat_pattern=CAT_PATTERN)\n",
    "corpus.fileids()"
   ]
  },
  {
   "cell_type": "markdown",
   "metadata": {
    "id": "SQMuBvquMImP"
   },
   "source": [
    "### Create two separate lists - one containing the text from each document and another containing the category of each article in the corpus."
   ]
  },
  {
   "cell_type": "code",
   "execution_count": 3,
   "metadata": {
    "id": "8jU4ZNM-MImQ"
   },
   "outputs": [
    {
     "data": {
      "text/plain": [
       "'HONOLULU (AP) — The University of Hawaii seeks additional funds for student mental health services, scholarships and other items in a new supplementary budget request, officials said. The Board of Regents approved the fiscal year 2020-2021 supplemental operating budget of about $28 million Thursday, The Honolulu Star-Advertiser reported. The request will be submitted to the state Legislature and Democratic Gov. The university requested $2.6 million to hire 19 psychologists for the 10-campus system. The University of Hawaii Manoa has eight psychologists, the Hilo campus has three, and the West Oahu campus has 1.75 positions, while each community college has one position, said Allyson Tanouye, who coordinates mental health throughout the university system. \"The national standard is one mental health professional per 1,000 to 1,500 students,\" Tanouye said. \"If we add the 19 positions we will be up to one per 1,500. That\\'s how low we are\". The mental health funding would also expand programs to prevent suicide, reduce mental health stigma, provide peer education, and alert new students and parents to college transition challenges, officials said. The largest item in the supplemental budget is $17.7 million to expand the Hawaii Promise Program scholarship to four-year state institutions. The university has proposed a flat amount to cover tuition and fees of Hawaii residents qualifying for need-based federal Pell grants. \"This is looking to focus on the most needy students going to the four-year campuses,\" said Donald Straney, vice president for academic planning and policy. \"It would add Hawaii Promise on top of the Pell grants to cover the total tuition costs of students who are receiving those grants\". The request also covered staffing increases including positions for operations and maintenance, security, educational and cultural programming, and student mentors. Information from: Honolulu Star-Advertiser, http://www.staradvertiser.com.'"
      ]
     },
     "execution_count": 3,
     "metadata": {},
     "output_type": "execute_result"
    }
   ],
   "source": [
    "docs = [corpus.raw(fileid) for fileid in corpus.fileids()]\n",
    "docs[0]"
   ]
  },
  {
   "cell_type": "code",
   "execution_count": 4,
   "metadata": {},
   "outputs": [
    {
     "data": {
      "text/plain": [
       "'health'"
      ]
     },
     "execution_count": 4,
     "metadata": {},
     "output_type": "execute_result"
    }
   ],
   "source": [
    "corpus.categories(corpus.fileids()[0])[0]"
   ]
  },
  {
   "cell_type": "code",
   "execution_count": 5,
   "metadata": {},
   "outputs": [
    {
     "data": {
      "text/plain": [
       "['health',\n",
       " 'health',\n",
       " 'health',\n",
       " 'health',\n",
       " 'health',\n",
       " 'health',\n",
       " 'health',\n",
       " 'health',\n",
       " 'health',\n",
       " 'health',\n",
       " 'health',\n",
       " 'health',\n",
       " 'health',\n",
       " 'health',\n",
       " 'health',\n",
       " 'health',\n",
       " 'health',\n",
       " 'health',\n",
       " 'health',\n",
       " 'health',\n",
       " 'health',\n",
       " 'health',\n",
       " 'health',\n",
       " 'health',\n",
       " 'health',\n",
       " 'health',\n",
       " 'health',\n",
       " 'health',\n",
       " 'health',\n",
       " 'health',\n",
       " 'health',\n",
       " 'health',\n",
       " 'health',\n",
       " 'health',\n",
       " 'health',\n",
       " 'health',\n",
       " 'health',\n",
       " 'health',\n",
       " 'health',\n",
       " 'health',\n",
       " 'health',\n",
       " 'health',\n",
       " 'health',\n",
       " 'health',\n",
       " 'health',\n",
       " 'health',\n",
       " 'health',\n",
       " 'health',\n",
       " 'health',\n",
       " 'health',\n",
       " 'health',\n",
       " 'health',\n",
       " 'health',\n",
       " 'politics',\n",
       " 'politics',\n",
       " 'politics',\n",
       " 'politics',\n",
       " 'politics',\n",
       " 'politics',\n",
       " 'politics',\n",
       " 'politics',\n",
       " 'politics',\n",
       " 'politics',\n",
       " 'politics',\n",
       " 'politics',\n",
       " 'politics',\n",
       " 'politics',\n",
       " 'politics',\n",
       " 'politics',\n",
       " 'politics',\n",
       " 'politics',\n",
       " 'politics',\n",
       " 'politics',\n",
       " 'politics',\n",
       " 'politics',\n",
       " 'politics',\n",
       " 'politics',\n",
       " 'politics',\n",
       " 'politics',\n",
       " 'politics',\n",
       " 'politics',\n",
       " 'politics',\n",
       " 'politics',\n",
       " 'politics',\n",
       " 'politics',\n",
       " 'politics',\n",
       " 'politics',\n",
       " 'politics',\n",
       " 'politics',\n",
       " 'politics',\n",
       " 'politics',\n",
       " 'politics',\n",
       " 'politics',\n",
       " 'politics',\n",
       " 'politics',\n",
       " 'politics',\n",
       " 'politics',\n",
       " 'politics',\n",
       " 'politics',\n",
       " 'politics',\n",
       " 'politics',\n",
       " 'politics',\n",
       " 'politics',\n",
       " 'politics',\n",
       " 'politics',\n",
       " 'politics',\n",
       " 'politics',\n",
       " 'politics',\n",
       " 'politics',\n",
       " 'politics',\n",
       " 'politics',\n",
       " 'sports',\n",
       " 'sports',\n",
       " 'sports',\n",
       " 'sports',\n",
       " 'sports',\n",
       " 'sports',\n",
       " 'sports',\n",
       " 'sports',\n",
       " 'sports',\n",
       " 'sports',\n",
       " 'sports',\n",
       " 'sports',\n",
       " 'sports',\n",
       " 'sports',\n",
       " 'sports',\n",
       " 'sports',\n",
       " 'sports',\n",
       " 'sports',\n",
       " 'sports',\n",
       " 'sports',\n",
       " 'sports',\n",
       " 'sports',\n",
       " 'sports',\n",
       " 'sports',\n",
       " 'sports',\n",
       " 'sports',\n",
       " 'sports',\n",
       " 'sports',\n",
       " 'sports',\n",
       " 'sports',\n",
       " 'sports',\n",
       " 'sports',\n",
       " 'sports',\n",
       " 'sports',\n",
       " 'sports',\n",
       " 'sports',\n",
       " 'sports',\n",
       " 'sports',\n",
       " 'sports',\n",
       " 'sports',\n",
       " 'sports',\n",
       " 'sports',\n",
       " 'sports',\n",
       " 'sports',\n",
       " 'sports',\n",
       " 'sports',\n",
       " 'sports',\n",
       " 'sports',\n",
       " 'sports',\n",
       " 'sports',\n",
       " 'sports',\n",
       " 'sports',\n",
       " 'sports',\n",
       " 'tech',\n",
       " 'tech',\n",
       " 'tech',\n",
       " 'tech',\n",
       " 'tech',\n",
       " 'tech',\n",
       " 'tech',\n",
       " 'tech',\n",
       " 'tech',\n",
       " 'tech',\n",
       " 'tech',\n",
       " 'tech',\n",
       " 'tech',\n",
       " 'tech',\n",
       " 'tech',\n",
       " 'tech',\n",
       " 'tech',\n",
       " 'tech',\n",
       " 'tech',\n",
       " 'tech',\n",
       " 'tech',\n",
       " 'tech',\n",
       " 'tech',\n",
       " 'tech',\n",
       " 'tech',\n",
       " 'tech',\n",
       " 'tech',\n",
       " 'tech',\n",
       " 'tech',\n",
       " 'tech',\n",
       " 'tech',\n",
       " 'tech',\n",
       " 'tech',\n",
       " 'tech',\n",
       " 'tech',\n",
       " 'tech',\n",
       " 'tech',\n",
       " 'tech',\n",
       " 'tech',\n",
       " 'tech',\n",
       " 'tech',\n",
       " 'tech',\n",
       " 'tech',\n",
       " 'tech',\n",
       " 'tech',\n",
       " 'tech',\n",
       " 'tech',\n",
       " 'tech',\n",
       " 'tech',\n",
       " 'tech',\n",
       " 'tech',\n",
       " 'tech',\n",
       " 'tech']"
      ]
     },
     "execution_count": 5,
     "metadata": {},
     "output_type": "execute_result"
    }
   ],
   "source": [
    "categories = [corpus.categories(fileid)[0] for fileid in corpus.fileids()]\n",
    "categories"
   ]
  },
  {
   "cell_type": "markdown",
   "metadata": {
    "id": "OGRABGW8MImR"
   },
   "source": [
    "### Preprocess the corpus, ensuring to include the following steps.\n",
    "\n",
    "- Word tokenize the documents.\n",
    "- Lemmatize, stem, and lowercase all tokens.\n",
    "- Remove punctuation and stop words."
   ]
  },
  {
   "cell_type": "code",
   "execution_count": 6,
   "metadata": {
    "id": "hk-Nlze1MImS"
   },
   "outputs": [],
   "source": [
    "def preprocess(docs):\n",
    "    lemmatizer = WordNetLemmatizer()\n",
    "    stemmer = SnowballStemmer('english')\n",
    "    preprocessed = []\n",
    "\n",
    "    for doc in docs:\n",
    "        tokenized = word_tokenize(doc)\n",
    "        cleaned = [stemmer.stem(lemmatizer.lemmatize(token.lower())) \n",
    "                   for token in tokenized \n",
    "                   if token.lower() not in stopwords.words('english')\n",
    "                  if token.isalpha()]\n",
    "        untokenized = \" \".join(cleaned)\n",
    "        preprocessed.append(untokenized)\n",
    "    \n",
    "    return preprocessed\n",
    "\n",
    "    "
   ]
  },
  {
   "cell_type": "code",
   "execution_count": 7,
   "metadata": {},
   "outputs": [
    {
     "data": {
      "text/plain": [
       "'honolulu ap univers hawaii seek addit fund student mental health servic scholarship item new supplementari budget request offici said board regent approv fiscal year supplement oper budget million thursday honolulu report request submit state legislatur democrat gov univers request million hire psychologist system univers hawaii manoa eight psychologist hilo campus three west oahu campus posit communiti colleg one posit said allyson tanouy coordin mental health throughout univers system nation standard one mental health profession per student tanouy said add posit one per low mental health fund would also expand program prevent suicid reduc mental health stigma provid peer educ alert new student parent colleg transit challeng offici said largest item supplement budget million expand hawaii promis program scholarship state institut univers propos flat amount cover tuition fee hawaii resid qualifi feder pell grant look focus needi student go campus said donald straney vice presid academ plan polici would add hawaii promis top pell grant cover total tuition cost student receiv grant request also cover staf increas includ posit oper mainten secur educ cultur program student mentor inform honolulu http'"
      ]
     },
     "execution_count": 7,
     "metadata": {},
     "output_type": "execute_result"
    }
   ],
   "source": [
    "preprocessed = preprocess(docs)\n",
    "preprocessed[0]"
   ]
  },
  {
   "cell_type": "markdown",
   "metadata": {
    "id": "gZE-q4ziMImT"
   },
   "source": [
    "### Split the data into training and testing sets with the size of the test set being 30% of the records."
   ]
  },
  {
   "cell_type": "code",
   "execution_count": 8,
   "metadata": {
    "id": "hKFyBgjBMImU"
   },
   "outputs": [
    {
     "name": "stdout",
     "output_type": "stream",
     "text": [
      "217\n"
     ]
    },
    {
     "data": {
      "text/plain": [
       "217"
      ]
     },
     "execution_count": 8,
     "metadata": {},
     "output_type": "execute_result"
    }
   ],
   "source": [
    "print(len(categories))\n",
    "len(preprocessed)"
   ]
  },
  {
   "cell_type": "code",
   "execution_count": 9,
   "metadata": {},
   "outputs": [],
   "source": [
    "X_train, X_test, y_train, y_test = tts(preprocessed, categories, test_size=0.3)"
   ]
  },
  {
   "cell_type": "markdown",
   "metadata": {
    "id": "reegQu_5MImV"
   },
   "source": [
    "### Construct a pipeline that TF-IDF vectorizes the text and trains a Random Forest classification model."
   ]
  },
  {
   "cell_type": "code",
   "execution_count": 10,
   "metadata": {
    "id": "_3JJ3hjNMImW"
   },
   "outputs": [
    {
     "data": {
      "text/plain": [
       "Pipeline(steps=[('vect', TfidfVectorizer()), ('clf', RandomForestClassifier())])"
      ]
     },
     "execution_count": 10,
     "metadata": {},
     "output_type": "execute_result"
    }
   ],
   "source": [
    "from sklearn.feature_extraction.text import TfidfVectorizer\n",
    "tfidf = TfidfVectorizer()\n",
    "rfc = RandomForestClassifier(n_estimators=100)\n",
    "pipe = Pipeline([\n",
    "    ('vect', tfidf),\n",
    "    ('clf', rfc)\n",
    "])\n",
    "\n",
    "pipe.fit(X_train, y_train)"
   ]
  },
  {
   "cell_type": "markdown",
   "metadata": {
    "id": "cFt6djjpMImX"
   },
   "source": [
    "### Generate predictions on the test set and print a classification report to evaluate how well the model performed."
   ]
  },
  {
   "cell_type": "code",
   "execution_count": 11,
   "metadata": {
    "id": "yWT99tvHMImY"
   },
   "outputs": [
    {
     "name": "stdout",
     "output_type": "stream",
     "text": [
      "              precision    recall  f1-score   support\n",
      "\n",
      "      health       0.74      0.82      0.78        17\n",
      "    politics       0.80      0.71      0.75        17\n",
      "      sports       0.88      0.93      0.90        15\n",
      "        tech       0.69      0.65      0.67        17\n",
      "\n",
      "    accuracy                           0.77        66\n",
      "   macro avg       0.77      0.78      0.77        66\n",
      "weighted avg       0.77      0.77      0.77        66\n",
      "\n"
     ]
    }
   ],
   "source": [
    "y_pred_test = pipe.predict(X_test)\n",
    "print(classification_report(y_test, y_pred_test))"
   ]
  },
  {
   "cell_type": "markdown",
   "metadata": {
    "id": "T2BwKeBNMImZ"
   },
   "source": [
    "### Perform 10-fold cross validation and obtain the averge F1 score across all the folds."
   ]
  },
  {
   "cell_type": "code",
   "execution_count": 12,
   "metadata": {
    "id": "-n9cTvc6MIma"
   },
   "outputs": [
    {
     "data": {
      "text/plain": [
       "array([0.86752137, 0.81742424, 0.83791209, 0.81730769, 0.91666667,\n",
       "       0.78030303, 0.66813725, 0.7534188 , 0.73023504, 0.71190476])"
      ]
     },
     "execution_count": 12,
     "metadata": {},
     "output_type": "execute_result"
    }
   ],
   "source": [
    "scores = cross_val_score(pipe, preprocessed, categories, cv=10, scoring='f1_macro')\n",
    "scores"
   ]
  },
  {
   "cell_type": "code",
   "execution_count": 13,
   "metadata": {},
   "outputs": [
    {
     "data": {
      "text/plain": [
       "0.7900830950095656"
      ]
     },
     "execution_count": 13,
     "metadata": {},
     "output_type": "execute_result"
    }
   ],
   "source": [
    "scores.mean()"
   ]
  },
  {
   "cell_type": "markdown",
   "metadata": {
    "id": "1H9ERShiMImb"
   },
   "source": [
    "### Ingest, preprocess, and predict the topic of the article at the following URL."
   ]
  },
  {
   "cell_type": "code",
   "execution_count": 14,
   "metadata": {},
   "outputs": [
    {
     "data": {
      "text/plain": [
       "Pipeline(steps=[('vect', TfidfVectorizer()), ('clf', RandomForestClassifier())])"
      ]
     },
     "execution_count": 14,
     "metadata": {},
     "output_type": "execute_result"
    }
   ],
   "source": [
    "pipe.fit(preprocessed, categories)"
   ]
  },
  {
   "cell_type": "code",
   "execution_count": 15,
   "metadata": {
    "id": "0d2mfYGSMImc"
   },
   "outputs": [],
   "source": [
    "url = 'https://www.nytimes.com/2019/11/25/business/uber-london.html'"
   ]
  },
  {
   "cell_type": "code",
   "execution_count": 16,
   "metadata": {
    "id": "7piaPcKNMImd",
    "scrolled": true
   },
   "outputs": [
    {
     "data": {
      "text/plain": [
       "array(['tech'], dtype='<U8')"
      ]
     },
     "execution_count": 16,
     "metadata": {},
     "output_type": "execute_result"
    }
   ],
   "source": [
    "import requests\n",
    "from bs4 import BeautifulSoup\n",
    "\n",
    "result = requests.get(url)\n",
    "soup = BeautifulSoup(result.text)\n",
    "doc = soup.find('section', attrs={'name':'articleBody'}).text\n",
    "preprocessed = preprocess([doc])\n",
    "pipe.predict(preprocessed)"
   ]
  },
  {
   "cell_type": "code",
   "execution_count": null,
   "metadata": {},
   "outputs": [],
   "source": []
  }
 ],
 "metadata": {
  "colab": {
   "collapsed_sections": [],
   "name": "Day 74, Lecture 1: Assignment.ipynb",
   "provenance": []
  },
  "kernelspec": {
   "display_name": "Python 3",
   "language": "python",
   "name": "python3"
  },
  "language_info": {
   "codemirror_mode": {
    "name": "ipython",
    "version": 3
   },
   "file_extension": ".py",
   "mimetype": "text/x-python",
   "name": "python",
   "nbconvert_exporter": "python",
   "pygments_lexer": "ipython3",
   "version": "3.8.6"
  },
  "toc": {
   "base_numbering": 1,
   "nav_menu": {},
   "number_sections": false,
   "sideBar": true,
   "skip_h1_title": true,
   "title_cell": "Table of Contents",
   "title_sidebar": "Contents",
   "toc_cell": false,
   "toc_position": {},
   "toc_section_display": true,
   "toc_window_display": true
  }
 },
 "nbformat": 4,
 "nbformat_minor": 1
}
