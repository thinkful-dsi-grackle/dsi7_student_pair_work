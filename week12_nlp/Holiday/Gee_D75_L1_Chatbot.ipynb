{
  "nbformat": 4,
  "nbformat_minor": 0,
  "metadata": {
    "kernelspec": {
      "display_name": "Python 3",
      "language": "python",
      "name": "python3"
    },
    "language_info": {
      "codemirror_mode": {
        "name": "ipython",
        "version": 3
      },
      "file_extension": ".py",
      "mimetype": "text/x-python",
      "name": "python",
      "nbconvert_exporter": "python",
      "pygments_lexer": "ipython3",
      "version": "3.7.2"
    },
    "colab": {
      "name": "Gee_D75_L1_Chatbot.ipynb",
      "provenance": [],
      "collapsed_sections": []
    }
  },
  "cells": [
    {
      "cell_type": "markdown",
      "metadata": {
        "id": "2qtIy1rhPrpb"
      },
      "source": [
        "# Natural Language Processing: Chatbots Assignment"
      ]
    },
    {
      "cell_type": "code",
      "metadata": {
        "id": "O-18zFBdPrpd",
        "colab": {
          "base_uri": "https://localhost:8080/"
        },
        "outputId": "8626ed82-a371-4579-e00d-79e065a1a7af"
      },
      "source": [
        "!pip install chatterbot --quiet\n",
        "!pip install chatterbot_corpus --quiet\n",
        "\n",
        "import re\n",
        "import requests\n",
        "from bs4 import BeautifulSoup\n",
        "from chatterbot import ChatBot\n",
        "from chatterbot.trainers import ListTrainer"
      ],
      "execution_count": 3,
      "outputs": [
        {
          "output_type": "stream",
          "text": [
            "\u001b[K     |████████████████████████████████| 71kB 4.1MB/s \n",
            "\u001b[K     |████████████████████████████████| 122kB 6.9MB/s \n",
            "\u001b[?25h"
          ],
          "name": "stdout"
        }
      ]
    },
    {
      "cell_type": "markdown",
      "metadata": {
        "id": "J43HRfFdPrpg"
      },
      "source": [
        "### Scrape the HTML from the URL below which contains questions and answers about databases."
      ]
    },
    {
      "cell_type": "code",
      "metadata": {
        "id": "OkxH23z3Prph"
      },
      "source": [
        "url = 'https://www.wisdomjobs.com/e-university/database-interview-questions.html'\r\n",
        "res = requests.get(url)\r\n",
        "con = res.text\r\n",
        "TAGS = ['li']\r\n",
        "ATTRS = {'class':'quesans'}\r\n",
        "soupy = BeautifulSoup(con, 'lxml')\r\n",
        "text = soupy.find_all(TAGS, attrs=ATTRS)"
      ],
      "execution_count": 34,
      "outputs": []
    },
    {
      "cell_type": "markdown",
      "metadata": {
        "id": "xR9bp45DPrpk"
      },
      "source": [
        "### Clean the acquired HTML, extracting just the text."
      ]
    },
    {
      "cell_type": "code",
      "metadata": {
        "id": "zewkAk2EJqon"
      },
      "source": [
        "ques = [que.text for que in text]\r\n",
        "#ques"
      ],
      "execution_count": 67,
      "outputs": []
    },
    {
      "cell_type": "markdown",
      "metadata": {
        "id": "yuxEDAXIPrpn"
      },
      "source": [
        "### Organize the text into a list of questions and answers.\n",
        "\n",
        "The best way to do this is to use a regular expression to split the text wherever a question or an answer appears (they are labeled)."
      ]
    },
    {
      "cell_type": "code",
      "metadata": {
        "id": "t7bBDIVPPrpn"
      },
      "source": [
        "q = []\r\n",
        "a = []\r\n",
        "for pair in ques:\r\n",
        "  split = pair.split('Answer :')\r\n",
        "  #print(split)\r\n",
        "  q.append(split[0])\r\n",
        "  a.append(split[1])"
      ],
      "execution_count": 44,
      "outputs": []
    },
    {
      "cell_type": "code",
      "metadata": {
        "id": "Z3XbquY6MQYo"
      },
      "source": [
        "q = [i.replace('\\n','') for i in q]\r\n",
        "questions = [pair.split('. ')[1] for pair in q]\r\n",
        "#questions"
      ],
      "execution_count": 60,
      "outputs": []
    },
    {
      "cell_type": "code",
      "metadata": {
        "id": "4F_NKr0CLm2K"
      },
      "source": [
        "answers = [i.replace('\\n','') for i in a]\r\n",
        "#answers"
      ],
      "execution_count": 59,
      "outputs": []
    },
    {
      "cell_type": "code",
      "metadata": {
        "id": "A5YXEcwSOnb5"
      },
      "source": [
        "train_list = []\r\n",
        "\r\n",
        "for i in range(len(questions)):\r\n",
        "  train_list.append(questions[i])\r\n",
        "  train_list.append(answers[i])\r\n",
        "#train_list"
      ],
      "execution_count": 57,
      "outputs": []
    },
    {
      "cell_type": "markdown",
      "metadata": {
        "id": "1UHdgjt1Prpp"
      },
      "source": [
        "### Train a Chatterbot chatbot on the list of questions and answers."
      ]
    },
    {
      "cell_type": "code",
      "metadata": {
        "id": "q9ELJw67Prpp",
        "colab": {
          "base_uri": "https://localhost:8080/"
        },
        "outputId": "13e5d771-c32d-4659-f13e-4c360cae8e81"
      },
      "source": [
        "chatbot = ChatBot('Chuckie')\r\n",
        "chatbot.storage.drop()\r\n",
        "trainer = ListTrainer(chatbot)\r\n",
        "trainer.train(train_list)"
      ],
      "execution_count": 62,
      "outputs": [
        {
          "output_type": "stream",
          "text": [
            "List Trainer: [####################] 100%\n"
          ],
          "name": "stdout"
        }
      ]
    },
    {
      "cell_type": "markdown",
      "metadata": {
        "id": "IFwtqnM5Prpr"
      },
      "source": [
        "### Write the user interface logic that allows a user to ask the chatbot questions about databases and have the chatbot return an answer. \n",
        "\n",
        "Include logic that checks to see if the answer returned is going to be a question and if so, return the next element in the list after that question."
      ]
    },
    {
      "cell_type": "code",
      "metadata": {
        "id": "DuujcjQjPrps",
        "colab": {
          "base_uri": "https://localhost:8080/"
        },
        "outputId": "e9fb0b52-c933-453b-975b-914d964cb91f"
      },
      "source": [
        "print('Hey, how can I help?')\r\n",
        "print('Type \"exit\" when you wanna head out.')\r\n",
        "while True:\r\n",
        "  user_input = input('User: ')\r\n",
        "  if user_input.lower() == 'exit':\r\n",
        "    print('Hope you got what you needed, later.')\r\n",
        "    user_input = ''\r\n",
        "    break\r\n",
        "  else:\r\n",
        "    if \r\n",
        "    print(chatbot.get_response(user_input))"
      ],
      "execution_count": 63,
      "outputs": [
        {
          "output_type": "stream",
          "text": [
            "Hey, how can I help?\n",
            "Type \"exit\" when you wanna head out.\n",
            "User: sql\n",
            "The transaction is referred as a unit of work that is performed against a database. It is the propagation of one or more changes to the database. Properties of transactions are determined by ACID.Atomicity: It ensures that all work unit are successfully completed.Consistency: It ensures that the database changes states upon a successfully committed transaction.Isolation: It enables transactions to operate independently of and transparent to each other.Durability: It ensures that the result or effect of a committed transaction persists in case of a system failure.\n",
            "User: What does SQL stand for?\n",
            "List Out The Areas Where Sql Lite Works Well?\n",
            "User: SQL stand for?\n",
            "List Out The Areas Where Sql Lite Works Well?\n",
            "User: sql stand for\n",
            "Physical level: The lowest level of abstraction describes how data are stored.Logical level: The next higher level of abstraction, describes what data are stored in database and what relationship among those data.View level: The highest level of abstraction describes only part of entire database.\n",
            "User: exit\n",
            "Hope you got what you needed, later.\n"
          ],
          "name": "stdout"
        }
      ]
    },
    {
      "cell_type": "code",
      "metadata": {
        "id": "kHrsdId5SBGq"
      },
      "source": [
        "text_list = soupy.find_all(TAGS)\r\n",
        "uncleaned_questions = [que.text for que in text_list]"
      ],
      "execution_count": 75,
      "outputs": []
    },
    {
      "cell_type": "code",
      "metadata": {
        "id": "_B2jcegFTcIY"
      },
      "source": [
        "uncleaned_questions = uncleaned_questions[10:156]"
      ],
      "execution_count": null,
      "outputs": []
    },
    {
      "cell_type": "code",
      "metadata": {
        "id": "U53LrlqGTmO0"
      },
      "source": [
        "uncleaned_questions = [i.strip() for i in uncleaned_questions]"
      ],
      "execution_count": 77,
      "outputs": []
    },
    {
      "cell_type": "code",
      "metadata": {
        "id": "6cyNfxreTsHE"
      },
      "source": [
        "uncleaned_questions = [i.replace('\\n','') for i in uncleaned_questions]"
      ],
      "execution_count": 78,
      "outputs": []
    },
    {
      "cell_type": "code",
      "metadata": {
        "id": "WgNZ1x6HTuKM"
      },
      "source": [
        "uncleaned_questions = [i.replace('?','? ') for i in uncleaned_questions]"
      ],
      "execution_count": 79,
      "outputs": []
    },
    {
      "cell_type": "code",
      "metadata": {
        "id": "FekJ4aF2TwBk"
      },
      "source": [
        "uncleaned_questions = [i.replace(' :',': ') for i in uncleaned_questions]"
      ],
      "execution_count": 80,
      "outputs": []
    },
    {
      "cell_type": "code",
      "metadata": {
        "id": "UtTNd5SBTy3s"
      },
      "source": [
        "uncleaned_questions"
      ],
      "execution_count": null,
      "outputs": []
    },
    {
      "cell_type": "code",
      "metadata": {
        "id": "GuIs_jV7RrBT"
      },
      "source": [
        "# takes a bunch of nested smaller lists inside one big list and returns one big list no little nested lists. \r\n",
        "# questions = [inner for outer in questions for inner in outer]"
      ],
      "execution_count": null,
      "outputs": []
    }
  ]
}