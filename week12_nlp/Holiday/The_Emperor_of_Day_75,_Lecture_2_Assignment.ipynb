{
  "nbformat": 4,
  "nbformat_minor": 0,
  "metadata": {
    "kernelspec": {
      "display_name": "Python 3",
      "language": "python",
      "name": "python3"
    },
    "language_info": {
      "codemirror_mode": {
        "name": "ipython",
        "version": 3
      },
      "file_extension": ".py",
      "mimetype": "text/x-python",
      "name": "python",
      "nbconvert_exporter": "python",
      "pygments_lexer": "ipython3",
      "version": "3.7.2"
    },
    "colab": {
      "name": "The Emperor of Day 75, Lecture 2: Assignment.ipynb",
      "provenance": [],
      "collapsed_sections": []
    }
  },
  "cells": [
    {
      "cell_type": "markdown",
      "metadata": {
        "id": "9pYhNHOMPsIj"
      },
      "source": [
        "# Text Summarization and Natural Language Generation Assignment"
      ]
    },
    {
      "cell_type": "code",
      "metadata": {
        "id": "5f3HWPFkPsIk"
      },
      "source": [
        "import re\n",
        "import markovify\n",
        "from nltk import pos_tag\n",
        "from nltk import sent_tokenize\n",
        "from gensim.summarization import summarize"
      ],
      "execution_count": 3,
      "outputs": []
    },
    {
      "cell_type": "markdown",
      "metadata": {
        "id": "TClncKT6PsIm"
      },
      "source": [
        "### Scrape and clean the text from the 3 Presidential State of the Union Address URLs below and save them into a list."
      ]
    },
    {
      "cell_type": "code",
      "metadata": {
        "id": "iuF8XmYePsIn"
      },
      "source": [
        "lincoln = 'https://en.wikisource.org/wiki/Abraham_Lincoln%27s_First_State_of_the_Union_Address'\n",
        "roosevelt = 'https://en.wikisource.org/wiki/Theodore_Roosevelt%27s_First_State_of_the_Union_Address'\n",
        "obama = 'https://en.wikisource.org/wiki/Barack_Obama%27s_Second_State_of_the_Union_Address'"
      ],
      "execution_count": 4,
      "outputs": []
    },
    {
      "cell_type": "code",
      "metadata": {
        "id": "TGuK0t2wPsIq"
      },
      "source": [
        "import requests\r\n",
        "from bs4 import BeautifulSoup\r\n",
        "def get_url_text(url):\r\n",
        "  response = requests.get(url)\r\n",
        "  content = response.text\r\n",
        "\r\n",
        "  TAGS = ['h1', 'h2', 'h3', 'h4', 'h5', 'h6', 'h7', 'p', 'li']\r\n",
        "  soup = BeautifulSoup(content, 'lxml')\r\n",
        "  text_list = [tag.get_text() for tag in soup.find_all(TAGS)]\r\n",
        "  text = ' '.join(text_list)\r\n",
        "  return text\r\n",
        "text = []\r\n",
        "text.append(get_url_text(lincoln))\r\n",
        "text.append(get_url_text(roosevelt))\r\n",
        "text.append(get_url_text(obama))"
      ],
      "execution_count": 6,
      "outputs": []
    },
    {
      "cell_type": "markdown",
      "metadata": {
        "id": "dl0uAJJDPsIs"
      },
      "source": [
        "### For each State of the Union Address, use the Gensim `summarize` function and print a summary of each address approximately 200 words long."
      ]
    },
    {
      "cell_type": "code",
      "metadata": {
        "id": "-hycaeo_PsIt",
        "colab": {
          "base_uri": "https://localhost:8080/"
        },
        "outputId": "db12a608-ae43-4ddd-d195-0f5919bb70f6"
      },
      "source": [
        "for blurb in text:\r\n",
        "  print(summarize(blurb, word_count=200))\r\n",
        "  print(\"---\")"
      ],
      "execution_count": 9,
      "outputs": [
        {
          "output_type": "stream",
          "text": [
            "I am informed by some whose opinions I respect that all the acts of Congress now in force and of a permanent and general nature might be revised and rewritten so as to be embraced in one volume (or at most two volumes) of ordinary and convenient size; and I respectfully recommend to Congress to consider of the subject, and if my suggestion be approved to devise such plan as to their wisdom shall seem most proper for the attainment of the end proposed.\n",
            "But the powers of Congress, I suppose, are equal to the anomalous occasion, and therefore I refer the whole matter to Congress, with the hope that a plan may be devised for the administration of justice in all such parts of the insurgent States and Territories as may be under the control of this Government, whether by a voluntary return to allegiance and order or by the power of our arms; this, however, not to be a permanent institution, but a temporary substitute, and to cease as soon as the ordinay courts can be reestablished in peace.\n",
            "---\n",
            "Just how far this is must be determined according to the individual case, remembering always that every application of our tariff policy to meet our shifting national needs must be conditioned upon the cardinal fact that the duties must never be reduced below the point that will cover the difference between the labor cost here and abroad.\n",
            "The Congressmen who voted years in advance the money to lay down the ships, to build the guns, to buy the armor-plate; the Department officials and the business men and wage-workers who furnished what the Congress had authorized; the Secretaries of the Navy who asked for and expended the appropriations; and finally the officers who, in fair weather and foul, on actual sea service, trained and disciplined the crews of the ships when there was no war in sight—all are entitled to a full share in the glory of Manila and Santiago, and the respect accorded by every true American to those who wrought such signal triumph for our country.\n",
            "---\n",
            "We should start where most new jobs do –- in small businesses, companies that begin when -- (applause) -- companies that begin when an entrepreneur -- when an entrepreneur takes a chance on a dream, or a worker decides it's time she became her own boss.\n",
            "(Applause.)  There are projects like that all across this country that will create jobs and help move our nation's goods, services, and information.\n",
            "(Applause.)  And to encourage these and other businesses to stay within our borders, it is time to finally slash the tax breaks for companies that ship our jobs overseas, and give those tax breaks to companies that create jobs right here in the United States of America.\n",
            "You can see the results of last year's investments in clean energy -– in the North Carolina company that will create 1,200 jobs nationwide helping to make advanced batteries; or in the California business that will put a thousand people to work making solar panels.\n",
            "(Applause.)  So tonight, we set a new goal:  We will double our exports over the next five years, an increase that will support two million jobs in America.\n",
            "(Applause.)  This year, I will work with Congress and our military to finally repeal the law that denies gay Americans the right to serve the country they love because of who they are.\n",
            "---\n"
          ],
          "name": "stdout"
        }
      ]
    },
    {
      "cell_type": "markdown",
      "metadata": {
        "id": "VIJ9tOFyPsIv"
      },
      "source": [
        "### Sentence tokenize each address and save the tokenized sentences to a separate list."
      ]
    },
    {
      "cell_type": "code",
      "metadata": {
        "id": "7Ngvp3JGPsIv",
        "colab": {
          "base_uri": "https://localhost:8080/"
        },
        "outputId": "dbc67730-ed65-4877-87bc-a060bb7a5723"
      },
      "source": [
        "import nltk\r\n",
        "nltk.download('punkt')\r\n",
        "tokes = [sent_tokenize(blurb) for blurb in text]"
      ],
      "execution_count": 11,
      "outputs": [
        {
          "output_type": "stream",
          "text": [
            "[nltk_data] Downloading package punkt to /root/nltk_data...\n",
            "[nltk_data]   Unzipping tokenizers/punkt.zip.\n"
          ],
          "name": "stdout"
        }
      ]
    },
    {
      "cell_type": "markdown",
      "metadata": {
        "id": "vcoMsb_sPsIx"
      },
      "source": [
        "### Train a Markov chain model for each tokenized address and generate 5 sentences based on the language used for each one."
      ]
    },
    {
      "cell_type": "code",
      "metadata": {
        "id": "BFOm-2JAPsIy",
        "colab": {
          "base_uri": "https://localhost:8080/"
        },
        "outputId": "2e82549d-373a-48ec-f867-712a2c3d6ce7"
      },
      "source": [
        "for toke in tokes:\r\n",
        "  model = markovify.Text(toke, state_size=5)\r\n",
        "  print(model.make_short_sentence(max_chars=200))"
      ],
      "execution_count": 14,
      "outputs": [
        {
          "output_type": "stream",
          "text": [
            "In the exercise of my best discretion I have adhered to the act of Congress to confiscate property used for insurrectionary purposes.\n",
            "During the change of treatment inevitable hardships will occur; every effort should be made to bring the Army to a constantly increasing state of efficiency.\n",
            "None\n"
          ],
          "name": "stdout"
        }
      ]
    },
    {
      "cell_type": "markdown",
      "metadata": {
        "id": "wxM3DVddPsI0"
      },
      "source": [
        "### Add part of speech tags to the Markov chain model and regenerate 5 sentences for each address."
      ]
    },
    {
      "cell_type": "code",
      "metadata": {
        "colab": {
          "base_uri": "https://localhost:8080/"
        },
        "id": "PtZ4bmxVBGK7",
        "outputId": "3f838f78-a7f9-46ea-c500-1aea1189e32f"
      },
      "source": [
        "nltk.download('averaged_perceptron_tagger')"
      ],
      "execution_count": 17,
      "outputs": [
        {
          "output_type": "stream",
          "text": [
            "[nltk_data] Downloading package averaged_perceptron_tagger to\n",
            "[nltk_data]     /root/nltk_data...\n",
            "[nltk_data]   Unzipping taggers/averaged_perceptron_tagger.zip.\n"
          ],
          "name": "stdout"
        },
        {
          "output_type": "execute_result",
          "data": {
            "text/plain": [
              "True"
            ]
          },
          "metadata": {
            "tags": []
          },
          "execution_count": 17
        }
      ]
    },
    {
      "cell_type": "code",
      "metadata": {
        "id": "tUBHXvZ5PsI1",
        "colab": {
          "base_uri": "https://localhost:8080/"
        },
        "outputId": "87596067-d16e-4db8-c192-81028b0d8d7b"
      },
      "source": [
        "class POSifiedText(markovify.Text):\r\n",
        "  def word_split(self, sentence):\r\n",
        "    words = re.split(self.word_split_pattern, sentence)\r\n",
        "    words = [ '::'.join(tag) for tag in nltk.pos_tag(words)]\r\n",
        "    return words\r\n",
        "\r\n",
        "  def word_join(self, words):\r\n",
        "    sentence = ' '.join(word.split(\"::\")[0] for word in words)\r\n",
        "    return sentence\r\n",
        "\r\n",
        "for toke in tokes:\r\n",
        "  model = POSifiedText(toke, state_size = 5)\r\n",
        "  print(model.make_short_sentence(max_chars=200))"
      ],
      "execution_count": 18,
      "outputs": [
        {
          "output_type": "stream",
          "text": [
            "In the exercise of my best discretion I have adhered to the act of Congress to confiscate property used for insurrectionary purposes.\n",
            "None\n",
            "None\n"
          ],
          "name": "stdout"
        }
      ]
    },
    {
      "cell_type": "code",
      "metadata": {
        "id": "TOhFav8kBKyj"
      },
      "source": [
        ""
      ],
      "execution_count": null,
      "outputs": []
    }
  ]
}