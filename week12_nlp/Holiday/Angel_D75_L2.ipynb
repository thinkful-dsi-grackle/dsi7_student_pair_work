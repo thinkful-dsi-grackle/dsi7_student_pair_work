{
  "nbformat": 4,
  "nbformat_minor": 0,
  "metadata": {
    "kernelspec": {
      "display_name": "Python 3",
      "language": "python",
      "name": "python3"
    },
    "language_info": {
      "codemirror_mode": {
        "name": "ipython",
        "version": 3
      },
      "file_extension": ".py",
      "mimetype": "text/x-python",
      "name": "python",
      "nbconvert_exporter": "python",
      "pygments_lexer": "ipython3",
      "version": "3.7.2"
    },
    "colab": {
      "name": "Angel_D75_L2.ipynb",
      "provenance": [],
      "collapsed_sections": []
    }
  },
  "cells": [
    {
      "cell_type": "markdown",
      "metadata": {
        "id": "9pYhNHOMPsIj"
      },
      "source": [
        "# Text Summarization and Natural Language Generation Assignment"
      ]
    },
    {
      "cell_type": "code",
      "metadata": {
        "colab": {
          "base_uri": "https://localhost:8080/"
        },
        "id": "D8N4zmEQ8o7I",
        "outputId": "99979d3d-e39b-4683-b63f-b1f42eac0e43"
      },
      "source": [
        "!pip install markovify --quiet"
      ],
      "execution_count": 2,
      "outputs": [
        {
          "output_type": "stream",
          "text": [
            "\u001b[?25l\r\u001b[K     |█▍                              | 10kB 13.3MB/s eta 0:00:01\r\u001b[K     |██▊                             | 20kB 13.5MB/s eta 0:00:01\r\u001b[K     |████                            | 30kB 8.5MB/s eta 0:00:01\r\u001b[K     |█████▌                          | 40kB 8.6MB/s eta 0:00:01\r\u001b[K     |██████▉                         | 51kB 7.3MB/s eta 0:00:01\r\u001b[K     |████████▏                       | 61kB 7.9MB/s eta 0:00:01\r\u001b[K     |█████████▋                      | 71kB 8.5MB/s eta 0:00:01\r\u001b[K     |███████████                     | 81kB 8.7MB/s eta 0:00:01\r\u001b[K     |████████████▎                   | 92kB 9.1MB/s eta 0:00:01\r\u001b[K     |█████████████▊                  | 102kB 9.8MB/s eta 0:00:01\r\u001b[K     |███████████████                 | 112kB 9.8MB/s eta 0:00:01\r\u001b[K     |████████████████▍               | 122kB 9.8MB/s eta 0:00:01\r\u001b[K     |█████████████████▊              | 133kB 9.8MB/s eta 0:00:01\r\u001b[K     |███████████████████▏            | 143kB 9.8MB/s eta 0:00:01\r\u001b[K     |████████████████████▌           | 153kB 9.8MB/s eta 0:00:01\r\u001b[K     |█████████████████████▉          | 163kB 9.8MB/s eta 0:00:01\r\u001b[K     |███████████████████████▎        | 174kB 9.8MB/s eta 0:00:01\r\u001b[K     |████████████████████████▋       | 184kB 9.8MB/s eta 0:00:01\r\u001b[K     |██████████████████████████      | 194kB 9.8MB/s eta 0:00:01\r\u001b[K     |███████████████████████████▍    | 204kB 9.8MB/s eta 0:00:01\r\u001b[K     |████████████████████████████▊   | 215kB 9.8MB/s eta 0:00:01\r\u001b[K     |██████████████████████████████  | 225kB 9.8MB/s eta 0:00:01\r\u001b[K     |███████████████████████████████▍| 235kB 9.8MB/s eta 0:00:01\r\u001b[K     |████████████████████████████████| 245kB 9.8MB/s \n",
            "\u001b[?25h  Building wheel for markovify (setup.py) ... \u001b[?25l\u001b[?25hdone\n"
          ],
          "name": "stdout"
        }
      ]
    },
    {
      "cell_type": "code",
      "metadata": {
        "id": "5f3HWPFkPsIk"
      },
      "source": [
        "import re\n",
        "import markovify\n",
        "from bs4 import BeautifulSoup\n",
        "import requests\n",
        "from nltk import pos_tag\n",
        "from nltk import sent_tokenize\n",
        "from gensim.summarization import summarize"
      ],
      "execution_count": 12,
      "outputs": []
    },
    {
      "cell_type": "code",
      "metadata": {
        "id": "h5w7ZrRd_i7U"
      },
      "source": [
        "import nltk\r\n",
        "nltk.download('punkt')\r\n",
        "nltk.download('averaged_perceptron_tagger')"
      ],
      "execution_count": null,
      "outputs": []
    },
    {
      "cell_type": "markdown",
      "metadata": {
        "id": "TClncKT6PsIm"
      },
      "source": [
        "### Scrape and clean the text from the 3 Presidential State of the Union Address URLs below and save them into a list."
      ]
    },
    {
      "cell_type": "code",
      "metadata": {
        "id": "iuF8XmYePsIn"
      },
      "source": [
        "lincoln = 'https://en.wikisource.org/wiki/Abraham_Lincoln%27s_First_State_of_the_Union_Address'\n",
        "roosevelt = 'https://en.wikisource.org/wiki/Theodore_Roosevelt%27s_First_State_of_the_Union_Address'\n",
        "obama = 'https://en.wikisource.org/wiki/Barack_Obama%27s_Second_State_of_the_Union_Address'"
      ],
      "execution_count": 4,
      "outputs": []
    },
    {
      "cell_type": "code",
      "metadata": {
        "id": "TGuK0t2wPsIq"
      },
      "source": [
        "def scrape_clean(url):\r\n",
        "    response = requests.get(url)\r\n",
        "    soup = BeautifulSoup(response.text)\r\n",
        "    text_list = soup.find('div', attrs={'class':'mw-parser-output'}).find_all('p')\r\n",
        "    text_list.pop()\r\n",
        "    return \" \".join([p.text.replace('\\n', '') for p in text_list])"
      ],
      "execution_count": 14,
      "outputs": []
    },
    {
      "cell_type": "code",
      "metadata": {
        "id": "ECPGRyin9qPg"
      },
      "source": [
        "urls = [lincoln, roosevelt, obama]\r\n",
        "soups = [scrape_clean(url) for url in urls]\r\n",
        "print(soups[0])"
      ],
      "execution_count": null,
      "outputs": []
    },
    {
      "cell_type": "markdown",
      "metadata": {
        "id": "dl0uAJJDPsIs"
      },
      "source": [
        "### For each State of the Union Address, use the Gensim `summarize` function and print a summary of each address approximately 200 words long."
      ]
    },
    {
      "cell_type": "code",
      "metadata": {
        "id": "-hycaeo_PsIt",
        "colab": {
          "base_uri": "https://localhost:8080/"
        },
        "outputId": "7fead5e9-bbe1-47a0-cc68-271d7432276d"
      },
      "source": [
        "for soup in soups:\r\n",
        "  print(summarize(soup, word_count=200))\r\n",
        "  print('---------------')"
      ],
      "execution_count": 18,
      "outputs": [
        {
          "output_type": "stream",
          "text": [
            "I am informed by some whose opinions I respect that all the acts of Congress now in force and of a permanent and general nature might be revised and rewritten so as to be embraced in one volume (or at most two volumes) of ordinary and convenient size; and I respectfully recommend to Congress to consider of the subject, and if my suggestion be approved to devise such plan as to their wisdom shall seem most proper for the attainment of the end proposed.\n",
            "But the powers of Congress, I suppose, are equal to the anomalous occasion, and therefore I refer the whole matter to Congress, with the hope that a plan may be devised for the administration of justice in all such parts of the insurgent States and Territories as may be under the control of this Government, whether by a voluntary return to allegiance and order or by the power of our arms; this, however, not to be a permanent institution, but a temporary substitute, and to cease as soon as the ordinay courts can be reestablished in peace.\n",
            "---------------\n",
            "Just how far this is must be determined according to the individual case, remembering always that every application of our tariff policy to meet our shifting national needs must be conditioned upon the cardinal fact that the duties must never be reduced below the point that will cover the difference between the labor cost here and abroad.\n",
            "The Congressmen who voted years in advance the money to lay down the ships, to build the guns, to buy the armor-plate; the Department officials and the business men and wage-workers who furnished what the Congress had authorized; the Secretaries of the Navy who asked for and expended the appropriations; and finally the officers who, in fair weather and foul, on actual sea service, trained and disciplined the crews of the ships when there was no war in sight—all are entitled to a full share in the glory of Manila and Santiago, and the respect accorded by every true American to those who wrought such signal triumph for our country.\n",
            "---------------\n",
            "(Applause.) Now, as we stabilized the financial system, we also took steps to get our economy growing again, save as many jobs as possible, and help Americans who had become unemployed.\n",
            "(Laughter and applause.) As a result, millions of Americans had more to spend on gas and food and other necessities, all of which helped businesses keep more workers.\n",
            "(Applause.)  There are projects like that all across this country that will create jobs and help move our nation's goods, services, and information.\n",
            "(Applause.)  And to encourage these and other businesses to stay within our borders, it is time to finally slash the tax breaks for companies that ship our jobs overseas, and give those tax breaks to companies that create jobs right here in the United States of America.\n",
            "You can see the results of last year's investments in clean energy -– in the North Carolina company that will create 1,200 jobs nationwide helping to make advanced batteries; or in the California business that will put a thousand people to work making solar panels.\n",
            "(Applause.)  So tonight, we set a new goal:  We will double our exports over the next five years, an increase that will support two million jobs in America.\n",
            "---------------\n"
          ],
          "name": "stdout"
        }
      ]
    },
    {
      "cell_type": "markdown",
      "metadata": {
        "id": "VIJ9tOFyPsIv"
      },
      "source": [
        "### Sentence tokenize each address and save the tokenized sentences to a separate list."
      ]
    },
    {
      "cell_type": "code",
      "metadata": {
        "id": "7Ngvp3JGPsIv"
      },
      "source": [
        "tokenized = [sent_tokenize(soup) for soup in soups]\r\n",
        "tokenized[0]"
      ],
      "execution_count": null,
      "outputs": []
    },
    {
      "cell_type": "markdown",
      "metadata": {
        "id": "vcoMsb_sPsIx"
      },
      "source": [
        "### Train a Markov chain model for each tokenized address and generate 5 sentences based on the language used for each one."
      ]
    },
    {
      "cell_type": "code",
      "metadata": {
        "id": "BFOm-2JAPsIy"
      },
      "source": [
        "def train_markov(soups):\r\n",
        "  for soup in soups:\r\n",
        "    model = markovify.Text(soup, state_size=4)\r\n",
        "    for i in range(5):\r\n",
        "      print(model.make_short_sentence(max_chars=200, min_chars=30, tries=100), '\\n')\r\n",
        "    print('---------------------------')"
      ],
      "execution_count": 30,
      "outputs": []
    },
    {
      "cell_type": "code",
      "metadata": {
        "colab": {
          "base_uri": "https://localhost:8080/"
        },
        "id": "5Unw_YuvBjye",
        "outputId": "6188db5f-0f35-419d-a224-ca9055de9e64"
      },
      "source": [
        "train_markov(soups)"
      ],
      "execution_count": 33,
      "outputs": [
        {
          "output_type": "stream",
          "text": [
            "It is gratifying to know that the patriotism of the people has placed at the disposal of the Government the whole of their limited acquisitions. \n",
            "\n",
            "In the exercise of my best discretion I have adhered to the act of Congress to confiscate property used for insurrectionary purposes. \n",
            "\n",
            "I respectfully recommend to the consideration of Congress the interests of the District of Columbia. \n",
            "\n",
            "I respectfully refer to the report of the Secretary of War, expressed in his report, upon the same general subject. \n",
            "\n",
            "On this whole proposition, including the appropriation of money beyond that to be expended in the territorial acquisition. \n",
            "\n",
            "---------------------------\n",
            "The anarchist, and especially the anarchist in the United States, the product of this period. \n",
            "\n",
            "We have now reached the point in the development of every region over which our flag has flown. \n",
            "\n",
            "Provisions have been made for insuring the future safety of foreigners and for the suppression of violence against them. \n",
            "\n",
            "The cause of his criminality is to be found in the international commercial conditions of to-day. \n",
            "\n",
            "The death of Queen Victoria caused the people of the West for their protection and extension. \n",
            "\n",
            "---------------------------\n",
            "The steps we took last year to shore up the same banks that helped cause this crisis. \n",
            "\n",
            "There are projects like that all across this country have faced this year. \n",
            "\n",
            "I'm absolutely convinced that was the right thing to do for our future -– because the nation that leads the global economy. \n",
            "\n",
            "There are projects like that all across this country have faced this year. \n",
            "\n",
            "That's why I urge the Senate to follow the House and pass a bill that helps to correct some of these problems. \n",
            "\n",
            "---------------------------\n"
          ],
          "name": "stdout"
        }
      ]
    },
    {
      "cell_type": "markdown",
      "metadata": {
        "id": "wxM3DVddPsI0"
      },
      "source": [
        "### Add part of speech tags to the Markov chain model and regenerate 5 sentences for each address."
      ]
    },
    {
      "cell_type": "code",
      "metadata": {
        "id": "tUBHXvZ5PsI1"
      },
      "source": [
        "class POSifiedText(markovify.Text):\r\n",
        "    def word_split(self, sentence):\r\n",
        "        words = re.split(self.word_split_pattern, sentence)\r\n",
        "        words = [ \"::\".join(tag) for tag in nltk.pos_tag(words) ]\r\n",
        "        return words\r\n",
        "\r\n",
        "    def word_join(self, words):\r\n",
        "        sentence = \" \".join(word.split(\"::\")[0] for word in words)\r\n",
        "        return sentence"
      ],
      "execution_count": 32,
      "outputs": []
    },
    {
      "cell_type": "code",
      "metadata": {
        "id": "a1VZBgnqCQQD"
      },
      "source": [
        "def train_POS_markov(soups):\r\n",
        "  for soup in soups:\r\n",
        "    model = POSifiedText(soup, state_size=4)\r\n",
        "    for i in range(5):\r\n",
        "      print(model.make_short_sentence(max_chars=200, min_chars=30, tries=100), '\\n')\r\n",
        "    print('---------------------------')"
      ],
      "execution_count": 35,
      "outputs": []
    },
    {
      "cell_type": "code",
      "metadata": {
        "colab": {
          "base_uri": "https://localhost:8080/"
        },
        "id": "9xnueKH9DJlK",
        "outputId": "37b08c9d-53b8-4792-e11b-69c50281d58f"
      },
      "source": [
        "train_POS_markov(soups)"
      ],
      "execution_count": 38,
      "outputs": [
        {
          "output_type": "stream",
          "text": [
            "On this whole proposition, including the appropriation of money beyond that to be expended in the territorial acquisition. \n",
            "\n",
            "I respectfully refer to the report of the Secretary of War, expressed in his report, upon the same general subject. \n",
            "\n",
            "I respectfully recommend to the consideration of Congress the interests of the District of Columbia. \n",
            "\n",
            "In the exercise of my best discretion I have adhered to the act of Congress to confiscate property used for insurrectionary purposes. \n",
            "\n",
            "If useful, no State should be denied them; if not useful, no State should be denied them; if not useful, no State should have them. \n",
            "\n",
            "---------------------------\n",
            "The cause of his criminality is to be found in the international commercial conditions of to-day. \n",
            "\n",
            "Provisions have been made for insuring the future safety of foreigners and for the suppression of violence against them. \n",
            "\n",
            "Action should be taken in reference to the laws relating thereto. \n",
            "\n",
            "Action should be taken in reference to the laws relating thereto. \n",
            "\n",
            "The anarchist, and especially the anarchist in the United States, the product of this period. \n",
            "\n",
            "---------------------------\n",
            "That's why I urge the Senate to follow the House and pass a bill that helps to correct some of these problems. \n",
            "\n",
            "There are projects like that all across this country have faced this year. \n",
            "\n",
            "You can see the results of last year's investments in clean energy because they want those jobs. \n",
            "\n",
            "The steps we took last year to shore up the same banks that helped cause this crisis. \n",
            "\n",
            "That's why I urge the Senate to follow the House and pass a bill that helps to correct some of these problems. \n",
            "\n",
            "---------------------------\n"
          ],
          "name": "stdout"
        }
      ]
    },
    {
      "cell_type": "code",
      "metadata": {
        "id": "Q6qrfDhYDPgg"
      },
      "source": [
        ""
      ],
      "execution_count": null,
      "outputs": []
    }
  ]
}