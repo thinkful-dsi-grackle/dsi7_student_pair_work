{
  "nbformat": 4,
  "nbformat_minor": 0,
  "metadata": {
    "kernelspec": {
      "display_name": "Python 3",
      "language": "python",
      "name": "python3"
    },
    "language_info": {
      "codemirror_mode": {
        "name": "ipython",
        "version": 3
      },
      "file_extension": ".py",
      "mimetype": "text/x-python",
      "name": "python",
      "nbconvert_exporter": "python",
      "pygments_lexer": "ipython3",
      "version": "3.7.2"
    },
    "colab": {
      "name": "kALIKA Day 74, Lecture 2: Assignment.ipynb",
      "provenance": [],
      "collapsed_sections": []
    }
  },
  "cells": [
    {
      "cell_type": "markdown",
      "metadata": {
        "id": "MpAM5or7MJg8"
      },
      "source": [
        "# Machine Learning on Text: Clustering Assignment"
      ]
    },
    {
      "cell_type": "code",
      "metadata": {
        "id": "Nw7-5JgzMJg9",
        "colab": {
          "base_uri": "https://localhost:8080/"
        },
        "outputId": "31b048d9-037f-4f47-de96-7a18f4113760"
      },
      "source": [
        "import pandas as pd\n",
        "from nltk import word_tokenize\n",
        "from nltk.corpus import stopwords\n",
        "from nltk.stem.snowball import SnowballStemmer\n",
        "from nltk.stem.wordnet import WordNetLemmatizer\n",
        "from nltk.corpus.reader.plaintext import PlaintextCorpusReader\n",
        "from sklearn.cluster import KMeans\n",
        "from sklearn.cluster import AgglomerativeClustering\n",
        "from sklearn.feature_extraction.text import TfidfVectorizer\n",
        "import matplotlib.pyplot as plt\n",
        "from yellowbrick.cluster import KElbowVisualizer"
      ],
      "execution_count": 1,
      "outputs": [
        {
          "output_type": "stream",
          "text": [
            "/usr/local/lib/python3.6/dist-packages/sklearn/utils/deprecation.py:144: FutureWarning: The sklearn.metrics.classification module is  deprecated in version 0.22 and will be removed in version 0.24. The corresponding classes / functions should instead be imported from sklearn.metrics. Anything that cannot be imported from sklearn.metrics is now part of the private API.\n",
            "  warnings.warn(message, FutureWarning)\n"
          ],
          "name": "stderr"
        }
      ]
    },
    {
      "cell_type": "markdown",
      "metadata": {
        "id": "W7IzBzLsMJhA"
      },
      "source": [
        "### Ingest the company_profiles data set into a corpus."
      ]
    },
    {
      "cell_type": "code",
      "metadata": {
        "id": "u-u8MsfKMJhB"
      },
      "source": [
        "DOC_PATTERN = r'.*\\.txt'\r\n",
        "path = '/content/drive/MyDrive/content/AP_News'\r\n",
        "corpus = PlaintextCorpusReader(path, DOC_PATTERN)"
      ],
      "execution_count": 3,
      "outputs": []
    },
    {
      "cell_type": "markdown",
      "metadata": {
        "id": "evt_VveIMJhD"
      },
      "source": [
        "### Create a list of documents by extracting the raw text for each fileid in the corpus."
      ]
    },
    {
      "cell_type": "code",
      "metadata": {
        "id": "0Q0T6d2TMJhD"
      },
      "source": [
        "docs = [corpus.raw(fileid) for fileid in corpus.fileids()]"
      ],
      "execution_count": 4,
      "outputs": []
    },
    {
      "cell_type": "markdown",
      "metadata": {
        "id": "2L98OWhMMJhG"
      },
      "source": [
        "### Preprocess the documents, including the steps below.\n",
        "\n",
        "- Word tokenize the document.\n",
        "- Lowercase all tokens.\n",
        "- Lemmatize and stem the tokens.\n",
        "- Remove stop words and punctuation."
      ]
    },
    {
      "cell_type": "code",
      "metadata": {
        "id": "XJGYG2L_MJhG",
        "colab": {
          "base_uri": "https://localhost:8080/"
        },
        "outputId": "b4fdd822-e241-42df-b675-acd8c06edb97"
      },
      "source": [
        "import nltk\r\n",
        "nltk.download('stopwords')\r\n",
        "nltk.download('punkt')\r\n",
        "nltk.download('wordnet')\r\n",
        "def preprocess(docs):\r\n",
        "  lemmatizer = WordNetLemmatizer()\r\n",
        "  stemmer = SnowballStemmer('english')\r\n",
        "  preprocessed = []\r\n",
        "\r\n",
        "  for doc in docs:\r\n",
        "    tokenized = word_tokenize(doc)\r\n",
        "\r\n",
        "    cleaned = [stemmer.stem(lemmatizer.lemmatize(token.lower()))\r\n",
        "               for token in tokenized\r\n",
        "               if not token.lower() in stopwords.words('english')\r\n",
        "               if token.isalpha()]\r\n",
        "\r\n",
        "    untokenized = \" \".join(cleaned)\r\n",
        "    preprocessed.append(untokenized)\r\n",
        "\r\n",
        "  return preprocessed"
      ],
      "execution_count": 6,
      "outputs": [
        {
          "output_type": "stream",
          "text": [
            "[nltk_data] Downloading package stopwords to /root/nltk_data...\n",
            "[nltk_data]   Unzipping corpora/stopwords.zip.\n",
            "[nltk_data] Downloading package punkt to /root/nltk_data...\n",
            "[nltk_data]   Unzipping tokenizers/punkt.zip.\n",
            "[nltk_data] Downloading package wordnet to /root/nltk_data...\n",
            "[nltk_data]   Unzipping corpora/wordnet.zip.\n"
          ],
          "name": "stdout"
        }
      ]
    },
    {
      "cell_type": "code",
      "metadata": {
        "id": "Wfajtsv2Vvr1"
      },
      "source": [
        "preprocessed = preprocess(docs)"
      ],
      "execution_count": 8,
      "outputs": []
    },
    {
      "cell_type": "markdown",
      "metadata": {
        "id": "sw3HvSNuMJhI"
      },
      "source": [
        "### TF-IDF vectorize the preprocessed documents."
      ]
    },
    {
      "cell_type": "code",
      "metadata": {
        "id": "kYFXymYtMJhJ"
      },
      "source": [
        "from sklearn.feature_extraction.text import TfidfVectorizer\r\n",
        "vectorizer = TfidfVectorizer()\r\n",
        "vectorized = vectorizer.fit_transform(preprocessed)"
      ],
      "execution_count": 11,
      "outputs": []
    },
    {
      "cell_type": "markdown",
      "metadata": {
        "id": "4F3w9-n7MJhL"
      },
      "source": [
        "### Determine the optimal number of clusters using the Yellowbrick library's KElbow Visualizer and a KMeans clustering algorithm."
      ]
    },
    {
      "cell_type": "code",
      "metadata": {
        "id": "xDBdUa03MJhM",
        "colab": {
          "base_uri": "https://localhost:8080/",
          "height": 355
        },
        "outputId": "8c14a151-9fc7-42df-e269-7fad889f6a95"
      },
      "source": [
        "model = KMeans(n_clusters=5)\r\n",
        "clusters = model.fit_predict(vectorized)\r\n",
        "visualizer = KElbowVisualizer(model, k=(4,20), metric='silhouette')\r\n",
        "visualizer.fit(vectorized)"
      ],
      "execution_count": 15,
      "outputs": [
        {
          "output_type": "stream",
          "text": [
            "/usr/local/lib/python3.6/dist-packages/sklearn/base.py:197: FutureWarning: From version 0.24, get_params will raise an AttributeError if a parameter cannot be retrieved as an instance attribute. Previously it would return None.\n",
            "  FutureWarning)\n"
          ],
          "name": "stderr"
        },
        {
          "output_type": "execute_result",
          "data": {
            "text/plain": [
              "KElbowVisualizer(ax=<matplotlib.axes._subplots.AxesSubplot object at 0x7f276456dcc0>,\n",
              "                 k=None, metric=None, model=None, timings=True)"
            ]
          },
          "metadata": {
            "tags": []
          },
          "execution_count": 15
        },
        {
          "output_type": "display_data",
          "data": {
            "image/png": "[encoded data removed]",
            "text/plain": [
              "<Figure size 432x288 with 2 Axes>"
            ]
          },
          "metadata": {
            "tags": [],
            "needs_background": "light"
          }
        }
      ]
    },
    {
      "cell_type": "markdown",
      "metadata": {
        "id": "QIurKlo-MJhP"
      },
      "source": [
        "### Perform K-Means Clustering using the optimal number of clusters determine in the previous step."
      ]
    },
    {
      "cell_type": "code",
      "metadata": {
        "id": "jd0DuxrKMJhP"
      },
      "source": [
        "model = KMeans(n_clusters = 20)\r\n",
        "clusters = model.fit_predict(vectorized)"
      ],
      "execution_count": 18,
      "outputs": []
    },
    {
      "cell_type": "markdown",
      "metadata": {
        "id": "XzlVKvK1MJhR"
      },
      "source": [
        "### Perform Agglomerative Clustering using the same number of clusters."
      ]
    },
    {
      "cell_type": "code",
      "metadata": {
        "id": "yXa_ofOOMJhS"
      },
      "source": [
        "model = AgglomerativeClustering(n_clusters=20)\r\n",
        "agg_clusters = model.fit_predict(vectorized.toarray())"
      ],
      "execution_count": 23,
      "outputs": []
    },
    {
      "cell_type": "markdown",
      "metadata": {
        "id": "tFlkG5TyMJhU"
      },
      "source": [
        "### Choose one of the three topic modeling approaches covered. Cluster into the optimal number of clusters and extract 5 keywords that represent the documents in each cluster."
      ]
    },
    {
      "cell_type": "code",
      "metadata": {
        "id": "29jDpqjAMJhV"
      },
      "source": [
        "from sklearn.decomposition import NMF\r\n",
        "num_keywords = 5\r\n",
        "num_topics = 20\r\n",
        "\r\n",
        "model = NMF(n_components=num_topics)\r\n",
        "\r\n",
        "model.fit_transform(vectorized)\r\n",
        "\r\n",
        "results = [[(vectorizer.get_feature_names()[i], topic[i])\r\n",
        "            for i in topic.argsort()[:-num_keywords - 1:-1]]\r\n",
        "           for topic in model.components_]\r\n",
        "\r\n",
        "topics = [[x[0] for x in i] for i in results]"
      ],
      "execution_count": 26,
      "outputs": []
    },
    {
      "cell_type": "code",
      "metadata": {
        "colab": {
          "base_uri": "https://localhost:8080/"
        },
        "id": "H911LksnbqlF",
        "outputId": "1ca7396e-3556-44b8-f8fe-316c7ad17648"
      },
      "source": [
        "topics"
      ],
      "execution_count": 27,
      "outputs": [
        {
          "output_type": "execute_result",
          "data": {
            "text/plain": [
              "[['trump', 'ukrain', 'hous', 'committe', 'democrat'],\n",
              " ['yard', 'game', 'touchdown', 'nfl', 'pas'],\n",
              " ['compani', 'amazon', 'said', 'onlin', 'govern'],\n",
              " ['rose', 'trade', 'stock', 'fell', 'point'],\n",
              " ['market', 'analysi', 'global', 'forecast', 'tenni'],\n",
              " ['bloomberg', 'woman', 'sander', 'candid', 'democrat'],\n",
              " ['student', 'school', 'campus', 'univers', 'counselor'],\n",
              " ['buttigieg', 'peter', 'school', 'kid', 'friend'],\n",
              " ['vape', 'flavor', 'ban', 'product', 'tobacco'],\n",
              " ['navi', 'gallagh', 'spencer', 'esper', 'seal'],\n",
              " ['ohio', 'state', 'buckey', 'penn', 'game'],\n",
              " ['outbreak', 'vaccin', 'health', 'romain', 'case'],\n",
              " ['patient', 'doctor', 'ai', 'artifici', 'program'],\n",
              " ['uber', 'driver', 'london', 'safeti', 'passeng'],\n",
              " ['internet', 'iran', 'iranian', 'govern', 'violenc'],\n",
              " ['epstein', 'said', 'prison', 'jail', 'kill'],\n",
              " ['team', 'leagu', 'win', 'mourinho', 'birdi'],\n",
              " ['mental', 'harri', 'health', 'treatment', 'plan'],\n",
              " ['penni', 'syria', 'kurdish', 'syrian', 'iraq'],\n",
              " ['biden', 'democrat', 'vilsack', 'presid', 'titus']]"
            ]
          },
          "metadata": {
            "tags": []
          },
          "execution_count": 27
        }
      ]
    },
    {
      "cell_type": "code",
      "metadata": {
        "id": "nlTGe79Rb2A3"
      },
      "source": [
        ""
      ],
      "execution_count": null,
      "outputs": []
    }
  ]
}