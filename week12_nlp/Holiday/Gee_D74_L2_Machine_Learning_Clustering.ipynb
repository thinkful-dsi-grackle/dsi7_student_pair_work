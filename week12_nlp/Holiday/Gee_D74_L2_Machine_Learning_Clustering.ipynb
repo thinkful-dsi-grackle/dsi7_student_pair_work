{
  "nbformat": 4,
  "nbformat_minor": 0,
  "metadata": {
    "kernelspec": {
      "display_name": "Python 3",
      "language": "python",
      "name": "python3"
    },
    "language_info": {
      "codemirror_mode": {
        "name": "ipython",
        "version": 3
      },
      "file_extension": ".py",
      "mimetype": "text/x-python",
      "name": "python",
      "nbconvert_exporter": "python",
      "pygments_lexer": "ipython3",
      "version": "3.7.2"
    },
    "colab": {
      "name": "Gee_D74_L2_Machine_Learning_Clustering.ipynb",
      "provenance": [],
      "collapsed_sections": []
    }
  },
  "cells": [
    {
      "cell_type": "markdown",
      "metadata": {
        "id": "MpAM5or7MJg8"
      },
      "source": [
        "# Machine Learning on Text: Clustering Assignment"
      ]
    },
    {
      "cell_type": "code",
      "metadata": {
        "colab": {
          "base_uri": "https://localhost:8080/"
        },
        "id": "0c-fSze2p0cv",
        "outputId": "eafa34b4-787c-467b-b051-960d7e376d70"
      },
      "source": [
        "from google.colab import drive\n",
        "drive.mount('/content/drive')"
      ],
      "execution_count": 1,
      "outputs": [
        {
          "output_type": "stream",
          "text": [
            "Mounted at /content/drive\n"
          ],
          "name": "stdout"
        }
      ]
    },
    {
      "cell_type": "code",
      "metadata": {
        "id": "Nw7-5JgzMJg9"
      },
      "source": [
        "import pandas as pd\n",
        "from nltk import word_tokenize\n",
        "from nltk.corpus import stopwords\n",
        "from nltk.stem.snowball import SnowballStemmer\n",
        "from nltk.stem.wordnet import WordNetLemmatizer\n",
        "from nltk.corpus.reader.plaintext import PlaintextCorpusReader\n",
        "from sklearn.cluster import KMeans\n",
        "from sklearn.cluster import AgglomerativeClustering\n",
        "from sklearn.feature_extraction.text import TfidfVectorizer, CountVectorizer\n",
        "import matplotlib.pyplot as plt\n",
        "from yellowbrick.cluster import KElbowVisualizer"
      ],
      "execution_count": 28,
      "outputs": []
    },
    {
      "cell_type": "code",
      "metadata": {
        "colab": {
          "base_uri": "https://localhost:8080/"
        },
        "id": "sr_yiOpSqCTD",
        "outputId": "099deb86-c935-4306-df28-02dc38c26346"
      },
      "source": [
        "import nltk\r\n",
        "nltk.download('punkt')\r\n",
        "nltk.download('stopwords')\r\n",
        "nltk.download('wordnet')"
      ],
      "execution_count": 4,
      "outputs": [
        {
          "output_type": "stream",
          "text": [
            "[nltk_data] Downloading package punkt to /root/nltk_data...\n",
            "[nltk_data]   Unzipping tokenizers/punkt.zip.\n",
            "[nltk_data] Downloading package stopwords to /root/nltk_data...\n",
            "[nltk_data]   Unzipping corpora/stopwords.zip.\n",
            "[nltk_data] Downloading package wordnet to /root/nltk_data...\n",
            "[nltk_data]   Unzipping corpora/wordnet.zip.\n"
          ],
          "name": "stdout"
        },
        {
          "output_type": "execute_result",
          "data": {
            "text/plain": [
              "True"
            ]
          },
          "metadata": {
            "tags": []
          },
          "execution_count": 4
        }
      ]
    },
    {
      "cell_type": "markdown",
      "metadata": {
        "id": "W7IzBzLsMJhA"
      },
      "source": [
        "### Ingest the company_profiles data set into a corpus."
      ]
    },
    {
      "cell_type": "code",
      "metadata": {
        "id": "u-u8MsfKMJhB"
      },
      "source": [
        "PATH = '/content/drive/MyDrive/python_for_data_scientists/company_profiles'\r\n",
        "\r\n",
        "DOC_PATTERN = r'.*\\.txt'\r\n",
        "#CAT_PATTERN = r'([\\w_\\s]+)/.*'\r\n",
        "\r\n",
        "corpus = PlaintextCorpusReader(PATH, DOC_PATTERN)#, cat_pattern=CAT_PATTERN)"
      ],
      "execution_count": 5,
      "outputs": []
    },
    {
      "cell_type": "markdown",
      "metadata": {
        "id": "evt_VveIMJhD"
      },
      "source": [
        "### Create a list of documents by extracting the raw text for each fileid in the corpus."
      ]
    },
    {
      "cell_type": "code",
      "metadata": {
        "id": "0Q0T6d2TMJhD"
      },
      "source": [
        "docs = [corpus.raw(fileid) for fileid in corpus.fileids()]"
      ],
      "execution_count": 6,
      "outputs": []
    },
    {
      "cell_type": "markdown",
      "metadata": {
        "id": "2L98OWhMMJhG"
      },
      "source": [
        "### Preprocess the documents, including the steps below.\n",
        "\n",
        "- Word tokenize the document.\n",
        "- Lowercase all tokens.\n",
        "- Lemmatize and stem the tokens.\n",
        "- Remove stop words and punctuation."
      ]
    },
    {
      "cell_type": "code",
      "metadata": {
        "id": "XJGYG2L_MJhG"
      },
      "source": [
        "def preprocess(docs):\r\n",
        "  lemmatizer = WordNetLemmatizer()\r\n",
        "  stemmer = SnowballStemmer('english')\r\n",
        "  preprocessed = []\r\n",
        "\r\n",
        "  for doc in docs:\r\n",
        "    tokenized = word_tokenize(doc)\r\n",
        "    cleaned = [stemmer.stem(lemmatizer.lemmatize(token.lower())) \r\n",
        "               for token in tokenized \r\n",
        "               if not token.lower() in stopwords.words('english') \r\n",
        "               if token.isalpha()]\r\n",
        "\r\n",
        "    untokenized = ' '.join(cleaned)\r\n",
        "    preprocessed.append(untokenized)\r\n",
        "  return preprocessed"
      ],
      "execution_count": 7,
      "outputs": []
    },
    {
      "cell_type": "code",
      "metadata": {
        "id": "oqUE0AD1sljM"
      },
      "source": [
        "good_to_go = preprocess(docs)"
      ],
      "execution_count": 8,
      "outputs": []
    },
    {
      "cell_type": "markdown",
      "metadata": {
        "id": "sw3HvSNuMJhI"
      },
      "source": [
        "### TF-IDF vectorize the preprocessed documents."
      ]
    },
    {
      "cell_type": "code",
      "metadata": {
        "id": "kYFXymYtMJhJ"
      },
      "source": [
        "vectorizer = TfidfVectorizer()\r\n",
        "vectors = vectorizer.fit_transform(good_to_go)"
      ],
      "execution_count": 10,
      "outputs": []
    },
    {
      "cell_type": "markdown",
      "metadata": {
        "id": "4F3w9-n7MJhL"
      },
      "source": [
        "### Determine the optimal number of clusters using the Yellowbrick library's KElbow Visualizer and a KMeans clustering algorithm."
      ]
    },
    {
      "cell_type": "code",
      "metadata": {
        "id": "Db4ZlMXWvaPs"
      },
      "source": [
        "from pylab import rcParams\r\n",
        "rcParams['figure.figsize'] = 14, 8"
      ],
      "execution_count": 11,
      "outputs": []
    },
    {
      "cell_type": "code",
      "metadata": {
        "id": "xDBdUa03MJhM"
      },
      "source": [
        "kmean = KMeans()\r\n",
        "#clus = kmean.fit_predict(vectors)"
      ],
      "execution_count": 13,
      "outputs": []
    },
    {
      "cell_type": "code",
      "metadata": {
        "colab": {
          "base_uri": "https://localhost:8080/",
          "height": 475
        },
        "id": "VNGiEbqUvV_V",
        "outputId": "35a5b345-fe89-42b1-8d59-cd9c5001927d"
      },
      "source": [
        "visualizer = KElbowVisualizer(kmean, k=(5,20), metric='silhouette')\r\n",
        "visualizer.fit(vectors)\r\n",
        "#visualizer.show()"
      ],
      "execution_count": 17,
      "outputs": [
        {
          "output_type": "stream",
          "text": [
            "/usr/local/lib/python3.6/dist-packages/sklearn/base.py:197: FutureWarning: From version 0.24, get_params will raise an AttributeError if a parameter cannot be retrieved as an instance attribute. Previously it would return None.\n",
            "  FutureWarning)\n"
          ],
          "name": "stderr"
        },
        {
          "output_type": "execute_result",
          "data": {
            "text/plain": [
              "KElbowVisualizer(ax=<matplotlib.axes._subplots.AxesSubplot object at 0x7fedb1303da0>,\n",
              "                 k=None, metric=None, model=None, timings=True)"
            ]
          },
          "metadata": {
            "tags": []
          },
          "execution_count": 17
        },
        {
          "output_type": "display_data",
          "data": {
            "image/png": "[encoded data removed]",
            "text/plain": [
              "<Figure size 1008x576 with 2 Axes>"
            ]
          },
          "metadata": {
            "tags": []
          }
        }
      ]
    },
    {
      "cell_type": "markdown",
      "metadata": {
        "id": "QIurKlo-MJhP"
      },
      "source": [
        "### Perform K-Means Clustering using the optimal number of clusters determine in the previous step."
      ]
    },
    {
      "cell_type": "code",
      "metadata": {
        "id": "jd0DuxrKMJhP"
      },
      "source": [
        "kmean = KMeans(n_clusters= 11)\r\n",
        "clus_kmean = kmean.fit_predict(vectors)"
      ],
      "execution_count": 19,
      "outputs": []
    },
    {
      "cell_type": "markdown",
      "metadata": {
        "id": "XzlVKvK1MJhR"
      },
      "source": [
        "### Perform Agglomerative Clustering using the same number of clusters."
      ]
    },
    {
      "cell_type": "code",
      "metadata": {
        "id": "yXa_ofOOMJhS"
      },
      "source": [
        "agg = AgglomerativeClustering(n_clusters= 11)\r\n",
        "clus_agg = agg.fit_predict(vectors.toarray())"
      ],
      "execution_count": 21,
      "outputs": []
    },
    {
      "cell_type": "markdown",
      "metadata": {
        "id": "tFlkG5TyMJhU"
      },
      "source": [
        "### Choose one of the three topic modeling approaches covered. Cluster into the optimal number of clusters and extract 5 keywords that represent the documents in each cluster."
      ]
    },
    {
      "cell_type": "code",
      "metadata": {
        "id": "2Ct1jlTqDwNJ"
      },
      "source": [
        "num_keywords = 5\r\n",
        "num_topics = 11"
      ],
      "execution_count": 22,
      "outputs": []
    },
    {
      "cell_type": "markdown",
      "metadata": {
        "id": "oV7mfe4dCLXt"
      },
      "source": [
        "Non-Negative Matrix Factorization"
      ]
    },
    {
      "cell_type": "code",
      "metadata": {
        "id": "29jDpqjAMJhV"
      },
      "source": [
        "from sklearn.decomposition import NMF\r\n",
        "\r\n",
        "vectorizer = TfidfVectorizer()\r\n",
        "model_NMF = NMF(n_components = num_topics) \r\n",
        "\r\n",
        "vectors = vectorizer.fit_transform(good_to_go)\r\n",
        "model_NMF.fit_transform(vectors)\r\n",
        "\r\n",
        "results = [[(vectorizer.get_feature_names()[i], topic[i])\r\n",
        "             for i in topic.argsort()[:-num_keywords - 1: -1]]\r\n",
        "             for topic in model_NMF.components_]\r\n",
        "\r\n",
        "topics = [[x[0] for x in i] for i in results]      "
      ],
      "execution_count": 25,
      "outputs": []
    },
    {
      "cell_type": "code",
      "metadata": {
        "colab": {
          "base_uri": "https://localhost:8080/"
        },
        "id": "yRThwtG5Jiz6",
        "outputId": "5564d9f0-4319-4b84-fe55-4102de584887"
      },
      "source": [
        "topics"
      ],
      "execution_count": 26,
      "outputs": [
        {
          "output_type": "execute_result",
          "data": {
            "text/plain": [
              "[['loan', 'bank', 'deposit', 'account', 'commerci'],\n",
              " ['servic', 'manag', 'segment', 'provid', 'financi'],\n",
              " ['oil', 'gas', 'natur', 'texa', 'crude'],\n",
              " ['fund', 'invest', 'equiti', 'incom', 'stock'],\n",
              " ['treatment', 'phase', 'clinic', 'trial', 'develop'],\n",
              " ['product', 'system', 'manufactur', 'industri', 'segment'],\n",
              " ['insur', 'life', 'liabil', 'product', 'casualti'],\n",
              " ['store', 'brand', 'product', 'retail', 'oper'],\n",
              " ['real', 'properti', 'estat', 'invest', 'trust'],\n",
              " ['solut', 'softwar', 'data', 'network', 'communic'],\n",
              " ['electr', 'gas', 'generat', 'energi', 'power']]"
            ]
          },
          "metadata": {
            "tags": []
          },
          "execution_count": 26
        }
      ]
    },
    {
      "cell_type": "markdown",
      "metadata": {
        "id": "uunUn7J2CRAM"
      },
      "source": [
        "Latent Dirichlet Allocation (LDA)"
      ]
    },
    {
      "cell_type": "code",
      "metadata": {
        "id": "SQI5BEorAPCD"
      },
      "source": [
        "from sklearn.decomposition import LatentDirichletAllocation\r\n",
        "\r\n",
        "vectorizer_ = CountVectorizer()\r\n",
        "model_LDA = LatentDirichletAllocation(n_components = num_topics, learning_method='online')\r\n",
        "\r\n",
        "vectors_ = vectorizer_.fit_transform(good_to_go)\r\n",
        "model_LDA.fit_transform(vectors_)\r\n",
        "\r\n",
        "results_ = [[(vectorizer_.get_feature_names()[i], topic[i])\r\n",
        "             for i in topic.argsort()[:-num_keywords - 1: -1]]\r\n",
        "             for topic in model_LDA.components_]\r\n",
        "\r\n",
        "topics_ = [[x[0] for x in i] for i in results_]"
      ],
      "execution_count": 29,
      "outputs": []
    },
    {
      "cell_type": "code",
      "metadata": {
        "colab": {
          "base_uri": "https://localhost:8080/"
        },
        "id": "aRhfNtk9J1xp",
        "outputId": "6f65f7bb-eb90-4563-f5e6-d94779aae640"
      },
      "source": [
        "topics_"
      ],
      "execution_count": 31,
      "outputs": [
        {
          "output_type": "execute_result",
          "data": {
            "text/plain": [
              "[['madden', 'threat', 'wolverin', 'splunk', 'alto'],\n",
              " ['servic', 'compani', 'provid', 'manag', 'loan'],\n",
              " ['compani', 'develop', 'product', 'treatment', 'clinic'],\n",
              " ['inhibitor', 'railcar', 'commerci', 'growth', 'ii'],\n",
              " ['product', 'compani', 'segment', 'system', 'manufactur'],\n",
              " ['water', 'wastewat', 'rehabilit', 'trex', 'pipelin'],\n",
              " ['compani', 'oper', 'store', 'brand', 'state'],\n",
              " ['wast', 'coal', 'dispos', 'recycl', 'landfil'],\n",
              " ['hotspot', 'sinus', 'cabaret', 'ooma', 'fitbit'],\n",
              " ['fruit', 'fresh', 'qad', 'veget', 'flower'],\n",
              " ['educ', 'learn', 'patent', 'student', 'school']]"
            ]
          },
          "metadata": {
            "tags": []
          },
          "execution_count": 31
        }
      ]
    },
    {
      "cell_type": "markdown",
      "metadata": {
        "id": "b2Ol79Z4DOoS"
      },
      "source": [
        "Latent Semantic Analysis (LSA)"
      ]
    },
    {
      "cell_type": "code",
      "metadata": {
        "id": "8cDrNhxHAO7q"
      },
      "source": [
        "from sklearn.decomposition import TruncatedSVD\r\n",
        "\r\n",
        "vectorizer__ = TfidfVectorizer()\r\n",
        "model_LSA = TruncatedSVD(n_components = num_topics)\r\n",
        "\r\n",
        "vectors__ = vectorizer__.fit_transform(good_to_go)\r\n",
        "model_LSA.fit_transform(vectors__)\r\n",
        "\r\n",
        "results__ = [[(vectorizer__.get_feature_names()[i], topic[i])\r\n",
        "             for i in topic.argsort()[:-num_keywords - 1: -1]]\r\n",
        "             for topic in model_LSA.components_]\r\n",
        "\r\n",
        "topics__ = [[x[0] for x in i] for i in results__]"
      ],
      "execution_count": 30,
      "outputs": []
    },
    {
      "cell_type": "code",
      "metadata": {
        "colab": {
          "base_uri": "https://localhost:8080/"
        },
        "id": "MHYBjY1tJ3gr",
        "outputId": "9234b48f-1e2a-4669-8ef5-061260f5ed79"
      },
      "source": [
        "topics__"
      ],
      "execution_count": 32,
      "outputs": [
        {
          "output_type": "execute_result",
          "data": {
            "text/plain": [
              "[['loan', 'servic', 'bank', 'compani', 'product'],\n",
              " ['loan', 'bank', 'deposit', 'account', 'estat'],\n",
              " ['gas', 'natur', 'oil', 'energi', 'texa'],\n",
              " ['invest', 'fund', 'incom', 'manag', 'equiti'],\n",
              " ['treatment', 'phase', 'clinic', 'trial', 'develop'],\n",
              " ['servic', 'manag', 'insur', 'solut', 'gas'],\n",
              " ['insur', 'store', 'product', 'properti', 'liabil'],\n",
              " ['insur', 'segment', 'life', 'liabil', 'system'],\n",
              " ['properti', 'real', 'estat', 'insur', 'reit'],\n",
              " ['servic', 'electr', 'segment', 'generat', 'facil'],\n",
              " ['electr', 'insur', 'power', 'generat', 'distribut']]"
            ]
          },
          "metadata": {
            "tags": []
          },
          "execution_count": 32
        }
      ]
    },
    {
      "cell_type": "code",
      "metadata": {
        "colab": {
          "base_uri": "https://localhost:8080/"
        },
        "id": "k881n5fcKAeo",
        "outputId": "cb8ab41b-0d7d-40a6-979d-c0d55962df61"
      },
      "source": [
        "print(topics)\r\n",
        "print(topics_)\r\n",
        "print(topics__)"
      ],
      "execution_count": 33,
      "outputs": [
        {
          "output_type": "stream",
          "text": [
            "[['loan', 'bank', 'deposit', 'account', 'commerci'], ['servic', 'manag', 'segment', 'provid', 'financi'], ['oil', 'gas', 'natur', 'texa', 'crude'], ['fund', 'invest', 'equiti', 'incom', 'stock'], ['treatment', 'phase', 'clinic', 'trial', 'develop'], ['product', 'system', 'manufactur', 'industri', 'segment'], ['insur', 'life', 'liabil', 'product', 'casualti'], ['store', 'brand', 'product', 'retail', 'oper'], ['real', 'properti', 'estat', 'invest', 'trust'], ['solut', 'softwar', 'data', 'network', 'communic'], ['electr', 'gas', 'generat', 'energi', 'power']]\n",
            "[['madden', 'threat', 'wolverin', 'splunk', 'alto'], ['servic', 'compani', 'provid', 'manag', 'loan'], ['compani', 'develop', 'product', 'treatment', 'clinic'], ['inhibitor', 'railcar', 'commerci', 'growth', 'ii'], ['product', 'compani', 'segment', 'system', 'manufactur'], ['water', 'wastewat', 'rehabilit', 'trex', 'pipelin'], ['compani', 'oper', 'store', 'brand', 'state'], ['wast', 'coal', 'dispos', 'recycl', 'landfil'], ['hotspot', 'sinus', 'cabaret', 'ooma', 'fitbit'], ['fruit', 'fresh', 'qad', 'veget', 'flower'], ['educ', 'learn', 'patent', 'student', 'school']]\n",
            "[['loan', 'servic', 'bank', 'compani', 'product'], ['loan', 'bank', 'deposit', 'account', 'estat'], ['gas', 'natur', 'oil', 'energi', 'texa'], ['invest', 'fund', 'incom', 'manag', 'equiti'], ['treatment', 'phase', 'clinic', 'trial', 'develop'], ['servic', 'manag', 'insur', 'solut', 'gas'], ['insur', 'store', 'product', 'properti', 'liabil'], ['insur', 'segment', 'life', 'liabil', 'system'], ['properti', 'real', 'estat', 'insur', 'reit'], ['servic', 'electr', 'segment', 'generat', 'facil'], ['electr', 'insur', 'power', 'generat', 'distribut']]\n"
          ],
          "name": "stdout"
        }
      ]
    }
  ]
}