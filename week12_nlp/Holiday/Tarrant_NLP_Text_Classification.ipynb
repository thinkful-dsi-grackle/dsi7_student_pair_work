{
  "nbformat": 4,
  "nbformat_minor": 0,
  "metadata": {
    "kernelspec": {
      "display_name": "Python 3",
      "language": "python",
      "name": "python3"
    },
    "language_info": {
      "codemirror_mode": {
        "name": "ipython",
        "version": 3
      },
      "file_extension": ".py",
      "mimetype": "text/x-python",
      "name": "python",
      "nbconvert_exporter": "python",
      "pygments_lexer": "ipython3",
      "version": "3.7.2"
    },
    "colab": {
      "name": "Tarrant_NLP_Text_Classification.ipynb",
      "provenance": [],
      "collapsed_sections": []
    }
  },
  "cells": [
    {
      "cell_type": "markdown",
      "metadata": {
        "id": "F4I54bZzMImI"
      },
      "source": [
        "# Machine Learning: Text Classification Assignment"
      ]
    },
    {
      "cell_type": "code",
      "metadata": {
        "id": "NBhHdzKtMImK"
      },
      "source": [
        "from nltk import word_tokenize\n",
        "from nltk.corpus import stopwords\n",
        "from sklearn.pipeline import Pipeline\n",
        "from nltk.stem.snowball import SnowballStemmer\n",
        "from nltk.stem.wordnet import WordNetLemmatizer\n",
        "from sklearn.metrics import classification_report\n",
        "from sklearn.model_selection import cross_val_score\n",
        "from sklearn.ensemble import RandomForestClassifier\n",
        "from sklearn.feature_extraction.text import CountVectorizer\n",
        "from sklearn.feature_extraction.text import TfidfTransformer\n",
        "from sklearn.model_selection import train_test_split as tts\n",
        "from nltk.corpus.reader.plaintext import CategorizedPlaintextCorpusReader"
      ],
      "execution_count": null,
      "outputs": []
    },
    {
      "cell_type": "code",
      "metadata": {
        "colab": {
          "base_uri": "https://localhost:8080/"
        },
        "id": "12MgxlZvYqqm",
        "outputId": "daa14656-ab51-4d35-b43c-fc7ea637c35a"
      },
      "source": [
        "import nltk\n",
        "nltk.download('punkt')\n",
        "nltk.download('stopwords')\n",
        "nltk.download('wordnet')"
      ],
      "execution_count": null,
      "outputs": [
        {
          "output_type": "stream",
          "text": [
            "[nltk_data] Downloading package punkt to /root/nltk_data...\n",
            "[nltk_data]   Package punkt is already up-to-date!\n",
            "[nltk_data] Downloading package stopwords to /root/nltk_data...\n",
            "[nltk_data]   Package stopwords is already up-to-date!\n",
            "[nltk_data] Downloading package wordnet to /root/nltk_data...\n",
            "[nltk_data]   Unzipping corpora/wordnet.zip.\n"
          ],
          "name": "stdout"
        },
        {
          "output_type": "execute_result",
          "data": {
            "text/plain": [
              "True"
            ]
          },
          "metadata": {
            "tags": []
          },
          "execution_count": 16
        }
      ]
    },
    {
      "cell_type": "markdown",
      "metadata": {
        "id": "d2tVDJJaMImN"
      },
      "source": [
        "### Use the CategorizedPlaintextCorpusReader to import the AP_News corpus."
      ]
    },
    {
      "cell_type": "code",
      "metadata": {
        "colab": {
          "base_uri": "https://localhost:8080/"
        },
        "id": "hhQOFqP-UN-4",
        "outputId": "5594312a-a107-49e8-df50-beb8a9d115cb"
      },
      "source": [
        "from google.colab import drive\n",
        "drive.mount('/content/drive')"
      ],
      "execution_count": null,
      "outputs": [
        {
          "output_type": "stream",
          "text": [
            "Mounted at /content/drive\n"
          ],
          "name": "stdout"
        }
      ]
    },
    {
      "cell_type": "code",
      "metadata": {
        "id": "8jU4ZNM-MImQ"
      },
      "source": [
        "PATH = '/content/drive/MyDrive/Data/AP_News'\n",
        "\n",
        "DOC_PATTERN = r'.*\\.txt'\n",
        "CAT_PATTERN = r'([\\w_\\s]+).*'\n",
        "\n",
        "corpus = CategorizedPlaintextCorpusReader(PATH, DOC_PATTERN, cat_pattern = CAT_PATTERN)"
      ],
      "execution_count": null,
      "outputs": []
    },
    {
      "cell_type": "markdown",
      "metadata": {
        "id": "SQMuBvquMImP"
      },
      "source": [
        "### Create two separate lists - one containing the text from each document and another containing the category of each article in the corpus."
      ]
    },
    {
      "cell_type": "code",
      "metadata": {
        "id": "REtoZb_iMImO",
        "colab": {
          "base_uri": "https://localhost:8080/",
          "height": 222
        },
        "outputId": "6f880526-cba7-4eda-b962-cef119379596"
      },
      "source": [
        "docs = [corpus.raw(fileid) for fileid in corpus.fileids()]\n",
        "docs[0]"
      ],
      "execution_count": null,
      "outputs": [
        {
          "output_type": "execute_result",
          "data": {
            "application/vnd.google.colaboratory.intrinsic+json": {
              "type": "string"
            },
            "text/plain": [
              "'HONOLULU (AP) — The University of Hawaii seeks additional funds for student mental health services, scholarships and other items in a new supplementary budget request, officials said. The Board of Regents approved the fiscal year 2020-2021 supplemental operating budget of about $28 million Thursday, The Honolulu Star-Advertiser reported. The request will be submitted to the state Legislature and Democratic Gov. The university requested $2.6 million to hire 19 psychologists for the 10-campus system. The University of Hawaii Manoa has eight psychologists, the Hilo campus has three, and the West Oahu campus has 1.75 positions, while each community college has one position, said Allyson Tanouye, who coordinates mental health throughout the university system. \"The national standard is one mental health professional per 1,000 to 1,500 students,\" Tanouye said. \"If we add the 19 positions we will be up to one per 1,500. That\\'s how low we are\". The mental health funding would also expand programs to prevent suicide, reduce mental health stigma, provide peer education, and alert new students and parents to college transition challenges, officials said. The largest item in the supplemental budget is $17.7 million to expand the Hawaii Promise Program scholarship to four-year state institutions. The university has proposed a flat amount to cover tuition and fees of Hawaii residents qualifying for need-based federal Pell grants. \"This is looking to focus on the most needy students going to the four-year campuses,\" said Donald Straney, vice president for academic planning and policy. \"It would add Hawaii Promise on top of the Pell grants to cover the total tuition costs of students who are receiving those grants\". The request also covered staffing increases including positions for operations and maintenance, security, educational and cultural programming, and student mentors. Information from: Honolulu Star-Advertiser, http://www.staradvertiser.com.'"
            ]
          },
          "metadata": {
            "tags": []
          },
          "execution_count": 6
        }
      ]
    },
    {
      "cell_type": "code",
      "metadata": {
        "id": "-pdFsl_1Wkt6"
      },
      "source": [
        "categories = [corpus.categories(fileid)[0] for fileid in corpus.fileids()]"
      ],
      "execution_count": null,
      "outputs": []
    },
    {
      "cell_type": "code",
      "metadata": {
        "colab": {
          "base_uri": "https://localhost:8080/"
        },
        "id": "mR_dllZjW0Jb",
        "outputId": "4b60e80b-45a2-4f30-b723-da7551c71c25"
      },
      "source": [
        "print(categories)"
      ],
      "execution_count": null,
      "outputs": [
        {
          "output_type": "stream",
          "text": [
            "['health', 'health', 'health', 'health', 'health', 'health', 'health', 'health', 'health', 'health', 'health', 'health', 'health', 'health', 'health', 'health', 'health', 'health', 'health', 'health', 'health', 'health', 'health', 'health', 'health', 'health', 'health', 'health', 'health', 'health', 'health', 'health', 'health', 'health', 'health', 'health', 'health', 'health', 'health', 'health', 'health', 'health', 'health', 'health', 'health', 'health', 'health', 'health', 'health', 'politics', 'politics', 'politics', 'politics', 'politics', 'politics', 'politics', 'politics', 'politics', 'politics', 'politics', 'politics', 'politics', 'politics', 'politics', 'politics', 'politics', 'politics', 'politics', 'politics', 'politics', 'politics', 'politics', 'politics', 'politics', 'politics', 'politics', 'politics', 'politics', 'politics', 'politics', 'politics', 'politics', 'politics', 'politics', 'politics', 'politics', 'politics', 'politics', 'politics', 'politics', 'politics', 'sports', 'sports', 'sports', 'sports', 'sports', 'sports', 'sports', 'sports', 'sports', 'sports', 'sports', 'sports', 'sports', 'sports', 'sports', 'sports', 'sports', 'sports', 'sports', 'sports', 'sports', 'sports', 'sports', 'sports', 'sports', 'sports', 'sports', 'sports', 'sports', 'sports', 'sports', 'sports', 'sports', 'sports', 'sports', 'sports', 'sports', 'sports', 'sports', 'sports', 'sports', 'sports', 'tech', 'tech', 'tech', 'tech', 'tech', 'tech', 'tech', 'tech', 'tech', 'tech', 'tech', 'tech', 'tech', 'tech', 'tech', 'tech', 'tech', 'tech', 'tech', 'tech', 'tech', 'tech', 'tech', 'tech', 'tech', 'tech', 'tech', 'tech', 'tech', 'tech', 'tech', 'tech', 'tech', 'tech', 'tech', 'tech', 'tech', 'tech', 'tech', 'tech', 'tech', 'tech', 'tech', 'tech', 'tech', 'tech', 'tech', 'tech', 'tech', 'tech', 'tech', 'tech', 'tech']\n"
          ],
          "name": "stdout"
        }
      ]
    },
    {
      "cell_type": "markdown",
      "metadata": {
        "id": "OGRABGW8MImR"
      },
      "source": [
        "### Preprocess the corpus, ensuring to include the following steps.\n",
        "\n",
        "- Word tokenize the documents.\n",
        "- Lemmatize, stem, and lowercase all tokens.\n",
        "- Remove punctuation and stop words."
      ]
    },
    {
      "cell_type": "code",
      "metadata": {
        "id": "hk-Nlze1MImS"
      },
      "source": [
        "def preprocess(docs):\n",
        "  lemmatizer = WordNetLemmatizer()\n",
        "  stemmer = SnowballStemmer('english')\n",
        "  preprocessed = []\n",
        "\n",
        "  for doc in docs:\n",
        "    tokenized = word_tokenize(doc)\n",
        "\n",
        "    cleaned = [stemmer.stem(lemmatizer.lemmatize(token.lower()))\n",
        "              for token in tokenized\n",
        "              if token.lower() not in stopwords.words('english')\n",
        "              if token.isalpha()]\n",
        "    \n",
        "    untokenized = ' '.join(cleaned)\n",
        "\n",
        "    preprocessed.append(untokenized)\n",
        "\n",
        "  return preprocessed"
      ],
      "execution_count": null,
      "outputs": []
    },
    {
      "cell_type": "code",
      "metadata": {
        "id": "oqnrBep7Yb5r"
      },
      "source": [
        "preprocessed = preprocess(docs)"
      ],
      "execution_count": null,
      "outputs": []
    },
    {
      "cell_type": "markdown",
      "metadata": {
        "id": "gZE-q4ziMImT"
      },
      "source": [
        "### Split the data into training and testing sets with the size of the test set being 30% of the records."
      ]
    },
    {
      "cell_type": "code",
      "metadata": {
        "id": "hKFyBgjBMImU"
      },
      "source": [
        "from sklearn.model_selection import train_test_split\n",
        "\n",
        "X_train, X_test, y_train, y_test = train_test_split(preprocessed, categories, test_size=0.3, random_state=42)"
      ],
      "execution_count": null,
      "outputs": []
    },
    {
      "cell_type": "markdown",
      "metadata": {
        "id": "reegQu_5MImV"
      },
      "source": [
        "### Construct a pipeline that TF-IDF vectorizes the text and trains a Random Forest classification model."
      ]
    },
    {
      "cell_type": "code",
      "metadata": {
        "id": "k2h6O3aDaFxt"
      },
      "source": [
        "# count vect not necessary, but let's see what happens\n",
        "model = Pipeline([('vect',CountVectorizer()),\n",
        "                  ('tdidf',TfidfTransformer()),\n",
        "                  ('clf',RandomForestClassifier(n_estimators=100))\n",
        "                  ])\n",
        "\n"
      ],
      "execution_count": null,
      "outputs": []
    },
    {
      "cell_type": "code",
      "metadata": {
        "colab": {
          "base_uri": "https://localhost:8080/"
        },
        "id": "N4kTqJI2as1q",
        "outputId": "b664e3c2-d90c-43f3-b7cc-2789a3949360"
      },
      "source": [
        "model.fit(X_train, y_train)"
      ],
      "execution_count": null,
      "outputs": [
        {
          "output_type": "execute_result",
          "data": {
            "text/plain": [
              "Pipeline(memory=None,\n",
              "         steps=[('vect',\n",
              "                 CountVectorizer(analyzer='word', binary=False,\n",
              "                                 decode_error='strict',\n",
              "                                 dtype=<class 'numpy.int64'>, encoding='utf-8',\n",
              "                                 input='content', lowercase=True, max_df=1.0,\n",
              "                                 max_features=None, min_df=1,\n",
              "                                 ngram_range=(1, 1), preprocessor=None,\n",
              "                                 stop_words=None, strip_accents=None,\n",
              "                                 token_pattern='(?u)\\\\b\\\\w\\\\w+\\\\b',\n",
              "                                 tokenizer=None, vocabulary=Non...\n",
              "                 RandomForestClassifier(bootstrap=True, ccp_alpha=0.0,\n",
              "                                        class_weight=None, criterion='gini',\n",
              "                                        max_depth=None, max_features='auto',\n",
              "                                        max_leaf_nodes=None, max_samples=None,\n",
              "                                        min_impurity_decrease=0.0,\n",
              "                                        min_impurity_split=None,\n",
              "                                        min_samples_leaf=1, min_samples_split=2,\n",
              "                                        min_weight_fraction_leaf=0.0,\n",
              "                                        n_estimators=100, n_jobs=None,\n",
              "                                        oob_score=False, random_state=None,\n",
              "                                        verbose=0, warm_start=False))],\n",
              "         verbose=False)"
            ]
          },
          "metadata": {
            "tags": []
          },
          "execution_count": 34
        }
      ]
    },
    {
      "cell_type": "markdown",
      "metadata": {
        "id": "cFt6djjpMImX"
      },
      "source": [
        "### Generate predictions on the test set and print a classification report to evaluate how well the model performed."
      ]
    },
    {
      "cell_type": "code",
      "metadata": {
        "id": "_3JJ3hjNMImW"
      },
      "source": [
        "predictions = model.predict(X_test)"
      ],
      "execution_count": null,
      "outputs": []
    },
    {
      "cell_type": "code",
      "metadata": {
        "id": "yWT99tvHMImY",
        "colab": {
          "base_uri": "https://localhost:8080/"
        },
        "outputId": "c638e896-1f64-40f1-f28b-730504bc793f"
      },
      "source": [
        "print(classification_report(y_test, predictions))"
      ],
      "execution_count": null,
      "outputs": [
        {
          "output_type": "stream",
          "text": [
            "              precision    recall  f1-score   support\n",
            "\n",
            "      health       0.79      0.69      0.73        16\n",
            "    politics       0.90      0.90      0.90        10\n",
            "      sports       1.00      0.80      0.89        15\n",
            "        tech       0.65      0.87      0.74        15\n",
            "\n",
            "    accuracy                           0.80        56\n",
            "   macro avg       0.83      0.81      0.82        56\n",
            "weighted avg       0.83      0.80      0.81        56\n",
            "\n"
          ],
          "name": "stdout"
        }
      ]
    },
    {
      "cell_type": "markdown",
      "metadata": {
        "id": "T2BwKeBNMImZ"
      },
      "source": [
        "### Perform 10-fold cross validation and obtain the averge F1 score across all the folds."
      ]
    },
    {
      "cell_type": "code",
      "metadata": {
        "id": "-n9cTvc6MIma",
        "colab": {
          "base_uri": "https://localhost:8080/"
        },
        "outputId": "3a70d0eb-bf47-4d2d-e3b0-02ae477f7457"
      },
      "source": [
        "f1_scores = cross_val_score(model, preprocessed, categories, cv=10, scoring='f1_macro')\n",
        "\n",
        "f1_scores"
      ],
      "execution_count": null,
      "outputs": [
        {
          "output_type": "execute_result",
          "data": {
            "text/plain": [
              "array([0.8540404 , 0.83888889, 0.68903319, 1.        , 0.84155844,\n",
              "       0.66043956, 0.84848485, 0.70064935, 0.63992674, 0.71016484])"
            ]
          },
          "metadata": {
            "tags": []
          },
          "execution_count": 44
        }
      ]
    },
    {
      "cell_type": "code",
      "metadata": {
        "colab": {
          "base_uri": "https://localhost:8080/"
        },
        "id": "kboqn0V-b0Ks",
        "outputId": "1ffc6dfe-164d-4998-af32-3b47a62a72f5"
      },
      "source": [
        "f1_scores.mean()"
      ],
      "execution_count": null,
      "outputs": [
        {
          "output_type": "execute_result",
          "data": {
            "text/plain": [
              "0.7783186258186259"
            ]
          },
          "metadata": {
            "tags": []
          },
          "execution_count": 45
        }
      ]
    },
    {
      "cell_type": "code",
      "metadata": {
        "colab": {
          "base_uri": "https://localhost:8080/"
        },
        "id": "e5FD-FKtb3Wl",
        "outputId": "e4b3bb74-df90-4b46-c684-27c7dd86a7f1"
      },
      "source": [
        "f1_scores.std()"
      ],
      "execution_count": null,
      "outputs": [
        {
          "output_type": "execute_result",
          "data": {
            "text/plain": [
              "0.10916266855733489"
            ]
          },
          "metadata": {
            "tags": []
          },
          "execution_count": 46
        }
      ]
    },
    {
      "cell_type": "markdown",
      "metadata": {
        "id": "1H9ERShiMImb"
      },
      "source": [
        "### Ingest, preprocess, and predict the topic of the article at the following URL."
      ]
    },
    {
      "cell_type": "code",
      "metadata": {
        "id": "0d2mfYGSMImc"
      },
      "source": [
        "url = 'https://www.nytimes.com/2019/11/25/business/uber-london.html'"
      ],
      "execution_count": null,
      "outputs": []
    },
    {
      "cell_type": "code",
      "metadata": {
        "id": "7piaPcKNMImd"
      },
      "source": [
        "import requests\n",
        "from bs4 import BeautifulSoup\n",
        "\n",
        "def get_url_text(url):\n",
        "  response = requests.get(url)\n",
        "  content = response.text\n",
        "\n",
        "  TAGS = ['h1','h2','h3','h4','h5','h6','h7','p','li']\n",
        "  soup = BeautifulSoup(content, 'lxml')\n",
        "  text_list = [tag.get_text() for tag in soup.find_all(TAGS)]\n",
        "  text = ' '.join(text_list)\n",
        "  return text.strip().replace('\\n', '')  "
      ],
      "execution_count": null,
      "outputs": []
    },
    {
      "cell_type": "code",
      "metadata": {
        "colab": {
          "base_uri": "https://localhost:8080/"
        },
        "id": "EUKw1A9NdY9R",
        "outputId": "51ea222a-4e5e-41e4-dff1-7cfcb9186fed"
      },
      "source": [
        "raw_text = get_url_text(url)\n",
        "cleaned = (preprocess([raw_text]))\n",
        "cleaned"
      ],
      "execution_count": null,
      "outputs": [
        {
          "output_type": "execute_result",
          "data": {
            "text/plain": [
              "['advertis support uber fight surviv london lose licens compani odd regul driver tradit cab lucrat european market adam satariano ami tsang london uber suffer major blow monday london transport author made surpris decis extend taxi oper licens persist safeti problem throw question whether compani continu oper lucrat european market decis immedi affect uber presenc london street compani said would appeal decis set could long legal process uber continu oper throughout time news add difficult year compani stage disappoint initi public offer may uber sinc experienc execut turnov sever round layoff face continu public scrutini safeti passeng transport london regul taxi privat hire servic citi said uber meet fit proper standard need hold taxi licens regul said uber pattern failur place passeng safeti risk includ vulner uber app allow unauthor driver carri thousand rider clear concern issu aros also concern confid similar issu happen helen chapman director licens regul charg transport london said statement uber experi london highlight broader regulatori challeng europ compani struggl get foothold countri like germani spain itali denmark tougher regul limit avail london one uber lucrat market also home contenti struggl govern author compani battl retain licens british capit year author london also revok uber licens among reason poor oversight driver uber appeal decis grant licens agre govern supervis sever polici chang includ adopt rule report incid polic keep tire driver road name new independ board overse british oper citi author acknowledg uber made number posit chang improv cultur leadership system said gone far enough compani licens due expir monday transport author said one main issu flaw uber system let unauthor driver sneak onto driver sidestep rule collud author driver pick rider account least trip conduct least driver use workaround mean journey uninsur passeng journey took place unlicens driver transport london said practic known account spoof challeng platform polic food deliveri compani also seen peopl work account other sidestep polici london offici cite safeti defici uber includ instanc dismiss suspend driver abl creat anoth account transport london found sever exampl driver correct insur regul said volum problem lost faith uber abil improv latest updat extens feder jobless benefit may prevent brief laps frustrat rise britain port clear logjam thousand truck aid bill chang food stamp program uber said statement would oper normal appeal decis call extraordinari compani said first notifi regul unauthor driver may sinc close loophol understand held high bar dara khosrowshahi uber chief execut said twitter tfl decis wrong last year fundament chang oper london come far keep go million driver rider reli khosrowshahi join uber promis clean compani cultur known make growth top prioriti flout govern regul uber continu grappl critic safeti enough protect rider driver unit state senat richard blumenth democrat connecticut call uber lyft adopt fingerprint background check driver washington post recent report polici kept incid report polic lack problemat driver rival car servic revok uber licens london could ultim substanti financi implic compani struggl make profit month report billion quarter loss uber also announc seri new secur measur month includ enhanc safeti train driver discrimin button allow driver passeng report abus direct line emerg servic london uber said would put new safeti check place confirm ident driver could use app ad similar process australia unauthor driver fraudul use friend account plead guilti rape woman uber arriv london around driver citi sadiq khan mayor london said transport london could confid uber enough regul place prevent anoth serious safeti breach know decis may unpopular uber user safeti paramount concern said statement organ repres driver london tradit cab see uber undercut busi lobbi compani licens renew includ steve mcnamara general secretari licens taxi driver associ celebr monday decis said london would safer unfit oper get away deliber shirk respons said statement uber month compli condit temporari licens yet continu put london risk let driver road proper licens other said decis unfair harm thousand driver use platform mayor decis deni uber licens come hammer blow driver work precari condit said jame farrar chairman unit privat hire driver branch independ worker union great britain mani face distress face unemploy also crippl debt struggl meet car leas muhum ali uber driver four year said decis meant would live constant worri keep insecur said ali drive least hour week unsur adam satariano report london ami tsang hong kong advertis site index site inform navig new york time compani nytco contact u work u advertis brand studio ad choic privaci polici term servic term sale site map canada intern help subscript']"
            ]
          },
          "metadata": {
            "tags": []
          },
          "execution_count": 55
        }
      ]
    },
    {
      "cell_type": "code",
      "metadata": {
        "colab": {
          "base_uri": "https://localhost:8080/",
          "height": 35
        },
        "id": "zeW5RqbveW0x",
        "outputId": "5cb53948-488b-4931-b942-bcee83acd2d8"
      },
      "source": [
        "model.predict(cleaned)[0]"
      ],
      "execution_count": null,
      "outputs": [
        {
          "output_type": "execute_result",
          "data": {
            "application/vnd.google.colaboratory.intrinsic+json": {
              "type": "string"
            },
            "text/plain": [
              "'tech'"
            ]
          },
          "metadata": {
            "tags": []
          },
          "execution_count": 56
        }
      ]
    }
  ]
}