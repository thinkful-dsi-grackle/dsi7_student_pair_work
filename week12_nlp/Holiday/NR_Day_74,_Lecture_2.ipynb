{
  "nbformat": 4,
  "nbformat_minor": 0,
  "metadata": {
    "kernelspec": {
      "display_name": "Python 3",
      "language": "python",
      "name": "python3"
    },
    "language_info": {
      "codemirror_mode": {
        "name": "ipython",
        "version": 3
      },
      "file_extension": ".py",
      "mimetype": "text/x-python",
      "name": "python",
      "nbconvert_exporter": "python",
      "pygments_lexer": "ipython3",
      "version": "3.7.2"
    },
    "colab": {
      "name": "NR Day 74, Lecture 2",
      "provenance": [],
      "collapsed_sections": []
    }
  },
  "cells": [
    {
      "cell_type": "markdown",
      "metadata": {
        "id": "MpAM5or7MJg8"
      },
      "source": [
        "# Machine Learning on Text: Clustering Assignment"
      ]
    },
    {
      "cell_type": "code",
      "metadata": {
        "id": "Nw7-5JgzMJg9",
        "colab": {
          "base_uri": "https://localhost:8080/"
        },
        "outputId": "8c60deae-a9bc-454d-b2b1-7b1c18798a97"
      },
      "source": [
        "import pandas as pd\n",
        "from nltk import word_tokenize\n",
        "from nltk.corpus import stopwords\n",
        "from nltk.stem.snowball import SnowballStemmer\n",
        "from nltk.stem.wordnet import WordNetLemmatizer\n",
        "from nltk.corpus.reader.plaintext import PlaintextCorpusReader\n",
        "from sklearn.cluster import KMeans\n",
        "from sklearn.cluster import AgglomerativeClustering\n",
        "from sklearn.feature_extraction.text import TfidfVectorizer\n",
        "import matplotlib.pyplot as plt\n",
        "from yellowbrick.cluster import KElbowVisualizer"
      ],
      "execution_count": 1,
      "outputs": [
        {
          "output_type": "stream",
          "text": [
            "/usr/local/lib/python3.6/dist-packages/sklearn/utils/deprecation.py:144: FutureWarning: The sklearn.metrics.classification module is  deprecated in version 0.22 and will be removed in version 0.24. The corresponding classes / functions should instead be imported from sklearn.metrics. Anything that cannot be imported from sklearn.metrics is now part of the private API.\n",
            "  warnings.warn(message, FutureWarning)\n"
          ],
          "name": "stderr"
        }
      ]
    },
    {
      "cell_type": "markdown",
      "metadata": {
        "id": "W7IzBzLsMJhA"
      },
      "source": [
        "### Ingest the company_profiles data set into a corpus."
      ]
    },
    {
      "cell_type": "code",
      "metadata": {
        "id": "u-u8MsfKMJhB"
      },
      "source": [
        "path = 'company_profiles/'\r\n",
        "DOC_PATTERN = r'.*\\.txt'\r\n",
        "corpus = PlaintextCorpusReader(path, DOC_PATTERN)\r\n",
        "corpus.fileids()"
      ],
      "execution_count": null,
      "outputs": []
    },
    {
      "cell_type": "markdown",
      "metadata": {
        "id": "evt_VveIMJhD"
      },
      "source": [
        "### Create a list of documents by extracting the raw text for each fileid in the corpus."
      ]
    },
    {
      "cell_type": "code",
      "metadata": {
        "id": "0Q0T6d2TMJhD"
      },
      "source": [
        "docs = [corpus.raw(fileid) for fileid in corpus.fileids()]\r\n",
        "docs[0]"
      ],
      "execution_count": null,
      "outputs": []
    },
    {
      "cell_type": "markdown",
      "metadata": {
        "id": "2L98OWhMMJhG"
      },
      "source": [
        "### Preprocess the documents, including the steps below.\n",
        "\n",
        "- Word tokenize the document.\n",
        "- Lowercase all tokens.\n",
        "- Lemmatize and stem the tokens.\n",
        "- Remove stop words and punctuation."
      ]
    },
    {
      "cell_type": "code",
      "metadata": {
        "id": "XJGYG2L_MJhG"
      },
      "source": [
        "def preprocess(docs):\r\n",
        "    lemmatizer = WordNetLemmatizer()\r\n",
        "    stemmer = SnowballStemmer('english')\r\n",
        "    preprocessed = []\r\n",
        "\r\n",
        "    for doc in docs:\r\n",
        "        tokenized = word_tokenize(doc)\r\n",
        "        cleaned = [stemmer.stem(lemmatizer.lemmatize(token.lower())) \r\n",
        "                   for token in tokenized \r\n",
        "                   if token.lower() not in stopwords.words('english')\r\n",
        "                  if token.isalpha()]\r\n",
        "        untokenized = \" \".join(cleaned)\r\n",
        "        preprocessed.append(untokenized)\r\n",
        "    \r\n",
        "    return preprocessed"
      ],
      "execution_count": null,
      "outputs": []
    },
    {
      "cell_type": "code",
      "metadata": {
        "id": "H3snR_XA5PKp"
      },
      "source": [
        "preprocessed = preprocess(docs)\r\n",
        "preprocessed[0]"
      ],
      "execution_count": null,
      "outputs": []
    },
    {
      "cell_type": "markdown",
      "metadata": {
        "id": "sw3HvSNuMJhI"
      },
      "source": [
        "### TF-IDF vectorize the preprocessed documents."
      ]
    },
    {
      "cell_type": "code",
      "metadata": {
        "id": "kYFXymYtMJhJ"
      },
      "source": [
        "vectorizer = TfidfVectorizer()\r\n",
        "vectors = vectorizer.fit_transform(preprocessed)\r\n",
        "vectors"
      ],
      "execution_count": null,
      "outputs": []
    },
    {
      "cell_type": "markdown",
      "metadata": {
        "id": "4F3w9-n7MJhL"
      },
      "source": [
        "### Determine the optimal number of clusters using the Yellowbrick library's KElbow Visualizer and a KMeans clustering algorithm."
      ]
    },
    {
      "cell_type": "code",
      "metadata": {
        "id": "xDBdUa03MJhM"
      },
      "source": [
        "from pylab import rcParams\r\n",
        "rcParams['figure.figsize'] = 12, 10\r\n",
        "\r\n",
        "model = KMeans()\r\n",
        "\r\n",
        "visualizer = KElbowVisualizer(model, k=(2,20), metric='silhouette')\r\n",
        "\r\n",
        "visualizer.fit(vectors)"
      ],
      "execution_count": null,
      "outputs": []
    },
    {
      "cell_type": "markdown",
      "metadata": {
        "id": "QIurKlo-MJhP"
      },
      "source": [
        "### Perform K-Means Clustering using the optimal number of clusters determine in the previous step."
      ]
    },
    {
      "cell_type": "code",
      "metadata": {
        "id": "jd0DuxrKMJhP"
      },
      "source": [
        "kmeans = KMeans(n_clusters=10)\r\n",
        "\r\n",
        "clusters = kmeans.fit_predict(vectors)\r\n",
        "clusters"
      ],
      "execution_count": null,
      "outputs": []
    },
    {
      "cell_type": "code",
      "metadata": {
        "id": "X0YiauE05acC"
      },
      "source": [
        "df = pd.DataFrame(docs, columns=['text'])\r\n",
        "df.head()"
      ],
      "execution_count": null,
      "outputs": []
    },
    {
      "cell_type": "markdown",
      "metadata": {
        "id": "XzlVKvK1MJhR"
      },
      "source": [
        "### Perform Agglomerative Clustering using the same number of clusters."
      ]
    },
    {
      "cell_type": "code",
      "metadata": {
        "id": "yXa_ofOOMJhS"
      },
      "source": [
        "agl = AgglomerativeClustering(n_clusters=10)\r\n",
        "\r\n",
        "clusters = agl.fit_predict(vectors.toarray())\r\n",
        "\r\n",
        "df = pd.DataFrame(docs, columns=['text'])\r\n",
        "df['cluster'] = clusters\r\n",
        "df['file'] = corpus.fileids()\r\n",
        "df.head()"
      ],
      "execution_count": null,
      "outputs": []
    },
    {
      "cell_type": "markdown",
      "metadata": {
        "id": "tFlkG5TyMJhU"
      },
      "source": [
        "### Choose one of the three topic modeling approaches covered. Cluster into the optimal number of clusters and extract 5 keywords that represent the documents in each cluster."
      ]
    },
    {
      "cell_type": "code",
      "metadata": {
        "id": "29jDpqjAMJhV"
      },
      "source": [
        "from sklearn.decomposition import NMF\r\n",
        "\r\n",
        "num_keywords = 5\r\n",
        "num_topics = 8\r\n",
        "\r\n",
        "model = NMF(n_components=num_topics)\r\n",
        "model.fit_transform(vectors)"
      ],
      "execution_count": null,
      "outputs": []
    },
    {
      "cell_type": "code",
      "metadata": {
        "id": "KGMVaLLf5lmo"
      },
      "source": [
        "for index, topic in enumerate(model.components_):\r\n",
        "    print('topic', index)\r\n",
        "    for i in topic.argsort()[:-num_keywords - 1 : -1]:\r\n",
        "        print(vectorizer.get_feature_names()[i], topic[i])\r\n",
        "        \r\n",
        "    print('__________')"
      ],
      "execution_count": null,
      "outputs": []
    }
  ]
}