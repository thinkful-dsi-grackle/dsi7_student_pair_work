{
 "cells": [
  {
   "cell_type": "markdown",
   "metadata": {
    "id": "MpAM5or7MJg8"
   },
   "source": [
    "# Machine Learning on Text: Clustering Assignment"
   ]
  },
  {
   "cell_type": "code",
   "execution_count": 1,
   "metadata": {},
   "outputs": [
    {
     "data": {
      "application/javascript": [
       "\n",
       "            setTimeout(function() {\n",
       "                var nbb_cell_id = 1;\n",
       "                var nbb_unformatted_code = \"%load_ext nb_black\";\n",
       "                var nbb_formatted_code = \"%load_ext nb_black\";\n",
       "                var nbb_cells = Jupyter.notebook.get_cells();\n",
       "                for (var i = 0; i < nbb_cells.length; ++i) {\n",
       "                    if (nbb_cells[i].input_prompt_number == nbb_cell_id) {\n",
       "                        if (nbb_cells[i].get_text() == nbb_unformatted_code) {\n",
       "                             nbb_cells[i].set_text(nbb_formatted_code);\n",
       "                        }\n",
       "                        break;\n",
       "                    }\n",
       "                }\n",
       "            }, 500);\n",
       "            "
      ],
      "text/plain": [
       "<IPython.core.display.Javascript object>"
      ]
     },
     "metadata": {},
     "output_type": "display_data"
    }
   ],
   "source": [
    "%load_ext nb_black"
   ]
  },
  {
   "cell_type": "code",
   "execution_count": 2,
   "metadata": {},
   "outputs": [
    {
     "name": "stdout",
     "output_type": "stream",
     "text": [
      "Requirement already up-to-date: nltk in /Users/tarrantcarter/.local/lib/python3.8/site-packages (3.5)\n",
      "Requirement already satisfied, skipping upgrade: tqdm in /Users/tarrantcarter/miniconda3/lib/python3.8/site-packages (from nltk) (4.46.0)\n",
      "Requirement already satisfied, skipping upgrade: regex in /Users/tarrantcarter/miniconda3/lib/python3.8/site-packages (from nltk) (2020.11.13)\n",
      "Requirement already satisfied, skipping upgrade: click in /Users/tarrantcarter/miniconda3/lib/python3.8/site-packages (from nltk) (7.1.2)\n",
      "Requirement already satisfied, skipping upgrade: joblib in /Users/tarrantcarter/miniconda3/lib/python3.8/site-packages (from nltk) (0.17.0)\n"
     ]
    },
    {
     "name": "stderr",
     "output_type": "stream",
     "text": [
      "ERROR:root:Cannot parse: 1:4: pip install --user -U nltk\n",
      "Traceback (most recent call last):\n",
      "  File \"/Users/tarrantcarter/miniconda3/lib/python3.8/site-packages/lab_black.py\", line 218, in format_cell\n",
      "    formatted_code = _format_code(cell)\n",
      "  File \"/Users/tarrantcarter/miniconda3/lib/python3.8/site-packages/lab_black.py\", line 29, in _format_code\n",
      "    return format_str(src_contents=code, mode=FileMode())\n",
      "  File \"/Users/tarrantcarter/miniconda3/lib/python3.8/site-packages/black/__init__.py\", line 974, in format_str\n",
      "    src_node = lib2to3_parse(src_contents.lstrip(), mode.target_versions)\n",
      "  File \"/Users/tarrantcarter/miniconda3/lib/python3.8/site-packages/black/__init__.py\", line 1083, in lib2to3_parse\n",
      "    raise exc from None\n",
      "black.InvalidInput: Cannot parse: 1:4: pip install --user -U nltk\n"
     ]
    },
    {
     "name": "stdout",
     "output_type": "stream",
     "text": [
      "Note: you may need to restart the kernel to use updated packages.\n"
     ]
    }
   ],
   "source": [
    "pip install --user -U nltk"
   ]
  },
  {
   "cell_type": "code",
   "execution_count": 3,
   "metadata": {
    "colab": {
     "base_uri": "https://localhost:8080/"
    },
    "id": "Nw7-5JgzMJg9",
    "outputId": "0b4de01d-e1c8-4bae-e7ef-5a2b80c3a0a1"
   },
   "outputs": [
    {
     "data": {
      "application/javascript": [
       "\n",
       "            setTimeout(function() {\n",
       "                var nbb_cell_id = 3;\n",
       "                var nbb_unformatted_code = \"import pandas as pd\\nimport numpy as np\\nfrom nltk import word_tokenize\\nfrom nltk.corpus import stopwords\\nfrom nltk.stem.snowball import SnowballStemmer\\nfrom nltk.stem.wordnet import WordNetLemmatizer\\nfrom nltk.corpus.reader.plaintext import PlaintextCorpusReader\\nfrom sklearn.cluster import KMeans\\nfrom sklearn.cluster import AgglomerativeClustering\\nfrom sklearn.feature_extraction.text import TfidfVectorizer\\nfrom sklearn.feature_extraction.text import CountVectorizer\\nimport matplotlib.pyplot as plt\\nfrom yellowbrick.cluster import KElbowVisualizer\";\n",
       "                var nbb_formatted_code = \"import pandas as pd\\nimport numpy as np\\nfrom nltk import word_tokenize\\nfrom nltk.corpus import stopwords\\nfrom nltk.stem.snowball import SnowballStemmer\\nfrom nltk.stem.wordnet import WordNetLemmatizer\\nfrom nltk.corpus.reader.plaintext import PlaintextCorpusReader\\nfrom sklearn.cluster import KMeans\\nfrom sklearn.cluster import AgglomerativeClustering\\nfrom sklearn.feature_extraction.text import TfidfVectorizer\\nfrom sklearn.feature_extraction.text import CountVectorizer\\nimport matplotlib.pyplot as plt\\nfrom yellowbrick.cluster import KElbowVisualizer\";\n",
       "                var nbb_cells = Jupyter.notebook.get_cells();\n",
       "                for (var i = 0; i < nbb_cells.length; ++i) {\n",
       "                    if (nbb_cells[i].input_prompt_number == nbb_cell_id) {\n",
       "                        if (nbb_cells[i].get_text() == nbb_unformatted_code) {\n",
       "                             nbb_cells[i].set_text(nbb_formatted_code);\n",
       "                        }\n",
       "                        break;\n",
       "                    }\n",
       "                }\n",
       "            }, 500);\n",
       "            "
      ],
      "text/plain": [
       "<IPython.core.display.Javascript object>"
      ]
     },
     "metadata": {},
     "output_type": "display_data"
    }
   ],
   "source": [
    "import pandas as pd\n",
    "import numpy as np\n",
    "from nltk import word_tokenize\n",
    "from nltk.corpus import stopwords\n",
    "from nltk.stem.snowball import SnowballStemmer\n",
    "from nltk.stem.wordnet import WordNetLemmatizer\n",
    "from nltk.corpus.reader.plaintext import PlaintextCorpusReader\n",
    "from sklearn.cluster import KMeans\n",
    "from sklearn.cluster import AgglomerativeClustering\n",
    "from sklearn.feature_extraction.text import TfidfVectorizer\n",
    "from sklearn.feature_extraction.text import CountVectorizer\n",
    "import matplotlib.pyplot as plt\n",
    "from yellowbrick.cluster import KElbowVisualizer"
   ]
  },
  {
   "cell_type": "code",
   "execution_count": 4,
   "metadata": {
    "id": "8_IDjKXSzFND"
   },
   "outputs": [
    {
     "name": "stderr",
     "output_type": "stream",
     "text": [
      "[nltk_data] Downloading package punkt to\n",
      "[nltk_data]     /Users/tarrantcarter/nltk_data...\n",
      "[nltk_data]   Package punkt is already up-to-date!\n",
      "[nltk_data] Downloading package stopwords to\n",
      "[nltk_data]     /Users/tarrantcarter/nltk_data...\n",
      "[nltk_data]   Package stopwords is already up-to-date!\n",
      "[nltk_data] Downloading package wordnet to\n",
      "[nltk_data]     /Users/tarrantcarter/nltk_data...\n",
      "[nltk_data]   Package wordnet is already up-to-date!\n"
     ]
    },
    {
     "data": {
      "text/plain": [
       "True"
      ]
     },
     "execution_count": 4,
     "metadata": {},
     "output_type": "execute_result"
    },
    {
     "data": {
      "application/javascript": [
       "\n",
       "            setTimeout(function() {\n",
       "                var nbb_cell_id = 4;\n",
       "                var nbb_unformatted_code = \"import nltk\\n\\nnltk.download(\\\"punkt\\\")\\nnltk.download(\\\"stopwords\\\")\\nnltk.download(\\\"wordnet\\\")\";\n",
       "                var nbb_formatted_code = \"import nltk\\n\\nnltk.download(\\\"punkt\\\")\\nnltk.download(\\\"stopwords\\\")\\nnltk.download(\\\"wordnet\\\")\";\n",
       "                var nbb_cells = Jupyter.notebook.get_cells();\n",
       "                for (var i = 0; i < nbb_cells.length; ++i) {\n",
       "                    if (nbb_cells[i].input_prompt_number == nbb_cell_id) {\n",
       "                        if (nbb_cells[i].get_text() == nbb_unformatted_code) {\n",
       "                             nbb_cells[i].set_text(nbb_formatted_code);\n",
       "                        }\n",
       "                        break;\n",
       "                    }\n",
       "                }\n",
       "            }, 500);\n",
       "            "
      ],
      "text/plain": [
       "<IPython.core.display.Javascript object>"
      ]
     },
     "metadata": {},
     "output_type": "display_data"
    }
   ],
   "source": [
    "import nltk\n",
    "\n",
    "nltk.download(\"punkt\")\n",
    "nltk.download(\"stopwords\")\n",
    "nltk.download(\"wordnet\")"
   ]
  },
  {
   "cell_type": "markdown",
   "metadata": {
    "id": "W7IzBzLsMJhA"
   },
   "source": [
    "### Ingest the company_profiles data set into a corpus."
   ]
  },
  {
   "cell_type": "code",
   "execution_count": 5,
   "metadata": {
    "id": "u-u8MsfKMJhB"
   },
   "outputs": [
    {
     "data": {
      "application/javascript": [
       "\n",
       "            setTimeout(function() {\n",
       "                var nbb_cell_id = 5;\n",
       "                var nbb_unformatted_code = \"PATH = \\\"/Users/tarrantcarter/Downloads/company_profiles/\\\"\\nDOC_PATTERN = r\\\".*\\\\.txt\\\"\\ncorpus = PlaintextCorpusReader(PATH, DOC_PATTERN)\";\n",
       "                var nbb_formatted_code = \"PATH = \\\"/Users/tarrantcarter/Downloads/company_profiles/\\\"\\nDOC_PATTERN = r\\\".*\\\\.txt\\\"\\ncorpus = PlaintextCorpusReader(PATH, DOC_PATTERN)\";\n",
       "                var nbb_cells = Jupyter.notebook.get_cells();\n",
       "                for (var i = 0; i < nbb_cells.length; ++i) {\n",
       "                    if (nbb_cells[i].input_prompt_number == nbb_cell_id) {\n",
       "                        if (nbb_cells[i].get_text() == nbb_unformatted_code) {\n",
       "                             nbb_cells[i].set_text(nbb_formatted_code);\n",
       "                        }\n",
       "                        break;\n",
       "                    }\n",
       "                }\n",
       "            }, 500);\n",
       "            "
      ],
      "text/plain": [
       "<IPython.core.display.Javascript object>"
      ]
     },
     "metadata": {},
     "output_type": "display_data"
    }
   ],
   "source": [
    "PATH = \"/Users/tarrantcarter/Downloads/company_profiles/\"\n",
    "DOC_PATTERN = r\".*\\.txt\"\n",
    "corpus = PlaintextCorpusReader(PATH, DOC_PATTERN)"
   ]
  },
  {
   "cell_type": "markdown",
   "metadata": {
    "id": "evt_VveIMJhD"
   },
   "source": [
    "### Create a list of documents by extracting the raw text for each fileid in the corpus."
   ]
  },
  {
   "cell_type": "code",
   "execution_count": 6,
   "metadata": {
    "id": "0Q0T6d2TMJhD"
   },
   "outputs": [
    {
     "data": {
      "text/plain": [
       "\"Agilent Technologies, Inc. provides application focused solutions to the life sciences, diagnostics, and applied chemical markets worldwide. It operates in three segments: Life Sciences and Applied Markets, Diagnostics and Genomics, and Agilent CrossLab. The Life Sciences and Applied Markets segment offers liquid chromatography systems and components; liquid chromatography mass spectrometry systems; gas chromatography systems and components; gas chromatography mass spectrometry systems; inductively coupled plasma mass spectrometry instruments; atomic absorption instruments; microwave plasma-atomic emission spectrometry instruments; inductively coupled plasma optical emission spectrometry instruments; raman spectroscopy; microfluidics based automated electrophoresis products; cell analysis plate based assays; laboratory software and informatics systems; laboratory automation; dissolution testing; vacuum pumps; and measurement technologies. The Diagnostics and Genomics segment provides reagents, instruments, software, and consumables; arrays for DNA mutation detection, genotyping, gene copy number determination, identification of gene rearrangements, DNA methylation profiling, and gene expression profiling, as well as sequencing target enrichment services; and equipment focused on production of synthesized oligonucleotides for use as active pharmaceutical ingredients. The Agilent CrossLab segment offers GC and LC columns, sample preparation products, custom chemistries, and various laboratory instrument supplies; and startup, operational, training, and compliance support, as well as asset management and consultation services. The company markets its products through direct sales, electronic commerce, resellers, manufacturers' representatives, and distributors. It has collaboration with the University of Southern California Michelson Center for Convergent Bioscience. Agilent Technologies, Inc. was founded in 1999 and is headquartered in Santa Clara, California.\""
      ]
     },
     "execution_count": 6,
     "metadata": {},
     "output_type": "execute_result"
    },
    {
     "data": {
      "application/javascript": [
       "\n",
       "            setTimeout(function() {\n",
       "                var nbb_cell_id = 6;\n",
       "                var nbb_unformatted_code = \"docs = [corpus.raw(fileid) for fileid in corpus.fileids()]\\ndocs[0]\";\n",
       "                var nbb_formatted_code = \"docs = [corpus.raw(fileid) for fileid in corpus.fileids()]\\ndocs[0]\";\n",
       "                var nbb_cells = Jupyter.notebook.get_cells();\n",
       "                for (var i = 0; i < nbb_cells.length; ++i) {\n",
       "                    if (nbb_cells[i].input_prompt_number == nbb_cell_id) {\n",
       "                        if (nbb_cells[i].get_text() == nbb_unformatted_code) {\n",
       "                             nbb_cells[i].set_text(nbb_formatted_code);\n",
       "                        }\n",
       "                        break;\n",
       "                    }\n",
       "                }\n",
       "            }, 500);\n",
       "            "
      ],
      "text/plain": [
       "<IPython.core.display.Javascript object>"
      ]
     },
     "metadata": {},
     "output_type": "display_data"
    }
   ],
   "source": [
    "docs = [corpus.raw(fileid) for fileid in corpus.fileids()]\n",
    "docs[0]"
   ]
  },
  {
   "cell_type": "markdown",
   "metadata": {
    "id": "2L98OWhMMJhG"
   },
   "source": [
    "### Preprocess the documents, including the steps below.\n",
    "\n",
    "- Word tokenize the document.\n",
    "- Lowercase all tokens.\n",
    "- Lemmatize and stem the tokens.\n",
    "- Remove stop words and punctuation."
   ]
  },
  {
   "cell_type": "code",
   "execution_count": 7,
   "metadata": {
    "id": "XJGYG2L_MJhG"
   },
   "outputs": [
    {
     "data": {
      "application/javascript": [
       "\n",
       "            setTimeout(function() {\n",
       "                var nbb_cell_id = 7;\n",
       "                var nbb_unformatted_code = \"def preprocess(docs):\\n    lemmatizer = WordNetLemmatizer()\\n    stemmer = SnowballStemmer(\\\"english\\\")\\n    preprocessed = []\\n\\n    for doc in docs:\\n        tokenized = word_tokenize(doc)\\n\\n        cleaned = [\\n            stemmer.stem(lemmatizer.lemmatize(token.lower()))\\n            for token in tokenized\\n            if token.lower() not in stopwords.words(\\\"english\\\")\\n            if token.isalpha()\\n        ]\\n\\n        untokenized = \\\" \\\".join(cleaned)\\n\\n        preprocessed.append(untokenized)\\n\\n    return preprocessed\";\n",
       "                var nbb_formatted_code = \"def preprocess(docs):\\n    lemmatizer = WordNetLemmatizer()\\n    stemmer = SnowballStemmer(\\\"english\\\")\\n    preprocessed = []\\n\\n    for doc in docs:\\n        tokenized = word_tokenize(doc)\\n\\n        cleaned = [\\n            stemmer.stem(lemmatizer.lemmatize(token.lower()))\\n            for token in tokenized\\n            if token.lower() not in stopwords.words(\\\"english\\\")\\n            if token.isalpha()\\n        ]\\n\\n        untokenized = \\\" \\\".join(cleaned)\\n\\n        preprocessed.append(untokenized)\\n\\n    return preprocessed\";\n",
       "                var nbb_cells = Jupyter.notebook.get_cells();\n",
       "                for (var i = 0; i < nbb_cells.length; ++i) {\n",
       "                    if (nbb_cells[i].input_prompt_number == nbb_cell_id) {\n",
       "                        if (nbb_cells[i].get_text() == nbb_unformatted_code) {\n",
       "                             nbb_cells[i].set_text(nbb_formatted_code);\n",
       "                        }\n",
       "                        break;\n",
       "                    }\n",
       "                }\n",
       "            }, 500);\n",
       "            "
      ],
      "text/plain": [
       "<IPython.core.display.Javascript object>"
      ]
     },
     "metadata": {},
     "output_type": "display_data"
    }
   ],
   "source": [
    "def preprocess(docs):\n",
    "    lemmatizer = WordNetLemmatizer()\n",
    "    stemmer = SnowballStemmer(\"english\")\n",
    "    preprocessed = []\n",
    "\n",
    "    for doc in docs:\n",
    "        tokenized = word_tokenize(doc)\n",
    "\n",
    "        cleaned = [\n",
    "            stemmer.stem(lemmatizer.lemmatize(token.lower()))\n",
    "            for token in tokenized\n",
    "            if token.lower() not in stopwords.words(\"english\")\n",
    "            if token.isalpha()\n",
    "        ]\n",
    "\n",
    "        untokenized = \" \".join(cleaned)\n",
    "\n",
    "        preprocessed.append(untokenized)\n",
    "\n",
    "    return preprocessed"
   ]
  },
  {
   "cell_type": "code",
   "execution_count": 8,
   "metadata": {
    "id": "eIqnBY14zUQ2"
   },
   "outputs": [
    {
     "data": {
      "application/javascript": [
       "\n",
       "            setTimeout(function() {\n",
       "                var nbb_cell_id = 8;\n",
       "                var nbb_unformatted_code = \"preprocessed = preprocess(docs)\";\n",
       "                var nbb_formatted_code = \"preprocessed = preprocess(docs)\";\n",
       "                var nbb_cells = Jupyter.notebook.get_cells();\n",
       "                for (var i = 0; i < nbb_cells.length; ++i) {\n",
       "                    if (nbb_cells[i].input_prompt_number == nbb_cell_id) {\n",
       "                        if (nbb_cells[i].get_text() == nbb_unformatted_code) {\n",
       "                             nbb_cells[i].set_text(nbb_formatted_code);\n",
       "                        }\n",
       "                        break;\n",
       "                    }\n",
       "                }\n",
       "            }, 500);\n",
       "            "
      ],
      "text/plain": [
       "<IPython.core.display.Javascript object>"
      ]
     },
     "metadata": {},
     "output_type": "display_data"
    }
   ],
   "source": [
    "preprocessed = preprocess(docs)"
   ]
  },
  {
   "cell_type": "code",
   "execution_count": 9,
   "metadata": {},
   "outputs": [
    {
     "data": {
      "text/plain": [
       "'agil technolog provid applic focus solut life scienc diagnost appli chemic market worldwid oper three segment life scienc appli market diagnost genom agil crosslab life scienc appli market segment offer liquid chromatographi system compon liquid chromatographi mass spectrometri system gas chromatographi system compon gas chromatographi mass spectrometri system induct coupl plasma mass spectrometri instrument atom absorpt instrument microwav emiss spectrometri instrument induct coupl plasma optic emiss spectrometri instrument raman spectroscopi microfluid base autom electrophoresi product cell analysi plate base assay laboratori softwar informat system laboratori autom dissolut test vacuum pump measur technolog diagnost genom segment provid reagent instrument softwar consum array dna mutat detect genotyp gene copi number determin identif gene rearrang dna methyl profil gene express profil well sequenc target enrich servic equip focus product synthes oligonucleotid use activ pharmaceut ingredi agil crosslab segment offer gc lc column sampl prepar product custom chemistri various laboratori instrument suppli startup oper train complianc support well asset manag consult servic compani market product direct sale electron commerc resel manufactur repres distributor collabor univers southern california michelson center converg bioscienc agil technolog found headquart santa clara california'"
      ]
     },
     "execution_count": 9,
     "metadata": {},
     "output_type": "execute_result"
    },
    {
     "data": {
      "application/javascript": [
       "\n",
       "            setTimeout(function() {\n",
       "                var nbb_cell_id = 9;\n",
       "                var nbb_unformatted_code = \"preprocessed[0]\";\n",
       "                var nbb_formatted_code = \"preprocessed[0]\";\n",
       "                var nbb_cells = Jupyter.notebook.get_cells();\n",
       "                for (var i = 0; i < nbb_cells.length; ++i) {\n",
       "                    if (nbb_cells[i].input_prompt_number == nbb_cell_id) {\n",
       "                        if (nbb_cells[i].get_text() == nbb_unformatted_code) {\n",
       "                             nbb_cells[i].set_text(nbb_formatted_code);\n",
       "                        }\n",
       "                        break;\n",
       "                    }\n",
       "                }\n",
       "            }, 500);\n",
       "            "
      ],
      "text/plain": [
       "<IPython.core.display.Javascript object>"
      ]
     },
     "metadata": {},
     "output_type": "display_data"
    }
   ],
   "source": [
    "preprocessed[0]"
   ]
  },
  {
   "cell_type": "markdown",
   "metadata": {
    "id": "sw3HvSNuMJhI"
   },
   "source": [
    "### TF-IDF vectorize the preprocessed documents."
   ]
  },
  {
   "cell_type": "code",
   "execution_count": 10,
   "metadata": {
    "id": "kYFXymYtMJhJ"
   },
   "outputs": [
    {
     "data": {
      "text/html": [
       "<div>\n",
       "<style scoped>\n",
       "    .dataframe tbody tr th:only-of-type {\n",
       "        vertical-align: middle;\n",
       "    }\n",
       "\n",
       "    .dataframe tbody tr th {\n",
       "        vertical-align: top;\n",
       "    }\n",
       "\n",
       "    .dataframe thead th {\n",
       "        text-align: right;\n",
       "    }\n",
       "</style>\n",
       "<table border=\"1\" class=\"dataframe\">\n",
       "  <thead>\n",
       "    <tr style=\"text-align: right;\">\n",
       "      <th></th>\n",
       "      <th>aaa</th>\n",
       "      <th>aac</th>\n",
       "      <th>aad</th>\n",
       "      <th>aaon</th>\n",
       "      <th>aar</th>\n",
       "      <th>aaron</th>\n",
       "      <th>aastrom</th>\n",
       "      <th>aav</th>\n",
       "      <th>ab</th>\n",
       "      <th>abacus</th>\n",
       "      <th>...</th>\n",
       "      <th>zvex</th>\n",
       "      <th>zydeco</th>\n",
       "      <th>zydelig</th>\n",
       "      <th>zydi</th>\n",
       "      <th>zynerba</th>\n",
       "      <th>zynga</th>\n",
       "      <th>zyrtec</th>\n",
       "      <th>zytiga</th>\n",
       "      <th>zyvox</th>\n",
       "      <th>übermonst</th>\n",
       "    </tr>\n",
       "  </thead>\n",
       "  <tbody>\n",
       "    <tr>\n",
       "      <th>0</th>\n",
       "      <td>0.0</td>\n",
       "      <td>0.000000</td>\n",
       "      <td>0.0</td>\n",
       "      <td>0.0</td>\n",
       "      <td>0.0</td>\n",
       "      <td>0.0</td>\n",
       "      <td>0.0</td>\n",
       "      <td>0.0</td>\n",
       "      <td>0.0</td>\n",
       "      <td>0.0</td>\n",
       "      <td>...</td>\n",
       "      <td>0.0</td>\n",
       "      <td>0.0</td>\n",
       "      <td>0.0</td>\n",
       "      <td>0.0</td>\n",
       "      <td>0.0</td>\n",
       "      <td>0.0</td>\n",
       "      <td>0.0</td>\n",
       "      <td>0.0</td>\n",
       "      <td>0.0</td>\n",
       "      <td>0.0</td>\n",
       "    </tr>\n",
       "    <tr>\n",
       "      <th>1</th>\n",
       "      <td>0.0</td>\n",
       "      <td>0.000000</td>\n",
       "      <td>0.0</td>\n",
       "      <td>0.0</td>\n",
       "      <td>0.0</td>\n",
       "      <td>0.0</td>\n",
       "      <td>0.0</td>\n",
       "      <td>0.0</td>\n",
       "      <td>0.0</td>\n",
       "      <td>0.0</td>\n",
       "      <td>...</td>\n",
       "      <td>0.0</td>\n",
       "      <td>0.0</td>\n",
       "      <td>0.0</td>\n",
       "      <td>0.0</td>\n",
       "      <td>0.0</td>\n",
       "      <td>0.0</td>\n",
       "      <td>0.0</td>\n",
       "      <td>0.0</td>\n",
       "      <td>0.0</td>\n",
       "      <td>0.0</td>\n",
       "    </tr>\n",
       "    <tr>\n",
       "      <th>2</th>\n",
       "      <td>0.0</td>\n",
       "      <td>0.240561</td>\n",
       "      <td>0.0</td>\n",
       "      <td>0.0</td>\n",
       "      <td>0.0</td>\n",
       "      <td>0.0</td>\n",
       "      <td>0.0</td>\n",
       "      <td>0.0</td>\n",
       "      <td>0.0</td>\n",
       "      <td>0.0</td>\n",
       "      <td>...</td>\n",
       "      <td>0.0</td>\n",
       "      <td>0.0</td>\n",
       "      <td>0.0</td>\n",
       "      <td>0.0</td>\n",
       "      <td>0.0</td>\n",
       "      <td>0.0</td>\n",
       "      <td>0.0</td>\n",
       "      <td>0.0</td>\n",
       "      <td>0.0</td>\n",
       "      <td>0.0</td>\n",
       "    </tr>\n",
       "    <tr>\n",
       "      <th>3</th>\n",
       "      <td>0.0</td>\n",
       "      <td>0.000000</td>\n",
       "      <td>0.0</td>\n",
       "      <td>0.0</td>\n",
       "      <td>0.0</td>\n",
       "      <td>0.0</td>\n",
       "      <td>0.0</td>\n",
       "      <td>0.0</td>\n",
       "      <td>0.0</td>\n",
       "      <td>0.0</td>\n",
       "      <td>...</td>\n",
       "      <td>0.0</td>\n",
       "      <td>0.0</td>\n",
       "      <td>0.0</td>\n",
       "      <td>0.0</td>\n",
       "      <td>0.0</td>\n",
       "      <td>0.0</td>\n",
       "      <td>0.0</td>\n",
       "      <td>0.0</td>\n",
       "      <td>0.0</td>\n",
       "      <td>0.0</td>\n",
       "    </tr>\n",
       "    <tr>\n",
       "      <th>4</th>\n",
       "      <td>0.0</td>\n",
       "      <td>0.000000</td>\n",
       "      <td>0.0</td>\n",
       "      <td>0.0</td>\n",
       "      <td>0.0</td>\n",
       "      <td>0.0</td>\n",
       "      <td>0.0</td>\n",
       "      <td>0.0</td>\n",
       "      <td>0.0</td>\n",
       "      <td>0.0</td>\n",
       "      <td>...</td>\n",
       "      <td>0.0</td>\n",
       "      <td>0.0</td>\n",
       "      <td>0.0</td>\n",
       "      <td>0.0</td>\n",
       "      <td>0.0</td>\n",
       "      <td>0.0</td>\n",
       "      <td>0.0</td>\n",
       "      <td>0.0</td>\n",
       "      <td>0.0</td>\n",
       "      <td>0.0</td>\n",
       "    </tr>\n",
       "  </tbody>\n",
       "</table>\n",
       "<p>5 rows × 19472 columns</p>\n",
       "</div>"
      ],
      "text/plain": [
       "   aaa       aac  aad  aaon  aar  aaron  aastrom  aav   ab  abacus  ...  zvex  \\\n",
       "0  0.0  0.000000  0.0   0.0  0.0    0.0      0.0  0.0  0.0     0.0  ...   0.0   \n",
       "1  0.0  0.000000  0.0   0.0  0.0    0.0      0.0  0.0  0.0     0.0  ...   0.0   \n",
       "2  0.0  0.240561  0.0   0.0  0.0    0.0      0.0  0.0  0.0     0.0  ...   0.0   \n",
       "3  0.0  0.000000  0.0   0.0  0.0    0.0      0.0  0.0  0.0     0.0  ...   0.0   \n",
       "4  0.0  0.000000  0.0   0.0  0.0    0.0      0.0  0.0  0.0     0.0  ...   0.0   \n",
       "\n",
       "   zydeco  zydelig  zydi  zynerba  zynga  zyrtec  zytiga  zyvox  übermonst  \n",
       "0     0.0      0.0   0.0      0.0    0.0     0.0     0.0    0.0        0.0  \n",
       "1     0.0      0.0   0.0      0.0    0.0     0.0     0.0    0.0        0.0  \n",
       "2     0.0      0.0   0.0      0.0    0.0     0.0     0.0    0.0        0.0  \n",
       "3     0.0      0.0   0.0      0.0    0.0     0.0     0.0    0.0        0.0  \n",
       "4     0.0      0.0   0.0      0.0    0.0     0.0     0.0    0.0        0.0  \n",
       "\n",
       "[5 rows x 19472 columns]"
      ]
     },
     "execution_count": 10,
     "metadata": {},
     "output_type": "execute_result"
    },
    {
     "data": {
      "application/javascript": [
       "\n",
       "            setTimeout(function() {\n",
       "                var nbb_cell_id = 10;\n",
       "                var nbb_unformatted_code = \"vectorizer = TfidfVectorizer()\\nvectors = vectorizer.fit_transform(preprocessed)\\nvectorized = pd.DataFrame(vectors.toarray(), columns=vectorizer.get_feature_names())\\n\\nvectorized.head()\";\n",
       "                var nbb_formatted_code = \"vectorizer = TfidfVectorizer()\\nvectors = vectorizer.fit_transform(preprocessed)\\nvectorized = pd.DataFrame(vectors.toarray(), columns=vectorizer.get_feature_names())\\n\\nvectorized.head()\";\n",
       "                var nbb_cells = Jupyter.notebook.get_cells();\n",
       "                for (var i = 0; i < nbb_cells.length; ++i) {\n",
       "                    if (nbb_cells[i].input_prompt_number == nbb_cell_id) {\n",
       "                        if (nbb_cells[i].get_text() == nbb_unformatted_code) {\n",
       "                             nbb_cells[i].set_text(nbb_formatted_code);\n",
       "                        }\n",
       "                        break;\n",
       "                    }\n",
       "                }\n",
       "            }, 500);\n",
       "            "
      ],
      "text/plain": [
       "<IPython.core.display.Javascript object>"
      ]
     },
     "metadata": {},
     "output_type": "display_data"
    }
   ],
   "source": [
    "vectorizer = TfidfVectorizer()\n",
    "vectors = vectorizer.fit_transform(preprocessed)\n",
    "vectorized = pd.DataFrame(vectors.toarray(), columns=vectorizer.get_feature_names())\n",
    "\n",
    "vectorized.head()"
   ]
  },
  {
   "cell_type": "markdown",
   "metadata": {
    "id": "4F3w9-n7MJhL"
   },
   "source": [
    "### Determine the optimal number of clusters using the Yellowbrick library's KElbow Visualizer and a KMeans clustering algorithm."
   ]
  },
  {
   "cell_type": "code",
   "execution_count": 11,
   "metadata": {
    "id": "xDBdUa03MJhM"
   },
   "outputs": [
    {
     "name": "stderr",
     "output_type": "stream",
     "text": [
      "/Users/tarrantcarter/miniconda3/lib/python3.8/site-packages/yellowbrick/utils/kneed.py:182: YellowbrickWarning: No \"knee\" or \"elbow point\" detected This could be due to bad clustering, no actual clusters being formed etc.\n",
      "  warnings.warn(warning_message, YellowbrickWarning)\n",
      "/Users/tarrantcarter/miniconda3/lib/python3.8/site-packages/yellowbrick/utils/kneed.py:140: YellowbrickWarning: No 'knee' or 'elbow point' detected This could be due to bad clustering, no actual clusters being formed etc.\n",
      "  warnings.warn(warning_message, YellowbrickWarning)\n",
      "/Users/tarrantcarter/miniconda3/lib/python3.8/site-packages/yellowbrick/cluster/elbow.py:343: YellowbrickWarning: No 'knee' or 'elbow' point detected, pass `locate_elbow=False` to remove the warning\n",
      "  warnings.warn(warning_message, YellowbrickWarning)\n",
      "/Users/tarrantcarter/miniconda3/lib/python3.8/site-packages/sklearn/base.py:209: FutureWarning: From version 0.24, get_params will raise an AttributeError if a parameter cannot be retrieved as an instance attribute. Previously it would return None.\n",
      "  warnings.warn('From version 0.24, get_params will raise an '\n"
     ]
    },
    {
     "data": {
      "text/plain": [
       "KElbowVisualizer(ax=<AxesSubplot:>, k=None, metric='silhouette', model=None)"
      ]
     },
     "execution_count": 11,
     "metadata": {},
     "output_type": "execute_result"
    },
    {
     "data": {
      "image/png": "[encoded data removed]",
      "text/plain": [
       "<Figure size 1008x576 with 2 Axes>"
      ]
     },
     "metadata": {},
     "output_type": "display_data"
    },
    {
     "data": {
      "application/javascript": [
       "\n",
       "            setTimeout(function() {\n",
       "                var nbb_cell_id = 11;\n",
       "                var nbb_unformatted_code = \"from pylab import rcParams\\n\\nrcParams[\\\"figure.figsize\\\"] = 14, 8\\n\\n\\nmodel = KMeans()\\nvisualizer = KElbowVisualizer(model, k=(8, 14), metric=\\\"silhouette\\\")\\n\\nvisualizer.fit(vectorized)\";\n",
       "                var nbb_formatted_code = \"from pylab import rcParams\\n\\nrcParams[\\\"figure.figsize\\\"] = 14, 8\\n\\n\\nmodel = KMeans()\\nvisualizer = KElbowVisualizer(model, k=(8, 14), metric=\\\"silhouette\\\")\\n\\nvisualizer.fit(vectorized)\";\n",
       "                var nbb_cells = Jupyter.notebook.get_cells();\n",
       "                for (var i = 0; i < nbb_cells.length; ++i) {\n",
       "                    if (nbb_cells[i].input_prompt_number == nbb_cell_id) {\n",
       "                        if (nbb_cells[i].get_text() == nbb_unformatted_code) {\n",
       "                             nbb_cells[i].set_text(nbb_formatted_code);\n",
       "                        }\n",
       "                        break;\n",
       "                    }\n",
       "                }\n",
       "            }, 500);\n",
       "            "
      ],
      "text/plain": [
       "<IPython.core.display.Javascript object>"
      ]
     },
     "metadata": {},
     "output_type": "display_data"
    }
   ],
   "source": [
    "from pylab import rcParams\n",
    "\n",
    "rcParams[\"figure.figsize\"] = 14, 8\n",
    "\n",
    "\n",
    "model = KMeans()\n",
    "visualizer = KElbowVisualizer(model, k=(8, 14), metric=\"silhouette\")\n",
    "\n",
    "visualizer.fit(vectorized)"
   ]
  },
  {
   "cell_type": "markdown",
   "metadata": {
    "id": "QIurKlo-MJhP"
   },
   "source": [
    "### Perform K-Means Clustering using the optimal number of clusters determine in the previous step."
   ]
  },
  {
   "cell_type": "code",
   "execution_count": 12,
   "metadata": {
    "id": "jd0DuxrKMJhP"
   },
   "outputs": [
    {
     "data": {
      "text/plain": [
       "array([2, 3, 3, ..., 3, 0, 9], dtype=int32)"
      ]
     },
     "execution_count": 12,
     "metadata": {},
     "output_type": "execute_result"
    },
    {
     "data": {
      "application/javascript": [
       "\n",
       "            setTimeout(function() {\n",
       "                var nbb_cell_id = 12;\n",
       "                var nbb_unformatted_code = \"model = KMeans(n_clusters=10)\\nclusters = model.fit_predict(vectorized)\\nclusters\";\n",
       "                var nbb_formatted_code = \"model = KMeans(n_clusters=10)\\nclusters = model.fit_predict(vectorized)\\nclusters\";\n",
       "                var nbb_cells = Jupyter.notebook.get_cells();\n",
       "                for (var i = 0; i < nbb_cells.length; ++i) {\n",
       "                    if (nbb_cells[i].input_prompt_number == nbb_cell_id) {\n",
       "                        if (nbb_cells[i].get_text() == nbb_unformatted_code) {\n",
       "                             nbb_cells[i].set_text(nbb_formatted_code);\n",
       "                        }\n",
       "                        break;\n",
       "                    }\n",
       "                }\n",
       "            }, 500);\n",
       "            "
      ],
      "text/plain": [
       "<IPython.core.display.Javascript object>"
      ]
     },
     "metadata": {},
     "output_type": "display_data"
    }
   ],
   "source": [
    "model = KMeans(n_clusters=10)\n",
    "clusters = model.fit_predict(vectorized)\n",
    "clusters"
   ]
  },
  {
   "cell_type": "code",
   "execution_count": 13,
   "metadata": {},
   "outputs": [
    {
     "data": {
      "text/html": [
       "<div>\n",
       "<style scoped>\n",
       "    .dataframe tbody tr th:only-of-type {\n",
       "        vertical-align: middle;\n",
       "    }\n",
       "\n",
       "    .dataframe tbody tr th {\n",
       "        vertical-align: top;\n",
       "    }\n",
       "\n",
       "    .dataframe thead th {\n",
       "        text-align: right;\n",
       "    }\n",
       "</style>\n",
       "<table border=\"1\" class=\"dataframe\">\n",
       "  <thead>\n",
       "    <tr style=\"text-align: right;\">\n",
       "      <th></th>\n",
       "      <th>text</th>\n",
       "    </tr>\n",
       "  </thead>\n",
       "  <tbody>\n",
       "    <tr>\n",
       "      <th>0</th>\n",
       "      <td>Agilent Technologies, Inc. provides applicatio...</td>\n",
       "    </tr>\n",
       "    <tr>\n",
       "      <th>1</th>\n",
       "      <td>Alcoa Corporation produces and sells bauxite, ...</td>\n",
       "    </tr>\n",
       "    <tr>\n",
       "      <th>2</th>\n",
       "      <td>AAC Holdings, Inc. provides inpatient and outp...</td>\n",
       "    </tr>\n",
       "    <tr>\n",
       "      <th>3</th>\n",
       "      <td>American Airlines Group Inc., through its subs...</td>\n",
       "    </tr>\n",
       "    <tr>\n",
       "      <th>4</th>\n",
       "      <td>Altisource Asset Management Corporation, an as...</td>\n",
       "    </tr>\n",
       "  </tbody>\n",
       "</table>\n",
       "</div>"
      ],
      "text/plain": [
       "                                                text\n",
       "0  Agilent Technologies, Inc. provides applicatio...\n",
       "1  Alcoa Corporation produces and sells bauxite, ...\n",
       "2  AAC Holdings, Inc. provides inpatient and outp...\n",
       "3  American Airlines Group Inc., through its subs...\n",
       "4  Altisource Asset Management Corporation, an as..."
      ]
     },
     "execution_count": 13,
     "metadata": {},
     "output_type": "execute_result"
    },
    {
     "data": {
      "application/javascript": [
       "\n",
       "            setTimeout(function() {\n",
       "                var nbb_cell_id = 13;\n",
       "                var nbb_unformatted_code = \"df = pd.DataFrame(docs, columns=[\\\"text\\\"])\\ndf.head()\";\n",
       "                var nbb_formatted_code = \"df = pd.DataFrame(docs, columns=[\\\"text\\\"])\\ndf.head()\";\n",
       "                var nbb_cells = Jupyter.notebook.get_cells();\n",
       "                for (var i = 0; i < nbb_cells.length; ++i) {\n",
       "                    if (nbb_cells[i].input_prompt_number == nbb_cell_id) {\n",
       "                        if (nbb_cells[i].get_text() == nbb_unformatted_code) {\n",
       "                             nbb_cells[i].set_text(nbb_formatted_code);\n",
       "                        }\n",
       "                        break;\n",
       "                    }\n",
       "                }\n",
       "            }, 500);\n",
       "            "
      ],
      "text/plain": [
       "<IPython.core.display.Javascript object>"
      ]
     },
     "metadata": {},
     "output_type": "display_data"
    }
   ],
   "source": [
    "df = pd.DataFrame(docs, columns=[\"text\"])\n",
    "df.head()"
   ]
  },
  {
   "cell_type": "code",
   "execution_count": 14,
   "metadata": {},
   "outputs": [
    {
     "data": {
      "text/html": [
       "<div>\n",
       "<style scoped>\n",
       "    .dataframe tbody tr th:only-of-type {\n",
       "        vertical-align: middle;\n",
       "    }\n",
       "\n",
       "    .dataframe tbody tr th {\n",
       "        vertical-align: top;\n",
       "    }\n",
       "\n",
       "    .dataframe thead th {\n",
       "        text-align: right;\n",
       "    }\n",
       "</style>\n",
       "<table border=\"1\" class=\"dataframe\">\n",
       "  <thead>\n",
       "    <tr style=\"text-align: right;\">\n",
       "      <th></th>\n",
       "      <th>text</th>\n",
       "      <th>title</th>\n",
       "      <th>cluster</th>\n",
       "    </tr>\n",
       "  </thead>\n",
       "  <tbody>\n",
       "    <tr>\n",
       "      <th>0</th>\n",
       "      <td>Agilent Technologies, Inc. provides applicatio...</td>\n",
       "      <td>A-profile.txt</td>\n",
       "      <td>2</td>\n",
       "    </tr>\n",
       "    <tr>\n",
       "      <th>1</th>\n",
       "      <td>Alcoa Corporation produces and sells bauxite, ...</td>\n",
       "      <td>AA-profile.txt</td>\n",
       "      <td>3</td>\n",
       "    </tr>\n",
       "    <tr>\n",
       "      <th>2</th>\n",
       "      <td>AAC Holdings, Inc. provides inpatient and outp...</td>\n",
       "      <td>AAC-profile.txt</td>\n",
       "      <td>3</td>\n",
       "    </tr>\n",
       "    <tr>\n",
       "      <th>3</th>\n",
       "      <td>American Airlines Group Inc., through its subs...</td>\n",
       "      <td>AAL-profile.txt</td>\n",
       "      <td>3</td>\n",
       "    </tr>\n",
       "    <tr>\n",
       "      <th>4</th>\n",
       "      <td>Altisource Asset Management Corporation, an as...</td>\n",
       "      <td>AAMC-profile.txt</td>\n",
       "      <td>5</td>\n",
       "    </tr>\n",
       "    <tr>\n",
       "      <th>5</th>\n",
       "      <td>Atlantic American Corporation, through its sub...</td>\n",
       "      <td>AAME-profile.txt</td>\n",
       "      <td>1</td>\n",
       "    </tr>\n",
       "    <tr>\n",
       "      <th>6</th>\n",
       "      <td>Aaron's, Inc. operates as an omnichannel provi...</td>\n",
       "      <td>AAN-profile.txt</td>\n",
       "      <td>0</td>\n",
       "    </tr>\n",
       "    <tr>\n",
       "      <th>7</th>\n",
       "      <td>Applied Optoelectronics, Inc. designs, manufac...</td>\n",
       "      <td>AAOI-profile.txt</td>\n",
       "      <td>2</td>\n",
       "    </tr>\n",
       "    <tr>\n",
       "      <th>8</th>\n",
       "      <td>AAON, Inc., together with its subsidiaries, en...</td>\n",
       "      <td>AAON-profile.txt</td>\n",
       "      <td>2</td>\n",
       "    </tr>\n",
       "    <tr>\n",
       "      <th>9</th>\n",
       "      <td>Advance Auto Parts, Inc. provides automotive r...</td>\n",
       "      <td>AAP-profile.txt</td>\n",
       "      <td>2</td>\n",
       "    </tr>\n",
       "    <tr>\n",
       "      <th>10</th>\n",
       "      <td>Apple Inc. designs, manufactures, and markets ...</td>\n",
       "      <td>AAPL-profile.txt</td>\n",
       "      <td>0</td>\n",
       "    </tr>\n",
       "    <tr>\n",
       "      <th>11</th>\n",
       "      <td>American Assets Trust, Inc. (the ?company?) is...</td>\n",
       "      <td>AAT-profile.txt</td>\n",
       "      <td>6</td>\n",
       "    </tr>\n",
       "    <tr>\n",
       "      <th>12</th>\n",
       "      <td>Atlas Air Worldwide Holdings, Inc., through it...</td>\n",
       "      <td>AAWW-profile.txt</td>\n",
       "      <td>3</td>\n",
       "    </tr>\n",
       "    <tr>\n",
       "      <th>13</th>\n",
       "      <td>AllianceBernstein Holding L.P. is publicly own...</td>\n",
       "      <td>AB-profile.txt</td>\n",
       "      <td>7</td>\n",
       "    </tr>\n",
       "    <tr>\n",
       "      <th>14</th>\n",
       "      <td>Abaxis, Inc. develops, manufactures, markets, ...</td>\n",
       "      <td>ABAX-profile.txt</td>\n",
       "      <td>3</td>\n",
       "    </tr>\n",
       "  </tbody>\n",
       "</table>\n",
       "</div>"
      ],
      "text/plain": [
       "                                                 text             title  \\\n",
       "0   Agilent Technologies, Inc. provides applicatio...     A-profile.txt   \n",
       "1   Alcoa Corporation produces and sells bauxite, ...    AA-profile.txt   \n",
       "2   AAC Holdings, Inc. provides inpatient and outp...   AAC-profile.txt   \n",
       "3   American Airlines Group Inc., through its subs...   AAL-profile.txt   \n",
       "4   Altisource Asset Management Corporation, an as...  AAMC-profile.txt   \n",
       "5   Atlantic American Corporation, through its sub...  AAME-profile.txt   \n",
       "6   Aaron's, Inc. operates as an omnichannel provi...   AAN-profile.txt   \n",
       "7   Applied Optoelectronics, Inc. designs, manufac...  AAOI-profile.txt   \n",
       "8   AAON, Inc., together with its subsidiaries, en...  AAON-profile.txt   \n",
       "9   Advance Auto Parts, Inc. provides automotive r...   AAP-profile.txt   \n",
       "10  Apple Inc. designs, manufactures, and markets ...  AAPL-profile.txt   \n",
       "11  American Assets Trust, Inc. (the ?company?) is...   AAT-profile.txt   \n",
       "12  Atlas Air Worldwide Holdings, Inc., through it...  AAWW-profile.txt   \n",
       "13  AllianceBernstein Holding L.P. is publicly own...    AB-profile.txt   \n",
       "14  Abaxis, Inc. develops, manufactures, markets, ...  ABAX-profile.txt   \n",
       "\n",
       "    cluster  \n",
       "0         2  \n",
       "1         3  \n",
       "2         3  \n",
       "3         3  \n",
       "4         5  \n",
       "5         1  \n",
       "6         0  \n",
       "7         2  \n",
       "8         2  \n",
       "9         2  \n",
       "10        0  \n",
       "11        6  \n",
       "12        3  \n",
       "13        7  \n",
       "14        3  "
      ]
     },
     "execution_count": 14,
     "metadata": {},
     "output_type": "execute_result"
    },
    {
     "data": {
      "application/javascript": [
       "\n",
       "            setTimeout(function() {\n",
       "                var nbb_cell_id = 14;\n",
       "                var nbb_unformatted_code = \"df[\\\"title\\\"] = corpus.fileids()\\ndf[\\\"cluster\\\"] = clusters\\n\\ndf.head(15)\";\n",
       "                var nbb_formatted_code = \"df[\\\"title\\\"] = corpus.fileids()\\ndf[\\\"cluster\\\"] = clusters\\n\\ndf.head(15)\";\n",
       "                var nbb_cells = Jupyter.notebook.get_cells();\n",
       "                for (var i = 0; i < nbb_cells.length; ++i) {\n",
       "                    if (nbb_cells[i].input_prompt_number == nbb_cell_id) {\n",
       "                        if (nbb_cells[i].get_text() == nbb_unformatted_code) {\n",
       "                             nbb_cells[i].set_text(nbb_formatted_code);\n",
       "                        }\n",
       "                        break;\n",
       "                    }\n",
       "                }\n",
       "            }, 500);\n",
       "            "
      ],
      "text/plain": [
       "<IPython.core.display.Javascript object>"
      ]
     },
     "metadata": {},
     "output_type": "display_data"
    }
   ],
   "source": [
    "df[\"title\"] = corpus.fileids()\n",
    "df[\"cluster\"] = clusters\n",
    "\n",
    "df.head(15)"
   ]
  },
  {
   "cell_type": "markdown",
   "metadata": {
    "id": "XzlVKvK1MJhR"
   },
   "source": [
    "### Perform Agglomerative Clustering using the same number of clusters."
   ]
  },
  {
   "cell_type": "code",
   "execution_count": 15,
   "metadata": {
    "id": "yXa_ofOOMJhS"
   },
   "outputs": [
    {
     "data": {
      "application/javascript": [
       "\n",
       "            setTimeout(function() {\n",
       "                var nbb_cell_id = 15;\n",
       "                var nbb_unformatted_code = \"model = AgglomerativeClustering(n_clusters=10)\\nclusters = model.fit_predict(vectorized)\";\n",
       "                var nbb_formatted_code = \"model = AgglomerativeClustering(n_clusters=10)\\nclusters = model.fit_predict(vectorized)\";\n",
       "                var nbb_cells = Jupyter.notebook.get_cells();\n",
       "                for (var i = 0; i < nbb_cells.length; ++i) {\n",
       "                    if (nbb_cells[i].input_prompt_number == nbb_cell_id) {\n",
       "                        if (nbb_cells[i].get_text() == nbb_unformatted_code) {\n",
       "                             nbb_cells[i].set_text(nbb_formatted_code);\n",
       "                        }\n",
       "                        break;\n",
       "                    }\n",
       "                }\n",
       "            }, 500);\n",
       "            "
      ],
      "text/plain": [
       "<IPython.core.display.Javascript object>"
      ]
     },
     "metadata": {},
     "output_type": "display_data"
    }
   ],
   "source": [
    "model = AgglomerativeClustering(n_clusters=10)\n",
    "clusters = model.fit_predict(vectorized)"
   ]
  },
  {
   "cell_type": "code",
   "execution_count": 16,
   "metadata": {},
   "outputs": [
    {
     "data": {
      "text/html": [
       "<div>\n",
       "<style scoped>\n",
       "    .dataframe tbody tr th:only-of-type {\n",
       "        vertical-align: middle;\n",
       "    }\n",
       "\n",
       "    .dataframe tbody tr th {\n",
       "        vertical-align: top;\n",
       "    }\n",
       "\n",
       "    .dataframe thead th {\n",
       "        text-align: right;\n",
       "    }\n",
       "</style>\n",
       "<table border=\"1\" class=\"dataframe\">\n",
       "  <thead>\n",
       "    <tr style=\"text-align: right;\">\n",
       "      <th></th>\n",
       "      <th>text</th>\n",
       "      <th>title</th>\n",
       "      <th>cluster</th>\n",
       "    </tr>\n",
       "  </thead>\n",
       "  <tbody>\n",
       "    <tr>\n",
       "      <th>0</th>\n",
       "      <td>Agilent Technologies, Inc. provides applicatio...</td>\n",
       "      <td>A-profile.txt</td>\n",
       "      <td>0</td>\n",
       "    </tr>\n",
       "    <tr>\n",
       "      <th>1</th>\n",
       "      <td>Alcoa Corporation produces and sells bauxite, ...</td>\n",
       "      <td>AA-profile.txt</td>\n",
       "      <td>8</td>\n",
       "    </tr>\n",
       "    <tr>\n",
       "      <th>2</th>\n",
       "      <td>AAC Holdings, Inc. provides inpatient and outp...</td>\n",
       "      <td>AAC-profile.txt</td>\n",
       "      <td>0</td>\n",
       "    </tr>\n",
       "    <tr>\n",
       "      <th>3</th>\n",
       "      <td>American Airlines Group Inc., through its subs...</td>\n",
       "      <td>AAL-profile.txt</td>\n",
       "      <td>8</td>\n",
       "    </tr>\n",
       "    <tr>\n",
       "      <th>4</th>\n",
       "      <td>Altisource Asset Management Corporation, an as...</td>\n",
       "      <td>AAMC-profile.txt</td>\n",
       "      <td>3</td>\n",
       "    </tr>\n",
       "    <tr>\n",
       "      <th>5</th>\n",
       "      <td>Atlantic American Corporation, through its sub...</td>\n",
       "      <td>AAME-profile.txt</td>\n",
       "      <td>6</td>\n",
       "    </tr>\n",
       "    <tr>\n",
       "      <th>6</th>\n",
       "      <td>Aaron's, Inc. operates as an omnichannel provi...</td>\n",
       "      <td>AAN-profile.txt</td>\n",
       "      <td>0</td>\n",
       "    </tr>\n",
       "    <tr>\n",
       "      <th>7</th>\n",
       "      <td>Applied Optoelectronics, Inc. designs, manufac...</td>\n",
       "      <td>AAOI-profile.txt</td>\n",
       "      <td>8</td>\n",
       "    </tr>\n",
       "    <tr>\n",
       "      <th>8</th>\n",
       "      <td>AAON, Inc., together with its subsidiaries, en...</td>\n",
       "      <td>AAON-profile.txt</td>\n",
       "      <td>8</td>\n",
       "    </tr>\n",
       "    <tr>\n",
       "      <th>9</th>\n",
       "      <td>Advance Auto Parts, Inc. provides automotive r...</td>\n",
       "      <td>AAP-profile.txt</td>\n",
       "      <td>8</td>\n",
       "    </tr>\n",
       "    <tr>\n",
       "      <th>10</th>\n",
       "      <td>Apple Inc. designs, manufactures, and markets ...</td>\n",
       "      <td>AAPL-profile.txt</td>\n",
       "      <td>8</td>\n",
       "    </tr>\n",
       "    <tr>\n",
       "      <th>11</th>\n",
       "      <td>American Assets Trust, Inc. (the ?company?) is...</td>\n",
       "      <td>AAT-profile.txt</td>\n",
       "      <td>1</td>\n",
       "    </tr>\n",
       "    <tr>\n",
       "      <th>12</th>\n",
       "      <td>Atlas Air Worldwide Holdings, Inc., through it...</td>\n",
       "      <td>AAWW-profile.txt</td>\n",
       "      <td>8</td>\n",
       "    </tr>\n",
       "    <tr>\n",
       "      <th>13</th>\n",
       "      <td>AllianceBernstein Holding L.P. is publicly own...</td>\n",
       "      <td>AB-profile.txt</td>\n",
       "      <td>2</td>\n",
       "    </tr>\n",
       "    <tr>\n",
       "      <th>14</th>\n",
       "      <td>Abaxis, Inc. develops, manufactures, markets, ...</td>\n",
       "      <td>ABAX-profile.txt</td>\n",
       "      <td>0</td>\n",
       "    </tr>\n",
       "  </tbody>\n",
       "</table>\n",
       "</div>"
      ],
      "text/plain": [
       "                                                 text             title  \\\n",
       "0   Agilent Technologies, Inc. provides applicatio...     A-profile.txt   \n",
       "1   Alcoa Corporation produces and sells bauxite, ...    AA-profile.txt   \n",
       "2   AAC Holdings, Inc. provides inpatient and outp...   AAC-profile.txt   \n",
       "3   American Airlines Group Inc., through its subs...   AAL-profile.txt   \n",
       "4   Altisource Asset Management Corporation, an as...  AAMC-profile.txt   \n",
       "5   Atlantic American Corporation, through its sub...  AAME-profile.txt   \n",
       "6   Aaron's, Inc. operates as an omnichannel provi...   AAN-profile.txt   \n",
       "7   Applied Optoelectronics, Inc. designs, manufac...  AAOI-profile.txt   \n",
       "8   AAON, Inc., together with its subsidiaries, en...  AAON-profile.txt   \n",
       "9   Advance Auto Parts, Inc. provides automotive r...   AAP-profile.txt   \n",
       "10  Apple Inc. designs, manufactures, and markets ...  AAPL-profile.txt   \n",
       "11  American Assets Trust, Inc. (the ?company?) is...   AAT-profile.txt   \n",
       "12  Atlas Air Worldwide Holdings, Inc., through it...  AAWW-profile.txt   \n",
       "13  AllianceBernstein Holding L.P. is publicly own...    AB-profile.txt   \n",
       "14  Abaxis, Inc. develops, manufactures, markets, ...  ABAX-profile.txt   \n",
       "\n",
       "    cluster  \n",
       "0         0  \n",
       "1         8  \n",
       "2         0  \n",
       "3         8  \n",
       "4         3  \n",
       "5         6  \n",
       "6         0  \n",
       "7         8  \n",
       "8         8  \n",
       "9         8  \n",
       "10        8  \n",
       "11        1  \n",
       "12        8  \n",
       "13        2  \n",
       "14        0  "
      ]
     },
     "execution_count": 16,
     "metadata": {},
     "output_type": "execute_result"
    },
    {
     "data": {
      "application/javascript": [
       "\n",
       "            setTimeout(function() {\n",
       "                var nbb_cell_id = 16;\n",
       "                var nbb_unformatted_code = \"df = pd.DataFrame(docs, columns=[\\\"text\\\"])\\ndf[\\\"title\\\"] = corpus.fileids()\\ndf[\\\"cluster\\\"] = clusters\\n\\ndf.head(15)\";\n",
       "                var nbb_formatted_code = \"df = pd.DataFrame(docs, columns=[\\\"text\\\"])\\ndf[\\\"title\\\"] = corpus.fileids()\\ndf[\\\"cluster\\\"] = clusters\\n\\ndf.head(15)\";\n",
       "                var nbb_cells = Jupyter.notebook.get_cells();\n",
       "                for (var i = 0; i < nbb_cells.length; ++i) {\n",
       "                    if (nbb_cells[i].input_prompt_number == nbb_cell_id) {\n",
       "                        if (nbb_cells[i].get_text() == nbb_unformatted_code) {\n",
       "                             nbb_cells[i].set_text(nbb_formatted_code);\n",
       "                        }\n",
       "                        break;\n",
       "                    }\n",
       "                }\n",
       "            }, 500);\n",
       "            "
      ],
      "text/plain": [
       "<IPython.core.display.Javascript object>"
      ]
     },
     "metadata": {},
     "output_type": "display_data"
    }
   ],
   "source": [
    "df = pd.DataFrame(docs, columns=[\"text\"])\n",
    "df[\"title\"] = corpus.fileids()\n",
    "df[\"cluster\"] = clusters\n",
    "\n",
    "df.head(15)"
   ]
  },
  {
   "cell_type": "markdown",
   "metadata": {
    "id": "tFlkG5TyMJhU"
   },
   "source": [
    "### Choose one of the three topic modeling approaches covered. Cluster into the optimal number of clusters and extract 5 keywords that represent the documents in each cluster."
   ]
  },
  {
   "cell_type": "code",
   "execution_count": 17,
   "metadata": {
    "id": "29jDpqjAMJhV"
   },
   "outputs": [
    {
     "data": {
      "text/plain": [
       "array([[0.        , 0.07265404, 0.0052554 ],\n",
       "       [0.00243378, 0.03047082, 0.01699538],\n",
       "       [0.01063867, 0.05428699, 0.00224344],\n",
       "       ...,\n",
       "       [0.00332181, 0.05585005, 0.00152909],\n",
       "       [0.        , 0.03781271, 0.00917004],\n",
       "       [0.        , 0.03246101, 0.00073762]])"
      ]
     },
     "execution_count": 17,
     "metadata": {},
     "output_type": "execute_result"
    },
    {
     "data": {
      "application/javascript": [
       "\n",
       "            setTimeout(function() {\n",
       "                var nbb_cell_id = 17;\n",
       "                var nbb_unformatted_code = \"# non-negative matrix facotrization\\nfrom sklearn.decomposition import NMF\\n\\nnum_keywords = 5\\nnum_topics = 3\\n\\n# vectorize docs\\nvectorizer = TfidfVectorizer()\\nmodel = NMF(n_components=num_topics)\\n\\nvectorized = vectorizer.fit_transform(preprocessed)\\nmodel.fit_transform(vectorized)\";\n",
       "                var nbb_formatted_code = \"# non-negative matrix facotrization\\nfrom sklearn.decomposition import NMF\\n\\nnum_keywords = 5\\nnum_topics = 3\\n\\n# vectorize docs\\nvectorizer = TfidfVectorizer()\\nmodel = NMF(n_components=num_topics)\\n\\nvectorized = vectorizer.fit_transform(preprocessed)\\nmodel.fit_transform(vectorized)\";\n",
       "                var nbb_cells = Jupyter.notebook.get_cells();\n",
       "                for (var i = 0; i < nbb_cells.length; ++i) {\n",
       "                    if (nbb_cells[i].input_prompt_number == nbb_cell_id) {\n",
       "                        if (nbb_cells[i].get_text() == nbb_unformatted_code) {\n",
       "                             nbb_cells[i].set_text(nbb_formatted_code);\n",
       "                        }\n",
       "                        break;\n",
       "                    }\n",
       "                }\n",
       "            }, 500);\n",
       "            "
      ],
      "text/plain": [
       "<IPython.core.display.Javascript object>"
      ]
     },
     "metadata": {},
     "output_type": "display_data"
    }
   ],
   "source": [
    "# non-negative matrix facotrization\n",
    "from sklearn.decomposition import NMF\n",
    "\n",
    "num_keywords = 5\n",
    "num_topics = 3\n",
    "\n",
    "# vectorize docs\n",
    "vectorizer = TfidfVectorizer()\n",
    "model = NMF(n_components=num_topics)\n",
    "\n",
    "vectorized = vectorizer.fit_transform(preprocessed)\n",
    "model.fit_transform(vectorized)"
   ]
  },
  {
   "cell_type": "code",
   "execution_count": 18,
   "metadata": {},
   "outputs": [
    {
     "data": {
      "text/html": [
       "<div>\n",
       "<style scoped>\n",
       "    .dataframe tbody tr th:only-of-type {\n",
       "        vertical-align: middle;\n",
       "    }\n",
       "\n",
       "    .dataframe tbody tr th {\n",
       "        vertical-align: top;\n",
       "    }\n",
       "\n",
       "    .dataframe thead th {\n",
       "        text-align: right;\n",
       "    }\n",
       "</style>\n",
       "<table border=\"1\" class=\"dataframe\">\n",
       "  <thead>\n",
       "    <tr style=\"text-align: right;\">\n",
       "      <th></th>\n",
       "      <th>aaa</th>\n",
       "      <th>aac</th>\n",
       "      <th>aad</th>\n",
       "      <th>aaon</th>\n",
       "      <th>aar</th>\n",
       "      <th>aaron</th>\n",
       "      <th>aastrom</th>\n",
       "      <th>aav</th>\n",
       "      <th>ab</th>\n",
       "      <th>abacus</th>\n",
       "      <th>...</th>\n",
       "      <th>zvex</th>\n",
       "      <th>zydeco</th>\n",
       "      <th>zydelig</th>\n",
       "      <th>zydi</th>\n",
       "      <th>zynerba</th>\n",
       "      <th>zynga</th>\n",
       "      <th>zyrtec</th>\n",
       "      <th>zytiga</th>\n",
       "      <th>zyvox</th>\n",
       "      <th>übermonst</th>\n",
       "    </tr>\n",
       "  </thead>\n",
       "  <tbody>\n",
       "    <tr>\n",
       "      <th>0</th>\n",
       "      <td>0.000036</td>\n",
       "      <td>0.000053</td>\n",
       "      <td>0.000000</td>\n",
       "      <td>0.000000</td>\n",
       "      <td>0.000000</td>\n",
       "      <td>0.000000</td>\n",
       "      <td>0.000000</td>\n",
       "      <td>0.000000</td>\n",
       "      <td>0.000000</td>\n",
       "      <td>0.000000</td>\n",
       "      <td>...</td>\n",
       "      <td>0.000000</td>\n",
       "      <td>0.000000</td>\n",
       "      <td>0.000000</td>\n",
       "      <td>0.000000</td>\n",
       "      <td>0.000000</td>\n",
       "      <td>0.000000</td>\n",
       "      <td>0.0000</td>\n",
       "      <td>0.000000</td>\n",
       "      <td>0.000000</td>\n",
       "      <td>0.000000</td>\n",
       "    </tr>\n",
       "    <tr>\n",
       "      <th>1</th>\n",
       "      <td>0.000522</td>\n",
       "      <td>0.001253</td>\n",
       "      <td>0.000766</td>\n",
       "      <td>0.002591</td>\n",
       "      <td>0.001824</td>\n",
       "      <td>0.002608</td>\n",
       "      <td>0.000682</td>\n",
       "      <td>0.001761</td>\n",
       "      <td>0.002315</td>\n",
       "      <td>0.000739</td>\n",
       "      <td>...</td>\n",
       "      <td>0.000603</td>\n",
       "      <td>0.000000</td>\n",
       "      <td>0.000395</td>\n",
       "      <td>0.000776</td>\n",
       "      <td>0.001198</td>\n",
       "      <td>0.003392</td>\n",
       "      <td>0.0006</td>\n",
       "      <td>0.000343</td>\n",
       "      <td>0.000569</td>\n",
       "      <td>0.000097</td>\n",
       "    </tr>\n",
       "    <tr>\n",
       "      <th>2</th>\n",
       "      <td>0.000336</td>\n",
       "      <td>0.000000</td>\n",
       "      <td>0.000000</td>\n",
       "      <td>0.000834</td>\n",
       "      <td>0.000000</td>\n",
       "      <td>0.001123</td>\n",
       "      <td>0.000000</td>\n",
       "      <td>0.000000</td>\n",
       "      <td>0.000000</td>\n",
       "      <td>0.000000</td>\n",
       "      <td>...</td>\n",
       "      <td>0.000000</td>\n",
       "      <td>0.000958</td>\n",
       "      <td>0.000000</td>\n",
       "      <td>0.000000</td>\n",
       "      <td>0.000000</td>\n",
       "      <td>0.000000</td>\n",
       "      <td>0.0000</td>\n",
       "      <td>0.000000</td>\n",
       "      <td>0.000000</td>\n",
       "      <td>0.000139</td>\n",
       "    </tr>\n",
       "  </tbody>\n",
       "</table>\n",
       "<p>3 rows × 19472 columns</p>\n",
       "</div>"
      ],
      "text/plain": [
       "        aaa       aac       aad      aaon       aar     aaron   aastrom  \\\n",
       "0  0.000036  0.000053  0.000000  0.000000  0.000000  0.000000  0.000000   \n",
       "1  0.000522  0.001253  0.000766  0.002591  0.001824  0.002608  0.000682   \n",
       "2  0.000336  0.000000  0.000000  0.000834  0.000000  0.001123  0.000000   \n",
       "\n",
       "        aav        ab    abacus  ...      zvex    zydeco   zydelig      zydi  \\\n",
       "0  0.000000  0.000000  0.000000  ...  0.000000  0.000000  0.000000  0.000000   \n",
       "1  0.001761  0.002315  0.000739  ...  0.000603  0.000000  0.000395  0.000776   \n",
       "2  0.000000  0.000000  0.000000  ...  0.000000  0.000958  0.000000  0.000000   \n",
       "\n",
       "    zynerba     zynga  zyrtec    zytiga     zyvox  übermonst  \n",
       "0  0.000000  0.000000  0.0000  0.000000  0.000000   0.000000  \n",
       "1  0.001198  0.003392  0.0006  0.000343  0.000569   0.000097  \n",
       "2  0.000000  0.000000  0.0000  0.000000  0.000000   0.000139  \n",
       "\n",
       "[3 rows x 19472 columns]"
      ]
     },
     "execution_count": 18,
     "metadata": {},
     "output_type": "execute_result"
    },
    {
     "data": {
      "application/javascript": [
       "\n",
       "            setTimeout(function() {\n",
       "                var nbb_cell_id = 18;\n",
       "                var nbb_unformatted_code = \"pd.DataFrame(model.components_, columns=vectorizer.get_feature_names())\";\n",
       "                var nbb_formatted_code = \"pd.DataFrame(model.components_, columns=vectorizer.get_feature_names())\";\n",
       "                var nbb_cells = Jupyter.notebook.get_cells();\n",
       "                for (var i = 0; i < nbb_cells.length; ++i) {\n",
       "                    if (nbb_cells[i].input_prompt_number == nbb_cell_id) {\n",
       "                        if (nbb_cells[i].get_text() == nbb_unformatted_code) {\n",
       "                             nbb_cells[i].set_text(nbb_formatted_code);\n",
       "                        }\n",
       "                        break;\n",
       "                    }\n",
       "                }\n",
       "            }, 500);\n",
       "            "
      ],
      "text/plain": [
       "<IPython.core.display.Javascript object>"
      ]
     },
     "metadata": {},
     "output_type": "display_data"
    }
   ],
   "source": [
    "pd.DataFrame(model.components_, columns=vectorizer.get_feature_names())"
   ]
  },
  {
   "cell_type": "code",
   "execution_count": 19,
   "metadata": {},
   "outputs": [
    {
     "name": "stdout",
     "output_type": "stream",
     "text": [
      "topic 0\n",
      "loan 1.9752534631574779\n",
      "bank 1.3149296439294247\n",
      "deposit 0.9534441922239152\n",
      "account 0.8396299835634073\n",
      "servic 0.7222410877823021\n",
      "--------------------------------\n",
      "topic 1\n",
      "servic 0.8812137664494751\n",
      "product 0.7598958140490663\n",
      "segment 0.6084567664517806\n",
      "solut 0.5614632114961663\n",
      "system 0.5521342407409433\n",
      "--------------------------------\n",
      "topic 2\n",
      "gas 1.1397481590451912\n",
      "natur 0.8761653975337189\n",
      "oil 0.8648707287585403\n",
      "energi 0.4769800421984857\n",
      "texa 0.3779684519255853\n",
      "--------------------------------\n"
     ]
    },
    {
     "data": {
      "application/javascript": [
       "\n",
       "            setTimeout(function() {\n",
       "                var nbb_cell_id = 19;\n",
       "                var nbb_unformatted_code = \"for index, topic in enumerate(model.components_):\\n    print(\\\"topic\\\", index)\\n    # sort scores and grab the index of top scoring words in each topic\\n    for i in topic.argsort()[: -num_keywords - 1 : -1]:\\n        # term, component score\\n        print(vectorizer.get_feature_names()[i], topic[i])\\n\\n    print(\\\"--------------------------------\\\")\";\n",
       "                var nbb_formatted_code = \"for index, topic in enumerate(model.components_):\\n    print(\\\"topic\\\", index)\\n    # sort scores and grab the index of top scoring words in each topic\\n    for i in topic.argsort()[: -num_keywords - 1 : -1]:\\n        # term, component score\\n        print(vectorizer.get_feature_names()[i], topic[i])\\n\\n    print(\\\"--------------------------------\\\")\";\n",
       "                var nbb_cells = Jupyter.notebook.get_cells();\n",
       "                for (var i = 0; i < nbb_cells.length; ++i) {\n",
       "                    if (nbb_cells[i].input_prompt_number == nbb_cell_id) {\n",
       "                        if (nbb_cells[i].get_text() == nbb_unformatted_code) {\n",
       "                             nbb_cells[i].set_text(nbb_formatted_code);\n",
       "                        }\n",
       "                        break;\n",
       "                    }\n",
       "                }\n",
       "            }, 500);\n",
       "            "
      ],
      "text/plain": [
       "<IPython.core.display.Javascript object>"
      ]
     },
     "metadata": {},
     "output_type": "display_data"
    }
   ],
   "source": [
    "for index, topic in enumerate(model.components_):\n",
    "    print(\"topic\", index)\n",
    "    # sort scores and grab the index of top scoring words in each topic\n",
    "    for i in topic.argsort()[: -num_keywords - 1 : -1]:\n",
    "        # term, component score\n",
    "        print(vectorizer.get_feature_names()[i], topic[i])\n",
    "\n",
    "    print(\"--------------------------------\")"
   ]
  },
  {
   "cell_type": "code",
   "execution_count": 20,
   "metadata": {},
   "outputs": [
    {
     "data": {
      "text/plain": [
       "array([[0.48316287, 0.00198792, 0.51484921],\n",
       "       [0.98432471, 0.0082359 , 0.00743939],\n",
       "       [0.14955419, 0.28883451, 0.5616113 ],\n",
       "       ...,\n",
       "       [0.063881  , 0.06093768, 0.87518132],\n",
       "       [0.05475641, 0.93752004, 0.00772355],\n",
       "       [0.00557808, 0.00584745, 0.98857446]])"
      ]
     },
     "execution_count": 20,
     "metadata": {},
     "output_type": "execute_result"
    },
    {
     "data": {
      "application/javascript": [
       "\n",
       "            setTimeout(function() {\n",
       "                var nbb_cell_id = 20;\n",
       "                var nbb_unformatted_code = \"from sklearn.decomposition import LatentDirichletAllocation\\n\\nnum_keywords = 5\\nnum_topics = 3\\n\\n# vectorize docs\\nvectorizer = CountVectorizer()\\nmodel = LatentDirichletAllocation(n_components=num_topics, learning_method=\\\"online\\\")\\n\\nvectorized = vectorizer.fit_transform(preprocessed)\\nmodel.fit_transform(vectorized)\";\n",
       "                var nbb_formatted_code = \"from sklearn.decomposition import LatentDirichletAllocation\\n\\nnum_keywords = 5\\nnum_topics = 3\\n\\n# vectorize docs\\nvectorizer = CountVectorizer()\\nmodel = LatentDirichletAllocation(n_components=num_topics, learning_method=\\\"online\\\")\\n\\nvectorized = vectorizer.fit_transform(preprocessed)\\nmodel.fit_transform(vectorized)\";\n",
       "                var nbb_cells = Jupyter.notebook.get_cells();\n",
       "                for (var i = 0; i < nbb_cells.length; ++i) {\n",
       "                    if (nbb_cells[i].input_prompt_number == nbb_cell_id) {\n",
       "                        if (nbb_cells[i].get_text() == nbb_unformatted_code) {\n",
       "                             nbb_cells[i].set_text(nbb_formatted_code);\n",
       "                        }\n",
       "                        break;\n",
       "                    }\n",
       "                }\n",
       "            }, 500);\n",
       "            "
      ],
      "text/plain": [
       "<IPython.core.display.Javascript object>"
      ]
     },
     "metadata": {},
     "output_type": "display_data"
    }
   ],
   "source": [
    "from sklearn.decomposition import LatentDirichletAllocation\n",
    "\n",
    "num_keywords = 5\n",
    "num_topics = 3\n",
    "\n",
    "# vectorize docs\n",
    "vectorizer = CountVectorizer()\n",
    "model = LatentDirichletAllocation(n_components=num_topics, learning_method=\"online\")\n",
    "\n",
    "vectorized = vectorizer.fit_transform(preprocessed)\n",
    "model.fit_transform(vectorized)"
   ]
  },
  {
   "cell_type": "code",
   "execution_count": 21,
   "metadata": {},
   "outputs": [
    {
     "name": "stdout",
     "output_type": "stream",
     "text": [
      "topic 0\n",
      "product 4899.3236875137845\n",
      "servic 4564.980829632581\n",
      "compani 4556.427131399545\n",
      "segment 3134.8583002075293\n",
      "provid 2792.7795110426664\n",
      "--------------------------------\n",
      "topic 1\n",
      "compani 3915.4626247253877\n",
      "servic 3781.2962071716424\n",
      "loan 2638.03403758469\n",
      "oper 2340.9366961749333\n",
      "product 2133.9925754494675\n",
      "--------------------------------\n",
      "topic 2\n",
      "compani 1626.7043476344\n",
      "product 1235.4187181393686\n",
      "develop 1166.1881095937158\n",
      "treatment 917.1432517623653\n",
      "clinic 771.6820123034317\n",
      "--------------------------------\n"
     ]
    },
    {
     "data": {
      "application/javascript": [
       "\n",
       "            setTimeout(function() {\n",
       "                var nbb_cell_id = 21;\n",
       "                var nbb_unformatted_code = \"for index, topic in enumerate(model.components_):\\n    print(\\\"topic\\\", index)\\n    # sort scores and grab the index of top scoring words in each topic\\n    for i in topic.argsort()[: -num_keywords - 1 : -1]:\\n        # term, component score\\n        print(vectorizer.get_feature_names()[i], topic[i])\\n\\n    print(\\\"--------------------------------\\\")\";\n",
       "                var nbb_formatted_code = \"for index, topic in enumerate(model.components_):\\n    print(\\\"topic\\\", index)\\n    # sort scores and grab the index of top scoring words in each topic\\n    for i in topic.argsort()[: -num_keywords - 1 : -1]:\\n        # term, component score\\n        print(vectorizer.get_feature_names()[i], topic[i])\\n\\n    print(\\\"--------------------------------\\\")\";\n",
       "                var nbb_cells = Jupyter.notebook.get_cells();\n",
       "                for (var i = 0; i < nbb_cells.length; ++i) {\n",
       "                    if (nbb_cells[i].input_prompt_number == nbb_cell_id) {\n",
       "                        if (nbb_cells[i].get_text() == nbb_unformatted_code) {\n",
       "                             nbb_cells[i].set_text(nbb_formatted_code);\n",
       "                        }\n",
       "                        break;\n",
       "                    }\n",
       "                }\n",
       "            }, 500);\n",
       "            "
      ],
      "text/plain": [
       "<IPython.core.display.Javascript object>"
      ]
     },
     "metadata": {},
     "output_type": "display_data"
    }
   ],
   "source": [
    "for index, topic in enumerate(model.components_):\n",
    "    print(\"topic\", index)\n",
    "    # sort scores and grab the index of top scoring words in each topic\n",
    "    for i in topic.argsort()[: -num_keywords - 1 : -1]:\n",
    "        # term, component score\n",
    "        print(vectorizer.get_feature_names()[i], topic[i])\n",
    "\n",
    "    print(\"--------------------------------\")"
   ]
  },
  {
   "cell_type": "code",
   "execution_count": 22,
   "metadata": {},
   "outputs": [
    {
     "data": {
      "text/plain": [
       "array([[ 0.14052071, -0.15513128, -0.06077441],\n",
       "       [ 0.0921353 , -0.0677255 ,  0.01761097],\n",
       "       [ 0.15364015, -0.07861686, -0.05272865],\n",
       "       ...,\n",
       "       [ 0.13268923, -0.0950352 , -0.04105628],\n",
       "       [ 0.0907725 , -0.07818085,  0.00536541],\n",
       "       [ 0.06228634, -0.0663956 , -0.04428995]])"
      ]
     },
     "execution_count": 22,
     "metadata": {},
     "output_type": "execute_result"
    },
    {
     "data": {
      "application/javascript": [
       "\n",
       "            setTimeout(function() {\n",
       "                var nbb_cell_id = 22;\n",
       "                var nbb_unformatted_code = \"from sklearn.decomposition import TruncatedSVD\\n\\nnum_keywords = 5\\nnum_topics = 3\\n\\n# vectorize docs\\nvectorizer = TfidfVectorizer()\\nmodel = TruncatedSVD(n_components=num_topics)\\n\\nvectorized = vectorizer.fit_transform(preprocessed)\\nmodel.fit_transform(vectorized)\";\n",
       "                var nbb_formatted_code = \"from sklearn.decomposition import TruncatedSVD\\n\\nnum_keywords = 5\\nnum_topics = 3\\n\\n# vectorize docs\\nvectorizer = TfidfVectorizer()\\nmodel = TruncatedSVD(n_components=num_topics)\\n\\nvectorized = vectorizer.fit_transform(preprocessed)\\nmodel.fit_transform(vectorized)\";\n",
       "                var nbb_cells = Jupyter.notebook.get_cells();\n",
       "                for (var i = 0; i < nbb_cells.length; ++i) {\n",
       "                    if (nbb_cells[i].input_prompt_number == nbb_cell_id) {\n",
       "                        if (nbb_cells[i].get_text() == nbb_unformatted_code) {\n",
       "                             nbb_cells[i].set_text(nbb_formatted_code);\n",
       "                        }\n",
       "                        break;\n",
       "                    }\n",
       "                }\n",
       "            }, 500);\n",
       "            "
      ],
      "text/plain": [
       "<IPython.core.display.Javascript object>"
      ]
     },
     "metadata": {},
     "output_type": "display_data"
    }
   ],
   "source": [
    "from sklearn.decomposition import TruncatedSVD\n",
    "\n",
    "num_keywords = 5\n",
    "num_topics = 3\n",
    "\n",
    "# vectorize docs\n",
    "vectorizer = TfidfVectorizer()\n",
    "model = TruncatedSVD(n_components=num_topics)\n",
    "\n",
    "vectorized = vectorizer.fit_transform(preprocessed)\n",
    "model.fit_transform(vectorized)"
   ]
  },
  {
   "cell_type": "code",
   "execution_count": 23,
   "metadata": {},
   "outputs": [
    {
     "name": "stdout",
     "output_type": "stream",
     "text": [
      "topic 0\n",
      "loan 0.3334447443095227\n",
      "servic 0.30003607455917136\n",
      "bank 0.23643019800397097\n",
      "compani 0.18164072745262635\n",
      "product 0.17947223391695208\n",
      "--------------------------------\n",
      "topic 1\n",
      "loan 0.4434480439918294\n",
      "bank 0.26536240874478334\n",
      "deposit 0.2076080005555375\n",
      "account 0.1741651194287713\n",
      "estat 0.10540058126825279\n",
      "--------------------------------\n",
      "topic 2\n",
      "gas 0.40733112183792447\n",
      "natur 0.3210024447860466\n",
      "oil 0.3126710190087522\n",
      "energi 0.1547410575221715\n",
      "texa 0.13612339066572388\n",
      "--------------------------------\n"
     ]
    },
    {
     "data": {
      "application/javascript": [
       "\n",
       "            setTimeout(function() {\n",
       "                var nbb_cell_id = 23;\n",
       "                var nbb_unformatted_code = \"for index, topic in enumerate(model.components_):\\n    print(\\\"topic\\\", index)\\n    # sort scores and grab the index of top scoring words in each topic\\n    for i in topic.argsort()[: -num_keywords - 1 : -1]:\\n        # term, component score\\n        print(vectorizer.get_feature_names()[i], topic[i])\\n\\n    print(\\\"--------------------------------\\\")\";\n",
       "                var nbb_formatted_code = \"for index, topic in enumerate(model.components_):\\n    print(\\\"topic\\\", index)\\n    # sort scores and grab the index of top scoring words in each topic\\n    for i in topic.argsort()[: -num_keywords - 1 : -1]:\\n        # term, component score\\n        print(vectorizer.get_feature_names()[i], topic[i])\\n\\n    print(\\\"--------------------------------\\\")\";\n",
       "                var nbb_cells = Jupyter.notebook.get_cells();\n",
       "                for (var i = 0; i < nbb_cells.length; ++i) {\n",
       "                    if (nbb_cells[i].input_prompt_number == nbb_cell_id) {\n",
       "                        if (nbb_cells[i].get_text() == nbb_unformatted_code) {\n",
       "                             nbb_cells[i].set_text(nbb_formatted_code);\n",
       "                        }\n",
       "                        break;\n",
       "                    }\n",
       "                }\n",
       "            }, 500);\n",
       "            "
      ],
      "text/plain": [
       "<IPython.core.display.Javascript object>"
      ]
     },
     "metadata": {},
     "output_type": "display_data"
    }
   ],
   "source": [
    "for index, topic in enumerate(model.components_):\n",
    "    print(\"topic\", index)\n",
    "    # sort scores and grab the index of top scoring words in each topic\n",
    "    for i in topic.argsort()[: -num_keywords - 1 : -1]:\n",
    "        # term, component score\n",
    "        print(vectorizer.get_feature_names()[i], topic[i])\n",
    "\n",
    "    print(\"--------------------------------\")"
   ]
  },
  {
   "cell_type": "code",
   "execution_count": null,
   "metadata": {},
   "outputs": [],
   "source": []
  }
 ],
 "metadata": {
  "colab": {
   "collapsed_sections": [],
   "name": "Tarrant_NLP_Clustering.ipynb",
   "provenance": []
  },
  "kernelspec": {
   "display_name": "Python 3",
   "language": "python",
   "name": "python3"
  },
  "language_info": {
   "codemirror_mode": {
    "name": "ipython",
    "version": 3
   },
   "file_extension": ".py",
   "mimetype": "text/x-python",
   "name": "python",
   "nbconvert_exporter": "python",
   "pygments_lexer": "ipython3",
   "version": "3.7.6"
  }
 },
 "nbformat": 4,
 "nbformat_minor": 1
}
