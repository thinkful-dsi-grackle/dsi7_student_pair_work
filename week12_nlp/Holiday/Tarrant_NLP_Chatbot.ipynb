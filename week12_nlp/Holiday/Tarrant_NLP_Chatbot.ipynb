{
  "nbformat": 4,
  "nbformat_minor": 0,
  "metadata": {
    "kernelspec": {
      "display_name": "Python 3",
      "language": "python",
      "name": "python3"
    },
    "language_info": {
      "codemirror_mode": {
        "name": "ipython",
        "version": 3
      },
      "file_extension": ".py",
      "mimetype": "text/x-python",
      "name": "python",
      "nbconvert_exporter": "python",
      "pygments_lexer": "ipython3",
      "version": "3.7.2"
    },
    "colab": {
      "name": "Tarrant_NLP_Chatbot.ipynb",
      "provenance": [],
      "collapsed_sections": []
    }
  },
  "cells": [
    {
      "cell_type": "markdown",
      "metadata": {
        "id": "2qtIy1rhPrpb"
      },
      "source": [
        "# Natural Language Processing: Chatbots Assignment"
      ]
    },
    {
      "cell_type": "code",
      "metadata": {
        "id": "O-18zFBdPrpd",
        "colab": {
          "base_uri": "https://localhost:8080/"
        },
        "outputId": "397c7883-6d37-4b85-bf11-c0b9c14a049e"
      },
      "source": [
        "!pip install chatterbot --quiet\n",
        "!pip install chatterbot_corpus --quiet\n",
        "\n",
        "import re\n",
        "import requests\n",
        "from bs4 import BeautifulSoup\n",
        "from chatterbot import ChatBot\n",
        "from chatterbot.trainers import ListTrainer"
      ],
      "execution_count": 1,
      "outputs": [
        {
          "output_type": "stream",
          "text": [
            "\u001b[K     |████████████████████████████████| 71kB 3.6MB/s \n",
            "\u001b[K     |████████████████████████████████| 122kB 5.9MB/s \n",
            "\u001b[?25h"
          ],
          "name": "stdout"
        }
      ]
    },
    {
      "cell_type": "markdown",
      "metadata": {
        "id": "J43HRfFdPrpg"
      },
      "source": [
        "### Scrape the HTML from the URL below which contains questions and answers about databases."
      ]
    },
    {
      "cell_type": "code",
      "metadata": {
        "id": "OkxH23z3Prph"
      },
      "source": [
        "url = 'https://www.wisdomjobs.com/e-university/database-interview-questions.html'"
      ],
      "execution_count": 2,
      "outputs": []
    },
    {
      "cell_type": "code",
      "metadata": {
        "id": "6PoEi6S6Prpj"
      },
      "source": [
        "response = requests.get(url)\n",
        "content = response.text\n",
        "soup = BeautifulSoup(content)"
      ],
      "execution_count": 3,
      "outputs": []
    },
    {
      "cell_type": "markdown",
      "metadata": {
        "id": "xR9bp45DPrpk"
      },
      "source": [
        "### Clean the acquired HTML, extracting just the text."
      ]
    },
    {
      "cell_type": "code",
      "metadata": {
        "colab": {
          "base_uri": "https://localhost:8080/"
        },
        "id": "KDloXQVphdk1",
        "outputId": "228800f6-7043-4118-9c48-463e32c69cd1"
      },
      "source": [
        "quotes = soup.find_all('li', {'class': 'quesans mb-20'})\n",
        "quotes"
      ],
      "execution_count": 4,
      "outputs": [
        {
          "output_type": "execute_result",
          "data": {
            "text/plain": [
              "[<li class=\"quesans mb-20\">\n",
              " <p><a class=\"accordion-trigger ques\" id=\"ques0\"><strong>Question 1. Explain What Is Sqlite Transactions?</strong></a></p>\n",
              " <p><span class=\"ans\"><strong>Answer :</strong></span></p><p>The transaction is referred as a unit of work that is performed against a database. It is the propagation of one or more changes to the database. Properties of transactions are determined by ACID.</p>\n",
              " <ul>\n",
              " <li>Atomicity: It ensures that all work unit are successfully completed.</li>\n",
              " <li>Consistency: It ensures that the database changes states upon a successfully committed transaction.</li>\n",
              " <li>Isolation: It enables transactions to operate independently of and transparent to each other.</li>\n",
              " <li>Durability: It ensures that the result or effect of a committed transaction persists in case of a system failure.</li>\n",
              " </ul>\n",
              " </li>, <li class=\"quesans mb-20\">\n",
              " <p><a class=\"accordion-trigger ques\" id=\"ques1\"><strong>Question 2. What Does Sql Stand For, And What Is It Used For?</strong></a></p>\n",
              " <p><span class=\"ans\"><strong>Answer :</strong></span></p><p>SQL stands for structured query language, used with relational databases. It is used to query, update, and retrieve the contents of databases.</p>\n",
              " </li>, <li class=\"quesans mb-20\">\n",
              " <p><a class=\"accordion-trigger ques\" id=\"ques2\"><strong>Question 3. List Out The Areas Where Sql Lite Works Well?</strong></a></p>\n",
              " <p><span class=\"ans\"><strong>Answer :</strong></span></p><p>SQL lite works well with :</p>\n",
              " <ul>\n",
              " <li>Embedded devices and the internet of things.</li>\n",
              " <li>Application file format.</li>\n",
              " <li>Data Analysis.</li>\n",
              " <li>Websites.</li>\n",
              " <li>Cache for enterprise data.</li>\n",
              " <li>Server side database.</li>\n",
              " <li>File archives.</li>\n",
              " <li>Internal or temporary databases.</li>\n",
              " <li>Replacement for ad hoc disk files.</li>\n",
              " <li>Experimental SQL language extensions.</li>\n",
              " <li>Stand-in for an enterprise database during demos or testing.</li>\n",
              " </ul>\n",
              " </li>, <li class=\"quesans mb-20\">\n",
              " <p><a class=\"accordion-trigger ques\" id=\"ques3\"><strong>Question 4. What Are Attributes?</strong></a></p>\n",
              " <p><span class=\"ans\"><strong>Answer :</strong></span></p><p>An attribute is a column in a table.</p>\n",
              " </li>, <li class=\"quesans mb-20\">\n",
              " <p><a class=\"accordion-trigger ques\" id=\"ques4\"><strong>Question 5. Differentiate Between A Having Clause And A Where Clause.</strong></a></p>\n",
              " <p><span class=\"ans\"><strong>Answer :</strong></span></p><p><strong>HAVING CLAUSE :<br/></strong></p>\n",
              " <ul>\n",
              " <li>HAVING CLAUSE is used only with the SELECT statement.</li>\n",
              " <li>It is generally used in a GROUP BY clause in a query.</li>\n",
              " <li>If GROUP BY is not used, HAVING works like a WHERE clause.</li>\n",
              " </ul>\n",
              " <p><strong>WHERE Clause :<br/></strong></p>\n",
              " <ul>\n",
              " <li>It is applied to each row before they become a part of the GROUP BY function in a query.</li>\n",
              " </ul>\n",
              " </li>, <li class=\"quesans mb-20\">\n",
              " <p><a class=\"accordion-trigger ques\" id=\"ques5\"><strong>Question 6. What Is Data Mining And How Can It Be Used?</strong></a></p>\n",
              " <p><span class=\"ans\"><strong>Answer :</strong></span></p><p>Data mining refers to any procedure for collecting, analyzing, and summarizing the contents of a database. It can be used to judge the success of a business, marketing campaigns, and to forecast future trends.</p>\n",
              " </li>, <li class=\"quesans mb-20\">\n",
              " <p><a class=\"accordion-trigger ques\" id=\"ques6\"><strong>Question 7. Mention What Are The Sql Lite Storage Classes?</strong></a></p>\n",
              " <p><span class=\"ans\"><strong>Answer :</strong></span></p><p>SQL lite storage classes include :</p>\n",
              " <ul>\n",
              " <li><strong>Null:</strong> The value is a NULL value.</li>\n",
              " <li>I<strong>nteger:</strong> The value is a signed integer (1,2,3, etc.).</li>\n",
              " <li><strong>Real:</strong> The value is a floating point value, stored as an 8 byte IEEE floating point number.</li>\n",
              " <li><strong>Text:</strong> The value is a text string, stored using the database encoding ( UTF-8, UTF-16BE).</li>\n",
              " <li><strong>BLOB (Binary Large Object):</strong> The value is a blob of data, exactly stored as it was input.</li>\n",
              " </ul>\n",
              " </li>, <li class=\"quesans mb-20\">\n",
              " <p><a class=\"accordion-trigger ques\" id=\"ques7\"><strong>Question 8. What Is Database Normalization And Why Is It Done?</strong></a></p>\n",
              " <p><span class=\"ans\"><strong>Answer :</strong></span></p><p>This is the process of organizing data in a database efficiently, and it is done to make sure that connections and dependencies between data make sense, and to get rid of redundant data.</p>\n",
              " </li>, <li class=\"quesans mb-20\">\n",
              " <p><a class=\"accordion-trigger ques\" id=\"ques8\"><strong>Question 9. What Do Constraints Do? What Are The Types Of Constraints?</strong></a></p>\n",
              " <p><span class=\"ans\"><strong>Answer :</strong></span></p><p>Constraints are used to prevent the database from losing internal and external integrity. The types are: check, not null, unique, primary key, and foreign key.</p>\n",
              " </li>, <li class=\"quesans mb-20\">\n",
              " <p><a class=\"accordion-trigger ques\" id=\"ques9\"><strong>Question 10. What Are Fact Tables?</strong></a></p>\n",
              " <p><span class=\"ans\"><strong>Answer :</strong></span></p><p>Tables which track the progress of a certain process or activity, the primary tables of databases.</p>\n",
              " </li>, <li class=\"quesans mb-20\">\n",
              " <p><a class=\"accordion-trigger ques\" id=\"ques10\"><strong>Question 11. Describe The Three Levels Of Data Abstraction?</strong></a></p>\n",
              " <p><span class=\"ans\"><strong>Answer :</strong></span></p><ul>\n",
              " <li><strong>Physical level:</strong> The lowest level of abstraction describes how data are stored.</li>\n",
              " <li><strong>Logical level:</strong> The next higher level of abstraction, describes what data are stored in database and what relationship among those data.</li>\n",
              " <li><strong>View level:</strong> The highest level of abstraction describes only part of entire database.</li>\n",
              " </ul>\n",
              " </li>, <li class=\"quesans mb-20\">\n",
              " <p><a class=\"accordion-trigger ques\" id=\"ques11\"><strong>Question 12. Explain What Is The Use Of Sqlite Group By Clause?</strong></a></p>\n",
              " <p><span class=\"ans\"><strong>Answer :</strong></span></p><p>The SQLITE group by clause is used in collaboration with the SELECT statement to arrange identical data into groups.</p>\n",
              " </li>, <li class=\"quesans mb-20\">\n",
              " <p><a class=\"accordion-trigger ques\" id=\"ques12\"><strong>Question 13. When Is The Update_statistics Command Used?</strong></a></p>\n",
              " <p><span class=\"ans\"><strong>Answer :</strong></span></p><ul>\n",
              " <li>When the processing of large data is done, this command is used.</li>\n",
              " <li>Whenever large number of deletions, modification or copy takes place into the tables, the indexes need to be updated to take care of these changes. UPDATE_STATISTICS performs this job.</li>\n",
              " </ul>\n",
              " </li>, <li class=\"quesans mb-20\">\n",
              " <p><a class=\"accordion-trigger ques\" id=\"ques13\"><strong>Question 14. Explain How Boolean Values In Sql Lite Are Stored?</strong></a></p>\n",
              " <p><span class=\"ans\"><strong>Answer :</strong></span></p><p>Boolean values in SQL lite are stored as integers 0 (false) and 1 (true). SQL Lite does not have a separate Boolean storage class.</p>\n",
              " </li>, <li class=\"quesans mb-20\">\n",
              " <p><a class=\"accordion-trigger ques\" id=\"ques14\"><strong>Question 15. Explain What Is Sql Lite?</strong></a></p>\n",
              " <p><span class=\"ans\"><strong>Answer :</strong></span></p><p>SQL LITE is a mostly ACID compliant relational database management system contained in a relatively small C programming library.</p>\n",
              " </li>, <li class=\"quesans mb-20\">\n",
              " <p><a class=\"accordion-trigger ques\" id=\"ques15\"><strong>Question 16. Give A Comment On Transaction?</strong></a></p>\n",
              " <p><span class=\"ans\"><strong>Answer :</strong></span></p><ul>\n",
              " <li>Using transactions we can group all SQL commands into a single unit.</li>\n",
              " <li>The transaction begins with some task and finishes only when all tasks within it are over.</li>\n",
              " <li>The transaction gets over successfully only when all commands in it are successfully over. Even if one command fails, the whole transaction fails.</li>\n",
              " <li>The BEGIN TRANSACTION, ROLLBACK TRANSACTION, and COMMIT TRANSACTION statements are used to work with transactions.</li>\n",
              " <li>A group of tasks starts with the begin statement.</li>\n",
              " <li>In case of any problem, the rollback command is executed to abort the transaction.</li>\n",
              " <li>If all the tasks run successfully, all commands are executed through commit statement.</li>\n",
              " </ul>\n",
              " </li>, <li class=\"quesans mb-20\">\n",
              " <p><a class=\"accordion-trigger ques\" id=\"ques16\"><strong>Question 17. List Out The Standard Sql Lite Commands?</strong></a></p>\n",
              " <p><span class=\"ans\"><strong>Answer :</strong></span></p><p>The standard SQL Lite commands interact with relational databases are similar to SQL. They are</p>\n",
              " <ul>\n",
              " <li>SELECT</li>\n",
              " <li>CREATE</li>\n",
              " <li>INSERT</li>\n",
              " <li>UPDATE</li>\n",
              " <li>DROP</li>\n",
              " <li>DELETE</li>\n",
              " </ul>\n",
              " <p>Based on their operational nature these commands can be classified.</p>\n",
              " </li>, <li class=\"quesans mb-20\">\n",
              " <p><a class=\"accordion-trigger ques\" id=\"ques17\"><strong>Question 18. Define The \"integrity Rules\"?</strong></a></p>\n",
              " <p><span class=\"ans\"><strong>Answer :</strong></span></p><p>There are two Integrity rules.<br/><br/><strong>Entity Integrity:</strong> States that \"Primary key cannot have NULL value\".</p>\n",
              " <p><strong>Referential Integrity:</strong> States that \"Foreign Key can be either a NULL value or should be Primary Key value of other relation.</p>\n",
              " </li>, <li class=\"quesans mb-20\">\n",
              " <p><a class=\"accordion-trigger ques\" id=\"ques18\"><strong>Question 19. What Is Database?</strong></a></p>\n",
              " <p><span class=\"ans\"><strong>Answer :</strong></span></p><p>A database is a logically coherent collection of data with some inherent meaning, representing some aspect of real world and which is designed, built and populated with data for a specific purpose.</p>\n",
              " </li>, <li class=\"quesans mb-20\">\n",
              " <p><a class=\"accordion-trigger ques\" id=\"ques19\"><strong>Question 20. Segregate Database Technology’s Development?</strong></a></p>\n",
              " <p><span class=\"ans\"><strong>Answer :</strong></span></p><p>The development of database technology is divided into:</p>\n",
              " <ul>\n",
              " <li>Structure or data model</li>\n",
              " <li>Navigational model</li>\n",
              " <li>SQL/ relational model</li>\n",
              " </ul>\n",
              " </li>, <li class=\"quesans mb-20\">\n",
              " <p><a class=\"accordion-trigger ques\" id=\"ques20\"><strong>Question 21. What Are The Features Of Database Language?</strong></a></p>\n",
              " <p><span class=\"ans\"><strong>Answer :</strong></span></p><p>A database language may also incorporate features like:</p>\n",
              " <ul>\n",
              " <li>DBMS-specific Configuration and management of storage engine. </li>\n",
              " <li>Computations to modification of query results by computations, like summing, counting, averaging, grouping, sorting and cross-referencing Constraint enforcement Application Programming Interface.</li>\n",
              " </ul>\n",
              " </li>, <li class=\"quesans mb-20\">\n",
              " <p><a class=\"accordion-trigger ques\" id=\"ques21\"><strong>Question 22. What Do Database Languages Do?</strong></a></p>\n",
              " <p><span class=\"ans\"><strong>Answer :</strong></span></p><p>As special-purpose languages, they have:</p>\n",
              " <ul>\n",
              " <li>Data definition language</li>\n",
              " <li>Data manipulation language</li>\n",
              " <li>Query language</li>\n",
              " </ul>\n",
              " </li>, <li class=\"quesans mb-20\">\n",
              " <p><a class=\"accordion-trigger ques\" id=\"ques22\"><strong>Question 23. Define Database Model?</strong></a></p>\n",
              " <p><span class=\"ans\"><strong>Answer :</strong></span></p><p>A data model determining fundamentally how data can be stored, manipulated and organised and the structure of the database logically is called database model.</p>\n",
              " </li>, <li class=\"quesans mb-20\">\n",
              " <p><a class=\"accordion-trigger ques\" id=\"ques23\"><strong>Question 24. Enlist The Various Relationships Of Database?</strong></a></p>\n",
              " <p><span class=\"ans\"><strong>Answer :</strong></span></p><p>The various relationships of database are:</p>\n",
              " <ul>\n",
              " <li><strong>One-to-one:</strong> Single table having drawn relationship with another table having similar kind of columns.</li>\n",
              " <li><strong>One-to-many:</strong> Two tables having primary and foreign key relation.</li>\n",
              " <li><strong>Many-to-many:</strong> Junction table having many tables related to many tables.</li>\n",
              " </ul>\n",
              " </li>, <li class=\"quesans mb-20\">\n",
              " <p><a class=\"accordion-trigger ques\" id=\"ques24\"><strong>Question 25. Define Normalization?</strong></a></p>\n",
              " <p><span class=\"ans\"><strong>Answer :</strong></span></p><p>Organized data void of inconsistent dependency and redundancy within a database is called normalization.</p>\n",
              " </li>, <li class=\"quesans mb-20\">\n",
              " <p><a class=\"accordion-trigger ques\" id=\"ques25\"><strong>Question 26. Enlist The Advantages Of Normalizing Database?</strong></a></p>\n",
              " <p><span class=\"ans\"><strong>Answer :</strong></span></p><p>Advantages of normalizing database are:</p>\n",
              " <ul>\n",
              " <li>No duplicate entries</li>\n",
              " <li>Saves storage space</li>\n",
              " <li>Boasts the query performances.</li>\n",
              " </ul>\n",
              " </li>, <li class=\"quesans mb-20\">\n",
              " <p><a class=\"accordion-trigger ques\" id=\"ques26\"><strong>Question 27. Define De Normalization?</strong></a></p>\n",
              " <p><span class=\"ans\"><strong>Answer :</strong></span></p><p>Boosting up database performance, adding of redundant data which in turn helps rid of complex data is called denormalization.</p>\n",
              " </li>, <li class=\"quesans mb-20\">\n",
              " <p><a class=\"accordion-trigger ques\" id=\"ques27\"><strong>Question 28. Define Ddl And Dml?</strong></a></p>\n",
              " <p><span class=\"ans\"><strong>Answer :</strong></span></p><p>Managing properties and attributes of database is called Data Definition Language(DDL).<br/><br/>Manipulating data in a database such as inserting, updating, deleting is defined as Data Manipulation Language. (DML)</p>\n",
              " </li>, <li class=\"quesans mb-20\">\n",
              " <p><a class=\"accordion-trigger ques\" id=\"ques28\"><strong>Question 29. Enlist Some Commands Of Ddl?</strong></a></p>\n",
              " <p><span class=\"ans\"><strong>Answer :</strong></span></p><p><strong>CREATE:  </strong>Create is used in the CREATE TABLE statement. <br/><strong>Syntax is: </strong>    CREATE TABLE [column name] ( [column definitions] ) [ table parameters]<br/><br/><strong>ALTER:  </strong>It helps in modification of an existing object of database. <br/><strong>Syntax is: </strong>ALTER objecttype objectname parameters.<br/><br/><strong>DROP: </strong>It destroys an existing database, index, table or view. <br/><strong>Syntax is: </strong>DROP objecttype objectname.</p>\n",
              " </li>, <li class=\"quesans mb-20\">\n",
              " <p><a class=\"accordion-trigger ques\" id=\"ques29\"><strong>Question 30. Define Union All Operator And Union?</strong></a></p>\n",
              " <p><span class=\"ans\"><strong>Answer :</strong></span></p><p>Full recordings of two tables is Union All operator.A distinct recording of two tables is Union.</p>\n",
              " </li>, <li class=\"quesans mb-20\">\n",
              " <p><a class=\"accordion-trigger ques\" id=\"ques30\"><strong>Question 31. Define Cursor?</strong></a></p>\n",
              " <p><span class=\"ans\"><strong>Answer :</strong></span></p><p>A database object which helps in manipulating data row by row representing a result set is called cursor.</p>\n",
              " </li>, <li class=\"quesans mb-20\">\n",
              " <p><a class=\"accordion-trigger ques\" id=\"ques31\"><strong>Question 32. Enlist The Cursor Types?</strong></a></p>\n",
              " <p><span class=\"ans\"><strong>Answer :</strong></span></p><p>They are:<br/><br/><strong>Dynamic:</strong> it reflects changes while scrolling.<br/><br/><strong>Static:</strong> doesn’t reflect changes while scrolling and works on recording of snapshot.<br/><br/><strong>Keyset:</strong> data modification without reflection of new data is seen.</p>\n",
              " </li>, <li class=\"quesans mb-20\">\n",
              " <p><a class=\"accordion-trigger ques\" id=\"ques32\"><strong>Question 33. Define Sub-query?</strong></a></p>\n",
              " <p><span class=\"ans\"><strong>Answer :</strong></span></p><p>A query contained by a query is called Sub-query.</p>\n",
              " </li>, <li class=\"quesans mb-20\">\n",
              " <p><a class=\"accordion-trigger ques\" id=\"ques33\"><strong>Question 34. Why Is Group-clause Used?</strong></a></p>\n",
              " <p><span class=\"ans\"><strong>Answer :</strong></span></p><p>Group-clause uses aggregate values to be derived by collecting similar data.</p>\n",
              " </li>, <li class=\"quesans mb-20\">\n",
              " <p><a class=\"accordion-trigger ques\" id=\"ques34\"><strong>Question 35. Compare Non-clustered And Clustered Index?</strong></a></p>\n",
              " <p><span class=\"ans\"><strong>Answer :</strong></span></p><p>Both having B-tree structure, non-clustered index has data pointers enabling one table many non-clustered indexes while clustered index is distinct for every table.</p>\n",
              " </li>, <li class=\"quesans mb-20\">\n",
              " <p><a class=\"accordion-trigger ques\" id=\"ques35\"><strong>Question 36. Define Aggregate Functions?</strong></a></p>\n",
              " <p><span class=\"ans\"><strong>Answer :</strong></span></p><p>Functions which operate against a collection of values and returning single value is called aggregate functions.</p>\n",
              " </li>, <li class=\"quesans mb-20\">\n",
              " <p><a class=\"accordion-trigger ques\" id=\"ques36\"><strong>Question 37. Define Scalar Functions?</strong></a></p>\n",
              " <p><span class=\"ans\"><strong>Answer :</strong></span></p><p>Scalar function is depended on the argument given and returns sole value.</p>\n",
              " </li>, <li class=\"quesans mb-20\">\n",
              " <p><a class=\"accordion-trigger ques\" id=\"ques37\"><strong>Question 38. What Restrictions Can You Apply When You Are Creating Views?</strong></a></p>\n",
              " <p><span class=\"ans\"><strong>Answer :</strong></span></p><p>Restrictions that are applied are:</p>\n",
              " <ul>\n",
              " <li>Only the current database can have views.</li>\n",
              " <li>You are not liable to change any computed value in any particular view.</li>\n",
              " <li>Integrity constants decide the functionality of INSERT and DELETE.</li>\n",
              " <li>Full-text index definitions cannot be applied.</li>\n",
              " <li>Temporary views cannot be created.</li>\n",
              " <li>Temporary tables cannot contain views.</li>\n",
              " <li>No association with DEFAULT definitions.</li>\n",
              " <li>Triggers such as INSTEAD OF is associated with views.</li>\n",
              " </ul>\n",
              " </li>, <li class=\"quesans mb-20\">\n",
              " <p><a class=\"accordion-trigger ques\" id=\"ques38\"><strong>Question 39. Define “correlated Sub Queries”?</strong></a></p>\n",
              " <p><span class=\"ans\"><strong>Answer :</strong></span></p><p>A ‘correlated subquery’ is a sort of sub query but correlated subquery is reliant on another query for a value that is returned. In case of execution, the sub query is executed first and then the correlated query.</p>\n",
              " </li>, <li class=\"quesans mb-20\">\n",
              " <p><a class=\"accordion-trigger ques\" id=\"ques39\"><strong>Question 40. Define Data Warehousing?</strong></a></p>\n",
              " <p><span class=\"ans\"><strong>Answer :</strong></span></p><p>Storage and access of data from the central location in order to take some strategic decision is called Data Warehousing. Enterprise management is used for managing the information whose framework is known as Data Warehousing.</p>\n",
              " </li>, <li class=\"quesans mb-20\">\n",
              " <p><a class=\"accordion-trigger ques\" id=\"ques40\"><strong>Question 41. Define Join And Enlist Its Types?</strong></a></p>\n",
              " <p><span class=\"ans\"><strong>Answer :</strong></span></p><p>Joins help in explaining the relation between different tables. They also enable you to select data with relation to data in another table.</p>\n",
              " <p><strong>The various types are:<br/></strong><br/><strong>INNER JOINs:</strong> Blank rows are left in the middle while more than equal to two tables are joined.<br/><br/><strong>OUTER JOINs:</strong> Divided into Left Outer Join and Right Outer Join. Blank rows are left at the specified side by joining tables in other side.<br/>Other joins are CROSS JOINs, NATURAL JOINs, EQUI JOIN and NON-EQUI JOIN.</p>\n",
              " </li>, <li class=\"quesans mb-20\">\n",
              " <p><a class=\"accordion-trigger ques\" id=\"ques41\"><strong>Question 42. What Do You Mean By Index Hunting?</strong></a></p>\n",
              " <p><span class=\"ans\"><strong>Answer :</strong></span></p><p>Indexes help in improving the speed as well as the query performance of database. The procedure of boosting the collection of indexes is named as Index hunting.</p>\n",
              " </li>, <li class=\"quesans mb-20\">\n",
              " <p><a class=\"accordion-trigger ques\" id=\"ques42\"><strong>Question 43. How Does Index Hunting Help In Improving Query Performance?</strong></a></p>\n",
              " <p><span class=\"ans\"><strong>Answer :</strong></span></p><p>Index hunting helps in improving the speed as well as the query performance of database. The followed measures are achieved to do that:</p>\n",
              " <ul>\n",
              " <li>The query optimizer is used to coordinate the study of queries with the workload and the best use of queries suggested based on this.</li>\n",
              " <li>Index, query distribution along with their performance is observed to check the effect.</li>\n",
              " <li>Tuning databases to a small collection of problem queries is also recommended.</li>\n",
              " </ul>\n",
              " </li>, <li class=\"quesans mb-20\">\n",
              " <p><a class=\"accordion-trigger ques\" id=\"ques43\"><strong>Question 44. Enlist The Disadvantages Of Query?</strong></a></p>\n",
              " <p><span class=\"ans\"><strong>Answer :</strong></span></p><p>The disadvantages of query are:</p>\n",
              " <ul>\n",
              " <li>No indexes</li>\n",
              " <li>Stored procedures are excessively compiled.</li>\n",
              " <li>Triggers and procedures are without SET NOCOUNT ON.</li>\n",
              " <li>Complicated joins making up inadequately written query.</li>\n",
              " <li>Cursors and temporary tables showcase a bad presentation.</li>\n",
              " </ul>\n",
              " </li>, <li class=\"quesans mb-20\">\n",
              " <p><a class=\"accordion-trigger ques\" id=\"ques44\"><strong>Question 45. Enlist Ways To Efficiently Code Transactions?</strong></a></p>\n",
              " <p><span class=\"ans\"><strong>Answer :</strong></span></p><p>Ways to efficiently code transactions:</p>\n",
              " <ul>\n",
              " <li>User input should not be allowed while transactions.</li>\n",
              " <li>While browsing, transactions must not be opened of data.</li>\n",
              " <li>Transactions must be kept as small as possible.</li>\n",
              " <li>Lower transaction segregation levels.</li>\n",
              " <li>Least information of data must be accessed while transacting.</li>\n",
              " </ul>\n",
              " </li>, <li class=\"quesans mb-20\">\n",
              " <p><a class=\"accordion-trigger ques\" id=\"ques45\"><strong>Question 46. What Is Executive Plan?</strong></a></p>\n",
              " <p><span class=\"ans\"><strong>Answer :</strong></span></p><p>Executive plan can be defined as:</p>\n",
              " <ul>\n",
              " <li>SQL Server caches collected procedure or the plan of query execution and used thereafter by subsequent calls.</li>\n",
              " <li>An important feature in relation to performance enhancement.</li>\n",
              " <li>Data execution plan can be viewed textually or graphically.</li>\n",
              " </ul>\n",
              " </li>, <li class=\"quesans mb-20\">\n",
              " <p><a class=\"accordion-trigger ques\" id=\"ques46\"><strong>Question 47. Define B-trees?</strong></a></p>\n",
              " <p><span class=\"ans\"><strong>Answer :</strong></span></p><p>A data structure in the form of tree which stores sorted data and searches, insertions, sequential access and deletions are allowed in logarithmic time.</p>\n",
              " </li>, <li class=\"quesans mb-20\">\n",
              " <p><a class=\"accordion-trigger ques\" id=\"ques47\"><strong>Question 48. Differentiate Table Scan From Index Scan?</strong></a></p>\n",
              " <p><span class=\"ans\"><strong>Answer :</strong></span></p><p>Iterating over all the table rows is called Table Scan while iterating over all the index items is defined as Index Scan.</p>\n",
              " </li>, <li class=\"quesans mb-20\">\n",
              " <p><a class=\"accordion-trigger ques\" id=\"ques48\"><strong>Question 49. What Do You Mean By Fill Factor Concept With Respect To Indexes?</strong></a></p>\n",
              " <p><span class=\"ans\"><strong>Answer :</strong></span></p><p>Fill Factor can be defined as being that value which defines the percentage of left space on every leaf-level page that is to be packed with data. 100 is the default value of Fill Factor.</p>\n",
              " </li>, <li class=\"quesans mb-20\">\n",
              " <p><a class=\"accordion-trigger ques\" id=\"ques49\"><strong>Question 50. Define Fragmentation?</strong></a></p>\n",
              " <p><span class=\"ans\"><strong>Answer :</strong></span></p><p>Fragmentation can be defined as a database feature of server that promotes control on data which is stored at table level by the user.</p>\n",
              " </li>, <li class=\"quesans mb-20\">\n",
              " <p><a class=\"accordion-trigger ques\" id=\"ques50\"><strong>Question 51. What Do You Mean By Query Evaluation Engine?</strong></a></p>\n",
              " <p><span class=\"ans\"><strong>Answer :</strong></span></p><p>Query Evaluation Engine executes the low-level instructions that are generated by the compiler.</p>\n",
              " </li>, <li class=\"quesans mb-20\">\n",
              " <p><a class=\"accordion-trigger ques\" id=\"ques51\"><strong>Question 52. Define Ddl Interpreter?</strong></a></p>\n",
              " <p><span class=\"ans\"><strong>Answer :</strong></span></p><p>DDL statements are interpreted and recorded in tables called metadata.</p>\n",
              " </li>, <li class=\"quesans mb-20\">\n",
              " <p><a class=\"accordion-trigger ques\" id=\"ques52\"><strong>Question 53. Define Database System?</strong></a></p>\n",
              " <p><span class=\"ans\"><strong>Answer :</strong></span></p><p>DBMS along with database is called Database system.</p>\n",
              " </li>, <li class=\"quesans mb-20\">\n",
              " <p><a class=\"accordion-trigger ques\" id=\"ques53\"><strong>Question 54. Explain The Importance Of Partitioning?</strong></a></p>\n",
              " <p><span class=\"ans\"><strong>Answer :</strong></span></p><p>Splitting of one table which is large into smaller database entities logically is called database partitioning. Its benefits are:</p>\n",
              " <ul>\n",
              " <li>To improve query performance in situations dramatically when mostly rows which are heavily accessed are in one partition.</li>\n",
              " <li>Accessing large parts of a single partition.</li>\n",
              " <li>Slower and cheaper storage media can be used for data which is seldom used.</li>\n",
              " </ul>\n",
              " </li>, <li class=\"quesans mb-20\">\n",
              " <p><a class=\"accordion-trigger ques\" id=\"ques54\"><strong>Question 55. What Is Database Partitioning?</strong></a></p>\n",
              " <p><span class=\"ans\"><strong>Answer :</strong></span></p><p>Division of logical database into independent complete units for improving its management, availability and performance is called Database partitioning.</p>\n",
              " </li>, <li class=\"quesans mb-20\">\n",
              " <p><a class=\"accordion-trigger ques\" id=\"ques55\"><strong>Question 56. Define Atomicity And Aggregation?</strong></a></p>\n",
              " <p><span class=\"ans\"><strong>Answer :</strong></span></p><p><strong>Atomicity:</strong> It’s an all or none concept which enables the user to be assured of incomplete transactions to be taken care of. The actions involving incomplete transactions are left undone in DBMS.<br/><br/><strong>Aggregation:</strong> The collected entities and their relationship are aggregated in this model. It is mainly used in expressing relationships within relationships.</p>\n",
              " </li>, <li class=\"quesans mb-20\">\n",
              " <p><a class=\"accordion-trigger ques\" id=\"ques56\"><strong>Question 57. Enlist The Various Transaction Phases?</strong></a></p>\n",
              " <p><span class=\"ans\"><strong>Answer :</strong></span></p><p>The various transaction phases are:</p>\n",
              " <ul>\n",
              " <li>Analysis Phase.</li>\n",
              " <li>Redo Phase.</li>\n",
              " <li>Undo Phase.</li>\n",
              " </ul>\n",
              " </li>, <li class=\"quesans mb-20\">\n",
              " <p><a class=\"accordion-trigger ques\" id=\"ques57\"><strong>Question 58. Define Object-oriented Model?</strong></a></p>\n",
              " <p><span class=\"ans\"><strong>Answer :</strong></span></p><p>Compilations of objects make up this model in which values are stored within instance variables which is inside the object. The object itself comprises bodies of object for its operation which are called methods. Objects containing same kind of variables and methods are called classes.</p>\n",
              " </li>, <li class=\"quesans mb-20\">\n",
              " <p><a class=\"accordion-trigger ques\" id=\"ques58\"><strong>Question 59. Define Entity?</strong></a></p>\n",
              " <p><span class=\"ans\"><strong>Answer :</strong></span></p><p>It can be defined as being a ‘thing’ with an independent existence in the real world.</p>\n",
              " </li>, <li class=\"quesans mb-20\">\n",
              " <p><a class=\"accordion-trigger ques\" id=\"ques59\"><strong>Question 60. Define Entity Set ?</strong></a></p>\n",
              " <p><span class=\"ans\"><strong>Answer :</strong></span></p><p>Compilation of all entries of any particular type of entry in the database is called Entity Set.</p>\n",
              " </li>]"
            ]
          },
          "metadata": {
            "tags": []
          },
          "execution_count": 4
        }
      ]
    },
    {
      "cell_type": "markdown",
      "metadata": {
        "id": "yuxEDAXIPrpn"
      },
      "source": [
        "### Organize the text into a list of questions and answers.\n",
        "\n",
        "The best way to do this is to use a regular expression to split the text wherever a question or an answer appears (they are labeled)."
      ]
    },
    {
      "cell_type": "code",
      "metadata": {
        "colab": {
          "base_uri": "https://localhost:8080/"
        },
        "id": "I_QP4bIFiI3B",
        "outputId": "b04f4e51-aae8-492a-beb7-4aa93d1ae765"
      },
      "source": [
        "questions = []\n",
        "\n",
        "for quote in quotes:\n",
        "  qa = quote.get_text()\n",
        "  lines = qa.replace('\\n','')\n",
        "  split = re.split('Question \\d+. |Answer :',lines)\n",
        "  questions.append(split[1:])\n",
        "\n",
        "print(questions)"
      ],
      "execution_count": 5,
      "outputs": [
        {
          "output_type": "stream",
          "text": [
            "[['Explain What Is Sqlite Transactions?', 'The transaction is referred as a unit of work that is performed against a database. It is the propagation of one or more changes to the database. Properties of transactions are determined by ACID.Atomicity: It ensures that all work unit are successfully completed.Consistency: It ensures that the database changes states upon a successfully committed transaction.Isolation: It enables transactions to operate independently of and transparent to each other.Durability: It ensures that the result or effect of a committed transaction persists in case of a system failure.'], ['What Does Sql Stand For, And What Is It Used For?', 'SQL stands for structured query language, used with relational databases. It is used to query, update, and retrieve the contents of databases.'], ['List Out The Areas Where Sql Lite Works Well?', 'SQL lite works well with :Embedded devices and the internet of things.Application file format.Data Analysis.Websites.Cache for enterprise data.Server side database.File archives.Internal or temporary databases.Replacement for ad hoc disk files.Experimental SQL language extensions.Stand-in for an enterprise database during demos or testing.'], ['What Are Attributes?', 'An attribute is a column in a table.'], ['Differentiate Between A Having Clause And A Where Clause.', 'HAVING CLAUSE :HAVING CLAUSE is used only with the SELECT statement.It is generally used in a GROUP BY clause in a query.If GROUP BY is not used, HAVING works like a WHERE clause.WHERE Clause :It is applied to each row before they become a part of the GROUP BY function in a query.'], ['What Is Data Mining And How Can It Be Used?', 'Data mining refers to any procedure for collecting, analyzing, and summarizing the contents of a database. It can be used to judge the success of a business, marketing campaigns, and to forecast future trends.'], ['Mention What Are The Sql Lite Storage Classes?', 'SQL lite storage classes include :Null: The value is a NULL value.Integer: The value is a signed integer (1,2,3, etc.).Real: The value is a floating point value, stored as an 8 byte IEEE floating point number.Text: The value is a text string, stored using the database encoding ( UTF-8, UTF-16BE).BLOB (Binary Large Object): The value is a blob of data, exactly stored as it was input.'], ['What Is Database Normalization And Why Is It Done?', 'This is the process of organizing data in a database efficiently, and it is done to make sure that connections and dependencies between data make sense, and to get rid of redundant data.'], ['What Do Constraints Do? What Are The Types Of Constraints?', 'Constraints are used to prevent the database from losing internal and external integrity. The types are: check, not null, unique, primary key, and foreign key.'], ['What Are Fact Tables?', 'Tables which track the progress of a certain process or activity, the primary tables of databases.'], ['Describe The Three Levels Of Data Abstraction?', 'Physical level: The lowest level of abstraction describes how data are stored.Logical level: The next higher level of abstraction, describes what data are stored in database and what relationship among those data.View level: The highest level of abstraction describes only part of entire database.'], ['Explain What Is The Use Of Sqlite Group By Clause?', 'The SQLITE group by clause is used in collaboration with the SELECT statement to arrange identical data into groups.'], ['When Is The Update_statistics Command Used?', 'When the processing of large data is done, this command is used.Whenever large number of deletions, modification or copy takes place into the tables, the indexes need to be updated to take care of these changes.\\xa0UPDATE_STATISTICS performs this job.'], ['Explain How Boolean Values In Sql Lite Are Stored?', 'Boolean values in SQL lite are stored as integers 0 (false) and 1 (true). SQL Lite does not have a separate Boolean storage class.'], ['Explain What Is Sql Lite?', 'SQL LITE is a mostly ACID compliant relational database management system contained in a relatively small C programming library.'], ['Give A Comment On Transaction?', 'Using transactions we can group all SQL commands into a single unit.The transaction begins with some task and finishes only when all tasks within it are over.The transaction gets over successfully only when all commands in it are successfully over. Even if one command fails, the whole transaction fails.The BEGIN TRANSACTION, ROLLBACK TRANSACTION, and COMMIT TRANSACTION statements are used to work with transactions.A group of tasks starts with the begin statement.In case of any problem, the rollback command is executed to abort the transaction.If all the tasks run successfully, all commands are executed through commit statement.'], ['List Out The Standard Sql Lite Commands?', 'The standard SQL Lite commands interact with relational databases are similar to SQL. They areSELECTCREATEINSERTUPDATEDROPDELETEBased on their operational nature these commands can be classified.'], ['Define The \"integrity Rules\"?', 'There are two Integrity rules.Entity Integrity: States that \"Primary key cannot have NULL value\".Referential Integrity: States that \"Foreign Key can be either a NULL value or should be Primary Key value of other relation.'], ['What Is Database?', 'A database is a logically coherent collection of data with some inherent meaning, representing some aspect of real world and which is designed, built and populated with data for a specific purpose.'], ['Segregate Database Technology’s Development?', 'The development of database technology is divided into:Structure or data modelNavigational modelSQL/ relational model'], ['What Are The Features Of Database Language?', 'A database language may also incorporate features like:DBMS-specific Configuration and management of storage engine.\\xa0Computations to modification of query results by computations, like summing, counting, averaging, grouping, sorting and cross-referencing Constraint enforcement Application Programming Interface.'], ['What Do Database Languages Do?', 'As special-purpose languages, they have:Data definition languageData manipulation languageQuery language'], ['Define Database Model?', 'A data model determining fundamentally how data can be stored, manipulated and organised and the structure of the database logically is called database model.'], ['Enlist The Various Relationships Of Database?', 'The various relationships of database are:One-to-one: Single table having drawn relationship with another table having similar kind of columns.One-to-many: Two tables having primary and foreign key relation.Many-to-many: Junction table having many tables related to many tables.'], ['Define Normalization?', 'Organized data void of inconsistent dependency and redundancy within a database is called normalization.'], ['Enlist The Advantages Of Normalizing Database?', 'Advantages of normalizing database are:No duplicate entriesSaves storage spaceBoasts the query performances.'], ['Define De Normalization?', 'Boosting up database performance, adding of redundant data which in turn helps rid of complex data is called denormalization.'], ['Define Ddl And Dml?', 'Managing properties and attributes of database is called Data Definition Language(DDL).Manipulating data in a database such as inserting, updating, deleting is defined as Data Manipulation Language. (DML)'], ['Enlist Some Commands Of Ddl?', 'CREATE: \\xa0Create is used in the CREATE TABLE statement. Syntax is:\\xa0\\xa0 \\xa0 CREATE TABLE [column name] ( [column definitions] ) [ table parameters]ALTER: \\xa0It helps in modification of an existing object of database. Syntax is:\\xa0ALTER objecttype objectname parameters.DROP:\\xa0It destroys an existing database, index, table or view. Syntax is:\\xa0DROP objecttype objectname.'], ['Define Union All Operator And Union?', 'Full recordings of two tables is Union All operator.A distinct recording of two tables is Union.'], ['Define Cursor?', 'A database object which helps in manipulating data row by row representing a result set is called cursor.'], ['Enlist The Cursor Types?', 'They are:Dynamic: it reflects changes while scrolling.Static: doesn’t reflect changes while scrolling and works on recording of snapshot.Keyset: data modification without reflection of new data is seen.'], ['Define Sub-query?', 'A query contained by a query is called Sub-query.'], ['Why Is Group-clause Used?', 'Group-clause uses aggregate values to be derived by collecting similar data.'], ['Compare Non-clustered And Clustered Index?', 'Both having B-tree structure, non-clustered index has data pointers enabling one table many non-clustered indexes while clustered index is distinct for every table.'], ['Define Aggregate Functions?', 'Functions which operate against a collection of values and returning single value is called aggregate functions.'], ['Define Scalar Functions?', 'Scalar function is depended on the argument given and returns sole value.'], ['What Restrictions Can You Apply When You Are Creating Views?', 'Restrictions that are applied are:Only the current database can have views.You are not liable to change any computed value in any particular view.Integrity constants decide the functionality of INSERT and DELETE.Full-text index definitions cannot be applied.Temporary views cannot be created.Temporary tables cannot contain views.No association with DEFAULT definitions.Triggers such as INSTEAD OF is associated with views.'], ['Define “correlated Sub Queries”?', 'A ‘correlated subquery’ is a sort of sub query but correlated subquery is reliant on another query for a value that is returned. In case of execution, the sub query is executed first and then the correlated query.'], ['Define Data Warehousing?', 'Storage and access of data from the central location in order to take some strategic decision is called Data Warehousing. Enterprise management is used for managing the information whose framework is known as Data Warehousing.'], ['Define Join And Enlist Its Types?', 'Joins help in explaining the relation between different tables. They also enable you to select data with relation to data in another table.The various types are:INNER JOINs: Blank rows are left in the middle while more than equal to two tables are joined.OUTER JOINs: Divided into Left Outer Join and Right Outer Join. Blank rows are left at the specified side by joining tables in other side.Other joins are CROSS JOINs, NATURAL JOINs, EQUI JOIN and NON-EQUI JOIN.'], ['What Do You Mean By Index Hunting?', 'Indexes help in improving the speed as well as the query performance of database. The procedure of boosting the collection of indexes is named as Index hunting.'], ['How Does Index Hunting Help In Improving Query Performance?', 'Index hunting helps in improving the speed as well as the query performance of database. The followed measures are achieved to do that:The query optimizer is used to coordinate the study of queries with the workload and the best use of queries suggested based on this.Index, query distribution along with their performance is observed to check the effect.Tuning databases to a small collection of problem queries is also recommended.'], ['Enlist The Disadvantages Of Query?', 'The disadvantages of query are:No indexesStored procedures are excessively compiled.Triggers and procedures are without SET NOCOUNT ON.Complicated joins making up inadequately written query.Cursors and temporary tables showcase a bad presentation.'], ['Enlist Ways To Efficiently Code Transactions?', 'Ways to efficiently code transactions:User input should not be allowed while transactions.While browsing, transactions must not be opened of data.Transactions must be kept as small as possible.Lower transaction segregation levels.Least information of data must be accessed while transacting.'], ['What Is Executive Plan?', 'Executive plan can be defined as:SQL Server caches collected procedure or the plan of query execution and used thereafter by subsequent calls.An important feature in relation to performance enhancement.Data execution plan can be viewed textually or graphically.'], ['Define B-trees?', 'A data structure in the form of tree which stores sorted data and searches, insertions, sequential access and deletions are allowed in logarithmic time.'], ['Differentiate Table Scan From Index Scan?', 'Iterating over all the table rows is called Table Scan while iterating over all the index items is defined as Index Scan.'], ['What Do You Mean By Fill Factor Concept With Respect To Indexes?', 'Fill Factor can be defined as being that value which defines the percentage of left space on every leaf-level page that is to be packed with data. 100 is the default value of Fill Factor.'], ['Define Fragmentation?', 'Fragmentation can be defined as a database feature of server that promotes control on data which is stored at table level by the user.'], ['What Do You Mean By Query Evaluation Engine?', 'Query Evaluation Engine executes the low-level instructions that are generated by the compiler.'], ['Define Ddl Interpreter?', 'DDL statements are interpreted and recorded in tables called metadata.'], ['Define Database System?', 'DBMS along with database is called Database system.'], ['Explain The Importance Of Partitioning?', 'Splitting of one table which is large into smaller database entities logically is called database partitioning. Its benefits are:To improve query performance in situations dramatically when mostly rows which are heavily accessed are in one partition.Accessing large parts of a single partition.Slower and cheaper storage media can be used for data which is seldom used.'], ['What Is Database Partitioning?', 'Division of logical database into independent complete units for improving its management, availability and performance is called Database partitioning.'], ['Define Atomicity And Aggregation?', 'Atomicity: It’s an all or none concept which enables the user to be assured of incomplete transactions to be taken care of. The actions involving incomplete transactions are left undone in DBMS.Aggregation: The collected entities and their relationship are aggregated in this model. It is mainly used in expressing relationships within relationships.'], ['Enlist The Various Transaction Phases?', 'The various transaction phases are:Analysis Phase.Redo Phase.Undo Phase.'], ['Define Object-oriented Model?', 'Compilations of objects make up this model in which values are stored within instance variables which is inside the object. The object itself comprises bodies of object for its operation which are called methods. Objects containing same kind of variables and methods are called classes.'], ['Define Entity?', 'It can be defined as being a ‘thing’ with an independent existence in the real world.'], ['Define Entity Set ?', 'Compilation of all entries of any particular type of entry in the database is called Entity Set.']]\n"
          ],
          "name": "stdout"
        }
      ]
    },
    {
      "cell_type": "code",
      "metadata": {
        "colab": {
          "base_uri": "https://localhost:8080/"
        },
        "id": "p94GO42rkd99",
        "outputId": "4e0a0b4d-e255-40c3-ab52-ed12020c007a"
      },
      "source": [
        "type(questions)"
      ],
      "execution_count": 6,
      "outputs": [
        {
          "output_type": "execute_result",
          "data": {
            "text/plain": [
              "list"
            ]
          },
          "metadata": {
            "tags": []
          },
          "execution_count": 6
        }
      ]
    },
    {
      "cell_type": "code",
      "metadata": {
        "id": "YlEyq545wSjf"
      },
      "source": [
        "questions = [inner for outer in questions for inner in outer]"
      ],
      "execution_count": 7,
      "outputs": []
    },
    {
      "cell_type": "code",
      "metadata": {
        "colab": {
          "base_uri": "https://localhost:8080/"
        },
        "id": "zhpXHpwPwgOf",
        "outputId": "93eb96cd-3883-4b65-ecae-55f8dcf917f5"
      },
      "source": [
        "print(questions)"
      ],
      "execution_count": 8,
      "outputs": [
        {
          "output_type": "stream",
          "text": [
            "['Explain What Is Sqlite Transactions?', 'The transaction is referred as a unit of work that is performed against a database. It is the propagation of one or more changes to the database. Properties of transactions are determined by ACID.Atomicity: It ensures that all work unit are successfully completed.Consistency: It ensures that the database changes states upon a successfully committed transaction.Isolation: It enables transactions to operate independently of and transparent to each other.Durability: It ensures that the result or effect of a committed transaction persists in case of a system failure.', 'What Does Sql Stand For, And What Is It Used For?', 'SQL stands for structured query language, used with relational databases. It is used to query, update, and retrieve the contents of databases.', 'List Out The Areas Where Sql Lite Works Well?', 'SQL lite works well with :Embedded devices and the internet of things.Application file format.Data Analysis.Websites.Cache for enterprise data.Server side database.File archives.Internal or temporary databases.Replacement for ad hoc disk files.Experimental SQL language extensions.Stand-in for an enterprise database during demos or testing.', 'What Are Attributes?', 'An attribute is a column in a table.', 'Differentiate Between A Having Clause And A Where Clause.', 'HAVING CLAUSE :HAVING CLAUSE is used only with the SELECT statement.It is generally used in a GROUP BY clause in a query.If GROUP BY is not used, HAVING works like a WHERE clause.WHERE Clause :It is applied to each row before they become a part of the GROUP BY function in a query.', 'What Is Data Mining And How Can It Be Used?', 'Data mining refers to any procedure for collecting, analyzing, and summarizing the contents of a database. It can be used to judge the success of a business, marketing campaigns, and to forecast future trends.', 'Mention What Are The Sql Lite Storage Classes?', 'SQL lite storage classes include :Null: The value is a NULL value.Integer: The value is a signed integer (1,2,3, etc.).Real: The value is a floating point value, stored as an 8 byte IEEE floating point number.Text: The value is a text string, stored using the database encoding ( UTF-8, UTF-16BE).BLOB (Binary Large Object): The value is a blob of data, exactly stored as it was input.', 'What Is Database Normalization And Why Is It Done?', 'This is the process of organizing data in a database efficiently, and it is done to make sure that connections and dependencies between data make sense, and to get rid of redundant data.', 'What Do Constraints Do? What Are The Types Of Constraints?', 'Constraints are used to prevent the database from losing internal and external integrity. The types are: check, not null, unique, primary key, and foreign key.', 'What Are Fact Tables?', 'Tables which track the progress of a certain process or activity, the primary tables of databases.', 'Describe The Three Levels Of Data Abstraction?', 'Physical level: The lowest level of abstraction describes how data are stored.Logical level: The next higher level of abstraction, describes what data are stored in database and what relationship among those data.View level: The highest level of abstraction describes only part of entire database.', 'Explain What Is The Use Of Sqlite Group By Clause?', 'The SQLITE group by clause is used in collaboration with the SELECT statement to arrange identical data into groups.', 'When Is The Update_statistics Command Used?', 'When the processing of large data is done, this command is used.Whenever large number of deletions, modification or copy takes place into the tables, the indexes need to be updated to take care of these changes.\\xa0UPDATE_STATISTICS performs this job.', 'Explain How Boolean Values In Sql Lite Are Stored?', 'Boolean values in SQL lite are stored as integers 0 (false) and 1 (true). SQL Lite does not have a separate Boolean storage class.', 'Explain What Is Sql Lite?', 'SQL LITE is a mostly ACID compliant relational database management system contained in a relatively small C programming library.', 'Give A Comment On Transaction?', 'Using transactions we can group all SQL commands into a single unit.The transaction begins with some task and finishes only when all tasks within it are over.The transaction gets over successfully only when all commands in it are successfully over. Even if one command fails, the whole transaction fails.The BEGIN TRANSACTION, ROLLBACK TRANSACTION, and COMMIT TRANSACTION statements are used to work with transactions.A group of tasks starts with the begin statement.In case of any problem, the rollback command is executed to abort the transaction.If all the tasks run successfully, all commands are executed through commit statement.', 'List Out The Standard Sql Lite Commands?', 'The standard SQL Lite commands interact with relational databases are similar to SQL. They areSELECTCREATEINSERTUPDATEDROPDELETEBased on their operational nature these commands can be classified.', 'Define The \"integrity Rules\"?', 'There are two Integrity rules.Entity Integrity: States that \"Primary key cannot have NULL value\".Referential Integrity: States that \"Foreign Key can be either a NULL value or should be Primary Key value of other relation.', 'What Is Database?', 'A database is a logically coherent collection of data with some inherent meaning, representing some aspect of real world and which is designed, built and populated with data for a specific purpose.', 'Segregate Database Technology’s Development?', 'The development of database technology is divided into:Structure or data modelNavigational modelSQL/ relational model', 'What Are The Features Of Database Language?', 'A database language may also incorporate features like:DBMS-specific Configuration and management of storage engine.\\xa0Computations to modification of query results by computations, like summing, counting, averaging, grouping, sorting and cross-referencing Constraint enforcement Application Programming Interface.', 'What Do Database Languages Do?', 'As special-purpose languages, they have:Data definition languageData manipulation languageQuery language', 'Define Database Model?', 'A data model determining fundamentally how data can be stored, manipulated and organised and the structure of the database logically is called database model.', 'Enlist The Various Relationships Of Database?', 'The various relationships of database are:One-to-one: Single table having drawn relationship with another table having similar kind of columns.One-to-many: Two tables having primary and foreign key relation.Many-to-many: Junction table having many tables related to many tables.', 'Define Normalization?', 'Organized data void of inconsistent dependency and redundancy within a database is called normalization.', 'Enlist The Advantages Of Normalizing Database?', 'Advantages of normalizing database are:No duplicate entriesSaves storage spaceBoasts the query performances.', 'Define De Normalization?', 'Boosting up database performance, adding of redundant data which in turn helps rid of complex data is called denormalization.', 'Define Ddl And Dml?', 'Managing properties and attributes of database is called Data Definition Language(DDL).Manipulating data in a database such as inserting, updating, deleting is defined as Data Manipulation Language. (DML)', 'Enlist Some Commands Of Ddl?', 'CREATE: \\xa0Create is used in the CREATE TABLE statement. Syntax is:\\xa0\\xa0 \\xa0 CREATE TABLE [column name] ( [column definitions] ) [ table parameters]ALTER: \\xa0It helps in modification of an existing object of database. Syntax is:\\xa0ALTER objecttype objectname parameters.DROP:\\xa0It destroys an existing database, index, table or view. Syntax is:\\xa0DROP objecttype objectname.', 'Define Union All Operator And Union?', 'Full recordings of two tables is Union All operator.A distinct recording of two tables is Union.', 'Define Cursor?', 'A database object which helps in manipulating data row by row representing a result set is called cursor.', 'Enlist The Cursor Types?', 'They are:Dynamic: it reflects changes while scrolling.Static: doesn’t reflect changes while scrolling and works on recording of snapshot.Keyset: data modification without reflection of new data is seen.', 'Define Sub-query?', 'A query contained by a query is called Sub-query.', 'Why Is Group-clause Used?', 'Group-clause uses aggregate values to be derived by collecting similar data.', 'Compare Non-clustered And Clustered Index?', 'Both having B-tree structure, non-clustered index has data pointers enabling one table many non-clustered indexes while clustered index is distinct for every table.', 'Define Aggregate Functions?', 'Functions which operate against a collection of values and returning single value is called aggregate functions.', 'Define Scalar Functions?', 'Scalar function is depended on the argument given and returns sole value.', 'What Restrictions Can You Apply When You Are Creating Views?', 'Restrictions that are applied are:Only the current database can have views.You are not liable to change any computed value in any particular view.Integrity constants decide the functionality of INSERT and DELETE.Full-text index definitions cannot be applied.Temporary views cannot be created.Temporary tables cannot contain views.No association with DEFAULT definitions.Triggers such as INSTEAD OF is associated with views.', 'Define “correlated Sub Queries”?', 'A ‘correlated subquery’ is a sort of sub query but correlated subquery is reliant on another query for a value that is returned. In case of execution, the sub query is executed first and then the correlated query.', 'Define Data Warehousing?', 'Storage and access of data from the central location in order to take some strategic decision is called Data Warehousing. Enterprise management is used for managing the information whose framework is known as Data Warehousing.', 'Define Join And Enlist Its Types?', 'Joins help in explaining the relation between different tables. They also enable you to select data with relation to data in another table.The various types are:INNER JOINs: Blank rows are left in the middle while more than equal to two tables are joined.OUTER JOINs: Divided into Left Outer Join and Right Outer Join. Blank rows are left at the specified side by joining tables in other side.Other joins are CROSS JOINs, NATURAL JOINs, EQUI JOIN and NON-EQUI JOIN.', 'What Do You Mean By Index Hunting?', 'Indexes help in improving the speed as well as the query performance of database. The procedure of boosting the collection of indexes is named as Index hunting.', 'How Does Index Hunting Help In Improving Query Performance?', 'Index hunting helps in improving the speed as well as the query performance of database. The followed measures are achieved to do that:The query optimizer is used to coordinate the study of queries with the workload and the best use of queries suggested based on this.Index, query distribution along with their performance is observed to check the effect.Tuning databases to a small collection of problem queries is also recommended.', 'Enlist The Disadvantages Of Query?', 'The disadvantages of query are:No indexesStored procedures are excessively compiled.Triggers and procedures are without SET NOCOUNT ON.Complicated joins making up inadequately written query.Cursors and temporary tables showcase a bad presentation.', 'Enlist Ways To Efficiently Code Transactions?', 'Ways to efficiently code transactions:User input should not be allowed while transactions.While browsing, transactions must not be opened of data.Transactions must be kept as small as possible.Lower transaction segregation levels.Least information of data must be accessed while transacting.', 'What Is Executive Plan?', 'Executive plan can be defined as:SQL Server caches collected procedure or the plan of query execution and used thereafter by subsequent calls.An important feature in relation to performance enhancement.Data execution plan can be viewed textually or graphically.', 'Define B-trees?', 'A data structure in the form of tree which stores sorted data and searches, insertions, sequential access and deletions are allowed in logarithmic time.', 'Differentiate Table Scan From Index Scan?', 'Iterating over all the table rows is called Table Scan while iterating over all the index items is defined as Index Scan.', 'What Do You Mean By Fill Factor Concept With Respect To Indexes?', 'Fill Factor can be defined as being that value which defines the percentage of left space on every leaf-level page that is to be packed with data. 100 is the default value of Fill Factor.', 'Define Fragmentation?', 'Fragmentation can be defined as a database feature of server that promotes control on data which is stored at table level by the user.', 'What Do You Mean By Query Evaluation Engine?', 'Query Evaluation Engine executes the low-level instructions that are generated by the compiler.', 'Define Ddl Interpreter?', 'DDL statements are interpreted and recorded in tables called metadata.', 'Define Database System?', 'DBMS along with database is called Database system.', 'Explain The Importance Of Partitioning?', 'Splitting of one table which is large into smaller database entities logically is called database partitioning. Its benefits are:To improve query performance in situations dramatically when mostly rows which are heavily accessed are in one partition.Accessing large parts of a single partition.Slower and cheaper storage media can be used for data which is seldom used.', 'What Is Database Partitioning?', 'Division of logical database into independent complete units for improving its management, availability and performance is called Database partitioning.', 'Define Atomicity And Aggregation?', 'Atomicity: It’s an all or none concept which enables the user to be assured of incomplete transactions to be taken care of. The actions involving incomplete transactions are left undone in DBMS.Aggregation: The collected entities and their relationship are aggregated in this model. It is mainly used in expressing relationships within relationships.', 'Enlist The Various Transaction Phases?', 'The various transaction phases are:Analysis Phase.Redo Phase.Undo Phase.', 'Define Object-oriented Model?', 'Compilations of objects make up this model in which values are stored within instance variables which is inside the object. The object itself comprises bodies of object for its operation which are called methods. Objects containing same kind of variables and methods are called classes.', 'Define Entity?', 'It can be defined as being a ‘thing’ with an independent existence in the real world.', 'Define Entity Set ?', 'Compilation of all entries of any particular type of entry in the database is called Entity Set.']\n"
          ],
          "name": "stdout"
        }
      ]
    },
    {
      "cell_type": "markdown",
      "metadata": {
        "id": "1UHdgjt1Prpp"
      },
      "source": [
        "### Train a Chatterbot chatbot on the list of questions and answers."
      ]
    },
    {
      "cell_type": "code",
      "metadata": {
        "id": "q9ELJw67Prpp",
        "colab": {
          "base_uri": "https://localhost:8080/"
        },
        "outputId": "26d76a67-a072-4ec7-a8a4-7d04c629852f"
      },
      "source": [
        "bot_name = 'Timmy'\n",
        "chatbot = ChatBot(bot_name)\n",
        "chatbot.storage.drop()\n",
        "\n",
        "trainer = ListTrainer(chatbot)\n",
        "trainer.train(questions)"
      ],
      "execution_count": 9,
      "outputs": [
        {
          "output_type": "stream",
          "text": [
            "List Trainer: [####################] 100%\n"
          ],
          "name": "stdout"
        }
      ]
    },
    {
      "cell_type": "code",
      "metadata": {
        "colab": {
          "base_uri": "https://localhost:8080/"
        },
        "id": "-Q52hY54fUtu",
        "outputId": "a1610c62-b825-4c60-81d2-68a0b75b9f83"
      },
      "source": [
        "bot_response = chatbot.get_response('What is SQL')\n",
        "print(bot_response)"
      ],
      "execution_count": 10,
      "outputs": [
        {
          "output_type": "stream",
          "text": [
            "An attribute is a column in a table.\n"
          ],
          "name": "stdout"
        }
      ]
    },
    {
      "cell_type": "markdown",
      "metadata": {
        "id": "IFwtqnM5Prpr"
      },
      "source": [
        "### Write the user interface logic that allows a user to ask the chatbot questions about databases and have the chatbot return an answer. \n",
        "\n",
        "Include logic that checks to see if the answer returned is going to be a question and if so, return the next element in the list after that question."
      ]
    },
    {
      "cell_type": "code",
      "metadata": {
        "id": "DuujcjQjPrps",
        "colab": {
          "base_uri": "https://localhost:8080/"
        },
        "outputId": "e7702008-e6df-400d-834b-14b77cae80fa"
      },
      "source": [
        "print(f'Hi, I am {bot_name}. I am a Bot.\\n')\n",
        "print('Please type EXIT if you would like to end the conversation')\n",
        "\n",
        "while True:\n",
        "  user = input('User: ')\n",
        "\n",
        "  if user.lower() != 'exit':\n",
        "    print(f'{bot_name} :', chatbot.get_response(user))\n",
        "  else:\n",
        "    print(f'{bot_name}: Bye')\n",
        "    break\n"
      ],
      "execution_count": 11,
      "outputs": [
        {
          "output_type": "stream",
          "text": [
            "Hi, I am Timmy. I am a Bot.\n",
            "\n",
            "Please type EXIT if you would like to end the conversation\n",
            "User: Explain What Is Sqlite Transactions?\n",
            "Timmy : The transaction is referred as a unit of work that is performed against a database. It is the propagation of one or more changes to the database. Properties of transactions are determined by ACID.Atomicity: It ensures that all work unit are successfully completed.Consistency: It ensures that the database changes states upon a successfully committed transaction.Isolation: It enables transactions to operate independently of and transparent to each other.Durability: It ensures that the result or effect of a committed transaction persists in case of a system failure.\n",
            "User: What Does Sql Stand For, And What Is It Used For?\n",
            "Timmy : SQL stands for structured query language, used with relational databases. It is used to query, update, and retrieve the contents of databases.\n",
            "User: List Out The Areas Where Sql Lite Works Well?\n",
            "Timmy : SQL lite works well with :Embedded devices and the internet of things.Application file format.Data Analysis.Websites.Cache for enterprise data.Server side database.File archives.Internal or temporary databases.Replacement for ad hoc disk files.Experimental SQL language extensions.Stand-in for an enterprise database during demos or testing.\n",
            "User: What Are Attributes?\n",
            "Timmy : An attribute is a column in a table.\n",
            "User: Define Normalization\n",
            "Timmy : Organized data void of inconsistent dependency and redundancy within a database is called normalization.\n",
            "User: The Advantages Of Normalizing Database\n",
            "Timmy : The development of database technology is divided into:Structure or data modelNavigational modelSQL/ relational model\n",
            "User: Enlist The Advantages Of Normalizing Database\n",
            "Timmy : Advantages of normalizing database are:No duplicate entriesSaves storage spaceBoasts the query performances.\n",
            "User: Define Cursor\n",
            "Timmy : A database object which helps in manipulating data row by row representing a result set is called cursor.\n",
            "User: what are the cursor types?\n",
            "Timmy : Constraints are used to prevent the database from losing internal and external integrity. The types are: check, not null, unique, primary key, and foreign key.\n",
            "User: Enlist The Cursor Types?\n",
            "Timmy : They are:Dynamic: it reflects changes while scrolling.Static: doesn’t reflect changes while scrolling and works on recording of snapshot.Keyset: data modification without reflection of new data is seen.\n",
            "User: bye\n",
            "Timmy : CREATE:  Create is used in the CREATE TABLE statement. Syntax is:     CREATE TABLE [column name] ( [column definitions] ) [ table parameters]ALTER:  It helps in modification of an existing object of database. Syntax is: ALTER objecttype objectname parameters.DROP: It destroys an existing database, index, table or view. Syntax is: DROP objecttype objectname.\n",
            "User: exit\n",
            "Timmy: Bye\n"
          ],
          "name": "stdout"
        }
      ]
    }
  ]
}