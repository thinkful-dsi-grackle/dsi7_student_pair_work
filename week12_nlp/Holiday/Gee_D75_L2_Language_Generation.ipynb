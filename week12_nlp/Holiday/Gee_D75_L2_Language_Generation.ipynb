{
  "nbformat": 4,
  "nbformat_minor": 0,
  "metadata": {
    "kernelspec": {
      "display_name": "Python 3",
      "language": "python",
      "name": "python3"
    },
    "language_info": {
      "codemirror_mode": {
        "name": "ipython",
        "version": 3
      },
      "file_extension": ".py",
      "mimetype": "text/x-python",
      "name": "python",
      "nbconvert_exporter": "python",
      "pygments_lexer": "ipython3",
      "version": "3.7.2"
    },
    "colab": {
      "name": "Gee_D75_L2_Language_Generation.ipynb",
      "provenance": [],
      "collapsed_sections": []
    }
  },
  "cells": [
    {
      "cell_type": "markdown",
      "metadata": {
        "id": "9pYhNHOMPsIj"
      },
      "source": [
        "# Text Summarization and Natural Language Generation Assignment"
      ]
    },
    {
      "cell_type": "code",
      "metadata": {
        "colab": {
          "base_uri": "https://localhost:8080/"
        },
        "id": "yylhkCRPY9on",
        "outputId": "bdb0576e-b826-4fa5-ca93-0921dd03cac8"
      },
      "source": [
        "!pip install markovify"
      ],
      "execution_count": 1,
      "outputs": [
        {
          "output_type": "stream",
          "text": [
            "Requirement already satisfied: markovify in /usr/local/lib/python3.6/dist-packages (0.8.3)\n",
            "Requirement already satisfied: unidecode in /usr/local/lib/python3.6/dist-packages (from markovify) (1.1.2)\n"
          ],
          "name": "stdout"
        }
      ]
    },
    {
      "cell_type": "code",
      "metadata": {
        "id": "5f3HWPFkPsIk"
      },
      "source": [
        "import re\n",
        "import requests\n",
        "import markovify\n",
        "import spacy\n",
        "from bs4 import BeautifulSoup\n",
        "from nltk import pos_tag\n",
        "from nltk import sent_tokenize\n",
        "from gensim.summarization import summarize\n"
      ],
      "execution_count": 2,
      "outputs": []
    },
    {
      "cell_type": "markdown",
      "metadata": {
        "id": "TClncKT6PsIm"
      },
      "source": [
        "### Scrape and clean the text from the 3 Presidential State of the Union Address URLs below and save them into a list."
      ]
    },
    {
      "cell_type": "code",
      "metadata": {
        "id": "iuF8XmYePsIn"
      },
      "source": [
        "lincoln = 'https://en.wikisource.org/wiki/Abraham_Lincoln%27s_First_State_of_the_Union_Address'\n",
        "roosevelt = 'https://en.wikisource.org/wiki/Theodore_Roosevelt%27s_First_State_of_the_Union_Address'\n",
        "obama = 'https://en.wikisource.org/wiki/Barack_Obama%27s_Second_State_of_the_Union_Address'"
      ],
      "execution_count": 3,
      "outputs": []
    },
    {
      "cell_type": "code",
      "metadata": {
        "id": "f9TST5Etsn18"
      },
      "source": [
        "links = [lincoln, roosevelt, obama]"
      ],
      "execution_count": 4,
      "outputs": []
    },
    {
      "cell_type": "code",
      "metadata": {
        "id": "TGuK0t2wPsIq",
        "colab": {
          "base_uri": "https://localhost:8080/"
        },
        "outputId": "344a77ca-f02a-4c59-a88d-69f6cbd34d98"
      },
      "source": [
        "res = requests.get(lincoln)\r\n",
        "con = res.text\r\n",
        "TAGS = ['p']\r\n",
        "soupy = BeautifulSoup(con, 'lxml')\r\n",
        "lin_text = soupy.find_all(TAGS)\r\n",
        "lin_text.pop()"
      ],
      "execution_count": 5,
      "outputs": [
        {
          "output_type": "execute_result",
          "data": {
            "text/plain": [
              "<p>This work is in the <b><a class=\"extiw\" href=\"https://en.wikipedia.org/wiki/en:public_domain\" title=\"w:en:public domain\">public domain</a></b> in the United States because it is a <a class=\"extiw\" href=\"https://en.wikipedia.org/wiki/en:Copyright_status_of_work_by_the_U._S._government\" title=\"w:en:Copyright status of work by the U. S. government\">work</a> of the <a class=\"extiw\" href=\"https://en.wikipedia.org/wiki/en:Federal_government_of_the_United_States\" title=\"w:en:Federal government of the United States\">United States <i>federal</i> government</a> (<i>see</i> <a href=\"/wiki/United_States_Code/Title_17/Chapter_1/Sections_105_and_106\" title=\"United States Code/Title 17/Chapter 1/Sections 105 and 106\">17 U.S.C. 105</a>).\n",
              "</p>"
            ]
          },
          "metadata": {
            "tags": []
          },
          "execution_count": 5
        }
      ]
    },
    {
      "cell_type": "code",
      "metadata": {
        "id": "HHBp6JoNylf0"
      },
      "source": [
        "lin_text = [que.text for que in lin_text]\r\n",
        "lin_text = ' '.join(lin_text)\r\n",
        "lin_text = lin_text.split()\r\n",
        "lin_text = ' '.join(lin_text)"
      ],
      "execution_count": 6,
      "outputs": []
    },
    {
      "cell_type": "code",
      "metadata": {
        "colab": {
          "base_uri": "https://localhost:8080/"
        },
        "id": "PJb7jiDRtuxZ",
        "outputId": "333bed44-968c-470a-8346-95a0453dc3ad"
      },
      "source": [
        "res = requests.get(roosevelt)\r\n",
        "con = res.text\r\n",
        "TAGS = ['p']\r\n",
        "soupy = BeautifulSoup(con, 'lxml')\r\n",
        "ros_text = soupy.find_all(TAGS)\r\n",
        "ros_text.pop()"
      ],
      "execution_count": 7,
      "outputs": [
        {
          "output_type": "execute_result",
          "data": {
            "text/plain": [
              "<p>This work is in the <b><a class=\"extiw\" href=\"https://en.wikipedia.org/wiki/en:public_domain\" title=\"w:en:public domain\">public domain</a></b> in the United States because it is a <a class=\"extiw\" href=\"https://en.wikipedia.org/wiki/en:Copyright_status_of_work_by_the_U._S._government\" title=\"w:en:Copyright status of work by the U. S. government\">work</a> of the <a class=\"extiw\" href=\"https://en.wikipedia.org/wiki/en:Federal_government_of_the_United_States\" title=\"w:en:Federal government of the United States\">United States <i>federal</i> government</a> (<i>see</i> <a href=\"/wiki/United_States_Code/Title_17/Chapter_1/Sections_105_and_106\" title=\"United States Code/Title 17/Chapter 1/Sections 105 and 106\">17 U.S.C. 105</a>).\n",
              "</p>"
            ]
          },
          "metadata": {
            "tags": []
          },
          "execution_count": 7
        }
      ]
    },
    {
      "cell_type": "code",
      "metadata": {
        "id": "unCscnEyyZAV"
      },
      "source": [
        "ros_text = [que.text for que in ros_text]\r\n",
        "ros_text = ' '.join(ros_text)\r\n",
        "ros_text = ros_text.split()\r\n",
        "ros_text = ' '.join(ros_text)"
      ],
      "execution_count": 8,
      "outputs": []
    },
    {
      "cell_type": "code",
      "metadata": {
        "colab": {
          "base_uri": "https://localhost:8080/"
        },
        "id": "vZL3djkat8gp",
        "outputId": "bf58a383-4944-4930-dcbe-aec7bdaa06bb"
      },
      "source": [
        "res = requests.get(obama)\r\n",
        "con = res.text\r\n",
        "TAGS = ['p']\r\n",
        "soupy = BeautifulSoup(con, 'lxml')\r\n",
        "ob_text = soupy.find_all(TAGS)\r\n",
        "ob_text.pop()"
      ],
      "execution_count": 9,
      "outputs": [
        {
          "output_type": "execute_result",
          "data": {
            "text/plain": [
              "<p>This work is in the <b><a class=\"extiw\" href=\"https://en.wikipedia.org/wiki/en:public_domain\" title=\"w:en:public domain\">public domain</a></b> in the United States because it is a <a class=\"extiw\" href=\"https://en.wikipedia.org/wiki/en:Copyright_status_of_work_by_the_U._S._government\" title=\"w:en:Copyright status of work by the U. S. government\">work</a> of the <a class=\"extiw\" href=\"https://en.wikipedia.org/wiki/en:Federal_government_of_the_United_States\" title=\"w:en:Federal government of the United States\">United States <i>federal</i> government</a> (<i>see</i> <a href=\"/wiki/United_States_Code/Title_17/Chapter_1/Sections_105_and_106\" title=\"United States Code/Title 17/Chapter 1/Sections 105 and 106\">17 U.S.C. 105</a>).\n",
              "</p>"
            ]
          },
          "metadata": {
            "tags": []
          },
          "execution_count": 9
        }
      ]
    },
    {
      "cell_type": "code",
      "metadata": {
        "id": "P_wyrRHzyZtc"
      },
      "source": [
        "ob_text = [que.text for que in ob_text]\r\n",
        "ob_text = ' '.join(ob_text)\r\n",
        "ob_text = ob_text.split()\r\n",
        "ob_text = ' '.join(ob_text)"
      ],
      "execution_count": 10,
      "outputs": []
    },
    {
      "cell_type": "markdown",
      "metadata": {
        "id": "dl0uAJJDPsIs"
      },
      "source": [
        "### For each State of the Union Address, use the Gensim `summarize` function and print a summary of each address approximately 200 words long."
      ]
    },
    {
      "cell_type": "code",
      "metadata": {
        "id": "-hycaeo_PsIt",
        "colab": {
          "base_uri": "https://localhost:8080/"
        },
        "outputId": "0331b4a7-b866-47e6-e3ce-6e97b939002e"
      },
      "source": [
        "print(summarize(lin_text, word_count=200))"
      ],
      "execution_count": 11,
      "outputs": [
        {
          "output_type": "stream",
          "text": [
            "I am informed by some whose opinions I respect that all the acts of Congress now in force and of a permanent and general nature might be revised and rewritten so as to be embraced in one volume (or at most two volumes) of ordinary and convenient size; and I respectfully recommend to Congress to consider of the subject, and if my suggestion be approved to devise such plan as to their wisdom shall seem most proper for the attainment of the end proposed.\n",
            "But the powers of Congress, I suppose, are equal to the anomalous occasion, and therefore I refer the whole matter to Congress, with the hope that a plan may be devised for the administration of justice in all such parts of the insurgent States and Territories as may be under the control of this Government, whether by a voluntary return to allegiance and order or by the power of our arms; this, however, not to be a permanent institution, but a temporary substitute, and to cease as soon as the ordinay courts can be reestablished in peace.\n"
          ],
          "name": "stdout"
        }
      ]
    },
    {
      "cell_type": "code",
      "metadata": {
        "colab": {
          "base_uri": "https://localhost:8080/"
        },
        "id": "1Fq-JDYyvHYN",
        "outputId": "268b53b8-f5e9-4978-bce3-4840295aed70"
      },
      "source": [
        "print(summarize(ros_text, word_count=200))"
      ],
      "execution_count": 12,
      "outputs": [
        {
          "output_type": "stream",
          "text": [
            "Just how far this is must be determined according to the individual case, remembering always that every application of our tariff policy to meet our shifting national needs must be conditioned upon the cardinal fact that the duties must never be reduced below the point that will cover the difference between the labor cost here and abroad.\n",
            "The Congressmen who voted years in advance the money to lay down the ships, to build the guns, to buy the armor-plate; the Department officials and the business men and wage-workers who furnished what the Congress had authorized; the Secretaries of the Navy who asked for and expended the appropriations; and finally the officers who, in fair weather and foul, on actual sea service, trained and disciplined the crews of the ships when there was no war in sight—all are entitled to a full share in the glory of Manila and Santiago, and the respect accorded by every true American to those who wrought such signal triumph for our country.\n"
          ],
          "name": "stdout"
        }
      ]
    },
    {
      "cell_type": "code",
      "metadata": {
        "colab": {
          "base_uri": "https://localhost:8080/"
        },
        "id": "f4JNAquTvH1d",
        "outputId": "d97300a9-a14a-4622-db7b-329597e7d3e8"
      },
      "source": [
        "print(summarize(ob_text, word_count=200))"
      ],
      "execution_count": 13,
      "outputs": [
        {
          "output_type": "stream",
          "text": [
            "(Applause.) Now, as we stabilized the financial system, we also took steps to get our economy growing again, save as many jobs as possible, and help Americans who had become unemployed.\n",
            "(Applause.) There are projects like that all across this country that will create jobs and help move our nation's goods, services, and information.\n",
            "(Applause.) And to encourage these and other businesses to stay within our borders, it is time to finally slash the tax breaks for companies that ship our jobs overseas, and give those tax breaks to companies that create jobs right here in the United States of America.\n",
            "You can see the results of last year's investments in clean energy -– in the North Carolina company that will create 1,200 jobs nationwide helping to make advanced batteries; or in the California business that will put a thousand people to work making solar panels.\n",
            "(Applause.) So tonight, we set a new goal: We will double our exports over the next five years, an increase that will support two million jobs in America.\n",
            "(Applause.) This year, I will work with Congress and our military to finally repeal the law that denies gay Americans the right to serve the country they love because of who they are.\n"
          ],
          "name": "stdout"
        }
      ]
    },
    {
      "cell_type": "markdown",
      "metadata": {
        "id": "VIJ9tOFyPsIv"
      },
      "source": [
        "### Sentence tokenize each address and save the tokenized sentences to a separate list."
      ]
    },
    {
      "cell_type": "code",
      "metadata": {
        "colab": {
          "base_uri": "https://localhost:8080/"
        },
        "id": "PWy1H2SrDOOR",
        "outputId": "a7aa7720-b2e9-4e65-e3c0-0e91fa649a0e"
      },
      "source": [
        "!python -m spacy download en --quiet"
      ],
      "execution_count": 14,
      "outputs": [
        {
          "output_type": "stream",
          "text": [
            "\u001b[38;5;2m✔ Download and installation successful\u001b[0m\n",
            "You can now load the model via spacy.load('en_core_web_sm')\n",
            "\u001b[38;5;2m✔ Linking successful\u001b[0m\n",
            "/usr/local/lib/python3.6/dist-packages/en_core_web_sm -->\n",
            "/usr/local/lib/python3.6/dist-packages/spacy/data/en\n",
            "You can now load the model via spacy.load('en')\n"
          ],
          "name": "stdout"
        }
      ]
    },
    {
      "cell_type": "code",
      "metadata": {
        "id": "7Ngvp3JGPsIv"
      },
      "source": [
        "nlp = spacy.load('en')\r\n",
        "nlp.max_length = 20000000\r\n",
        "spacy_lin = nlp(lin_text)\r\n",
        "spacy_ros = nlp(ros_text)\r\n",
        "spacy_ob = nlp(ob_text)"
      ],
      "execution_count": 15,
      "outputs": []
    },
    {
      "cell_type": "code",
      "metadata": {
        "id": "3-qviTJ0Cer6"
      },
      "source": [
        "spacy_sents_lin = \" \".join([sent.text for sent in spacy_lin.sents if len(sent.text) > 1])\r\n",
        "spacy_sents_ros = \" \".join([sent.text for sent in spacy_ros.sents if len(sent.text) > 1])\r\n",
        "spacy_sents_ob = \" \".join([sent.text for sent in spacy_ob.sents if len(sent.text) > 1])"
      ],
      "execution_count": 16,
      "outputs": []
    },
    {
      "cell_type": "markdown",
      "metadata": {
        "id": "vcoMsb_sPsIx"
      },
      "source": [
        "### Train a Markov chain model for each tokenized address and generate 5 sentences based on the language used for each one."
      ]
    },
    {
      "cell_type": "code",
      "metadata": {
        "id": "c2m_wu41CP_E"
      },
      "source": [
        "lin_speech_generator = markovify.Text(spacy_sents_lin, state_size= 2)"
      ],
      "execution_count": 17,
      "outputs": []
    },
    {
      "cell_type": "code",
      "metadata": {
        "id": "BFOm-2JAPsIy",
        "colab": {
          "base_uri": "https://localhost:8080/"
        },
        "outputId": "00a5bd8b-7650-4234-a543-1939fbaf781f"
      },
      "source": [
        "for i in range(5):\r\n",
        "    print(lin_speech_generator.make_sentence())"
      ],
      "execution_count": 18,
      "outputs": [
        {
          "output_type": "stream",
          "text": [
            "I therefore recommend, as a slaver have been recently attended with profound solicitude, chiefly turning upon our own domestic affairs.\n",
            "I further suggest that general provision be made to show them that they be compensated at the late session for closing those ports.\n",
            "And the same general subject.\n",
            "I respectfully ask Congress to consider whether something more can not but think we are still his debtors.\n",
            "It is gratifying to know that the extension of this humane reform except such as they have no representative in Congress that body should not be surprised to learn that in the general tone of the laws which so deeply concern their interests and defense to the district courts and an independent Supreme Court.\n"
          ],
          "name": "stdout"
        }
      ]
    },
    {
      "cell_type": "code",
      "metadata": {
        "id": "C1K69CrbDsNo"
      },
      "source": [
        "ros_speech_generator = markovify.Text(spacy_sents_ros, state_size= 2)"
      ],
      "execution_count": 19,
      "outputs": []
    },
    {
      "cell_type": "code",
      "metadata": {
        "colab": {
          "base_uri": "https://localhost:8080/"
        },
        "id": "Qbtyf_9LD6Q2",
        "outputId": "62f83a8d-f124-4cbf-d896-11e4715301e4"
      },
      "source": [
        "for i in range(5):\r\n",
        "    print(ros_speech_generator.make_sentence())"
      ],
      "execution_count": 20,
      "outputs": [
        {
          "output_type": "stream",
          "text": [
            "We do not wish a healthy American community of men and wage-workers who furnished what the Congress and the needs of the forest reserves rests with the Philippine people we must find markets abroad.\n",
            "Under such conditions a few creditable exceptions, the arid States have been commissioned for actual settlers, and the needs of the Western Hemisphere, and give them a degree of independence for which the Chinese Government.\n",
            "To the Senate to the Indian work like any other country.\n",
            "To the Senate and House of Representatives: The Congress should immediately provide for the enforcement of the questions growing out of them.\n",
            "No man will go into the channels in the strife for commercial supremacy.\n"
          ],
          "name": "stdout"
        }
      ]
    },
    {
      "cell_type": "code",
      "metadata": {
        "id": "0aD8M0_fDsDH"
      },
      "source": [
        "ob_speech_generator = markovify.Text(spacy_sents_ob, state_size= 2)"
      ],
      "execution_count": 21,
      "outputs": []
    },
    {
      "cell_type": "code",
      "metadata": {
        "colab": {
          "base_uri": "https://localhost:8080/"
        },
        "id": "TZ4Pt_CCD6Kf",
        "outputId": "2b37c44c-a100-4a12-fde1-8138efe5a888"
      },
      "source": [
        "for i in range(5):\r\n",
        "    print(ob_speech_generator.make_sentence())"
      ],
      "execution_count": 22,
      "outputs": [
        {
          "output_type": "stream",
          "text": [
            "Meanwhile, China is not waiting.\n",
            "While we're at it, let's also eliminate all capital gains taxes on small business in Phoenix that will bring down the path of earmark reform.\n",
            "Now, as we stabilized the financial system, unemployment might be double what it took to keep their doctor and their grandchildren.\n",
            "The aspirations they hold elections, and we will support two million Americans paying for two wars, we're also confronting perhaps the greatest danger to the citizens who sent us here.\n",
            "These struggles are the same.\n"
          ],
          "name": "stdout"
        }
      ]
    },
    {
      "cell_type": "markdown",
      "metadata": {
        "id": "wxM3DVddPsI0"
      },
      "source": [
        "### Add part of speech tags to the Markov chain model and regenerate 5 sentences for each address."
      ]
    },
    {
      "cell_type": "code",
      "metadata": {
        "colab": {
          "base_uri": "https://localhost:8080/"
        },
        "id": "vXxDQ2ZzGPWR",
        "outputId": "acd005a9-cd2c-49d2-d5b1-c6ab400418f0"
      },
      "source": [
        "import nltk\r\n",
        "nltk.download('averaged_perceptron_tagger')"
      ],
      "execution_count": 23,
      "outputs": [
        {
          "output_type": "stream",
          "text": [
            "[nltk_data] Downloading package averaged_perceptron_tagger to\n",
            "[nltk_data]     /root/nltk_data...\n",
            "[nltk_data]   Package averaged_perceptron_tagger is already up-to-\n",
            "[nltk_data]       date!\n"
          ],
          "name": "stdout"
        },
        {
          "output_type": "execute_result",
          "data": {
            "text/plain": [
              "True"
            ]
          },
          "metadata": {
            "tags": []
          },
          "execution_count": 23
        }
      ]
    },
    {
      "cell_type": "code",
      "metadata": {
        "id": "tUBHXvZ5PsI1"
      },
      "source": [
        "class POSifiedText(markovify.Text):\r\n",
        "  def word_split(self, sentence):\r\n",
        "    words = re.split(self.word_split_pattern, sentence)\r\n",
        "    words = [ '::'.join(tag) for tag in pos_tag(words) ]\r\n",
        "    return words\r\n",
        "\r\n",
        "  def word_join(self, words):\r\n",
        "    sentence = ' '.join(word.split('::')[0] for word in words)\r\n",
        "    return sentence\r\n",
        "\r\n"
      ],
      "execution_count": 24,
      "outputs": []
    },
    {
      "cell_type": "code",
      "metadata": {
        "id": "DIbqSLqFFvlD"
      },
      "source": [
        "lin = POSifiedText(spacy_sents_lin, state_size=2)"
      ],
      "execution_count": 25,
      "outputs": []
    },
    {
      "cell_type": "code",
      "metadata": {
        "colab": {
          "base_uri": "https://localhost:8080/"
        },
        "id": "TovRWVGRGUFJ",
        "outputId": "59f80f83-327a-42cb-9d7a-de1eb96de948"
      },
      "source": [
        "for i in range(5):\r\n",
        "    print(lin.make_sentence())"
      ],
      "execution_count": 26,
      "outputs": [
        {
          "output_type": "stream",
          "text": [
            "The Union must be employed.\n",
            "The report of the Interior.\n",
            "It is a subject of gratulation that the only legitimate object of its language.\n",
            "The increase of those Indians have been written to the national loan has been even greater.\n",
            "There is reason to hope there will be submitted to Congress at the late session for closing those ports.\n"
          ],
          "name": "stdout"
        }
      ]
    },
    {
      "cell_type": "code",
      "metadata": {
        "id": "wz4yCxMoF-5R"
      },
      "source": [
        "ros = POSifiedText(spacy_sents_ros, state_size=2)"
      ],
      "execution_count": 27,
      "outputs": []
    },
    {
      "cell_type": "code",
      "metadata": {
        "colab": {
          "base_uri": "https://localhost:8080/"
        },
        "id": "4tuR7l3pGyy4",
        "outputId": "3263951b-64b8-45b9-db17-3ba17ec99a08"
      },
      "source": [
        "for i in range(5):\r\n",
        "    print(ros.make_sentence())"
      ],
      "execution_count": 28,
      "outputs": [
        {
          "output_type": "stream",
          "text": [
            "Whether we desire it or not, we must show both patience and strength, forbearance and steadfast resolution.\n",
            "To a standard of living is also charged with the Bureau of Forestry, to which the Government has been given our farming and stock-growing interests.\n",
            "President McKinley was killed by an anarchist while attending the Pan-American Exposition at Buffalo has just closed.\n",
            "With a few men of character, knowledge and enterprise.\n",
            "The merit system in its proving itself both honest and efficient.\n"
          ],
          "name": "stdout"
        }
      ]
    },
    {
      "cell_type": "code",
      "metadata": {
        "id": "JkrDGES3F-th"
      },
      "source": [
        "ob = POSifiedText(spacy_sents_ob, state_size=2)"
      ],
      "execution_count": 29,
      "outputs": []
    },
    {
      "cell_type": "code",
      "metadata": {
        "colab": {
          "base_uri": "https://localhost:8080/"
        },
        "id": "DCa25dZMGqmw",
        "outputId": "f554918b-e458-46c3-82a7-36b544ad096e"
      },
      "source": [
        "for i in range(5):\r\n",
        "    print(ob.make_sentence())"
      ],
      "execution_count": 30,
      "outputs": [
        {
          "output_type": "stream",
          "text": [
            "Let's meet our responsibility to support military families.\n",
            "Now, I know they will.\n",
            "Now, if we had allowed the meltdown of the blame for not explaining it more transparent and more effectively to bioterrorism or an infectious disease -– a plan that has always been our ideals.\n",
            "There's no reason Europe or China should have the resources they need to make advanced batteries; or in the United States of America.\n",
            "And if we just make fewer investments in our people, extend tax cuts including those that take your deposits, to take their word for it.\n"
          ],
          "name": "stdout"
        }
      ]
    }
  ]
}