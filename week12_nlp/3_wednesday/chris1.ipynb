{
  "nbformat": 4,
  "nbformat_minor": 0,
  "metadata": {
    "kernelspec": {
      "display_name": "Python 3",
      "language": "python",
      "name": "python3"
    },
    "language_info": {
      "codemirror_mode": {
        "name": "ipython",
        "version": 3
      },
      "file_extension": ".py",
      "mimetype": "text/x-python",
      "name": "python",
      "nbconvert_exporter": "python",
      "pygments_lexer": "ipython3",
      "version": "3.7.2"
    },
    "colab": {
      "name": "Copy of Natural Language Processing Day 3 Morning Assignment.ipynb",
      "provenance": [],
      "collapsed_sections": []
    }
  },
  "cells": [
    {
      "cell_type": "markdown",
      "metadata": {
        "id": "E0voemCtIvus"
      },
      "source": [
        "# Extracting Information from Text Data Assignment"
      ]
    },
    {
      "cell_type": "code",
      "metadata": {
        "id": "QNIoK-wzIvuv"
      },
      "source": [
        "import spacy\n",
        "import string\n",
        "import textacy\n",
        "import itertools\n",
        "from nltk import pos_tag\n",
        "from rake_nltk import Rake\n",
        "from nltk import sent_tokenize\n",
        "from nltk import word_tokenize\n",
        "from nltk import tree2conlltags\n",
        "from gensim.summarization import keywords\n",
        "from nltk.chunk.regexp import RegexpParser\n",
        "from nltk.corpus.reader.plaintext import PlaintextCorpusReader"
      ],
      "execution_count": 5,
      "outputs": []
    },
    {
      "cell_type": "code",
      "metadata": {
        "id": "EbB__zIWzob1"
      },
      "source": [
        "!pip install textacy --quiet\n",
        "!pip install rake_nltk --quiet"
      ],
      "execution_count": 6,
      "outputs": []
    },
    {
      "cell_type": "markdown",
      "metadata": {
        "id": "4M7RrWRKIvuy"
      },
      "source": [
        "### Read the CNN Lite plain text file articles into a corpus using the NLTK's PlaintextCorpusReader."
      ]
    },
    {
      "cell_type": "code",
      "metadata": {
        "id": "gMwqpeAmIvuz"
      },
      "source": [
        "PATH = '/content/drive/MyDrive/web scrap/CNN'\n",
        "\n",
        "DOC_PATTERN = r'.*\\.txt'\n",
        "corpus = PlaintextCorpusReader(PATH, DOC_PATTERN)"
      ],
      "execution_count": 8,
      "outputs": []
    },
    {
      "cell_type": "markdown",
      "metadata": {
        "id": "y6Zp26sVIvu1"
      },
      "source": [
        "### Iterate through the fileids in the corpus, extract the raw text of each document, and store them in a list."
      ]
    },
    {
      "cell_type": "code",
      "metadata": {
        "id": "yl15hykfIvu2"
      },
      "source": [
        "docs = [corpus.raw(fileid) for fileid in corpus.fileids()]"
      ],
      "execution_count": 9,
      "outputs": []
    },
    {
      "cell_type": "markdown",
      "metadata": {
        "id": "c5LLM0YPIvu4"
      },
      "source": [
        "### Extract the top 5 keywords from every document in the corpus. Print them and compare the differences in keywords among the documents."
      ]
    },
    {
      "cell_type": "code",
      "metadata": {
        "scrolled": true,
        "id": "wcXEjv6FIvu4",
        "colab": {
          "base_uri": "https://localhost:8080/"
        },
        "outputId": "e009faba-99d0-4c8d-9521-5ffb3ef8c70e"
      },
      "source": [
        "doc = docs[0]\n",
        "[[keywords(doc, words=5, lemmatize=True).split('\\n')] for doc in docs]"
      ],
      "execution_count": 14,
      "outputs": [
        {
          "output_type": "execute_result",
          "data": {
            "text/plain": [
              "[[['pink', 'tour', 'star', 'pretty', 'motocross']],\n",
              " [['primary', 'patrick', 'telling', 'year']],\n",
              " [['narwhal', 'tail', 'puppy', 'unicorn', 'dogs']],\n",
              " [['states', 'democratic', 'running', 'nthe', 'bloomberg']],\n",
              " [['ukraine', 'presidents', 'rep', 'nhe', 'republican']],\n",
              " [['muslimness', 'people', 'skin', 'religion', 'white']],\n",
              " [['trump', 'said', 'new', 'media', 'republican']],\n",
              " [['said', 'brown', 'police', 'roanoke', 'jones']],\n",
              " [['trump', 'nthe', 'hotels', 'office', 'president']],\n",
              " [['keys', 'grammys', 'award', 'power', 'wanna']],\n",
              " [['americans', 'republican', 'trump', 'ukrainians', 'presidency']],\n",
              " [['said', 'student', 'told', 'pence', 'schools']],\n",
              " [['crows', 'old', 'original', 'american', 'depict']],\n",
              " [['protester', 'nthe', 'police', 'chinese', 'new']]]"
            ]
          },
          "metadata": {
            "tags": []
          },
          "execution_count": 14
        }
      ]
    },
    {
      "cell_type": "markdown",
      "metadata": {
        "id": "6w50BcwMIvu6"
      },
      "source": [
        "### Extract the top 3 keyphrases from each document, print them, and compare the differences."
      ]
    },
    {
      "cell_type": "code",
      "metadata": {
        "id": "7M0PDiFwIvu7",
        "colab": {
          "base_uri": "https://localhost:8080/"
        },
        "outputId": "13af14af-5db2-4e76-8bc9-a7abf0ebf34d"
      },
      "source": [
        "r = Rake()\n",
        "for doc in docs:  \n",
        "  r.extract_keywords_from_text(doc)\n",
        "  print(r.get_ranked_phrases_with_scores()[:5])\n"
      ],
      "execution_count": 18,
      "outputs": [
        {
          "output_type": "stream",
          "text": [
            "[(32.5, 'country music association awards red carpet'), (23.0, '\"\\\\ nthe star also praised'), (17.5, 'country star chris stapleton'), (17.25, 'school soon ,\" pink said'), (15.0, 'beautiful trauma tour ranks')]\n",
            "[(95.9, 'former new york city mayor michael bloomberg stepped forward last week'), (54.858333333333334, 'friday .\\\\ npatrick could seize upon potential advantages'), (47.99166666666666, 'bid late last year .\\\\ nthe conversations began'), (42.05833333333333, 'progressive policies .\\\\ npatrick last year defended'), (29.0, 'elections process would ultimately splash back')]\n",
            "[(29.5, 'facebook post .\\\\ nvets took x'), (28.166666666666668, 'little magical furry unicorn ,\" according'), (24.0, 'internet fame .\\\\ nthe rush'), (23.833333333333336, \"dog rescue nonprofit organization mac \\\\'\"), (19.833333333333336, 'spokesperson told cnn .\\\\ nnarwhal')]\n",
            "[(50.666666666666664, 'recent months .\\\\ na new monmouth university poll'), (48.925, \"prolonged delegate fight .\\\\ nlast week bloomberg \\\\'\"), (48.25, 'even footing ,\" wolfson said .\\\\ non tuesday'), (42.266666666666666, 'current 2020 democrats -- clinton told bbc radio'), (41.79166666666667, 'former new york mayor michael bloomberg made')]\n",
            "[(81.05555555555556, 'nand former white house homeland security adviser tom bossert summed'), (69.72222222222223, 'money ,\" tweeted white house press secretary stephanie grisham'), (66.25, 'former national security council russia expert fiona hill said'), (49.90942028985507, 'former vice president joe biden .\\\\ ni monitored'), (42.81029748283753, \"devin nunes .\\\\ nrepublicans \\\\' main talking point\")]\n",
            "[(37.05, 'even basic american girls .\\\\ nthe worry'), (20.77777777777778, 'support various international policies --'), (16.0, 'protesters stormed john f'), (16.0, 'executive order banning entry'), (15.75, 'wonderfully overwhelming .\\\\ nso')]\n",
            "[(87.50641025641025, 'wednesday night .\\\\ ni heard white house press secretary stephanie grisham say'), (78.3525641025641, 'others made jokes — christian whiton said witnesses bill taylor'), (48.08181818181818, 'new yorker )\\\\ n -- via frank pallotta'), (42.4647435897436, 'america first ,\" sentiment .\\\\ nat one point'), (37.08974358974359, 'prime time shows .\\\\ nanother gop lawmaker')]\n",
            "[(34.04330065359477, ',\" jones said .\\\\ ndid family bring'), (31.333333333333332, 'roanoke .\\\\ nthe caller told investigators'), (29.555555555555557, 'resume friday .\\\\ nhe switched vehicles'), (28.862745098039213, 'nthough franklin county authorities said earlier'), (24.807189542483663, 'roanoke police chief tim jones said')]\n",
            "[(72.6, 'list profit figures .\\\\ na federal court recently revived'), (55.6, 'comment .\\\\ nthe wall street journal first reported'), (35.6, 'personal financial reports .\\\\ nseveral lawsuits'), (34.642857142857146, \"[' trump organization explores selling dc hotel\"), (30.53333333333333, ',\" said committee chairman peter defazio')]\n",
            "[(39.1, 'c \\\\\\' mon !,\" last year \\\\\\''), (28.1, 'next year .\\\\ nher 2020 return'), (24.1, 'los angeles .\\\\ nthis year'), (23.0, 'entertainer said .\\\\ non wednesday'), (19.357142857142858, 'host ,\" keys told billboard')]\n",
            "[(61.13650793650794, 'conspiracy questions pot .\\\\ nany real american courtroom would overrule'), (33.25, 'house intelligence committee chair adam schiff'), (32.7, 'theoretically impeachable offenses .\\\\ nin contrast'), (27.916666666666664, 'republicans like jim jordan threw angrily'), (24.5, 'schiff also followed another rule employed')]\n",
            "[(101.81547619047619, 'posted threats please notify us asap ,\" murakami wrote .\\\\ nall schools'), (63.20343137254902, 'officials said .\\\\ nlos angeles county sheriff alex villanueva said'), (53.62254901960784, 'two law enforcement sources told cnn .\\\\ nauthorities said'), (42.416666666666664, 'another student told cnn affiliate ktla .\\\\ n'), (35.29166666666667, 'needed medical attention .\\\\ nvideo obtained')]\n",
            "[(41.33333333333333, \"\\\\' outdated cultural depictions \\\\'\\\\ nupdated 3\"), (24.666666666666668, 'may contain outdated cultural depictions'), (16.0, 'ndirector tim burton chose'), (15.5, 'character named jim crow'), (14.166666666666666, 'older movies .\\\\ n')]\n",
            "[(34.0, 'fall semester around two weeks early'), (32.55, 'chinese military response .\\\\ nanalysts say'), (32.3, 'senior chinese official shen chunyao said'), (29.41919191919192, 'three tunnels connecting hong kong island'), (28.205128205128204, \"[' student protesters fortify campus occupations\")]\n"
          ],
          "name": "stdout"
        }
      ]
    },
    {
      "cell_type": "markdown",
      "metadata": {
        "id": "Rev-FI9HIvu9"
      },
      "source": [
        "### Identify and extract the named entities in each document, filtering out the numeric types. Print them and compare the differences between documents."
      ]
    },
    {
      "cell_type": "code",
      "metadata": {
        "id": "TLs9TLMHIvu9",
        "colab": {
          "base_uri": "https://localhost:8080/"
        },
        "outputId": "bca87c6f-02e7-47f3-e50e-4b711782833f"
      },
      "source": [
        "import spacy\n",
        "!python -m spacy download en_core_web_sm"
      ],
      "execution_count": 19,
      "outputs": [
        {
          "output_type": "stream",
          "text": [
            "Requirement already satisfied: en_core_web_sm==2.2.5 from https://github.com/explosion/spacy-models/releases/download/en_core_web_sm-2.2.5/en_core_web_sm-2.2.5.tar.gz#egg=en_core_web_sm==2.2.5 in /usr/local/lib/python3.6/dist-packages (2.2.5)\n",
            "Requirement already satisfied: spacy>=2.2.2 in /usr/local/lib/python3.6/dist-packages (from en_core_web_sm==2.2.5) (2.2.4)\n",
            "Requirement already satisfied: plac<1.2.0,>=0.9.6 in /usr/local/lib/python3.6/dist-packages (from spacy>=2.2.2->en_core_web_sm==2.2.5) (1.1.3)\n",
            "Requirement already satisfied: setuptools in /usr/local/lib/python3.6/dist-packages (from spacy>=2.2.2->en_core_web_sm==2.2.5) (51.0.0)\n",
            "Requirement already satisfied: catalogue<1.1.0,>=0.0.7 in /usr/local/lib/python3.6/dist-packages (from spacy>=2.2.2->en_core_web_sm==2.2.5) (1.0.0)\n",
            "Requirement already satisfied: numpy>=1.15.0 in /usr/local/lib/python3.6/dist-packages (from spacy>=2.2.2->en_core_web_sm==2.2.5) (1.19.4)\n",
            "Requirement already satisfied: murmurhash<1.1.0,>=0.28.0 in /usr/local/lib/python3.6/dist-packages (from spacy>=2.2.2->en_core_web_sm==2.2.5) (1.0.5)\n",
            "Requirement already satisfied: thinc==7.4.0 in /usr/local/lib/python3.6/dist-packages (from spacy>=2.2.2->en_core_web_sm==2.2.5) (7.4.0)\n",
            "Requirement already satisfied: cymem<2.1.0,>=2.0.2 in /usr/local/lib/python3.6/dist-packages (from spacy>=2.2.2->en_core_web_sm==2.2.5) (2.0.5)\n",
            "Requirement already satisfied: srsly<1.1.0,>=1.0.2 in /usr/local/lib/python3.6/dist-packages (from spacy>=2.2.2->en_core_web_sm==2.2.5) (1.0.5)\n",
            "Requirement already satisfied: requests<3.0.0,>=2.13.0 in /usr/local/lib/python3.6/dist-packages (from spacy>=2.2.2->en_core_web_sm==2.2.5) (2.23.0)\n",
            "Requirement already satisfied: blis<0.5.0,>=0.4.0 in /usr/local/lib/python3.6/dist-packages (from spacy>=2.2.2->en_core_web_sm==2.2.5) (0.4.1)\n",
            "Requirement already satisfied: wasabi<1.1.0,>=0.4.0 in /usr/local/lib/python3.6/dist-packages (from spacy>=2.2.2->en_core_web_sm==2.2.5) (0.8.0)\n",
            "Requirement already satisfied: tqdm<5.0.0,>=4.38.0 in /usr/local/lib/python3.6/dist-packages (from spacy>=2.2.2->en_core_web_sm==2.2.5) (4.41.1)\n",
            "Requirement already satisfied: preshed<3.1.0,>=3.0.2 in /usr/local/lib/python3.6/dist-packages (from spacy>=2.2.2->en_core_web_sm==2.2.5) (3.0.5)\n",
            "Requirement already satisfied: importlib-metadata>=0.20; python_version < \"3.8\" in /usr/local/lib/python3.6/dist-packages (from catalogue<1.1.0,>=0.0.7->spacy>=2.2.2->en_core_web_sm==2.2.5) (3.3.0)\n",
            "Requirement already satisfied: certifi>=2017.4.17 in /usr/local/lib/python3.6/dist-packages (from requests<3.0.0,>=2.13.0->spacy>=2.2.2->en_core_web_sm==2.2.5) (2020.12.5)\n",
            "Requirement already satisfied: chardet<4,>=3.0.2 in /usr/local/lib/python3.6/dist-packages (from requests<3.0.0,>=2.13.0->spacy>=2.2.2->en_core_web_sm==2.2.5) (3.0.4)\n",
            "Requirement already satisfied: idna<3,>=2.5 in /usr/local/lib/python3.6/dist-packages (from requests<3.0.0,>=2.13.0->spacy>=2.2.2->en_core_web_sm==2.2.5) (2.10)\n",
            "Requirement already satisfied: urllib3!=1.25.0,!=1.25.1,<1.26,>=1.21.1 in /usr/local/lib/python3.6/dist-packages (from requests<3.0.0,>=2.13.0->spacy>=2.2.2->en_core_web_sm==2.2.5) (1.24.3)\n",
            "Requirement already satisfied: zipp>=0.5 in /usr/local/lib/python3.6/dist-packages (from importlib-metadata>=0.20; python_version < \"3.8\"->catalogue<1.1.0,>=0.0.7->spacy>=2.2.2->en_core_web_sm==2.2.5) (3.4.0)\n",
            "Requirement already satisfied: typing-extensions>=3.6.4; python_version < \"3.8\" in /usr/local/lib/python3.6/dist-packages (from importlib-metadata>=0.20; python_version < \"3.8\"->catalogue<1.1.0,>=0.0.7->spacy>=2.2.2->en_core_web_sm==2.2.5) (3.7.4.3)\n",
            "\u001b[38;5;2m✔ Download and installation successful\u001b[0m\n",
            "You can now load the model via spacy.load('en_core_web_sm')\n"
          ],
          "name": "stdout"
        }
      ]
    },
    {
      "cell_type": "code",
      "metadata": {
        "colab": {
          "base_uri": "https://localhost:8080/"
        },
        "id": "83lwwwrCWCiF",
        "outputId": "2c814b3b-7f3d-4099-9c5d-8445410783d9"
      },
      "source": [
        "nlp = spacy.load(\"en_core_web_sm\")\n",
        "\n",
        "spacy_doc = nlp(doc)\n",
        "\n",
        "entities = [[entity.text, entity.label_] for entity in spacy_doc.ents]\n",
        "entities"
      ],
      "execution_count": 21,
      "outputs": [
        {
          "output_type": "execute_result",
          "data": {
            "text/plain": [
              "[['Hong Kong', 'GPE'],\n",
              " ['8:17 AM ET', 'TIME'],\n",
              " ['November 14', 'DATE'],\n",
              " ['CNN', 'ORG'],\n",
              " ['Hong Kong', 'GPE'],\n",
              " ['Thursday', 'DATE'],\n",
              " ['evening', 'TIME'],\n",
              " ['as thousands', 'CARDINAL'],\n",
              " ['\\\\nThe', 'NORP'],\n",
              " ['the almost six-month-long', 'DATE'],\n",
              " ['recent days', 'DATE'],\n",
              " ['Chinese', 'NORP'],\n",
              " ['Thursday morning', 'TIME'],\n",
              " ['the Hong Kong Polytechnic University', 'ORG'],\n",
              " ['Kowloon', 'GPE'],\n",
              " ['Hong Kong Island', 'GPE'],\n",
              " ['the University of Hong Kong', 'ORG'],\n",
              " ['\\\\nUniversities', 'ORG'],\n",
              " ['the Chinese University of Hong Kong', 'ORG'],\n",
              " ['CUHK', 'ORG'],\n",
              " ['the New Territories', 'GPE'],\n",
              " ['several thousand', 'CARDINAL'],\n",
              " ['the third straight day', 'DATE'],\n",
              " ['CUHK', 'ORG'],\n",
              " ['Tuesday', 'DATE'],\n",
              " ['June', 'DATE'],\n",
              " ['hundreds', 'CARDINAL'],\n",
              " ['more than 1,567', 'CARDINAL'],\n",
              " ['Wednesday', 'DATE'],\n",
              " ['Thursday', 'DATE'],\n",
              " ['petrol bombs', 'PERSON'],\n",
              " ['nails.\\\\nSo', 'ORG'],\n",
              " ['Hong Kong', 'GPE'],\n",
              " ['CUHK', 'ORG'],\n",
              " ['around two weeks', 'DATE'],\n",
              " ['Wednesday', 'DATE'],\n",
              " ['China', 'GPE'],\n",
              " ['Thursday', 'DATE'],\n",
              " ['Central district', 'LOC'],\n",
              " ['a fourth straight day', 'DATE'],\n",
              " ['Tai Koo', 'PERSON'],\n",
              " ['three', 'CARDINAL'],\n",
              " ['Hong Kong Island', 'GPE'],\n",
              " ['Kowloon', 'GPE'],\n",
              " ['Cross-Harbour Tunnel', 'ORG'],\n",
              " ['Thursday', 'DATE'],\n",
              " ['morning', 'TIME'],\n",
              " ['MTR', 'ORG'],\n",
              " ['the week', 'DATE'],\n",
              " ['first', 'ORDINAL'],\n",
              " ['this week', 'DATE'],\n",
              " [\"Kong\\\\'s Hospital Authority\", 'ORG'],\n",
              " ['67', 'CARDINAL'],\n",
              " ['Wednesday', 'DATE'],\n",
              " ['Wednesday', 'DATE'],\n",
              " ['one', 'CARDINAL'],\n",
              " [\"Hong Kong\\\\'s\", 'GPE'],\n",
              " ['Hospital Authority', 'ORG'],\n",
              " ['the week', 'DATE'],\n",
              " [\"Monday.\\\\n\\\\'You\", 'PERSON'],\n",
              " [\"doom\\\\'\\\\nThe\", 'ORG'],\n",
              " ['this week', 'DATE'],\n",
              " ['Chinese', 'NORP'],\n",
              " ['Thursday', 'DATE'],\n",
              " ['China\\\\', 'ORG'],\n",
              " ['Hong Kong', 'GPE'],\n",
              " ['CCTV', 'ORG'],\n",
              " ['Global Times', 'ORG'],\n",
              " ['Armed Police', 'ORG'],\n",
              " [\"the People\\\\'s Liberation Army\", 'ORG'],\n",
              " [\"Hong Kong\\\\'s\", 'GPE'],\n",
              " [\"\\\\'valiant\\\\\", 'ORG'],\n",
              " ['said.\\\\nHowever', 'PRODUCT'],\n",
              " ['Beijing', 'GPE'],\n",
              " ['Chinese', 'NORP'],\n",
              " ['Beijing', 'GPE'],\n",
              " ['considering.\\\\n\"It\\\\', 'ORG'],\n",
              " ['Adam Ni', 'PERSON'],\n",
              " ['China', 'GPE'],\n",
              " ['Macquarie University', 'ORG'],\n",
              " ['Sydney', 'GPE'],\n",
              " ['CNN', 'ORG'],\n",
              " ['last month', 'DATE'],\n",
              " ['\\\\nThe Chinese', 'NORP'],\n",
              " ['Hong Kong', 'GPE'],\n",
              " ['Chinese Communist Party', 'ORG'],\n",
              " ['October', 'DATE'],\n",
              " ['Chinese', 'NORP'],\n",
              " ['Shen Chunyao', 'PERSON'],\n",
              " ['Beijing', 'GPE'],\n",
              " ['Hong Kong', 'GPE'],\n",
              " ['Hong Kong', 'GPE'],\n",
              " ['Chinese', 'NORP'],\n",
              " ['Tuesday', 'DATE'],\n",
              " ['Chinese', 'NORP'],\n",
              " ['Xinhua', 'ORG'],\n",
              " ['Chinese', 'NORP'],\n",
              " ['20', 'CARDINAL'],\n",
              " ['Hong Kong', 'GPE'],\n",
              " ['Macao', 'GPE']]"
            ]
          },
          "metadata": {
            "tags": []
          },
          "execution_count": 21
        }
      ]
    },
    {
      "cell_type": "markdown",
      "metadata": {
        "id": "UwhH404sIvvB"
      },
      "source": [
        "### For every document in the corpus, iterate over every sentence, extract any SVO triples, print them, and compare."
      ]
    },
    {
      "cell_type": "code",
      "metadata": {
        "id": "03XLMyk1IvvC",
        "colab": {
          "base_uri": "https://localhost:8080/"
        },
        "outputId": "dc74cebe-b046-4a53-c91a-d273003a11f0"
      },
      "source": [
        "results = []\n",
        "\n",
        "for sent in spacy_doc.sents:\n",
        "  svo = textacy.extract.subject_verb_object_triples(sent)\n",
        "  results += svo\n",
        "\n",
        "# de-duplicate our svo results\n",
        "results = list(set(results))\n",
        "results"
      ],
      "execution_count": 22,
      "outputs": [
        {
          "output_type": "execute_result",
          "data": {
            "text/plain": [
              "[(television channel, issued, editorial),\n",
              " (Student protesters, fortify, campus occupations),\n",
              " (protesters, continued, bringing),\n",
              " (you, can make, call),\n",
              " (you, are going, have),\n",
              " (government supporters, hurling, bricks),\n",
              " (state media, warning, protesters),\n",
              " (police, fired, gas),\n",
              " (Adam Ni, told, CNN),\n",
              " (injuries\\nThe protests, have taken, turn),\n",
              " (those, continued, to pour),\n",
              " (he, began, clearing),\n",
              " (protesters, seek, to breach),\n",
              " (protesters, continued, to pour),\n",
              " (\"\\n\"We, warn, protesters),\n",
              " (who, are coerced, be),\n",
              " (thousands, prepared, to face),\n",
              " (country, will never accept, situation),\n",
              " (government, unveiled, range),\n",
              " (hundreds, firing, canisters),\n",
              " (level, has reached, heights),\n",
              " (they, had evacuated, students),\n",
              " (MTR, continued, to suspend),\n",
              " (protesters, to cross, it),\n",
              " (what, is believed, be),\n",
              " (students, have been asked, to leave),\n",
              " (those, continued, bringing),\n",
              " (protesters, hurling, bricks),\n",
              " (protesters, barricaded, themselves)]"
            ]
          },
          "metadata": {
            "tags": []
          },
          "execution_count": 22
        }
      ]
    }
  ]
}