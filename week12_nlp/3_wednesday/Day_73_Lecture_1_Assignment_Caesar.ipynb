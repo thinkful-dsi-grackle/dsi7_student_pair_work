{
  "nbformat": 4,
  "nbformat_minor": 0,
  "metadata": {
    "kernelspec": {
      "display_name": "Python 3",
      "language": "python",
      "name": "python3"
    },
    "language_info": {
      "codemirror_mode": {
        "name": "ipython",
        "version": 3
      },
      "file_extension": ".py",
      "mimetype": "text/x-python",
      "name": "python",
      "nbconvert_exporter": "python",
      "pygments_lexer": "ipython3",
      "version": "3.7.2"
    },
    "colab": {
      "name": "Natural Language Processing Day 3 Morning Assignment_Caesar.ipynb",
      "provenance": [],
      "collapsed_sections": []
    }
  },
  "cells": [
    {
      "cell_type": "markdown",
      "metadata": {
        "id": "E0voemCtIvus"
      },
      "source": [
        "# Extracting Information from Text Data Assignment"
      ]
    },
    {
      "cell_type": "code",
      "metadata": {
        "colab": {
          "base_uri": "https://localhost:8080/"
        },
        "id": "-K5qpU5AP0vS",
        "outputId": "7cf5d5df-eb3e-4368-876a-262c4bae5d5d"
      },
      "source": [
        "from google.colab import drive\r\n",
        "drive.mount('/content/drive', force_remount=True)"
      ],
      "execution_count": 2,
      "outputs": [
        {
          "output_type": "stream",
          "text": [
            "Mounted at /content/drive\n"
          ],
          "name": "stdout"
        }
      ]
    },
    {
      "cell_type": "code",
      "metadata": {
        "id": "QNIoK-wzIvuv"
      },
      "source": [
        "import spacy\n",
        "import string\n",
        "import textacy\n",
        "import itertools\n",
        "\n",
        "from nltk import pos_tag\n",
        "from rake_nltk import Rake\n",
        "from nltk import sent_tokenize\n",
        "from nltk import word_tokenize\n",
        "from nltk import tree2conlltags\n",
        "from gensim.summarization import keywords\n",
        "from nltk.chunk.regexp import RegexpParser\n",
        "from nltk.corpus.reader.plaintext import PlaintextCorpusReader"
      ],
      "execution_count": 3,
      "outputs": []
    },
    {
      "cell_type": "code",
      "metadata": {
        "id": "EbB__zIWzob1",
        "colab": {
          "base_uri": "https://localhost:8080/"
        },
        "outputId": "825315f2-3a9d-4fec-91a5-cf4b6cda95c8"
      },
      "source": [
        "!pip install textacy --quiet\n",
        "!pip install rake_nltk --quiet"
      ],
      "execution_count": 1,
      "outputs": [
        {
          "output_type": "stream",
          "text": [
            "\u001b[K     |████████████████████████████████| 184kB 6.1MB/s \n",
            "\u001b[K     |████████████████████████████████| 481kB 6.9MB/s \n",
            "\u001b[K     |████████████████████████████████| 102kB 5.8MB/s \n",
            "\u001b[K     |████████████████████████████████| 1.9MB 9.7MB/s \n",
            "\u001b[?25h  Building wheel for cytoolz (setup.py) ... \u001b[?25l\u001b[?25hdone\n",
            "  Building wheel for rake-nltk (setup.py) ... \u001b[?25l\u001b[?25hdone\n"
          ],
          "name": "stdout"
        }
      ]
    },
    {
      "cell_type": "code",
      "metadata": {
        "colab": {
          "base_uri": "https://localhost:8080/"
        },
        "id": "QQ6sCLObQFoy",
        "outputId": "f4dc51e0-60fb-48d2-eef3-690f915cd189"
      },
      "source": [
        "import nltk\r\n",
        "nltk.download('punkt')\r\n",
        "nltk.download('averaged_perceptron_tagger')\r\n",
        "nltk.download('stopwords')\r\n",
        "nltk.download('wordnet')"
      ],
      "execution_count": 5,
      "outputs": [
        {
          "output_type": "stream",
          "text": [
            "[nltk_data] Downloading package punkt to /root/nltk_data...\n",
            "[nltk_data]   Package punkt is already up-to-date!\n",
            "[nltk_data] Downloading package averaged_perceptron_tagger to\n",
            "[nltk_data]     /root/nltk_data...\n",
            "[nltk_data]   Unzipping taggers/averaged_perceptron_tagger.zip.\n",
            "[nltk_data] Downloading package stopwords to /root/nltk_data...\n",
            "[nltk_data]   Package stopwords is already up-to-date!\n",
            "[nltk_data] Downloading package wordnet to /root/nltk_data...\n",
            "[nltk_data]   Unzipping corpora/wordnet.zip.\n"
          ],
          "name": "stdout"
        },
        {
          "output_type": "execute_result",
          "data": {
            "text/plain": [
              "True"
            ]
          },
          "metadata": {
            "tags": []
          },
          "execution_count": 5
        }
      ]
    },
    {
      "cell_type": "markdown",
      "metadata": {
        "id": "4M7RrWRKIvuy"
      },
      "source": [
        "### Read the CNN Lite plain text file articles into a corpus using the NLTK's PlaintextCorpusReader."
      ]
    },
    {
      "cell_type": "code",
      "metadata": {
        "id": "gMwqpeAmIvuz"
      },
      "source": [
        "path = \"cnn_lite/\"\r\n",
        "doc_pattern = r\".*\\.txt\"\r\n",
        "corpus = PlaintextCorpusReader(path, doc_pattern)"
      ],
      "execution_count": 10,
      "outputs": []
    },
    {
      "cell_type": "markdown",
      "metadata": {
        "id": "y6Zp26sVIvu1"
      },
      "source": [
        "### Iterate through the fileids in the corpus, extract the raw text of each document, and store them in a list."
      ]
    },
    {
      "cell_type": "code",
      "metadata": {
        "id": "yl15hykfIvu2"
      },
      "source": [
        "docs = [corpus.raw(id_) for id_ in corpus.fileids()]"
      ],
      "execution_count": 11,
      "outputs": []
    },
    {
      "cell_type": "code",
      "metadata": {
        "id": "z25zc4epQiR3"
      },
      "source": [
        "doc = docs[0]"
      ],
      "execution_count": 13,
      "outputs": []
    },
    {
      "cell_type": "markdown",
      "metadata": {
        "id": "c5LLM0YPIvu4"
      },
      "source": [
        "### Extract the top 5 keywords from every document in the corpus. Print them and compare the differences in keywords among the documents."
      ]
    },
    {
      "cell_type": "code",
      "metadata": {
        "scrolled": true,
        "id": "wcXEjv6FIvu4",
        "colab": {
          "base_uri": "https://localhost:8080/"
        },
        "outputId": "1585efac-cec6-480e-91c8-ed9c96b8e1e2"
      },
      "source": [
        "keywords(doc, words=5, lemmatize=True).split('\\n')"
      ],
      "execution_count": 14,
      "outputs": [
        {
          "output_type": "execute_result",
          "data": {
            "text/plain": [
              "['sanders', 'campaign', 'news', 'democrats', 'recent']"
            ]
          },
          "metadata": {
            "tags": []
          },
          "execution_count": 14
        }
      ]
    },
    {
      "cell_type": "markdown",
      "metadata": {
        "id": "6w50BcwMIvu6"
      },
      "source": [
        "### Extract the top 3 keyphrases from each document, print them, and compare the differences."
      ]
    },
    {
      "cell_type": "code",
      "metadata": {
        "id": "7M0PDiFwIvu7"
      },
      "source": [
        "from rake_nltk import Rake\r\n",
        "def get_ranked_phrases(doc):    \r\n",
        "    r = Rake()\r\n",
        "    r.extract_keywords_from_text(doc)\r\n",
        "    \r\n",
        "    return r.get_ranked_phrases_with_scores()[:3]\r\n",
        "\r\n",
        "top_3_key_phrases = [get_ranked_phrases(doc) for doc in docs]"
      ],
      "execution_count": 20,
      "outputs": []
    },
    {
      "cell_type": "code",
      "metadata": {
        "colab": {
          "base_uri": "https://localhost:8080/"
        },
        "id": "ISrbOOwGRJiP",
        "outputId": "9d268a13-9495-44ec-a003-01a5bf4a8083"
      },
      "source": [
        "top_3_key_phrases"
      ],
      "execution_count": 21,
      "outputs": [
        {
          "output_type": "execute_result",
          "data": {
            "text/plain": [
              "[[(64.35555555555555,\n",
              "   'win ,\" campaign manager faiz shakir told cnn last month'),\n",
              "  (52.0, 'billionaire former new york city mayor michael bloomberg'),\n",
              "  (33.0, 'former vice president joe biden came')],\n",
              " [(43.25, 'attorneys general offices could gather financial information'),\n",
              "  (25.25, 'attorney general brian frosh called'),\n",
              "  (25.0, '© 2019 cable news network')],\n",
              " [(26.015151515151516, 'america ,\" cnn opinion invited readers'),\n",
              "  (23.0, '© 2019 cable news network'),\n",
              "  (23.0, 'seen increasingly vast gaps develop')],\n",
              " [(29.42820512820513,\n",
              "   'senior administration official said trump first raised'),\n",
              "  (29.2, 'turkish president recep tayyip erdoğan pulled'),\n",
              "  (25.0, '© 2019 cable news network')],\n",
              " [(25.0, '© 2019 cable news network'),\n",
              "  (20.625, 'unusual ,\" said sjoerd hulshof'),\n",
              "  (14.8, 'discover new things .\"')],\n",
              " [(82.4, 'make quick judgments ,\" saugus high student lèan aguilar said'),\n",
              "  (25.0, '© 2019 cable news network'),\n",
              "  (24.0, 'santa clarita valley signal reported')],\n",
              " [(29.333333333333332, 'climate change might affect us \")'),\n",
              "  (23.0, '© 2019 cable news network'),\n",
              "  (23.0, 'almost three times less accurate')],\n",
              " [(62.371794871794876,\n",
              "   'mexican defense minister luis cresencio sandoval said last week'),\n",
              "  (47.03846153846154,\n",
              "   'additional testimony sondland submitted last monday effectively conceded'),\n",
              "  (42.25, 'issues went far beyond trivial administrative transgressions')],\n",
              " [(33.0, 'racist tweets targeting four women lawmakers'),\n",
              "  (28.916666666666664, 'creating vast global communities across generations'),\n",
              "  (25.0, 'ucla professor matthew lieberman wrote')],\n",
              " [(25.0, '© 2019 cable news network'),\n",
              "  (23.0, 'oncoming tourist rental vehicle driven'),\n",
              "  (19.666666666666664, 'giraffe held 13 visitors passing')],\n",
              " [(25.0, '© 2019 cable news network'),\n",
              "  (19.666666666666664, 'director paul feig told thr'),\n",
              "  (14.0, 'producer david livingstone talked')],\n",
              " [(52.02777777777778,\n",
              "   '• taylor aide david holmes testifies behind closed doors'),\n",
              "  (45.266666666666666,\n",
              "   'ukrainian president volodymyr zelensky despite president donald trump'),\n",
              "  (32.5, 'senate majority leader mitch mcconnell probably')],\n",
              " [(39.666666666666664,\n",
              "   'trailing democratic state attorney general andy beshear'),\n",
              "  (39.06666666666666, 'accurate ,\" bevin told cnn affiliate wkyt'),\n",
              "  (25.0, '© 2019 cable news network')],\n",
              " [(43.5, 'federal emergency management agency repeatedly said thursday'),\n",
              "  (25.0, '© 2019 cable news network'),\n",
              "  (22.416666666666668, 'good answer ,\" carper told')],\n",
              " [(33.5, 'polarized differences still allowed dispassionate debate'),\n",
              "  (30.875, 'turkish strongman president recep tayyip erdoğan'),\n",
              "  (23.666666666666668, '© 2019 cable news network')],\n",
              " [(23.5, '© 2019 cable news network'),\n",
              "  (16.0, '450 euros ($ 330'),\n",
              "  (15.0, 'pregnant social media star')],\n",
              " [(31.6, 'consumer loyalty among hostess brands .\"'),\n",
              "  (25.0, '© 2019 cable news network'),\n",
              "  (24.1, 'smaller headcount called hostess brands')],\n",
              " [(55.095238095238095,\n",
              "   'state department spokeswoman morgan ortagus flank ivanka trump'),\n",
              "  (47.37857142857143,\n",
              "   'festivities feting trump jr ., including republican reps'),\n",
              "  (37.0, 'former treasury department spokesman tony sayegh')],\n",
              " [(39.83333333333333, 'social media may make things worse rather'),\n",
              "  (24.0, '© 2019 cable news network'),\n",
              "  (24.0, 'minded citizens simply reiterate familiar')],\n",
              " [(25.0, '© 2019 cable news network'),\n",
              "  (21.75, 'discovered around four miles away'),\n",
              "  (21.0, 'cape lookout national seashore park')],\n",
              " [(69.0, 'money ,\" tweeted white house press secretary stephanie grisham'),\n",
              "  (67.33333333333333,\n",
              "   'former white house homeland security adviser tom bossert summed'),\n",
              "  (63.416666666666664,\n",
              "   'former national security council russia expert fiona hill said')],\n",
              " [(28.166666666666668, 'little magical furry unicorn ,\" according'),\n",
              "  (25.0, '© 2019 cable news network'),\n",
              "  (18.5, 'dog rescue nonprofit organization mac')],\n",
              " [(78.26923076923076,\n",
              "   'others made jokes — christian whiton said witnesses bill taylor'),\n",
              "  (46.333333333333336,\n",
              "   'heard white house press secretary stephanie grisham say'),\n",
              "  (34.33333333333333, 'house intelligence committee chair adam schiff')],\n",
              " [(25.0, '© 2019 cable news network'),\n",
              "  (20.5, 'like whether aquaman knows ariel'),\n",
              "  (16.0, 'like daughter river blackstock')],\n",
              " [(29.0, 'may contain outdated cultural depictions .\"'),\n",
              "  (25.0, '© 2019 cable news network'),\n",
              "  (16.0, 'director tim burton chose')],\n",
              " [(32.0, 'french prime minister édouard philippe announced'),\n",
              "  (25.0, '© 2019 cable news network'),\n",
              "  (22.0, 'restoration expert frédéric létoffé said')],\n",
              " [(23.5, '© 2019 cable news network'),\n",
              "  (20.833333333333336, 'host ,\" keys told billboard'),\n",
              "  (18.666666666666668, 'current alicia keys discussing hosting')],\n",
              " [(30.03333333333333, ',\" said committee chairman peter defazio'),\n",
              "  (23.5, '© 2019 cable news network'),\n",
              "  (23.5, 'wall street journal first reported')],\n",
              " [(31.5, 'fall semester around two weeks early'),\n",
              "  (31.177777777777777, 'senior chinese official shen chunyao said'),\n",
              "  (29.833333333333336, 'three tunnels connecting hong kong island')],\n",
              " [(29.5, '53rd annual country music association awards'),\n",
              "  (25.0, '© 2019 cable news network'),\n",
              "  (16.0, 'fellow superstars dolly parton')],\n",
              " [(39.55, 'senior state department official overseeing ukraine policy'),\n",
              "  (30.03333333333333, 'investigate former vice president joe biden'),\n",
              "  (28.266666666666666, 'trump telling top us diplomats working')],\n",
              " [(28.083333333333332, 'hong kong hospital authority spokesperson confirmed'),\n",
              "  (25.0, '© 2019 cable news network'),\n",
              "  (21.666666666666664, 'staunchly support hk judicial bodies')],\n",
              " [(40.0, 'spend 15 minutes every evening watching videos'),\n",
              "  (25.0, '© 2019 cable news network'),\n",
              "  (22.0, 'taint every single activity done')],\n",
              " [(34.0, 'local paper giornale di vicenza :.'),\n",
              "  (32.8, 'mayor luigi brugnaro blamed climate change'),\n",
              "  (29.45, 'democratic party councilor andrea zanoni said')],\n",
              " [(51.833333333333336,\n",
              "   'makes statements supporting voter suppression ,\" espy said'),\n",
              "  (36.00000000000001,\n",
              "   'mississippi democrat whose heated special senate runoff'),\n",
              "  (25.0, '© 2019 cable news network')],\n",
              " [(35.5, 'daily digital show streaming live around'),\n",
              "  (25.5, 'horrific videos show rising tensions'),\n",
              "  (25.0, '© 2019 cable news network')],\n",
              " [(29.675, 'roanoke police chief tim jones said brown'),\n",
              "  (25.0, '© 2019 cable news network'),\n",
              "  (23.925, 'navigationally savvy ,\" jones said')],\n",
              " [(33.0, 'washington university law professor kathleen clark'),\n",
              "  (23.0, '© 2019 cable news network'),\n",
              "  (23.0, 'story originally ran may 3')],\n",
              " [(79.75, 'polar darkness every year ,\" said study author benjamin kear'),\n",
              "  (43.5, 'ancient polar habitats ,\" said martin kundrat'),\n",
              "  (25.0, '© 2019 cable news network')],\n",
              " [(25.0, '© 2019 cable news network'),\n",
              "  (16.0, 'protesters stormed john f'),\n",
              "  (16.0, 'executive order banning entry')],\n",
              " [(40.5, 'told lawmakers behind closed doors last month'),\n",
              "  (28.75, 'ukraine security assistance initiative funding appropriated'),\n",
              "  (24.0, 'congressional watchdog group announced earlier')],\n",
              " [(39.79722222222222, 'old duane morrison takes six female students hostage'),\n",
              "  (34.13055555555555, 'old dylan klebold kill 12 fellow students'),\n",
              "  (32.57142857142857, 'serving three life sentences plus 140 years')],\n",
              " [(32.6, 'house intelligence committee chair adam schiff'),\n",
              "  (27.916666666666664, 'republicans like jim jordan threw angrily'),\n",
              "  (23.75, 'courts also prohibit witness speculation')],\n",
              " [(37.58333333333333, 'former new york mayor michael bloomberg made'),\n",
              "  (29.0, '2016 democratic nominee playfully tweeted back'),\n",
              "  (25.0, '© 2019 cable news network')],\n",
              " [(27.416666666666668, 'win swing states president donald trump'),\n",
              "  (25.0, '© 2019 cable news network'),\n",
              "  (19.666666666666668, 'tim ryan endorsed joe biden')],\n",
              " [(32.0, 'house intelligence committee chairman adam schiff'),\n",
              "  (25.0, '© 2019 cable news network'),\n",
              "  (22.666666666666664, 'behavior toward top ukrainian officials')],\n",
              " [(52.66666666666667, 'unfair (\" 93 days since adam schiff learned'),\n",
              "  (40.94444444444444,\n",
              "   'hearing featuring two relatively unknown senior diplomats'),\n",
              "  (34.52777777777777, 'big ,\" one house republican aide told cnn')],\n",
              " [(25.833333333333332, 'video ,\" santa cruz county sheriff'),\n",
              "  (25.0, '© 2019 cable news network'),\n",
              "  (24.666666666666668, 'newly released surveillance video shows')],\n",
              " [(94.33333333333333,\n",
              "   'former new york city mayor michael bloomberg stepped forward last week'),\n",
              "  (30.291666666666664, 'patrick could seize upon potential advantages'),\n",
              "  (30.0, 'elections process would ultimately splash back')],\n",
              " [(26.333333333333336, 'cigarette smoking among us adults fell'),\n",
              "  (25.0, '© 2019 cable news network'),\n",
              "  (24.0, 'vaping among young adults 18')],\n",
              " [(32.5, 'country music association awards red carpet'),\n",
              "  (25.0, '© 2019 cable news network'),\n",
              "  (17.5, 'school soon ,\" pink said')],\n",
              " [(121.19696969696969,\n",
              "   'intelligence community inspector general michael atkinson notifies house intelligence chairman adam schiff'),\n",
              "  (54.70833333333333, 'could damage former vice president joe biden heading'),\n",
              "  (36.1686507936508, 'president donald trump used us tax dollars')],\n",
              " [(36.0, 'moral compass among elected officials within'),\n",
              "  (33.5, 'complex diplomatic dealings involving military aid'),\n",
              "  (25.0, '© 2019 cable news network')],\n",
              " [(25.0, '© 2019 cable news network'),\n",
              "  (16.0, 'los angeles county sheriff'),\n",
              "  (14.0, 'department said thursday morning')],\n",
              " [(33.0, 'whose ceo jeff bezos also owns'),\n",
              "  (23.0, '© 2019 cable news network'),\n",
              "  (22.0, 'area ,\" said dan hawkins')],\n",
              " [(25.0, '© 2019 cable news network'),\n",
              "  (9.0, 'turner broadcasting system'),\n",
              "  (9.0, 'bandwidth usage ).')],\n",
              " [(25.0, '© 2019 cable news network'),\n",
              "  (9.0, 'turner broadcasting system'),\n",
              "  (9.0, 'bandwidth usage ).')]]"
            ]
          },
          "metadata": {
            "tags": []
          },
          "execution_count": 21
        }
      ]
    },
    {
      "cell_type": "markdown",
      "metadata": {
        "id": "Rev-FI9HIvu9"
      },
      "source": [
        "### Identify and extract the named entities in each document, filtering out the numeric types. Print them and compare the differences between documents."
      ]
    },
    {
      "cell_type": "code",
      "metadata": {
        "id": "TLs9TLMHIvu9"
      },
      "source": [
        "nlp = spacy.load('en_core_web_sm')\r\n",
        "\r\n",
        "spacy_doc = nlp(doc)"
      ],
      "execution_count": 22,
      "outputs": []
    },
    {
      "cell_type": "code",
      "metadata": {
        "colab": {
          "base_uri": "https://localhost:8080/"
        },
        "id": "zuUyvWzuRZz7",
        "outputId": "295008ac-f329-46b5-bff9-c3e38d3f07da"
      },
      "source": [
        "#for entity in spacy_doc.ents:\r\n",
        "#    print(entity.text, '-', entity.label_)\r\n",
        "\r\n",
        "entities = [[entity.text, entity.label_] for entity in spacy_doc.ents]\r\n",
        "entities"
      ],
      "execution_count": 23,
      "outputs": [
        {
          "output_type": "execute_result",
          "data": {
            "text/plain": [
              "[['Des Moines', 'GPE'],\n",
              " ['Iowa', 'GPE'],\n",
              " ['CNN', 'ORG'],\n",
              " ['Alexandria Ocasio-Cortez', 'PERSON'],\n",
              " ['Iowa', 'GPE'],\n",
              " ['Bernie Sanders', 'PERSON'],\n",
              " ['last week', 'DATE'],\n",
              " ['Vermont', 'GPE'],\n",
              " ['Council Bluffs', 'ORG'],\n",
              " ['the last six weeks', 'DATE'],\n",
              " ['Sanders', 'ORG'],\n",
              " ['second', 'ORDINAL'],\n",
              " ['Democratic', 'NORP'],\n",
              " ['Las Vegas', 'GPE'],\n",
              " ['the first night of October', 'TIME'],\n",
              " ['Sanders', 'ORG'],\n",
              " ['New Hampshire', 'GPE'],\n",
              " ['Iowa', 'GPE'],\n",
              " ['New York', 'GPE'],\n",
              " ['Minnesota', 'GPE'],\n",
              " ['a trying summer', 'DATE'],\n",
              " ['march', 'DATE'],\n",
              " ['Sanders', 'ORG'],\n",
              " ['Saturday', 'DATE'],\n",
              " ['Des Moines', 'GPE'],\n",
              " ['three', 'CARDINAL'],\n",
              " ['Drake University', 'ORG'],\n",
              " ['one', 'CARDINAL'],\n",
              " ['Ocasio-Cortez', 'ORG'],\n",
              " ['Ilhan Omar', 'PERSON'],\n",
              " ['Rashida Tlaib', 'PERSON'],\n",
              " ['last month', 'DATE'],\n",
              " ['Ohio', 'GPE'],\n",
              " ['Sanders', 'ORG'],\n",
              " ['months', 'DATE'],\n",
              " ['Democratic', 'NORP'],\n",
              " ['Sanders', 'ORG'],\n",
              " ['About two weeks', 'DATE'],\n",
              " ['CNN', 'ORG'],\n",
              " ['Democrats', 'NORP'],\n",
              " ['New Hampshire', 'GPE'],\n",
              " ['21%', 'PERCENT'],\n",
              " [\"Elizabeth Warren's\", 'PERSON'],\n",
              " ['18%', 'PERCENT'],\n",
              " ['Joe Biden', 'PERSON'],\n",
              " ['15%', 'PERCENT'],\n",
              " ['South Bend', 'GPE'],\n",
              " ['Indiana', 'GPE'],\n",
              " ['Pete Buttigieg', 'PERSON'],\n",
              " ['fourth', 'ORDINAL'],\n",
              " ['10%', 'PERCENT'],\n",
              " ['Democrats', 'NORP'],\n",
              " ['Iowa', 'GPE'],\n",
              " ['Bernie', 'PERSON'],\n",
              " ['nearly a century', 'DATE'],\n",
              " ['the White House', 'ORG'],\n",
              " ['Democratic', 'NORP'],\n",
              " ['February', 'DATE'],\n",
              " ['the better party of', 'ORG'],\n",
              " ['four decades', 'DATE'],\n",
              " ['2016', 'DATE'],\n",
              " ['Hillary Clinton', 'PERSON'],\n",
              " ['Democratic', 'NORP'],\n",
              " ['Sanders', 'NORP'],\n",
              " ['2020', 'CARDINAL'],\n",
              " ['2016', 'DATE'],\n",
              " ['Texas', 'GPE'],\n",
              " [\"Beto O'Rourke\", 'PERSON'],\n",
              " ['Elizabeth Warren', 'PERSON'],\n",
              " ['Democrats', 'NORP'],\n",
              " ['Clinton', 'PERSON'],\n",
              " ['Election Day', 'DATE'],\n",
              " ['nearly three months', 'DATE'],\n",
              " ['Iowa', 'GPE'],\n",
              " [\"O'Rourke\", 'ORG'],\n",
              " ['Warren', 'PERSON'],\n",
              " ['Clinton', 'PERSON'],\n",
              " ['Biden', 'PERSON'],\n",
              " ['South Bend', 'GPE'],\n",
              " ['Indiana', 'GPE'],\n",
              " ['Pete Buttigieg', 'PERSON'],\n",
              " ['Bernie', 'ORG'],\n",
              " ['Sanders', 'ORG'],\n",
              " ['first', 'ORDINAL'],\n",
              " ['Iowa', 'GPE'],\n",
              " ['October', 'DATE'],\n",
              " ['Burlington', 'GPE'],\n",
              " ['Vermont', 'GPE'],\n",
              " ['Sanders', 'ORG'],\n",
              " ['Ohio', 'GPE'],\n",
              " ['New York', 'GPE'],\n",
              " ['Ocasio-Cortez', 'ORG'],\n",
              " ['Sanders', 'ORG'],\n",
              " ['Detroit', 'GPE'],\n",
              " ['Tlaib', 'NORP'],\n",
              " ['Sanders', 'NORP'],\n",
              " ['Donald Trump', 'PERSON'],\n",
              " ['Sanders', 'ORG'],\n",
              " ['Donald Trump', 'PERSON'],\n",
              " ['2016', 'DATE'],\n",
              " ['Faiz Shakir', 'PERSON'],\n",
              " ['CNN', 'ORG'],\n",
              " ['last month', 'DATE'],\n",
              " ['Sanders', 'ORG'],\n",
              " ['Sanders', 'NORP'],\n",
              " ['Washington, DC', 'GPE'],\n",
              " ['Sanders', 'ORG'],\n",
              " ['first', 'ORDINAL'],\n",
              " ['2016', 'DATE'],\n",
              " ['Sanders', 'ORG'],\n",
              " ['CNN', 'ORG'],\n",
              " ['New York City', 'GPE'],\n",
              " ['Michael Bloomberg', 'PERSON'],\n",
              " ['Sanders', 'ORG'],\n",
              " ['Drake University', 'ORG'],\n",
              " ['Sanders', 'ORG'],\n",
              " ['2019', 'DATE'],\n",
              " ['Cable News Network', 'ORG'],\n",
              " ['Turner Broadcasting System,', 'ORG'],\n",
              " ['CNN', 'ORG'],\n",
              " ['CNN', 'ORG']]"
            ]
          },
          "metadata": {
            "tags": []
          },
          "execution_count": 23
        }
      ]
    },
    {
      "cell_type": "markdown",
      "metadata": {
        "id": "UwhH404sIvvB"
      },
      "source": [
        "### For every document in the corpus, iterate over every sentence, extract any SVO triples, print them, and compare."
      ]
    },
    {
      "cell_type": "code",
      "metadata": {
        "id": "03XLMyk1IvvC"
      },
      "source": [
        "import textacy"
      ],
      "execution_count": 25,
      "outputs": []
    },
    {
      "cell_type": "code",
      "metadata": {
        "id": "xA6wSR-4RuCf"
      },
      "source": [
        "\"\"\"\r\n",
        "def get_svo_triplets(sent):    \r\n",
        "    svo = textacy.extract.subject_verb_object_triples(sent)\r\n",
        "    return list(svo)\r\n",
        "\r\n",
        "results = []\r\n",
        "results = [[results.append(get_svo_triplets(sent))] for sent in spacy_doc.sents]\r\n",
        "\"\"\""
      ],
      "execution_count": 62,
      "outputs": []
    },
    {
      "cell_type": "code",
      "metadata": {
        "id": "m6QDYvdWSLuf"
      },
      "source": [
        "results = []\r\n",
        "\r\n",
        "for sent in spacy_doc.sents:\r\n",
        "  svo = textacy.extract.subject_verb_object_triples(sent)\r\n",
        "  results += svo"
      ],
      "execution_count": 66,
      "outputs": []
    },
    {
      "cell_type": "code",
      "metadata": {
        "id": "W9eoSyvISUWM"
      },
      "source": [
        "results = list(set(results))"
      ],
      "execution_count": 67,
      "outputs": []
    },
    {
      "cell_type": "code",
      "metadata": {
        "colab": {
          "base_uri": "https://localhost:8080/"
        },
        "id": "5KoqYoSXTMW1",
        "outputId": "50e5b78f-9ad7-4359-9bcf-b15d2fc193ec"
      },
      "source": [
        "results"
      ],
      "execution_count": 68,
      "outputs": [
        {
          "output_type": "execute_result",
          "data": {
            "text/plain": [
              "[(I, 've got, arteries),\n",
              " (backing, bolstered, argument),\n",
              " (candidate, entered, race),\n",
              " (I, know, that),\n",
              " (he, fair, option),\n",
              " (Iowa caucuses, kick, primary),\n",
              " (campaign, puts, it),\n",
              " (that, jarred, people),\n",
              " (I, 'm going, to tell),\n",
              " (Sanders, began, bid),\n",
              " (we, tell, Trump),\n",
              " (supporters, are saying, much),\n",
              " (surveys, show, group jockeying),\n",
              " (Sanders, invited, reporters),\n",
              " (pugilist, welcomed, news),\n",
              " (that, showed, him),\n",
              " (nobody, would give, damn),\n",
              " (others, began, to migrate),\n",
              " (campaign, attracting, class coalition),\n",
              " (Sanders, remains, front),\n",
              " (he, 's taken, tone),\n",
              " (Sanders, has charted, revival),\n",
              " (he, can grow, it),\n",
              " (Cortez, capped, debut),\n",
              " (we, tell, Trump),\n",
              " (me, say, it),\n",
              " (that, welcomed, him),\n",
              " (we, allow, to happen),\n",
              " (Sanders, injected, some),\n",
              " (appeal wane, to play, foil),\n",
              " (I, want, to say),\n",
              " (CNN poll, showed, Sanders),\n",
              " (that, has vaulted, him),\n",
              " (Mayor Pete Buttigieg, has emerged, foe),\n",
              " (staff, are saying, much),\n",
              " (aide, told, CNN),\n",
              " (Sanders, delivered, punchline),\n",
              " (Sanders, decided, give),\n",
              " (I, thank, you),\n",
              " (Sanders, decided, to stick),\n",
              " (Sanders, welcomed, run),\n",
              " (Sanders, is taking, source),\n",
              " (Sanders, invited, television cameras),\n",
              " (We, don't watch, race),\n",
              " (me, say, it),\n",
              " (Sanders, entered, primary),\n",
              " (Biden, offers, contrast),\n",
              " (person, seems, different),\n",
              " (he, challenged, Clinton),\n",
              " (he, expand, base),\n",
              " (South Bend, has emerged, foe),\n",
              " (I, use, profane word),\n",
              " (pugilist, welcomed, run),\n",
              " (one, touched, digits),\n",
              " (Sanders, welcomed, news),\n",
              " (manager Faiz Shakir, told, CNN)]"
            ]
          },
          "metadata": {
            "tags": []
          },
          "execution_count": 68
        }
      ]
    },
    {
      "cell_type": "code",
      "metadata": {
        "id": "D3W0i3o9T9IJ"
      },
      "source": [
        ""
      ],
      "execution_count": null,
      "outputs": []
    }
  ]
}