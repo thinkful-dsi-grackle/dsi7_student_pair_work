{
  "nbformat": 4,
  "nbformat_minor": 0,
  "metadata": {
    "kernelspec": {
      "display_name": "Python 3",
      "language": "python",
      "name": "python3"
    },
    "language_info": {
      "codemirror_mode": {
        "name": "ipython",
        "version": 3
      },
      "file_extension": ".py",
      "mimetype": "text/x-python",
      "name": "python",
      "nbconvert_exporter": "python",
      "pygments_lexer": "ipython3",
      "version": "3.7.2"
    },
    "colab": {
      "name": "Gee_NLP_D3_Info_Extraction.ipynb",
      "provenance": [],
      "collapsed_sections": []
    }
  },
  "cells": [
    {
      "cell_type": "markdown",
      "metadata": {
        "id": "E0voemCtIvus"
      },
      "source": [
        "# Extracting Information from Text Data Assignment"
      ]
    },
    {
      "cell_type": "code",
      "metadata": {
        "colab": {
          "base_uri": "https://localhost:8080/"
        },
        "id": "JrZejtCjimvw",
        "outputId": "ac027d33-665c-4dc9-dc9f-90d9d736572e"
      },
      "source": [
        "from google.colab import drive\n",
        "drive.mount('/content/drive')"
      ],
      "execution_count": 1,
      "outputs": [
        {
          "output_type": "stream",
          "text": [
            "Mounted at /content/drive\n"
          ],
          "name": "stdout"
        }
      ]
    },
    {
      "cell_type": "code",
      "metadata": {
        "id": "EbB__zIWzob1",
        "colab": {
          "base_uri": "https://localhost:8080/"
        },
        "outputId": "1325e471-953f-44ad-a355-377447de411c"
      },
      "source": [
        "!pip install textacy --quiet\n",
        "!pip install rake_nltk --quiet"
      ],
      "execution_count": 3,
      "outputs": [
        {
          "output_type": "stream",
          "text": [
            "\u001b[K     |████████████████████████████████| 184kB 6.0MB/s \n",
            "\u001b[K     |████████████████████████████████| 1.9MB 23.7MB/s \n",
            "\u001b[K     |████████████████████████████████| 102kB 9.4MB/s \n",
            "\u001b[K     |████████████████████████████████| 481kB 41.8MB/s \n",
            "\u001b[?25h  Building wheel for cytoolz (setup.py) ... \u001b[?25l\u001b[?25hdone\n",
            "  Building wheel for rake-nltk (setup.py) ... \u001b[?25l\u001b[?25hdone\n"
          ],
          "name": "stdout"
        }
      ]
    },
    {
      "cell_type": "code",
      "metadata": {
        "id": "QNIoK-wzIvuv"
      },
      "source": [
        "import spacy\n",
        "import string\n",
        "import textacy\n",
        "import itertools\n",
        "from nltk import pos_tag\n",
        "from rake_nltk import Rake\n",
        "from nltk import sent_tokenize\n",
        "from nltk import word_tokenize\n",
        "from nltk import tree2conlltags\n",
        "from gensim.summarization import keywords\n",
        "from nltk.chunk.regexp import RegexpParser\n",
        "from nltk.corpus.reader.plaintext import PlaintextCorpusReader"
      ],
      "execution_count": 4,
      "outputs": []
    },
    {
      "cell_type": "markdown",
      "metadata": {
        "id": "4M7RrWRKIvuy"
      },
      "source": [
        "### Read the CNN Lite plain text file articles into a corpus using the NLTK's PlaintextCorpusReader."
      ]
    },
    {
      "cell_type": "code",
      "metadata": {
        "id": "gMwqpeAmIvuz"
      },
      "source": [
        "PATH = '/content/drive/MyDrive/python_for_data_scientists/cnn_lite'\r\n",
        "DOC_PATTERN = r'.*\\.txt'\r\n",
        "cnn = PlaintextCorpusReader(PATH , DOC_PATTERN)"
      ],
      "execution_count": 109,
      "outputs": []
    },
    {
      "cell_type": "markdown",
      "metadata": {
        "id": "y6Zp26sVIvu1"
      },
      "source": [
        "### Iterate through the fileids in the corpus, extract the raw text of each document, and store them in a list."
      ]
    },
    {
      "cell_type": "code",
      "metadata": {
        "id": "yl15hykfIvu2"
      },
      "source": [
        "docs = [cnn.raw(fileid) for fileid in cnn.fileids()]"
      ],
      "execution_count": 110,
      "outputs": []
    },
    {
      "cell_type": "code",
      "metadata": {
        "colab": {
          "base_uri": "https://localhost:8080/"
        },
        "id": "zF_Of6Pkjqe4",
        "outputId": "117cd1d7-729d-46d4-8490-0ddd262c769b"
      },
      "source": [
        "len(docs)"
      ],
      "execution_count": 111,
      "outputs": [
        {
          "output_type": "execute_result",
          "data": {
            "text/plain": [
              "57"
            ]
          },
          "metadata": {
            "tags": []
          },
          "execution_count": 111
        }
      ]
    },
    {
      "cell_type": "markdown",
      "metadata": {
        "id": "c5LLM0YPIvu4"
      },
      "source": [
        "### Extract the top 5 keywords from every document in the corpus. Print them and compare the differences in keywords among the documents."
      ]
    },
    {
      "cell_type": "code",
      "metadata": {
        "scrolled": true,
        "id": "wcXEjv6FIvu4"
      },
      "source": [
        "key_words = [keywords(doc, words=5, lemmatize=True).split('\\n') for doc in docs]"
      ],
      "execution_count": 112,
      "outputs": []
    },
    {
      "cell_type": "code",
      "metadata": {
        "colab": {
          "base_uri": "https://localhost:8080/"
        },
        "id": "6obwSWijkhzX",
        "outputId": "c71907da-241a-4d8e-9613-8e110c904da8"
      },
      "source": [
        "key_words[:5]"
      ],
      "execution_count": 113,
      "outputs": [
        {
          "output_type": "execute_result",
          "data": {
            "text/plain": [
              "[['sanders', 'campaign', 'news', 'democrats', 'recent'],\n",
              " ['courts', 'trump', 'states', 'general', 'businesses'],\n",
              " ['politically', 'news', 'people', 'america', 'trump'],\n",
              " ['erdogan', 'said', 'trump', 'meet', 'turkish'],\n",
              " ['laurent', 'said', 'news', 'student', 'age']]"
            ]
          },
          "metadata": {
            "tags": []
          },
          "execution_count": 113
        }
      ]
    },
    {
      "cell_type": "code",
      "metadata": {
        "colab": {
          "base_uri": "https://localhost:8080/"
        },
        "id": "_HEadlwtjmix",
        "outputId": "a01628ce-686f-4404-dab7-45f400667c0a"
      },
      "source": [
        "len(key_words)"
      ],
      "execution_count": 114,
      "outputs": [
        {
          "output_type": "execute_result",
          "data": {
            "text/plain": [
              "57"
            ]
          },
          "metadata": {
            "tags": []
          },
          "execution_count": 114
        }
      ]
    },
    {
      "cell_type": "markdown",
      "metadata": {
        "id": "6w50BcwMIvu6"
      },
      "source": [
        "### Extract the top 3 keyphrases from each document, print them, and compare the differences."
      ]
    },
    {
      "cell_type": "code",
      "metadata": {
        "id": "7M0PDiFwIvu7",
        "colab": {
          "base_uri": "https://localhost:8080/"
        },
        "outputId": "084b100a-5099-4743-ea46-4e94d6cf38a2"
      },
      "source": [
        "r = Rake()\r\n",
        "r.extract_keywords_from_text(docs[0])\r\n",
        "r.get_ranked_phrases_with_scores()[:3]"
      ],
      "execution_count": 115,
      "outputs": [
        {
          "output_type": "execute_result",
          "data": {
            "text/plain": [
              "[(64.35555555555555,\n",
              "  'win ,\" campaign manager faiz shakir told cnn last month'),\n",
              " (52.0, 'billionaire former new york city mayor michael bloomberg'),\n",
              " (33.0, 'former vice president joe biden came')]"
            ]
          },
          "metadata": {
            "tags": []
          },
          "execution_count": 115
        }
      ]
    },
    {
      "cell_type": "code",
      "metadata": {
        "id": "baX7qPGdlcM0"
      },
      "source": [
        "key_phrases = []\r\n",
        "\r\n",
        "for doc in docs:\r\n",
        "  r.extract_keywords_from_text(doc)\r\n",
        "  key_phrases.append(r.get_ranked_phrases()[:3])"
      ],
      "execution_count": 116,
      "outputs": []
    },
    {
      "cell_type": "code",
      "metadata": {
        "id": "_oF1GOtIo4ns"
      },
      "source": [
        "# list comprehension goes here\r\n",
        "#key_phrases_ = []"
      ],
      "execution_count": 117,
      "outputs": []
    },
    {
      "cell_type": "code",
      "metadata": {
        "colab": {
          "base_uri": "https://localhost:8080/"
        },
        "id": "hEsgKS203_P_",
        "outputId": "810db26a-fa16-4dea-9827-4e3b77e37df3"
      },
      "source": [
        "key_phrases[:5]"
      ],
      "execution_count": 118,
      "outputs": [
        {
          "output_type": "execute_result",
          "data": {
            "text/plain": [
              "[['win ,\" campaign manager faiz shakir told cnn last month',\n",
              "  'billionaire former new york city mayor michael bloomberg',\n",
              "  'former vice president joe biden came'],\n",
              " ['attorneys general offices could gather financial information',\n",
              "  'attorney general brian frosh called',\n",
              "  '© 2019 cable news network'],\n",
              " ['america ,\" cnn opinion invited readers',\n",
              "  '© 2019 cable news network',\n",
              "  'seen increasingly vast gaps develop'],\n",
              " ['senior administration official said trump first raised',\n",
              "  'turkish president recep tayyip erdoğan pulled',\n",
              "  '© 2019 cable news network'],\n",
              " ['© 2019 cable news network',\n",
              "  'unusual ,\" said sjoerd hulshof',\n",
              "  'discover new things .\"']]"
            ]
          },
          "metadata": {
            "tags": []
          },
          "execution_count": 118
        }
      ]
    },
    {
      "cell_type": "code",
      "metadata": {
        "colab": {
          "base_uri": "https://localhost:8080/"
        },
        "id": "UcMakspRnNjp",
        "outputId": "3709a8d7-1cb7-4456-c7ce-3ee1e2d56c84"
      },
      "source": [
        "len(key_phrases)"
      ],
      "execution_count": 119,
      "outputs": [
        {
          "output_type": "execute_result",
          "data": {
            "text/plain": [
              "57"
            ]
          },
          "metadata": {
            "tags": []
          },
          "execution_count": 119
        }
      ]
    },
    {
      "cell_type": "markdown",
      "metadata": {
        "id": "Rev-FI9HIvu9"
      },
      "source": [
        "### Identify and extract the named entities in each document, filtering out the numeric types. Print them and compare the differences between documents."
      ]
    },
    {
      "cell_type": "code",
      "metadata": {
        "id": "TLs9TLMHIvu9",
        "colab": {
          "base_uri": "https://localhost:8080/"
        },
        "outputId": "62ae611b-eb6b-474c-a073-a47ca132cb71"
      },
      "source": [
        "spacy.cli.download('en_core_web_sm')"
      ],
      "execution_count": 120,
      "outputs": [
        {
          "output_type": "stream",
          "text": [
            "\u001b[38;5;2m✔ Download and installation successful\u001b[0m\n",
            "You can now load the model via spacy.load('en_core_web_sm')\n"
          ],
          "name": "stdout"
        }
      ]
    },
    {
      "cell_type": "code",
      "metadata": {
        "id": "9Eo0UgM0ou9F"
      },
      "source": [
        "nlp = spacy.load('en_core_web_sm')\r\n",
        "\r\n",
        "spacy_docs = [nlp(doc) for doc in docs] "
      ],
      "execution_count": 121,
      "outputs": []
    },
    {
      "cell_type": "code",
      "metadata": {
        "id": "YTEhI2rwytHF"
      },
      "source": [
        "filter = ['PERSON','NORP','FAC','ORG','GPE','LOC','PRODUCT','EVENT','WORK_OF_ART','LAW','LANGUAGE']"
      ],
      "execution_count": 122,
      "outputs": []
    },
    {
      "cell_type": "code",
      "metadata": {
        "id": "iCykGXECpiqK"
      },
      "source": [
        "entities = [[[entity.text, entity.label_] for entity in spacy_doc.ents if entity.label_ in filter] for spacy_doc in spacy_docs]"
      ],
      "execution_count": 123,
      "outputs": []
    },
    {
      "cell_type": "code",
      "metadata": {
        "colab": {
          "base_uri": "https://localhost:8080/"
        },
        "id": "t7bvTryVz1eZ",
        "outputId": "85602ddf-1127-44fd-a68d-9df0337caaa6"
      },
      "source": [
        "entities[:5]"
      ],
      "execution_count": 124,
      "outputs": [
        {
          "output_type": "execute_result",
          "data": {
            "text/plain": [
              "[[['Des Moines', 'GPE'],\n",
              "  ['Iowa', 'GPE'],\n",
              "  ['CNN', 'ORG'],\n",
              "  ['Alexandria Ocasio-Cortez', 'PERSON'],\n",
              "  ['Iowa', 'GPE'],\n",
              "  ['Bernie Sanders', 'PERSON'],\n",
              "  ['Vermont', 'GPE'],\n",
              "  ['Council Bluffs', 'ORG'],\n",
              "  ['Sanders', 'ORG'],\n",
              "  ['Democratic', 'NORP'],\n",
              "  ['Las Vegas', 'GPE'],\n",
              "  ['Sanders', 'ORG'],\n",
              "  ['New Hampshire', 'GPE'],\n",
              "  ['Iowa', 'GPE'],\n",
              "  ['New York', 'GPE'],\n",
              "  ['Minnesota', 'GPE'],\n",
              "  ['Sanders', 'ORG'],\n",
              "  ['Des Moines', 'GPE'],\n",
              "  ['Drake University', 'ORG'],\n",
              "  ['Ocasio-Cortez', 'ORG'],\n",
              "  ['Ilhan Omar', 'PERSON'],\n",
              "  ['Rashida Tlaib', 'PERSON'],\n",
              "  ['Ohio', 'GPE'],\n",
              "  ['Sanders', 'ORG'],\n",
              "  ['Democratic', 'NORP'],\n",
              "  ['Sanders', 'ORG'],\n",
              "  ['CNN', 'ORG'],\n",
              "  ['Democrats', 'NORP'],\n",
              "  ['New Hampshire', 'GPE'],\n",
              "  [\"Elizabeth Warren's\", 'PERSON'],\n",
              "  ['Joe Biden', 'PERSON'],\n",
              "  ['South Bend', 'GPE'],\n",
              "  ['Indiana', 'GPE'],\n",
              "  ['Pete Buttigieg', 'PERSON'],\n",
              "  ['Democrats', 'NORP'],\n",
              "  ['Iowa', 'GPE'],\n",
              "  ['Bernie', 'PERSON'],\n",
              "  ['the White House', 'ORG'],\n",
              "  ['Democratic', 'NORP'],\n",
              "  ['the better party of', 'ORG'],\n",
              "  ['Hillary Clinton', 'PERSON'],\n",
              "  ['Democratic', 'NORP'],\n",
              "  ['Sanders', 'NORP'],\n",
              "  ['Texas', 'GPE'],\n",
              "  [\"Beto O'Rourke\", 'PERSON'],\n",
              "  ['Elizabeth Warren', 'PERSON'],\n",
              "  ['Democrats', 'NORP'],\n",
              "  ['Clinton', 'PERSON'],\n",
              "  ['Iowa', 'GPE'],\n",
              "  [\"O'Rourke\", 'ORG'],\n",
              "  ['Warren', 'PERSON'],\n",
              "  ['Clinton', 'PERSON'],\n",
              "  ['Biden', 'PERSON'],\n",
              "  ['South Bend', 'GPE'],\n",
              "  ['Indiana', 'GPE'],\n",
              "  ['Pete Buttigieg', 'PERSON'],\n",
              "  ['Bernie', 'ORG'],\n",
              "  ['Sanders', 'ORG'],\n",
              "  ['Iowa', 'GPE'],\n",
              "  ['Burlington', 'GPE'],\n",
              "  ['Vermont', 'GPE'],\n",
              "  ['Sanders', 'ORG'],\n",
              "  ['Ohio', 'GPE'],\n",
              "  ['New York', 'GPE'],\n",
              "  ['Ocasio-Cortez', 'ORG'],\n",
              "  ['Sanders', 'ORG'],\n",
              "  ['Detroit', 'GPE'],\n",
              "  ['Tlaib', 'NORP'],\n",
              "  ['Sanders', 'NORP'],\n",
              "  ['Donald Trump', 'PERSON'],\n",
              "  ['Sanders', 'ORG'],\n",
              "  ['Donald Trump', 'PERSON'],\n",
              "  ['Faiz Shakir', 'PERSON'],\n",
              "  ['CNN', 'ORG'],\n",
              "  ['Sanders', 'ORG'],\n",
              "  ['Sanders', 'NORP'],\n",
              "  ['Washington, DC', 'GPE'],\n",
              "  ['Sanders', 'ORG'],\n",
              "  ['Sanders', 'ORG'],\n",
              "  ['CNN', 'ORG'],\n",
              "  ['New York City', 'GPE'],\n",
              "  ['Michael Bloomberg', 'PERSON'],\n",
              "  ['Sanders', 'ORG'],\n",
              "  ['Drake University', 'ORG'],\n",
              "  ['Sanders', 'ORG'],\n",
              "  ['Cable News Network', 'ORG'],\n",
              "  ['Turner Broadcasting System,', 'ORG'],\n",
              "  ['CNN', 'ORG'],\n",
              "  ['CNN', 'ORG']],\n",
              " [['Washington', 'GPE'],\n",
              "  ['CNN', 'ORG'],\n",
              "  ['Donald Trump', 'PERSON'],\n",
              "  ['the Trump Organization', 'ORG'],\n",
              "  ['the District of Columbia', 'GPE'],\n",
              "  ['Maryland', 'GPE'],\n",
              "  ['the Trump International Hotel', 'FAC'],\n",
              "  ['4th US Circuit Court of Appeals', 'ORG'],\n",
              "  ['Richmond', 'GPE'],\n",
              "  ['Virginia', 'GPE'],\n",
              "  ['The District of Columbia', 'GPE'],\n",
              "  ['Maryland', 'GPE'],\n",
              "  ['the Trump International Hotel', 'FAC'],\n",
              "  ['Washington', 'GPE'],\n",
              "  ['Trump', 'PERSON'],\n",
              "  ['the Trump Organization', 'ORG'],\n",
              "  ['Trump', 'PRODUCT'],\n",
              "  ['Trump', 'PERSON'],\n",
              "  ['Twitter', 'PERSON'],\n",
              "  ['the Deep State', 'LOC'],\n",
              "  ['Democrat', 'NORP'],\n",
              "  ['Witch Hunt', 'PERSON'],\n",
              "  ['Trump', 'LOC'],\n",
              "  ['Circuit', 'ORG'],\n",
              "  ['Karl Racine', 'PERSON'],\n",
              "  ['Maryland', 'GPE'],\n",
              "  ['Brian Frosh', 'PERSON'],\n",
              "  ['Trump', 'PERSON'],\n",
              "  ['Constitution', 'LAW'],\n",
              "  ['Trump', 'PRODUCT'],\n",
              "  ['the Emoluments Clause of the Constitution', 'FAC'],\n",
              "  ['New York', 'GPE'],\n",
              "  ['Washington, DC', 'GPE'],\n",
              "  ['Cable News Network', 'ORG'],\n",
              "  ['Turner Broadcasting System,', 'ORG'],\n",
              "  ['CNN', 'ORG'],\n",
              "  ['CNN', 'ORG']],\n",
              " [['CNN', 'ORG'],\n",
              "  ['Fractured States of America', 'WORK_OF_ART'],\n",
              "  ['CNN Opinion', 'WORK_OF_ART'],\n",
              "  ['Americans', 'NORP'],\n",
              "  ['Teresina Adams', 'PERSON'],\n",
              "  ['Las Vegas', 'GPE'],\n",
              "  ['Kenja Purkey', 'PERSON'],\n",
              "  ['Amarillo', 'GPE'],\n",
              "  ['Texas', 'GPE'],\n",
              "  ['America', 'GPE'],\n",
              "  ['Phil L.', 'PERSON'],\n",
              "  ['Pennsylvania', 'GPE'],\n",
              "  ['post-2016', 'ORG'],\n",
              "  ['Eve', 'PERSON'],\n",
              "  ['Rexford', 'GPE'],\n",
              "  ['New York', 'GPE'],\n",
              "  ['Chinese', 'NORP'],\n",
              "  ['Eve', 'PERSON'],\n",
              "  ['Eve', 'PERSON'],\n",
              "  ['America', 'GPE'],\n",
              "  ['Jason R.', 'PERSON'],\n",
              "  ['Ohio', 'GPE'],\n",
              "  ['America', 'GPE'],\n",
              "  ['Clinton W.', 'PERSON'],\n",
              "  ['Portland', 'GPE'],\n",
              "  ['Oregon', 'GPE'],\n",
              "  ['Rich G.', 'PERSON'],\n",
              "  ['Tampa', 'GPE'],\n",
              "  ['Florida', 'GPE'],\n",
              "  ['Americans', 'NORP'],\n",
              "  ['Rich', 'PERSON'],\n",
              "  ['Christian', 'NORP'],\n",
              "  ['Democrats', 'NORP'],\n",
              "  ['Republicans', 'NORP'],\n",
              "  ['Trump', 'PERSON'],\n",
              "  ['Trump', 'PRODUCT'],\n",
              "  ['Christian', 'NORP'],\n",
              "  ['Trump', 'PERSON'],\n",
              "  ['Bible', 'WORK_OF_ART'],\n",
              "  ['Democrat', 'NORP'],\n",
              "  ['Americans', 'NORP'],\n",
              "  ['Teresina Adams', 'PERSON'],\n",
              "  ['Las Vegas', 'GPE'],\n",
              "  ['Nevada', 'GPE'],\n",
              "  ['Trump', 'PERSON'],\n",
              "  ['Trump', 'PRODUCT'],\n",
              "  ['Democrat', 'NORP'],\n",
              "  ['Hillary', 'PERSON'],\n",
              "  ['Trump', 'PERSON'],\n",
              "  ['America', 'GPE'],\n",
              "  ['Ronda', 'GPE'],\n",
              "  ['Delaware County', 'GPE'],\n",
              "  ['New York', 'GPE'],\n",
              "  ['New Orleans', 'GPE'],\n",
              "  ['Pensacola', 'GPE'],\n",
              "  ['Florida', 'GPE'],\n",
              "  ['Phil Goddard', 'PERSON'],\n",
              "  ['Pensacola', 'GPE'],\n",
              "  ['Florida', 'GPE'],\n",
              "  ['America', 'GPE'],\n",
              "  ['Trump', 'PRODUCT'],\n",
              "  ['Trump', 'PERSON'],\n",
              "  ['Americans', 'NORP'],\n",
              "  ['America', 'GPE'],\n",
              "  ['Susie D.', 'PERSON'],\n",
              "  ['Virginia Beach', 'GPE'],\n",
              "  ['Virginia', 'GPE'],\n",
              "  ['Nazi', 'NORP'],\n",
              "  [\"Veterans' Day\", 'GPE'],\n",
              "  ['America', 'GPE'],\n",
              "  ['New York', 'GPE'],\n",
              "  ['Ellis Island', 'LOC'],\n",
              "  ['America', 'GPE'],\n",
              "  ['Nazi', 'NORP'],\n",
              "  ['America', 'GPE'],\n",
              "  ['US', 'GPE'],\n",
              "  ['Nazism', 'NORP'],\n",
              "  ['Carol', 'GPE'],\n",
              "  ['South Dakota', 'GPE'],\n",
              "  ['America', 'GPE'],\n",
              "  ['Beth A.', 'PERSON'],\n",
              "  ['North Carolina', 'GPE'],\n",
              "  ['Trump', 'PERSON'],\n",
              "  ['Navy', 'ORG'],\n",
              "  ['Trump', 'PERSON'],\n",
              "  ['Democrats', 'NORP'],\n",
              "  ['Democrats', 'NORP'],\n",
              "  ['Trump', 'PERSON'],\n",
              "  ['Brian Barrios', 'PERSON'],\n",
              "  ['Warren', 'GPE'],\n",
              "  ['Ohio', 'GPE'],\n",
              "  ['Democrat', 'NORP'],\n",
              "  ['Republican', 'NORP'],\n",
              "  ['Republican', 'NORP'],\n",
              "  ['America', 'GPE'],\n",
              "  ['Joanne C.', 'PERSON'],\n",
              "  ['Arizona', 'GPE'],\n",
              "  [\"Adam Schiff's\", 'GPE'],\n",
              "  ['L.A.', 'GPE'],\n",
              "  ['Michigan', 'GPE'],\n",
              "  ['California', 'GPE'],\n",
              "  ['Texas', 'GPE'],\n",
              "  ['Michael Peterson', 'PERSON'],\n",
              "  ['Los Angeles', 'GPE'],\n",
              "  ['California', 'GPE'],\n",
              "  ['Democrat', 'NORP'],\n",
              "  ['Hillary Clinton', 'PERSON'],\n",
              "  ['Donald Trump', 'PERSON'],\n",
              "  ['Bernie', 'PERSON'],\n",
              "  ['Obama', 'LOC'],\n",
              "  ['Obamacare', 'PERSON'],\n",
              "  ['Trumper', 'PRODUCT'],\n",
              "  ['Trump', 'PRODUCT'],\n",
              "  ['Trump', 'LOC'],\n",
              "  ['Lynn Root', 'PERSON'],\n",
              "  ['Covington', 'GPE'],\n",
              "  ['Washington', 'GPE'],\n",
              "  ['America', 'GPE'],\n",
              "  ['America', 'GPE'],\n",
              "  ['America', 'GPE'],\n",
              "  ['America', 'GPE'],\n",
              "  ['Clinton', 'PERSON'],\n",
              "  ['America', 'GPE'],\n",
              "  [\"Barack Obama's\", 'PERSON'],\n",
              "  ['the Patriot Act', 'LAW'],\n",
              "  [\"Martin Luther King Jr's\", 'PERSON'],\n",
              "  ['America', 'GPE'],\n",
              "  ['Jason R.', 'PERSON'],\n",
              "  ['Ohio', 'GPE'],\n",
              "  ['Trump', 'PRODUCT'],\n",
              "  ['Texas', 'GPE'],\n",
              "  ['Republican', 'NORP'],\n",
              "  ['Clintons', 'PERSON'],\n",
              "  ['the Tea Party', 'ORG'],\n",
              "  ['the Republican Party', 'ORG'],\n",
              "  ['Confederate', 'ORG'],\n",
              "  ['Trump', 'PRODUCT'],\n",
              "  ['THEY', 'ORG'],\n",
              "  ['Trump', 'PRODUCT'],\n",
              "  ['Trump', 'PRODUCT'],\n",
              "  ['Better Angels', 'ORG'],\n",
              "  ['Kenja Purkey', 'PERSON'],\n",
              "  ['Amarillo', 'GPE'],\n",
              "  ['Texas', 'GPE'],\n",
              "  ['Contract with America', 'WORK_OF_ART'],\n",
              "  ['America', 'GPE'],\n",
              "  ['Kathi Ghannam', 'PERSON'],\n",
              "  ['Virginia', 'GPE'],\n",
              "  ['Trump', 'PRODUCT'],\n",
              "  ['Trump', 'PRODUCT'],\n",
              "  ['Muslims', 'NORP'],\n",
              "  ['Trump', 'PERSON'],\n",
              "  ['Akiko Bergeron', 'GPE'],\n",
              "  ['Clearwater', 'GPE'],\n",
              "  ['Florida', 'GPE'],\n",
              "  ['Michael L.', 'PERSON'],\n",
              "  ['Maine', 'GPE'],\n",
              "  ['Cable News Network', 'ORG'],\n",
              "  ['Turner Broadcasting System,', 'ORG'],\n",
              "  ['CNN', 'ORG'],\n",
              "  ['CNN', 'ORG']],\n",
              " [['Washington', 'GPE'],\n",
              "  ['CNN', 'ORG'],\n",
              "  ['the Oval Office', 'ORG'],\n",
              "  ['Turkish', 'NORP'],\n",
              "  ['Recep Tayyip Erdoğan', 'PERSON'],\n",
              "  ['Republican', 'NORP'],\n",
              "  ['Donald Trump', 'PERSON'],\n",
              "  ['Kurds', 'NORP'],\n",
              "  ['GOP', 'ORG'],\n",
              "  ['Axios', 'ORG'],\n",
              "  ['Lindsey Graham', 'PERSON'],\n",
              "  ['Jim Risch', 'PERSON'],\n",
              "  ['Ted Cruz', 'PERSON'],\n",
              "  ['Joni Ernst', 'PERSON'],\n",
              "  ['Rick Scott', 'PERSON'],\n",
              "  ['Erdogan', 'PERSON'],\n",
              "  ['Russian', 'NORP'],\n",
              "  ['Turkey', 'GPE'],\n",
              "  ['Turkey', 'GPE'],\n",
              "  ['Kurds', 'NORP'],\n",
              "  ['Trump', 'PERSON'],\n",
              "  ['GOP', 'ORG'],\n",
              "  ['Turkey', 'GPE'],\n",
              "  ['US', 'GPE'],\n",
              "  ['Russian', 'NORP'],\n",
              "  ['Trump', 'PERSON'],\n",
              "  ['Turkey', 'GPE'],\n",
              "  ['Erdoğan', 'ORG'],\n",
              "  ['Erdoğan', 'PERSON'],\n",
              "  ['Erdoğan', 'PERSON'],\n",
              "  ['Trump', 'PERSON'],\n",
              "  ['Senate', 'ORG'],\n",
              "  ['Turkey', 'GPE'],\n",
              "  ['Erdoğan', 'PERSON'],\n",
              "  ['Senate', 'ORG'],\n",
              "  [\"Robert O'Brien\", 'PERSON'],\n",
              "  ['Republican', 'NORP'],\n",
              "  ['Senate', 'ORG'],\n",
              "  ['Republican', 'NORP'],\n",
              "  ['Trump', 'PERSON'],\n",
              "  ['Erdoğan', 'ORG'],\n",
              "  ['Turkey', 'GPE'],\n",
              "  ['Republican', 'NORP'],\n",
              "  ['Erdoğan', 'ORG'],\n",
              "  ['Graham', 'PERSON'],\n",
              "  ['Turkey', 'GPE'],\n",
              "  ['Syria', 'GPE'],\n",
              "  ['Erdoğan', 'PERSON'],\n",
              "  ['US', 'GPE'],\n",
              "  ['Kurdish', 'NORP'],\n",
              "  ['Graham', 'PERSON'],\n",
              "  ['Syria', 'GPE'],\n",
              "  ['Scott', 'PERSON'],\n",
              "  ['Turkey', 'GPE'],\n",
              "  ['NATO', 'ORG'],\n",
              "  ['Russia', 'GPE'],\n",
              "  ['Cruz', 'PERSON'],\n",
              "  ['Erdoğan', 'PERSON'],\n",
              "  ['Kurds', 'NORP'],\n",
              "  ['Turkey', 'GPE'],\n",
              "  ['the White House', 'FAC'],\n",
              "  ['Erdoğan', 'PERSON'],\n",
              "  ['Turkish', 'NORP'],\n",
              "  ['Kurds', 'NORP'],\n",
              "  ['Turkish', 'NORP'],\n",
              "  ['US', 'GPE'],\n",
              "  ['Turkey', 'GPE'],\n",
              "  ['Turkey', 'GPE'],\n",
              "  ['Russia', 'GPE'],\n",
              "  ['Trump', 'PERSON'],\n",
              "  ['Trump', 'PRODUCT'],\n",
              "  ['Erdoğan', 'PERSON'],\n",
              "  ['US', 'GPE'],\n",
              "  ['Trump', 'LOC'],\n",
              "  ['Erdoğan', 'ORG'],\n",
              "  ['Trump', 'PRODUCT'],\n",
              "  ['Erdoğan', 'PERSON'],\n",
              "  ['Cable News Network', 'ORG'],\n",
              "  ['Turner Broadcasting System,', 'ORG'],\n",
              "  ['CNN', 'ORG'],\n",
              "  ['CNN', 'ORG']],\n",
              " [['CNN', 'ORG'],\n",
              "  ['Belgium', 'GPE'],\n",
              "  ['the Eindhoven University of Technology', 'ORG'],\n",
              "  ['PhD', 'WORK_OF_ART'],\n",
              "  ['CNN', 'ORG'],\n",
              "  ['Lydia', 'GPE'],\n",
              "  ['Alexander Simons', 'PERSON'],\n",
              "  ['Laurent', 'ORG'],\n",
              "  ['Lydia', 'GPE'],\n",
              "  ['Alexander', 'PERSON'],\n",
              "  ['Lydia', 'GPE'],\n",
              "  ['TUE', 'PRODUCT'],\n",
              "  ['Sjoerd Hulshof', 'PERSON'],\n",
              "  ['TUE', 'PRODUCT'],\n",
              "  ['Electrical Engineering', 'ORG'],\n",
              "  ['Hulshof', 'PERSON'],\n",
              "  ['Laurent', 'PERSON'],\n",
              "  ['CNN', 'ORG'],\n",
              "  ['Laurent', 'ORG'],\n",
              "  ['Laurent', 'ORG'],\n",
              "  ['Alexander', 'PERSON'],\n",
              "  ['Sammy', 'PERSON'],\n",
              "  ['Laurent', 'ORG'],\n",
              "  ['Japan', 'GPE'],\n",
              "  ['Cable News Network', 'ORG'],\n",
              "  ['Turner Broadcasting System,', 'ORG'],\n",
              "  ['CNN', 'ORG'],\n",
              "  ['CNN', 'ORG']]]"
            ]
          },
          "metadata": {
            "tags": []
          },
          "execution_count": 124
        }
      ]
    },
    {
      "cell_type": "code",
      "metadata": {
        "colab": {
          "base_uri": "https://localhost:8080/"
        },
        "id": "hTtL86sr3oQo",
        "outputId": "8d7f3241-1f6d-4780-8ab1-7ce50d42ddea"
      },
      "source": [
        "len(entites)"
      ],
      "execution_count": 125,
      "outputs": [
        {
          "output_type": "execute_result",
          "data": {
            "text/plain": [
              "57"
            ]
          },
          "metadata": {
            "tags": []
          },
          "execution_count": 125
        }
      ]
    },
    {
      "cell_type": "markdown",
      "metadata": {
        "id": "UwhH404sIvvB"
      },
      "source": [
        "### For every document in the corpus, iterate over every sentence, extract any SVO triples, print them, and compare."
      ]
    },
    {
      "cell_type": "code",
      "metadata": {
        "id": "03XLMyk1IvvC"
      },
      "source": [
        "SVO = []\r\n",
        "for spacy_doc in spacy_docs:\r\n",
        "  spacy_doc_sents = spacy_doc.sents \r\n",
        "  results = []\r\n",
        "  for sent in spacy_doc_sents:\r\n",
        "    svo = textacy.extract.subject_verb_object_triples(sent)\r\n",
        "    results += svo\r\n",
        "  SVO.append(results)"
      ],
      "execution_count": 126,
      "outputs": []
    },
    {
      "cell_type": "code",
      "metadata": {
        "id": "Ee_tUCBO3sHH"
      },
      "source": [
        "# list comprehension goes here\r\n",
        "# SVO_ = []"
      ],
      "execution_count": 127,
      "outputs": []
    },
    {
      "cell_type": "code",
      "metadata": {
        "id": "8DpxQw5PwIO0"
      },
      "source": [
        "SVO = [list(set(SVOa)) for SVOa in SVO]"
      ],
      "execution_count": 128,
      "outputs": []
    },
    {
      "cell_type": "code",
      "metadata": {
        "colab": {
          "base_uri": "https://localhost:8080/"
        },
        "id": "uSexJgmRxoz3",
        "outputId": "7724152f-c037-4a06-f43a-7c0e123d7780"
      },
      "source": [
        "SVO[:5]"
      ],
      "execution_count": 129,
      "outputs": [
        {
          "output_type": "execute_result",
          "data": {
            "text/plain": [
              "[[(staff, are saying, much),\n",
              "  (Sanders, entered, primary),\n",
              "  (campaign, attracting, class coalition),\n",
              "  (Sanders, invited, television cameras),\n",
              "  (Sanders, injected, some),\n",
              "  (person, seems, different),\n",
              "  (I, use, profane word),\n",
              "  (supporters, are saying, much),\n",
              "  (pugilist, welcomed, run),\n",
              "  (me, say, it),\n",
              "  (we, allow, to happen),\n",
              "  (surveys, show, group jockeying),\n",
              "  (South Bend, has emerged, foe),\n",
              "  (we, tell, Trump),\n",
              "  (campaign, puts, it),\n",
              "  (I, know, that),\n",
              "  (he, challenged, Clinton),\n",
              "  (Sanders, decided, to stick),\n",
              "  (Sanders, is taking, source),\n",
              "  (that, showed, him),\n",
              "  (candidate, entered, race),\n",
              "  (one, touched, digits),\n",
              "  (Sanders, welcomed, run),\n",
              "  (that, jarred, people),\n",
              "  (pugilist, welcomed, news),\n",
              "  (Sanders, has charted, revival),\n",
              "  (nobody, would give, damn),\n",
              "  (manager Faiz Shakir, told, CNN),\n",
              "  (Sanders, began, bid),\n",
              "  (others, began, to migrate),\n",
              "  (Sanders, invited, reporters),\n",
              "  (Biden, offers, contrast),\n",
              "  (Sanders, remains, front),\n",
              "  (I, thank, you),\n",
              "  (he, fair, option),\n",
              "  (Iowa caucuses, kick, primary),\n",
              "  (I, 've got, arteries),\n",
              "  (I, 'm going, to tell),\n",
              "  (Sanders, delivered, punchline),\n",
              "  (appeal wane, to play, foil),\n",
              "  (he, 's taken, tone),\n",
              "  (Mayor Pete Buttigieg, has emerged, foe),\n",
              "  (we, tell, Trump),\n",
              "  (he, can grow, it),\n",
              "  (he, expand, base),\n",
              "  (me, say, it),\n",
              "  (that, has vaulted, him),\n",
              "  (that, welcomed, him),\n",
              "  (backing, bolstered, argument),\n",
              "  (aide, told, CNN),\n",
              "  (I, want, to say),\n",
              "  (We, don't watch, race),\n",
              "  (Cortez, capped, debut),\n",
              "  (CNN poll, showed, Sanders),\n",
              "  (Sanders, decided, give),\n",
              "  (Sanders, welcomed, news)],\n",
              " [(US Circuit Court, voted, to rehear),\n",
              "  (appeals court, revived, threat),\n",
              "  (District, claimed, hotels),\n",
              "  (District, claimed, businesses),\n",
              "  (Trump, had applauded, victory),\n",
              "  (judge panel, had dismissed, lawsuit),\n",
              "  (offices, could gather, information),\n",
              "  (General Karl Racine, called, significant),\n",
              "  (General Brian Frosh, called, significant),\n",
              "  (I, won, part),\n",
              "  (General Brian Frosh, called, revival),\n",
              "  (win, killed, lawsuit),\n",
              "  (which, could give, opponents),\n",
              "  (General Karl Racine, called, revival),\n",
              "  (which, could give, access),\n",
              "  (District, claimed, Hotel)],\n",
              " [(Americans, are doomed, to fail),\n",
              "  (it, require, radical),\n",
              "  (which, divided, nation),\n",
              "  (he, has done, good),\n",
              "  (I, left, church),\n",
              "  (I, will not tolerate, symbol),\n",
              "  (Nothing, pulled, ties),\n",
              "  (we, want, to be treated),\n",
              "  (I, left, church),\n",
              "  (we, need, to hit),\n",
              "  (you, want, to heal),\n",
              "  (style salute, reflects, hate),\n",
              "  (we, are spending, time),\n",
              "  (You, described, leaving),\n",
              "  (we, 've crossed, threshold),\n",
              "  (it, seems, right),\n",
              "  (they, want, to win),\n",
              "  (I, keep, hearing),\n",
              "  (We, need, to fix),\n",
              "  (you, love, precedence),\n",
              "  (you, love, precedence),\n",
              "  (America, intends, to mend),\n",
              "  (father, served, to stop),\n",
              "  (that, would change, minds),\n",
              "  (girlfriend, continued, to talk),\n",
              "  (they, put, hand),\n",
              "  (I, keep, hearing),\n",
              "  (Voting, cost, me),\n",
              "  (student, was struggling, immigrants),\n",
              "  (It, hurts, heart),\n",
              "  (polarization, has threatened, to tear),\n",
              "  (husband, ended, conversation),\n",
              "  (I, won't be discussing, politics),\n",
              "  (I, began, to see),\n",
              "  (I, decided, not talk),\n",
              "  (who, support, Trump),\n",
              "  (I, recognized, Party),\n",
              "  (I, left, party),\n",
              "  (everyone, has lost, minds),\n",
              "  (leaders, reflect, worst),\n",
              "  (everyone, would tone, hate),\n",
              "  (I, watched, night),\n",
              "  (we, need, take),\n",
              "  (You, described, being alienated),\n",
              "  (those, don't support, views),\n",
              "  (CNN Opinion, invited, readers),\n",
              "  (We, 've ceased, attempts),\n",
              "  (they, need, to connect),\n",
              "  (I, was starting, to hate),\n",
              "  (I, have forged, path),\n",
              "  (I, tried, to work),\n",
              "  (I, have lost, friends),\n",
              "  (nothing, will reintroduce, balance),\n",
              "  (Voting, cost, friends),\n",
              "  (husband, begged, her),\n",
              "  (She, 's driven, to make),\n",
              "  (demographics, define, them),\n",
              "  (They, 'll inherit, America),\n",
              "  (who, see, Trump),\n",
              "  (I, told, her),\n",
              "  (Kenja Purkey, took, perspective),\n",
              "  (that, does not include, those),\n",
              "  (he, has established, politics zone),\n",
              "  (we, don't recognize, party),\n",
              "  (It, hurts, to see),\n",
              "  (I, try, to ask),\n",
              "  (we, have researched, candidates),\n",
              "  (Hundreds, wrote, to offer),\n",
              "  (I, voted, Democrat),\n",
              "  (experience, has introduced, me),\n",
              "  (I, approached, student),\n",
              "  (he, was declared, winner),\n",
              "  (we, need, to stop),\n",
              "  (I, started, to see),\n",
              "  (I, fear, retaliation),\n",
              "  (Anger, gets, one),\n",
              "  (we, try, to find),\n",
              "  (I, started, divide),\n",
              "  (words, colored, view),\n",
              "  (I, was going, to work),\n",
              "  (she, doesn't see, it),\n",
              "  (They, became, people),\n",
              "  (they, risked, lives),\n",
              "  (I, never wanted, to know),\n",
              "  (I, fear, putting),\n",
              "  (who, believed, conspiracies),\n",
              "  (Rich G., offered, approach),\n",
              "  (People, seemed, to eat),\n",
              "  (student, replied, ones),\n",
              "  (that, paid, have),\n",
              "  (media, reflect, views),\n",
              "  (I, have had, battles),\n",
              "  (who, risked, life),\n",
              "  (children, are watching, bloodsport),\n",
              "  (I, have seen, colors),\n",
              "  (we, became, friends),\n",
              "  (we, 've experienced, dynamics),\n",
              "  (they, risked, for),\n",
              "  (We, need, get),\n",
              "  (I, questioned, student),\n",
              "  (we, can start, to rebuild),\n",
              "  (We, 've had, fights),\n",
              "  (I, travel, be),\n",
              "  (She, blames, Obama),\n",
              "  (surge, implied, time),\n",
              "  (that, scared, me),\n",
              "  (mourning, gave, way),\n",
              "  (One, can't make, omelet),\n",
              "  (I, tried, to work),\n",
              "  (we, don't recognize, party),\n",
              "  (we, need, listen),\n",
              "  (we, could afford, house),\n",
              "  (who, follow, Trump),\n",
              "  (I, lost, friendships),\n",
              "  (student, stopped, offering),\n",
              "  (They, don't want, to hear),\n",
              "  (classmate, prompted, student),\n",
              "  (we, try, to find),\n",
              "  (we, need, to stop),\n",
              "  (mother, hates, it),\n",
              "  (husband, begged, to change),\n",
              "  (We, need, to start),\n",
              "  (I, had aligned, myself),\n",
              "  (You, claim, to believe),\n",
              "  (We, seen, other),\n",
              "  (we, started, talking),\n",
              "  (I, hate, liberals),\n",
              "  (call, needs, to take),\n",
              "  (we, hope, to use),\n",
              "  (I, met, her),\n",
              "  (Some, took, issue),\n",
              "  (Americans, to take, approach),\n",
              "  (couple, began, walking),\n",
              "  (Eve, recounted, dinner party),\n",
              "  (I, learned, lesson),\n",
              "  (We, need, to treat),\n",
              "  (CNN Opinion, invited, to share),\n",
              "  (Focusing, will bring, us),\n",
              "  (Americans, can find, ways),\n",
              "  (I, lost, church),\n",
              "  (I, was starting, to hate),\n",
              "  (those, don't support, rights),\n",
              "  (you, name, it),\n",
              "  (we, have researched, candidates),\n",
              "  (some, seeing, him),\n",
              "  (I, was monitoring, students),\n",
              "  (we, are getting, it),\n",
              "  (We, need, to reinvest),\n",
              "  (most, can't be designated, politics zone),\n",
              "  (who, were entering, country),\n",
              "  (we, feel, left),\n",
              "  (Americans, need, to consider),\n",
              "  (student, was struggling, get),\n",
              "  (Partisanship, infantilizes, voters),\n",
              "  (that, have bound, us),\n",
              "  (leaders, reflect, worst)],\n",
              " [(Scott, raised, questions),\n",
              "  (He, wanted, discussion),\n",
              "  (Ted Cruz, attended, candid),\n",
              "  (Turkey, deploys, system),\n",
              "  (President Recep Tayyip Erdoğan, pulled, iPad),\n",
              "  (adviser Robert O'Brien, held, call),\n",
              "  (lawmakers, raise, policy concerns),\n",
              "  (Rick Scott, attended, candid),\n",
              "  (We, saw, it),\n",
              "  (Trump, invited, senators),\n",
              "  (Trump, raised, possibility),\n",
              "  (source, called, video),\n",
              "  (Jim Risch, attended, candid),\n",
              "  (lawmakers, to air, concerns),\n",
              "  (Trump, invited, senators),\n",
              "  (Trump, warned, Erdoğan),\n",
              "  (which, lasted, minutes),\n",
              "  (Erdoğan, understands, leverage),\n",
              "  (group, showed, Erdoğan),\n",
              "  (senators, delivered, criticisms),\n",
              "  (he, pushed, Erdoğan),\n",
              "  (Trump, invited, knowing),\n",
              "  (Senate, isn't going, to give),\n",
              "  (I, described, Turkey),\n",
              "  (it, reverses, course),\n",
              "  (Turkey, continues, deploy),\n",
              "  (Trump, playing, traffic cop),\n",
              "  (Turkey, will face, US sanctions),\n",
              "  (Turkey, continues, to procure),\n",
              "  (Lindsey Graham, attended, candid),\n",
              "  (he, made, clear),\n",
              "  (it, gave, Trump),\n",
              "  (US, will not sell, jets),\n",
              "  (Reporters, invited, to see),\n",
              "  (it, gave, opportunity),\n",
              "  (Erdoğan, understands, strength),\n",
              "  (Joni Ernst, attended, candid),\n",
              "  (front, held, call)],\n",
              " [(students, can arrange, schedule),\n",
              "  (They, noticed, something),\n",
              "  (They, told, us),\n",
              "  (He, plans, to embark),\n",
              "  (he, wants, do),\n",
              "  (father, told, CNN),\n",
              "  (he, enjoys, playing),\n",
              "  (teachers, tried, to work),\n",
              "  (we, help, students),\n",
              "  (Laurent Simons, is studying, course),\n",
              "  (institution, will play, host),\n",
              "  (he, going, to study),\n",
              "  (he, enjoys, playing),\n",
              "  (Laurent, was given, test),\n",
              "  (I, ate, lot),\n",
              "  (Laurent, told, CNN),\n",
              "  (him, enjoy, himself),\n",
              "  (parents, not received, explanation),\n",
              "  (Laurent, to complete, course),\n",
              "  (Laurent Simons, is studying, engineering),\n",
              "  (We, need, to find)]]"
            ]
          },
          "metadata": {
            "tags": []
          },
          "execution_count": 129
        }
      ]
    },
    {
      "cell_type": "code",
      "metadata": {
        "colab": {
          "base_uri": "https://localhost:8080/"
        },
        "id": "Gf2xf1M_3x8H",
        "outputId": "591c7489-9aaf-44c5-f845-cfd09aba27ba"
      },
      "source": [
        "len(SVO)"
      ],
      "execution_count": 130,
      "outputs": [
        {
          "output_type": "execute_result",
          "data": {
            "text/plain": [
              "57"
            ]
          },
          "metadata": {
            "tags": []
          },
          "execution_count": 130
        }
      ]
    }
  ]
}