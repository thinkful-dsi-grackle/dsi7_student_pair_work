{
  "nbformat": 4,
  "nbformat_minor": 0,
  "metadata": {
    "kernelspec": {
      "display_name": "Python 3",
      "language": "python",
      "name": "python3"
    },
    "language_info": {
      "codemirror_mode": {
        "name": "ipython",
        "version": 3
      },
      "file_extension": ".py",
      "mimetype": "text/x-python",
      "name": "python",
      "nbconvert_exporter": "python",
      "pygments_lexer": "ipython3",
      "version": "3.7.2"
    },
    "colab": {
      "name": "Angel_NLP_D3_L1.ipynb",
      "provenance": [],
      "collapsed_sections": []
    }
  },
  "cells": [
    {
      "cell_type": "markdown",
      "metadata": {
        "id": "E0voemCtIvus"
      },
      "source": [
        "# Extracting Information from Text Data Assignment"
      ]
    },
    {
      "cell_type": "code",
      "metadata": {
        "id": "QNIoK-wzIvuv"
      },
      "source": [
        "import spacy\n",
        "import string\n",
        "import textacy\n",
        "import itertools\n",
        "from nltk import pos_tag\n",
        "from rake_nltk import Rake\n",
        "from nltk import sent_tokenize\n",
        "from nltk import word_tokenize\n",
        "from nltk import tree2conlltags\n",
        "from gensim.summarization import keywords\n",
        "from nltk.chunk.regexp import RegexpParser\n",
        "from nltk.corpus.reader.plaintext import PlaintextCorpusReader"
      ],
      "execution_count": 3,
      "outputs": []
    },
    {
      "cell_type": "code",
      "metadata": {
        "id": "EbB__zIWzob1"
      },
      "source": [
        "!pip install textacy --quiet\n",
        "!pip install rake_nltk --quiet"
      ],
      "execution_count": 4,
      "outputs": []
    },
    {
      "cell_type": "code",
      "metadata": {
        "colab": {
          "base_uri": "https://localhost:8080/"
        },
        "id": "AFT9LO1oVovz",
        "outputId": "81418ebe-43b4-461d-8f41-e8bc35ac4080"
      },
      "source": [
        "from google.colab import drive\n",
        "drive.mount('/content/drive')"
      ],
      "execution_count": 5,
      "outputs": [
        {
          "output_type": "stream",
          "text": [
            "Drive already mounted at /content/drive; to attempt to forcibly remount, call drive.mount(\"/content/drive\", force_remount=True).\n"
          ],
          "name": "stdout"
        }
      ]
    },
    {
      "cell_type": "markdown",
      "metadata": {
        "id": "4M7RrWRKIvuy"
      },
      "source": [
        "### Read the CNN Lite plain text file articles into a corpus using the NLTK's PlaintextCorpusReader."
      ]
    },
    {
      "cell_type": "code",
      "metadata": {
        "id": "hrhHivRLVyvp"
      },
      "source": [
        "PATH = '/content/drive/MyDrive/News_Articles/'\r\n",
        "\r\n",
        "DOC_PATTERN = r'.*\\.txt'\r\n",
        "corpus = PlaintextCorpusReader(PATH, DOC_PATTERN)"
      ],
      "execution_count": 6,
      "outputs": []
    },
    {
      "cell_type": "markdown",
      "metadata": {
        "id": "y6Zp26sVIvu1"
      },
      "source": [
        "### Iterate through the fileids in the corpus, extract the raw text of each document, and store them in a list."
      ]
    },
    {
      "cell_type": "code",
      "metadata": {
        "id": "lMHny-o0V-Va"
      },
      "source": [
        "docs = [corpus.raw(fileid) for fileid in corpus.fileids()]"
      ],
      "execution_count": 7,
      "outputs": []
    },
    {
      "cell_type": "markdown",
      "metadata": {
        "id": "c5LLM0YPIvu4"
      },
      "source": [
        "### Extract the top 5 keywords from every document in the corpus. Print them and compare the differences in keywords among the documents."
      ]
    },
    {
      "cell_type": "code",
      "metadata": {
        "scrolled": true,
        "id": "wcXEjv6FIvu4",
        "colab": {
          "base_uri": "https://localhost:8080/"
        },
        "outputId": "48937452-46c3-4296-fcd7-57e0307640c3"
      },
      "source": [
        "from gensim.summarization import keywords\r\n",
        "\r\n",
        "keywords = [keywords(doc, words=5, split=True, scores=True, lemmatize=True) for doc in docs]\r\n",
        "keywords"
      ],
      "execution_count": 8,
      "outputs": [
        {
          "output_type": "execute_result",
          "data": {
            "text/plain": [
              "[[('pink', 0.36103630830551936),\n",
              "  ('carey', 0.23215481937929475),\n",
              "  ('tour', 0.20476977920324893),\n",
              "  ('pretty', 0.17656845417580172),\n",
              "  ('year', 0.1765684541758015)],\n",
              " [('patrick', 0.3836932720517404),\n",
              "  ('primary', 0.24487197026440186),\n",
              "  ('telling', 0.1703411842462005),\n",
              "  ('democrats', 0.1517592786917821),\n",
              "  ('cnn', 0.14403265361714826)],\n",
              " [('narwhal', 0.3133366003525194),\n",
              "  ('tail', 0.28283883626002426),\n",
              "  ('puppy', 0.2316379679310094),\n",
              "  ('unicorn', 0.17906622339930195),\n",
              "  ('dogs', 0.16681170704255696)],\n",
              " [('states', 0.24817654471361467),\n",
              "  ('democratic', 0.2303527895986974),\n",
              "  ('bloomberg', 0.18915630281964302),\n",
              "  ('told', 0.1572750181872013),\n",
              "  ('new', 0.14556798040890168)],\n",
              " [('republican', 0.22113260970811982),\n",
              "  ('taylor', 0.19257575461465587),\n",
              "  ('rep', 0.18799403904568687),\n",
              "  ('presidents', 0.18758001961203277),\n",
              "  ('ukraine', 0.17089777047719126)],\n",
              " [('muslimness', 0.43299695783129016),\n",
              "  ('people', 0.17524395460296813),\n",
              "  ('skin', 0.17327231624954875),\n",
              "  ('white', 0.1371217338289036),\n",
              "  ('religion', 0.12973417100420226)],\n",
              " [('news', 0.29933520054830776),\n",
              "  ('trump', 0.2725937671529416),\n",
              "  ('said', 0.26029822958967724),\n",
              "  ('republican', 0.17915092897547924),\n",
              "  ('media', 0.17852666197965933)],\n",
              " [('said', 0.293782323888301),\n",
              "  ('police', 0.2746417381308561),\n",
              "  ('brown', 0.27360035794708243),\n",
              "  ('jones', 0.25500975889647637),\n",
              "  ('roanoke', 0.21138158850672786)],\n",
              " [('trump', 0.382753696882559),\n",
              "  ('hotels', 0.18467202439098268),\n",
              "  ('office', 0.17923918878895018),\n",
              "  ('profit', 0.16101132604637272),\n",
              "  ('owned', 0.14520480945381484)],\n",
              " [('keys', 0.4775383813630222),\n",
              "  ('grammys', 0.22538253982019385),\n",
              "  ('award', 0.220551953631908),\n",
              "  ('power', 0.19579662322315952),\n",
              "  ('wanna', 0.1957966232231575)],\n",
              " [('americans', 0.20883239189410507),\n",
              "  ('republican', 0.18515640964612048),\n",
              "  ('trump', 0.1832477565024548),\n",
              "  ('ukrainians', 0.16048484303090285),\n",
              "  ('investigate', 0.15333668706197442)],\n",
              " [('student', 0.36340181338184385),\n",
              "  ('said', 0.30229965815091814),\n",
              "  ('told', 0.21415686602972747),\n",
              "  ('pence', 0.19880619091149154),\n",
              "  ('schools', 0.1505465627066948)],\n",
              " [('crows', 0.26355411821409025),\n",
              "  ('disney', 0.1964904348418211),\n",
              "  ('american', 0.18787355344302215),\n",
              "  ('old', 0.18677344531340373),\n",
              "  ('movie', 0.17332547027555043)],\n",
              " [('protester', 0.3651395442983325),\n",
              "  ('police', 0.23957568978404103),\n",
              "  ('chinese', 0.2274791012384974),\n",
              "  ('new', 0.19500939007092458),\n",
              "  ('kong', 0.16285040580884083)]]"
            ]
          },
          "metadata": {
            "tags": []
          },
          "execution_count": 8
        }
      ]
    },
    {
      "cell_type": "markdown",
      "metadata": {
        "id": "6w50BcwMIvu6"
      },
      "source": [
        "### Extract the top 3 keyphrases from each document, print them, and compare the differences."
      ]
    },
    {
      "cell_type": "code",
      "metadata": {
        "id": "7M0PDiFwIvu7"
      },
      "source": [
        "r = Rake()\r\n",
        "\r\n",
        "def rake(x):\r\n",
        "  for doc in x:\r\n",
        "    r.extract_keywords_from_text(doc)\r\n",
        "    print(r.get_ranked_phrases_with_scores()[:3])\r\n",
        "    print('------------------')"
      ],
      "execution_count": 9,
      "outputs": []
    },
    {
      "cell_type": "code",
      "metadata": {
        "colab": {
          "base_uri": "https://localhost:8080/"
        },
        "id": "inzRrmptZ3sL",
        "outputId": "0f760c74-75a2-47b3-8f6a-a0ccd136d4ee"
      },
      "source": [
        "rake(docs)"
      ],
      "execution_count": 10,
      "outputs": [
        {
          "output_type": "stream",
          "text": [
            "[(32.5, 'country music association awards red carpet'), (17.166666666666664, 'school soon ,\" pink said'), (16.5, 'country star chris stapleton')]\n",
            "------------------\n",
            "[(94.03333333333333, 'former new york city mayor michael bloomberg stepped forward last week'), (30.61111111111111, 'patrick could seize upon potential advantages'), (29.0, 'elections process would ultimately splash back')]\n",
            "------------------\n",
            "[(28.166666666666668, 'little magical furry unicorn ,\" according'), (17.666666666666664, 'dog rescue nonprofit organization mac'), (13.666666666666666, 'rescue workers speculate may')]\n",
            "------------------\n",
            "[(40.45, 'current 2020 democrats -- clinton told bbc radio'), (37.666666666666664, 'former new york mayor michael bloomberg made'), (29.0, '2016 democratic nominee playfully tweeted back')]\n",
            "------------------\n",
            "[(69.41666666666667, 'money ,\" tweeted white house press secretary stephanie grisham'), (67.75, 'former white house homeland security adviser tom bossert summed'), (63.416666666666664, 'former national security council russia expert fiona hill said')]\n",
            "------------------\n",
            "[(20.77777777777778, 'support various international policies --'), (16.0, 'protesters stormed john f'), (16.0, 'executive order banning entry')]\n",
            "------------------\n",
            "[(78.26923076923076, 'others made jokes — christian whiton said witnesses bill taylor'), (46.333333333333336, 'heard white house press secretary stephanie grisham say'), (42.65, 'hour ... ed henry shares hearsay laura ingraham')]\n",
            "------------------\n",
            "[(34.266666666666666, 'police saythough franklin county authorities said earlier'), (23.975, 'roanoke police chief tim jones said'), (20.55833333333333, 'capacity weapon ,\" jones said')]\n",
            "------------------\n",
            "[(36.717948717948715, 'trump organization explores selling dc hotelupdated 8'), (30.03333333333333, ',\" said committee chairman peter defazio'), (23.5, 'wall street journal first reported')]\n",
            "------------------\n",
            "[(19.333333333333336, 'host ,\" keys told billboard'), (18.166666666666668, 'current alicia keys discussing hosting'), (16.0, 'regular award receiver helped')]\n",
            "------------------\n",
            "[(32.6, 'house intelligence committee chair adam schiff'), (27.916666666666664, 'republicans like jim jordan threw angrily'), (23.75, 'courts also prohibit witness speculation')]\n",
            "------------------\n",
            "[(60.595238095238095, 'posted threats please notify us asap ,\" murakami wrote'), (51.166666666666664, 'white house sends condolencesvice president mike pence gave'), (34.06666666666666, 'los angeles county sheriff alex villanueva said')]\n",
            "------------------\n",
            "[(19.333333333333336, 'may contain outdated cultural depictions'), (16.0, 'director tim burton chose'), (15.5, 'character named jim crow')]\n",
            "------------------\n",
            "[(31.5, 'fall semester around two weeks early'), (30.955555555555556, 'senior chinese official shen chunyao said'), (29.569444444444443, 'three tunnels connecting hong kong island')]\n",
            "------------------\n"
          ],
          "name": "stdout"
        }
      ]
    },
    {
      "cell_type": "markdown",
      "metadata": {
        "id": "Rev-FI9HIvu9"
      },
      "source": [
        "### Identify and extract the named entities in each document, filtering out the numeric types. Print them and compare the differences between documents."
      ]
    },
    {
      "cell_type": "code",
      "metadata": {
        "id": "aE6yuM3GpiVn"
      },
      "source": [
        "numerics = ['DATE', 'TIME', 'MONEY', 'QUANTITY', 'ORDINAL', 'CARDINAL']\r\n",
        "#if entity.label_ not in numerics:"
      ],
      "execution_count": 11,
      "outputs": []
    },
    {
      "cell_type": "code",
      "metadata": {
        "id": "TLs9TLMHIvu9"
      },
      "source": [
        "nlp = spacy.load(\"en_core_web_sm\")\r\n",
        "\r\n",
        "def extract_ents(x):\r\n",
        "  for doc in x:\r\n",
        "    spacy_doc = nlp(doc)\r\n",
        "    entities = [[entity.text, entity.label_] for entity in spacy_doc.ents if entity.label_ not in numerics]\r\n",
        "    print(entities)\r\n",
        "    print('-------------------------')"
      ],
      "execution_count": 12,
      "outputs": []
    },
    {
      "cell_type": "code",
      "metadata": {
        "colab": {
          "base_uri": "https://localhost:8080/"
        },
        "id": "G2qE-ydZqL3t",
        "outputId": "afca1c28-117c-403f-96e1-2fd9c4184a8b"
      },
      "source": [
        "extract_ents(docs)"
      ],
      "execution_count": 13,
      "outputs": [
        {
          "output_type": "stream",
          "text": [
            "[['Entertainment Tonight', 'WORK_OF_ART'], ['the Country Music Association Awards', 'ORG'], ['Carey Hart', 'PERSON'], ['Willow', 'PERSON'], ['Jameson', 'ORG'], ['Love Me Anyway', 'WORK_OF_ART'], ['Chris Stapleton', 'PERSON'], ['Willow', 'PERSON'], ['Jameson', 'ORG'], ['\"Carey', 'ORG'], ['Hart', 'ORG'], ['Billboard', 'PERSON'], ['Pink', 'ORG'], ['Beautiful Trauma Tour', 'ORG']]\n",
            "-------------------------\n",
            "[['Deval Patrick', 'PERSON'], ['Massachusetts', 'GPE'], ['Deval Patrick', 'PERSON'], ['flux', 'GPE'], ['CNN', 'ORG'], ['Patrick', 'ORG'], ['New Hampshire', 'GPE'], ['Concord', 'GPE'], ['CBS This Morning', 'WORK_OF_ART'], ['Patrick', 'PERSON'], ['Patrick', 'PERSON'], ['Alabama', 'GPE'], ['Arkansas', 'GPE'], ['New Hampshire', 'GPE'], ['Patrick', 'PERSON'], ['Massachusetts', 'GPE'], ['New Hampshire', 'GPE'], ['African American', 'NORP'], ['South Carolina', 'GPE'], ['Democratic', 'NORP'], ['CNN', 'ORG'], ['Patrick', 'PERSON'], [\"the Democratic Party's\", 'ORG'], ['New York City', 'GPE'], ['Michael Bloomberg', 'PERSON'], ['Patrick', 'PERSON'], ['The New York Times', 'ORG'], ['Patrick', 'PERSON'], ['Boston', 'GPE'], ['Barack Obama', 'PERSON'], ['Diane', 'PERSON'], ['Patrick', 'PERSON'], ['WBUR', 'PERSON'], ['Diane', 'PERSON'], ['Thanksgiving', 'EVENT'], ['Patrick', 'PERSON'], ['Bain Capital', 'ORG'], ['Boston', 'GPE'], ['Republican', 'NORP'], ['Mitt Romney', 'PERSON'], ['Massachusetts', 'GPE'], ['US', 'GPE'], ['Utah', 'GPE'], ['Patrick', 'PERSON'], ['Romney', 'ORG'], ['Democratic', 'NORP'], ['Democrats', 'NORP'], ['Patrick', 'PERSON'], ['Bain Capital', 'ORG'], ['CNN', 'ORG'], ['South Carolina', 'GPE'], ['Texas', 'GPE'], ['New Jersey', 'GPE']]\n",
            "-------------------------\n",
            "[['Meet Narwhal', 'PERSON'], ['Missouri', 'GPE'], ['Narwhal', 'PERSON'], ['Narwhal the Little Magical Furry Unicorn', 'WORK_OF_ART'], ['Mac', 'PERSON'], ['Narwhal', 'PERSON'], [\"Mac's Mission\", 'ORG'], ['Narwhal', 'PERSON'], ['Poppa Smurf', 'PERSON'], ['a Daschund Terrier', 'PERSON'], ['Narwhal', 'ORG'], ['Daschund', 'PERSON'], ['Mac', 'PERSON'], ['CNN Narwhal', 'ORG'], ['Missouri', 'GPE'], ['Midwest', 'LOC'], ['Mac', 'PERSON'], ['Narwhal', 'PERSON']]\n",
            "-------------------------\n",
            "[['Democrats', 'NORP'], ['Democratic', 'NORP'], ['White House', 'ORG'], ['Democratic', 'NORP'], ['New York', 'GPE'], ['Michael Bloomberg', 'PERSON'], ['Arkansas', 'GPE'], ['Democratic', 'NORP'], ['Massachusetts', 'GPE'], ['Deval Patrick', 'PERSON'], ['New Hampshire', 'GPE'], ['Hillary Clinton', 'PERSON'], ['Trump', 'PRODUCT'], ['Democrats', 'NORP'], ['Clinton', 'PERSON'], ['BBC Radio', 'ORG'], ['Clinton', 'PERSON'], ['BBC', 'ORG'], ['Chelsea', 'PERSON'], ['Clinton', 'PERSON'], ['another White House', 'ORG'], ['Trump', 'PERSON'], ['Hillary Clinton', 'PERSON'], ['Uber', 'PERSON'], ['Left Elizabeth Warren', 'PERSON'], ['Democratic', 'NORP'], ['CNN', 'ORG'], ['Clinton', 'PERSON'], ['Patrick', 'PERSON'], ['Bloomberg', 'PERSON'], ['Democrats', 'NORP'], ['Iowa', 'GPE'], ['Warren', 'PERSON'], ['Massachusetts', 'GPE'], ['Bernie Sanders', 'PERSON'], ['Vermont', 'GPE'], ['Republicans', 'NORP'], ['Trump', 'PRODUCT'], ['Trump', 'PRODUCT'], ['Democrats', 'NORP'], ['Trump', 'PRODUCT'], ['Monmouth University', 'ORG'], ['South Bend', 'GPE'], ['Indiana', 'GPE'], ['Pete Buttigieg', 'PERSON'], ['22%', 'PERCENT'], ['19%', 'PERCENT'], ['Warren', 'PERSON'], ['18%', 'PERCENT'], ['Sanders', 'ORG'], ['13%', 'PERCENT'], ['the Hawkeye State', 'LOC'], ['Bloomberg', 'ORG'], ['1%', 'PERCENT'], ['New Hampshire', 'GPE'], ['Quinnipiac University', 'ORG'], ['20%', 'PERCENT'], ['Warren', 'PERSON'], ['16%', 'PERCENT'], ['Buttigieg', 'GPE'], ['15%', 'PERCENT'], ['Sanders', 'ORG'], ['14%', 'PERCENT'], ['Patrick', 'PERSON'], ['Bloomberg', 'PERSON'], ['Democrats', 'NORP'], ['Biden', 'LOC'], ['Bloomberg', 'GPE'], ['Patrick', 'PERSON'], ['Bloomberg', 'PERSON'], ['Alabama', 'GPE'], ['Patrick', 'PERSON'], ['Alabama', 'GPE'], ['Howard Wolfson', 'PERSON'], ['CNN', 'ORG'], ['Bloomberg', 'ORG'], ['Wolfson', 'PERSON'], ['Arkansas', 'GPE'], ['Bloomberg', 'GPE'], ['Biden', 'PERSON'], ['Joe Biden', 'PERSON'], ['Joe Biden', 'PERSON'], ['Bloomberg', 'PERSON'], ['New York', 'GPE']]\n",
            "-------------------------\n",
            "[['The House Intelligence Committee', 'ORG'], ['Donald Trump', 'PERSON'], ['Ukraine', 'GPE'], ['Joe Biden', 'PERSON'], ['Adam Schiff', 'ORG'], ['Committee', 'ORG'], ['Adam Schiff', 'PERSON'], ['Trump', 'PERSON'], ['Constitution', 'LAW'], ['American', 'NORP'], ['Trump', 'PRODUCT'], ['Congress', 'ORG'], ['Schiff', 'ORG'], ['Founders', 'PERSON'], ['Schiff', 'PERSON'], ['Americans', 'NORP'], ['Constitution', 'LAW'], ['Schiff', 'ORG'], ['Founders', 'PERSON'], ['Constitution three', 'LAW'], ['Trump', 'PRODUCT'], ['Trump', 'PRODUCT'], ['Schiff', 'PERSON'], ['Schiff', 'ORG'], ['Republicans', 'NORP'], ['Devin Nunes', 'ORG'], ['California', 'GPE'], ['Devin Nunes', 'PERSON'], ['Republican', 'NORP'], ['the Intelligence Committee', 'ORG'], ['Democratic', 'NORP'], ['Ukraine', 'GPE'], ['Trump', 'PERSON'], ['Ukrainian', 'NORP'], ['Mueller', 'PERSON'], ['Nunes', 'PERSON'], ['Trump', 'PRODUCT'], ['Ukrainian', 'NORP'], ['Volodymyr Zelensky', 'PERSON'], ['House', 'ORG'], [\"Bill Taylor's\", 'PERSON'], ['US', 'GPE'], ['Ukraine', 'GPE'], ['Rudy Giuliani', 'PERSON'], ['Ukraine', 'GPE'], ['US', 'GPE'], ['Taylor', 'PERSON'], ['John Bolton', 'PERSON'], ['US', 'GPE'], ['the European Union Gordon Sondland', 'ORG'], ['Ukrainian', 'NORP'], ['US', 'GPE'], ['Ukraine', 'GPE'], ['Burisma Holdings', 'ORG'], ['Ukrainian', 'NORP'], ['Hunter Biden', 'PERSON'], ['Taylor', 'PERSON'], ['Sondland', 'ORG'], ['Taylor', 'PERSON'], ['Zelensky', 'GPE'], ['Trump', 'PERSON'], ['Zelensky', 'GPE'], ['Trump', 'PRODUCT'], ['Taylor', 'PERSON'], ['Trump', 'PERSON'], ['Taylor', 'PERSON'], ['Sondland', 'ORG'], ['Trump', 'PERSON'], ['Ukraine', 'GPE'], ['Trump', 'PRODUCT'], ['Biden', 'LOC'], ['Trump', 'LOC'], ['UkraineWhile', 'ORG'], ['Congress', 'ORG'], ['Trump', 'PERSON'], ['Ukraine', 'GPE'], ['Bidens', 'NORP'], ['Taylor', 'PERSON'], ['George Kent', 'PERSON'], ['State Department', 'ORG'], ['Taylor', 'PERSON'], ['Donbass', 'PERSON'], ['Ukraine', 'GPE'], ['American', 'NORP'], ['Russian', 'NORP'], ['Kent', 'PERSON'], ['Ukraine', 'GPE'], ['America', 'GPE'], ['Ukraine', 'GPE'], ['Russia', 'GPE'], ['Russia', 'GPE'], ['Crimea', 'PERSON'], ['Ukrainian', 'NORP'], ['Taylor', 'PERSON'], ['Kent', 'PERSON'], ['the White House', 'ORG'], ['Ukraine', 'GPE'], [\"the United States'\", 'GPE'], ['Russia', 'GPE'], ['Trump', 'PERSON'], ['Bidens', 'NORP'], ['Ukraine', 'GPE'], ['American', 'NORP'], ['Taylor', 'PERSON'], ['normalOne', 'PERSON'], ['Republicans', 'NORP'], ['Trump', 'PERSON'], ['Zelensky', 'PERSON'], ['White House', 'ORG'], ['Mick Mulvaney', 'PERSON'], ['Republican', 'NORP'], ['the White House', 'FAC'], ['Taylor', 'PERSON'], ['Taylor', 'PERSON'], ['Democratic', 'NORP'], ['Republican', 'NORP'], ['Mulvaney', 'PERSON'], ['Ukraine', 'GPE'], ['Kent', 'PERSON'], ['Taylor', 'PERSON'], ['Nunes', 'PERSON'], ['Ukrainians', 'NORP'], ['Democratic', 'NORP'], [\"Hillary Clinton's\", 'PERSON'], [\"Democratic National Committee's\", 'ORG'], ['Ukraine', 'GPE'], ['US', 'GPE'], ['Kent', 'PERSON'], ['National Security Council', 'ORG'], ['Russia', 'GPE'], ['Fiona Hill', 'PERSON'], ['House', 'ORG'], ['White House', 'ORG'], ['Tom Bossert', 'PERSON'], ['ABC', 'ORG'], ['George Stephanopoulos', 'PERSON'], ['Giuliani', 'PERSON'], ['George', 'PERSON'], ['Devin Nunes', 'ORG'], ['Republicans', 'NORP'], ['YawnThere', 'ORG'], ['Republicans', 'NORP'], ['White House', 'ORG'], ['Stephanie Grisham', 'PERSON'], ['Snoozefest', 'PERSON'], ['Eric Trump', 'PERSON'], ['North Carolina', 'GPE'], ['Mark Meadows', 'PERSON'], ['White House', 'ORG'], ['CNN', 'ORG'], ['Lauren Fox', 'PERSON'], ['Republicans', 'NORP'], ['Jim Jordan', 'PERSON'], ['Republicans', 'NORP'], ['Ohio', 'GPE'], ['Jim Jordan', 'PERSON'], ['the Intelligence Committee', 'ORG'], ['Jordan', 'PERSON'], ['Jordan', 'PERSON'], ['Taylor', 'PERSON'], ['Jordan', 'PERSON'], ['Taylor', 'PERSON'], ['Republicans', 'NORP'], ['Ukraine', 'GPE'], ['Trump', 'PERSON'], ['GOP', 'ORG'], ['Taylor', 'PERSON'], ['Kent', 'PERSON'], ['Trump', 'PERSON'], ['Zelensky', 'GPE'], ['Ukraine', 'GPE'], ['Bidens', 'GPE'], ['Jordan', 'PERSON'], ['Texas', 'GPE'], ['John Ratcliffe', 'PERSON'], ['New York', 'GPE'], ['Elise Stefanik', 'PERSON'], ['Congress', 'ORG'], ['Trump', 'PERSON'], ['Zelensky', 'PERSON'], ['Jordan', 'PERSON'], ['Republicans', 'NORP']]\n",
            "-------------------------\n",
            "[['Muslim', 'NORP'], ['Jolie Courtney', 'PERSON'], ['All-American Muslim Girl', 'WORK_OF_ART'], ['Angeleno', 'PERSON'], ['The Oprah Magazine', 'ORG'], ['Architectural Digest, Town & Country', 'ORG'], ['CNN', 'ORG'], ['CNN', 'ORG'], ['Donald Trump', 'PERSON'], ['US', 'GPE'], ['Muslim', 'NORP'], ['Syria', 'GPE'], ['John F. Kennedy', 'PERSON'], ['New York City', 'GPE'], ['Muslims', 'NORP'], ['American Muslims', 'NORP'], ['Americans', 'NORP'], ['Islam', 'ORG'], ['Muslim', 'NORP'], ['Middle Eastern', 'NORP'], ['Asian', 'NORP'], ['Catholic', 'NORP'], ['Trump', 'PERSON'], ['Americans', 'NORP'], ['All-American Muslim Girl', 'WORK_OF_ART'], ['Islamophobia', 'LOC'], ['Islamophobia', 'LOC'], ['Muslim', 'NORP'], ['Allahu', 'NORP'], ['Muslim', 'NORP'], ['American', 'NORP'], ['Muslims', 'NORP'], ['Americans', 'NORP'], ['Circassian', 'NORP'], ['Muslims', 'NORP'], ['Muslim', 'NORP'], ['Arabic', 'LANGUAGE'], ['Muslim', 'NORP'], ['Muslim', 'NORP'], ['Muslim', 'NORP'], ['Islam', 'ORG'], ['Muslim', 'NORP'], ['Muslim', 'NORP'], ['Episcopalian', 'NORP'], ['Muslim', 'NORP'], ['Muslims', 'NORP'], ['Muslim', 'NORP'], ['Muslim', 'NORP'], ['Muslims', 'NORP'], ['American', 'NORP'], ['Muslim', 'NORP'], ['Muslim', 'NORP'], ['Muslim', 'NORP'], ['Pearl Jam', 'PERSON'], ['Amto', 'PERSON'], ['Muslim', 'NORP']]\n",
            "-------------------------\n",
            "[['Fox', 'ORG'], ['Trump', 'PRODUCT'], ['DemocratsUpdated 2:04 AM ET, Fri', 'WORK_OF_ART'], ['2019New York', 'GPE'], ['Trump', 'PERSON'], ['Fox News', 'ORG'], ['White House', 'ORG'], ['Stephanie Grisham', 'PERSON'], ['Donald Trump Jr.', 'PERSON'], ['Jeff Sessions', 'PERSON'], ['Where\\'s the beef?\"Here\\'s', 'WORK_OF_ART'], ['Fox', 'ORG'], ['Democrats', 'NORP'], ['Republicans', 'NORP'], ['Republican', 'NORP'], ['Democrat', 'NORP'], ['Trump', 'PERSON'], ['CNN', 'ORG'], ['Oliver Darcy', 'PERSON'], ['Trump', 'PERSON'], ['Darcy', 'PERSON'], ['Trump', 'PERSON'], ['Fox News', 'ORG'], ['Tucker', 'PERSON'], ['MEDIA', 'ORG'], ['Tucker Carlson', 'PERSON'], [\"New Year's\", 'EVENT'], ['the Super Bowl', 'EVENT'], ['Carlson', 'ORG'], ['Christian Whiton', 'PERSON'], ['Bill Taylor', 'PERSON'], ['George Kent', 'PERSON'], ['Grisham', 'PERSON'], ['Trump', 'PERSON'], ['Carlson', 'ORG'], [\"Larry O'Connor\", 'PERSON'], ['America', 'GPE'], ['Trish Regan', 'PERSON'], ['the Fox Business Network', 'ORG'], ['Regan', 'PERSON'], ['Fox News', 'ORG'], ['Carlson', 'ORG'], ['Washington', 'GPE'], ['D.C.', 'GPE'], ['THE WORST SHOW ON EARTH', 'WORK_OF_ART'], ['Democrats', 'NORP'], ['Trump', 'PERSON'], ['Democrats', 'NORP'], ['House Intelligence Committee', 'ORG'], ['Adam Schiff', 'PERSON'], ['Hannity', 'ORG'], ['House', 'ORG'], ['Democrats', 'NORP'], ['Democrats', 'NORP'], ['Republicans', 'NORP'], ['Hannity', 'WORK_OF_ART'], ['Hannity', 'ORG'], ['Mark Levin', 'PERSON'], ['boob', 'PERSON'], ['Donald Trump Jr.', 'PERSON'], ['Steve Scalise', 'PERSON'], ['Democrats', 'NORP'], ['Ed Henry', 'PERSON'], ['Laura Ingraham', 'PERSON'], ['Democrats', 'NORP'], ['Ingraham', 'ORG'], ['Fox', 'ORG'], ['Ed Henry', 'PERSON'], ['Capitol Hill', 'ORG'], ['Henry', 'PERSON'], ['Republicans', 'NORP'], ['THEY', 'ORG'], ['Democrats', 'NORP'], ['Henry', 'PERSON'], ['Dem', 'NORP'], ['the Washington Post', 'ORG'], ['Ingraham', 'PERSON'], ['Fox', 'ORG'], ['DEMOCRATS', 'NORP'], ['DEMS\\' IMPEACHMENT COLLAPSE.\"Ingraham', 'WORK_OF_ART'], ['Republican', 'NORP'], ['Chris Stewart', 'PERSON'], ['Taylor', 'PERSON'], ['Gordon Sondland', 'PERSON'], ['Trump', 'PERSON'], ['Fox', 'ORG'], ['GOP', 'ORG'], ['Mark Meadows', 'PERSON'], ['Ingraham', 'ORG'], ['Democrats', 'NORP'], ['Ukraine', 'GPE'], ['America', 'GPE'], ['Fox', 'ORG'], ['the \"IMPEACHMENT STUNT WILL HAUNT', 'ORG'], ['MSNBC', 'ORG'], ['Republican', 'NORP'], ['Trump', 'PRODUCT'], ['Fox', 'PERSON'], ['GOP', 'ORG'], ['Dems', 'NORP'], ['Republicans', 'NORP'], ['Dems', 'NORP'], ['Notes', 'PRODUCT'], ['Fox', 'ORG'], ['Fox News', 'WORK_OF_ART'], [\"Chris Wallace's\", 'PERSON'], ['William Taylor', 'PERSON'], ['The Hill', 'WORK_OF_ART'], ['Lou Dobbs', 'PERSON'], ['Trump', 'PERSON'], ['Joe diGenova', 'PERSON'], ['Victoria Toensing', 'PERSON'], ['Ukraine', 'GPE'], [\"George Soros '\", 'PERSON'], ['the State Department', 'ORG'], ['FBI', 'ORG'], ['Republican', 'NORP'], ['Americans', 'NORP'], ['Susan Glasser', 'PERSON'], ['New Yorker', 'PERSON'], ['Frank Pallotta', 'PERSON'], ['Jimmy Kimmel', 'PERSON'], ['CNN', 'ORG'], ['Darcy', 'PERSON'], ['Oliver Darcy', 'PERSON'], ['pro-Trump', 'PERSON'], ['GOP', 'ORG'], ['Jim Jordan', 'PERSON'], ['Devin Nunes', 'ORG'], ['Taylor', 'PERSON'], ['Kent', 'PERSON'], ['Ukraine', 'GPE'], ['Trump', 'LOC'], ['Democrats', 'NORP'], ['Democrats', 'NORP']]\n",
            "-------------------------\n",
            "[['Roanoke', 'GPE'], ['Virginia', 'GPE'], ['Marine', 'NORP'], ['Roanoke', 'GPE'], ['Virginia', 'GPE'], ['Michael Alexander Brown', 'PERSON'], ['Hardy', 'GPE'], ['Roanoke', 'NORP'], ['Brown', 'PERSON'], ['Roanoke', 'NORP'], ['Tim Jones', 'PERSON'], ['Brown', 'PERSON'], ['Franklin County', 'GPE'], ['Brown', 'PERSON'], ['Lincoln', 'ORG'], ['Town Car', 'PRODUCT'], ['Jones', 'PERSON'], ['Brown', 'PERSON'], ['RV', 'FAC'], ['Roanoke', 'NORP'], ['RV', 'FAC'], ['Brown', 'PERSON'], ['Jones', 'PERSON'], ['Roanoke', 'NORP'], ['Patrick Henry High School on Grandin Road', 'ORG'], ['Brown', 'PERSON'], ['Jones', 'PERSON'], ['Brown', 'PERSON'], ['Jones', 'PERSON'], ['Camp Lejeune', 'FAC'], ['North Carolina', 'GPE'], [\"the Franklin County Sheriff's Office\", 'ORG'], ['Hardy', 'GPE'], ['Rodney Brown', 'PERSON'], [\"Rodney Brown's\", 'PERSON'], [\"Michael Brown's\", 'PERSON'], ['Rodney', 'PERSON'], ['Phillip Young', 'PERSON'], ['Michael Brown', 'PERSON'], ['Jones', 'PERSON'], ['Roanoke', 'NORP'], ['Brown', 'PERSON'], [\"The Franklin County Sheriff's Office\", 'ORG'], ['Brown', 'PERSON'], ['the Roanoke Valley', 'LOC'], ['Jones', 'PERSON'], ['Brown', 'PERSON'], ['Jones', 'PERSON'], ['Brown', 'PERSON'], ['US Marshals Service', 'ORG'], ['Brown', 'PERSON'], ['Jones', 'PERSON'], ['FBI', 'ORG'], ['the Bureau of Alcohol, Tobacco Firearms and Explosives', 'ORG'], ['Brown', 'PERSON'], ['Jones', 'PERSON']]\n",
            "-------------------------\n",
            "[['Trump Organization', 'ORG'], ['The Trump Organization', 'ORG'], ['Washington, DC', 'GPE'], ['Donald Trump', 'PERSON'], ['Eric Trump', 'PERSON'], ['The Trump Organization', 'ORG'], ['the Trump International Hotel', 'ORG'], ['Eric Trump', 'PERSON'], ['Old Post Office', 'ORG'], ['Pennsylvania Avenue', 'FAC'], ['the White House', 'ORG'], ['Capitol', 'ORG'], ['Trump', 'PRODUCT'], ['2017.The', 'NORP'], ['Trump', 'PRODUCT'], ['Constitution', 'LAW'], ['Trump', 'PERSON'], ['Eric Trump', 'PERSON'], ['the District of Columbia', 'GPE'], ['Maryland', 'GPE'], ['Trump', 'PERSON'], ['Washington', 'GPE'], ['The House Transportation Committee', 'ORG'], ['General Services Administration', 'ORG'], ['American', 'NORP'], ['the United States', 'GPE'], ['the Old Post Office Building', 'ORG'], ['Constitution', 'LAW'], ['Committee', 'ORG'], ['Peter DeFazio', 'PERSON'], ['D-Oregon', 'GPE'], ['DeFazio', 'PERSON'], ['Removing the Trump Organization', 'WORK_OF_ART'], ['Trump', 'PERSON'], ['the Old Post Office Building', 'ORG'], ['Trump', 'PERSON'], ['GSA', 'ORG'], ['The Wall Street Journal', 'ORG'], ['the General Services Administration', 'ORG'], ['Constitution', 'LAW'], ['the White House', 'ORG'], ['The Trump Organization', 'ORG']]\n",
            "-------------------------\n",
            "[['Alicia Keys', 'PERSON'], ['the Grammy Awards', 'EVENT'], ['Alicia Keys', 'PERSON'], ['the Grammy Awards', 'EVENT'], ['Annual Grammys', 'EVENT'], ['Queen Latifah', 'PERSON'], ['Keys', 'PERSON'], ['Billboard', 'PERSON'], ['the Staples Center', 'FAC'], ['Los Angeles', 'GPE'], ['Keys', 'PERSON'], ['Keys', 'PERSON'], ['Alicia Keys', 'PERSON'], ['Alicia Keys', 'PERSON'], ['Alicia', 'PERSON'], [\"c'mon\", 'PERSON'], ['Keys', 'PERSON']]\n",
            "-------------------------\n",
            "[['Trump Ukraine', 'PERSON'], ['WatergateUpdated', 'ORG'], ['Paul Callan', 'PERSON'], ['CNN', 'ORG'], ['New York', 'GPE'], ['New York', 'GPE'], ['Edelman & Edelman PC', 'ORG'], ['Twitter @paulcallan', 'ORG'], ['Harvard Law', 'PERSON'], ['House Intelligence Committee', 'ORG'], ['Adam Schiff', 'PERSON'], ['Donald Trump', 'PERSON'], ['Republicans', 'NORP'], ['Trump', 'PERSON'], ['Constitution', 'LAW'], ['the Revolutionary War', 'ORG'], ['Ukraine', 'GPE'], ['Republican', 'NORP'], ['Senate', 'ORG'], ['Republicans', 'NORP'], ['Trump', 'PERSON'], ['Democrat', 'NORP'], ['Schiff', 'PERSON'], ['American', 'NORP'], ['Ukraine', 'GPE'], ['Joe Biden', 'PERSON'], ['US', 'GPE'], ['Ukraine', 'GPE'], ['Bill Taylor', 'PERSON'], ['State', 'ORG'], ['European', 'NORP'], ['Eurasian', 'NORP'], ['George Kent', 'PERSON'], ['Kent', 'PERSON'], ['Taylor', 'PERSON'], ['Taylor', 'PERSON'], ['Ukraine', 'GPE'], ['Trump', 'PRODUCT'], ['Rudy Giuliani', 'PERSON'], ['Giuliani', 'NORP'], ['Trump', 'PRODUCT'], ['Deep State', 'WORK_OF_ART'], ['Trump', 'PERSON'], ['Ukrainian', 'NORP'], ['Volodymyr Zelensky', 'PERSON'], ['Trump', 'PRODUCT'], ['CNN', 'ORG'], ['Taylor', 'PERSON'], ['Ukraine', 'GPE'], ['Donbass', 'GPE'], ['Ukrainians', 'NORP'], ['Russia', 'GPE'], ['Ukrainian', 'NORP'], ['American', 'NORP'], ['Ukraine', 'GPE'], ['Russia', 'GPE'], ['Ukrainians', 'NORP'], ['American', 'NORP'], ['Trump', 'PRODUCT'], ['Biden', 'WORK_OF_ART'], ['Richard Nixon', 'PERSON'], ['Watergate', 'EVENT'], ['Nixon', 'PERSON'], ['House', 'ORG'], ['American', 'NORP'], ['Trump', 'PERSON'], ['Ukraine', 'GPE'], ['American', 'NORP'], ['Ukrainian', 'NORP'], ['Russian', 'NORP'], ['Democrats', 'NORP'], ['Republicans', 'NORP'], ['Ukrainian', 'NORP'], ['Ukrainian', 'GPE'], ['American', 'NORP'], ['Trump', 'PRODUCT'], ['Steele Dossier', 'PERSON'], ['Paul Manafort', 'PERSON'], ['Republican', 'NORP'], ['Americans', 'NORP'], ['Mueller/Russia', 'ORG'], ['Trump', 'PERSON'], ['Hunter Biden', 'PERSON'], ['Ukraine', 'GPE'], ['Burisma', 'PRODUCT'], ['Ukraine', 'GPE'], ['Ukraine', 'GPE'], ['Burisma', 'NORP'], ['Hunter', 'PERSON'], ['Joe', 'PERSON'], ['Republican', 'NORP'], ['Russian', 'NORP'], ['American', 'NORP'], ['Ukrainian', 'NORP'], ['Biden', 'NORP'], ['Taylor', 'PERSON'], ['Kent', 'PERSON'], ['Republicans', 'NORP'], ['Jim Jordan', 'PERSON'], ['American', 'NORP'], ['Congress', 'ORG'], ['Jordan', 'PERSON'], ['Taylor', 'PERSON'], ['Kent', 'PERSON'], ['Trump', 'PERSON'], ['Apprentice', 'PERSON'], ['Trump', 'PRODUCT'], ['Taylor', 'PERSON'], ['Tim Morrison', 'PERSON'], ['National Security Council', 'ORG'], ['US', 'GPE'], ['the European Union Gordon Sondland', 'ORG'], ['Trump', 'PERSON'], ['Zelensky', 'PERSON'], ['Biden', 'WORK_OF_ART'], ['Jordan', 'PERSON'], ['Republican', 'NORP'], ['the \"Federal Rules of Evidence', 'EVENT'], ['Republicans', 'NORP'], ['American', 'NORP'], ['Republicans', 'NORP'], ['Trump', 'PERSON'], ['Jordan', 'PERSON'], ['Sondland', 'NORP']]\n",
            "-------------------------\n",
            "[['2019Los Angeles', 'GPE'], ['CNN', 'ORG'], ['Southern California', 'LOC'], ['Saugus High School', 'ORG'], ['Santa Clarita', 'GPE'], ['Los Angeles County Sheriff', 'GPE'], ['Alex Villanueva', 'PERSON'], ['Anderson Cooper', 'WORK_OF_ART'], ['Nathaniel Berhow', 'PERSON'], ['Saugus', 'PERSON'], ['Columbine', 'GPE'], ['Parkland', 'GPE'], ['Sandy Hook', 'PERSON'], ['Kent Wegener', 'PERSON'], [\"the Los Angeles County Sheriff's Department\", 'ORG'], ['CNN', 'ORG'], ['Central Park', 'LOC'], ['Hannah de Caussin', 'PERSON'], ['Saugus', 'PERSON'], ['CNN', 'ORG'], ['bang', 'GPE'], ['bang', 'GPE'], ['bang', 'GPE'], ['Brooklyn Moreno', 'PERSON'], ['CNN', 'ORG'], ['KCBS', 'ORG'], ['Brooklyn', 'GPE'], ['Saugus High', 'GPE'], ['KCBS', 'ORG'], ['Central Park', 'LOC'], ['White House', 'ORG'], ['Mike Pence', 'PERSON'], ['NASA', 'ORG'], ['Northern California', 'LOC'], ['Pence', 'PERSON'], ['Pence', 'PERSON'], ['Donald Trump', 'PERSON'], ['Pence', 'PERSON'], ['Undersheriff Tim Murakami', 'PERSON'], ['Twitter', 'PERSON'], ['Murakami', 'PERSON'], [\"Santa Clarita's\", 'GPE'], ['William S. Hart', 'PERSON'], ['Saugus High School', 'ORG'], ['Los Angeles', 'GPE'], ['Instagram', 'NORP'], ['Facebook', 'ORG'], ['Instagram', 'NORP']]\n",
            "-------------------------\n",
            "[[\"depictions'Updated 3:11 PM ET\", 'PERSON'], ['Dumbo', 'PERSON'], ['Jim Crow', 'PERSON'], ['Caucasian', 'NORP'], ['African-American', 'NORP'], ['Tim Burton', 'PERSON'], ['Dumbo', 'PERSON'], ['Warner Bros.', 'ORG'], ['Tom', 'PERSON'], ['Jerry', 'PERSON'], ['American', 'NORP'], ['WarnerMedia', 'ORG'], ['Warner Bros.', 'ORG'], ['CNN', 'ORG']]\n",
            "-------------------------\n",
            "[['Hong Kong', 'GPE'], ['2019Hong Kong', 'GPE'], ['CNN', 'ORG'], ['Hong Kong', 'GPE'], ['Chinese', 'NORP'], ['the Hong Kong Polytechnic University', 'ORG'], ['Kowloon', 'GPE'], ['Hong Kong Island', 'GPE'], ['the University of Hong Kong', 'ORG'], ['the Chinese University of Hong Kong', 'ORG'], ['CUHK', 'ORG'], ['the New Territories', 'GPE'], ['CUHK', 'ORG'], ['Hong Kong', 'GPE'], ['CUHK', 'ORG'], ['China', 'GPE'], ['Central district', 'LOC'], ['Tai Koo', 'PERSON'], ['Hong Kong Island', 'GPE'], ['Kowloon', 'GPE'], ['Cross-Harbour Tunnel', 'ORG'], ['MTR', 'ORG'], [\"Hong Kong's\", 'GPE'], ['Hospital Authority', 'ORG'], [\"Hong Kong's\", 'GPE'], ['Hospital Authority', 'ORG'], ['Chinese', 'NORP'], ['China', 'GPE'], ['Hong Kong', 'GPE'], ['CCTV', 'ORG'], ['Global Times', 'ORG'], [\"the People's Armed Police\", 'ORG'], [\"the People's Liberation Army\", 'ORG'], [\"Hong Kong's\", 'GPE'], ['Beijing', 'GPE'], ['Chinese', 'NORP'], ['Beijing', 'GPE'], ['Adam Ni', 'PERSON'], ['China', 'GPE'], ['Macquarie University', 'ORG'], ['Sydney', 'GPE'], ['CNN', 'ORG'], ['Chinese', 'NORP'], ['Hong Kong', 'GPE'], ['Chinese Communist Party', 'ORG'], ['Chinese', 'NORP'], ['Shen Chunyao', 'PERSON'], ['Beijing', 'GPE'], ['Hong Kong', 'GPE'], ['Macao', 'GPE'], ['Hong Kong', 'GPE'], ['Chinese', 'NORP'], ['Chinese', 'NORP'], ['Xinhua', 'ORG'], ['Chinese', 'NORP'], ['Hong Kong', 'GPE'], ['Macao', 'GPE']]\n",
            "-------------------------\n"
          ],
          "name": "stdout"
        }
      ]
    },
    {
      "cell_type": "markdown",
      "metadata": {
        "id": "UwhH404sIvvB"
      },
      "source": [
        "### For every document in the corpus, iterate over every sentence, extract any SVO triples, print them, and compare."
      ]
    },
    {
      "cell_type": "code",
      "metadata": {
        "id": "03XLMyk1IvvC"
      },
      "source": [
        "def extract_svo(x):\r\n",
        "  for doc in x:\r\n",
        "    spacy_doc = nlp(doc)\r\n",
        "    results = []\r\n",
        "    for sent in spacy_doc.sents:\r\n",
        "      svo = textacy.extract.subject_verb_object_triples(sent)\r\n",
        "      results += svo\r\n",
        "    results = list(set(results))\r\n",
        "    print(results)\r\n",
        "    print('------------------------')"
      ],
      "execution_count": 14,
      "outputs": []
    },
    {
      "cell_type": "code",
      "metadata": {
        "colab": {
          "base_uri": "https://localhost:8080/"
        },
        "id": "0QXOo9z4io1L",
        "outputId": "8dd7c91d-4672-4437-d9d7-5afc5768d7c2"
      },
      "source": [
        "extract_svo(docs)"
      ],
      "execution_count": 15,
      "outputs": [
        {
          "output_type": "stream",
          "text": [
            "[(she, will celebrate, years), (Pink, taking, break), (star, praised, husband), (he, follows, me), (she, will be taking, step), (Jameson, 's going, to start)]\n",
            "------------------------\n",
            "[(he, ruled, bid), (Patrick, told, friends), (Massachusetts Gov. Deval Patrick, told, friends), (Patrick, entered, sector), (Patrick, has missed, deadline), (I, 've never taken, job), (Patrick, told, WBUR), (he, seeks, nomination), (frontrunner Democrats, have cast, interests), (He, cited, it), (he, wanted, to put), (source, tells, CNN), (Patrick, has missed, to appear), (Deval Patrick, tells, allies), (Massachusetts Gov. Deval Patrick, told, allies), (he, could make, minute entry), (that, became, liability), (he, was going, to jump), (he, would be entering, race), (he, has made, decision), (I, 've left, conscience), (Patrick, had built, team), (Patrick, defended, work), (he, planned, bid)]\n",
            "------------------------\n",
            "[(which, took, him), (who, has been named, Smurf), (they, want, to monitor), (organization, received, adoption applications), (spokesperson, told, CNN.Narwhal), (face tail, does not bother, Narwhal), (he, got, meds), (that, hasn't stopped, fans), (what, appears, be), (Vets, took, ray scans), (it, doesn't cause, him), (tail, catapulted, him), (it, doesn't cause, pain), (they, are seeing, dogs), (He, seems, healthy), (He, seems, other), (that, resembles, tusk), (spokesperson, told, CNN)]\n",
            "------------------------\n",
            "[(they, miss, chance), (you, want, to know), (Patrick, missed, deadlines), (He, 's running, campaign), (Crooked Hillary Clinton, should run, steal), (I, tell, you), (he, decide, to run), (Clinton, told, Radio), (party, has not settled, debate), (which, has prompted, much), (Massachusetts Gov. Deval Patrick, weighed, entry), (University poll, showed, Bend), (admirers, have tried, to coax), (Patrick, join, field), (Bloomberg, plans, to skip), (I, 've known, him), (she, left, door ajar), (both, have excited, generation), (Clinton, told, BBC radio), (Bloomberg, join, field), (heavyweights, have dangled, possibility), (I, 've got, daughters), (she, ruled, run), (public, can make, decision), (you, 've got, to talk), (I, would fix, it), (Biden, held, lead), (I, 'm running, mine), (who, could face, disadvantage), (none, could claim, runner status), (filing deadlines, appear, to have forced), (I, 've got, do), (Bloomberg, told, reporters), (I, 'd like, do), (Mayor Michael Bloomberg, made, run), (I, 've got, grandkids), (University poll, showed, Indiana), (we, 're going, do), (team, filed, paperwork), (Bloomberg, told, gaggle), (he, entered, race)]\n",
            "------------------------\n",
            "[(that, debunked, theory), (Republicans, had put, signs), (Rep. Devin Nunes, sought, to go), (country, announced, investigation), (Trump, cares, more), (adviser Tom Bossert, summed, it), (he, hears, it), (\"He, derided, sham), (He, called, hearings), (US official, delivered, opening statement), (that, balances, powers), (Russia expert Fiona Hill, said, same), (they, added, him), (allies, abused, office), (I, monitored, stakes), (Ukraine, played, role), (He, described, door testimony), (he, began, speaking), (we, become, monarchy), (Ukraine, making, statement), (I, 've seen, prayer chains), (Taylor, laid, timeline), (Jim Jordan, showcases, interviewing), (Congress, had begun, to ask), (\"He, dismissed, investigation), (he, mentioned, Founders), (Sondland, called, Trump), (It, seems, unlikely), (whistleblower, was known, have), (President, brought, conspiracy theory), (Jordan, asked, Taylor), (Devin Nunes, turns, it), (I, thought, to try), (Russia, annexed, Crimea), (appeal, will sway, people), (He, called, finale), (Taylor aide, asked, Sondland), (it, tends, have), (Taylor, recounted, episode), (President Donald Trump, abused, office), (answer, will affect, future), (\"Partisans, will take, side), (Rep. Mark Meadows, told, Fox), (Kent, sought, to emphasize), (#Snoozefest, tweeted, Trump), (I, doubt, it), (President, defend, Constitution), (House Intelligence Committee, opened, impeachment hearings), (Nunes, detailed, conspiracy theory), (Nunes, pushed, Ukraine conspiracy), (that, affirms, view)]\n",
            "------------------------\n",
            "[(I, eat, bacon), (thousands, stormed, Kennedy airport), (I, support, policies), (that, had built, life), (I, dread, reaction), (I, adore, religion), (I, opened, word document), (I, stopped, hiding), (who, is exploring, religion), (friend, told, me), (Years, has produced, tension), (I, 've enjoyed, bottle), (I, 've formed, bonds), (who, had grown, believing), (I, don't get told, go), (I, choose, to eat), (they, 're trying, to figure), (people, would judge, us), (I, became, Muslim), (I, began, writing), (I, attend, mosque), (thousands, stormed, airports), (lifestyle, disqualified, me), (that, includes, Muslims), (I, attend, mother), (novel, debunks, myths), (I, started, identifying), (Trump, instituted, Americans), (right?\"Before, writing, book), (they, can trust, me), (mom, didn't feel, having), (People, will treat, you), (I, choose, not to wear), (I, don't wear, hijab), (who, wants, to be accepted), (I, know, lyrics), (Trump, instituted, travel ban), (President Donald Trump, issued, order), (I, hadn't done, anything)]\n",
            "------------------------\n",
            "[(Taylor, shed, light), (it, did not prove, point), (Carlson, wrapped, hour), (who, are resisting, policies), (inquiry, needs, to stop), (Dobbs segment, is sparking, outrage), (President Trump, was hearing, one), (GOP lawmaker, told, Ingraham), (beg Americans, to turn, TV), (lawmakers, scrambling, hosts), (who, told, him), (Trish Regan, ran, segment), (Carlson, seemed, reluctant), (others, made, jokes), (I, decided, to mute), (Laura Ingraham, criticized, Democrats), (websites, hyped, clips), (I, would sum, everything), (websites, hyped, eviscerating), (Kent, shed, light), (he, accused, witnesses), (banner, said, RPT), (he, got, thanks), (defenders, dismissed, hearings), (banners, summed, p.m. hour), (process, will hurt, Dems), (you, didn't see, case), (defense team, pushed, conspiracy theory), (Which, brings, me), (Ingraham, welcomed, correspondent), (time stars, are telling, Trump), (I, decided, to write), (I, wanted, to know), (Dem aide, told, Post), (you, were watching, hearing), (Mark Levin, called, Schiff), (banner, said, DEMS), (graphic, alleged, MELTDOWN), (Mark Levin, called, boob), (websites, hyped, destroying), (that, generated, focus), (he, had been working, phones), (billionaire George Soros, controls, part), (Carlson, mocked, news outlets), (president, loved, watching), (NEW EVIDENCE, TIES, TRUMP)]\n",
            "------------------------\n",
            "[(Be, should use, caution), (who, sees, him), (Jones, described, Brown), (what, brought, him), (He, is considered, dangerous), (We, are receiving, intelligence), (Brown, was driving, Car), (caller, told, investigators), (they, found, Brown), (family, bring, him), (Brown, was believed, be), (he, needs, to contact), (Brown, is believed, to be operating), (he, can turn, himself), (US Marshals Service, is offering, reward), (I, 'd like, him), (Brown, was believed, to be driving), (we, can make, arrangements), (Authorities, received, call), (girlfriend, called, police), (He, switched, vehicles), (who, knows, to navigate), (be, should use, caution), (police, to shut, schools), (I, 'd like, to know), (family, bring, Roanoke?Brown), (police, wanted, anyone)]\n",
            "------------------------\n",
            "[(company, has hired, to assist), (we, opened, doors), (President, is violating, Emoluments Clauses), (Trump property, has harmed, Washington hotels), (Donald Trump, is profiting, role), (Trump Organization, won, contract), (Trump Organization, is considering, selling), (lawsuits, have been filed, accusing), (that, benefits, Trump family), (statement, did not list, profit figures), (President Trump, isn't making, profit), (Trump property, has harmed, businesses), (agency, ignored, Constitution), (House Transportation Committee, issued, subpoena), (Street Journal, reported, sale), (I, will be following, marketing attempt), (court, revived, lawsuit), (we, have received, interest), (Trump, took, office), (company, has hired, JLL), (he, transferred, assets)]\n",
            "------------------------\n",
            "[(show, will take, take), (it, confirmed, power), (Alicia Keys, is hosting, Awards), (ya, gon, na top), (Keys, told, Billboard), (return, puts, her), (it, feels, be), (I, felt, it), (I, 'm going, to bring), (I, feel, love), (she, became, female)]\n",
            "------------------------\n",
            "[(prosecutor, executed, part), (case, began, to fade), (rules, permitted, to pontificate), (actions, may violate, requirement), (He, brushed, assortment), (rules, permitted, Republicans), (diplomats Taylor, started, confused), (allies, defending, homeland), (Taylor, explained, backdoor channel), (it, helps, case), (Ukraine allegations, fail, to resonate), (Schiff, accomplished, task), (Richard Nixon, throwing, dollars), (Trump, can beat, Biden), (which, haunted, half), (Republicans, favor, enforcement), (fathers, fought, War), (Prosecutors, like, finish), (Prosecutors, like, to start), (Schiff, proceeded, to swear), (questions, require, evidence), (Kent, started, confused), (courtroom, would overrule, questions), (They, posed, questions), (questions, were designed, to remind), (It, causing, death), (All, can beat, Biden), (Mr. Schiff, followed, rule), (President, abused, power), (diplomats Taylor, started, to look flustered), (they, knew, nothing), (Kent, started, to look flustered), (he, was beginning, investigations), (delay, meant, death), (Courts, prohibit, witness speculation), (Harvard Law grad, executed, part), (abuse charge, provides, impeachment theory), (delay, could telegraph, lack), (Steele Dossier, raised, head), (none, wanted, president), (Republicans, muddied, water)]\n",
            "------------------------\n",
            "[(Pence, called, it), (suspect, may have posted, threats), (we, 're going, figure), (student, told, CNN), (that, affects, us), (President, has directed, enforcement agencies), (she, heard, shot), (I, wanted, to make), (parents, should meet, them), (groups, walked, file), (we, end, evil), (students, fled, building), (gunman, shot, himself), (others, took, cover), (Students, are trained, to take), (granddaughter, threw, arms), (others, fled, building), (I, hate, have), (parents, were told, to meet), (teen, pulled, pistol), (President Donald Trump, will work, to end), (He, used, bullet), (It, scared, us), (Pence, called, day), (student, told, KCBS), (student, told, CNN), (Emergency workers, took, people), (I, got, them), (President Mike Pence, gave, to), (student, told, KTLA.\"It), (neighbor, told, him), (sheriff, told, Cooper), (Kent Wegener, told, reporters), (Officials, shepherded, students), (gunman, shot, classmates), (daughter, attends, Saugus), (we, 're going, to move), (we, 're going, have), (President Mike Pence, gave, condolences), (investigatedInvestigators, will check, rumors), (School officials, are sending, students), (cops, sayUpdated, ET), (he, was leaving, house)]\n",
            "------------------------\n",
            "[(cartoons, do not represent, society), (It, may contain, depictions), (Director Tim Burton, chose, to not include), (characters, put, circus tents), (that, feature, prejudices), (that, feature, content), (Warner Bros., used, this), (Dumbo, featured, character), (They, may depict, some), (He, omitted, scene)]\n",
            "------------------------\n",
            "[(Adam Ni, told, CNN), (those, continued, bringing), (he, began, clearing), (police, have appeared, reticent), (television channel, issued, editorial), (country, will never accept, situation), (you, are going, have), (protesters, hurling, bricks), (Critical injuriesThe protests, have taken, turn), (protesters, continued, bringing), (\"\"We, warn, protesters), (state media, warning, protesters), (you, can make, call), (Student protesters, fortify, campus occupations), (protesters, to cross, it), (those, continued, to pour), (schools, have suspended, instance), (level, has reached, heights), (protesters, barricaded, themselves), (government supporters, hurling, bricks), (who, are coerced, be), (thousands, prepared, to face), (protesters, continued, to pour), (schools, have suspended, classes), (what, is believed, be), (protesters, seek, to breach), (students, have been asked, to leave), (government, unveiled, range), (police, fired, gas), (MTR, continued, to suspend), (they, had evacuated, students), (hundreds, firing, canisters)]\n",
            "------------------------\n"
          ],
          "name": "stdout"
        }
      ]
    },
    {
      "cell_type": "code",
      "metadata": {
        "id": "-4Oq8V0Bkorh"
      },
      "source": [
        ""
      ],
      "execution_count": 15,
      "outputs": []
    }
  ]
}