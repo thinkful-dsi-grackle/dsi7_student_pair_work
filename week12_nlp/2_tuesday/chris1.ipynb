{
  "nbformat": 4,
  "nbformat_minor": 0,
  "metadata": {
    "kernelspec": {
      "display_name": "Python 3",
      "language": "python",
      "name": "python3"
    },
    "language_info": {
      "codemirror_mode": {
        "name": "ipython",
        "version": 3
      },
      "file_extension": ".py",
      "mimetype": "text/x-python",
      "name": "python",
      "nbconvert_exporter": "python",
      "pygments_lexer": "ipython3",
      "version": "3.7.2"
    },
    "colab": {
      "name": "Copy of Day 72, Lecture 1: Assignment.ipynb",
      "provenance": []
    }
  },
  "cells": [
    {
      "cell_type": "markdown",
      "metadata": {
        "id": "_iCUbt7u4JIO"
      },
      "source": [
        "# Text Data Cleaning and Preprocessing Assignment"
      ]
    },
    {
      "cell_type": "code",
      "metadata": {
        "colab": {
          "base_uri": "https://localhost:8080/"
        },
        "id": "8LAR3QDIXlXa",
        "outputId": "0bc29333-f1f3-43f1-8585-e743605c1795"
      },
      "source": [
        "from google.colab import drive\n",
        "drive.mount('/content/drive', force_remount=True)"
      ],
      "execution_count": 2,
      "outputs": [
        {
          "output_type": "stream",
          "text": [
            "Mounted at /content/drive\n"
          ],
          "name": "stdout"
        }
      ]
    },
    {
      "cell_type": "code",
      "metadata": {
        "id": "wuqMJsi-4JIS"
      },
      "source": [
        "from nltk.corpus.reader.plaintext import PlaintextCorpusReader\n",
        "from nltk import sent_tokenize\n",
        "from nltk import word_tokenize\n",
        "from nltk import pos_tag\n",
        "from nltk.corpus import stopwords\n",
        "from nltk.stem.snowball import SnowballStemmer\n",
        "from nltk.stem.wordnet import WordNetLemmatizer"
      ],
      "execution_count": null,
      "outputs": []
    },
    {
      "cell_type": "code",
      "metadata": {
        "colab": {
          "base_uri": "https://localhost:8080/"
        },
        "id": "JmiDwmjPaOMd",
        "outputId": "afb98cbe-1aa0-49f3-bccd-6e5b22940456"
      },
      "source": [
        "import nltk\n",
        "nltk.download('punkt')\n",
        "nltk.download('averaged_perceptron_tagger')\n",
        "nltk.download('stopwords')\n",
        "nltk.download('wordnet')"
      ],
      "execution_count": 17,
      "outputs": [
        {
          "output_type": "stream",
          "text": [
            "[nltk_data] Downloading package punkt to /root/nltk_data...\n",
            "[nltk_data]   Package punkt is already up-to-date!\n",
            "[nltk_data] Downloading package averaged_perceptron_tagger to\n",
            "[nltk_data]     /root/nltk_data...\n",
            "[nltk_data]   Package averaged_perceptron_tagger is already up-to-\n",
            "[nltk_data]       date!\n",
            "[nltk_data] Downloading package stopwords to /root/nltk_data...\n",
            "[nltk_data]   Unzipping corpora/stopwords.zip.\n",
            "[nltk_data] Downloading package wordnet to /root/nltk_data...\n",
            "[nltk_data]   Unzipping corpora/wordnet.zip.\n"
          ],
          "name": "stdout"
        },
        {
          "output_type": "execute_result",
          "data": {
            "text/plain": [
              "True"
            ]
          },
          "metadata": {
            "tags": []
          },
          "execution_count": 17
        }
      ]
    },
    {
      "cell_type": "markdown",
      "metadata": {
        "id": "fCY5p4L54JIY"
      },
      "source": [
        "### Read the O'Reilly RSS plain text file articles into a corpus using the NLTK's PlaintextCorpusReader."
      ]
    },
    {
      "cell_type": "code",
      "metadata": {
        "id": "lmNkoVRZ4JIc"
      },
      "source": [
        "PATH = '/content/drive/MyDrive/web scrap/rss/'\n",
        "DOC_PATTERN = r'.*\\.txt'\n",
        "corpus = PlaintextCorpusReader(PATH, DOC_PATTERN)"
      ],
      "execution_count": 3,
      "outputs": []
    },
    {
      "cell_type": "markdown",
      "metadata": {
        "id": "MJI6AbGA4JIg"
      },
      "source": [
        "### Iterate through the fileids in the corpus, extract the raw text of each document, and store them in a list."
      ]
    },
    {
      "cell_type": "code",
      "metadata": {
        "id": "UL7Cjcby4JIi"
      },
      "source": [
        "docs = [corpus.raw(fileid) for fileid in corpus.fileids()]"
      ],
      "execution_count": null,
      "outputs": []
    },
    {
      "cell_type": "markdown",
      "metadata": {
        "id": "O7JuwNTW4JIn"
      },
      "source": [
        "### Sentence tokenize each document in the list of documents."
      ]
    },
    {
      "cell_type": "code",
      "metadata": {
        "id": "8zbqurmN4JIp",
        "colab": {
          "base_uri": "https://localhost:8080/",
          "height": 137
        },
        "outputId": "602fb5ab-fcfd-4abd-ef70-e4ad6a0343d5"
      },
      "source": [
        "doc = docs[0]\n",
        "doc"
      ],
      "execution_count": 9,
      "outputs": [
        {
          "output_type": "execute_result",
          "data": {
            "application/vnd.google.colaboratory.intrinsic+json": {
              "type": "string"
            },
            "text/plain": [
              "'2020 has been a year of great challenges for so many, but it’s not all negative. Around the world, organizations and their workforces have risen to the occasion, recognizing the importance of expanding their knowledge, taking on new tasks, and bettering themselves both personally and professionally. With the uptick in virtual conferencing, remote work, and, for some, reentering the job market, new technology adoption was accelerated, driving the workforce to build new skills. While 2020 was the year of the global COVID-19 pandemic, it will also be commemorated as the year online learning prevailed. As vaccine development persists and life gets back to normal, with it will come a more future-proof workforce ready to share their new knowledge with the world.\\xa0 Since the onset of the pandemic, online courses and programs have seen dramatic spikes in consumption and enrollment, and O’Reilly has been no different. A big contributor to O’Reilly’s continued success during these unprecedented times has been its live virtual training courses. This year, more than 900,000 users have registered for live events through O’Reilly online learning—a 96% increase from last year. This functionality also allowed O’Reilly to introduce its Superstream Series, a new lineup of virtual conferences featuring expert speakers delivering talks and training sessions on the most important topics and emerging trends in technology.\\xa0 So what are the trends driving this uptick in learning? Companies are increasingly interested in understanding how to successfully adjust to remote work and effectively manage time. And individual O’Reilly members are looking to build and expand on their technical skills in everything from software architecture and microservices to AI and programming languages. But which topics are the brightest minds in technology most focused on? We’ve compiled the top 20 live online training courses of 2020 to shed some light on what those in the know want to know. Top 20 live online training courses of 2020 For a more in-depth analysis of the hot technology topics of 2020, based on data from O’Reilly online learning, stay tuned for our upcoming report, Wrapping Up 2020 (and What to Expect for 2021): Trends on O’Reilly online learning. '"
            ]
          },
          "metadata": {
            "tags": []
          },
          "execution_count": 9
        }
      ]
    },
    {
      "cell_type": "code",
      "metadata": {
        "colab": {
          "base_uri": "https://localhost:8080/"
        },
        "id": "poytkGQDZT7O",
        "outputId": "0fe027b9-7ce8-4cc1-f0e8-a6d747db1a6d"
      },
      "source": [
        "sents = sent_tokenize(doc)\n",
        "print(sents)"
      ],
      "execution_count": 11,
      "outputs": [
        {
          "output_type": "stream",
          "text": [
            "[nltk_data] Downloading package punkt to /root/nltk_data...\n",
            "[nltk_data]   Unzipping tokenizers/punkt.zip.\n",
            "['2020 has been a year of great challenges for so many, but it’s not all negative.', 'Around the world, organizations and their workforces have risen to the occasion, recognizing the importance of expanding their knowledge, taking on new tasks, and bettering themselves both personally and professionally.', 'With the uptick in virtual conferencing, remote work, and, for some, reentering the job market, new technology adoption was accelerated, driving the workforce to build new skills.', 'While 2020 was the year of the global COVID-19 pandemic, it will also be commemorated as the year online learning prevailed.', 'As vaccine development persists and life gets back to normal, with it will come a more future-proof workforce ready to share their new knowledge with the world.', 'Since the onset of the pandemic, online courses and programs have seen dramatic spikes in consumption and enrollment, and O’Reilly has been no different.', 'A big contributor to O’Reilly’s continued success during these unprecedented times has been its live virtual training courses.', 'This year, more than 900,000 users have registered for live events through O’Reilly online learning—a 96% increase from last year.', 'This functionality also allowed O’Reilly to introduce its Superstream Series, a new lineup of virtual conferences featuring expert speakers delivering talks and training sessions on the most important topics and emerging trends in technology.', 'So what are the trends driving this uptick in learning?', 'Companies are increasingly interested in understanding how to successfully adjust to remote work and effectively manage time.', 'And individual O’Reilly members are looking to build and expand on their technical skills in everything from software architecture and microservices to AI and programming languages.', 'But which topics are the brightest minds in technology most focused on?', 'We’ve compiled the top 20 live online training courses of 2020 to shed some light on what those in the know want to know.', 'Top 20 live online training courses of 2020 For a more in-depth analysis of the hot technology topics of 2020, based on data from O’Reilly online learning, stay tuned for our upcoming report, Wrapping Up 2020 (and What to Expect for 2021): Trends on O’Reilly online learning.']\n"
          ],
          "name": "stdout"
        }
      ]
    },
    {
      "cell_type": "markdown",
      "metadata": {
        "id": "nqT7V6zZ4JIu"
      },
      "source": [
        "### Word tokenize each sentence within each document.\n",
        "\n",
        "You should end up with a nested list structure where the outer list contains all the sentences in each document and the inner list contains the tokenized sentences."
      ]
    },
    {
      "cell_type": "code",
      "metadata": {
        "id": "17JMEoHe4JIv",
        "colab": {
          "base_uri": "https://localhost:8080/"
        },
        "outputId": "a84e6c87-1fbf-40c0-998e-dde9920ceb78"
      },
      "source": [
        "tokenized = [word_tokenize(sent) for sent in sents]\n",
        "print(tokenized)\n",
        "print('words in 11th sentence: ', len(tokenized[10]))"
      ],
      "execution_count": 27,
      "outputs": [
        {
          "output_type": "stream",
          "text": [
            "[['2020', 'has', 'been', 'a', 'year', 'of', 'great', 'challenges', 'for', 'so', 'many', ',', 'but', 'it', '’', 's', 'not', 'all', 'negative', '.'], ['Around', 'the', 'world', ',', 'organizations', 'and', 'their', 'workforces', 'have', 'risen', 'to', 'the', 'occasion', ',', 'recognizing', 'the', 'importance', 'of', 'expanding', 'their', 'knowledge', ',', 'taking', 'on', 'new', 'tasks', ',', 'and', 'bettering', 'themselves', 'both', 'personally', 'and', 'professionally', '.'], ['With', 'the', 'uptick', 'in', 'virtual', 'conferencing', ',', 'remote', 'work', ',', 'and', ',', 'for', 'some', ',', 'reentering', 'the', 'job', 'market', ',', 'new', 'technology', 'adoption', 'was', 'accelerated', ',', 'driving', 'the', 'workforce', 'to', 'build', 'new', 'skills', '.'], ['While', '2020', 'was', 'the', 'year', 'of', 'the', 'global', 'COVID-19', 'pandemic', ',', 'it', 'will', 'also', 'be', 'commemorated', 'as', 'the', 'year', 'online', 'learning', 'prevailed', '.'], ['As', 'vaccine', 'development', 'persists', 'and', 'life', 'gets', 'back', 'to', 'normal', ',', 'with', 'it', 'will', 'come', 'a', 'more', 'future-proof', 'workforce', 'ready', 'to', 'share', 'their', 'new', 'knowledge', 'with', 'the', 'world', '.'], ['Since', 'the', 'onset', 'of', 'the', 'pandemic', ',', 'online', 'courses', 'and', 'programs', 'have', 'seen', 'dramatic', 'spikes', 'in', 'consumption', 'and', 'enrollment', ',', 'and', 'O', '’', 'Reilly', 'has', 'been', 'no', 'different', '.'], ['A', 'big', 'contributor', 'to', 'O', '’', 'Reilly', '’', 's', 'continued', 'success', 'during', 'these', 'unprecedented', 'times', 'has', 'been', 'its', 'live', 'virtual', 'training', 'courses', '.'], ['This', 'year', ',', 'more', 'than', '900,000', 'users', 'have', 'registered', 'for', 'live', 'events', 'through', 'O', '’', 'Reilly', 'online', 'learning—a', '96', '%', 'increase', 'from', 'last', 'year', '.'], ['This', 'functionality', 'also', 'allowed', 'O', '’', 'Reilly', 'to', 'introduce', 'its', 'Superstream', 'Series', ',', 'a', 'new', 'lineup', 'of', 'virtual', 'conferences', 'featuring', 'expert', 'speakers', 'delivering', 'talks', 'and', 'training', 'sessions', 'on', 'the', 'most', 'important', 'topics', 'and', 'emerging', 'trends', 'in', 'technology', '.'], ['So', 'what', 'are', 'the', 'trends', 'driving', 'this', 'uptick', 'in', 'learning', '?'], ['Companies', 'are', 'increasingly', 'interested', 'in', 'understanding', 'how', 'to', 'successfully', 'adjust', 'to', 'remote', 'work', 'and', 'effectively', 'manage', 'time', '.'], ['And', 'individual', 'O', '’', 'Reilly', 'members', 'are', 'looking', 'to', 'build', 'and', 'expand', 'on', 'their', 'technical', 'skills', 'in', 'everything', 'from', 'software', 'architecture', 'and', 'microservices', 'to', 'AI', 'and', 'programming', 'languages', '.'], ['But', 'which', 'topics', 'are', 'the', 'brightest', 'minds', 'in', 'technology', 'most', 'focused', 'on', '?'], ['We', '’', 've', 'compiled', 'the', 'top', '20', 'live', 'online', 'training', 'courses', 'of', '2020', 'to', 'shed', 'some', 'light', 'on', 'what', 'those', 'in', 'the', 'know', 'want', 'to', 'know', '.'], ['Top', '20', 'live', 'online', 'training', 'courses', 'of', '2020', 'For', 'a', 'more', 'in-depth', 'analysis', 'of', 'the', 'hot', 'technology', 'topics', 'of', '2020', ',', 'based', 'on', 'data', 'from', 'O', '’', 'Reilly', 'online', 'learning', ',', 'stay', 'tuned', 'for', 'our', 'upcoming', 'report', ',', 'Wrapping', 'Up', '2020', '(', 'and', 'What', 'to', 'Expect', 'for', '2021', ')', ':', 'Trends', 'on', 'O', '’', 'Reilly', 'online', 'learning', '.']]\n",
            "words in 11th sentence:  18\n"
          ],
          "name": "stdout"
        }
      ]
    },
    {
      "cell_type": "markdown",
      "metadata": {
        "id": "Pk1r_y4C4JIz"
      },
      "source": [
        "### Tag each token with its part of speech."
      ]
    },
    {
      "cell_type": "code",
      "metadata": {
        "id": "Flze4fS-4JI0",
        "colab": {
          "base_uri": "https://localhost:8080/"
        },
        "outputId": "1aba5eb2-5a11-4c11-c825-86a3dde0bc2f"
      },
      "source": [
        "tagged = [pos_tag(tokens) for tokens in tokenized]\n",
        "tagged"
      ],
      "execution_count": 18,
      "outputs": [
        {
          "output_type": "execute_result",
          "data": {
            "text/plain": [
              "[[('2020', 'CD'),\n",
              "  ('has', 'VBZ'),\n",
              "  ('been', 'VBN'),\n",
              "  ('a', 'DT'),\n",
              "  ('year', 'NN'),\n",
              "  ('of', 'IN'),\n",
              "  ('great', 'JJ'),\n",
              "  ('challenges', 'NNS'),\n",
              "  ('for', 'IN'),\n",
              "  ('so', 'RB'),\n",
              "  ('many', 'JJ'),\n",
              "  (',', ','),\n",
              "  ('but', 'CC'),\n",
              "  ('it', 'PRP'),\n",
              "  ('’', 'NNP'),\n",
              "  ('s', 'VBZ'),\n",
              "  ('not', 'RB'),\n",
              "  ('all', 'DT'),\n",
              "  ('negative', 'JJ'),\n",
              "  ('.', '.')],\n",
              " [('Around', 'IN'),\n",
              "  ('the', 'DT'),\n",
              "  ('world', 'NN'),\n",
              "  (',', ','),\n",
              "  ('organizations', 'NNS'),\n",
              "  ('and', 'CC'),\n",
              "  ('their', 'PRP$'),\n",
              "  ('workforces', 'NNS'),\n",
              "  ('have', 'VBP'),\n",
              "  ('risen', 'VBN'),\n",
              "  ('to', 'TO'),\n",
              "  ('the', 'DT'),\n",
              "  ('occasion', 'NN'),\n",
              "  (',', ','),\n",
              "  ('recognizing', 'VBG'),\n",
              "  ('the', 'DT'),\n",
              "  ('importance', 'NN'),\n",
              "  ('of', 'IN'),\n",
              "  ('expanding', 'VBG'),\n",
              "  ('their', 'PRP$'),\n",
              "  ('knowledge', 'NN'),\n",
              "  (',', ','),\n",
              "  ('taking', 'VBG'),\n",
              "  ('on', 'IN'),\n",
              "  ('new', 'JJ'),\n",
              "  ('tasks', 'NNS'),\n",
              "  (',', ','),\n",
              "  ('and', 'CC'),\n",
              "  ('bettering', 'VBG'),\n",
              "  ('themselves', 'PRP'),\n",
              "  ('both', 'DT'),\n",
              "  ('personally', 'RB'),\n",
              "  ('and', 'CC'),\n",
              "  ('professionally', 'RB'),\n",
              "  ('.', '.')],\n",
              " [('With', 'IN'),\n",
              "  ('the', 'DT'),\n",
              "  ('uptick', 'NN'),\n",
              "  ('in', 'IN'),\n",
              "  ('virtual', 'JJ'),\n",
              "  ('conferencing', 'NN'),\n",
              "  (',', ','),\n",
              "  ('remote', 'JJ'),\n",
              "  ('work', 'NN'),\n",
              "  (',', ','),\n",
              "  ('and', 'CC'),\n",
              "  (',', ','),\n",
              "  ('for', 'IN'),\n",
              "  ('some', 'DT'),\n",
              "  (',', ','),\n",
              "  ('reentering', 'VBG'),\n",
              "  ('the', 'DT'),\n",
              "  ('job', 'NN'),\n",
              "  ('market', 'NN'),\n",
              "  (',', ','),\n",
              "  ('new', 'JJ'),\n",
              "  ('technology', 'NN'),\n",
              "  ('adoption', 'NN'),\n",
              "  ('was', 'VBD'),\n",
              "  ('accelerated', 'VBN'),\n",
              "  (',', ','),\n",
              "  ('driving', 'VBG'),\n",
              "  ('the', 'DT'),\n",
              "  ('workforce', 'NN'),\n",
              "  ('to', 'TO'),\n",
              "  ('build', 'VB'),\n",
              "  ('new', 'JJ'),\n",
              "  ('skills', 'NNS'),\n",
              "  ('.', '.')],\n",
              " [('While', 'IN'),\n",
              "  ('2020', 'CD'),\n",
              "  ('was', 'VBD'),\n",
              "  ('the', 'DT'),\n",
              "  ('year', 'NN'),\n",
              "  ('of', 'IN'),\n",
              "  ('the', 'DT'),\n",
              "  ('global', 'JJ'),\n",
              "  ('COVID-19', 'NNP'),\n",
              "  ('pandemic', 'NN'),\n",
              "  (',', ','),\n",
              "  ('it', 'PRP'),\n",
              "  ('will', 'MD'),\n",
              "  ('also', 'RB'),\n",
              "  ('be', 'VB'),\n",
              "  ('commemorated', 'VBN'),\n",
              "  ('as', 'IN'),\n",
              "  ('the', 'DT'),\n",
              "  ('year', 'NN'),\n",
              "  ('online', 'NN'),\n",
              "  ('learning', 'NN'),\n",
              "  ('prevailed', 'VBD'),\n",
              "  ('.', '.')],\n",
              " [('As', 'IN'),\n",
              "  ('vaccine', 'NN'),\n",
              "  ('development', 'NN'),\n",
              "  ('persists', 'NNS'),\n",
              "  ('and', 'CC'),\n",
              "  ('life', 'NN'),\n",
              "  ('gets', 'VBZ'),\n",
              "  ('back', 'RB'),\n",
              "  ('to', 'TO'),\n",
              "  ('normal', 'JJ'),\n",
              "  (',', ','),\n",
              "  ('with', 'IN'),\n",
              "  ('it', 'PRP'),\n",
              "  ('will', 'MD'),\n",
              "  ('come', 'VB'),\n",
              "  ('a', 'DT'),\n",
              "  ('more', 'RBR'),\n",
              "  ('future-proof', 'JJ'),\n",
              "  ('workforce', 'NN'),\n",
              "  ('ready', 'NN'),\n",
              "  ('to', 'TO'),\n",
              "  ('share', 'NN'),\n",
              "  ('their', 'PRP$'),\n",
              "  ('new', 'JJ'),\n",
              "  ('knowledge', 'NN'),\n",
              "  ('with', 'IN'),\n",
              "  ('the', 'DT'),\n",
              "  ('world', 'NN'),\n",
              "  ('.', '.')],\n",
              " [('Since', 'IN'),\n",
              "  ('the', 'DT'),\n",
              "  ('onset', 'NN'),\n",
              "  ('of', 'IN'),\n",
              "  ('the', 'DT'),\n",
              "  ('pandemic', 'JJ'),\n",
              "  (',', ','),\n",
              "  ('online', 'JJ'),\n",
              "  ('courses', 'NNS'),\n",
              "  ('and', 'CC'),\n",
              "  ('programs', 'NNS'),\n",
              "  ('have', 'VBP'),\n",
              "  ('seen', 'VBN'),\n",
              "  ('dramatic', 'JJ'),\n",
              "  ('spikes', 'NNS'),\n",
              "  ('in', 'IN'),\n",
              "  ('consumption', 'NN'),\n",
              "  ('and', 'CC'),\n",
              "  ('enrollment', 'NN'),\n",
              "  (',', ','),\n",
              "  ('and', 'CC'),\n",
              "  ('O', 'NNP'),\n",
              "  ('’', 'NNP'),\n",
              "  ('Reilly', 'NNP'),\n",
              "  ('has', 'VBZ'),\n",
              "  ('been', 'VBN'),\n",
              "  ('no', 'DT'),\n",
              "  ('different', 'JJ'),\n",
              "  ('.', '.')],\n",
              " [('A', 'DT'),\n",
              "  ('big', 'JJ'),\n",
              "  ('contributor', 'NN'),\n",
              "  ('to', 'TO'),\n",
              "  ('O', 'NNP'),\n",
              "  ('’', 'NNP'),\n",
              "  ('Reilly', 'NNP'),\n",
              "  ('’', 'NNP'),\n",
              "  ('s', 'VBD'),\n",
              "  ('continued', 'JJ'),\n",
              "  ('success', 'NN'),\n",
              "  ('during', 'IN'),\n",
              "  ('these', 'DT'),\n",
              "  ('unprecedented', 'JJ'),\n",
              "  ('times', 'NNS'),\n",
              "  ('has', 'VBZ'),\n",
              "  ('been', 'VBN'),\n",
              "  ('its', 'PRP$'),\n",
              "  ('live', 'JJ'),\n",
              "  ('virtual', 'JJ'),\n",
              "  ('training', 'NN'),\n",
              "  ('courses', 'NNS'),\n",
              "  ('.', '.')],\n",
              " [('This', 'DT'),\n",
              "  ('year', 'NN'),\n",
              "  (',', ','),\n",
              "  ('more', 'JJR'),\n",
              "  ('than', 'IN'),\n",
              "  ('900,000', 'CD'),\n",
              "  ('users', 'NNS'),\n",
              "  ('have', 'VBP'),\n",
              "  ('registered', 'VBN'),\n",
              "  ('for', 'IN'),\n",
              "  ('live', 'JJ'),\n",
              "  ('events', 'NNS'),\n",
              "  ('through', 'IN'),\n",
              "  ('O', 'NNP'),\n",
              "  ('’', 'NNP'),\n",
              "  ('Reilly', 'NNP'),\n",
              "  ('online', 'VBP'),\n",
              "  ('learning—a', 'JJ'),\n",
              "  ('96', 'CD'),\n",
              "  ('%', 'NN'),\n",
              "  ('increase', 'NN'),\n",
              "  ('from', 'IN'),\n",
              "  ('last', 'JJ'),\n",
              "  ('year', 'NN'),\n",
              "  ('.', '.')],\n",
              " [('This', 'DT'),\n",
              "  ('functionality', 'NN'),\n",
              "  ('also', 'RB'),\n",
              "  ('allowed', 'VBD'),\n",
              "  ('O', 'NNP'),\n",
              "  ('’', 'NNP'),\n",
              "  ('Reilly', 'NNP'),\n",
              "  ('to', 'TO'),\n",
              "  ('introduce', 'VB'),\n",
              "  ('its', 'PRP$'),\n",
              "  ('Superstream', 'NNP'),\n",
              "  ('Series', 'NNP'),\n",
              "  (',', ','),\n",
              "  ('a', 'DT'),\n",
              "  ('new', 'JJ'),\n",
              "  ('lineup', 'NN'),\n",
              "  ('of', 'IN'),\n",
              "  ('virtual', 'JJ'),\n",
              "  ('conferences', 'NNS'),\n",
              "  ('featuring', 'VBG'),\n",
              "  ('expert', 'JJ'),\n",
              "  ('speakers', 'NNS'),\n",
              "  ('delivering', 'VBG'),\n",
              "  ('talks', 'NNS'),\n",
              "  ('and', 'CC'),\n",
              "  ('training', 'VBG'),\n",
              "  ('sessions', 'NNS'),\n",
              "  ('on', 'IN'),\n",
              "  ('the', 'DT'),\n",
              "  ('most', 'RBS'),\n",
              "  ('important', 'JJ'),\n",
              "  ('topics', 'NNS'),\n",
              "  ('and', 'CC'),\n",
              "  ('emerging', 'VBG'),\n",
              "  ('trends', 'NNS'),\n",
              "  ('in', 'IN'),\n",
              "  ('technology', 'NN'),\n",
              "  ('.', '.')],\n",
              " [('So', 'IN'),\n",
              "  ('what', 'WP'),\n",
              "  ('are', 'VBP'),\n",
              "  ('the', 'DT'),\n",
              "  ('trends', 'NNS'),\n",
              "  ('driving', 'VBG'),\n",
              "  ('this', 'DT'),\n",
              "  ('uptick', 'NN'),\n",
              "  ('in', 'IN'),\n",
              "  ('learning', 'VBG'),\n",
              "  ('?', '.')],\n",
              " [('Companies', 'NNS'),\n",
              "  ('are', 'VBP'),\n",
              "  ('increasingly', 'RB'),\n",
              "  ('interested', 'JJ'),\n",
              "  ('in', 'IN'),\n",
              "  ('understanding', 'VBG'),\n",
              "  ('how', 'WRB'),\n",
              "  ('to', 'TO'),\n",
              "  ('successfully', 'RB'),\n",
              "  ('adjust', 'VB'),\n",
              "  ('to', 'TO'),\n",
              "  ('remote', 'VB'),\n",
              "  ('work', 'NN'),\n",
              "  ('and', 'CC'),\n",
              "  ('effectively', 'RB'),\n",
              "  ('manage', 'JJ'),\n",
              "  ('time', 'NN'),\n",
              "  ('.', '.')],\n",
              " [('And', 'CC'),\n",
              "  ('individual', 'JJ'),\n",
              "  ('O', 'NNP'),\n",
              "  ('’', 'NNP'),\n",
              "  ('Reilly', 'NNP'),\n",
              "  ('members', 'NNS'),\n",
              "  ('are', 'VBP'),\n",
              "  ('looking', 'VBG'),\n",
              "  ('to', 'TO'),\n",
              "  ('build', 'VB'),\n",
              "  ('and', 'CC'),\n",
              "  ('expand', 'VB'),\n",
              "  ('on', 'IN'),\n",
              "  ('their', 'PRP$'),\n",
              "  ('technical', 'JJ'),\n",
              "  ('skills', 'NNS'),\n",
              "  ('in', 'IN'),\n",
              "  ('everything', 'NN'),\n",
              "  ('from', 'IN'),\n",
              "  ('software', 'NN'),\n",
              "  ('architecture', 'NN'),\n",
              "  ('and', 'CC'),\n",
              "  ('microservices', 'NNS'),\n",
              "  ('to', 'TO'),\n",
              "  ('AI', 'NNP'),\n",
              "  ('and', 'CC'),\n",
              "  ('programming', 'NN'),\n",
              "  ('languages', 'NNS'),\n",
              "  ('.', '.')],\n",
              " [('But', 'CC'),\n",
              "  ('which', 'WDT'),\n",
              "  ('topics', 'NNS'),\n",
              "  ('are', 'VBP'),\n",
              "  ('the', 'DT'),\n",
              "  ('brightest', 'JJS'),\n",
              "  ('minds', 'NNS'),\n",
              "  ('in', 'IN'),\n",
              "  ('technology', 'NN'),\n",
              "  ('most', 'RBS'),\n",
              "  ('focused', 'VBN'),\n",
              "  ('on', 'IN'),\n",
              "  ('?', '.')],\n",
              " [('We', 'PRP'),\n",
              "  ('’', 'VBP'),\n",
              "  ('ve', 'RB'),\n",
              "  ('compiled', 'VBN'),\n",
              "  ('the', 'DT'),\n",
              "  ('top', 'JJ'),\n",
              "  ('20', 'CD'),\n",
              "  ('live', 'JJ'),\n",
              "  ('online', 'NN'),\n",
              "  ('training', 'NN'),\n",
              "  ('courses', 'NNS'),\n",
              "  ('of', 'IN'),\n",
              "  ('2020', 'CD'),\n",
              "  ('to', 'TO'),\n",
              "  ('shed', 'VB'),\n",
              "  ('some', 'DT'),\n",
              "  ('light', 'NN'),\n",
              "  ('on', 'IN'),\n",
              "  ('what', 'WP'),\n",
              "  ('those', 'DT'),\n",
              "  ('in', 'IN'),\n",
              "  ('the', 'DT'),\n",
              "  ('know', 'NN'),\n",
              "  ('want', 'VBP'),\n",
              "  ('to', 'TO'),\n",
              "  ('know', 'VB'),\n",
              "  ('.', '.')],\n",
              " [('Top', 'JJ'),\n",
              "  ('20', 'CD'),\n",
              "  ('live', 'JJ'),\n",
              "  ('online', 'NN'),\n",
              "  ('training', 'NN'),\n",
              "  ('courses', 'NNS'),\n",
              "  ('of', 'IN'),\n",
              "  ('2020', 'CD'),\n",
              "  ('For', 'IN'),\n",
              "  ('a', 'DT'),\n",
              "  ('more', 'RBR'),\n",
              "  ('in-depth', 'JJ'),\n",
              "  ('analysis', 'NN'),\n",
              "  ('of', 'IN'),\n",
              "  ('the', 'DT'),\n",
              "  ('hot', 'JJ'),\n",
              "  ('technology', 'NN'),\n",
              "  ('topics', 'NNS'),\n",
              "  ('of', 'IN'),\n",
              "  ('2020', 'CD'),\n",
              "  (',', ','),\n",
              "  ('based', 'VBN'),\n",
              "  ('on', 'IN'),\n",
              "  ('data', 'NNS'),\n",
              "  ('from', 'IN'),\n",
              "  ('O', 'NNP'),\n",
              "  ('’', 'NNP'),\n",
              "  ('Reilly', 'NNP'),\n",
              "  ('online', 'VBP'),\n",
              "  ('learning', 'NN'),\n",
              "  (',', ','),\n",
              "  ('stay', 'NN'),\n",
              "  ('tuned', 'VBD'),\n",
              "  ('for', 'IN'),\n",
              "  ('our', 'PRP$'),\n",
              "  ('upcoming', 'JJ'),\n",
              "  ('report', 'NN'),\n",
              "  (',', ','),\n",
              "  ('Wrapping', 'VBG'),\n",
              "  ('Up', 'RP'),\n",
              "  ('2020', 'CD'),\n",
              "  ('(', '('),\n",
              "  ('and', 'CC'),\n",
              "  ('What', 'WP'),\n",
              "  ('to', 'TO'),\n",
              "  ('Expect', 'VB'),\n",
              "  ('for', 'IN'),\n",
              "  ('2021', 'CD'),\n",
              "  (')', ')'),\n",
              "  (':', ':'),\n",
              "  ('Trends', 'NNS'),\n",
              "  ('on', 'IN'),\n",
              "  ('O', 'NNP'),\n",
              "  ('’', 'NNP'),\n",
              "  ('Reilly', 'NNP'),\n",
              "  ('online', 'VBP'),\n",
              "  ('learning', 'NN'),\n",
              "  ('.', '.')]]"
            ]
          },
          "metadata": {
            "tags": []
          },
          "execution_count": 18
        }
      ]
    },
    {
      "cell_type": "markdown",
      "metadata": {
        "id": "NmIltOA44JI5"
      },
      "source": [
        "### Word tokenize the raw text of each document and remove stop words."
      ]
    },
    {
      "cell_type": "code",
      "metadata": {
        "id": "ZVUcQFkJ4JI7",
        "colab": {
          "base_uri": "https://localhost:8080/"
        },
        "outputId": "1bfb5b79-a1aa-497e-c014-c3f8cfe75f38"
      },
      "source": [
        "no_stopwords = [token.lower() for token in word_tokenize(doc) \n",
        "                if token.lower() not in stopwords.words('english')]\n",
        "print(no_stopwords)\n",
        "print('words in 11th sentence: ', len(no_stopwords[10]))"
      ],
      "execution_count": 26,
      "outputs": [
        {
          "output_type": "stream",
          "text": [
            "['2020', 'year', 'great', 'challenges', 'many', ',', '’', 'negative', '.', 'around', 'world', ',', 'organizations', 'workforces', 'risen', 'occasion', ',', 'recognizing', 'importance', 'expanding', 'knowledge', ',', 'taking', 'new', 'tasks', ',', 'bettering', 'personally', 'professionally', '.', 'uptick', 'virtual', 'conferencing', ',', 'remote', 'work', ',', ',', ',', 'reentering', 'job', 'market', ',', 'new', 'technology', 'adoption', 'accelerated', ',', 'driving', 'workforce', 'build', 'new', 'skills', '.', '2020', 'year', 'global', 'covid-19', 'pandemic', ',', 'also', 'commemorated', 'year', 'online', 'learning', 'prevailed', '.', 'vaccine', 'development', 'persists', 'life', 'gets', 'back', 'normal', ',', 'come', 'future-proof', 'workforce', 'ready', 'share', 'new', 'knowledge', 'world', '.', 'since', 'onset', 'pandemic', ',', 'online', 'courses', 'programs', 'seen', 'dramatic', 'spikes', 'consumption', 'enrollment', ',', '’', 'reilly', 'different', '.', 'big', 'contributor', '’', 'reilly', '’', 'continued', 'success', 'unprecedented', 'times', 'live', 'virtual', 'training', 'courses', '.', 'year', ',', '900,000', 'users', 'registered', 'live', 'events', '’', 'reilly', 'online', 'learning—a', '96', '%', 'increase', 'last', 'year', '.', 'functionality', 'also', 'allowed', '’', 'reilly', 'introduce', 'superstream', 'series', ',', 'new', 'lineup', 'virtual', 'conferences', 'featuring', 'expert', 'speakers', 'delivering', 'talks', 'training', 'sessions', 'important', 'topics', 'emerging', 'trends', 'technology', '.', 'trends', 'driving', 'uptick', 'learning', '?', 'companies', 'increasingly', 'interested', 'understanding', 'successfully', 'adjust', 'remote', 'work', 'effectively', 'manage', 'time', '.', 'individual', '’', 'reilly', 'members', 'looking', 'build', 'expand', 'technical', 'skills', 'everything', 'software', 'architecture', 'microservices', 'ai', 'programming', 'languages', '.', 'topics', 'brightest', 'minds', 'technology', 'focused', '?', '’', 'compiled', 'top', '20', 'live', 'online', 'training', 'courses', '2020', 'shed', 'light', 'know', 'want', 'know', '.', 'top', '20', 'live', 'online', 'training', 'courses', '2020', 'in-depth', 'analysis', 'hot', 'technology', 'topics', '2020', ',', 'based', 'data', '’', 'reilly', 'online', 'learning', ',', 'stay', 'tuned', 'upcoming', 'report', ',', 'wrapping', '2020', '(', 'expect', '2021', ')', ':', 'trends', '’', 'reilly', 'online', 'learning', '.']\n",
            "words in 11th sentence:  5\n"
          ],
          "name": "stdout"
        }
      ]
    },
    {
      "cell_type": "markdown",
      "metadata": {
        "id": "IAZggM574JI_"
      },
      "source": [
        "### For every document, stem all the words in the document."
      ]
    },
    {
      "cell_type": "code",
      "metadata": {
        "id": "JgLS7PPD4JJB",
        "colab": {
          "base_uri": "https://localhost:8080/"
        },
        "outputId": "502d2c33-56f7-401b-b3ed-b2416327823f"
      },
      "source": [
        "stemmer = SnowballStemmer('english')\n",
        "stemmed = [stemmer.stem(token.lower()) for token in word_tokenize(doc)]\n",
        "\n",
        "print(stemmed)"
      ],
      "execution_count": 28,
      "outputs": [
        {
          "output_type": "stream",
          "text": [
            "['2020', 'has', 'been', 'a', 'year', 'of', 'great', 'challeng', 'for', 'so', 'mani', ',', 'but', 'it', '’', 's', 'not', 'all', 'negat', '.', 'around', 'the', 'world', ',', 'organ', 'and', 'their', 'workforc', 'have', 'risen', 'to', 'the', 'occas', ',', 'recogn', 'the', 'import', 'of', 'expand', 'their', 'knowledg', ',', 'take', 'on', 'new', 'task', ',', 'and', 'better', 'themselv', 'both', 'person', 'and', 'profession', '.', 'with', 'the', 'uptick', 'in', 'virtual', 'conferenc', ',', 'remot', 'work', ',', 'and', ',', 'for', 'some', ',', 'reenter', 'the', 'job', 'market', ',', 'new', 'technolog', 'adopt', 'was', 'acceler', ',', 'drive', 'the', 'workforc', 'to', 'build', 'new', 'skill', '.', 'while', '2020', 'was', 'the', 'year', 'of', 'the', 'global', 'covid-19', 'pandem', ',', 'it', 'will', 'also', 'be', 'commemor', 'as', 'the', 'year', 'onlin', 'learn', 'prevail', '.', 'as', 'vaccin', 'develop', 'persist', 'and', 'life', 'get', 'back', 'to', 'normal', ',', 'with', 'it', 'will', 'come', 'a', 'more', 'future-proof', 'workforc', 'readi', 'to', 'share', 'their', 'new', 'knowledg', 'with', 'the', 'world', '.', 'sinc', 'the', 'onset', 'of', 'the', 'pandem', ',', 'onlin', 'cours', 'and', 'program', 'have', 'seen', 'dramat', 'spike', 'in', 'consumpt', 'and', 'enrol', ',', 'and', 'o', '’', 'reilli', 'has', 'been', 'no', 'differ', '.', 'a', 'big', 'contributor', 'to', 'o', '’', 'reilli', '’', 's', 'continu', 'success', 'dure', 'these', 'unpreced', 'time', 'has', 'been', 'it', 'live', 'virtual', 'train', 'cours', '.', 'this', 'year', ',', 'more', 'than', '900,000', 'user', 'have', 'regist', 'for', 'live', 'event', 'through', 'o', '’', 'reilli', 'onlin', 'learning—a', '96', '%', 'increas', 'from', 'last', 'year', '.', 'this', 'function', 'also', 'allow', 'o', '’', 'reilli', 'to', 'introduc', 'it', 'superstream', 'seri', ',', 'a', 'new', 'lineup', 'of', 'virtual', 'confer', 'featur', 'expert', 'speaker', 'deliv', 'talk', 'and', 'train', 'session', 'on', 'the', 'most', 'import', 'topic', 'and', 'emerg', 'trend', 'in', 'technolog', '.', 'so', 'what', 'are', 'the', 'trend', 'drive', 'this', 'uptick', 'in', 'learn', '?', 'compani', 'are', 'increas', 'interest', 'in', 'understand', 'how', 'to', 'success', 'adjust', 'to', 'remot', 'work', 'and', 'effect', 'manag', 'time', '.', 'and', 'individu', 'o', '’', 'reilli', 'member', 'are', 'look', 'to', 'build', 'and', 'expand', 'on', 'their', 'technic', 'skill', 'in', 'everyth', 'from', 'softwar', 'architectur', 'and', 'microservic', 'to', 'ai', 'and', 'program', 'languag', '.', 'but', 'which', 'topic', 'are', 'the', 'brightest', 'mind', 'in', 'technolog', 'most', 'focus', 'on', '?', 'we', '’', 've', 'compil', 'the', 'top', '20', 'live', 'onlin', 'train', 'cours', 'of', '2020', 'to', 'shed', 'some', 'light', 'on', 'what', 'those', 'in', 'the', 'know', 'want', 'to', 'know', '.', 'top', '20', 'live', 'onlin', 'train', 'cours', 'of', '2020', 'for', 'a', 'more', 'in-depth', 'analysi', 'of', 'the', 'hot', 'technolog', 'topic', 'of', '2020', ',', 'base', 'on', 'data', 'from', 'o', '’', 'reilli', 'onlin', 'learn', ',', 'stay', 'tune', 'for', 'our', 'upcom', 'report', ',', 'wrap', 'up', '2020', '(', 'and', 'what', 'to', 'expect', 'for', '2021', ')', ':', 'trend', 'on', 'o', '’', 'reilli', 'onlin', 'learn', '.']\n"
          ],
          "name": "stdout"
        }
      ]
    },
    {
      "cell_type": "markdown",
      "metadata": {
        "id": "b2N4mHrZ4JJQ"
      },
      "source": [
        "### Iterate through each document, computing and printing the following document statistics for each.\n",
        "\n",
        "- Number of sentences\n",
        "- Average words per sentence\n",
        "- Vocabulary\n",
        "- Lexical Diversity"
      ]
    },
    {
      "cell_type": "code",
      "metadata": {
        "scrolled": false,
        "id": "7kBjbVZb4JJR",
        "colab": {
          "base_uri": "https://localhost:8080/"
        },
        "outputId": "798d8f19-2932-4959-cdb9-2aacbaedc6c1"
      },
      "source": [
        "sentences = len(sents)\n",
        "avg_words_sent = sum([len(sent) for sent in tokenized]) / sentences\n",
        "vocab = len(set([word.lower() for word in word_tokenize(doc)]))\n",
        "lex_div = vocab / len(word_tokenize(doc))\n",
        "print('Number of Sentences: ', sentences)\n",
        "print('Avg. words per sentence: ', avg_words_sent)\n",
        "print('Unique words (vocabulary): ', vocab)\n",
        "print('Lexical Diversity: ', lex_div)"
      ],
      "execution_count": 29,
      "outputs": [
        {
          "output_type": "stream",
          "text": [
            "Number of Sentences:  15\n",
            "Avg. words per sentence:  27.466666666666665\n",
            "Unique words (vocabulary):  198\n",
            "Lexical Diversity:  0.48058252427184467\n"
          ],
          "name": "stdout"
        }
      ]
    }
  ]
}