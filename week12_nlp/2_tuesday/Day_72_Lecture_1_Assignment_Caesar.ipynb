{
 "metadata": {
  "language_info": {
   "codemirror_mode": {
    "name": "ipython",
    "version": 3
   },
   "file_extension": ".py",
   "mimetype": "text/x-python",
   "name": "python",
   "nbconvert_exporter": "python",
   "pygments_lexer": "ipython3",
   "version": "3.8.3-final"
  },
  "orig_nbformat": 2,
  "kernelspec": {
   "name": "python3",
   "display_name": "Python 3",
   "language": "python"
  }
 },
 "nbformat": 4,
 "nbformat_minor": 2,
 "cells": [
  {
   "source": [
    "# Text Data Cleaning and Preprocessing Assignment"
   ],
   "cell_type": "markdown",
   "metadata": {}
  },
  {
   "cell_type": "code",
   "execution_count": 1,
   "metadata": {},
   "outputs": [
    {
     "output_type": "stream",
     "name": "stderr",
     "text": [
      "[nltk_data] Downloading package averaged_perceptron_tagger to\n[nltk_data]     C:\\Users\\c\\AppData\\Roaming\\nltk_data...\n[nltk_data]   Package averaged_perceptron_tagger is already up-to-\n[nltk_data]       date!\n[nltk_data] Downloading package stopwords to\n[nltk_data]     C:\\Users\\c\\AppData\\Roaming\\nltk_data...\n[nltk_data]   Package stopwords is already up-to-date!\n"
     ]
    },
    {
     "output_type": "execute_result",
     "data": {
      "text/plain": [
       "True"
      ]
     },
     "metadata": {},
     "execution_count": 1
    }
   ],
   "source": [
    "from nltk.corpus.reader.plaintext import PlaintextCorpusReader\n",
    "from nltk import sent_tokenize\n",
    "from nltk import word_tokenize\n",
    "from nltk import pos_tag\n",
    "from nltk.corpus import stopwords\n",
    "from nltk.stem.snowball import SnowballStemmer\n",
    "from nltk.stem.wordnet import WordNetLemmatizer\n",
    "import nltk\n",
    "nltk.download('averaged_perceptron_tagger')\n",
    "nltk.download('stopwords')"
   ]
  },
  {
   "source": [
    "### **Read the O'Reilly RSS plain text file articles into a corpus using the NLTK's PlaintextCorpusReader.**"
   ],
   "cell_type": "markdown",
   "metadata": {}
  },
  {
   "cell_type": "code",
   "execution_count": 2,
   "metadata": {},
   "outputs": [],
   "source": [
    "path = 'rss_articles/'\n",
    "doc_pattern = r'.*\\.txt'\n",
    "corpus = PlaintextCorpusReader(path, doc_pattern)"
   ]
  },
  {
   "source": [
    "### **Iterate through the fileids in the corpus, extract the raw text of each document, and store them in a list.**"
   ],
   "cell_type": "markdown",
   "metadata": {}
  },
  {
   "cell_type": "code",
   "execution_count": 3,
   "metadata": {},
   "outputs": [
    {
     "output_type": "execute_result",
     "data": {
      "text/plain": [
       "'2020 has been a year of great challenges for so many, but it’s not all negative. Around the world, organizations and their workforces have risen to the occasion, recognizing the importance of expanding their knowledge, taking on new tasks, and bettering themselves both personally and professionally. With the uptick in virtual conferencing, remote work, and, [&#8230;]'"
      ]
     },
     "metadata": {},
     "execution_count": 3
    }
   ],
   "source": [
    "corpus.raw(corpus.fileids()[0])"
   ]
  },
  {
   "cell_type": "code",
   "execution_count": 5,
   "metadata": {},
   "outputs": [],
   "source": [
    "docs = [corpus.raw(id_) for id_ in corpus.fileids()]"
   ]
  },
  {
   "source": [
    "### **Sentence tokenize each document in the list of documents.**"
   ],
   "cell_type": "markdown",
   "metadata": {}
  },
  {
   "cell_type": "code",
   "execution_count": 6,
   "metadata": {},
   "outputs": [],
   "source": [
    "sents = [sent_tokenize(doc) for doc in docs]"
   ]
  },
  {
   "source": [
    "### **Word tokenize each sentence within each document.**"
   ],
   "cell_type": "markdown",
   "metadata": {}
  },
  {
   "cell_type": "code",
   "execution_count": 7,
   "metadata": {},
   "outputs": [
    {
     "output_type": "stream",
     "name": "stdout",
     "text": [
      "[[['2020', 'has', 'been', 'a', 'year', 'of', 'great', 'challenges', 'for', 'so', 'many', ',', 'but', 'it', '’', 's', 'not', 'all', 'negative', '.'], ['Around', 'the', 'world', ',', 'organizations', 'and', 'their', 'workforces', 'have', 'risen', 'to', 'the', 'occasion', ',', 'recognizing', 'the', 'importance', 'of', 'expanding', 'their', 'knowledge', ',', 'taking', 'on', 'new', 'tasks', ',', 'and', 'bettering', 'themselves', 'both', 'personally', 'and', 'professionally', '.'], ['With', 'the', 'uptick', 'in', 'virtual', 'conferencing', ',', 'remote', 'work', ',', 'and', ',', '[', '&', '#', '8230', ';', ']']], [['It', 'has', 'long', 'seemed', 'to', 'me', 'that', 'functional', 'programming', 'is', ',', 'essentially', ',', 'programming', 'viewed', 'as', 'mathematics', '.'], ['Many', 'ideas', 'in', 'functional', 'programming', 'came', 'from', 'Alonzo', 'Church', '&', '#', '8217', ';', 's', 'Lambda', 'Calculus', ',', 'which', 'significantly', 'predates', 'anything', 'that', 'looks', 'remotely', 'like', 'a', 'modern', 'computer', '.'], ['Though', 'the', 'actual', 'history', 'of', 'computing', 'runs', 'differently', ':', 'in', 'the', 'early', 'days', 'of', 'computing', ',', 'Von', 'Neumann', '’', 's', 'ideas', 'were', '[', '&', '#', '8230', ';', ']']], [['Advanced', 'System', 'on', 'a', 'Chip', 'Lecture', 'Notes', '(', '2016', ')', '&', '#', '8212', ';', 'Topics', ':', '1', '.'], ['Basic', 'Processor', '&', '#', '38', ';', 'Memory', 'hierarchy', ';', '2', '.'], ['Advanced', 'Out-of-Order', 'Processor', ';', '3', '.'], ['Data-parallel', 'processors', ';', '4', '.'], ['Micro-controller', 'introduction', ';', '5', '.'], ['Multicore', ';', '6', '.'], ['RISC-V', 'core', ';', '7', '.'], ['Advanced', 'Multicore', ';', '8', '.'], ['Multicore', 'programming', ';', '9', '.'], ['Graphics', 'Processing', 'Unit', '(', 'GPU', ')', ';', '10', '.'], ['Heterogeneous', 'SoC', ';', '11', '.'], ['GPU', 'Programming', ';', '12', '.'], ['Application-Specific', 'Instruction-Set', 'Processor', '(', 'ASIP', ')', ';', '13', 'PULP', ':', '[', '&', '#', '8230', ';', ']']], [['The', 'programming', 'world', 'used', 'to', 'be', 'split', 'into', 'functional', 'languages', ',', 'object-oriented', 'languages', ',', 'and', 'everything', 'else', '(', 'mostly', 'procedural', 'languages', ')', '.'], ['One', '&', '#', '8220', ';', 'was', '&', '#', '8221', ';', 'a', 'functional', 'programmer', '(', 'at', 'least', 'as', 'a', 'hobby', ')', 'writing', 'Lisp', ',', 'Haskell', ',', 'or', 'Erlang', ';', 'or', 'one', '&', '#', '8220', ';', 'was', '&', '#', '8221', ';', 'an', 'OO', 'programmer', '(', 'at', 'least', 'professionally', ')', ',', 'writing', 'code', 'in', 'Java', 'or', 'C++', '.'], ['(', 'One', 'never', 'called', 'oneself', 'a', '“', 'procedural', 'programmer', '”', ';', '[', '&', '#', '8230', ';', ']']], [['Hypothesis', 'as', 'Liability', '&', '#', '8212', ';', 'Would', 'the', 'mental', 'focus', 'on', 'a', 'specific', 'hypothesis', 'prevent', 'us', 'from', 'making', 'a', 'discovery', '?'], ['To', 'test', 'this', ',', 'we', 'made', 'up', 'a', 'dataset', 'and', 'asked', 'students', 'to', 'analyze', 'it', '.'], ['[', '&', '#', '8230', ';', ']', 'The', 'most', 'notable', '“', 'discovery', '”', 'in', 'the', 'dataset', 'was', 'that', 'if', 'you', 'simply', 'plotted', 'the', 'number', 'of', 'steps', 'versus', 'the', 'BMI', ',', 'you', 'would', '[', '&', '#', '8230', ';', ']']], [['Dealing', 'with', 'Security', 'Holes', 'in', 'Chips', '&', '#', '8212', ';', 'system', 'security', 'starts', 'at', 'the', 'hardware', 'layer', '.'], ['Ubooquity', '&', '#', '8212', ';', 'free', 'home', 'server', 'for', 'your', 'comics', 'and', 'ebooks', 'library', '.'], ['&', '#', '8220', ';', 'Like', 'plex', 'for', 'books.', '&', '#', '8221', ';', 'Noisepage', '&', '#', '8212', ';', 'a', 'relational', 'database', 'management', 'system', 'developed', 'by', 'the', 'Carnegie', 'Mellon', 'Database', 'Group', '.'], ['The', 'research', 'goal', 'of', 'the', 'NoisePage', 'project', 'is', 'to', 'develop', 'high-performance', 'system', '[', '&', '#', '8230', ';', ']']], [['The', 'AI', 'Who', 'Mistook', 'a', 'Bald', 'Head', 'for', 'a', 'Football', '&', '#', '8212', ';', 'Second-tier', 'Scottish', 'football', 'club', 'Inverness', 'Caledonian', 'Thistle', 'doesn', '’', 't', 'have', 'a', 'camera', 'operator', 'for', 'matches', 'at', 'their', 'stadium', 'so', 'the', 'club', 'uses', 'an', 'AI-controlled', 'camera', 'that', '’', 's', 'programmed', 'to', 'follow', 'the', 'ball', 'for', 'their', 'broadcasts', '.'], ['But', 'in', 'a', 'recent', 'match', 'against', 'Ayr', 'United', ',', 'the', 'AI', 'controller', '[', '&', '#', '8230', ';', ']']], [['Perhaps', 'the', 'most', 'important', 'event', 'this', 'month', 'isn', '’', 't', 'technical', ',', 'but', 'the', 'start', 'of', 'the', 'US', 'Justice', 'Dept.', '’', 's', 'lawsuit', 'against', 'Google', '.'], ['That', 'will', 'certainly', 'play', 'out', 'over', 'years', 'rather', 'than', 'months', ',', 'but', 'it', '’', 's', 'significance', 'is', 'less', 'about', 'this', 'particular', 'case', 'than', 'the', 'idea', 'that', 'legal', 'and', 'regulatory', 'systems', 'will', 'play', 'a', 'large', 'role', 'in', 'the', 'evolution', '[', '&', '#', '8230', ';', ']']], [['Mutation', 'Testing', '&', '#', '8212', ';', 'in', 'this', 'paper', ',', 'we', 'semi-automatically', 'learn', 'error-inducing', 'patterns', 'from', 'a', 'corpus', 'of', 'common', 'Java', 'coding', 'errors', 'and', 'from', 'changes', 'that', 'caused', 'operational', 'anomalies', 'at', 'Facebook', 'specifically', '.'], ['We', 'combine', 'the', 'mutations', 'with', 'instrumentation', 'that', 'measures', 'which', 'tests', 'exactly', 'visited', 'the', 'mutated', 'piece', 'of', 'code', '.'], ['Results', 'on', 'more', 'than', '15,000', 'generated', 'mutants', 'show', 'that', '[', '&', '#', '8230', ';', ']']], [['Phantom', 'of', 'the', 'ADAS', '&', '#', '8212', ';', 'In', 'this', 'paper', ',', 'we', 'investigate', '&', '#', '8220', ';', 'split-second', 'phantom', 'attacks', ',', '&', '#', '8221', ';', 'a', 'scientific', 'gap', 'that', 'causes', 'two', 'commercial', 'advanced', 'driver-assistance', 'systems', '(', 'ADASs', ')', ',', 'Telsa', 'Model', 'X', '(', 'HW', '2.5', 'and', 'HW', '3', ')', 'and', 'Mobileye', '630', ',', 'to', 'treat', 'a', 'depthless', 'object', 'that', 'appears', 'for', 'a', 'few', 'milliseconds', 'as', 'a', 'real', 'obstacle/object', '.'], ['Turns', 'out', 'neural', 'networks', 'can', '[', '&', '#', '8230', ';', ']']], [['&', '#', '8220', ';', 'On', 'peut', 'interroger', 'n', '&', '#', '8217', ';', 'importe', 'qui', ',', 'dans', 'n', '&', '#', '8217', ';', 'importe', 'quel', 'état', ';', 'ce', 'sont', 'rarement', 'les', 'réponses', 'qui', 'apportent', 'la', 'vérité', ',', 'mais', 'l', '&', '#', '8217', ';', 'enchaînement', 'des', 'questions.', '&', '#', '8220', ';', '&', '#', '8220', ';', 'You', 'can', 'interrogate', 'anyone', ',', 'no', 'matter', 'what', 'their', 'state', 'of', 'being.', '&', '#', '160', ';', 'It', '&', '#', '8217', ';', 's', 'rarely', 'their', 'answers', 'that', 'unveil', 'the', 'truth', ',', 'but', 'the', 'sequence', 'of', 'questions', 'that', 'you', 'have', 'to', 'ask.', '&', '#', '8220', ';', '–', '&', '#', '160', ';', 'Inspector', 'Pastor', 'in', 'La', '[', '&', '#', '8230', ';', ']']], [['Justice', 'Department', 'Antitrust', 'Filing', 'Against', 'Google', '&', '#', '8212', ';', 'Claims', 'advertising', 'was', 'an', 'artificially', 'limited', 'market', 'because', 'of', 'their', 'exclusivity', 'deals', ',', 'including', 'the', 'Android', 'anti-forking', 'arrangements', 'and', 'Browser', 'paid-default-search', 'deals', '.'], ['New', 'York', 'Times', 'has', 'a', 'write-up', '.'], ['This', 'may', 'be', 'more', 'important', ',', 'historically', ',', 'than', 'the', 'election', 'results', '.'], ['Differential', 'Dataflow', '&', '#', '8212', ';', 'Differential', 'dataflow', 'programs', 'look', 'like', 'many', 'standard', '&', '#', '8220', ';', 'big', '[', '&', '#', '8230', ';', ']']], [['NAND', 'Game', '&', '#', '8212', ';', 'You', 'start', 'with', 'a', 'single', 'component', ',', 'the', 'nand', 'gate', '.'], ['Using', 'this', 'as', 'the', 'fundamental', 'building', 'block', ',', 'you', 'will', 'build', 'all', 'other', 'components', 'necessary', '.'], ['(', 'See', 'also', 'NAND', 'to', 'Tetris', ')', 'Facebook', '&', '#', '8217', ';', 's', 'Game', 'AI', '&', '#', '8212', ';', 'today', 'we', 'are', 'unveiling', 'Recursive', 'Belief-based', 'Learning', '(', 'ReBeL', ')', ',', 'a', 'general', 'RL+Search', 'algorithm', 'that', 'can', 'work', 'in', 'all', 'two-player', 'zero-sum', 'games', ',', '[', '&', '#', '8230', ';', ']']], [['Automerge', '&', '#', '8212', ';', '(', 'Github', ')', 'Data', 'structure', 'library', 'for', 'Javascript', '(', 'and', 'Rust', ')', 'providing', 'Conflict-Free', 'Replicated', 'Data', 'Types', '(', 'CRDTs', ')', '.'], ['Automerge', 'is', 'designed', 'for', 'creating', 'local-first', 'software', ',', 'i.e', '.'], ['software', 'that', 'treats', 'a', 'user', '&', '#', '8217', ';', 's', 'local', 'copy', 'of', 'their', 'data', '(', 'on', 'their', 'own', 'device', ')', 'as', 'primary', ',', 'rather', 'than', 'centralising', 'data', 'in', 'a', 'cloud', 'service', '.'], ['Alan', 'Turing', '&', '#', '8212', ';', '(', 'BBC', ')', 'An', 'excellent', 'episode', '[', '&', '#', '8230', ';', ']']], [['Data', 'Organization', 'in', 'Spreadsheets', '&', '#', '8212', ';', 'Focusing', 'on', 'the', 'data', 'entry', 'and', 'storage', 'aspects', ',', 'this', 'article', 'offers', 'practical', 'recommendations', 'for', 'organizing', 'spreadsheet', 'data', 'to', 'reduce', 'errors', 'and', 'ease', 'later', 'analyses', '.'], ['The', 'basic', 'principles', 'are', ':', 'be', 'consistent', ',', 'write', 'dates', 'like', 'YYYY-MM-DD', ',', 'do', 'not', 'leave', 'any', 'cells', 'empty', ',', 'put', 'just', 'one', 'thing', 'in', 'a', 'cell', ',', 'organize', 'the', 'data', '[', '&', '#', '8230', ';', ']']], [['The', 'field', 'of', 'AI', 'product', 'management', 'continues', 'to', 'gain', 'momentum', '.'], ['As', 'the', 'AI', 'product', 'management', 'role', 'advances', 'in', 'maturity', ',', 'more', 'and', 'more', 'information', 'and', 'advice', 'has', 'become', 'available', '.'], ['Our', 'previous', 'articles', 'in', 'this', 'series', 'introduce', 'our', 'own', 'take', 'on', 'AI', 'product', 'management', ',', 'discuss', 'the', 'skills', 'that', 'AI', 'product', 'managers', 'need', ',', 'and', 'detail', 'how', 'to', 'bring', '[', '&', '#', '8230', ';', ']']], [['T-SQL', 'in', 'SQLite', '&', '#', '8212', ';', 'CG/SQL', 'is', 'a', 'code', 'generation', 'system', 'for', 'the', 'popular', 'SQLite', 'library', 'that', 'allows', 'developers', 'to', 'write', 'stored', 'procedures', 'in', 'a', 'variant', 'of', 'Transact-SQL', '(', 'T-SQL', ')', 'and', 'compile', 'them', 'into', 'C', 'code', 'that', 'uses', 'SQLite', '’', 's', 'C', 'API', 'to', 'do', 'the', 'coded', 'operations', '.'], ['CG/SQL', 'enables', 'engineers', 'to', 'create', 'highly', 'complex', 'stored', 'procedures', 'with', 'very', '[', '&', '#', '8230', ';', ']']], [['The', 'release', 'of', 'GPT-3', 'has', 'reinvigorated', 'a', 'discussion', 'of', 'creativity', 'and', 'artificial', 'intelligence', '.'], ['That', '&', '#', '8217', ';', 's', 'a', 'good', 'discussion', 'to', 'have', ',', 'primarily', 'because', 'it', 'forces', 'us', 'to', 'think', 'carefully', 'about', 'what', 'we', 'mean', 'when', 'we', 'use', 'words', 'like', '&', '#', '8220', ';', 'creativity', '&', '#', '8221', ';', 'and', '&', '#', '8220', ';', 'art.', '&', '#', '8221', ';', 'As', 'I', '&', '#', '8217', ';', 've', 'argued', 'in', 'the', 'past', ',', 'each', 'time', 'we', 'have', 'this', 'discussion', ',', 'we', 'end', 'up', 'raising', '[', '&', '#', '8230', ';', ']']], [['Algorithms', 'Can', 'Collude', '&', '#', '8212', ';', 'To', 'analyze', 'the', 'possible', 'consequences', ',', 'we', 'study', 'experimentally', 'the', 'behavior', 'of', 'algorithms', 'powered', 'by', 'Artificial', 'Intelligence', '(', 'Q-learning', ')', 'in', 'a', 'workhorse', 'oligopoly', 'model', 'of', 'repeated', 'price', 'competition', '.'], ['We', 'find', 'that', 'the', 'algorithms', 'consistently', 'learn', 'to', 'charge', 'supracompetitive', 'prices', ',', 'without', 'communicating', 'with', 'one', 'another', '.'], ['The', 'high', 'prices', 'are', 'sustained', 'by', 'collusive', 'strategies', 'with', '[', '&', '#', '8230', ';', ']']], [['Single', 'Device', 'Behaves', 'Like', 'a', 'Neuron', '&', '#', '8212', ';', 'On', 'its', 'own', ',', 'using', 'a', 'simple', 'DC', 'voltage', 'as', 'the', 'input', ',', 'the', 'device', 'outputs', 'not', 'just', 'simple', 'spikes', ',', 'as', 'some', 'other', 'devices', 'can', 'manage', ',', 'but', 'the', 'whole', 'array', 'of', 'neural', 'activity—bursts', 'of', 'spikes', ',', 'self-sustained', 'oscillations', ',', 'and', 'other', 'stuff', 'that', 'goes', 'on', 'in', 'your', 'brain', '.'], ['(', 'Paper', ')', 'USB-C', 'Is', 'a', '[', '&', '#', '8230', ';', ']']], [['This', 'month', ',', 'the', 'big', 'surprise', 'is', 'that', 'there', '’', 's', 'no', 'significant', 'technology', 'news', 'about', 'COVID', '.'], ['And', 'there', 'is', 'more', 'news', 'than', 'ever', 'about', 'legislation', 'and', 'regulation', '.'], ['I', 'suspect', 'that', 'the', 'legal', 'system', 'will', 'be', 'a', 'big', 'driver', 'for', 'technology', 'over', 'the', 'next', 'year', '.'], ['Another', 'trend', 'that', 'doesn', '’', 't', 'quite', 'count', 'as', 'technology', 'news', 'but', 'that', 'definitely', 'bears', '[', '&', '#', '8230', ';', ']']], [['When', 'Coffeemakers', 'Demand', 'Ransom', '&', '#', '8212', ';', 'So', 'he', 'then', 'examined', 'the', 'mechanism', 'the', 'coffee', 'maker', 'used', 'to', 'receive', 'firmware', 'updates', '.'], ['It', 'turned', 'out', 'they', 'were', 'received', 'from', 'the', 'phone', 'with—you', 'guessed', 'it—no', 'encryption', ',', 'no', 'authentication', ',', 'and', 'no', 'code', 'signing', '.'], ['Nothing', 'remarkable', 'here', 'other', 'than', 'it', '&', '#', '8217', ';', 's', '2020', 'and', 'companies', 'still', 'put', 'crappy', 'software', 'into', 'their', 'hardware', '.'], ['Returns', '[', '&', '#', '8230', ';', ']']], [['Adapton', '&', '#', '8212', ';', 'A', 'program', 'P', 'is', 'incremental', 'if', 'repeating', 'P', 'with', 'a', 'changed', 'input', 'is', 'faster', 'than', 'from-scratch', 'computation', '.'], ['Adapton', 'offers', 'programming', 'language', 'abstractions', 'for', 'incremental', 'computation', '.'], ['Migration', 'Lessons', 'Learned', '&', '#', '8212', ';', 'Keep', 'your', 'migration', 'scripts', 'away', 'from', 'your', 'production', 'code', ';', 'Keep', 'it', 'low-tech', ',', 'don', '’', 't', 'deserialize', ';', 'Write', 'tests', 'to', 'exercise', 'each', 'migration', 'script', 'individually', ';', 'Consider', 'running', '[', '&', '#', '8230', ';', ']']], [['AlphaFold', '&', '#', '8212', ';', 'This', 'is', 'astonishing', ':', 'protein-folding', 'solved', 'by', 'Google', '&', '#', '8217', ';', 's', 'DeepMind', '.'], ['Figuring', 'out', 'what', 'shapes', 'proteins', 'fold', 'into', 'is', 'known', 'as', 'the', '“', 'protein', 'folding', 'problem', '”', ',', 'and', 'has', 'stood', 'as', 'a', 'grand', 'challenge', 'in', 'biology', 'for', 'the', 'past', '50', 'years', '.'], ['In', 'a', 'major', 'scientific', 'advance', ',', 'the', 'latest', 'version', 'of', 'our', 'AI', 'system', 'AlphaFold', 'has', 'been', 'recognised', 'as', '[', '&', '#', '8230', ';', ']']], [['CS349', '&', '#', '8211', ';', 'Contemporary', 'Issues', 'in', 'Computer', 'Science', '&', '#', '8212', ';', 'This', 'class', 'examines', 'ethical', 'frameworks', ',', 'modern', 'ethical', 'concerns', 'related', 'to', 'computer', 'science', 'and', 'technology', ',', 'and', 'clear', 'oral', 'and', 'written', 'communication', '.'], ['Topics', 'we', 'will', 'explore', 'include', 'policy', 'vacuums', 'created', 'by', 'new', 'technology', ',', 'copyright', 'and', 'patent', ',', 'software', 'bugs', 'and', 'liability', ',', 'freedom', 'of', 'speech', ',', 'privacy', ',', 'security', ',', 'employment', 'and', 'job', 'markets', ',', '[', '&', '#', '8230', ';', ']']], [['A', 'Concurrency', 'Cost', 'Hierarchy', '&', '#', '8212', ';', 'a', 'higher', 'level', 'taxonomy', 'that', 'I', 'use', 'to', 'think', 'about', 'concurrent', 'performance', '.'], ['We', '’', 'll', 'group', 'the', 'performance', 'of', 'concurrent', 'operations', 'into', 'six', 'broad', 'levels', 'running', 'from', 'fast', 'to', 'slow', ',', 'with', 'each', 'level', 'differing', 'from', 'its', 'neighbors', 'by', 'roughly', 'an', 'order', 'of', 'magnitude', 'in', 'performance', '.'], ['They', 'are', ':', 'Contended', 'Atomics', ',', 'System', 'Calls', ',', 'Implied', '[', '&', '#', '8230', ';', ']']], [['AI', 'Benefits', 'and', 'Stakeholders', 'AI', 'is', 'a', 'field', 'where', 'value', ',', 'in', 'the', 'form', 'of', 'outcomes', 'and', 'their', 'resulting', 'benefits', ',', 'is', 'created', 'by', 'machines', 'exhibiting', 'the', 'ability', 'to', 'learn', 'and', '“', 'understand', ',', '”', 'and', 'to', 'use', 'the', 'knowledge', 'learned', 'to', 'carry', 'out', 'tasks', 'or', 'achieve', 'goals', '.'], ['AI-generated', 'benefits', 'can', 'be', 'realized', 'by', 'defining', 'and', 'achieving', 'appropriate', 'goals', '.'], ['These', '[', '&', '#', '8230', ';', ']']], [['Accurately', 'Lipsync', 'Video', 'to', 'Any', 'Speech', '&', '#', '8212', ';', 'In', 'our', 'paper', ',', 'A', 'Lip', 'Sync', 'Expert', 'Is', 'All', 'You', 'Need', 'for', 'Speech', 'to', 'Lip', 'Generation', 'In', 'the', 'Wild', ',', 'ACM', 'Multimedia', '2020', ',', 'we', 'aim', 'to', 'lip-sync', 'unconstrained', 'videos', 'in', 'the', 'wild', 'to', 'any', 'desired', 'target', 'speech', '.'], ['(', 'Paper', ')', 'Impressive', '.'], ['Temporal', '&', '#', '8212', ';', 'Open', 'source', '&', '#', '8220', ';', 'workflow-as-code', '&', '#', '8221', ';', 'engine', '.'], ['I', 'can', '&', '#', '8217', ';', 't', 'decide', 'if', '[', '&', '#', '8230', ';', ']']], [['Things', 'I', 'Learned', 'to', 'Become', 'a', 'Senior', 'Software', 'Engineer', '&', '#', '8212', ';', 'Full', 'of', 'relatable', 'growth', 'moments', ',', 'such', 'as', 'changing', 'your', 'code', 'to', 'make', 'the', 'test', 'pass', 'vs', 'understanding', 'why', 'the', 'test', 'failed', '.'], ['The', 'Future', 'is', 'Software', 'Engineers', 'Who', 'Can', '&', '#', '8217', ';', 't', 'Code', '&', '#', '8212', ';', '“', 'There', 'are', 'lot', 'of', 'definitions', 'of', 'what', 'a', 'developer', 'is', '[', '&', '#', '8230', ';', ']', 'It', '’', 's', 'not', 'just', 'people', '[', '&', '#', '8230', ';', ']']], [['In', 'a', 'conversation', 'with', 'Kevlin', 'Henney', ',', 'we', 'started', 'talking', 'about', 'the', 'kinds', 'of', 'user', 'interfaces', 'that', 'might', 'work', 'for', 'AI-assisted', 'programming', '.'], ['This', 'is', 'a', 'significant', 'problem', ':', 'neither', 'of', 'us', 'were', 'aware', 'of', 'any', 'significant', 'work', 'on', 'user', 'interfaces', 'that', 'support', 'collaboration', '.'], ['However', ',', 'as', 'software', 'developers', ',', 'many', 'of', 'us', 'have', 'been', 'practicing', 'effective', 'collaboration', 'for', 'years', '.'], ['[', '&', '#', '8230', ';', ']']], [['Inside', 'the', 'Digital', 'Pregnancy', 'Test', '&', '#', '8212', ';', '&', '#', '8230', ';', 'is', 'a', 'paper', 'pregnancy', 'test', 'and', 'watch-battery-powered', 'microcontroller', 'connected', 'to', 'three', 'LEDs', ',', 'a', 'photo-cell', ',', 'and', 'an', 'LCD', 'display', '.'], ['That', '(', '8-bit', ')', 'microcontroller', 'runs', 'at', '4MHz', ',', 'almost', 'as', 'fast', 'as', 'an', 'IBM', 'PC', 'did', '.'], ['The', 'Incredible', 'Proof', 'Machine', '&', '#', '8212', ';', 'Fun', 'game', '(', 'modelled', 'on', 'The', 'Incredible', 'Machine', 'from', 'the', '90s', ')', 'that', '[', '&', '#', '8230', ';', ']']], [['VSCode', 'Debug', 'Visualizer', '&', '#', '8212', ';', 'A', 'VS', 'Code', 'extension', 'for', 'visualizing', 'data', 'structures', 'while', 'debugging', '.'], ['Like', 'the', 'VS', 'Code', '&', '#', '8217', ';', 's', 'watch', 'view', ',', 'but', 'with', 'rich', 'visualizations', 'of', 'the', 'watched', 'value', '.'], ['The', 'screencast', 'is', 'wow', '.'], ['Userland', '&', '#', '8212', ';', 'an', 'integrated', 'dataflow', 'environment', 'for', 'end-users', '.'], ['It', 'allows', 'users', 'to', 'interact', 'with', 'modules', 'that', 'implement', 'functionality', 'for', 'different', 'domains', 'from', 'a', '[', '&', '#', '8230', ';', ']']], [['Compared', 'to', 'the', 'last', 'few', 'months', ',', 'there', 'are', 'relatively', 'few', 'items', 'about', 'COVID', '.'], ['And', 'almost', 'no', 'items', 'about', 'Blockchains', ',', 'though', 'the', 'one', 'item', 'I', '’', 've', 'listed', ',', 'about', 'China', '’', 's', 'Blockchain', 'Services', 'Network', ',', 'may', 'be', 'the', 'most', 'important', 'item', 'here', '.'], ['I', '’', 'm', 'seeing', 'a', 'steady', 'stream', 'of', 'articles', 'about', 'various', 'forms', 'of', 'no-code/low-code', 'programming', '.'], ['While', 'many', 'programmers', 'scoff', 'at', '[', '&', '#', '8230', ';', ']']], [['Activity', 'Watch', '&', '#', '8212', ';', 'Open', 'source', ',', 'privacy-first', ',', 'cross-platform', 'app', 'that', 'automatically', 'tracks', 'how', 'you', 'spend', 'time', 'on', 'your', 'devices', '.'], ['Natural', 'Language', 'Database', 'Queries', '&', '#', '8212', ';', 'An', 'interesting', 'comment', 'thread', 'on', 'Hacker', 'News', '.'], ['Sample', 'comments', ':', 'I', '&', '#', '8217', ';', 've', 'done', 'some', 'previous', 'digging', 'into', 'natural', 'language', 'SQL', 'queries', '&', '#', '8212', ';', 'there', '&', '#', '8217', ';', 's', 'a', 'good', 'amount', 'of', 'research', 'around', 'this', '.'], ['But', 'the', 'error', 'rate', '[', '&', '#', '8230', ';', ']']], [['This', 'month', '’', 's', 'collection', 'of', 'interesting', 'articles', 'that', 'point', 'to', 'important', 'trends', 'is', 'dominated', 'by', 'AI', '.'], ['That', '’', 's', 'not', 'surprising', ';', 'AI', 'has', 'probably', 'been', 'the', 'biggest', 'single', 'category', 'all', 'year', '.'], ['But', 'its', 'dominance', 'over', 'other', 'topics', 'seems', 'to', 'be', 'increasing', '.'], ['That', '’', 's', 'partly', 'because', 'there', '’', 's', 'more', 'research', 'into', 'why', 'AI', 'fails', ';', 'partly', 'because', 'we', '’', 're', 'beginning', 'to', 'see', 'AI', '[', '&', '#', '8230', ';', ']']], [['The', 'Covid-19', 'pandemic', 'has', 'changed', 'how', 'people', 'and', 'businesses', 'spend', 'and', 'operate.', '&', '#', '160', ';', 'Over', 'the', 'coming', 'pages', 'we', '&', '#', '8217', ';', 'll', 'explore', 'ways', 'in', 'which', 'our', 'current', 'world', 'is', 'already', 'very', 'different', 'from', 'the', 'one', 'we', 'knew', 'just', 'a', 'few', 'months', 'ago', ',', 'as', 'well', 'as', 'predictions', 'of', 'our', '&', '#', '8220', ';', 'new', 'normal', '&', '#', '8221', ';', 'once', 'the', 'proverbial', 'boat', 'stops', 'rocking.', '&', '#', '160', ';', 'Specifically', ',', 'we', '&', '#', '8217', ';', 'll', 'see', '[', '&', '#', '8230', ';', ']']], [['Wooden', 'Turing', 'Machine', '&', '#', '8212', ';', '(', 'YouTube', ')', 'Description', 'of', 'how', 'it', 'works', '.'], ['It', 'implements', 'three', 'data', 'elements', 'and', 'two', 'states', ',', 'sufficient', 'for', 'any', 'calculation', '(', 'discussed', 'here', ')', '&', '#', '62', ';', 'Not', 'an', 'infinite', 'tape', ',', 'because', '&', '#', '8230', ';', 'wood', '.'], ['Emotional', 'Resiliency', 'in', 'Leadership', 'Report', '2020', '&', '#', '8212', ';', 'Very', 'interesting', 'report', ',', 'based', 'on', 'survey', 'and', 'science', 'of', 'burnout', '.'], ['It', 'is', 'primarily', 'written', 'for', 'the', 'survey', '[', '&', '#', '8230', ';', ']']], [['The', '212', 'Story', 'Tower', 'That', 'Isn', '&', '#', '8217', ';', 't', 'in', 'Suburban', 'Melbourne', '&', '#', '8212', ';', 'A', 'typo', 'in', 'a', 'Open', 'Street', 'Map', 'submission', 'becomes', 'a', 'surprising', 'monolith', 'in', 'Microsoft', 'Flight', 'Simulator', '.'], ['Fairness', 'in', 'Machine', 'Learning', '&', '#', '8212', ';', 'Draft', 'text', 'for', 'a', 'book', 'on', 'the', 'subject', '.'], ['The', 'Social', 'Architecture', 'of', 'Impactful', 'Communities', '&', '#', '8212', ';', 'A', 'really', 'good', 'set', 'of', 'models', 'for', 'communities', '.'], ['Individuals', '[', '&', '#', '8230', ';', ']']], [['The', 'Design', 'Space', 'of', 'Computational', 'Notebooks', '&', '#', '8212', ';', 'Looked', 'at', '60', 'notebook', 'systems', 'and', 'grouped', '10', 'design', 'space', 'dimensions', 'into', 'four', 'major', 'stages', 'of', 'a', 'data', 'science', 'workflow', ':', 'importing', 'data', 'into', 'notebooks', '(', 'data', 'sources', ')', ',', 'editing', 'code', 'and', 'prose', '(', 'editor', 'style', ',', 'supported', 'programming', 'languages', ',', 'versioning', ',', 'collaboration', ')', ',', 'running', 'code', 'to', 'generate', 'outputs', '(', 'cell', 'execution', 'order', ',', 'liveness', '[', '6', ']', ',', 'execution', '[', '&', '#', '8230', ';', ']']], [['So', 'you', 'need', 'to', 'redesign', 'your', 'company', '’', 's', 'data', 'infrastructure', '.'], ['Do', 'you', 'buy', 'a', 'solution', 'from', 'a', 'big', 'integration', 'company', 'like', 'IBM', ',', 'Cloudera', ',', 'or', 'Amazon', '?', '&', '#', '160', ';', 'Do', 'you', 'engage', 'many', 'small', 'startups', ',', 'each', 'focused', 'on', 'one', 'part', 'of', 'the', 'problem', '?', '&', '#', '160', ';', 'A', 'little', 'of', 'both', '?', '&', '#', '160', ';', 'We', 'see', 'trends', 'shifting', 'towards', 'focused', 'best-of-breed', 'platforms', '.'], ['That', 'is', ',', 'products', 'that', 'are', '[', '&', '#', '8230', ';', ']']], [['Sinter', '&', '#', '8212', ';', 'Sinter', 'uses', 'the', 'user-mode', 'EndpointSecurity', 'API', 'to', 'subscribe', 'to', 'and', 'receive', 'authorization', 'callbacks', 'from', 'the', 'macOS', 'kernel', ',', 'for', 'a', 'set', 'of', 'security-relevant', 'event', 'types', '.'], ['The', 'current', 'version', 'of', 'Sinter', 'supports', 'allowing/denying', 'process', 'executions', ';', 'in', 'future', 'versions', 'we', 'intend', 'to', 'support', 'other', 'types', 'of', 'events', 'such', 'as', 'file', ',', 'socket', ',', 'and', 'kernel', 'events', '.'], ['Inspired', 'by', '[', '&', '#', '8230', ';', ']']], [['StackOverflow', '&', '#', '8217', ';', 's', '2020', 'developer', 'survey', 'included', 'a', 'table', 'showing', 'the', '&', '#', '160', ';', '&', '#', '8220', ';', 'most', 'loved', ',', 'dreaded', ',', 'and', 'wanted', 'languages.', '&', '#', '8221', ';', 'Loved', 'and', 'wanted', 'languages', 'are', ',', 'well', ',', 'sort', 'of', 'boring', '.'], ['The', 'programming', 'languages', 'we', 'dread', 'are', 'a', 'lot', 'more', 'interesting', '.'], ['As', 'Tolstoy', 'said', ',', '“', 'All', 'happy', 'families', 'are', 'alike', ';', 'each', 'unhappy', 'family', 'is', 'unhappy', 'in', 'its', 'own', 'way.', '”', 'So', 'what', 'are', 'these', '[', '&', '#', '8230', ';', ']']], [['ImmuDB', '&', '#', '8212', ';', 'lightweight', ',', 'high-speed', 'immutable', 'database', 'for', 'systems', 'and', 'applications', '.'], ['Open', 'Source', 'and', 'easy', 'to', 'integrate', 'into', 'any', 'existing', 'application', '.'], ['Latest', 'version', 'provides', 'multitenancy', '.'], ['Smart', 'Mask', '&', '#', '8212', ';', '(', 'CNN', ')', 'Japanese', 'startup', 'Donut', 'Robotics', '[', '&', '#', '8230', ';', ']', 'created', 'a', 'smart', 'mask', '—', 'a', 'high-tech', 'upgrade', 'to', 'standard', 'face', 'coverings', ',', 'designed', 'to', 'make', 'communication', 'and', 'social', 'distancing', 'easier', '.'], ['In', 'conjunction', '[', '&', '#', '8230', ';', ']']], [['Surprising', 'Economics', 'of', 'Load-Balanced', 'Systems', '&', '#', '8212', ';', 'I', 'have', 'a', 'system', 'with', 'c', 'servers', ',', 'each', 'of', 'which', 'can', 'only', 'handle', 'a', 'single', 'concurrent', 'request', ',', 'and', 'has', 'no', 'internal', 'queuing', '.'], ['The', 'servers', 'sit', 'behind', 'a', 'load', 'balancer', ',', 'which', 'contains', 'an', 'infinite', 'queue', '.'], ['An', 'unlimited', 'number', 'of', 'clients', 'offer', 'c', '*', '0.8', 'requests', 'per', 'second', 'to', 'the', 'load', '[', '&', '#', '8230', ';', ']']], [['Tales', 'of', 'the', 'Autistic', 'Developer', '&', '#', '8211', ';', 'Senior', 'Developer', '&', '#', '8212', ';', 'Interesting', 'article', 'from', 'a', 'senior', 'developer', 'with', 'Autism', 'Spectrum', 'Disorder', '.'], ['They', 'talk', 'about', 'the', 'problems', 'it', 'causes', ',', 'how', 'they', 'solved', 'each', 'problem', ',', 'and', 'how', 'those', 'problems', 'even', 'became', 'strengths', '.'], ['You', 'can', '&', '#', '8217', ';', 't', 'read', 'this', 'and', 'not', 'have', 'more', 'empathy', 'for', 'neurodiverse', 'programmers', '.'], ['NyanSat', ':', 'The', 'Open', 'Source', 'LEO', '[', '&', '#', '8230', ';', ']']], [['Brian', 'Kernighan', 'Interviews', 'Ken', 'Thompson', '&', '#', '8212', ';', 'From', 'a', 'fun', 'interview', ':', 'McIlroy', 'keeps', 'coming', 'up', '.'], ['He', '&', '#', '8217', ';', 's', 'the', 'smartest', 'of', 'all', 'of', 'us', 'and', 'the', 'least', 'remembered', '(', 'or', 'written', 'down', ')', '&', '#', '8230', ';', 'McIlroy', 'sat', 'there', 'and', 'wrote', '&', '#', '8212', ';', 'on', 'a', 'piece', 'of', 'paper', ',', 'now', ',', 'not', 'on', 'a', 'computer', '&', '#', '8212', ';', 'TMG', '[', 'a', 'proprietary', 'yacc-like', 'program', ']', 'written', 'in', 'TMG', '&', '#', '8230', ';', 'And', 'then', '!'], ['He', 'now', '[', '&', '#', '8230', ';', ']']], [['I', 'thought', 'July', 'was', 'going', 'to', 'be', 'a', 'dull', 'month', ',', 'but', 'I', '’', 'm', 'wrong', 'again', '.'], ['COVID-specific', 'technology', 'seems', 'to', 'be', 'drying', 'up', ',', 'though', 'there', '’', 's', 'a', 'fascinating', 'report', 'about', 'a', 'DIY', 'vaccine', '.'], ['(', 'Developed', 'by', 'serious', 'scientists', ',', 'so', 'don', '’', 't', 'try', 'this', 'at', 'home', '.', ')'], ['There', '’', 's', 'a', 'lot', 'of', 'news', 'about', 'AI', ',', 'and', 'specifically', ',', 'about', 'the', 'GPT-2', 'and', 'GPT-3', 'language', '[', '&', '#', '8230', ';', ']']], [['Migrating', 'a', '40TB', 'SQL', 'Server', 'Database', '&', '#', '8212', ';', 'A', 'horror', 'story', 'to', 'tell', 'around', 'the', 'campfire', '.'], ['I', 'was', 'struck', 'by', 'the', 'observation', 'in', 'this', 'Hacker', 'News', 'comment', 'that', 'It', '&', '#', '8217', ';', 's', 'typical', 'that', 'a', 'log', 'will', 'be', 'accessed', 'zero', 'times', '.'], ['Collecting', ',', 'aggregating', ',', 'and', 'indexing', 'logs', 'is', 'usually', 'a', 'mistake', 'made', 'by', 'people', 'who', 'aren', '&', '#', '8217', ';', 't', 'clear', 'on', 'the', 'use', '[', '&', '#', '8230', ';', ']']], [['Turning', 'the', 'IDE', 'Inside', 'Out', 'with', 'Datalog', '&', '#', '8212', ';', 'tl', ';', 'dr', ':', 'I', 'made', 'a', 'prototype', 'IDE', 'in', 'which', 'language', 'semantics', 'are', 'specified', 'in', 'datalog', ',', 'powered', 'by', 'a', 'datalog', 'interpreter', 'written', 'in', 'TypeScript', ',', 'running', 'the', 'browser', '.'], ['Demo', 'here', '.'], ['Luckysheet', '&', '#', '8212', ';', 'Open', 'source', 'web', 'spreadsheet', '.'], ['Introducing', 'the', 'Model', 'Card', 'Toolkit', 'for', 'Easier', 'Model', 'Transparency', 'Reporting', '&', '#', '8212', ';', 'Model', 'Cards', '[', '&', '#', '8230', ';', ']', '[', '&', '#', '8230', ';', ']']], [['The', 'Golden', 'Rule', 'of', 'Software', 'Quality', '&', '#', '8212', ';', 'Prefer', 'to', 'push', 'fixes', 'upstream', 'instead', 'of', 'working', 'around', 'problems', 'downstream', '.'], ['That', 'is', 'to', 'say', ':', 'if', 'you', 'find', 'a', 'shortcoming', 'in', 'a', 'package', 'you', 'use', ',', 'then', 'you', 'should', 'fix', 'it', 'and', 'contribute', 'your', 'fix', 'to', 'that', 'package', '.'], ['Don', '&', '#', '8217', ';', 't', 'simply', 'workaround', 'it', 'in', 'your', 'code', '.'], ['The', 'Coining', 'of', 'the', '[', '&', '#', '8230', ';', ']']], [['The', 'Core', 'Responsibilities', 'of', 'the', 'AI', 'Product', 'Manager', 'Product', 'Managers', 'are', 'responsible', 'for', 'the', 'successful', 'development', ',', 'testing', ',', 'release', ',', 'and', 'adoption', 'of', 'a', 'product', ',', 'and', 'for', 'leading', 'the', 'team', 'that', 'implements', 'those', 'milestones', '.'], ['Product', 'managers', 'for', 'AI', 'must', 'satisfy', 'these', 'same', 'responsibilities', ',', 'tuned', 'for', 'the', 'AI', 'lifecycle', '.'], ['In', 'the', 'first', 'two', 'articles', 'in', 'this', 'series', ',', 'we', '[', '&', '#', '8230', ';', ']']], [['A', 'recent', 'article', 'in', 'The', 'Verge', 'discussed', 'PULSE', ',', 'an', 'algorithm', 'for', '“', 'upsampling', '”', 'digital', 'images', '.'], ['PULSE', ',', 'when', 'applied', 'to', 'a', 'low-resolution', 'image', 'of', 'Barack', 'Obama', ',', 'recreated', 'a', 'White', 'man', '&', '#', '8217', ';', 's', 'face', ';', 'applied', 'to', 'Alexandria', 'Ocasio-Cortez', ',', 'it', 'built', 'a', 'White', 'woman', '&', '#', '8217', ';', 's', 'face', '.'], ['It', 'had', 'similar', 'problems', 'with', 'other', 'images', 'of', 'Black', 'and', 'Hispanic', 'people', ',', 'frequently', 'giving', 'them', 'White', '[', '&', '#', '8230', ';', ']']], [['Tech', 'Regulation', '&', '#', '8212', ';', '‘', 'Tech', '’', ',', 'of', 'course', ',', 'has', 'all', 'of', 'this', 'complexity', ',', 'but', 'we', '’', 're', 'having', 'to', 'work', 'this', 'out', 'a', 'lot', 'more', 'quickly', '.'], ['It', 'took', '75', 'years', 'for', 'seatbelts', 'to', 'become', 'compulsory', ',', 'but', 'tech', 'has', 'gone', 'from', 'interesting', 'to', 'crucial', 'only', 'in', 'the', 'last', 'five', 'to', 'ten', 'years', '.'], ['That', 'speed', 'means', 'we', 'have', 'to', 'form', 'opinions', '[', '&', '#', '8230', ';', ']']], [['How', 'Taiwan', '&', '#', '8217', ';', 's', 'Unlikely', 'Digital', 'Minister', 'Hacked', 'the', 'Pandemic', '&', '#', '8212', ';', 'Taiwan', 'and', 'Audrey', 'Tang', 'occupy', 'a', 'unique', 'spot', 'in', 'a', 'world', ',', 'where', 'the', 'ascendance', 'of', 'the', 'internet', 'and', 'digital', 'technology', 'is', 'marked', 'by', 'the', 'twin', 'dystopias', 'of', '“', 'post-truth', '”', 'information', 'chaos', 'in', 'the', 'United', 'States', 'and', 'China', '’', 's', 'totalitarian', ',', 'technologically', 'mediated', 'surveillance-and-censorship', 'regime', '.'], ['With', 'Audrey', 'Tang', 'as', 'the', '[', '&', '#', '8230', ';', ']']], [['As', 'We', 'May', 'Code', '&', '#', '8212', ';', 'why', 'aren', '’', 't', 'we', '—', 'ostensibly', 'the', 'people', 'writing', 'software', '—', 'doing', 'more', 'with', 'AI', 'in', 'our', 'day-to-day', '?'], ['Why', 'are', 'things', 'like', 'TabNine', 'and', 'Kite', 'so', 'often', 'seen', 'as', 'curiosities', 'instead', 'of', 'game-changers', '?'], ['If', 'you', 'take', 'seriously', 'the', 'idea', 'that', 'ai', 'will', 'fundamentally', 'change', 'the', 'nature', 'of', 'many', 'occupations', 'in', 'the', '[', '&', '#', '8230', ';', ']']], [['wiki.js', '&', '#', '8212', ';', 'Portable', 'open-source', 'Javascript', 'featureful', 'wiki', '.'], ['Neural', 'Embedding', '+', 'Locality', 'Sensitive', 'Hashing', 'for', 'Logs', '&', '#', '8212', ';', 'Our', 'diff', 'solution', 'involves', 'embedding', 'each', 'line', 'into', 'a', 'low', 'dimensional', 'vector', 'and', '(', 'optionally', '“', 'fine-tuning', '”', 'or', 'updating', 'the', 'embedding', 'model', 'at', 'the', 'same', 'time', ')', ',', 'assigning', 'it', 'to', 'a', 'cluster', ',', 'and', 'identifying', 'lines', 'in', 'different', 'clusters', 'as', '“', 'different', '”', '.'], ['Locality', 'sensitive', '[', '&', '#', '8230', ';', ']']], [['OpenStreetMap', 'is', 'Having', 'a', 'Moment', '&', '#', '8212', ';', 'Apple', 'was', 'responsible', 'for', 'more', 'edits', 'in', '2019', 'than', 'Mapbox', 'accounted', 'for', 'in', 'its', 'entire', 'corporate', 'history', '.'], ['See', 'also', 'the', '2020', ':', 'Curious', 'Cases', 'of', 'Corporations', 'in', 'OpenStreetMap', 'talk', 'from', 'State', 'of', 'the', 'Map', '.'], ['(', 'via', 'Simon', 'Willison', ')', 'Drone', 'Warfare', '&', '#', '8212', ';', 'The', 'second', 'point', ',', '&', '#', '8220', ';', 'SkyNet', '&', '#', '8221', ';', ',', 'is', 'the', 'interesting', 'bit', '.'], ['Azerbaijan', 'and', '[', '&', '#', '8230', ';', ']']], [['epr', '&', '#', '8212', ';', 'Terminal/CLI', 'Epub', 'reader', '.'], ['I', 'Should', 'Have', 'Loved', 'Biology', '&', '#', '8212', ';', 'Conveys', 'well', 'the', 'magic', 'of', 'the', 'field', '.'], ['Notable', 'also', 'for', 'the', 'reference', 'to', 'A', 'Computer', 'Scientist', '&', '#', '8217', ';', 's', 'Guide', 'to', 'Cell', 'Biology', ',', 'which', 'I', 'didn', '&', '#', '8217', ';', 't', 'realise', 'existed', '.'], ['Ur-Technical', 'Debt', '&', '#', '8212', ';', 'Reviving', 'Ward', 'Cunningham', '&', '#', '8217', ';', 's', 'take', 'on', 'technical', 'debt', '.'], ['Simply', 'put', ',', 'ur-technical', 'debt', 'arises', 'when', 'my', 'ideas', 'diverge', '[', '&', '#', '8230', ';', ']']], [['If', 'software', 'is', 'such', 'stuff', 'as', 'dreams', 'are', 'made', 'on', ',', 'how', 'do', 'we', 'talk', 'about', 'nightmares', '?'], ['Software', 'is', 'not', 'the', 'tangible', ',', 'kickable', 'stuff', 'our', 'senses', 'are', 'tuned', 'to', ',', 'so', 'we', 'draw', 'on', 'metaphor', 'to', 'communicate', 'and', 'reason', 'about', 'it', '.'], ['The', '1970s', 'offered', 'up', 'spaghetti', 'code', 'to', 'describe', 'the', 'tangle', 'of', 'unstructured', 'control', 'flow', '.'], ['This', 'has', '[', '&', '#', '8230', ';', ']']], [['NDSS', 'Symposium', '2020', 'Papers', '&', '#', '8212', ';', 'Large', 'pile', 'of', 'security', 'research', 'from', 'the', '2020', 'Network', 'and', 'Distributed', 'System', 'Security', 'Symposium', ',', 'including', 'papers', 'on', 'topics', 'as', 'wide-reaching', 'as', 'hypervisor', 'fuzzing', 'and', 'The', 'Attack', 'of', 'the', 'Clones', 'Against', 'Proof-of-Authority', 'which', 'sounds', 'like', 'a', 'very', 'niche', 'Star', 'Wars', 'sequel', 'indeed', '.'], ['Liquid', 'Information', 'Flow', 'Control', '&', '#', '8212', ';', 'We', 'present', 'Lifty', ',', 'a', '[', '&', '#', '8230', ';', ']']]]\n"
     ]
    }
   ],
   "source": [
    "tokenized = []\n",
    "for doc in sents:\n",
    "    tokenized.append([word_tokenize(sent) for sent in doc])\n",
    "print(tokenized)"
   ]
  },
  {
   "source": [
    "### **Tag each token with its part of speech.**"
   ],
   "cell_type": "markdown",
   "metadata": {}
  },
  {
   "cell_type": "code",
   "execution_count": 9,
   "metadata": {},
   "outputs": [],
   "source": [
    "pos_tagged = []\n",
    "for doc in tokenized:\n",
    "    for sent in doc:\n",
    "        pos_tagged.append(pos_tag(sent))"
   ]
  },
  {
   "source": [
    "### **Word tokenize the raw text of each document and remove stop words.**"
   ],
   "cell_type": "markdown",
   "metadata": {}
  },
  {
   "cell_type": "code",
   "execution_count": 10,
   "metadata": {},
   "outputs": [],
   "source": [
    "no_stop_words = []\n",
    "for doc in docs:\n",
    "    tokens = word_tokenize(doc)\n",
    "    no_stop_words.append([token.lower() for token in tokens if token.lower() \n",
    "     not in stopwords.words('english')])"
   ]
  },
  {
   "source": [
    "### **For every document, stem all the words in the document.**"
   ],
   "cell_type": "markdown",
   "metadata": {}
  },
  {
   "cell_type": "code",
   "execution_count": 11,
   "metadata": {},
   "outputs": [],
   "source": [
    "stemmer = SnowballStemmer('english')\n",
    "stemmed = []\n",
    "for doc in docs:\n",
    "    tokens = word_tokenize(doc)\n",
    "    stemmed.append([stemmer.stem(token.lower()) for token in tokens])"
   ]
  },
  {
   "source": [
    "### Iterate through each document, computing and printing the following document statistics for each.\n",
    "\n",
    "- Number of sentences\n",
    "- Average words per sentence\n",
    "- Vocabulary\n",
    "- Lexical Diversity"
   ],
   "cell_type": "markdown",
   "metadata": {}
  },
  {
   "cell_type": "code",
   "execution_count": 12,
   "metadata": {},
   "outputs": [
    {
     "output_type": "stream",
     "name": "stdout",
     "text": [
      "Number of sentences: 3\nAverage words per sentence: 122\nVocabulary: 57\nLexical Diversity: 0.7808219178082192\n--------\nNumber of sentences: 3\nAverage words per sentence: 131\nVocabulary: 58\nLexical Diversity: 0.7733333333333333\n--------\nNumber of sentences: 13\nAverage words per sentence: 33\nVocabulary: 57\nLexical Diversity: 0.5757575757575758\n--------\nNumber of sentences: 3\nAverage words per sentence: 135\nVocabulary: 53\nLexical Diversity: 0.5578947368421052\n--------\nNumber of sentences: 3\nAverage words per sentence: 108\nVocabulary: 53\nLexical Diversity: 0.7066666666666667\n--------\nNumber of sentences: 4\nAverage words per sentence: 98\nVocabulary: 53\nLexical Diversity: 0.654320987654321\n--------\nNumber of sentences: 2\nAverage words per sentence: 173\nVocabulary: 53\nLexical Diversity: 0.7571428571428571\n--------\nNumber of sentences: 2\nAverage words per sentence: 169\nVocabulary: 56\nLexical Diversity: 0.8\n--------\nNumber of sentences: 3\nAverage words per sentence: 130\nVocabulary: 57\nLexical Diversity: 0.8507462686567164\n--------\nNumber of sentences: 2\nAverage words per sentence: 184\nVocabulary: 60\nLexical Diversity: 0.7407407407407407\n--------\nNumber of sentences: 1\nAverage words per sentence: 413\nVocabulary: 61\nLexical Diversity: 0.5495495495495496\n--------\nNumber of sentences: 4\nAverage words per sentence: 110\nVocabulary: 59\nLexical Diversity: 0.7662337662337663\n--------\nNumber of sentences: 3\nAverage words per sentence: 123\nVocabulary: 59\nLexical Diversity: 0.7195121951219512\n--------\nNumber of sentences: 4\nAverage words per sentence: 98\nVocabulary: 58\nLexical Diversity: 0.6666666666666666\n--------\nNumber of sentences: 2\nAverage words per sentence: 183\nVocabulary: 57\nLexical Diversity: 0.8028169014084507\n--------\nNumber of sentences: 3\nAverage words per sentence: 115\nVocabulary: 47\nLexical Diversity: 0.7121212121212122\n--------\nNumber of sentences: 2\nAverage words per sentence: 172\nVocabulary: 52\nLexical Diversity: 0.7536231884057971\n--------\nNumber of sentences: 2\nAverage words per sentence: 185\nVocabulary: 56\nLexical Diversity: 0.6153846153846154\n--------\nNumber of sentences: 3\nAverage words per sentence: 139\nVocabulary: 54\nLexical Diversity: 0.7714285714285715\n--------\nNumber of sentences: 2\nAverage words per sentence: 165\nVocabulary: 54\nLexical Diversity: 0.7397260273972602\n--------\nNumber of sentences: 4\nAverage words per sentence: 84\nVocabulary: 52\nLexical Diversity: 0.7536231884057971\n--------\nNumber of sentences: 4\nAverage words per sentence: 94\nVocabulary: 60\nLexical Diversity: 0.8108108108108109\n--------\nNumber of sentences: 3\nAverage words per sentence: 138\nVocabulary: 54\nLexical Diversity: 0.72\n--------\nNumber of sentences: 3\nAverage words per sentence: 118\nVocabulary: 59\nLexical Diversity: 0.7763157894736842\n--------\nNumber of sentences: 2\nAverage words per sentence: 205\nVocabulary: 54\nLexical Diversity: 0.7012987012987013\n--------\nNumber of sentences: 3\nAverage words per sentence: 122\nVocabulary: 58\nLexical Diversity: 0.8055555555555556\n--------\nNumber of sentences: 3\nAverage words per sentence: 116\nVocabulary: 51\nLexical Diversity: 0.75\n--------\nNumber of sentences: 4\nAverage words per sentence: 90\nVocabulary: 56\nLexical Diversity: 0.6363636363636364\n--------\nNumber of sentences: 2\nAverage words per sentence: 168\nVocabulary: 56\nLexical Diversity: 0.6829268292682927\n--------\nNumber of sentences: 4\nAverage words per sentence: 92\nVocabulary: 52\nLexical Diversity: 0.7647058823529411\n--------\nNumber of sentences: 3\nAverage words per sentence: 120\nVocabulary: 50\nLexical Diversity: 0.6329113924050633\n--------\nNumber of sentences: 5\nAverage words per sentence: 77\nVocabulary: 56\nLexical Diversity: 0.7272727272727273\n--------\nNumber of sentences: 4\nAverage words per sentence: 90\nVocabulary: 57\nLexical Diversity: 0.7702702702702703\n--------\nNumber of sentences: 4\nAverage words per sentence: 99\nVocabulary: 61\nLexical Diversity: 0.7093023255813954\n--------\nNumber of sentences: 4\nAverage words per sentence: 88\nVocabulary: 56\nLexical Diversity: 0.7368421052631579\n--------\nNumber of sentences: 1\nAverage words per sentence: 369\nVocabulary: 59\nLexical Diversity: 0.6629213483146067\n--------\nNumber of sentences: 4\nAverage words per sentence: 95\nVocabulary: 57\nLexical Diversity: 0.6785714285714286\n--------\nNumber of sentences: 4\nAverage words per sentence: 90\nVocabulary: 50\nLexical Diversity: 0.6410256410256411\n--------\nNumber of sentences: 1\nAverage words per sentence: 406\nVocabulary: 55\nLexical Diversity: 0.6962025316455697\n--------\nNumber of sentences: 3\nAverage words per sentence: 118\nVocabulary: 58\nLexical Diversity: 0.6904761904761905\n--------\nNumber of sentences: 3\nAverage words per sentence: 126\nVocabulary: 51\nLexical Diversity: 0.7285714285714285\n--------\nNumber of sentences: 3\nAverage words per sentence: 125\nVocabulary: 60\nLexical Diversity: 0.6818181818181818\n--------\nNumber of sentences: 5\nAverage words per sentence: 82\nVocabulary: 56\nLexical Diversity: 0.7\n--------\nNumber of sentences: 3\nAverage words per sentence: 111\nVocabulary: 53\nLexical Diversity: 0.7681159420289855\n--------\nNumber of sentences: 4\nAverage words per sentence: 93\nVocabulary: 57\nLexical Diversity: 0.7307692307692307\n--------\nNumber of sentences: 3\nAverage words per sentence: 117\nVocabulary: 55\nLexical Diversity: 0.5851063829787234\n--------\nNumber of sentences: 4\nAverage words per sentence: 81\nVocabulary: 59\nLexical Diversity: 0.7468354430379747\n--------\nNumber of sentences: 3\nAverage words per sentence: 111\nVocabulary: 59\nLexical Diversity: 0.7564102564102564\n--------\nNumber of sentences: 4\nAverage words per sentence: 95\nVocabulary: 52\nLexical Diversity: 0.6265060240963856\n--------\nNumber of sentences: 4\nAverage words per sentence: 80\nVocabulary: 51\nLexical Diversity: 0.6891891891891891\n--------\nNumber of sentences: 3\nAverage words per sentence: 122\nVocabulary: 45\nLexical Diversity: 0.6521739130434783\n--------\nNumber of sentences: 3\nAverage words per sentence: 125\nVocabulary: 55\nLexical Diversity: 0.6790123456790124\n--------\nNumber of sentences: 3\nAverage words per sentence: 103\nVocabulary: 54\nLexical Diversity: 0.7297297297297297\n--------\nNumber of sentences: 2\nAverage words per sentence: 198\nVocabulary: 54\nLexical Diversity: 0.7105263157894737\n--------\nNumber of sentences: 3\nAverage words per sentence: 107\nVocabulary: 54\nLexical Diversity: 0.7941176470588235\n--------\nNumber of sentences: 3\nAverage words per sentence: 133\nVocabulary: 58\nLexical Diversity: 0.7532467532467533\n--------\nNumber of sentences: 4\nAverage words per sentence: 92\nVocabulary: 58\nLexical Diversity: 0.6987951807228916\n--------\nNumber of sentences: 5\nAverage words per sentence: 76\nVocabulary: 56\nLexical Diversity: 0.6153846153846154\n--------\nNumber of sentences: 4\nAverage words per sentence: 79\nVocabulary: 53\nLexical Diversity: 0.7910447761194029\n--------\nNumber of sentences: 2\nAverage words per sentence: 189\nVocabulary: 52\nLexical Diversity: 0.7428571428571429\n--------\n"
     ]
    }
   ],
   "source": [
    "for doc in docs:\n",
    "    sents = sent_tokenize(doc)\n",
    "    words = word_tokenize(doc)\n",
    "    avg_words_sent = sum([len(sent) for sent in sents])/ len(sents)\n",
    "    vocab = len(set([word.lower() for word in words]))\n",
    "    print(f'Number of sentences: {len(sents)}')\n",
    "    print(f'Average words per sentence: {round(avg_words_sent)}')\n",
    "    print(f'Vocabulary: {vocab}')\n",
    "    print(f'Lexical Diversity: {vocab/len(words)}')\n",
    "    print('--------')"
   ]
  }
 ]
}