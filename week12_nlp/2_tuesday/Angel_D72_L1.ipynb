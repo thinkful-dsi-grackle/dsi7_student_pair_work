{
  "nbformat": 4,
  "nbformat_minor": 0,
  "metadata": {
    "kernelspec": {
      "display_name": "Python 3",
      "language": "python",
      "name": "python3"
    },
    "language_info": {
      "codemirror_mode": {
        "name": "ipython",
        "version": 3
      },
      "file_extension": ".py",
      "mimetype": "text/x-python",
      "name": "python",
      "nbconvert_exporter": "python",
      "pygments_lexer": "ipython3",
      "version": "3.7.2"
    },
    "colab": {
      "name": "Angel_D72_L1.ipynb",
      "provenance": []
    }
  },
  "cells": [
    {
      "cell_type": "markdown",
      "metadata": {
        "id": "_iCUbt7u4JIO"
      },
      "source": [
        "# Text Data Cleaning and Preprocessing Assignment"
      ]
    },
    {
      "cell_type": "code",
      "metadata": {
        "id": "wuqMJsi-4JIS"
      },
      "source": [
        "from nltk.corpus.reader.plaintext import PlaintextCorpusReader\n",
        "from nltk import sent_tokenize\n",
        "from nltk import word_tokenize\n",
        "from nltk import pos_tag\n",
        "from nltk.corpus import stopwords\n",
        "from nltk.stem.snowball import SnowballStemmer\n",
        "from nltk.stem.wordnet import WordNetLemmatizer"
      ],
      "execution_count": 1,
      "outputs": []
    },
    {
      "cell_type": "code",
      "metadata": {
        "colab": {
          "base_uri": "https://localhost:8080/"
        },
        "id": "4rKbnGsGYdud",
        "outputId": "5b6da9ab-e788-40db-ee6d-90dc8fe916f5"
      },
      "source": [
        "import nltk\r\n",
        "nltk.download('punkt')\r\n",
        "nltk.download('averaged_perceptron_tagger')\r\n",
        "nltk.download('stopwords')"
      ],
      "execution_count": 14,
      "outputs": [
        {
          "output_type": "stream",
          "text": [
            "[nltk_data] Downloading package punkt to /root/nltk_data...\n",
            "[nltk_data]   Package punkt is already up-to-date!\n",
            "[nltk_data] Downloading package averaged_perceptron_tagger to\n",
            "[nltk_data]     /root/nltk_data...\n",
            "[nltk_data]   Package averaged_perceptron_tagger is already up-to-\n",
            "[nltk_data]       date!\n",
            "[nltk_data] Downloading package stopwords to /root/nltk_data...\n",
            "[nltk_data]   Unzipping corpora/stopwords.zip.\n"
          ],
          "name": "stdout"
        },
        {
          "output_type": "execute_result",
          "data": {
            "text/plain": [
              "True"
            ]
          },
          "metadata": {
            "tags": []
          },
          "execution_count": 14
        }
      ]
    },
    {
      "cell_type": "markdown",
      "metadata": {
        "id": "fCY5p4L54JIY"
      },
      "source": [
        "### Read the O'Reilly RSS plain text file articles into a corpus using the NLTK's PlaintextCorpusReader."
      ]
    },
    {
      "cell_type": "code",
      "metadata": {
        "colab": {
          "base_uri": "https://localhost:8080/"
        },
        "id": "Rqo3_2yeSjSk",
        "outputId": "7a5d38a6-ca49-4215-e274-7f9d49340236"
      },
      "source": [
        "from google.colab import drive\n",
        "drive.mount('/content/drive')"
      ],
      "execution_count": 3,
      "outputs": [
        {
          "output_type": "stream",
          "text": [
            "Drive already mounted at /content/drive; to attempt to forcibly remount, call drive.mount(\"/content/drive\", force_remount=True).\n"
          ],
          "name": "stdout"
        }
      ]
    },
    {
      "cell_type": "code",
      "metadata": {
        "id": "lmNkoVRZ4JIc"
      },
      "source": [
        "PATH = '/content/drive/MyDrive/RSS_Articles/'\r\n",
        "\r\n",
        "DOC_PATTERN = r'.*\\.txt'\r\n",
        "corpus = PlaintextCorpusReader(PATH, DOC_PATTERN)"
      ],
      "execution_count": 4,
      "outputs": []
    },
    {
      "cell_type": "markdown",
      "metadata": {
        "id": "MJI6AbGA4JIg"
      },
      "source": [
        "### Iterate through the fileids in the corpus, extract the raw text of each document, and store them in a list."
      ]
    },
    {
      "cell_type": "code",
      "metadata": {
        "id": "UL7Cjcby4JIi"
      },
      "source": [
        "docs = [corpus.raw(fileid) for fileid in corpus.fileids()]"
      ],
      "execution_count": 5,
      "outputs": []
    },
    {
      "cell_type": "markdown",
      "metadata": {
        "id": "O7JuwNTW4JIn"
      },
      "source": [
        "### Sentence tokenize each document in the list of documents."
      ]
    },
    {
      "cell_type": "code",
      "metadata": {
        "id": "8zbqurmN4JIp"
      },
      "source": [
        "sents = [sent_tokenize(doc) for doc in docs]\r\n",
        "sents"
      ],
      "execution_count": null,
      "outputs": []
    },
    {
      "cell_type": "markdown",
      "metadata": {
        "id": "nqT7V6zZ4JIu"
      },
      "source": [
        "### Word tokenize each sentence within each document.\n",
        "\n",
        "You should end up with a nested list structure where the outer list contains all the sentences in each document and the inner list contains the tokenized sentences."
      ]
    },
    {
      "cell_type": "code",
      "metadata": {
        "id": "XfgJydhDoDY_"
      },
      "source": [
        "#word_tokenized = []\r\n",
        "#for doc in sents:\r\n",
        "#  temp = []\r\n",
        "#  for sent in doc:\r\n",
        "#    temp.append(word_tokenize(sent))\r\n",
        "#  word_tokenized.append(temp)"
      ],
      "execution_count": 7,
      "outputs": []
    },
    {
      "cell_type": "code",
      "metadata": {
        "id": "bUMFvmu3pBm3"
      },
      "source": [
        "word_tokenized = [[word_tokenize(sent) for sent in doc] for doc in sents]\r\n",
        "word_tokenized"
      ],
      "execution_count": null,
      "outputs": []
    },
    {
      "cell_type": "markdown",
      "metadata": {
        "id": "Pk1r_y4C4JIz"
      },
      "source": [
        "### Tag each token with its part of speech."
      ]
    },
    {
      "cell_type": "code",
      "metadata": {
        "id": "Flze4fS-4JI0"
      },
      "source": [
        "tagged = [[pos_tag(sent) for sent in doc] for doc in word_tokenized]"
      ],
      "execution_count": 11,
      "outputs": []
    },
    {
      "cell_type": "markdown",
      "metadata": {
        "id": "NmIltOA44JI5"
      },
      "source": [
        "### Word tokenize the raw text of each document and remove stop words."
      ]
    },
    {
      "cell_type": "code",
      "metadata": {
        "id": "ZVUcQFkJ4JI7"
      },
      "source": [
        "no_stopwords = [[token.lower() for token in word_tokenize(doc) if token.lower() not in stopwords.words('english')] for doc in docs]\r\n",
        "no_stopwords"
      ],
      "execution_count": null,
      "outputs": []
    },
    {
      "cell_type": "markdown",
      "metadata": {
        "id": "IAZggM574JI_"
      },
      "source": [
        "### For every document, stem all the words in the document."
      ]
    },
    {
      "cell_type": "code",
      "metadata": {
        "id": "JgLS7PPD4JJB"
      },
      "source": [
        "stemmer = SnowballStemmer('english')\r\n",
        "stemmed = [[stemmer.stem(token) for token in word_tokenize(doc)] for doc in docs]\r\n",
        "stemmed"
      ],
      "execution_count": null,
      "outputs": []
    },
    {
      "cell_type": "markdown",
      "metadata": {
        "id": "b2N4mHrZ4JJQ"
      },
      "source": [
        "### Iterate through each document, computing and printing the following document statistics for each.\n",
        "\n",
        "- Number of sentences\n",
        "- Average words per sentence\n",
        "- Vocabulary\n",
        "- Lexical Diversity"
      ]
    },
    {
      "cell_type": "code",
      "metadata": {
        "scrolled": false,
        "id": "7kBjbVZb4JJR",
        "colab": {
          "base_uri": "https://localhost:8080/"
        },
        "outputId": "d4c1db84-449b-48ba-8650-23eba37e576f"
      },
      "source": [
        "len(docs)"
      ],
      "execution_count": 21,
      "outputs": [
        {
          "output_type": "execute_result",
          "data": {
            "text/plain": [
              "60"
            ]
          },
          "metadata": {
            "tags": []
          },
          "execution_count": 21
        }
      ]
    },
    {
      "cell_type": "code",
      "metadata": {
        "colab": {
          "base_uri": "https://localhost:8080/",
          "height": 70
        },
        "id": "U8OHh0EOAT9M",
        "outputId": "31ec19d8-b862-4c5d-c656-db84277caa0d"
      },
      "source": [
        "docs[0]"
      ],
      "execution_count": 40,
      "outputs": [
        {
          "output_type": "execute_result",
          "data": {
            "application/vnd.google.colaboratory.intrinsic+json": {
              "type": "string"
            },
            "text/plain": [
              "'2020 has been a year of great challenges for so many, but it’s not all negative. Around the world, organizations and their workforces have risen to the occasion, recognizing the importance of expanding their knowledge, taking on new tasks, and bettering themselves both personally and professionally. With the uptick in virtual conferencing, remote work, and, [&#8230;]'"
            ]
          },
          "metadata": {
            "tags": []
          },
          "execution_count": 40
        }
      ]
    },
    {
      "cell_type": "code",
      "metadata": {
        "colab": {
          "base_uri": "https://localhost:8080/"
        },
        "id": "tnm7vJVk78SG",
        "outputId": "a1e20227-7c7c-4349-e2dd-822efa352793"
      },
      "source": [
        "# docs is the raw text from each document\r\n",
        "for doc in docs:\r\n",
        "  sents = sent_tokenize(doc)\r\n",
        "  word_tokenized = [word_tokenize(sent) for sent in sents]\r\n",
        "  number_of_sentences = len(sents)\r\n",
        "  avg_words_per_sent = sum([len(sent) for sent in word_tokenized]) / sentences\r\n",
        "  vocab = len(set([word.lower() for word in word_tokenize(doc)]))\r\n",
        "  lex_div = vocab / len(word_tokenize(doc))\r\n",
        "  print(f'Number of sentences: {number_of_sentences}')\r\n",
        "  print(f'Avg. number of words per sentence: {avg_words_per_sent}')\r\n",
        "  print(f'Vocabulary Count: {vocab}')\r\n",
        "  print(f'Lexicon diversity: {lex_div}')\r\n",
        "  print('------------------------------')"
      ],
      "execution_count": 42,
      "outputs": [
        {
          "output_type": "stream",
          "text": [
            "Number of sentences: 3\n",
            "Avg. number of words per sentence: 36.5\n",
            "Vocabulary Count: 57\n",
            "Lexicon diversity: 0.7808219178082192\n",
            "------------------------------\n",
            "Number of sentences: 3\n",
            "Avg. number of words per sentence: 37.5\n",
            "Vocabulary Count: 58\n",
            "Lexicon diversity: 0.7733333333333333\n",
            "------------------------------\n",
            "Number of sentences: 13\n",
            "Avg. number of words per sentence: 49.5\n",
            "Vocabulary Count: 57\n",
            "Lexicon diversity: 0.5757575757575758\n",
            "------------------------------\n",
            "Number of sentences: 3\n",
            "Avg. number of words per sentence: 47.5\n",
            "Vocabulary Count: 53\n",
            "Lexicon diversity: 0.5578947368421052\n",
            "------------------------------\n",
            "Number of sentences: 3\n",
            "Avg. number of words per sentence: 37.5\n",
            "Vocabulary Count: 53\n",
            "Lexicon diversity: 0.7066666666666667\n",
            "------------------------------\n",
            "Number of sentences: 4\n",
            "Avg. number of words per sentence: 40.5\n",
            "Vocabulary Count: 53\n",
            "Lexicon diversity: 0.654320987654321\n",
            "------------------------------\n",
            "Number of sentences: 2\n",
            "Avg. number of words per sentence: 35.0\n",
            "Vocabulary Count: 53\n",
            "Lexicon diversity: 0.7571428571428571\n",
            "------------------------------\n",
            "Number of sentences: 2\n",
            "Avg. number of words per sentence: 35.0\n",
            "Vocabulary Count: 56\n",
            "Lexicon diversity: 0.8\n",
            "------------------------------\n",
            "Number of sentences: 3\n",
            "Avg. number of words per sentence: 33.5\n",
            "Vocabulary Count: 57\n",
            "Lexicon diversity: 0.8507462686567164\n",
            "------------------------------\n",
            "Number of sentences: 2\n",
            "Avg. number of words per sentence: 40.5\n",
            "Vocabulary Count: 60\n",
            "Lexicon diversity: 0.7407407407407407\n",
            "------------------------------\n",
            "Number of sentences: 1\n",
            "Avg. number of words per sentence: 55.5\n",
            "Vocabulary Count: 61\n",
            "Lexicon diversity: 0.5495495495495496\n",
            "------------------------------\n",
            "Number of sentences: 4\n",
            "Avg. number of words per sentence: 38.5\n",
            "Vocabulary Count: 59\n",
            "Lexicon diversity: 0.7662337662337663\n",
            "------------------------------\n",
            "Number of sentences: 3\n",
            "Avg. number of words per sentence: 41.0\n",
            "Vocabulary Count: 59\n",
            "Lexicon diversity: 0.7195121951219512\n",
            "------------------------------\n",
            "Number of sentences: 4\n",
            "Avg. number of words per sentence: 43.5\n",
            "Vocabulary Count: 58\n",
            "Lexicon diversity: 0.6666666666666666\n",
            "------------------------------\n",
            "Number of sentences: 2\n",
            "Avg. number of words per sentence: 35.5\n",
            "Vocabulary Count: 57\n",
            "Lexicon diversity: 0.8028169014084507\n",
            "------------------------------\n",
            "Number of sentences: 3\n",
            "Avg. number of words per sentence: 33.0\n",
            "Vocabulary Count: 47\n",
            "Lexicon diversity: 0.7121212121212122\n",
            "------------------------------\n",
            "Number of sentences: 2\n",
            "Avg. number of words per sentence: 34.5\n",
            "Vocabulary Count: 52\n",
            "Lexicon diversity: 0.7536231884057971\n",
            "------------------------------\n",
            "Number of sentences: 2\n",
            "Avg. number of words per sentence: 45.5\n",
            "Vocabulary Count: 56\n",
            "Lexicon diversity: 0.6153846153846154\n",
            "------------------------------\n",
            "Number of sentences: 3\n",
            "Avg. number of words per sentence: 35.0\n",
            "Vocabulary Count: 54\n",
            "Lexicon diversity: 0.7714285714285715\n",
            "------------------------------\n",
            "Number of sentences: 2\n",
            "Avg. number of words per sentence: 36.5\n",
            "Vocabulary Count: 54\n",
            "Lexicon diversity: 0.7397260273972602\n",
            "------------------------------\n",
            "Number of sentences: 4\n",
            "Avg. number of words per sentence: 34.5\n",
            "Vocabulary Count: 52\n",
            "Lexicon diversity: 0.7536231884057971\n",
            "------------------------------\n",
            "Number of sentences: 4\n",
            "Avg. number of words per sentence: 37.0\n",
            "Vocabulary Count: 60\n",
            "Lexicon diversity: 0.8108108108108109\n",
            "------------------------------\n",
            "Number of sentences: 3\n",
            "Avg. number of words per sentence: 37.5\n",
            "Vocabulary Count: 54\n",
            "Lexicon diversity: 0.72\n",
            "------------------------------\n",
            "Number of sentences: 3\n",
            "Avg. number of words per sentence: 38.0\n",
            "Vocabulary Count: 59\n",
            "Lexicon diversity: 0.7763157894736842\n",
            "------------------------------\n",
            "Number of sentences: 2\n",
            "Avg. number of words per sentence: 38.5\n",
            "Vocabulary Count: 54\n",
            "Lexicon diversity: 0.7012987012987013\n",
            "------------------------------\n",
            "Number of sentences: 3\n",
            "Avg. number of words per sentence: 36.0\n",
            "Vocabulary Count: 58\n",
            "Lexicon diversity: 0.8055555555555556\n",
            "------------------------------\n",
            "Number of sentences: 3\n",
            "Avg. number of words per sentence: 34.0\n",
            "Vocabulary Count: 51\n",
            "Lexicon diversity: 0.75\n",
            "------------------------------\n",
            "Number of sentences: 4\n",
            "Avg. number of words per sentence: 44.0\n",
            "Vocabulary Count: 56\n",
            "Lexicon diversity: 0.6363636363636364\n",
            "------------------------------\n",
            "Number of sentences: 2\n",
            "Avg. number of words per sentence: 41.0\n",
            "Vocabulary Count: 56\n",
            "Lexicon diversity: 0.6829268292682927\n",
            "------------------------------\n",
            "Number of sentences: 4\n",
            "Avg. number of words per sentence: 34.0\n",
            "Vocabulary Count: 52\n",
            "Lexicon diversity: 0.7647058823529411\n",
            "------------------------------\n",
            "Number of sentences: 3\n",
            "Avg. number of words per sentence: 39.5\n",
            "Vocabulary Count: 50\n",
            "Lexicon diversity: 0.6329113924050633\n",
            "------------------------------\n",
            "Number of sentences: 5\n",
            "Avg. number of words per sentence: 38.5\n",
            "Vocabulary Count: 56\n",
            "Lexicon diversity: 0.7272727272727273\n",
            "------------------------------\n",
            "Number of sentences: 4\n",
            "Avg. number of words per sentence: 37.0\n",
            "Vocabulary Count: 57\n",
            "Lexicon diversity: 0.7702702702702703\n",
            "------------------------------\n",
            "Number of sentences: 4\n",
            "Avg. number of words per sentence: 43.0\n",
            "Vocabulary Count: 61\n",
            "Lexicon diversity: 0.7093023255813954\n",
            "------------------------------\n",
            "Number of sentences: 4\n",
            "Avg. number of words per sentence: 38.0\n",
            "Vocabulary Count: 56\n",
            "Lexicon diversity: 0.7368421052631579\n",
            "------------------------------\n",
            "Number of sentences: 1\n",
            "Avg. number of words per sentence: 44.5\n",
            "Vocabulary Count: 59\n",
            "Lexicon diversity: 0.6629213483146067\n",
            "------------------------------\n",
            "Number of sentences: 4\n",
            "Avg. number of words per sentence: 42.0\n",
            "Vocabulary Count: 57\n",
            "Lexicon diversity: 0.6785714285714286\n",
            "------------------------------\n",
            "Number of sentences: 4\n",
            "Avg. number of words per sentence: 39.0\n",
            "Vocabulary Count: 50\n",
            "Lexicon diversity: 0.6410256410256411\n",
            "------------------------------\n",
            "Number of sentences: 1\n",
            "Avg. number of words per sentence: 39.5\n",
            "Vocabulary Count: 55\n",
            "Lexicon diversity: 0.6962025316455697\n",
            "------------------------------\n",
            "Number of sentences: 3\n",
            "Avg. number of words per sentence: 42.0\n",
            "Vocabulary Count: 58\n",
            "Lexicon diversity: 0.6904761904761905\n",
            "------------------------------\n",
            "Number of sentences: 3\n",
            "Avg. number of words per sentence: 35.0\n",
            "Vocabulary Count: 51\n",
            "Lexicon diversity: 0.7285714285714285\n",
            "------------------------------\n",
            "Number of sentences: 3\n",
            "Avg. number of words per sentence: 44.0\n",
            "Vocabulary Count: 60\n",
            "Lexicon diversity: 0.6818181818181818\n",
            "------------------------------\n",
            "Number of sentences: 5\n",
            "Avg. number of words per sentence: 40.0\n",
            "Vocabulary Count: 56\n",
            "Lexicon diversity: 0.7\n",
            "------------------------------\n",
            "Number of sentences: 3\n",
            "Avg. number of words per sentence: 34.5\n",
            "Vocabulary Count: 53\n",
            "Lexicon diversity: 0.7681159420289855\n",
            "------------------------------\n",
            "Number of sentences: 4\n",
            "Avg. number of words per sentence: 39.0\n",
            "Vocabulary Count: 57\n",
            "Lexicon diversity: 0.7307692307692307\n",
            "------------------------------\n",
            "Number of sentences: 3\n",
            "Avg. number of words per sentence: 47.0\n",
            "Vocabulary Count: 55\n",
            "Lexicon diversity: 0.5851063829787234\n",
            "------------------------------\n",
            "Number of sentences: 4\n",
            "Avg. number of words per sentence: 39.5\n",
            "Vocabulary Count: 59\n",
            "Lexicon diversity: 0.7468354430379747\n",
            "------------------------------\n",
            "Number of sentences: 3\n",
            "Avg. number of words per sentence: 39.0\n",
            "Vocabulary Count: 59\n",
            "Lexicon diversity: 0.7564102564102564\n",
            "------------------------------\n",
            "Number of sentences: 4\n",
            "Avg. number of words per sentence: 41.5\n",
            "Vocabulary Count: 52\n",
            "Lexicon diversity: 0.6265060240963856\n",
            "------------------------------\n",
            "Number of sentences: 4\n",
            "Avg. number of words per sentence: 37.0\n",
            "Vocabulary Count: 51\n",
            "Lexicon diversity: 0.6891891891891891\n",
            "------------------------------\n",
            "Number of sentences: 3\n",
            "Avg. number of words per sentence: 34.5\n",
            "Vocabulary Count: 45\n",
            "Lexicon diversity: 0.6521739130434783\n",
            "------------------------------\n",
            "Number of sentences: 3\n",
            "Avg. number of words per sentence: 40.5\n",
            "Vocabulary Count: 55\n",
            "Lexicon diversity: 0.6790123456790124\n",
            "------------------------------\n",
            "Number of sentences: 3\n",
            "Avg. number of words per sentence: 37.0\n",
            "Vocabulary Count: 54\n",
            "Lexicon diversity: 0.7297297297297297\n",
            "------------------------------\n",
            "Number of sentences: 2\n",
            "Avg. number of words per sentence: 38.0\n",
            "Vocabulary Count: 54\n",
            "Lexicon diversity: 0.7105263157894737\n",
            "------------------------------\n",
            "Number of sentences: 3\n",
            "Avg. number of words per sentence: 34.0\n",
            "Vocabulary Count: 54\n",
            "Lexicon diversity: 0.7941176470588235\n",
            "------------------------------\n",
            "Number of sentences: 3\n",
            "Avg. number of words per sentence: 38.5\n",
            "Vocabulary Count: 58\n",
            "Lexicon diversity: 0.7532467532467533\n",
            "------------------------------\n",
            "Number of sentences: 4\n",
            "Avg. number of words per sentence: 41.5\n",
            "Vocabulary Count: 58\n",
            "Lexicon diversity: 0.6987951807228916\n",
            "------------------------------\n",
            "Number of sentences: 5\n",
            "Avg. number of words per sentence: 45.5\n",
            "Vocabulary Count: 56\n",
            "Lexicon diversity: 0.6153846153846154\n",
            "------------------------------\n",
            "Number of sentences: 4\n",
            "Avg. number of words per sentence: 33.5\n",
            "Vocabulary Count: 53\n",
            "Lexicon diversity: 0.7910447761194029\n",
            "------------------------------\n",
            "Number of sentences: 2\n",
            "Avg. number of words per sentence: 35.0\n",
            "Vocabulary Count: 52\n",
            "Lexicon diversity: 0.7428571428571429\n",
            "------------------------------\n"
          ],
          "name": "stdout"
        }
      ]
    },
    {
      "cell_type": "code",
      "metadata": {
        "id": "1gVUWSYY-SHR"
      },
      "source": [
        ""
      ],
      "execution_count": null,
      "outputs": []
    }
  ]
}